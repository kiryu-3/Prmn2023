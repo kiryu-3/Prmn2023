{
  "nbformat": 4,
  "nbformat_minor": 0,
  "metadata": {
    "colab": {
      "provenance": [],
      "authorship_tag": "ABX9TyNu+upwvkiAv9R335pNoM5j",
      "include_colab_link": true
    },
    "kernelspec": {
      "name": "python3",
      "display_name": "Python 3"
    },
    "language_info": {
      "name": "python"
    }
  },
  "cells": [
    {
      "cell_type": "markdown",
      "metadata": {
        "id": "view-in-github",
        "colab_type": "text"
      },
      "source": [
        "<a href=\"https://colab.research.google.com/github/kiryu-3/Prmn2023/blob/main/Prmn2023/Python/Python_Machine/Machine_Learning_6_1.ipynb\" target=\"_parent\"><img src=\"https://colab.research.google.com/assets/colab-badge.svg\" alt=\"Open In Colab\"/></a>"
      ]
    },
    {
      "cell_type": "markdown",
      "source": [
        "# ロジスティック回帰ー知識編"
      ],
      "metadata": {
        "id": "3JB9kxUhNfJr"
      }
    },
    {
      "cell_type": "code",
      "source": [
        "# 最初にインポートしてください\n",
        "import numpy as np\n",
        "import pandas as pd\n",
        "import matplotlib.pyplot as plt\n",
        "import seaborn as sns\n",
        "from sklearn.linear_model import Ridge, Lasso, LinearRegression\n",
        "from sklearn.metrics import mean_squared_error\n",
        "from sklearn.metrics import r2_score\n",
        "from sklearn.model_selection import KFold, RepeatedKFold, cross_val_score\n",
        "from sklearn.model_selection import train_test_split\n",
        "from sklearn.datasets import fetch_openml\n",
        "from sklearn.preprocessing import PolynomialFeatures\n",
        "from sklearn.neighbors import KNeighborsRegressor"
      ],
      "metadata": {
        "id": "ZXxq2uhI0QIt"
      },
      "execution_count": null,
      "outputs": []
    },
    {
      "cell_type": "markdown",
      "source": [
        "## 説明変数と目的変数"
      ],
      "metadata": {
        "id": "pKXFjOs6R-Bn"
      }
    },
    {
      "cell_type": "markdown",
      "source": [
        "「何かの原因となっている変数」を**説明変数**、  \n",
        "「その原因を受けて発生した結果となっている変数」を**目的変数**、  \n",
        "といいます。"
      ],
      "metadata": {
        "id": "f6joGibHSBOG"
      }
    },
    {
      "cell_type": "markdown",
      "source": [
        "説明変数と目的変数にはいくつかの表現があります。  \n",
        "詳しくは[こちら](https://bit.ly/3kl6M6S)を参照してください。"
      ],
      "metadata": {
        "id": "gkIsmuOsSWXO"
      }
    },
    {
      "cell_type": "markdown",
      "source": [
        "## 分類"
      ],
      "metadata": {
        "id": "itgt_BLe6hbC"
      }
    },
    {
      "cell_type": "markdown",
      "source": [
        "目的変数を**質的変数**として、カテゴリーやクラス、ラベルと呼ばれる\"種類\"を判別する  \n",
        "機械学習のアルゴリズムを、**分類**といいます。\n",
        "\n",
        "回帰の時は、目的変数が量的変数でしたが、分類の時は**目的変数が質的変数**となります。"
      ],
      "metadata": {
        "id": "cDSVjrbW6jAq"
      }
    },
    {
      "cell_type": "markdown",
      "source": [
        "例えば、画像を見て犬と猫を判別したり、花弁やがく片のデータから花の種類を予測したりするのが  \n",
        "分類タスクの一種です。\n"
      ],
      "metadata": {
        "id": "DYlvuzZf8uCX"
      }
    },
    {
      "cell_type": "markdown",
      "source": [
        "分類タスクでは、以下のような決定境界を作ってデータを分類することを目的とします。  \n",
        "決定境界は、アルゴリズムによって線形だったり（左図）非線形だったり（右図）します。\n",
        "\n",
        "このような、決定境界を引く機械学習モデルを**分類器**(classfier)といいます。\n",
        "\n",
        "![](https://imgur.com/vMf7XKk.png)"
      ],
      "metadata": {
        "id": "EILLrxSOIdnT"
      }
    },
    {
      "cell_type": "markdown",
      "source": [
        "## 二値分類"
      ],
      "metadata": {
        "id": "FSq9uCYSJBXZ"
      }
    },
    {
      "cell_type": "markdown",
      "source": [
        "目的変数を0か1の2値として扱う分類アルゴリズムを、**二値分類**といいます。\n",
        "\n",
        "回帰の場合、予測値が0～1の範囲を超えてしまいます。  \n",
        "予測の結果が0～1の間であれば、予測結果を**\"確率\"**として解釈することができます。\n",
        "\n"
      ],
      "metadata": {
        "id": "CmhFVNEAJDpQ"
      }
    },
    {
      "cell_type": "markdown",
      "source": [
        "![](https://imgur.com/xr73YHV.png)"
      ],
      "metadata": {
        "id": "xCEeCX8_OAjv"
      }
    },
    {
      "cell_type": "markdown",
      "source": [
        "## ロジスティック回帰"
      ],
      "metadata": {
        "id": "RyOBEuBX7bv0"
      }
    },
    {
      "cell_type": "markdown",
      "source": [
        "分類アルゴリズムの内、最も基本のアルゴリズムが**ロジスティック回帰**です。  \n",
        "\"回帰\"という名前が付いていますが、分類のアルゴリズムです。"
      ],
      "metadata": {
        "id": "dx7gymMv7ddr"
      }
    },
    {
      "cell_type": "markdown",
      "source": [
        "### シグモイド関数"
      ],
      "metadata": {
        "id": "4b6dt8ow8akb"
      }
    },
    {
      "cell_type": "markdown",
      "source": [
        "線形の回帰式を分類で使うような曲線に変換する関数が、**シグモイド関数**です。\n",
        "\n",
        "$$\n",
        "z=\\frac{1}{1+e^{-x}}\n",
        "$$"
      ],
      "metadata": {
        "id": "SOAU8a6a8cQK"
      }
    },
    {
      "cell_type": "markdown",
      "source": [
        "描画すると以下のようになります。"
      ],
      "metadata": {
        "id": "3Sq84X9O9EbR"
      }
    },
    {
      "cell_type": "code",
      "source": [
        "# シグモイド関数のplot\n",
        "\n",
        "x = np.linspace(-10 , 10 , 100)\n",
        "z = 1 / (1 + np.exp(-x))\n",
        "plt.plot(x,z)"
      ],
      "metadata": {
        "id": "e7A8eIL99KCm",
        "colab": {
          "base_uri": "https://localhost:8080/",
          "height": 447
        },
        "outputId": "959cabc7-f41a-446a-83c7-97dc8a7b695e"
      },
      "execution_count": null,
      "outputs": [
        {
          "output_type": "execute_result",
          "data": {
            "text/plain": [
              "[<matplotlib.lines.Line2D at 0x7b64cfe87850>]"
            ]
          },
          "metadata": {},
          "execution_count": 2
        },
        {
          "output_type": "display_data",
          "data": {
            "text/plain": [
              "<Figure size 640x480 with 1 Axes>"
            ],
            "image/png": "[encoded data removed]"
          },
          "metadata": {}
        }
      ]
    },
    {
      "cell_type": "markdown",
      "source": [
        "![](https://imgur.com/ftmcJGl.png)"
      ],
      "metadata": {
        "id": "y-w1rI6Z9SJZ"
      }
    },
    {
      "cell_type": "markdown",
      "source": [
        "シグモイド関数は、どのような$x$を入れても、  \n",
        "その結果$z$は0から1の間に収まります。\n",
        "\n"
      ],
      "metadata": {
        "id": "az1WOBan9qiI"
      }
    },
    {
      "cell_type": "markdown",
      "source": [
        "回帰式$\\hat{f}(x)=\\theta_0+\\theta_1x$をシグモイド関数の$x$に入れてみましょう。  \n",
        "（参考：https://shorturl.at/bcJW2 ）\n",
        "\n",
        "![](https://imgur.com/2GLRbJK.png)"
      ],
      "metadata": {
        "id": "-U2xu-YbAKZ8"
      }
    },
    {
      "cell_type": "markdown",
      "source": [
        "線形回帰の結果を0～1に収めることができました。"
      ],
      "metadata": {
        "id": "1S7In0cv_oS9"
      }
    },
    {
      "cell_type": "markdown",
      "source": [
        "このことを踏まえて、ロジスティック回帰の数式モデルは以下になります。\n",
        "\n",
        "$$\n",
        "p(x)=\\frac{1}{1+e^{-(\\theta_0+\\theta_1x)}}\n",
        "$$\n",
        "\n",
        "ロジスティック回帰の結果は、そのまま確率として扱うことができます。  \n",
        "特徴量が複数あっても同じです。"
      ],
      "metadata": {
        "id": "0_n4TKFPA12q"
      }
    },
    {
      "cell_type": "markdown",
      "source": [
        "### 交差エントロピー"
      ],
      "metadata": {
        "id": "aRkCAhfZGr1i"
      }
    },
    {
      "cell_type": "markdown",
      "source": [
        "ロジスティック回帰では、先ほどの式$p(x)$におけるパラメータ$\\theta$を求めることになります。\n",
        "\n",
        "求めるためには**損失関数**が必要です。"
      ],
      "metadata": {
        "id": "BZNMNUsNGxOh"
      }
    },
    {
      "cell_type": "markdown",
      "source": [
        "線形回帰の時はMSEを損失関数としていました（最小二乗法）。\n",
        "\n",
        "しかし、$p(x)$はかなり複雑な式でしたが、  \n",
        "二乗をかますとさらに複雑な計算が必要になってしまいます。  \n"
      ],
      "metadata": {
        "id": "DXFlEiUaHdDm"
      }
    },
    {
      "cell_type": "markdown",
      "source": [
        "そこで、ロジスティック回帰の際は別の損失関数を使います。\n",
        "\n",
        "ここで、損失関数の一部に  \n",
        "**交差エントロピー(cross entropy)**と呼ばれる損失を使います。"
      ],
      "metadata": {
        "id": "zNCUgcgZInV1"
      }
    },
    {
      "cell_type": "markdown",
      "source": [
        "\n",
        "\n",
        "データ$i$における損失を$Cost(p(x_i), y_i)$とすると、  \n",
        "交差エントロピーは以下のように表されます。\n",
        "\n",
        "$$\n",
        "\\begin{equation}\n",
        "Cost(p(x_i), y_i)=\\left\\{\n",
        "\\begin{aligned}\n",
        "-log(p(x_i)) & \\qquad\\text{if}\\:y_i=1\\\\\n",
        "-log(1-p(x_i)) & \\qquad\\text{if}\\:y_i=0\\\\\n",
        "\\end{aligned}\n",
        "\\right.\n",
        "\\end{equation}\n",
        "$$\n"
      ],
      "metadata": {
        "id": "XZbHx4cJIvuu"
      }
    },
    {
      "cell_type": "markdown",
      "source": [
        "#### 真の値が1の時"
      ],
      "metadata": {
        "id": "XRTnwaOYKPVk"
      }
    },
    {
      "cell_type": "markdown",
      "source": [
        "$y_i=1$のときの損失、$-log(p(x_i))$は以下のようなグラフになります。\n",
        "\n",
        "（参考：https://shorturl.at/tAHUX ）\n",
        "\n",
        "![](https://imgur.com/wq2Vs0F.png)"
      ],
      "metadata": {
        "id": "81bD7QBOKbV5"
      }
    },
    {
      "cell_type": "markdown",
      "source": [
        "- $p(x_i)$は0～1の値しか取らない\n",
        "- $p(x_i)=1$の時は、$y_i=1$に対しての分類結果が1になる→損失が0になる\n",
        "- $p(x_i)=0$の時は、$y_i=1$に対しての分類結果が0になる→損失が$\\infty$になる"
      ],
      "metadata": {
        "id": "Ay8TXKzSK4A4"
      }
    },
    {
      "cell_type": "markdown",
      "source": [
        "#### 真の値が0の時"
      ],
      "metadata": {
        "id": "fATbysjQMnT3"
      }
    },
    {
      "cell_type": "markdown",
      "source": [
        "$y_i=0$のときの損失、$-log(1-p(x_i))$は以下のようなグラフになります。\n",
        "\n",
        "（参考：https://shorturl.at/rDEF2 ）\n",
        "\n",
        "![](https://imgur.com/2pXhpdT.png)"
      ],
      "metadata": {
        "id": "1Rc48IrIMnUP"
      }
    },
    {
      "cell_type": "markdown",
      "source": [
        "- $p(x_i)$は0～1の間の値しか取らない\n",
        "- $p(x_i)=0$の時は、$y_i=0$に対しての分類結果が0になる→損失が0になる\n",
        "- $p(x_i)=1$の時は、$y_i=0$に対しての分類結果が1になる→損失が$\\infty$になる"
      ],
      "metadata": {
        "id": "3hTLhnIqMnUP"
      }
    },
    {
      "cell_type": "markdown",
      "source": [
        "#### 損失関数"
      ],
      "metadata": {
        "id": "c813EPlzNZv9"
      }
    },
    {
      "cell_type": "markdown",
      "source": [
        "交差エントロピーは、以下のように一つの式で表すこともできます。\n",
        "\n",
        "$$\n",
        "Cost(p(x_i), y_i)=-(y_ilog(p(x_i))+(1-y_i)log(1-p(x_i)))\n",
        "$$"
      ],
      "metadata": {
        "id": "BqRC05yaNc3c"
      }
    },
    {
      "cell_type": "markdown",
      "source": [
        "- $y_i$は0か1しか取らない\n",
        "- $y_i=0$の時は、$y_ilog(p(x_i))$が0になる\n",
        "- $y_i=1$の時は、$(1-y_i)log(1-p(x_i))$が0になる"
      ],
      "metadata": {
        "id": "3NT70nmwNxar"
      }
    },
    {
      "cell_type": "markdown",
      "source": [
        "この損失をすべてのデータで平均（あるいは合計）を  \n",
        "取ったものが損失関数になります。\n",
        "\n",
        "$$\n",
        "L(\\theta)=\\frac{1}{m}\\sum^{m}_{i=1}Cost(p(x_i), y_i)=-\\frac{1}{m}\\sum^{m}_{i=1}y_ilog(p(x_i))+(1-y_i)log(1-p(x_i))\n",
        "$$\n",
        "\n",
        "※ ここでは平均の式を損失関数とする  \n",
        "※ $\\theta=\\theta_0, \\theta_1\\cdots\\theta_n$"
      ],
      "metadata": {
        "id": "em6aNyzWPAfi"
      }
    },
    {
      "cell_type": "markdown",
      "source": [
        "### パラメータの最適化"
      ],
      "metadata": {
        "id": "A1pSrFbeZVIb"
      }
    },
    {
      "cell_type": "markdown",
      "source": [
        "**最急降下法**は、最も急になる方向に少しずつパラメータを動かして最適解を探る方法です。\n",
        "\n",
        "機械学習ではこのように、パラメータを徐々に最適解に近づけていくことを  \n",
        "**「学習する」**といいます。"
      ],
      "metadata": {
        "id": "PeCjIJyzZl3A"
      }
    },
    {
      "cell_type": "markdown",
      "source": [
        "線形回帰のときと同様、$L(\\theta)$のパラメータを以下の式で同時に更新していきます。"
      ],
      "metadata": {
        "id": "942awQfSZe8m"
      }
    },
    {
      "cell_type": "markdown",
      "source": [
        "$$\n",
        "\\theta_0 := \\theta_0 – \\alpha\\frac{\\partial}{\\partial\\theta_0}L(\\theta)\n",
        "$$\n",
        "\n",
        "$$\n",
        "\\theta_1 := \\theta_1 – \\alpha\\frac{\\partial}{\\partial\\theta_1}L(\\theta)\n",
        "$$\n",
        "\n",
        "$$\n",
        "・\n",
        "$$\n",
        "$$  \n",
        "・  \n",
        "$$\n",
        "$$  \n",
        "・  \n",
        "$$\n",
        "\n",
        "$$\n",
        "\\theta_n := \\theta_n – \\alpha\\frac{\\partial}{\\partial\\theta_n}L(\\theta)\n",
        "$$"
      ],
      "metadata": {
        "id": "CNgSdINKVssn"
      }
    },
    {
      "cell_type": "markdown",
      "source": [
        "微分において、一旦シグマは置いて考えます。\n",
        "\n",
        "$$\n",
        "E = -(ylog(p(x))+(1-y)log(1-p(x)))\n",
        "$$"
      ],
      "metadata": {
        "id": "x4qhZneI98t1"
      }
    },
    {
      "cell_type": "markdown",
      "source": [
        "また、$p(x)$を$z$と、$\\theta_0+\\theta_{1}x_{1}+\\dots+\\theta_{n}x_{n}$を$a$と置き換えます。"
      ],
      "metadata": {
        "id": "yHSElH4p-07p"
      }
    },
    {
      "cell_type": "markdown",
      "source": [
        "以下の計算ができれば、パラメータの更新が行えそうです。\n",
        "\n",
        "$$\n",
        "\\frac{\\partial}{\\partial\\theta_n}L(\\theta_n) = \\frac{\\partial a}{\\partial \\theta_n}\\ \\frac{\\partial z}{\\partial a}\\ \\frac{\\partial E}{\\partial z}\n",
        "$$"
      ],
      "metadata": {
        "id": "mRpeVEek-ikr"
      }
    },
    {
      "cell_type": "markdown",
      "source": [
        "#### 交差エントロピーの微分"
      ],
      "metadata": {
        "id": "drsxRWLXk4iM"
      }
    },
    {
      "cell_type": "markdown",
      "source": [
        "\n",
        "\n",
        "$$\n",
        "{\\begin{align}\n",
        "\\frac{\\partial E}{\\partial z}\\\n",
        "&= \\frac{\\partial }{\\partial z}\\ \\Bigl( - ( y \\log z +(1-y) \\log (1-z) ) \\Bigr) \\\\\n",
        "&= \\frac{\\partial }{\\partial z}\\ \\Bigl( - y \\log z - (1-y) \\log (1-z)\\Bigr) \\\\\n",
        "&= -\\frac{y}{z} + \\frac{1 - y}{1 - z}\n",
        "\\end{align}\n",
        "}\n",
        "$$"
      ],
      "metadata": {
        "id": "gXAicaIBnF0Q"
      }
    },
    {
      "cell_type": "markdown",
      "source": [
        "#### シグモイド関数の微分"
      ],
      "metadata": {
        "id": "YmVUAr-7mw6G"
      }
    },
    {
      "cell_type": "markdown",
      "source": [
        "$$\n",
        "{\\begin{align}\n",
        "\\frac{\\partial z}{\\partial a}\\\n",
        "&= \\frac{\\partial }{\\partial a}\\ \\Bigl(\\frac{1}{1+e^{-a}} \\Bigr) \\\\\n",
        "&= -\\frac{1}{(1+e^{-a})^2} \\frac{\\partial}{\\partial a}(1+e^{-a}) \\\\\n",
        "&= -\\frac{1}{(1+e^{-a})^2} (-e^{-a}) \\\\\n",
        "&= \\frac{e^{-a}}{(1+e^{-a})^2}\n",
        "\\end{align}\n",
        "}\n",
        "$$\n",
        "\n",
        "\n"
      ],
      "metadata": {
        "id": "HK-NFfcco4ck"
      }
    },
    {
      "cell_type": "markdown",
      "source": [
        "$$\n",
        "{\\begin{align}\n",
        "\\frac{\\partial z}{\\partial a}\\\n",
        "&= \\frac{1}{1+e^{-a}}\\frac{e^{-a}}{1+e^{-a}} \\\\\n",
        "&= \\frac{1}{1+e^{-a}}\\frac{1+e^{-a}-1}{1+e^{-a}} \\\\\n",
        "&= \\frac{1}{1+e^{-a}}\\Bigl(\\frac{1+e^{-a}}{1+e^{-a}}-\\frac{1}{1+e^{-a}}\\Bigr) \\\\\n",
        "&= z(1-z)\n",
        "\\end{align}\n",
        "}\n",
        "$$"
      ],
      "metadata": {
        "id": "NIOQiFGsGTr1"
      }
    },
    {
      "cell_type": "markdown",
      "source": [
        "#### 線形結合の微分\n",
        "\n",
        "$$\n",
        "\\begin{equation}\n",
        "\\frac{\\partial a}{\\partial \\theta_n}=\\left\\{\n",
        "\\begin{aligned}\n",
        "x_n & \\qquad\\text{if}\\:n≠0\\\\\n",
        "1 & \\qquad\\text{if}\\:n=0\\\\\n",
        "\\end{aligned}\n",
        "\\right.\n",
        "\\end{equation}\n",
        "$$"
      ],
      "metadata": {
        "id": "VKdyTIzGKPZU"
      }
    },
    {
      "cell_type": "markdown",
      "source": [
        "#### 偏微分結果"
      ],
      "metadata": {
        "id": "8UZyGOSLLY2W"
      }
    },
    {
      "cell_type": "markdown",
      "source": [
        "$$\n",
        "{\\begin{align}\n",
        "\\frac{\\partial}{\\partial\\theta_n}L(\\theta_n) &= \\frac{\\partial a}{\\partial \\theta_n}\\ \\frac{\\partial z}{\\partial a}\\ \\frac{\\partial E}{\\partial z} \\\\\n",
        "&= \\frac{\\partial a}{\\partial \\theta_n}\\ z(1-z) \\Bigl(-\\frac{y}{z} + \\frac{1 - y}{1 - z}\\Bigr) \\\\\n",
        "&= \\frac{\\partial a}{\\partial \\theta_n}\\ (y(z-1)+z(1-y)) \\\\\n",
        "&= \\frac{\\partial a}{\\partial \\theta_n}\\ (z-y)\n",
        "\\end{align}\n",
        "}\n",
        "$$"
      ],
      "metadata": {
        "id": "iPeAMSF_Ldtb"
      }
    },
    {
      "cell_type": "markdown",
      "source": [
        "よって、偏微分の結果は以下のようになります。  \n",
        "（$n≠0$）\n",
        "\n",
        "$$\n",
        "\\frac{\\partial}{\\partial\\theta_0}L(\\theta)=\\frac{1}{m}\\sum^{m}_{i=1}(p(x_i)-y_i)\n",
        "$$\n",
        "\n",
        "\n",
        "$$\n",
        "\\frac{\\partial}{\\partial\\theta_n}L(\\theta)=\\frac{1}{m}\\sum^{m}_{i=1}(p(x_i)-y_i)x_{in}\n",
        "$$"
      ],
      "metadata": {
        "id": "Qvx-VPKdaPLV"
      }
    },
    {
      "cell_type": "markdown",
      "source": [
        "#### 最終式"
      ],
      "metadata": {
        "id": "WewAqKp5OMm1"
      }
    },
    {
      "cell_type": "markdown",
      "source": [
        "$$\n",
        "\\theta_0 := \\theta_0 – \\alpha\\frac{1}{m}\\sum^{m}_{i=1}(\\frac{1}{1+e^{-(\\theta_0+\\theta_1x_1+\\dots+\\theta_{n}x_{n})}}-y_i)\n",
        "$$\n",
        "\n",
        "$$\n",
        "\\theta_1 := \\theta_1 – \\alpha\\frac{1}{m}\\sum^{m}_{i=1}(\\frac{1}{1+e^{-(\\theta_0+\\theta_1x_1+\\dots+\\theta_{n}x_{n})}}-y_i)x_i\n",
        "$$\n",
        "\n",
        "$$\n",
        "・\n",
        "$$\n",
        "$$  \n",
        "・  \n",
        "$$\n",
        "$$  \n",
        "・  \n",
        "$$\n",
        "\n",
        "$$\n",
        "\\theta_n := \\theta_n – \\alpha\\frac{1}{m}\\sum^{m}_{i=1}(\\frac{1}{1+e^{-(\\theta_0+\\theta_1x_1+\\dots+\\theta_{n}x_{n})}}-y_i)x_i\n",
        "$$"
      ],
      "metadata": {
        "id": "LOhkI104OP9d"
      }
    },
    {
      "cell_type": "markdown",
      "source": [
        "### Pythonでロジスティック回帰"
      ],
      "metadata": {
        "id": "sltHxIsLbavP"
      }
    },
    {
      "cell_type": "markdown",
      "source": [
        "では、実際にPythonでロジスティック回帰を行っていきましょう。\n",
        "\n",
        "モデルを学習する際は$\\lambda$を指定する必要がありますが、  \n",
        "何も指定していない場合はデフォルト値である1となります。"
      ],
      "metadata": {
        "id": "a3J6pPWybiMP"
      }
    },
    {
      "cell_type": "markdown",
      "source": [
        "#### 使用するデータセット"
      ],
      "metadata": {
        "id": "xLZ4FezYbtWG"
      }
    },
    {
      "cell_type": "markdown",
      "source": [
        "今回は、seabornのサンプル用データセット\"tips\"を利用します。\n",
        "\n",
        "データセットは、pandas.DataFrameオブジェクトとして取得することができます。\n",
        "\n",
        "（参考サイト：[こちら](https://biotech-lab.org/articles/1408#i)）"
      ],
      "metadata": {
        "id": "0HRxrbCGk9Ss"
      }
    },
    {
      "cell_type": "code",
      "source": [
        "tips = sns.load_dataset('tips')\n",
        "tips.info()"
      ],
      "metadata": {
        "colab": {
          "base_uri": "https://localhost:8080/"
        },
        "id": "-l33pW7wj692",
        "outputId": "5fa01d71-622d-485b-bf7a-df82fabf70a3"
      },
      "execution_count": null,
      "outputs": [
        {
          "output_type": "stream",
          "name": "stdout",
          "text": [
            "<class 'pandas.core.frame.DataFrame'>\n",
            "RangeIndex: 244 entries, 0 to 243\n",
            "Data columns (total 7 columns):\n",
            " #   Column      Non-Null Count  Dtype   \n",
            "---  ------      --------------  -----   \n",
            " 0   total_bill  244 non-null    float64 \n",
            " 1   tip         244 non-null    float64 \n",
            " 2   sex         244 non-null    category\n",
            " 3   smoker      244 non-null    category\n",
            " 4   day         244 non-null    category\n",
            " 5   time        244 non-null    category\n",
            " 6   size        244 non-null    int64   \n",
            "dtypes: category(4), float64(2), int64(1)\n",
            "memory usage: 7.4 KB\n"
          ]
        }
      ]
    },
    {
      "cell_type": "markdown",
      "source": [
        "\"tips\"のデータの説明は以下の通りです。\n",
        "\n",
        "- total_bill : 総支払額(食事代、税込み)　(USドル)\n",
        "- tip : チップ(USドル)\n",
        "- sex : 性別\n",
        "- smoker : 喫煙者か否か\n",
        "- day : 曜日(木・金・土・日のいずれか)\n",
        "- time : 食事の時間(昼食か夕食か)\n",
        "- size : 人数"
      ],
      "metadata": {
        "id": "7ZyDMuAblo6D"
      }
    },
    {
      "cell_type": "markdown",
      "source": [
        "また、今回のデータには欠損値はなさそうです。"
      ],
      "metadata": {
        "id": "k-9SWM_Mnsbw"
      }
    },
    {
      "cell_type": "markdown",
      "source": [
        "#### Pythonによる実行"
      ],
      "metadata": {
        "id": "Xg4XATr6RLxI"
      }
    },
    {
      "cell_type": "markdown",
      "source": [
        "今回は使用するカラムを増やしたいので、one-hotエンコーディングを行います。"
      ],
      "metadata": {
        "id": "GhbCTmpjRdbH"
      }
    },
    {
      "cell_type": "code",
      "source": [
        "# smoker カラム以外のカテゴリカル変数をダミー変数に変換\n",
        "tips = pd.get_dummies(tips, columns=[\"sex\", \"day\", \"time\"], drop_first=True)\n",
        "tips.head()"
      ],
      "metadata": {
        "colab": {
          "base_uri": "https://localhost:8080/",
          "height": 206
        },
        "id": "dQdViYUaRhbt",
        "outputId": "d55c2c5a-fc27-42c8-a4c8-c36d5c6c7b7d"
      },
      "execution_count": null,
      "outputs": [
        {
          "output_type": "execute_result",
          "data": {
            "text/plain": [
              "   total_bill   tip smoker  size  sex_Female  day_Fri  day_Sat  day_Sun  \\\n",
              "0       16.99  1.01     No     2           1        0        0        1   \n",
              "1       10.34  1.66     No     3           0        0        0        1   \n",
              "2       21.01  3.50     No     3           0        0        0        1   \n",
              "3       23.68  3.31     No     2           0        0        0        1   \n",
              "4       24.59  3.61     No     4           1        0        0        1   \n",
              "\n",
              "   time_Dinner  \n",
              "0            1  \n",
              "1            1  \n",
              "2            1  \n",
              "3            1  \n",
              "4            1  "
            ],
            "text/html": [
              "\n",
              "  <div id=\"df-3710fa7b-9662-459e-a96d-9c13b19f9a6d\" class=\"colab-df-container\">\n",
              "    <div>\n",
              "<style scoped>\n",
              "    .dataframe tbody tr th:only-of-type {\n",
              "        vertical-align: middle;\n",
              "    }\n",
              "\n",
              "    .dataframe tbody tr th {\n",
              "        vertical-align: top;\n",
              "    }\n",
              "\n",
              "    .dataframe thead th {\n",
              "        text-align: right;\n",
              "    }\n",
              "</style>\n",
              "<table border=\"1\" class=\"dataframe\">\n",
              "  <thead>\n",
              "    <tr style=\"text-align: right;\">\n",
              "      <th></th>\n",
              "      <th>total_bill</th>\n",
              "      <th>tip</th>\n",
              "      <th>smoker</th>\n",
              "      <th>size</th>\n",
              "      <th>sex_Female</th>\n",
              "      <th>day_Fri</th>\n",
              "      <th>day_Sat</th>\n",
              "      <th>day_Sun</th>\n",
              "      <th>time_Dinner</th>\n",
              "    </tr>\n",
              "  </thead>\n",
              "  <tbody>\n",
              "    <tr>\n",
              "      <th>0</th>\n",
              "      <td>16.99</td>\n",
              "      <td>1.01</td>\n",
              "      <td>No</td>\n",
              "      <td>2</td>\n",
              "      <td>1</td>\n",
              "      <td>0</td>\n",
              "      <td>0</td>\n",
              "      <td>1</td>\n",
              "      <td>1</td>\n",
              "    </tr>\n",
              "    <tr>\n",
              "      <th>1</th>\n",
              "      <td>10.34</td>\n",
              "      <td>1.66</td>\n",
              "      <td>No</td>\n",
              "      <td>3</td>\n",
              "      <td>0</td>\n",
              "      <td>0</td>\n",
              "      <td>0</td>\n",
              "      <td>1</td>\n",
              "      <td>1</td>\n",
              "    </tr>\n",
              "    <tr>\n",
              "      <th>2</th>\n",
              "      <td>21.01</td>\n",
              "      <td>3.50</td>\n",
              "      <td>No</td>\n",
              "      <td>3</td>\n",
              "      <td>0</td>\n",
              "      <td>0</td>\n",
              "      <td>0</td>\n",
              "      <td>1</td>\n",
              "      <td>1</td>\n",
              "    </tr>\n",
              "    <tr>\n",
              "      <th>3</th>\n",
              "      <td>23.68</td>\n",
              "      <td>3.31</td>\n",
              "      <td>No</td>\n",
              "      <td>2</td>\n",
              "      <td>0</td>\n",
              "      <td>0</td>\n",
              "      <td>0</td>\n",
              "      <td>1</td>\n",
              "      <td>1</td>\n",
              "    </tr>\n",
              "    <tr>\n",
              "      <th>4</th>\n",
              "      <td>24.59</td>\n",
              "      <td>3.61</td>\n",
              "      <td>No</td>\n",
              "      <td>4</td>\n",
              "      <td>1</td>\n",
              "      <td>0</td>\n",
              "      <td>0</td>\n",
              "      <td>1</td>\n",
              "      <td>1</td>\n",
              "    </tr>\n",
              "  </tbody>\n",
              "</table>\n",
              "</div>\n",
              "    <div class=\"colab-df-buttons\">\n",
              "\n",
              "  <div class=\"colab-df-container\">\n",
              "    <button class=\"colab-df-convert\" onclick=\"convertToInteractive('df-3710fa7b-9662-459e-a96d-9c13b19f9a6d')\"\n",
              "            title=\"Convert this dataframe to an interactive table.\"\n",
              "            style=\"display:none;\">\n",
              "\n",
              "  <svg xmlns=\"http://www.w3.org/2000/svg\" height=\"24px\" viewBox=\"0 -960 960 960\">\n",
              "    <path d=\"M120-120v-720h720v720H120Zm60-500h600v-160H180v160Zm220 220h160v-160H400v160Zm0 220h160v-160H400v160ZM180-400h160v-160H180v160Zm440 0h160v-160H620v160ZM180-180h160v-160H180v160Zm440 0h160v-160H620v160Z\"/>\n",
              "  </svg>\n",
              "    </button>\n",
              "\n",
              "  <style>\n",
              "    .colab-df-container {\n",
              "      display:flex;\n",
              "      gap: 12px;\n",
              "    }\n",
              "\n",
              "    .colab-df-convert {\n",
              "      background-color: #E8F0FE;\n",
              "      border: none;\n",
              "      border-radius: 50%;\n",
              "      cursor: pointer;\n",
              "      display: none;\n",
              "      fill: #1967D2;\n",
              "      height: 32px;\n",
              "      padding: 0 0 0 0;\n",
              "      width: 32px;\n",
              "    }\n",
              "\n",
              "    .colab-df-convert:hover {\n",
              "      background-color: #E2EBFA;\n",
              "      box-shadow: 0px 1px 2px rgba(60, 64, 67, 0.3), 0px 1px 3px 1px rgba(60, 64, 67, 0.15);\n",
              "      fill: #174EA6;\n",
              "    }\n",
              "\n",
              "    .colab-df-buttons div {\n",
              "      margin-bottom: 4px;\n",
              "    }\n",
              "\n",
              "    [theme=dark] .colab-df-convert {\n",
              "      background-color: #3B4455;\n",
              "      fill: #D2E3FC;\n",
              "    }\n",
              "\n",
              "    [theme=dark] .colab-df-convert:hover {\n",
              "      background-color: #434B5C;\n",
              "      box-shadow: 0px 1px 3px 1px rgba(0, 0, 0, 0.15);\n",
              "      filter: drop-shadow(0px 1px 2px rgba(0, 0, 0, 0.3));\n",
              "      fill: #FFFFFF;\n",
              "    }\n",
              "  </style>\n",
              "\n",
              "    <script>\n",
              "      const buttonEl =\n",
              "        document.querySelector('#df-3710fa7b-9662-459e-a96d-9c13b19f9a6d button.colab-df-convert');\n",
              "      buttonEl.style.display =\n",
              "        google.colab.kernel.accessAllowed ? 'block' : 'none';\n",
              "\n",
              "      async function convertToInteractive(key) {\n",
              "        const element = document.querySelector('#df-3710fa7b-9662-459e-a96d-9c13b19f9a6d');\n",
              "        const dataTable =\n",
              "          await google.colab.kernel.invokeFunction('convertToInteractive',\n",
              "                                                    [key], {});\n",
              "        if (!dataTable) return;\n",
              "\n",
              "        const docLinkHtml = 'Like what you see? Visit the ' +\n",
              "          '<a target=\"_blank\" href=https://colab.research.google.com/notebooks/data_table.ipynb>data table notebook</a>'\n",
              "          + ' to learn more about interactive tables.';\n",
              "        element.innerHTML = '';\n",
              "        dataTable['output_type'] = 'display_data';\n",
              "        await google.colab.output.renderOutput(dataTable, element);\n",
              "        const docLink = document.createElement('div');\n",
              "        docLink.innerHTML = docLinkHtml;\n",
              "        element.appendChild(docLink);\n",
              "      }\n",
              "    </script>\n",
              "  </div>\n",
              "\n",
              "\n",
              "<div id=\"df-6241efc2-9ee5-44fd-aea5-3418abad124d\">\n",
              "  <button class=\"colab-df-quickchart\" onclick=\"quickchart('df-6241efc2-9ee5-44fd-aea5-3418abad124d')\"\n",
              "            title=\"Suggest charts.\"\n",
              "            style=\"display:none;\">\n",
              "\n",
              "<svg xmlns=\"http://www.w3.org/2000/svg\" height=\"24px\"viewBox=\"0 0 24 24\"\n",
              "     width=\"24px\">\n",
              "    <g>\n",
              "        <path d=\"M19 3H5c-1.1 0-2 .9-2 2v14c0 1.1.9 2 2 2h14c1.1 0 2-.9 2-2V5c0-1.1-.9-2-2-2zM9 17H7v-7h2v7zm4 0h-2V7h2v10zm4 0h-2v-4h2v4z\"/>\n",
              "    </g>\n",
              "</svg>\n",
              "  </button>\n",
              "\n",
              "<style>\n",
              "  .colab-df-quickchart {\n",
              "      --bg-color: #E8F0FE;\n",
              "      --fill-color: #1967D2;\n",
              "      --hover-bg-color: #E2EBFA;\n",
              "      --hover-fill-color: #174EA6;\n",
              "      --disabled-fill-color: #AAA;\n",
              "      --disabled-bg-color: #DDD;\n",
              "  }\n",
              "\n",
              "  [theme=dark] .colab-df-quickchart {\n",
              "      --bg-color: #3B4455;\n",
              "      --fill-color: #D2E3FC;\n",
              "      --hover-bg-color: #434B5C;\n",
              "      --hover-fill-color: #FFFFFF;\n",
              "      --disabled-bg-color: #3B4455;\n",
              "      --disabled-fill-color: #666;\n",
              "  }\n",
              "\n",
              "  .colab-df-quickchart {\n",
              "    background-color: var(--bg-color);\n",
              "    border: none;\n",
              "    border-radius: 50%;\n",
              "    cursor: pointer;\n",
              "    display: none;\n",
              "    fill: var(--fill-color);\n",
              "    height: 32px;\n",
              "    padding: 0;\n",
              "    width: 32px;\n",
              "  }\n",
              "\n",
              "  .colab-df-quickchart:hover {\n",
              "    background-color: var(--hover-bg-color);\n",
              "    box-shadow: 0 1px 2px rgba(60, 64, 67, 0.3), 0 1px 3px 1px rgba(60, 64, 67, 0.15);\n",
              "    fill: var(--button-hover-fill-color);\n",
              "  }\n",
              "\n",
              "  .colab-df-quickchart-complete:disabled,\n",
              "  .colab-df-quickchart-complete:disabled:hover {\n",
              "    background-color: var(--disabled-bg-color);\n",
              "    fill: var(--disabled-fill-color);\n",
              "    box-shadow: none;\n",
              "  }\n",
              "\n",
              "  .colab-df-spinner {\n",
              "    border: 2px solid var(--fill-color);\n",
              "    border-color: transparent;\n",
              "    border-bottom-color: var(--fill-color);\n",
              "    animation:\n",
              "      spin 1s steps(1) infinite;\n",
              "  }\n",
              "\n",
              "  @keyframes spin {\n",
              "    0% {\n",
              "      border-color: transparent;\n",
              "      border-bottom-color: var(--fill-color);\n",
              "      border-left-color: var(--fill-color);\n",
              "    }\n",
              "    20% {\n",
              "      border-color: transparent;\n",
              "      border-left-color: var(--fill-color);\n",
              "      border-top-color: var(--fill-color);\n",
              "    }\n",
              "    30% {\n",
              "      border-color: transparent;\n",
              "      border-left-color: var(--fill-color);\n",
              "      border-top-color: var(--fill-color);\n",
              "      border-right-color: var(--fill-color);\n",
              "    }\n",
              "    40% {\n",
              "      border-color: transparent;\n",
              "      border-right-color: var(--fill-color);\n",
              "      border-top-color: var(--fill-color);\n",
              "    }\n",
              "    60% {\n",
              "      border-color: transparent;\n",
              "      border-right-color: var(--fill-color);\n",
              "    }\n",
              "    80% {\n",
              "      border-color: transparent;\n",
              "      border-right-color: var(--fill-color);\n",
              "      border-bottom-color: var(--fill-color);\n",
              "    }\n",
              "    90% {\n",
              "      border-color: transparent;\n",
              "      border-bottom-color: var(--fill-color);\n",
              "    }\n",
              "  }\n",
              "</style>\n",
              "\n",
              "  <script>\n",
              "    async function quickchart(key) {\n",
              "      const quickchartButtonEl =\n",
              "        document.querySelector('#' + key + ' button');\n",
              "      quickchartButtonEl.disabled = true;  // To prevent multiple clicks.\n",
              "      quickchartButtonEl.classList.add('colab-df-spinner');\n",
              "      try {\n",
              "        const charts = await google.colab.kernel.invokeFunction(\n",
              "            'suggestCharts', [key], {});\n",
              "      } catch (error) {\n",
              "        console.error('Error during call to suggestCharts:', error);\n",
              "      }\n",
              "      quickchartButtonEl.classList.remove('colab-df-spinner');\n",
              "      quickchartButtonEl.classList.add('colab-df-quickchart-complete');\n",
              "    }\n",
              "    (() => {\n",
              "      let quickchartButtonEl =\n",
              "        document.querySelector('#df-6241efc2-9ee5-44fd-aea5-3418abad124d button');\n",
              "      quickchartButtonEl.style.display =\n",
              "        google.colab.kernel.accessAllowed ? 'block' : 'none';\n",
              "    })();\n",
              "  </script>\n",
              "</div>\n",
              "    </div>\n",
              "  </div>\n"
            ]
          },
          "metadata": {},
          "execution_count": 4
        }
      ]
    },
    {
      "cell_type": "markdown",
      "source": [
        "今回は、\"smoker\"カラムの値（喫煙者かどうか）を予測するとします。  \n",
        "\n",
        "まずは、喫煙者の人数と喫煙者ではない人数を割り出しましょう。\n"
      ],
      "metadata": {
        "id": "FTIohEuYRzru"
      }
    },
    {
      "cell_type": "code",
      "source": [
        "tips[\"smoker\"].value_counts()"
      ],
      "metadata": {
        "colab": {
          "base_uri": "https://localhost:8080/"
        },
        "id": "TJqbsX0iRB5v",
        "outputId": "2da236d6-ec7c-4d80-fdb7-5d4f91126686"
      },
      "execution_count": null,
      "outputs": [
        {
          "output_type": "execute_result",
          "data": {
            "text/plain": [
              "No     151\n",
              "Yes     93\n",
              "Name: smoker, dtype: int64"
            ]
          },
          "metadata": {},
          "execution_count": 5
        }
      ]
    },
    {
      "cell_type": "markdown",
      "source": [
        "ではロジスティック回帰を使って学習を行っていきましょう。\n",
        "\n",
        "本当はk-fold法（参考：[こちら](https://datawokagaku.com/kfoldcv/)）を使って汎化性能を測った方がいいのですが、  \n",
        "ここでは説明のしやすさのためhold-out法を使います。"
      ],
      "metadata": {
        "id": "F81SRM1xdrek"
      }
    },
    {
      "cell_type": "code",
      "source": [
        "# 目的変数に\"smoker\"、説明変数にそれ以外のカラムを指定\n",
        "x = tips.drop('smoker', axis=1)\n",
        "y = tips['smoker']\n",
        "\n",
        "# データを訓練データとテストデータに分ける\n",
        "x_train, x_test, y_train, y_test = train_test_split(x, y, test_size=0.3, random_state=0)\n",
        "\n",
        "# 説明変数のデータを標準化\n",
        "from sklearn.preprocessing import StandardScaler\n",
        "scaler = StandardScaler().fit(x_train)\n",
        "x_train_scaled = scaler.transform(x_train)\n",
        "x_test_scaled = scaler.transform(x_test)"
      ],
      "metadata": {
        "id": "tIce3BClT1AN"
      },
      "execution_count": null,
      "outputs": []
    },
    {
      "cell_type": "code",
      "source": [
        "from sklearn.linear_model import LogisticRegression\n",
        "model = LogisticRegression(penalty='none')\n",
        "model.fit(x_train_scaled, y_train)"
      ],
      "metadata": {
        "colab": {
          "base_uri": "https://localhost:8080/",
          "height": 129
        },
        "id": "IKtO7GPOTY-N",
        "outputId": "e7833e39-c210-4efb-933e-a89ebefa2b66"
      },
      "execution_count": null,
      "outputs": [
        {
          "output_type": "stream",
          "name": "stderr",
          "text": [
            "/usr/local/lib/python3.10/dist-packages/sklearn/linear_model/_logistic.py:1173: FutureWarning: `penalty='none'`has been deprecated in 1.2 and will be removed in 1.4. To keep the past behaviour, set `penalty=None`.\n",
            "  warnings.warn(\n"
          ]
        },
        {
          "output_type": "execute_result",
          "data": {
            "text/plain": [
              "LogisticRegression(penalty='none')"
            ],
            "text/html": [
              "<style>#sk-container-id-1 {color: black;background-color: white;}#sk-container-id-1 pre{padding: 0;}#sk-container-id-1 div.sk-toggleable {background-color: white;}#sk-container-id-1 label.sk-toggleable__label {cursor: pointer;display: block;width: 100%;margin-bottom: 0;padding: 0.3em;box-sizing: border-box;text-align: center;}#sk-container-id-1 label.sk-toggleable__label-arrow:before {content: \"▸\";float: left;margin-right: 0.25em;color: #696969;}#sk-container-id-1 label.sk-toggleable__label-arrow:hover:before {color: black;}#sk-container-id-1 div.sk-estimator:hover label.sk-toggleable__label-arrow:before {color: black;}#sk-container-id-1 div.sk-toggleable__content {max-height: 0;max-width: 0;overflow: hidden;text-align: left;background-color: #f0f8ff;}#sk-container-id-1 div.sk-toggleable__content pre {margin: 0.2em;color: black;border-radius: 0.25em;background-color: #f0f8ff;}#sk-container-id-1 input.sk-toggleable__control:checked~div.sk-toggleable__content {max-height: 200px;max-width: 100%;overflow: auto;}#sk-container-id-1 input.sk-toggleable__control:checked~label.sk-toggleable__label-arrow:before {content: \"▾\";}#sk-container-id-1 div.sk-estimator input.sk-toggleable__control:checked~label.sk-toggleable__label {background-color: #d4ebff;}#sk-container-id-1 div.sk-label input.sk-toggleable__control:checked~label.sk-toggleable__label {background-color: #d4ebff;}#sk-container-id-1 input.sk-hidden--visually {border: 0;clip: rect(1px 1px 1px 1px);clip: rect(1px, 1px, 1px, 1px);height: 1px;margin: -1px;overflow: hidden;padding: 0;position: absolute;width: 1px;}#sk-container-id-1 div.sk-estimator {font-family: monospace;background-color: #f0f8ff;border: 1px dotted black;border-radius: 0.25em;box-sizing: border-box;margin-bottom: 0.5em;}#sk-container-id-1 div.sk-estimator:hover {background-color: #d4ebff;}#sk-container-id-1 div.sk-parallel-item::after {content: \"\";width: 100%;border-bottom: 1px solid gray;flex-grow: 1;}#sk-container-id-1 div.sk-label:hover label.sk-toggleable__label {background-color: #d4ebff;}#sk-container-id-1 div.sk-serial::before {content: \"\";position: absolute;border-left: 1px solid gray;box-sizing: border-box;top: 0;bottom: 0;left: 50%;z-index: 0;}#sk-container-id-1 div.sk-serial {display: flex;flex-direction: column;align-items: center;background-color: white;padding-right: 0.2em;padding-left: 0.2em;position: relative;}#sk-container-id-1 div.sk-item {position: relative;z-index: 1;}#sk-container-id-1 div.sk-parallel {display: flex;align-items: stretch;justify-content: center;background-color: white;position: relative;}#sk-container-id-1 div.sk-item::before, #sk-container-id-1 div.sk-parallel-item::before {content: \"\";position: absolute;border-left: 1px solid gray;box-sizing: border-box;top: 0;bottom: 0;left: 50%;z-index: -1;}#sk-container-id-1 div.sk-parallel-item {display: flex;flex-direction: column;z-index: 1;position: relative;background-color: white;}#sk-container-id-1 div.sk-parallel-item:first-child::after {align-self: flex-end;width: 50%;}#sk-container-id-1 div.sk-parallel-item:last-child::after {align-self: flex-start;width: 50%;}#sk-container-id-1 div.sk-parallel-item:only-child::after {width: 0;}#sk-container-id-1 div.sk-dashed-wrapped {border: 1px dashed gray;margin: 0 0.4em 0.5em 0.4em;box-sizing: border-box;padding-bottom: 0.4em;background-color: white;}#sk-container-id-1 div.sk-label label {font-family: monospace;font-weight: bold;display: inline-block;line-height: 1.2em;}#sk-container-id-1 div.sk-label-container {text-align: center;}#sk-container-id-1 div.sk-container {/* jupyter's `normalize.less` sets `[hidden] { display: none; }` but bootstrap.min.css set `[hidden] { display: none !important; }` so we also need the `!important` here to be able to override the default hidden behavior on the sphinx rendered scikit-learn.org. See: https://github.com/scikit-learn/scikit-learn/issues/21755 */display: inline-block !important;position: relative;}#sk-container-id-1 div.sk-text-repr-fallback {display: none;}</style><div id=\"sk-container-id-1\" class=\"sk-top-container\"><div class=\"sk-text-repr-fallback\"><pre>LogisticRegression(penalty=&#x27;none&#x27;)</pre><b>In a Jupyter environment, please rerun this cell to show the HTML representation or trust the notebook. <br />On GitHub, the HTML representation is unable to render, please try loading this page with nbviewer.org.</b></div><div class=\"sk-container\" hidden><div class=\"sk-item\"><div class=\"sk-estimator sk-toggleable\"><input class=\"sk-toggleable__control sk-hidden--visually\" id=\"sk-estimator-id-1\" type=\"checkbox\" checked><label for=\"sk-estimator-id-1\" class=\"sk-toggleable__label sk-toggleable__label-arrow\">LogisticRegression</label><div class=\"sk-toggleable__content\"><pre>LogisticRegression(penalty=&#x27;none&#x27;)</pre></div></div></div></div></div>"
            ]
          },
          "metadata": {},
          "execution_count": 7
        }
      ]
    },
    {
      "cell_type": "markdown",
      "source": [
        "それぞれのラベルの分類結果を取得したいときは、  \n",
        "**`.predict(X)`**を使います。"
      ],
      "metadata": {
        "id": "XGcOHL5qedYq"
      }
    },
    {
      "cell_type": "code",
      "source": [
        "y_pred = model.predict(x_test_scaled)\n",
        "y_pred[:5]"
      ],
      "metadata": {
        "colab": {
          "base_uri": "https://localhost:8080/"
        },
        "id": "QkohL-yBVLkS",
        "outputId": "67a72911-cfba-42f5-89b5-c375617c6fb6"
      },
      "execution_count": null,
      "outputs": [
        {
          "output_type": "execute_result",
          "data": {
            "text/plain": [
              "array(['No', 'No', 'No', 'No', 'Yes'], dtype=object)"
            ]
          },
          "metadata": {},
          "execution_count": 8
        }
      ]
    },
    {
      "cell_type": "markdown",
      "source": [
        "それぞれのラベルの確率$p(X)$を取得したいときは、  \n",
        "**`.predict_proba(X)`**を使います。"
      ],
      "metadata": {
        "id": "JUAeVfscfUZZ"
      }
    },
    {
      "cell_type": "code",
      "source": [
        "y_pred_proba = model.predict_proba(x_test_scaled)\n",
        "print(model.classes_)  # クラスの値\n",
        "print(model.intercept_)  # 切片の値\n",
        "print(y_pred_proba[:5])  # それぞれの出現確率"
      ],
      "metadata": {
        "colab": {
          "base_uri": "https://localhost:8080/"
        },
        "id": "H4LF1ImhYtA1",
        "outputId": "f920d687-b870-4393-dd24-9120082d6284"
      },
      "execution_count": null,
      "outputs": [
        {
          "output_type": "stream",
          "name": "stdout",
          "text": [
            "['No' 'Yes']\n",
            "[-0.57432042]\n",
            "[[6.49806389e-01 3.50193611e-01]\n",
            " [7.68504883e-01 2.31495117e-01]\n",
            " [7.36571485e-01 2.63428515e-01]\n",
            " [5.39200369e-01 4.60799631e-01]\n",
            " [6.09888628e-08 9.99999939e-01]]\n"
          ]
        }
      ]
    },
    {
      "cell_type": "markdown",
      "source": [
        "ここでは、要素の一番目が\"No\"である確率、  \n",
        "要素の二番目が\"Yes\"である確率、となっているようです。"
      ],
      "metadata": {
        "id": "abaLUU8dfn6n"
      }
    },
    {
      "cell_type": "markdown",
      "source": [
        "係数の値を確認してみましょう。"
      ],
      "metadata": {
        "id": "Eeb8BtS9gc72"
      }
    },
    {
      "cell_type": "code",
      "source": [
        "# coefficient  係数\n",
        "print(pd.Series(model.coef_[0], index=x.columns))"
      ],
      "metadata": {
        "colab": {
          "base_uri": "https://localhost:8080/"
        },
        "id": "XwHdRF2cVUC6",
        "outputId": "a89e3b20-f14a-4329-f50f-1e4942fb0f03"
      },
      "execution_count": null,
      "outputs": [
        {
          "output_type": "stream",
          "name": "stdout",
          "text": [
            "total_bill     0.706824\n",
            "tip           -0.191729\n",
            "size          -0.447466\n",
            "sex_Female     0.033727\n",
            "day_Fri        3.959980\n",
            "day_Sat        8.309546\n",
            "day_Sun        7.557597\n",
            "time_Dinner   -7.471234\n",
            "dtype: float64\n"
          ]
        }
      ]
    },
    {
      "cell_type": "markdown",
      "source": [
        "#### 交差エントロピーの導出"
      ],
      "metadata": {
        "id": "4QXEMhCgmQFr"
      }
    },
    {
      "cell_type": "markdown",
      "source": [
        "学習(fit)時には、学習データにおける交差エントロピーを最小にするように、  \n",
        "パラメータ$\\theta$を求めています。\n",
        "\n",
        "その後、テストデータを使って交差エントロピーを求めたい場合、  \n",
        "`log_loss(y_test, y_pred_proba)`を使って求めることができます。"
      ],
      "metadata": {
        "id": "5PN8LYD-lpk-"
      }
    },
    {
      "cell_type": "code",
      "source": [
        "from sklearn.metrics import log_loss\n",
        "log_loss(y_test, y_pred_proba)"
      ],
      "metadata": {
        "colab": {
          "base_uri": "https://localhost:8080/"
        },
        "id": "-yd2aw24ZWW6",
        "outputId": "dd31c0a0-e162-4b55-8ff0-75641fca0e25"
      },
      "execution_count": null,
      "outputs": [
        {
          "output_type": "execute_result",
          "data": {
            "text/plain": [
              "0.8150017817572123"
            ]
          },
          "metadata": {},
          "execution_count": 68
        }
      ]
    },
    {
      "cell_type": "markdown",
      "source": [
        "この値の値が小さければ小さいほど、優秀なモデルであると言えます。    \n",
        "今回はこの数字の解釈はしません。\n",
        "\n",
        "パラメータを変更することで精度向上が期待できます。  \n",
        "パラメータについては[こちら](https://datawokagaku.com/logstic_reg_python/#i-3)が参考にしてください。"
      ],
      "metadata": {
        "id": "yfAvW4anmKT4"
      }
    }
  ]
}