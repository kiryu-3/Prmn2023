{
  "cells": [
    {
      "cell_type": "markdown",
      "metadata": {
        "id": "view-in-github",
        "colab_type": "text"
      },
      "source": [
        "<a href=\"https://colab.research.google.com/github/kiryu-3/Prmn2023/blob/main/Prmn2023/Python/2024/Streamlit_basic.ipynb\" target=\"_parent\"><img src=\"https://colab.research.google.com/assets/colab-badge.svg\" alt=\"Open In Colab\"/></a>"
      ]
    },
    {
      "cell_type": "markdown",
      "metadata": {
        "id": "VihB252MNBiG"
      },
      "source": [
        "# Streamlit"
      ]
    },
    {
      "cell_type": "code",
      "execution_count": null,
      "metadata": {
        "id": "a6CuhvlE_rfr"
      },
      "outputs": [],
      "source": [
        "# 最初に実行してください\n",
        "# ライブラリのインストール\n",
        "!pip install Streamlit\n",
        "!pip install yfinance"
      ]
    },
    {
      "cell_type": "code",
      "execution_count": null,
      "metadata": {
        "id": "15jCf052Kd37"
      },
      "outputs": [],
      "source": [
        "# 最初に実行してください\n",
        "# モジュールのインポート\n",
        "import streamlit as st\n",
        "import requests"
      ]
    },
    {
      "cell_type": "markdown",
      "metadata": {
        "id": "utZpMrmBND6M"
      },
      "source": [
        "## Streamlitとは"
      ]
    },
    {
      "cell_type": "markdown",
      "metadata": {
        "id": "jshcibMPaRa2"
      },
      "source": [
        "[**Streamlit**](https://streamlit.io/)は、Pythonのライブラリであり、Webアプリケーションを簡単に作成するためのフレームワークです。  \n",
        "PythonでWebアプリを開発する際には、通常[**Flask**](https://msiz07-flask-docs-ja.readthedocs.io/ja/latest/index.html)や[**Django**](https://docs.djangoproject.com/ja/4.1/)などのライブラリが使用されますが、  \n",
        "これらを学ぶにはHTML、CSS、JavaScriptなどのフロントエンドの知識が必要です。\n",
        "\n",
        "しかし、Streamlitを利用すれば、非常に迅速かつ容易に動作するアプリケーションを構築できます。  \n",
        "主にデータサイエンス分野で利用され、データの可視化や解析に役立ちます。\n",
        "\n"
      ]
    },
    {
      "cell_type": "markdown",
      "metadata": {
        "id": "5milIaBBag6u"
      },
      "source": [
        "Streamlitは、シンプルで直感的なインターフェースを提供することが特徴であり、細かな設定を行う必要はありません。  \n",
        "そのため、プロトタイピングや素早い実験に適しています。\n",
        "\n",
        "\n",
        "本教材は、以下のページを参考にして作成されました：[こちら](https://data-analytics.fun/2022/08/28/streamlit-recap/#toc10)。"
      ]
    },
    {
      "cell_type": "markdown",
      "metadata": {
        "id": "SxqIC-dmQvZr"
      },
      "source": [
        "## Streamlitの基本的な使い方(Colab版)"
      ]
    },
    {
      "cell_type": "markdown",
      "metadata": {
        "id": "C09rqYZUQzuC"
      },
      "source": [
        "GoogleColabにおけるStreamlitの実行方法は、以下のステップに従います。\n",
        "\n",
        "1. pyファイルにコードを記述する\n",
        "2. pyファイルをstreamlitコマンドで実行\n",
        "3. 公開されたURLにアクセス"
      ]
    },
    {
      "cell_type": "markdown",
      "metadata": {
        "id": "9NwGUcMNFNBY"
      },
      "source": [
        "1. pyファイルにコードを記述する\n",
        "\n",
        "``` python\n",
        "# sample.pyというファイルに記述する\n",
        "\n",
        "%%writefile sample.py\n",
        "import streamlit as st\n",
        "\n",
        "# コードとその実行結果を上下に表示する\n",
        "st.code(\"st.title(\\\"Streamlit入門\\\")\")\n",
        "st.title(\"Streamlit入門\")\n",
        "```"
      ]
    },
    {
      "cell_type": "markdown",
      "metadata": {
        "id": "D1JfO4U5FcUV"
      },
      "source": [
        "2. pyファイルをstreamlitコマンドで実行\n",
        "\n",
        "- `your globalip`に続くアドレスがIPアドレス。入力を求められることがある。\n",
        "- `your url is`に続くURLにアクセスする。例の場合はhttps://sample.loca.lt\n",
        "\n",
        "``` python\n",
        "# 現在のグローバルIPを取得して表示する\n",
        "print('your globalip: ' + requests.get('https://ifconfig.me').text)\n",
        "\n",
        "# Streamlitアプリを実行し、3秒待機してからローカルトンネルを作成する\n",
        "# sample.pyというpythonファイルを実行\n",
        "# ドメインは\"sample\"を指定\n",
        "!streamlit run sample.py & sleep 3 && npx localtunnel --port 8501 --subdomain \"sample\"\n",
        "\n",
        "```\n",
        "\n",
        "![](https://imgur.com/LDNnALw.png)\n"
      ]
    },
    {
      "cell_type": "markdown",
      "metadata": {
        "id": "5i2fDMTiJKGw"
      },
      "source": [
        "3. 公開されたURLにアクセス\n",
        "\n",
        "- 「click to Submit」となっているところからアクセスする。\n",
        "- IPアドレスの入力を求められることがある。\n",
        "\n",
        "![](https://imgur.com/m0etUlz.png)"
      ]
    },
    {
      "cell_type": "code",
      "execution_count": null,
      "metadata": {
        "colab": {
          "base_uri": "https://localhost:8080/"
        },
        "id": "wvwEj6vBRESN",
        "outputId": "ea7385f0-cd44-4593-9a67-e7718f9410f1"
      },
      "outputs": [
        {
          "name": "stdout",
          "output_type": "stream",
          "text": [
            "Overwriting sample.py\n"
          ]
        }
      ],
      "source": [
        "#@title Streamlitの基本的な使い方(Colab版)\n",
        "# sample.pyというファイルに記述する\n",
        "\n",
        "%%writefile sample.py\n",
        "import streamlit as st\n",
        "\n",
        "# タイトルを表示\n",
        "st.title(\"Streamlit入門\")"
      ]
    },
    {
      "cell_type": "code",
      "execution_count": null,
      "metadata": {
        "colab": {
          "base_uri": "https://localhost:8080/"
        },
        "id": "sC7hyr-5pPw3",
        "outputId": "4934d365-8ecc-4fb8-a905-ef40e1f6ac00"
      },
      "outputs": [
        {
          "name": "stdout",
          "output_type": "stream",
          "text": [
            "your globalip: 34.145.35.217\n",
            "\n",
            "Collecting usage statistics. To deactivate, set browser.gatherUsageStats to False.\n",
            "\u001b[0m\n",
            "\u001b[0m\n",
            "\u001b[34m\u001b[1m  You can now view your Streamlit app in your browser.\u001b[0m\n",
            "\u001b[0m\n",
            "\u001b[34m  Network URL: \u001b[0m\u001b[1mhttp://172.28.0.12:8501\u001b[0m\n",
            "\u001b[34m  External URL: \u001b[0m\u001b[1mhttp://34.145.35.217:8501\u001b[0m\n",
            "\u001b[0m\n",
            "\u001b[K\u001b[?25hnpx: installed 22 in 1.608s\n",
            "your url is: https://sample.loca.lt\n",
            "\u001b[34m  Stopping...\u001b[0m\n",
            "^C\n"
          ]
        }
      ],
      "source": [
        "# 現在のグローバルIPを取得して表示する\n",
        "print('your globalip: ' + requests.get('https://ifconfig.me').text)\n",
        "\n",
        "# Streamlitアプリを実行し、3秒待機してからローカルトンネルを作成する\n",
        "# sample.pyというpythonファイルを実行\n",
        "# ドメインは\"sample\"を指定\n",
        "!streamlit run sample.py & sleep 3 && npx localtunnel --port 8501 --subdomain \"sample\""
      ]
    },
    {
      "cell_type": "markdown",
      "metadata": {
        "id": "ah9V4py-eyaq"
      },
      "source": [
        "![リンクテキスト](https://imgur.com/cb9AiMP.png)"
      ]
    },
    {
      "cell_type": "markdown",
      "metadata": {
        "id": "YKXClWsxXreO"
      },
      "source": [
        "## テキストの表示"
      ]
    },
    {
      "cell_type": "markdown",
      "metadata": {
        "id": "1LjQBAffiLZJ"
      },
      "source": [
        "参考ページ：[こちら](https://data-analytics.fun/2022/01/29/understanding-streamlit-1/#i)\n",
        "\n"
      ]
    },
    {
      "cell_type": "markdown",
      "metadata": {
        "id": "wuurcr50U_NM"
      },
      "source": [
        "- `st.title()`：タイトルを表示\n",
        "- `st.header()`：ヘッダーを表示\n",
        "- `st.subheader()`：サブヘッダーを表示\n",
        "- `st.text()`：純粋なテキストを表示\n",
        "- `st.caption()`：キャプションを表示\n",
        "- `st.markdown()`：Markdownを表示\n",
        "- `st.code()`：プログラムコードを表示\n",
        "  - 引数一つ目は表示したいコード。\n",
        "  - 引数二つ目はプログラミング言語。デフォルトは\"Python\"。\n",
        "- `st.latex()`：Texを表示\n",
        "  - \"Tex\"：数式を綺麗に書くことができる表記法。\n"
      ]
    },
    {
      "cell_type": "code",
      "execution_count": null,
      "metadata": {
        "colab": {
          "base_uri": "https://localhost:8080/"
        },
        "id": "Y3jp417tdDzZ",
        "outputId": "18d976ee-2c9e-4efe-c798-9ec6645a3887"
      },
      "outputs": [
        {
          "name": "stdout",
          "output_type": "stream",
          "text": [
            "Overwriting sample2.py\n"
          ]
        }
      ],
      "source": [
        "#@title テキストの表示\n",
        "# sample2.pyというファイルに記述する\n",
        "\n",
        "%%writefile sample2.py\n",
        "import streamlit as st\n",
        "\n",
        "# タイトルを表示\n",
        "st.title(\"タイトルを表示\")\n",
        "\n",
        "# ヘッダーを表示\n",
        "st.header(\"ヘッダーを表示\")\n",
        "\n",
        "# サブヘッダーを表示\n",
        "st.subheader(\"サブヘッダーを表示\")\n",
        "\n",
        "# 純粋なテキストを表示\n",
        "st.text(\"テキストを表示\")\n",
        "\n",
        "# キャプションを表示\n",
        "st.caption(\"キャプションを表示\")"
      ]
    },
    {
      "cell_type": "code",
      "execution_count": null,
      "metadata": {
        "id": "UB3q-ikmdcIK"
      },
      "outputs": [],
      "source": [
        "# 現在のグローバルIPを取得して表示する\n",
        "print('your globalip: ' + requests.get('https://ifconfig.me').text)\n",
        "\n",
        "# Streamlitアプリを実行し、3秒待機してからローカルトンネルを作成する\n",
        "# sample2.pyというpythonファイルを実行\n",
        "# ドメインは\"sample\"を指定\n",
        "!streamlit run sample2.py & sleep 3 && npx localtunnel --port 8501 --subdomain \"sample\""
      ]
    },
    {
      "cell_type": "markdown",
      "metadata": {
        "id": "JWsIURbBeDYZ"
      },
      "source": [
        "以下のように表示されます。\n",
        "\n",
        "![](https://imgur.com/cahrOBs.png)"
      ]
    },
    {
      "cell_type": "code",
      "execution_count": null,
      "metadata": {
        "colab": {
          "base_uri": "https://localhost:8080/"
        },
        "id": "tCD115qBivEM",
        "outputId": "0899b592-7d76-4b7e-d5bd-84670dbff032"
      },
      "outputs": [
        {
          "name": "stdout",
          "output_type": "stream",
          "text": [
            "Writing sample3.py\n"
          ]
        }
      ],
      "source": [
        "# sample3.pyというファイルに記述する\n",
        "\n",
        "%%writefile sample3.py\n",
        "import streamlit as st\n",
        "\n",
        "markdown = \"\"\"\n",
        "### pythonによるHello, world!\n",
        "``` py\n",
        "print(\"Hello, world!\")\n",
        "````\n",
        "\"\"\"\n",
        "\n",
        "code = \"\"\"\n",
        "#include <stdio.h>\n",
        "\n",
        "int main() {\n",
        "    printf(\"Hello, world!\\\\n\");\n",
        "    return 0;\n",
        "}\n",
        "\"\"\"\n",
        "\n",
        "# markdownを表示\n",
        "st.markdown(markdown)\n",
        "\n",
        "# プログラムコードを表示\n",
        "st.subheader(\"C言語によるHello, world!\")\n",
        "st.code(code, language=\"c\")\n",
        "\n",
        "# 数式を表示\n",
        "st.subheader(\"運動方程式\")\n",
        "st.latex(\"M\\ddot{x}=F\")"
      ]
    },
    {
      "cell_type": "code",
      "execution_count": null,
      "metadata": {
        "id": "6hzpmLyQivEO"
      },
      "outputs": [],
      "source": [
        "# 現在のグローバルIPを取得して表示する\n",
        "print('your globalip: ' + requests.get('https://ifconfig.me').text)\n",
        "\n",
        "# Streamlitアプリを実行し、3秒待機してからローカルトンネルを作成する\n",
        "# sample3.pyというpythonファイルを実行\n",
        "# ドメインは\"sample\"を指定\n",
        "!streamlit run sample3.py & sleep 3 && npx localtunnel --port 8501 --subdomain \"sample\""
      ]
    },
    {
      "cell_type": "markdown",
      "metadata": {
        "id": "w5TxcX12ivEP"
      },
      "source": [
        "以下のように表示されます。\n",
        "\n",
        "![](https://imgur.com/kp1OZ7p.png)"
      ]
    },
    {
      "cell_type": "markdown",
      "metadata": {
        "id": "YENIg6WSiqfb"
      },
      "source": [
        "## 表の表示"
      ]
    },
    {
      "cell_type": "markdown",
      "metadata": {
        "id": "zBXbv5wlqpqY"
      },
      "source": [
        "参考ページ：[こちら](https://data-analytics.fun/2022/01/29/understanding-streamlit-1/#i-2)\n",
        "\n"
      ]
    },
    {
      "cell_type": "markdown",
      "metadata": {
        "id": "PQukoD8UxInr"
      },
      "source": [
        "\n",
        "- `st.dataframe()`：インタラクティブな表を表示\n",
        "  - pandasのデータフレームを引数として渡す。\n",
        "  - 引数`width`と`height`で幅と高さを調整することができる。\n",
        "- `st.table()`：静的な表を表示\n",
        "  - pandasのデータフレームを引数として渡す。\n",
        "\n"
      ]
    },
    {
      "cell_type": "markdown",
      "metadata": {
        "id": "xei7rsyOCMoQ"
      },
      "source": [
        "ここでは、現在年のGAFAMの株価の時系列情報を取得します。\n",
        "（参考にしたサイトは[こちら](https://toukei-lab.com/python_stock)）\n",
        "\n",
        "- G：**Google**のこと。親会社は**Alphabet**。\n",
        "- A：**Apple**のこと。\n",
        "- F：**Facebook**のこと。2021年に社名を**Meta**に変更している。\n",
        "- A：**Amazon**のこと。\n",
        "- M：Microsoftのこと。"
      ]
    },
    {
      "cell_type": "markdown",
      "metadata": {
        "id": "_GFxpDO-86I_"
      },
      "source": [
        "`datatime`モジュールを使って、本日の日付までの株価を確認します。\n",
        "（3日ほどずれると思います）"
      ]
    },
    {
      "cell_type": "code",
      "execution_count": null,
      "metadata": {
        "colab": {
          "base_uri": "https://localhost:8080/",
          "height": 319
        },
        "id": "vXVH_HvjrIs5",
        "outputId": "b4388c70-277e-462d-b8ab-dcc7a421bb00"
      },
      "outputs": [
        {
          "name": "stderr",
          "output_type": "stream",
          "text": [
            "[*********************100%%**********************]  5 of 5 completed\n"
          ]
        },
        {
          "data": {
            "application/vnd.google.colaboratory.intrinsic+json": {
              "summary": "{\n  \"name\": \"df\",\n  \"rows\": 7,\n  \"fields\": [\n    {\n      \"column\": \"Google\",\n      \"properties\": {\n        \"dtype\": \"number\",\n        \"std\": 2.0070326501970155,\n        \"min\": 140.52000427246094,\n        \"max\": 145.94000244140625,\n        \"num_unique_values\": 7,\n        \"samples\": [\n          145.13999938964844,\n          145.94000244140625,\n          142.5500030517578\n        ],\n        \"semantic_type\": \"\",\n        \"description\": \"\"\n      }\n    },\n    {\n      \"column\": \"Apple\",\n      \"properties\": {\n        \"dtype\": \"number\",\n        \"std\": 1.2999679778441287,\n        \"min\": 181.55999755859375,\n        \"max\": 185.0399932861328,\n        \"num_unique_values\": 7,\n        \"samples\": [\n          185.0399932861328,\n          184.14999389648438,\n          182.32000732421875\n        ],\n        \"semantic_type\": \"\",\n        \"description\": \"\"\n      }\n    },\n    {\n      \"column\": \"Facebook\",\n      \"properties\": {\n        \"dtype\": \"number\",\n        \"std\": 8.961213859415905,\n        \"min\": 460.1199951171875,\n        \"max\": 486.1300048828125,\n        \"num_unique_values\": 7,\n        \"samples\": [\n          460.1199951171875,\n          473.2799987792969,\n          468.0299987792969\n        ],\n        \"semantic_type\": \"\",\n        \"description\": \"\"\n      }\n    },\n    {\n      \"column\": \"Amazon\",\n      \"properties\": {\n        \"dtype\": \"number\",\n        \"std\": 2.397392854617771,\n        \"min\": 167.0800018310547,\n        \"max\": 174.5800018310547,\n        \"num_unique_values\": 7,\n        \"samples\": [\n          168.63999938964844,\n          170.97999572753906,\n          168.58999633789062\n        ],\n        \"semantic_type\": \"\",\n        \"description\": \"\"\n      }\n    },\n    {\n      \"column\": \"Microsoft\",\n      \"properties\": {\n        \"dtype\": \"number\",\n        \"std\": 3.4885784844507928,\n        \"min\": 402.17999267578125,\n        \"max\": 411.6499938964844,\n        \"num_unique_values\": 7,\n        \"samples\": [\n          406.32000732421875,\n          409.489990234375,\n          402.17999267578125\n        ],\n        \"semantic_type\": \"\",\n        \"description\": \"\"\n      }\n    }\n  ]\n}",
              "type": "dataframe"
            },
            "text/html": [
              "\n",
              "  <div id=\"df-8825c3e1-e757-480e-9d8c-43e192b68646\" class=\"colab-df-container\">\n",
              "    <div>\n",
              "<style scoped>\n",
              "    .dataframe tbody tr th:only-of-type {\n",
              "        vertical-align: middle;\n",
              "    }\n",
              "\n",
              "    .dataframe tbody tr th {\n",
              "        vertical-align: top;\n",
              "    }\n",
              "\n",
              "    .dataframe thead th {\n",
              "        text-align: right;\n",
              "    }\n",
              "</style>\n",
              "<table border=\"1\" class=\"dataframe\">\n",
              "  <thead>\n",
              "    <tr style=\"text-align: right;\">\n",
              "      <th></th>\n",
              "      <th>Google</th>\n",
              "      <th>Apple</th>\n",
              "      <th>Facebook</th>\n",
              "      <th>Amazon</th>\n",
              "      <th>Microsoft</th>\n",
              "    </tr>\n",
              "    <tr>\n",
              "      <th>Date</th>\n",
              "      <th></th>\n",
              "      <th></th>\n",
              "      <th></th>\n",
              "      <th></th>\n",
              "      <th></th>\n",
              "    </tr>\n",
              "  </thead>\n",
              "  <tbody>\n",
              "    <tr>\n",
              "      <th>2024-02-13</th>\n",
              "      <td>145.139999</td>\n",
              "      <td>185.039993</td>\n",
              "      <td>460.119995</td>\n",
              "      <td>168.639999</td>\n",
              "      <td>406.320007</td>\n",
              "    </tr>\n",
              "    <tr>\n",
              "      <th>2024-02-14</th>\n",
              "      <td>145.940002</td>\n",
              "      <td>184.149994</td>\n",
              "      <td>473.279999</td>\n",
              "      <td>170.979996</td>\n",
              "      <td>409.489990</td>\n",
              "    </tr>\n",
              "    <tr>\n",
              "      <th>2024-02-15</th>\n",
              "      <td>142.770004</td>\n",
              "      <td>183.860001</td>\n",
              "      <td>484.029999</td>\n",
              "      <td>169.800003</td>\n",
              "      <td>406.559998</td>\n",
              "    </tr>\n",
              "    <tr>\n",
              "      <th>2024-02-16</th>\n",
              "      <td>140.520004</td>\n",
              "      <td>182.309998</td>\n",
              "      <td>473.320007</td>\n",
              "      <td>169.509995</td>\n",
              "      <td>404.059998</td>\n",
              "    </tr>\n",
              "    <tr>\n",
              "      <th>2024-02-20</th>\n",
              "      <td>141.119995</td>\n",
              "      <td>181.559998</td>\n",
              "      <td>471.750000</td>\n",
              "      <td>167.080002</td>\n",
              "      <td>402.790009</td>\n",
              "    </tr>\n",
              "    <tr>\n",
              "      <th>2024-02-21</th>\n",
              "      <td>142.550003</td>\n",
              "      <td>182.320007</td>\n",
              "      <td>468.029999</td>\n",
              "      <td>168.589996</td>\n",
              "      <td>402.179993</td>\n",
              "    </tr>\n",
              "    <tr>\n",
              "      <th>2024-02-22</th>\n",
              "      <td>144.089996</td>\n",
              "      <td>184.369995</td>\n",
              "      <td>486.130005</td>\n",
              "      <td>174.580002</td>\n",
              "      <td>411.649994</td>\n",
              "    </tr>\n",
              "  </tbody>\n",
              "</table>\n",
              "</div>\n",
              "    <div class=\"colab-df-buttons\">\n",
              "\n",
              "  <div class=\"colab-df-container\">\n",
              "    <button class=\"colab-df-convert\" onclick=\"convertToInteractive('df-8825c3e1-e757-480e-9d8c-43e192b68646')\"\n",
              "            title=\"Convert this dataframe to an interactive table.\"\n",
              "            style=\"display:none;\">\n",
              "\n",
              "  <svg xmlns=\"http://www.w3.org/2000/svg\" height=\"24px\" viewBox=\"0 -960 960 960\">\n",
              "    <path d=\"M120-120v-720h720v720H120Zm60-500h600v-160H180v160Zm220 220h160v-160H400v160Zm0 220h160v-160H400v160ZM180-400h160v-160H180v160Zm440 0h160v-160H620v160ZM180-180h160v-160H180v160Zm440 0h160v-160H620v160Z\"/>\n",
              "  </svg>\n",
              "    </button>\n",
              "\n",
              "  <style>\n",
              "    .colab-df-container {\n",
              "      display:flex;\n",
              "      gap: 12px;\n",
              "    }\n",
              "\n",
              "    .colab-df-convert {\n",
              "      background-color: #E8F0FE;\n",
              "      border: none;\n",
              "      border-radius: 50%;\n",
              "      cursor: pointer;\n",
              "      display: none;\n",
              "      fill: #1967D2;\n",
              "      height: 32px;\n",
              "      padding: 0 0 0 0;\n",
              "      width: 32px;\n",
              "    }\n",
              "\n",
              "    .colab-df-convert:hover {\n",
              "      background-color: #E2EBFA;\n",
              "      box-shadow: 0px 1px 2px rgba(60, 64, 67, 0.3), 0px 1px 3px 1px rgba(60, 64, 67, 0.15);\n",
              "      fill: #174EA6;\n",
              "    }\n",
              "\n",
              "    .colab-df-buttons div {\n",
              "      margin-bottom: 4px;\n",
              "    }\n",
              "\n",
              "    [theme=dark] .colab-df-convert {\n",
              "      background-color: #3B4455;\n",
              "      fill: #D2E3FC;\n",
              "    }\n",
              "\n",
              "    [theme=dark] .colab-df-convert:hover {\n",
              "      background-color: #434B5C;\n",
              "      box-shadow: 0px 1px 3px 1px rgba(0, 0, 0, 0.15);\n",
              "      filter: drop-shadow(0px 1px 2px rgba(0, 0, 0, 0.3));\n",
              "      fill: #FFFFFF;\n",
              "    }\n",
              "  </style>\n",
              "\n",
              "    <script>\n",
              "      const buttonEl =\n",
              "        document.querySelector('#df-8825c3e1-e757-480e-9d8c-43e192b68646 button.colab-df-convert');\n",
              "      buttonEl.style.display =\n",
              "        google.colab.kernel.accessAllowed ? 'block' : 'none';\n",
              "\n",
              "      async function convertToInteractive(key) {\n",
              "        const element = document.querySelector('#df-8825c3e1-e757-480e-9d8c-43e192b68646');\n",
              "        const dataTable =\n",
              "          await google.colab.kernel.invokeFunction('convertToInteractive',\n",
              "                                                    [key], {});\n",
              "        if (!dataTable) return;\n",
              "\n",
              "        const docLinkHtml = 'Like what you see? Visit the ' +\n",
              "          '<a target=\"_blank\" href=https://colab.research.google.com/notebooks/data_table.ipynb>data table notebook</a>'\n",
              "          + ' to learn more about interactive tables.';\n",
              "        element.innerHTML = '';\n",
              "        dataTable['output_type'] = 'display_data';\n",
              "        await google.colab.output.renderOutput(dataTable, element);\n",
              "        const docLink = document.createElement('div');\n",
              "        docLink.innerHTML = docLinkHtml;\n",
              "        element.appendChild(docLink);\n",
              "      }\n",
              "    </script>\n",
              "  </div>\n",
              "\n",
              "\n",
              "<div id=\"df-05325aab-9ea0-48e6-983d-b2dfd3fba3d8\">\n",
              "  <button class=\"colab-df-quickchart\" onclick=\"quickchart('df-05325aab-9ea0-48e6-983d-b2dfd3fba3d8')\"\n",
              "            title=\"Suggest charts\"\n",
              "            style=\"display:none;\">\n",
              "\n",
              "<svg xmlns=\"http://www.w3.org/2000/svg\" height=\"24px\"viewBox=\"0 0 24 24\"\n",
              "     width=\"24px\">\n",
              "    <g>\n",
              "        <path d=\"M19 3H5c-1.1 0-2 .9-2 2v14c0 1.1.9 2 2 2h14c1.1 0 2-.9 2-2V5c0-1.1-.9-2-2-2zM9 17H7v-7h2v7zm4 0h-2V7h2v10zm4 0h-2v-4h2v4z\"/>\n",
              "    </g>\n",
              "</svg>\n",
              "  </button>\n",
              "\n",
              "<style>\n",
              "  .colab-df-quickchart {\n",
              "      --bg-color: #E8F0FE;\n",
              "      --fill-color: #1967D2;\n",
              "      --hover-bg-color: #E2EBFA;\n",
              "      --hover-fill-color: #174EA6;\n",
              "      --disabled-fill-color: #AAA;\n",
              "      --disabled-bg-color: #DDD;\n",
              "  }\n",
              "\n",
              "  [theme=dark] .colab-df-quickchart {\n",
              "      --bg-color: #3B4455;\n",
              "      --fill-color: #D2E3FC;\n",
              "      --hover-bg-color: #434B5C;\n",
              "      --hover-fill-color: #FFFFFF;\n",
              "      --disabled-bg-color: #3B4455;\n",
              "      --disabled-fill-color: #666;\n",
              "  }\n",
              "\n",
              "  .colab-df-quickchart {\n",
              "    background-color: var(--bg-color);\n",
              "    border: none;\n",
              "    border-radius: 50%;\n",
              "    cursor: pointer;\n",
              "    display: none;\n",
              "    fill: var(--fill-color);\n",
              "    height: 32px;\n",
              "    padding: 0;\n",
              "    width: 32px;\n",
              "  }\n",
              "\n",
              "  .colab-df-quickchart:hover {\n",
              "    background-color: var(--hover-bg-color);\n",
              "    box-shadow: 0 1px 2px rgba(60, 64, 67, 0.3), 0 1px 3px 1px rgba(60, 64, 67, 0.15);\n",
              "    fill: var(--button-hover-fill-color);\n",
              "  }\n",
              "\n",
              "  .colab-df-quickchart-complete:disabled,\n",
              "  .colab-df-quickchart-complete:disabled:hover {\n",
              "    background-color: var(--disabled-bg-color);\n",
              "    fill: var(--disabled-fill-color);\n",
              "    box-shadow: none;\n",
              "  }\n",
              "\n",
              "  .colab-df-spinner {\n",
              "    border: 2px solid var(--fill-color);\n",
              "    border-color: transparent;\n",
              "    border-bottom-color: var(--fill-color);\n",
              "    animation:\n",
              "      spin 1s steps(1) infinite;\n",
              "  }\n",
              "\n",
              "  @keyframes spin {\n",
              "    0% {\n",
              "      border-color: transparent;\n",
              "      border-bottom-color: var(--fill-color);\n",
              "      border-left-color: var(--fill-color);\n",
              "    }\n",
              "    20% {\n",
              "      border-color: transparent;\n",
              "      border-left-color: var(--fill-color);\n",
              "      border-top-color: var(--fill-color);\n",
              "    }\n",
              "    30% {\n",
              "      border-color: transparent;\n",
              "      border-left-color: var(--fill-color);\n",
              "      border-top-color: var(--fill-color);\n",
              "      border-right-color: var(--fill-color);\n",
              "    }\n",
              "    40% {\n",
              "      border-color: transparent;\n",
              "      border-right-color: var(--fill-color);\n",
              "      border-top-color: var(--fill-color);\n",
              "    }\n",
              "    60% {\n",
              "      border-color: transparent;\n",
              "      border-right-color: var(--fill-color);\n",
              "    }\n",
              "    80% {\n",
              "      border-color: transparent;\n",
              "      border-right-color: var(--fill-color);\n",
              "      border-bottom-color: var(--fill-color);\n",
              "    }\n",
              "    90% {\n",
              "      border-color: transparent;\n",
              "      border-bottom-color: var(--fill-color);\n",
              "    }\n",
              "  }\n",
              "</style>\n",
              "\n",
              "  <script>\n",
              "    async function quickchart(key) {\n",
              "      const quickchartButtonEl =\n",
              "        document.querySelector('#' + key + ' button');\n",
              "      quickchartButtonEl.disabled = true;  // To prevent multiple clicks.\n",
              "      quickchartButtonEl.classList.add('colab-df-spinner');\n",
              "      try {\n",
              "        const charts = await google.colab.kernel.invokeFunction(\n",
              "            'suggestCharts', [key], {});\n",
              "      } catch (error) {\n",
              "        console.error('Error during call to suggestCharts:', error);\n",
              "      }\n",
              "      quickchartButtonEl.classList.remove('colab-df-spinner');\n",
              "      quickchartButtonEl.classList.add('colab-df-quickchart-complete');\n",
              "    }\n",
              "    (() => {\n",
              "      let quickchartButtonEl =\n",
              "        document.querySelector('#df-05325aab-9ea0-48e6-983d-b2dfd3fba3d8 button');\n",
              "      quickchartButtonEl.style.display =\n",
              "        google.colab.kernel.accessAllowed ? 'block' : 'none';\n",
              "    })();\n",
              "  </script>\n",
              "</div>\n",
              "\n",
              "    </div>\n",
              "  </div>\n"
            ],
            "text/plain": [
              "                Google       Apple    Facebook      Amazon   Microsoft\n",
              "Date                                                                  \n",
              "2024-02-13  145.139999  185.039993  460.119995  168.639999  406.320007\n",
              "2024-02-14  145.940002  184.149994  473.279999  170.979996  409.489990\n",
              "2024-02-15  142.770004  183.860001  484.029999  169.800003  406.559998\n",
              "2024-02-16  140.520004  182.309998  473.320007  169.509995  404.059998\n",
              "2024-02-20  141.119995  181.559998  471.750000  167.080002  402.790009\n",
              "2024-02-21  142.550003  182.320007  468.029999  168.589996  402.179993\n",
              "2024-02-22  144.089996  184.369995  486.130005  174.580002  411.649994"
            ]
          },
          "execution_count": 8,
          "metadata": {},
          "output_type": "execute_result"
        }
      ],
      "source": [
        "import streamlit as st\n",
        "import yfinance as yf\n",
        "import pandas as pd\n",
        "from datetime import datetime, timedelta\n",
        "\n",
        "# 現在の年の1月1日を取得\n",
        "start_date = datetime(datetime.today().year, 1, 1).strftime('%Y-%m-%d')\n",
        "# 取得終了日を現在日時にする（UTC+9時間で指定）\n",
        "end_date = (datetime.today() + timedelta(hours=9)).strftime('%Y-%m-%d')\n",
        "\n",
        "# Google、Apple、Facebook、Amazonの銘柄コード\n",
        "tickers = [\"GOOGL\", \"AAPL\", \"META\", \"AMZN\", \"MSFT\"]\n",
        "# 株価情報の取得\n",
        "price_data = yf.download(tickers, start=start_date, end=end_date)[\"Close\"]\n",
        "\n",
        "# データフレームの作成\n",
        "df = pd.DataFrame({\n",
        "    \"Google\": price_data[tickers[0]],\n",
        "    \"Apple\": price_data[tickers[1]],\n",
        "    \"Facebook\": price_data[tickers[2]],\n",
        "    \"Amazon\": price_data[tickers[3]],\n",
        "    \"Microsoft\": price_data[tickers[4]]\n",
        "})\n",
        "\n",
        "# DataFrameの表示\n",
        "df.iloc[-8:-1]"
      ]
    },
    {
      "cell_type": "markdown",
      "metadata": {
        "id": "d3KPrclDreE6"
      },
      "source": [
        "このデータフレームを表示してみます。\n"
      ]
    },
    {
      "cell_type": "code",
      "execution_count": null,
      "metadata": {
        "colab": {
          "base_uri": "https://localhost:8080/"
        },
        "id": "1bUPKoW0DMFB",
        "outputId": "a9cabbdf-b839-4fcd-9ec4-0017d81e6ca3"
      },
      "outputs": [
        {
          "name": "stdout",
          "output_type": "stream",
          "text": [
            "Overwriting sample4.py\n"
          ]
        }
      ],
      "source": [
        "#@title 表の表示\n",
        "# sample4.pyというファイルに記述する\n",
        "\n",
        "%%writefile sample4.py\n",
        "import streamlit as st\n",
        "import yfinance as yf\n",
        "import pandas as pd\n",
        "from datetime import datetime, timedelta\n",
        "\n",
        "# 現在の年の1月1日を取得\n",
        "start_date = datetime(datetime.today().year, 1, 1).strftime('%Y-%m-%d')\n",
        "# 取得終了日を現在日時にする（UTC+9時間で指定）\n",
        "end_date = (datetime.today() + timedelta(hours=9)).strftime('%Y-%m-%d')\n",
        "\n",
        "# Google、Apple、Facebook、Amazon, Microsoftの銘柄コード\n",
        "tickers = [\"GOOGL\", \"AAPL\", \"META\", \"AMZN\", \"MSFT\"]\n",
        "# 株価情報の取得\n",
        "price_data = yf.download(tickers, start=start_date, end=end_date)[\"Close\"]\n",
        "\n",
        "# データフレームの作成\n",
        "df = pd.DataFrame({\n",
        "    \"Google\": price_data[tickers[0]],\n",
        "    \"Apple\": price_data[tickers[1]],\n",
        "    \"Facebook\": price_data[tickers[2]],\n",
        "    \"Amazon\": price_data[tickers[3]],\n",
        "    \"Microsoft\": price_data[tickers[4]]\n",
        "})\n",
        "\n",
        "# インタラクティブな表を表示\n",
        "st.subheader(\"インタラクティブな表を表示\")\n",
        "st.dataframe(df, width=None, height=500)\n",
        "\n",
        "# 静的な表を表示\n",
        "st.subheader(\"静的な表を表示\")\n",
        "st.table(df.iloc[-8:-1])"
      ]
    },
    {
      "cell_type": "code",
      "execution_count": null,
      "metadata": {
        "id": "ttXhKqH4_WAZ"
      },
      "outputs": [],
      "source": [
        "# 現在のグローバルIPを取得して表示する\n",
        "print('your globalip: ' + requests.get('https://ifconfig.me').text)\n",
        "\n",
        "# Streamlitアプリを実行し、3秒待機してからローカルトンネルを作成する\n",
        "# sample4.pyというpythonファイルを実行\n",
        "# ドメインは\"sample\"を指定\n",
        "!streamlit run sample4.py & sleep 3 && npx localtunnel --port 8501 --subdomain \"sample\""
      ]
    },
    {
      "cell_type": "markdown",
      "metadata": {
        "id": "oWdPIXCHkB35"
      },
      "source": [
        "以下のように表示されます。\n",
        "\n",
        "![](https://imgur.com/rul1LkW.png)\n",
        "\n",
        "![](https://imgur.com/1EKluUz.png)"
      ]
    },
    {
      "cell_type": "markdown",
      "metadata": {
        "id": "n-INNjwI63xS"
      },
      "source": [
        "## なんでも表示"
      ]
    },
    {
      "cell_type": "markdown",
      "metadata": {
        "id": "S3uuIU2667ex"
      },
      "source": [
        "`st.write()`とすると、形式を渡されたデータに自動で合わせて出力してくれます。\n",
        "\n",
        "通常の文字列、Markdown、DataFrame、何でもOKです。"
      ]
    },
    {
      "cell_type": "code",
      "execution_count": null,
      "metadata": {
        "colab": {
          "base_uri": "https://localhost:8080/"
        },
        "id": "tB-i0h29ta9z",
        "outputId": "6c46ff1a-c0e6-4590-84c7-51470c4b1b39"
      },
      "outputs": [
        {
          "name": "stdout",
          "output_type": "stream",
          "text": [
            "Writing sample5.py\n"
          ]
        }
      ],
      "source": [
        "#@title なんでも表示\n",
        "# sample5.pyというファイルに記述する\n",
        "\n",
        "%%writefile sample5.py\n",
        "import streamlit as st\n",
        "import yfinance as yf\n",
        "import pandas as pd\n",
        "from datetime import datetime, timedelta\n",
        "\n",
        "# 現在の年の1月1日を取得\n",
        "start_date = datetime(datetime.today().year, 1, 1).strftime('%Y-%m-%d')\n",
        "# 取得終了日を現在日時にする（UTC+9時間で指定）\n",
        "end_date = (datetime.today() + timedelta(hours=9)).strftime('%Y-%m-%d')\n",
        "\n",
        "# Google、Apple、Facebook、Amazon, Microsoftの銘柄コード\n",
        "tickers = [\"GOOGL\", \"AAPL\", \"META\", \"AMZN\", \"MSFT\"]\n",
        "# 株価情報の取得\n",
        "price_data = yf.download(tickers, start=start_date, end=end_date)[\"Close\"]\n",
        "\n",
        "# データフレームの作成\n",
        "df = pd.DataFrame({\n",
        "    \"Google\": price_data[tickers[0]],\n",
        "    \"Apple\": price_data[tickers[1]],\n",
        "    \"Facebook\": price_data[tickers[2]],\n",
        "    \"Amazon\": price_data[tickers[3]],\n",
        "    \"Microsoft\": price_data[tickers[4]]\n",
        "})\n",
        "\n",
        "# `st.write()`による表の表示\n",
        "st.subheader(\"`st.write()`で表を表示\")\n",
        "st.write(df)\n"
      ]
    },
    {
      "cell_type": "code",
      "execution_count": null,
      "metadata": {
        "id": "YSY4kFavtyqA"
      },
      "outputs": [],
      "source": [
        "# 現在のグローバルIPを取得して表示する\n",
        "print('your globalip: ' + requests.get('https://ifconfig.me').text)\n",
        "\n",
        "# Streamlitアプリを実行し、3秒待機してからローカルトンネルを作成する\n",
        "# sample5.pyというpythonファイルを実行\n",
        "# ドメインは\"sample\"を指定\n",
        "!streamlit run sample5.py & sleep 3 && npx localtunnel --port 8501 --subdomain \"sample\""
      ]
    },
    {
      "cell_type": "markdown",
      "metadata": {
        "id": "-HDd1pdMt9Pu"
      },
      "source": [
        "以下のように表示されます。  \n",
        "`st.dataframe()`と`st.table()`と比較すると少し表示が異なります。\n",
        "\n",
        "![](https://imgur.com/BPMpJAL.png)"
      ]
    },
    {
      "cell_type": "markdown",
      "metadata": {
        "id": "z6G4OTtnAgWe"
      },
      "source": [
        "## 指標の表示・分割表示"
      ]
    },
    {
      "cell_type": "markdown",
      "metadata": {
        "id": "WNQ-zQCxuNLe"
      },
      "source": [
        "参考ページ：[こちら](https://data-analytics.fun/2022/01/29/understanding-streamlit-1/#i-2)\n",
        "\n"
      ]
    },
    {
      "cell_type": "markdown",
      "metadata": {
        "id": "XD06529yAwvv"
      },
      "source": [
        "- `st.metric()` ：指標を表示\n",
        "  - `label`：数値の説明\n",
        "  - `value`：表示する数値\n",
        "  - `delta`：直前の値との差分（省略可能）\n",
        "  - `delta_color`：\n",
        "\n",
        "    -   `normal`：プラスであれば緑色、マイナスであれば赤色\n",
        "    -   `reverse`：normalの逆\n",
        "    -   `off`：色を変えない\n",
        "- `st.columns()` ：列を分割する\n",
        "  - 引数で分割する個数を指定できる"
      ]
    },
    {
      "cell_type": "markdown",
      "metadata": {
        "id": "3ylKD3aDDa_o"
      },
      "source": [
        "本日の日付までの5社の株価を確認します。\n",
        "（3日ほどずれると思います）\n"
      ]
    },
    {
      "cell_type": "code",
      "execution_count": null,
      "metadata": {
        "colab": {
          "base_uri": "https://localhost:8080/"
        },
        "id": "7nPP6Tc-DjpN",
        "outputId": "e462e799-7c60-4e5e-e5e8-5d3e228eaca8"
      },
      "outputs": [
        {
          "name": "stdout",
          "output_type": "stream",
          "text": [
            "Overwriting sample5.py\n"
          ]
        }
      ],
      "source": [
        "#@title 指標の表示・分割表示\n",
        "# sample5.pyというファイルに記述する\n",
        "\n",
        "%%writefile sample5.py\n",
        "import streamlit as st\n",
        "import yfinance as yf\n",
        "import pandas as pd\n",
        "from datetime import datetime, timedelta\n",
        "\n",
        "# 現在の年の1月1日を取得\n",
        "start_date = datetime(datetime.today().year, 1, 1).strftime('%Y-%m-%d')\n",
        "# 取得終了日を現在日時にする（UTC+9時間で指定）\n",
        "end_date = (datetime.today() + timedelta(hours=9)).strftime('%Y-%m-%d')\n",
        "\n",
        "# Google、Apple、Facebook、Amazon, Microsoftの銘柄コード\n",
        "tickers = [\"GOOGL\", \"AAPL\", \"META\", \"AMZN\", \"MSFT\"]\n",
        "# 株価情報の取得\n",
        "price_data = yf.download(tickers, start=start_date, end=end_date)[\"Close\"]\n",
        "\n",
        "# データフレームの作成\n",
        "df = pd.DataFrame({\n",
        "    \"Google\": price_data[tickers[0]],\n",
        "    \"Apple\": price_data[tickers[1]],\n",
        "    \"Facebook\": price_data[tickers[2]],\n",
        "    \"Amazon\": price_data[tickers[3]],\n",
        "    \"Microsoft\": price_data[tickers[4]]\n",
        "})\n",
        "\n",
        "# 5社の株価\n",
        "names = [\"Google\", \"Apple\", \"Facebook\", \"Amazon\", \"Microsoft\"]\n",
        "\n",
        "st.subheader(f'{end_date.replace(\"-\", \"/\")}の株価')\n",
        "cols = st.columns(len(names))\n",
        "for name, col in zip(names, cols):\n",
        "    value = round(df.iloc[-1][name], 1)\n",
        "    delta = round(df.iloc[-1][name] - df.iloc[-2][name], 1)\n",
        "    col.metric(label=name, value=f'${value}', delta=f'{delta}')"
      ]
    },
    {
      "cell_type": "code",
      "execution_count": null,
      "metadata": {
        "colab": {
          "base_uri": "https://localhost:8080/"
        },
        "id": "nSd3Ure9Fk-k",
        "outputId": "23c1ec2b-4b48-4464-c9ff-74f5deefc8e6"
      },
      "outputs": [
        {
          "name": "stdout",
          "output_type": "stream",
          "text": [
            "\u001b[34m  Stopping...\u001b[0m\n",
            "^C\n"
          ]
        }
      ],
      "source": [
        "# 現在のグローバルIPを取得して表示する\n",
        "print('your globalip: ' + requests.get('https://ifconfig.me').text)\n",
        "\n",
        "# Streamlitアプリを実行し、3秒待機してからローカルトンネルを作成する\n",
        "# sample6.pyというpythonファイルを実行\n",
        "# ドメインは\"sample\"を指定\n",
        "!streamlit run sample6.py & sleep 3 && npx localtunnel --port 8501 --subdomain \"sample\""
      ]
    },
    {
      "cell_type": "markdown",
      "metadata": {
        "id": "RDw_UTHRkIJ6"
      },
      "source": [
        "以下のように表示されます。\n",
        "（日時は多少ズレがあると思います）\n",
        "\n",
        "![](https://imgur.com/s8h6uCI.png)"
      ]
    },
    {
      "cell_type": "markdown",
      "metadata": {
        "id": "QwL3aAsQHyU4"
      },
      "source": [
        "## グラフの表示"
      ]
    },
    {
      "cell_type": "markdown",
      "metadata": {
        "id": "x12bMohAuOB3"
      },
      "source": [
        "参考ページ：[こちら](https://data-analytics.fun/2022/01/29/understanding-streamlit-1/#i-3)\n",
        "\n"
      ]
    },
    {
      "cell_type": "markdown",
      "metadata": {
        "id": "isbunQO7n-eM"
      },
      "source": [
        "- `st.line_chart()` ：折れ線グラフを表示\n",
        "- `st.area_chart()` ：エリアチャートを表示\n",
        "- `st.bar_chart()` ：棒グラフを表示\n",
        "  - 引数`width`と`height`で幅と高さを調整することができる。\n",
        "  - 引数`use_container_width`を`True`とすると、画像を列のサイズに自動的に合わせる。"
      ]
    },
    {
      "cell_type": "code",
      "execution_count": null,
      "metadata": {
        "colab": {
          "base_uri": "https://localhost:8080/"
        },
        "id": "xA1vcitGLK_q",
        "outputId": "b8f869fb-1ea3-4886-94f6-bc6c82507fae"
      },
      "outputs": [
        {
          "name": "stdout",
          "output_type": "stream",
          "text": [
            "Writing sample7.py\n"
          ]
        }
      ],
      "source": [
        "#@title グラフの表示①\n",
        "# sample7.pyというファイルに記述する\n",
        "\n",
        "%%writefile sample7.py\n",
        "import streamlit as st\n",
        "import yfinance as yf\n",
        "import pandas as pd\n",
        "from datetime import datetime, timedelta\n",
        "\n",
        "# 現在の年の1月1日を取得\n",
        "start_date = datetime(datetime.today().year, 1, 1).strftime('%Y-%m-%d')\n",
        "# 取得終了日を現在日時にする（UTC+9時間で指定）\n",
        "end_date = (datetime.today() + timedelta(hours=9)).strftime('%Y-%m-%d')\n",
        "\n",
        "# Google、Apple、Facebook、Amazon, Microsoftの銘柄コード\n",
        "tickers = [\"GOOGL\", \"AAPL\", \"META\", \"AMZN\", \"MSFT\"]\n",
        "# 株価情報の取得\n",
        "price_data = yf.download(tickers, start=start_date, end=end_date)[\"Close\"]\n",
        "\n",
        "# データフレームの作成\n",
        "df = pd.DataFrame({\n",
        "    \"Google\": price_data[tickers[0]],\n",
        "    \"Apple\": price_data[tickers[1]],\n",
        "    \"Facebook\": price_data[tickers[2]],\n",
        "    \"Amazon\": price_data[tickers[3]],\n",
        "    \"Microsoft\": price_data[tickers[4]]\n",
        "})\n",
        "\n",
        "# 現在年の株価推移（線グラフ）\n",
        "st.subheader(f\"{datetime.today().year}年の株価推移（線グラフ）\")\n",
        "st.line_chart(df)\n",
        "\n",
        "# 2023年の株価推移（エリアグラフ）\n",
        "st.subheader(f\"{datetime.today().year}年の株価推移（エリアグラフ）\")\n",
        "st.area_chart(df)\n",
        "\n",
        "# 2023年の株価変化率の比較\n",
        "# リターンの計算\n",
        "df_return = df.apply(lambda x: (x[-1] - x[0]) / x[0], axis=0)\n",
        "st.subheader(f\"{datetime.today().year}年の株価変化率の比較\")\n",
        "st.bar_chart(df_return)"
      ]
    },
    {
      "cell_type": "code",
      "execution_count": null,
      "metadata": {
        "id": "6DtW4_3oMLiv"
      },
      "outputs": [],
      "source": [
        "# 現在のグローバルIPを取得して表示する\n",
        "print('your globalip: ' + requests.get('https://ifconfig.me').text)\n",
        "\n",
        "# Streamlitアプリを実行し、3秒待機してからローカルトンネルを作成する\n",
        "# sample7.pyというpythonファイルを実行\n",
        "# ドメインは\"sample\"を指定\n",
        "!streamlit run sample7.py & sleep 3 && npx localtunnel --port 8501 --subdomain \"sample\""
      ]
    },
    {
      "cell_type": "markdown",
      "metadata": {
        "id": "bAxpYXlLnb13"
      },
      "source": [
        "以下のように表示されます。\n",
        "\n",
        "![](https://imgur.com/Sykdio8.png)\n",
        "\n",
        "![](https://imgur.com/Xn3YzTy.png)\n",
        "\n",
        "![](https://imgur.com/fiVwpvi.png)"
      ]
    },
    {
      "cell_type": "markdown",
      "metadata": {
        "id": "aqSnJhHnNtKu"
      },
      "source": [
        "ライブラリ**Matplotlib**でグラフを作成し、それをstreamlitで表示することができます。  \n",
        "`st.pyplot()`を使います。\n",
        "\n",
        "今までのグラフよりも細かい設定をすることができるようになります。"
      ]
    },
    {
      "cell_type": "markdown",
      "metadata": {
        "id": "MepRbk2Utk4K"
      },
      "source": [
        "さらに、ライブラリ**Plotly**を使うことで、インタラクティブなグラフを作成することができます。  \n",
        "`st.plotly_chart()`を使います。\n",
        "\n",
        "参考になるページ：[こちら](https://data-analytics.fun/2021/11/19/plotly-summary/)"
      ]
    },
    {
      "cell_type": "code",
      "execution_count": null,
      "metadata": {
        "colab": {
          "base_uri": "https://localhost:8080/"
        },
        "id": "WmrLVyvdOUGj",
        "outputId": "72bd8bf1-61ab-444c-867e-3782ac345a74"
      },
      "outputs": [
        {
          "name": "stdout",
          "output_type": "stream",
          "text": [
            "Overwriting sample8.py\n"
          ]
        }
      ],
      "source": [
        "#@title グラフの表示②\n",
        "# sample8.pyというファイルに記述する\n",
        "\n",
        "%%writefile sample8.py\n",
        "import streamlit as st\n",
        "import yfinance as yf\n",
        "import pandas as pd\n",
        "from datetime import datetime, timedelta\n",
        "import matplotlib.pyplot as plt\n",
        "import plotly.graph_objects as go\n",
        "\n",
        "# 現在の年の1月1日を取得\n",
        "start_date = datetime(datetime.today().year, 1, 1).strftime('%Y-%m-%d')\n",
        "# 取得終了日を現在日時にする（UTC+9時間で指定）\n",
        "end_date = (datetime.today() + timedelta(hours=9)).strftime('%Y-%m-%d')\n",
        "\n",
        "# Google、Apple、Facebook、Amazon, Microsoftの銘柄コード\n",
        "tickers = [\"GOOGL\", \"AAPL\", \"META\", \"AMZN\", \"MSFT\"]\n",
        "# 株価情報の取得\n",
        "price_data = yf.download(tickers, start=start_date, end=end_date)[\"Close\"]\n",
        "\n",
        "# データフレームの作成\n",
        "df = pd.DataFrame({\n",
        "    \"Google\": price_data[tickers[0]],\n",
        "    \"Apple\": price_data[tickers[1]],\n",
        "    \"Facebook\": price_data[tickers[2]],\n",
        "    \"Amazon\": price_data[tickers[3]],\n",
        "    \"Microsoft\": price_data[tickers[4]]\n",
        "})\n",
        "\n",
        "# Google、Apple、Facebook、Amazon, Microsoft\n",
        "names = [\"Google\", \"Apple\", \"Facebook\", \"Amazon\", \"Microsoft\"]\n",
        "# リターンの計算\n",
        "df_return = df.apply(lambda x: (x[-1] - x[0]) / x[0], axis=0)\n",
        "\n",
        "# 現在年の株価変化率の比較(matplotlib)\n",
        "fig, ax = plt.subplots()\n",
        "ax.bar(x=names, height=df_return[names], color='green', width=0.6, alpha=0.6)\n",
        "st.subheader(f'{datetime.today().year}年の株価変化率の比較')\n",
        "st.pyplot(fig)\n",
        "\n",
        "# 現在年の株価変化率の比較(plotly)\n",
        "fig = go.Figure()\n",
        "for company in df.columns:\n",
        "    fig.add_trace(go.Scatter(x=df.index,\n",
        "                             y=df[company],\n",
        "                             mode='lines',\n",
        "                             name=company,\n",
        "                             line=dict(width=3))\n",
        "                 )\n",
        "fig.update_layout(\n",
        "    title=\"現在年の株価変化率の比較\",\n",
        "    plot_bgcolor='white',\n",
        "    legend=dict(x=1.02, y=1.0, orientation='v'),  # 凡例をグラフの外に配置\n",
        "    xaxis=dict(tickfont_color='grey', showline=True, linewidth=1, linecolor='lightgrey'),\n",
        "    yaxis=dict(tickfont_color='grey', showline=True, linewidth=1, linecolor='lightgrey')\n",
        ")\n",
        "\n",
        "st.subheader(f'{datetime.today().year}年の株価変化率の比較')\n",
        "st.plotly_chart(fig)"
      ]
    },
    {
      "cell_type": "code",
      "execution_count": null,
      "metadata": {
        "id": "-3D4IjbtuiHE"
      },
      "outputs": [],
      "source": [
        "# 現在のグローバルIPを取得して表示する\n",
        "print('your globalip: ' + requests.get('https://ifconfig.me').text)\n",
        "\n",
        "# Streamlitアプリを実行し、3秒待機してからローカルトンネルを作成する\n",
        "# sample8.pyというpythonファイルを実行\n",
        "# ドメインは\"sample\"を指定\n",
        "!streamlit run sample8.py & sleep 3 && npx localtunnel --port 8501 --subdomain \"sample\""
      ]
    },
    {
      "cell_type": "markdown",
      "metadata": {
        "id": "2x1akFmOoPMg"
      },
      "source": [
        "以下のように表示されます。\n",
        "\n",
        "![](https://imgur.com/1OoPZVx.png)\n",
        "\n",
        "![](https://imgur.com/FAfzwPp.png)"
      ]
    },
    {
      "cell_type": "markdown",
      "metadata": {
        "id": "koM6Xl5qxwGI"
      },
      "source": [
        "## ウィジェットの表示①"
      ]
    },
    {
      "cell_type": "markdown",
      "metadata": {
        "id": "wEzS2CzmwTkv"
      },
      "source": [
        "普通にウィジェットを作るとHTML、CSS、JavaScriptなどを何行も書かないといけなくなるようですが、\n",
        "Streamlitを使うとほんの数行で書くことができて非常に便利です。"
      ]
    },
    {
      "cell_type": "markdown",
      "metadata": {
        "id": "bSspiZ5eoypC"
      },
      "source": [
        "参考ページ：[こちら](https://data-analytics.fun/2022/06/26/streamlit-widget-1/)  \n",
        "公式ページ：[こちら](https://docs.streamlit.io/library/api-reference/widgets)\n",
        "\n"
      ]
    },
    {
      "cell_type": "markdown",
      "metadata": {
        "id": "QSCfHETMyuSg"
      },
      "source": [
        "- `st.button()` ：ボタンを作成\n",
        "  - `label`プロパティ：表示するラベルを指定できる\n",
        "``` python\n",
        "col = st.columns(3)\n",
        "button_1 = col[0].button(f'{datetime.today().year}年')\n",
        "button_2 = col[1].button(f'{datetime.today().year - 1}年')\n",
        "button_3 = col[2].button(f'{datetime.today().year - 2}年')\n",
        "```\n",
        "![](https://imgur.com/vfMHmWh.png)\n",
        "\n"
      ]
    },
    {
      "cell_type": "markdown",
      "metadata": {
        "id": "78lqTCqscRao"
      },
      "source": [
        "- `st.download_button()` ：ダウンロードボタンを作成\n",
        "\n",
        "  - `label`：ボタンに対するラベル\n",
        "  -`data`：ダウンロードするデータ\n",
        "  -`file_name`：ファイルをダウンロードしたときのファイル名\n",
        "  -`mine`：ファイルの形式を設定  「`text/csv`」,「`text/plain`」,「`image/png`」などがある\n",
        "``` python\n",
        "csv_data = df_1[stocks].to_csv().encode('UTF-8')\n",
        "st.download_button(\n",
        "      label='Data Download',\n",
        "      data=csv_data,\n",
        "      file_name=f'stockprice_{datetime.today().year}.csv',\n",
        "      mime='text/csv',\n",
        ")\n",
        "```\n",
        "![](https://imgur.com/tJh2fiu.png)\n",
        "\n",
        "\n"
      ]
    },
    {
      "cell_type": "markdown",
      "metadata": {
        "id": "F7PktfF3cUn9"
      },
      "source": [
        "- `st.checkbox()`：チェックボックスを作成\n",
        "  - `label`プロパティ：選択肢を指定する\n",
        "``` python\n",
        "col = st.columns(5)\n",
        "    stocks = []\n",
        "    if col[0].checkbox(label='Google', key='google'):\n",
        "        stocks.append('Google')\n",
        "    if col[1].checkbox(label='Apple', key='apple'):\n",
        "        stocks.append('Apple')\n",
        "    if col[2].checkbox(label='Facebook', key='facebook'):\n",
        "        stocks.append('Facebook')\n",
        "    if col[3].checkbox(label='Amazon', key='amazon'):\n",
        "        stocks.append('Amazon')\n",
        "    if col[4].checkbox(label='Microsoft', key='microsoft'):\n",
        "        stocks.append('Microsoft')\n",
        "```\n",
        "![](https://imgur.com/6UY8jYS.png)\n",
        "\n",
        "\n"
      ]
    },
    {
      "cell_type": "markdown",
      "metadata": {
        "id": "PgU6EToqcW45"
      },
      "source": [
        "- `st.radio()`：ラジオボタンを作成\n",
        "  - 複数の選択肢の中から一つ選ぶボタンを作成できる。\n",
        "  - `label`：ラジオボタンの上に表示するテキスト\n",
        "  - `options`：選択するリスト\n",
        "  - `index`：デフォルトで選択されている項目\n",
        "  - `horizontal`：`True`にすると横に並べて表示\n",
        "``` python\n",
        "names = [\"Google\", \"Apple\", \"Facebook\", \"Amazon\", \"Microsoft\"]\n",
        "st.radio(\n",
        "      label='銘柄を選択してください',\n",
        "      options=names,\n",
        "      index=0,\n",
        "      horizontal=True,\n",
        ")\n",
        "```\n",
        "![](https://imgur.com/NYUwPmg.png)\n",
        "\n"
      ]
    },
    {
      "cell_type": "markdown",
      "metadata": {
        "id": "dJX6EFXgcYnL"
      },
      "source": [
        "- `st.selectbox()` ：セレクトボックスを作成\n",
        "  - `label`：セレクトボックスの上に表示するテキスト\n",
        "  - `options`：選択項目を設定（リスト、Series、indexなど）\n",
        "``` python\n",
        "select_modes = [\"チェックボックス\", \"ラジオボタン\", \"セレクトボックス\"]\n",
        "st.selectbox(\n",
        "      label=\"銘柄の選択方法を選んでください\",\n",
        "      options=select_modes,\n",
        ")\n",
        "```\n",
        "![](https://imgur.com/0VoygNm.png)\n"
      ]
    },
    {
      "cell_type": "markdown",
      "metadata": {
        "id": "36yNgGVNcaC4"
      },
      "source": [
        "\n",
        "- `st.multiselect()`：マルチセレクトボックスを作成\n",
        "  - `label`：セレクトボックスの上に表示するテキスト\n",
        "  - `options`：選択項目を設定（リスト、Series、indexなど）\n",
        "  - `default`：指定したラベルが最初から選択された状態になる\n",
        "``` python\n",
        "names = [\"Google\", \"Apple\", \"Facebook\", \"Amazon\", \"Microsoft\"]\n",
        "stocks = st.multiselect(\n",
        "      label=\"銘柄を選んでください\",\n",
        "      options=names,\n",
        "      default=[\"Google\", \"Apple\"]\n",
        ")\n",
        "```\n",
        "![](https://imgur.com/cV5zAF0.png)"
      ]
    },
    {
      "cell_type": "code",
      "execution_count": null,
      "metadata": {
        "colab": {
          "base_uri": "https://localhost:8080/"
        },
        "id": "nGnyu6kzyuT-",
        "outputId": "ab55364a-5f88-4747-aca3-15bb62435b63"
      },
      "outputs": [
        {
          "name": "stdout",
          "output_type": "stream",
          "text": [
            "Overwriting sample9.py\n"
          ]
        }
      ],
      "source": [
        "#@title ウィジェットの表示①\n",
        "# sample9.pyというファイルに記述する\n",
        "\n",
        "%%writefile sample9.py\n",
        "import streamlit as st\n",
        "import yfinance as yf\n",
        "import pandas as pd\n",
        "from datetime import datetime, timedelta\n",
        "\n",
        "def select_mode(mode):\n",
        "    # Google、Apple、Facebook、Amazon, Microsoft\n",
        "    names = [\"Google\", \"Apple\", \"Facebook\", \"Amazon\", \"Microsoft\"]\n",
        "\n",
        "    # チェックボックス\n",
        "    if mode==\"チェックボックス\":\n",
        "        col = st.columns(5)\n",
        "        stocks = []\n",
        "        if col[0].checkbox(label='Google', key='google'):\n",
        "            stocks.append('Google')\n",
        "        if col[1].checkbox(label='Apple', key='apple'):\n",
        "            stocks.append('Apple')\n",
        "        if col[2].checkbox(label='Facebook', key='facebook'):\n",
        "            stocks.append('Facebook')\n",
        "        if col[3].checkbox(label='Amazon', key='amazon'):\n",
        "            stocks.append('Amazon')\n",
        "        if col[4].checkbox(label='Microsoft', key='microsoft'):\n",
        "            stocks.append('Microsoft')\n",
        "    elif mode==\"ラジオボタン\":\n",
        "        # ラジオボタンで銘柄を選択する\n",
        "        stocks = st.radio(label='銘柄を選択してください', options=names, index=0, horizontal=True)\n",
        "    elif mode==\"セレクトボックス\":\n",
        "        # セレクトボックスで銘柄を選択する\n",
        "        stocks = st.multiselect(label=\"銘柄を選んでください\", options=names, default=[\"Google\", \"Apple\"])\n",
        "    return stocks\n",
        "\n",
        "# Google、Apple、Facebook、Amazon, Microsoftの銘柄コード\n",
        "tickers = [\"GOOGL\", \"AAPL\", \"META\", \"AMZN\", \"MSFT\"]\n",
        "\n",
        "# 過去3年分のデータを取得し、それぞれのデータフレームを作成する\n",
        "for minus in range(3):\n",
        "    # 1月1日を取得\n",
        "    start_date = datetime(datetime.today().year - minus, 1, 1).strftime('%Y-%m-%d')\n",
        "    # 12月31日を取得\n",
        "    end_date = datetime(datetime.today().year - minus, 12, 31).strftime('%Y-%m-%d')\n",
        "\n",
        "    # 株価情報の取得\n",
        "    price_data = yf.download(tickers, start=start_date, end=end_date)[\"Close\"]\n",
        "\n",
        "    # データフレームの作成\n",
        "    globals()[f\"df_{minus+1}\"] = pd.DataFrame({\n",
        "        \"Google\": price_data[tickers[0]],\n",
        "        \"Apple\": price_data[tickers[1]],\n",
        "        \"Facebook\": price_data[tickers[2]],\n",
        "        \"Amazon\": price_data[tickers[3]],\n",
        "        \"Microsoft\": price_data[tickers[4]]\n",
        "    })\n",
        "\n",
        "st.header('株価推移')\n",
        "# 3つの列を作成\n",
        "col = st.columns(3)\n",
        "# 3年分のボタン\n",
        "button_1 = col[0].button(f'{datetime.today().year}年')\n",
        "button_2 = col[1].button(f'{datetime.today().year - 1}年')\n",
        "button_3 = col[2].button(f'{datetime.today().year - 2}年')\n",
        "# 選択モードのリスト\n",
        "select_modes = [\"チェックボックス\", \"ラジオボタン\", \"セレクトボックス\"]\n",
        "\n",
        "# 現在年のボタン\n",
        "if button_1:\n",
        "    st.subheader(f'{datetime.today().year}年の株価推移')\n",
        "    # 選択モードの選択\n",
        "    mode = st.selectbox(label=\"銘柄の選択方法を選んでください\", options=select_modes)\n",
        "    # 選択された銘柄の取得\n",
        "    stocks = select_mode(mode)\n",
        "    # CSVデータのエンコード\n",
        "    csv_data = df_1[stocks].to_csv().encode('UTF-8')\n",
        "    # ダウンロードボタンの表示\n",
        "    st.download_button(label='Data Download', data=csv_data, file_name=f'stockprice_{datetime.today().year}.csv', mime='text/csv',)\n",
        "    # 株価推移の折れ線グラフの表示\n",
        "    st.line_chart(df_1[stocks])\n",
        "\n",
        "# 前年のボタン\n",
        "elif button_2:\n",
        "    st.subheader(f'{datetime.today().year - 1}年の株価推移')\n",
        "    # 選択モードの選択\n",
        "    mode = st.selectbox(label=\"銘柄の選択方法を選んでください\", options=select_modes)\n",
        "    # 選択された銘柄の取得\n",
        "    stocks = select_mode(mode)\n",
        "    # CSVデータのエンコード\n",
        "    csv = df_2[stocks].to_csv().encode('UTF-8')\n",
        "    # ダウンロードボタンの表示\n",
        "    st.download_button(label='Data Download', data=csv_data, file_name=f'stockprice_{datetime.today().year - 1}.csv', mime='text/csv',)\n",
        "    # 株価推移の折れ線グラフの表示\n",
        "    st.line_chart(df_2[stocks])\n",
        "\n",
        "# 2年前のボタン\n",
        "elif button_3:\n",
        "    st.subheader(f'{datetime.today().year - 2}年の株価推移')\n",
        "    # 選択モードの選択\n",
        "    mode = st.selectbox(label=\"銘柄の選択方法を選んでください\", options=select_modes)\n",
        "    # 選択された銘柄の取得\n",
        "    stocks = select_mode(mode)\n",
        "    # CSVデータのエンコード\n",
        "    csv_data = df_3[stocks].to_csv().encode('UTF-8')\n",
        "    # ダウンロードボタンの表示\n",
        "    st.download_button(label='Data Download', data=csv_data, file_name=f'stockprice_{datetime.today().year - 2}.csv', mime='text/csv',)\n",
        "    # 株価推移の折れ線グラフの表示\n",
        "    st.line_chart(df_3[stocks])\n",
        "\n",
        "else:\n",
        "    st.subheader(f'{datetime.today().year}年の株価推移')\n",
        "    # 選択モードの選択\n",
        "    mode = st.selectbox(label=\"銘柄の選択方法を選んでください\", options=select_modes)\n",
        "    # 選択された銘柄の取得\n",
        "    stocks = select_mode(mode)\n",
        "    # CSVデータのエンコード\n",
        "    csv_data = df_1[stocks].to_csv().encode('UTF-8')\n",
        "    # ダウンロードボタンの表示\n",
        "    st.download_button(label='Data Download', data=csv_data, file_name=f'stockprice_{datetime.today().year}.csv', mime='text/csv',)\n",
        "    # 株価推移の折れ線グラフの表示\n",
        "    st.line_chart(df_1[stocks])"
      ]
    },
    {
      "cell_type": "code",
      "execution_count": null,
      "metadata": {
        "id": "B2M00Xri1v2y"
      },
      "outputs": [],
      "source": [
        "# 現在のグローバルIPを取得して表示する\n",
        "print('your globalip: ' + requests.get('https://ifconfig.me').text)\n",
        "\n",
        "# Streamlitアプリを実行し、3秒待機してからローカルトンネルを作成する\n",
        "# sample9.pyというpythonファイルを実行\n",
        "# ドメインは\"sample\"を指定\n",
        "!streamlit run sample9.py & sleep 3 && npx localtunnel --port 8501 --subdomain \"sample\""
      ]
    },
    {
      "cell_type": "markdown",
      "metadata": {
        "id": "wzSz50ERKixr"
      },
      "source": [
        "## ウィジェットの表示②"
      ]
    },
    {
      "cell_type": "markdown",
      "metadata": {
        "id": "I6uhcPDapQAD"
      },
      "source": [
        "参考ページ：[こちら](https://data-analytics.fun/2022/06/26/streamlit-widget-2/)  \n",
        "公式ページ：[こちら](https://docs.streamlit.io/library/api-reference/widgets)\n",
        "\n"
      ]
    },
    {
      "cell_type": "markdown",
      "metadata": {
        "id": "yiRQmp0A5soa"
      },
      "source": [
        "- `st.slider()` ：スライダーを作成\n",
        "  - `label`プロパティ：スライダーの上部に表示するテキスト\n",
        "  - `min_value`プロパティ：選択できる最小の値。\n",
        "  - `max_value`プロパティ：選択できる最大の値。\n",
        "  - `step`プロパティ：選択できる値の間隔。  \n",
        "   　　　　　　　　  デフォルトはint型の場合1、float型の場合0.01、日付の場合は1日。\n",
        "  - `format`プロパティ：日付などのフォーマットを指定。\n",
        "``` python\n",
        "# スライダーを表示し、ユーザーが月を選択する\n",
        "month = st.slider(label=\"月を選択してください\",\n",
        "        min_value=1,\n",
        "        max_value=12,\n",
        "        step=1,\n",
        "        format='%d月',\n",
        "    )\n",
        "```\n",
        "![](https://imgur.com/f8qPwEZ.png)\n",
        "``` python\n",
        "# スライダーを表示し、ユーザーが期間を選択する\n",
        "last_year = datetime.today().year - 1\n",
        "dates = st.slider(label=\"スライダー\",\n",
        "        min_value=datetime(last_year, 1, 1),\n",
        "        max_value=datetime(last_year, 12, 31),\n",
        "        value=(datetime(last_year, 1, 1), datetime(last_year, 12, 31))\n",
        ")\n",
        "```\n",
        "![](https://imgur.com/7bCl9aP.png)\n",
        "\n"
      ]
    },
    {
      "cell_type": "markdown",
      "metadata": {
        "id": "Zu-SPcLf7e3q"
      },
      "source": [
        "- `st.number_input()` ：数字を入力するウィジェットを作成\n",
        "  - `label`：スライダーの上部に表示するテキスト。\n",
        "  - `min_value`：選択できる最小の値。\n",
        "  - `max_value`：選択できる最大の値。\n",
        "  - `value`：デフォルトで表示する値。\n",
        "  - `step`：選択できる値の間隔。  \n",
        "  　　　  デフォルトはint型の場合1、float型の場合0.01、日付の場合は1日。\n",
        "  - `format`：日付などのフォーマットを指定。\n",
        "``` python\n",
        "# 数値入力フィールドを表示し、ユーザーが月を入力する\n",
        "month = st.number_input(\n",
        "    label=\"月を選択してください\",\n",
        "    min_value = 1,\n",
        "    max_value = 12,\n",
        "    value = 1,\n",
        ")\n",
        "```\n",
        "![](https://imgur.com/1QRhIb4.png)\n",
        "\n"
      ]
    },
    {
      "cell_type": "markdown",
      "metadata": {
        "id": "zy_1FWt38bdg"
      },
      "source": [
        "- `st.text_input()` ：テキストを入力するウィジェットを作成（一行）\n",
        "  - `label`：スライダーの上部に表示するテキスト。\n",
        "  - `value`： デフォルトで表示されるテキスト。\n",
        "``` python\n",
        "# テキスト入力フィールドを表示し、ユーザーがコメントを入力する\n",
        "text = st.text_input(\n",
        "        label=\"コメントを入力してください\",\n",
        "        value=\"コメント未入力\"\n",
        "    )\n",
        "# 入力されたコメントを表示する\n",
        "st.write(f\"st.text_input()の入力内容\\n\\n{text}\", unsafe_allow_html=True)\n",
        "```\n",
        "![](https://imgur.com/ad1svfv.png)\n"
      ]
    },
    {
      "cell_type": "markdown",
      "metadata": {
        "id": "_JF_qqVb9HF_"
      },
      "source": [
        "- `st.text_area()` ：テキストを入力するウィジェットを作成（複数行）\n",
        "  - `label`：スライダーの上部に表示するテキスト。\n",
        "  - `value`： デフォルトで表示されるテキスト。\n",
        "  - `height`：高さをピクセル単位で指定。\n",
        "  - `width`： 幅をピクセル単位で指定。\n",
        "``` python\n",
        "# 長いテキスト入力フィールドを表示し、ユーザーが長いコメントを入力する\n",
        "long_text = st.text_area(\n",
        "        label=\"コメントを入力してください\",\n",
        "        value=\"コメント未入力\",\n",
        "        height=200\n",
        "    )\n",
        "# 入力された長いコメントを表示する\n",
        "st.write(f\"st.text_area()の入力内容\\n\\n{long_text}\", unsafe_allow_html=True)\n",
        "```\n",
        "![](https://imgur.com/9Swfjla.png)\n"
      ]
    },
    {
      "cell_type": "markdown",
      "metadata": {
        "id": "UUdNN_5X9yBP"
      },
      "source": [
        "- `st.date_input()` ：表示されるカレンダーをもとに日付を指定\n",
        "  - `label`：スライダーの上部に表示するテキスト。\n",
        "  - `min_value`：選択できる最小の値。\n",
        "  - `max_value`：選択できる最大の値。\n",
        "  - `value`：デフォルトで選択される日付。\n",
        "``` python\n",
        "# 日付を選択する入力ウィジェットを表示し、ユーザーが日付を選択する\n",
        "last_year = datetime.today().year - 1\n",
        "date = st.date_input(\n",
        "        label=\"日付を選択してください\",\n",
        "        value=datetime(last_year, 1, 1),\n",
        "        min_value=datetime(last_year, 1, 1),\n",
        "        max_value=datetime(last_year, 12, 31),\n",
        ")\n",
        "```\n",
        "![](https://imgur.com/JwAh6bp.png)\n",
        "``` python\n",
        "# 日付入力フィールドを表示し、ユーザーが期間を入力する\n",
        "last_year = datetime.today().year - 1\n",
        "dates = st.date_input(\n",
        "        label=\"期間を選択してください\",\n",
        "        value=(datetime(last_year, 1, 1), datetime(last_year, 12, 31)),\n",
        "        min_value=datetime(last_year, 1, 1),\n",
        "        max_value=datetime(last_year, 12, 31),\n",
        ")\n",
        "```\n",
        "![](https://imgur.com/9TUAJVa.png)\n",
        "\n",
        "\n"
      ]
    },
    {
      "cell_type": "markdown",
      "metadata": {
        "id": "B3tgjFUK_r4H"
      },
      "source": [
        "- `st.file_uploader()` ：ファイルのアップローダーを作成\n",
        "  - `label`：ファイルアップローダの上に表示するラベル。\n",
        "  - `type`：受け付ける拡張子。\n",
        "  - `accept_multiple_files`：複数ファイルの選択を許容するかどうか。\n",
        "``` python\n",
        "# ファイルアップロード\n",
        "files = st.file_uploader(\n",
        "    label='ファイルをアップロードしてください',\n",
        "    accept_multiple_files=True,\n",
        ")\n",
        "# アップロードされたファイル名を表示する\n",
        "if files is not None:\n",
        "    filenames = [file.name for file in files]\n",
        "    st.write(\"アップロードされたファイル名：\", \", \".join(filenames))\n",
        "```\n",
        "![](https://imgur.com/DhzehPi.png)\n",
        "\n",
        "\n"
      ]
    },
    {
      "cell_type": "code",
      "execution_count": null,
      "metadata": {
        "colab": {
          "base_uri": "https://localhost:8080/",
          "height": 444
        },
        "id": "3458LlI7OdMc",
        "outputId": "162bfe6b-8e16-43ee-dbf4-e0fdad08e120"
      },
      "outputs": [
        {
          "name": "stderr",
          "output_type": "stream",
          "text": [
            "[*********************100%%**********************]  5 of 5 completed\n"
          ]
        },
        {
          "data": {
            "application/vnd.google.colaboratory.intrinsic+json": {
              "summary": "{\n  \"name\": \"df_monthly\",\n  \"rows\": 12,\n  \"fields\": [\n    {\n      \"column\": \"Google\",\n      \"properties\": {\n        \"dtype\": \"number\",\n        \"std\": 0.08055870005771078,\n        \"min\": -0.08883042396401863,\n        \"max\": 0.15178776558866813,\n        \"num_unique_values\": 12,\n        \"samples\": [\n          0.06810119941606363,\n          -0.05181108625763331,\n          0.12025379777029377\n        ],\n        \"semantic_type\": \"\",\n        \"description\": \"\"\n      }\n    },\n    {\n      \"column\": \"Apple\",\n      \"properties\": {\n        \"dtype\": \"number\",\n        \"std\": 0.06491599431895946,\n        \"min\": -0.08867828198392369,\n        \"max\": 0.11864859778760506,\n        \"num_unique_values\": 12,\n        \"samples\": [\n          0.11231476369339344,\n          -0.0025699575033695243,\n          0.1105210607237126\n        ],\n        \"semantic_type\": \"\",\n        \"description\": \"\"\n      }\n    },\n    {\n      \"column\": \"Facebook\",\n      \"properties\": {\n        \"dtype\": \"number\",\n        \"std\": 0.08783339649395121,\n        \"min\": -0.07128057445077218,\n        \"max\": 0.23790930491991347,\n        \"num_unique_values\": 12,\n        \"samples\": [\n          0.08590302992854038,\n          0.0035308536982932015,\n          0.23790930491991347\n        ],\n        \"semantic_type\": \"\",\n        \"description\": \"\"\n      }\n    },\n    {\n      \"column\": \"Amazon\",\n      \"properties\": {\n        \"dtype\": \"number\",\n        \"std\": 0.08664389748581779,\n        \"min\": -0.08629878923214462,\n        \"max\": 0.22773806254069018,\n        \"num_unique_values\": 12,\n        \"samples\": [\n          0.0976782655173829,\n          0.046963447626806376,\n          0.22773806254069018\n        ],\n        \"semantic_type\": \"\",\n        \"description\": \"\"\n      }\n    },\n    {\n      \"column\": \"Microsoft\",\n      \"properties\": {\n        \"dtype\": \"number\",\n        \"std\": 0.059308758423089074,\n        \"min\": -0.03664269406817855,\n        \"max\": 0.15588160496131498,\n        \"num_unique_values\": 12,\n        \"samples\": [\n          0.1206708469970903,\n          0.07081547221397466,\n          0.03331661241913464\n        ],\n        \"semantic_type\": \"\",\n        \"description\": \"\"\n      }\n    }\n  ]\n}",
              "type": "dataframe",
              "variable_name": "df_monthly"
            },
            "text/html": [
              "\n",
              "  <div id=\"df-077627fd-af04-4657-b42f-f148fd8b5de8\" class=\"colab-df-container\">\n",
              "    <div>\n",
              "<style scoped>\n",
              "    .dataframe tbody tr th:only-of-type {\n",
              "        vertical-align: middle;\n",
              "    }\n",
              "\n",
              "    .dataframe tbody tr th {\n",
              "        vertical-align: top;\n",
              "    }\n",
              "\n",
              "    .dataframe thead th {\n",
              "        text-align: right;\n",
              "    }\n",
              "</style>\n",
              "<table border=\"1\" class=\"dataframe\">\n",
              "  <thead>\n",
              "    <tr style=\"text-align: right;\">\n",
              "      <th></th>\n",
              "      <th>Google</th>\n",
              "      <th>Apple</th>\n",
              "      <th>Facebook</th>\n",
              "      <th>Amazon</th>\n",
              "      <th>Microsoft</th>\n",
              "    </tr>\n",
              "  </thead>\n",
              "  <tbody>\n",
              "    <tr>\n",
              "      <th>1月</th>\n",
              "      <td>0.120254</td>\n",
              "      <td>0.110521</td>\n",
              "      <td>0.237909</td>\n",
              "      <td>0.227738</td>\n",
              "      <td>0.033317</td>\n",
              "    </tr>\n",
              "    <tr>\n",
              "      <th>2月</th>\n",
              "      <td>-0.088830</td>\n",
              "      <td>0.021623</td>\n",
              "      <td>0.174330</td>\n",
              "      <td>-0.086299</td>\n",
              "      <td>0.006497</td>\n",
              "    </tr>\n",
              "    <tr>\n",
              "      <th>3月</th>\n",
              "      <td>0.151788</td>\n",
              "      <td>0.118649</td>\n",
              "      <td>0.211501</td>\n",
              "      <td>0.096148</td>\n",
              "      <td>0.155882</td>\n",
              "    </tr>\n",
              "    <tr>\n",
              "      <th>4月</th>\n",
              "      <td>0.034802</td>\n",
              "      <td>0.028987</td>\n",
              "      <td>0.133906</td>\n",
              "      <td>0.020912</td>\n",
              "      <td>0.065765</td>\n",
              "    </tr>\n",
              "    <tr>\n",
              "      <th>5月</th>\n",
              "      <td>0.144681</td>\n",
              "      <td>0.044613</td>\n",
              "      <td>0.101531</td>\n",
              "      <td>0.143480</td>\n",
              "      <td>0.068769</td>\n",
              "    </tr>\n",
              "    <tr>\n",
              "      <th>6月</th>\n",
              "      <td>-0.025800</td>\n",
              "      <td>0.094330</td>\n",
              "      <td>0.084089</td>\n",
              "      <td>0.081108</td>\n",
              "      <td>0.036999</td>\n",
              "    </tr>\n",
              "    <tr>\n",
              "      <th>7月</th>\n",
              "      <td>0.108772</td>\n",
              "      <td>0.012785</td>\n",
              "      <td>0.110182</td>\n",
              "      <td>0.025468</td>\n",
              "      <td>-0.013567</td>\n",
              "    </tr>\n",
              "    <tr>\n",
              "      <th>8月</th>\n",
              "      <td>0.025995</td>\n",
              "      <td>-0.043675</td>\n",
              "      <td>-0.071281</td>\n",
              "      <td>0.032391</td>\n",
              "      <td>-0.024292</td>\n",
              "    </tr>\n",
              "    <tr>\n",
              "      <th>9月</th>\n",
              "      <td>-0.038995</td>\n",
              "      <td>-0.088678</td>\n",
              "      <td>0.014600</td>\n",
              "      <td>-0.078907</td>\n",
              "      <td>-0.036643</td>\n",
              "    </tr>\n",
              "    <tr>\n",
              "      <th>10月</th>\n",
              "      <td>-0.051811</td>\n",
              "      <td>-0.002570</td>\n",
              "      <td>0.003531</td>\n",
              "      <td>0.046963</td>\n",
              "      <td>0.070815</td>\n",
              "    </tr>\n",
              "    <tr>\n",
              "      <th>11月</th>\n",
              "      <td>0.068101</td>\n",
              "      <td>0.112315</td>\n",
              "      <td>0.085903</td>\n",
              "      <td>0.097678</td>\n",
              "      <td>0.120671</td>\n",
              "    </tr>\n",
              "    <tr>\n",
              "      <th>12月</th>\n",
              "      <td>0.054026</td>\n",
              "      <td>0.013583</td>\n",
              "      <td>0.081950</td>\n",
              "      <td>0.040044</td>\n",
              "      <td>-0.007574</td>\n",
              "    </tr>\n",
              "  </tbody>\n",
              "</table>\n",
              "</div>\n",
              "    <div class=\"colab-df-buttons\">\n",
              "\n",
              "  <div class=\"colab-df-container\">\n",
              "    <button class=\"colab-df-convert\" onclick=\"convertToInteractive('df-077627fd-af04-4657-b42f-f148fd8b5de8')\"\n",
              "            title=\"Convert this dataframe to an interactive table.\"\n",
              "            style=\"display:none;\">\n",
              "\n",
              "  <svg xmlns=\"http://www.w3.org/2000/svg\" height=\"24px\" viewBox=\"0 -960 960 960\">\n",
              "    <path d=\"M120-120v-720h720v720H120Zm60-500h600v-160H180v160Zm220 220h160v-160H400v160Zm0 220h160v-160H400v160ZM180-400h160v-160H180v160Zm440 0h160v-160H620v160ZM180-180h160v-160H180v160Zm440 0h160v-160H620v160Z\"/>\n",
              "  </svg>\n",
              "    </button>\n",
              "\n",
              "  <style>\n",
              "    .colab-df-container {\n",
              "      display:flex;\n",
              "      gap: 12px;\n",
              "    }\n",
              "\n",
              "    .colab-df-convert {\n",
              "      background-color: #E8F0FE;\n",
              "      border: none;\n",
              "      border-radius: 50%;\n",
              "      cursor: pointer;\n",
              "      display: none;\n",
              "      fill: #1967D2;\n",
              "      height: 32px;\n",
              "      padding: 0 0 0 0;\n",
              "      width: 32px;\n",
              "    }\n",
              "\n",
              "    .colab-df-convert:hover {\n",
              "      background-color: #E2EBFA;\n",
              "      box-shadow: 0px 1px 2px rgba(60, 64, 67, 0.3), 0px 1px 3px 1px rgba(60, 64, 67, 0.15);\n",
              "      fill: #174EA6;\n",
              "    }\n",
              "\n",
              "    .colab-df-buttons div {\n",
              "      margin-bottom: 4px;\n",
              "    }\n",
              "\n",
              "    [theme=dark] .colab-df-convert {\n",
              "      background-color: #3B4455;\n",
              "      fill: #D2E3FC;\n",
              "    }\n",
              "\n",
              "    [theme=dark] .colab-df-convert:hover {\n",
              "      background-color: #434B5C;\n",
              "      box-shadow: 0px 1px 3px 1px rgba(0, 0, 0, 0.15);\n",
              "      filter: drop-shadow(0px 1px 2px rgba(0, 0, 0, 0.3));\n",
              "      fill: #FFFFFF;\n",
              "    }\n",
              "  </style>\n",
              "\n",
              "    <script>\n",
              "      const buttonEl =\n",
              "        document.querySelector('#df-077627fd-af04-4657-b42f-f148fd8b5de8 button.colab-df-convert');\n",
              "      buttonEl.style.display =\n",
              "        google.colab.kernel.accessAllowed ? 'block' : 'none';\n",
              "\n",
              "      async function convertToInteractive(key) {\n",
              "        const element = document.querySelector('#df-077627fd-af04-4657-b42f-f148fd8b5de8');\n",
              "        const dataTable =\n",
              "          await google.colab.kernel.invokeFunction('convertToInteractive',\n",
              "                                                    [key], {});\n",
              "        if (!dataTable) return;\n",
              "\n",
              "        const docLinkHtml = 'Like what you see? Visit the ' +\n",
              "          '<a target=\"_blank\" href=https://colab.research.google.com/notebooks/data_table.ipynb>data table notebook</a>'\n",
              "          + ' to learn more about interactive tables.';\n",
              "        element.innerHTML = '';\n",
              "        dataTable['output_type'] = 'display_data';\n",
              "        await google.colab.output.renderOutput(dataTable, element);\n",
              "        const docLink = document.createElement('div');\n",
              "        docLink.innerHTML = docLinkHtml;\n",
              "        element.appendChild(docLink);\n",
              "      }\n",
              "    </script>\n",
              "  </div>\n",
              "\n",
              "\n",
              "<div id=\"df-54ceed05-5dc5-459c-a93d-965e9664d6d1\">\n",
              "  <button class=\"colab-df-quickchart\" onclick=\"quickchart('df-54ceed05-5dc5-459c-a93d-965e9664d6d1')\"\n",
              "            title=\"Suggest charts\"\n",
              "            style=\"display:none;\">\n",
              "\n",
              "<svg xmlns=\"http://www.w3.org/2000/svg\" height=\"24px\"viewBox=\"0 0 24 24\"\n",
              "     width=\"24px\">\n",
              "    <g>\n",
              "        <path d=\"M19 3H5c-1.1 0-2 .9-2 2v14c0 1.1.9 2 2 2h14c1.1 0 2-.9 2-2V5c0-1.1-.9-2-2-2zM9 17H7v-7h2v7zm4 0h-2V7h2v10zm4 0h-2v-4h2v4z\"/>\n",
              "    </g>\n",
              "</svg>\n",
              "  </button>\n",
              "\n",
              "<style>\n",
              "  .colab-df-quickchart {\n",
              "      --bg-color: #E8F0FE;\n",
              "      --fill-color: #1967D2;\n",
              "      --hover-bg-color: #E2EBFA;\n",
              "      --hover-fill-color: #174EA6;\n",
              "      --disabled-fill-color: #AAA;\n",
              "      --disabled-bg-color: #DDD;\n",
              "  }\n",
              "\n",
              "  [theme=dark] .colab-df-quickchart {\n",
              "      --bg-color: #3B4455;\n",
              "      --fill-color: #D2E3FC;\n",
              "      --hover-bg-color: #434B5C;\n",
              "      --hover-fill-color: #FFFFFF;\n",
              "      --disabled-bg-color: #3B4455;\n",
              "      --disabled-fill-color: #666;\n",
              "  }\n",
              "\n",
              "  .colab-df-quickchart {\n",
              "    background-color: var(--bg-color);\n",
              "    border: none;\n",
              "    border-radius: 50%;\n",
              "    cursor: pointer;\n",
              "    display: none;\n",
              "    fill: var(--fill-color);\n",
              "    height: 32px;\n",
              "    padding: 0;\n",
              "    width: 32px;\n",
              "  }\n",
              "\n",
              "  .colab-df-quickchart:hover {\n",
              "    background-color: var(--hover-bg-color);\n",
              "    box-shadow: 0 1px 2px rgba(60, 64, 67, 0.3), 0 1px 3px 1px rgba(60, 64, 67, 0.15);\n",
              "    fill: var(--button-hover-fill-color);\n",
              "  }\n",
              "\n",
              "  .colab-df-quickchart-complete:disabled,\n",
              "  .colab-df-quickchart-complete:disabled:hover {\n",
              "    background-color: var(--disabled-bg-color);\n",
              "    fill: var(--disabled-fill-color);\n",
              "    box-shadow: none;\n",
              "  }\n",
              "\n",
              "  .colab-df-spinner {\n",
              "    border: 2px solid var(--fill-color);\n",
              "    border-color: transparent;\n",
              "    border-bottom-color: var(--fill-color);\n",
              "    animation:\n",
              "      spin 1s steps(1) infinite;\n",
              "  }\n",
              "\n",
              "  @keyframes spin {\n",
              "    0% {\n",
              "      border-color: transparent;\n",
              "      border-bottom-color: var(--fill-color);\n",
              "      border-left-color: var(--fill-color);\n",
              "    }\n",
              "    20% {\n",
              "      border-color: transparent;\n",
              "      border-left-color: var(--fill-color);\n",
              "      border-top-color: var(--fill-color);\n",
              "    }\n",
              "    30% {\n",
              "      border-color: transparent;\n",
              "      border-left-color: var(--fill-color);\n",
              "      border-top-color: var(--fill-color);\n",
              "      border-right-color: var(--fill-color);\n",
              "    }\n",
              "    40% {\n",
              "      border-color: transparent;\n",
              "      border-right-color: var(--fill-color);\n",
              "      border-top-color: var(--fill-color);\n",
              "    }\n",
              "    60% {\n",
              "      border-color: transparent;\n",
              "      border-right-color: var(--fill-color);\n",
              "    }\n",
              "    80% {\n",
              "      border-color: transparent;\n",
              "      border-right-color: var(--fill-color);\n",
              "      border-bottom-color: var(--fill-color);\n",
              "    }\n",
              "    90% {\n",
              "      border-color: transparent;\n",
              "      border-bottom-color: var(--fill-color);\n",
              "    }\n",
              "  }\n",
              "</style>\n",
              "\n",
              "  <script>\n",
              "    async function quickchart(key) {\n",
              "      const quickchartButtonEl =\n",
              "        document.querySelector('#' + key + ' button');\n",
              "      quickchartButtonEl.disabled = true;  // To prevent multiple clicks.\n",
              "      quickchartButtonEl.classList.add('colab-df-spinner');\n",
              "      try {\n",
              "        const charts = await google.colab.kernel.invokeFunction(\n",
              "            'suggestCharts', [key], {});\n",
              "      } catch (error) {\n",
              "        console.error('Error during call to suggestCharts:', error);\n",
              "      }\n",
              "      quickchartButtonEl.classList.remove('colab-df-spinner');\n",
              "      quickchartButtonEl.classList.add('colab-df-quickchart-complete');\n",
              "    }\n",
              "    (() => {\n",
              "      let quickchartButtonEl =\n",
              "        document.querySelector('#df-54ceed05-5dc5-459c-a93d-965e9664d6d1 button');\n",
              "      quickchartButtonEl.style.display =\n",
              "        google.colab.kernel.accessAllowed ? 'block' : 'none';\n",
              "    })();\n",
              "  </script>\n",
              "</div>\n",
              "\n",
              "  <div id=\"id_538058c5-defc-4157-9f7f-bb929c82ccdf\">\n",
              "    <style>\n",
              "      .colab-df-generate {\n",
              "        background-color: #E8F0FE;\n",
              "        border: none;\n",
              "        border-radius: 50%;\n",
              "        cursor: pointer;\n",
              "        display: none;\n",
              "        fill: #1967D2;\n",
              "        height: 32px;\n",
              "        padding: 0 0 0 0;\n",
              "        width: 32px;\n",
              "      }\n",
              "\n",
              "      .colab-df-generate:hover {\n",
              "        background-color: #E2EBFA;\n",
              "        box-shadow: 0px 1px 2px rgba(60, 64, 67, 0.3), 0px 1px 3px 1px rgba(60, 64, 67, 0.15);\n",
              "        fill: #174EA6;\n",
              "      }\n",
              "\n",
              "      [theme=dark] .colab-df-generate {\n",
              "        background-color: #3B4455;\n",
              "        fill: #D2E3FC;\n",
              "      }\n",
              "\n",
              "      [theme=dark] .colab-df-generate:hover {\n",
              "        background-color: #434B5C;\n",
              "        box-shadow: 0px 1px 3px 1px rgba(0, 0, 0, 0.15);\n",
              "        filter: drop-shadow(0px 1px 2px rgba(0, 0, 0, 0.3));\n",
              "        fill: #FFFFFF;\n",
              "      }\n",
              "    </style>\n",
              "    <button class=\"colab-df-generate\" onclick=\"generateWithVariable('df_monthly')\"\n",
              "            title=\"Generate code using this dataframe.\"\n",
              "            style=\"display:none;\">\n",
              "\n",
              "  <svg xmlns=\"http://www.w3.org/2000/svg\" height=\"24px\"viewBox=\"0 0 24 24\"\n",
              "       width=\"24px\">\n",
              "    <path d=\"M7,19H8.4L18.45,9,17,7.55,7,17.6ZM5,21V16.75L18.45,3.32a2,2,0,0,1,2.83,0l1.4,1.43a1.91,1.91,0,0,1,.58,1.4,1.91,1.91,0,0,1-.58,1.4L9.25,21ZM18.45,9,17,7.55Zm-12,3A5.31,5.31,0,0,0,4.9,8.1,5.31,5.31,0,0,0,1,6.5,5.31,5.31,0,0,0,4.9,4.9,5.31,5.31,0,0,0,6.5,1,5.31,5.31,0,0,0,8.1,4.9,5.31,5.31,0,0,0,12,6.5,5.46,5.46,0,0,0,6.5,12Z\"/>\n",
              "  </svg>\n",
              "    </button>\n",
              "    <script>\n",
              "      (() => {\n",
              "      const buttonEl =\n",
              "        document.querySelector('#id_538058c5-defc-4157-9f7f-bb929c82ccdf button.colab-df-generate');\n",
              "      buttonEl.style.display =\n",
              "        google.colab.kernel.accessAllowed ? 'block' : 'none';\n",
              "\n",
              "      buttonEl.onclick = () => {\n",
              "        google.colab.notebook.generateWithVariable('df_monthly');\n",
              "      }\n",
              "      })();\n",
              "    </script>\n",
              "  </div>\n",
              "\n",
              "    </div>\n",
              "  </div>\n"
            ],
            "text/plain": [
              "       Google     Apple  Facebook    Amazon  Microsoft\n",
              "1月   0.120254  0.110521  0.237909  0.227738   0.033317\n",
              "2月  -0.088830  0.021623  0.174330 -0.086299   0.006497\n",
              "3月   0.151788  0.118649  0.211501  0.096148   0.155882\n",
              "4月   0.034802  0.028987  0.133906  0.020912   0.065765\n",
              "5月   0.144681  0.044613  0.101531  0.143480   0.068769\n",
              "6月  -0.025800  0.094330  0.084089  0.081108   0.036999\n",
              "7月   0.108772  0.012785  0.110182  0.025468  -0.013567\n",
              "8月   0.025995 -0.043675 -0.071281  0.032391  -0.024292\n",
              "9月  -0.038995 -0.088678  0.014600 -0.078907  -0.036643\n",
              "10月 -0.051811 -0.002570  0.003531  0.046963   0.070815\n",
              "11月  0.068101  0.112315  0.085903  0.097678   0.120671\n",
              "12月  0.054026  0.013583  0.081950  0.040044  -0.007574"
            ]
          },
          "execution_count": 4,
          "metadata": {},
          "output_type": "execute_result"
        }
      ],
      "source": [
        "import yfinance as yf\n",
        "import pandas as pd\n",
        "from datetime import datetime, timedelta\n",
        "\n",
        "# 株価情報の取得（現在年の一年前）\n",
        "tickers = [\"GOOGL\", \"AAPL\", \"META\", \"AMZN\", \"MSFT\"]  # Google、Apple、Facebook、Amazon, Microsoftの銘柄コード\n",
        "start_date = f\"{datetime.today().year - 1}-12-01\"  # 取得開始日\n",
        "end_date = f\"{datetime.today().year - 2}-12-31\"  # 取得終了日\n",
        "# 株価情報の取得\n",
        "price_data = yf.download(tickers, start=start_date, end=end_date)[\"Close\"]\n",
        "\n",
        "# データフレームの作成\n",
        "df = pd.DataFrame({\n",
        "    \"Google\": price_data[tickers[0]],\n",
        "    \"Apple\": price_data[tickers[1]],\n",
        "    \"Facebook\": price_data[tickers[2]],\n",
        "    \"Amazon\": price_data[tickers[3]],\n",
        "    \"Microsoft\": price_data[tickers[4]]\n",
        "})\n",
        "\n",
        "# 月ごとのリターンを計算\n",
        "df_monthly = df.resample('M').last().pct_change()\n",
        "df_monthly = df_monthly.dropna()\n",
        "\n",
        "# インデックスの変更\n",
        "months = [f\"{i}月\" for i in range(1, 13)]\n",
        "df_monthly.index = months\n",
        "df_monthly"
      ]
    },
    {
      "cell_type": "code",
      "execution_count": null,
      "metadata": {
        "colab": {
          "base_uri": "https://localhost:8080/"
        },
        "id": "9HC8SZcynu8w",
        "outputId": "2cad4132-f2e0-4557-9a7c-91f8f2fa7927"
      },
      "outputs": [
        {
          "name": "stdout",
          "output_type": "stream",
          "text": [
            "Overwriting sample10.py\n"
          ]
        }
      ],
      "source": [
        "#@title ウィジェットの表示②\n",
        "# sample10.pyというファイルに記述する\n",
        "\n",
        "%%writefile sample10.py\n",
        "import streamlit as st\n",
        "import yfinance as yf\n",
        "import pandas as pd\n",
        "from datetime import datetime, timedelta\n",
        "\n",
        "# 現在年の二年前の12月1日を取得\n",
        "start_date = datetime(datetime.today().year - 2, 12, 1).strftime('%Y-%m-%d')\n",
        "# 現在年の一年前の12月31日を取得\n",
        "end_date = datetime(datetime.today().year - 1, 12, 31).strftime('%Y-%m-%d')\n",
        "\n",
        "# Google、Apple、Facebook、Amazon, Microsoftの銘柄コード\n",
        "tickers = [\"GOOGL\", \"AAPL\", \"META\", \"AMZN\", \"MSFT\"]\n",
        "# 株価情報の取得\n",
        "price_data = yf.download(tickers, start=start_date, end=end_date)[\"Close\"]\n",
        "\n",
        "# データフレームの作成\n",
        "df = pd.DataFrame({\n",
        "    \"Google\": price_data[tickers[0]],\n",
        "    \"Apple\": price_data[tickers[1]],\n",
        "    \"Facebook\": price_data[tickers[2]],\n",
        "    \"Amazon\": price_data[tickers[3]],\n",
        "    \"Microsoft\": price_data[tickers[4]]\n",
        "})\n",
        "\n",
        "# 日ごとのリターンを計算\n",
        "df_returns = df.pct_change().dropna()\n",
        "\n",
        "# 月ごとのリターンを計算\n",
        "df_monthly = df.resample('M').last().pct_change()\n",
        "df_monthly = df_monthly.dropna()\n",
        "\n",
        "# インデックスの変更\n",
        "months = [f\"{i}月\" for i in range(1, 13)]\n",
        "df_monthly.index = months\n",
        "\n",
        "# 選択肢のリスト\n",
        "infos = [\"ある日の株価リターン\", \"月の株価リターン\", \"株価推移\"]\n",
        "# 選択ボックスを表示し、ユーザーが情報を選択する\n",
        "info = st.selectbox(label=\"取得したい情報を選んでください\", options=infos)\n",
        "\n",
        "# ある日の株価リターンの選択\n",
        "if info==\"ある日の株価リターン\":\n",
        "    # 前年の日付を取得\n",
        "    last_year = datetime.today().year - 1\n",
        "    # 日付を選択する入力ウィジェットを表示し、ユーザーが日付を選択する\n",
        "    date = st.date_input(\n",
        "            label=\"日付を選択してください\",\n",
        "            value=datetime(last_year, 1, 1),\n",
        "            min_value=datetime(last_year, 1, 1),\n",
        "            max_value=datetime(last_year, 12, 31),\n",
        "                )\n",
        "\n",
        "    # 選択された日付を文字列に変換\n",
        "    str_date = date.strftime('%Y-%m-%d')\n",
        "    # 日付がデータフレームのインデックスにあるかどうかをチェックし、適切な処理を行う\n",
        "    if str_date in df.index:\n",
        "        # 日付の株価リターンをサブヘッダーとして表示し、棒グラフで表示する\n",
        "        st.subheader(f'{date.strftime(\"%Y年%m月%d日\")}のリターン')\n",
        "        st.bar_chart(df_returns.loc[str_date])\n",
        "    else:\n",
        "        # 日付の株価リターンがないことを表示する\n",
        "        st.subheader(f'{date.strftime(\"%Y年%m月%d日\")}のリターンはありません')\n",
        "\n",
        "# 月の株価リターンの選択\n",
        "elif info==\"月の株価リターン\":\n",
        "    # 選択方法のリスト\n",
        "    modes = [\"Slider\", \"Number Input\"]\n",
        "    # 選択方法を選択するラジオボタンを表示し、ユーザーが選択する\n",
        "    mode = st.radio(label='月の選択方法を選んでください', options=modes, index=0, horizontal=True)\n",
        "    if mode==\"Slider\":\n",
        "        # スライダーを表示し、ユーザーが月を選択する\n",
        "        month = st.slider(label=\"月を選択してください\",\n",
        "            min_value=1,\n",
        "            max_value=12,\n",
        "            step=1,\n",
        "            format='%d月',\n",
        "        )\n",
        "    elif mode==\"Number Input\":\n",
        "        # 数値入力フィールドを表示し、ユーザーが月を入力する\n",
        "        month = st.number_input(\n",
        "            label=\"月を選択してください\",\n",
        "            min_value = 1,\n",
        "            max_value = 12,\n",
        "            value = 1,\n",
        "        )\n",
        "    # 選択された月の株価リターンを表示するサブヘッダーを作成し、棒グラフで表示する\n",
        "    st.subheader(f'{datetime.today().year - 1}年{month}月')\n",
        "    st.bar_chart(df_monthly.loc[f\"{month}月\"])\n",
        "\n",
        "# 株価推移の選択\n",
        "elif info==\"株価推移\":\n",
        "    # 選択方法のリスト\n",
        "    modes = [\"Slider\", \"Date Input\"]\n",
        "    # 選択方法を選択するラジオボタンを表示し、ユーザーが選択する\n",
        "    mode = st.radio(label='日付の選択方法を選んでください', options=modes, index=0, horizontal=True)\n",
        "    if mode==\"Slider\":\n",
        "        # スライダーを表示し、ユーザーが期間を選択する\n",
        "        last_year = datetime.today().year - 1\n",
        "        dates = st.slider(label=\"スライダー\",\n",
        "            min_value=datetime(last_year, 1, 1),\n",
        "            max_value=datetime(last_year, 12, 31),\n",
        "            value=(datetime(last_year, 1, 1), datetime(last_year, 12, 31))\n",
        "        )\n",
        "    elif mode==\"Date Input\":\n",
        "        # 日付入力フィールドを表示し、ユーザーが期間を入力する\n",
        "        last_year = datetime.today().year - 1\n",
        "        dates = st.date_input(\n",
        "                label=\"期間を選択してください\",\n",
        "                value=(datetime(last_year, 1, 1), datetime(last_year, 12, 31)),\n",
        "                min_value=datetime(last_year, 1, 1),\n",
        "                max_value=datetime(last_year, 12, 31),\n",
        "                    )\n",
        "\n",
        "    # 選択された期間の株価推移を表示する\n",
        "    if len(dates) == 2:\n",
        "        date_start, date_end = dates\n",
        "        start = date_start.strftime('%Y-%m-%d')\n",
        "        end = date_end.strftime('%Y-%m-%d')\n",
        "        st.subheader(f'{date_start.strftime(\"%Y年%m月%d日\")}から{date_end.strftime(\"%Y年%m月%d日\")}までの株価推移')\n",
        "        st.line_chart(df.loc[start: end])\n",
        "\n",
        "# テキスト入力フィールドを表示し、ユーザーがコメントを入力する\n",
        "text = st.text_input(\n",
        "        label=\"コメントを入力してください\",\n",
        "        value=\"コメント未入力\"\n",
        "    )\n",
        "# 入力されたコメントを表示する\n",
        "st.write(f\"st.text_input()の入力内容\\n\\n{text}\", unsafe_allow_html=True)\n",
        "\n",
        "# 長いテキスト入力フィールドを表示し、ユーザーが長いコメントを入力する\n",
        "long_text = st.text_area(\n",
        "        label=\"コメントを入力してください\",\n",
        "        value=\"コメント未入力\",\n",
        "        height=200\n",
        "    )\n",
        "# 入力された長いコメントを表示する\n",
        "st.write(f\"st.text_area()の入力内容\\n\\n{long_text}\", unsafe_allow_html=True)\n",
        "\n",
        "# ファイルアップロード\n",
        "files = st.file_uploader(\n",
        "    label='ファイルをアップロードしてください',\n",
        "    accept_multiple_files=True,\n",
        ")\n",
        "\n",
        "# アップロードされたファイル名を表示する\n",
        "if files is not None:\n",
        "    filenames = [file.name for file in files]\n",
        "    st.write(\"アップロードされたファイル名：\", \", \".join(filenames))"
      ]
    },
    {
      "cell_type": "code",
      "execution_count": null,
      "metadata": {
        "colab": {
          "background_save": true
        },
        "id": "DjcUD2RZxamA"
      },
      "outputs": [],
      "source": [
        "# 現在のグローバルIPを取得して表示する\n",
        "print('your globalip: ' + requests.get('https://ifconfig.me').text)\n",
        "\n",
        "# Streamlitアプリを実行し、3秒待機してからローカルトンネルを作成する\n",
        "# sample10.pyというpythonファイルを実行\n",
        "# ドメインは\"sample\"を指定\n",
        "!streamlit run sample10.py & sleep 3 && npx localtunnel --port 8501 --subdomain \"sample\""
      ]
    },
    {
      "cell_type": "markdown",
      "metadata": {
        "id": "As9Esgqed5N-"
      },
      "source": [
        "## レイアウト設定"
      ]
    },
    {
      "cell_type": "markdown",
      "metadata": {
        "id": "O7Utcp1ed5N_"
      },
      "source": [
        "参考ページ：[こちら](https://data-analytics.fun/2022/07/04/streamlit-layout/)  \n",
        "\n",
        "\n"
      ]
    },
    {
      "cell_type": "markdown",
      "metadata": {
        "id": "tb3V_f0vfk6W"
      },
      "source": [
        "- `st.sidebar()` ：サイドバーを作成\n",
        "  - やり方は以下の2種類ある。\n",
        "    - `st.sidebar.<メソッド>`\n",
        "    - `with st.sidebar:`\n",
        "``` python\n",
        "# Using \"with\" notation\n",
        "with st.sidebar:\n",
        "          with st.expander(\"解説を見る\"):\n",
        "              st.write(\"contents\")\n",
        "```\n",
        "``` python\n",
        "# Using object notation\n",
        "with st.sidebar.expander(\"解説を見る\"):\n",
        "            st.write(\"contents\")\n",
        "```\n",
        "![](https://imgur.com/5ynciTM.png)\n",
        "\n",
        "\n"
      ]
    },
    {
      "cell_type": "markdown",
      "source": [
        "- `st.columns()` ：1行に複数列の設定\n",
        "  - それぞれの列にはインデックスを使用してアクセスする。\n",
        "  - **整数**を指定：引数で渡された数の分**等間隔**の列を作成する  \n",
        "`st.columns(2)`とすると、幅が同じ2列が作成される\n",
        "\n",
        "  - **整数のリスト**を指定：要素の大きさに準する幅で、要素分の列を作成する  \n",
        "  `st.columns([3,7])`とすると、幅の比が3対7で分割される\n",
        "``` python\n",
        "cols = st.columns([3, 7])\n",
        "cols[0].write(\"contents\")\n",
        "```\n",
        "![](https://imgur.com/4chiuei.png)\n",
        "\n",
        "\n"
      ],
      "metadata": {
        "id": "Et4GHf8winGA"
      }
    },
    {
      "cell_type": "markdown",
      "source": [
        "- `st.tabs()` ：タブの設定\n",
        "  - 引数にはタブのラベルを含むリストを渡す。\n",
        "  - それぞれのタブは、インデックスを使用してアクセスされる。\n",
        "``` python\n",
        "tabs = tab_area.tabs([\"📈 グラフ\", \"🗃 データ\"])\n",
        "with tabs[0]:\n",
        "        st.write(\"contents1\")\n",
        "with tabs[1]:\n",
        "        st.write(\"contents2\")\n",
        "```\n",
        "![](https://imgur.com/NSTaTyA.png)\n",
        "\n",
        "\n",
        "\n",
        "\n"
      ],
      "metadata": {
        "id": "7-qrqog-X39X"
      }
    },
    {
      "cell_type": "markdown",
      "source": [
        "- `st.expander()` ：エクスパンダーを設定\n",
        "  - デフォルトは非表示だが、 \"+\" ボタンを押すことによって開くもの。\n",
        "``` python\n",
        "with st.expander(\"解説を見る\"):\n",
        "        st.subheader(\"Meta（旧Facebook）社の株価の下落(2月3日)\")\n",
        "        st.write(\"Meta社の株価が一日で約26％も急落し、これは米企業としては史上最大の減少幅となりました。\")\n",
        "        st.write(\"その背景には、2021年10～12月期の決算が約2年ぶりの減益となったことなどが挙げられます。\")\n",
        "        st.subheader(\"Meta社の株価の下落(10月27日)\")\n",
        "        st.write(\"Meta社の決算発表日であったこの日、Meta社の株価が一日で約20％も急落しました。\")\n",
        "        st.write(\"CEOがメタバース産業からの撤退を明言しない姿勢を示したことが原因とされています。\")\n",
        "```\n",
        "![](https://imgur.com/xocsvqV.png)\n",
        "\n",
        "\n"
      ],
      "metadata": {
        "id": "CD9EtfO5R6lc"
      }
    },
    {
      "cell_type": "markdown",
      "source": [
        "- `st.container()` ：コンテナの設定\n",
        "  - 複数のStreamlitコンポーネントをまとめてグループ化できるようになる。\n",
        "  - コンテナを使用することで、コンポーネントを分類し、視覚的に区別することができる。\n",
        "``` python\n",
        "cols = st.columns([3, 7])\n",
        "with cols[0].container(): # 左の列にコンテナを設定\n",
        "        st.write(\"contents1\")\n",
        "        st.write(\"contents2\")\n",
        "```\n",
        "![](https://imgur.com/4chiuei.png)\n",
        "\n",
        "\n"
      ],
      "metadata": {
        "id": "rndrgYVbTnX4"
      }
    },
    {
      "cell_type": "markdown",
      "source": [
        "- `st.empty()` ：空のウィジェットの設定\n",
        "  - 要素を自由に置き換えたり削除することが可能になる。\n",
        "``` python\n",
        "tab_area = cols[1].empty()\n",
        "if len(dates) == 2:\n",
        "        tabs = tab_area.tabs([\"📈 グラフ\", \"🗃 データ\"])\n",
        "```\n",
        "![](https://imgur.com/MFVhpoQ.png)\n"
      ],
      "metadata": {
        "id": "oXFCwDJxXRpy"
      }
    },
    {
      "cell_type": "code",
      "execution_count": null,
      "metadata": {
        "colab": {
          "base_uri": "https://localhost:8080/"
        },
        "id": "f1CBA7ndCuEs",
        "outputId": "15aa4799-d8e5-4910-a8da-75f923e4269f"
      },
      "outputs": [
        {
          "output_type": "stream",
          "name": "stdout",
          "text": [
            "Overwriting sample11.py\n"
          ]
        }
      ],
      "source": [
        "#@title レイアウト設定\n",
        "# sample11.pyというファイルに記述する\n",
        "\n",
        "%%writefile sample11.py\n",
        "import streamlit as st\n",
        "import yfinance as yf\n",
        "import pandas as pd\n",
        "from datetime import datetime, timedelta\n",
        "\n",
        "# 株価情報の取得\n",
        "tickers = [\"GOOGL\", \"AAPL\", \"META\", \"AMZN\", \"MSFT\"]  # Google、Apple、Facebook、Amazon, Microsoftの銘柄コード\n",
        "start_date = \"2021-12-31\"  # 取得開始日\n",
        "end_date = \"2022-12-31\"  # 取得終了日\n",
        "\n",
        "price_data = yf.download(tickers, start=start_date, end=end_date)[\"Close\"]\n",
        "\n",
        "# データフレームの作成\n",
        "df = pd.DataFrame({\n",
        "    \"Google\": price_data[tickers[0]],\n",
        "    \"Apple\": price_data[tickers[1]],\n",
        "    \"Facebook\": price_data[tickers[2]],\n",
        "    \"Amazon\": price_data[tickers[3]],\n",
        "    \"Microsoft\": price_data[tickers[4]]\n",
        "})\n",
        "\n",
        "cols = st.columns([3, 7])\n",
        "with cols[0].container(): # 左の列にコンテナを設定\n",
        "    # 銘柄と期間の選択\n",
        "    stocks = st.multiselect(label=\"銘柄を選んでください\",\n",
        "                options=df.columns,\n",
        "                default=[\"Google\", \"Apple\"]\n",
        "    )\n",
        "\n",
        "    dates = st.date_input(\n",
        "            label=\"期間を選択してください\",\n",
        "            value=(datetime(2022, 1, 1), datetime(2022, 12, 31)),\n",
        "            min_value=datetime(2022, 1, 1),\n",
        "            max_value=datetime(2022, 12, 31),\n",
        "                )\n",
        "\n",
        "tab_area = cols[1].empty()\n",
        "\n",
        "# 期間が選択された場合の処理\n",
        "if len(dates) == 2:\n",
        "    start_date, end_date = dates\n",
        "    str_start_date = start_date.strftime('%Y-%m-%d')\n",
        "    str_end_date = end_date.strftime('%Y-%m-%d')\n",
        "\n",
        "    # タブの作成\n",
        "    tabs = tab_area.tabs([\"📈 グラフ\", \"🗃 データ\"])\n",
        "\n",
        "    # グラフとデータの表示\n",
        "    with tabs[0]:\n",
        "        # サブヘッダーとして選択された期間を表示\n",
        "        st.subheader(f'{start_date.strftime(\"%Y年%m月%d日\")}から{end_date.strftime(\"%Y年%m月%d日\")}までの株価推移')\n",
        "\n",
        "        # 線グラフを表示\n",
        "        st.line_chart(df.loc[str_start_date: str_end_date][stocks])\n",
        "\n",
        "    with tabs[1]:\n",
        "        # サブヘッダーとして選択された期間を表示\n",
        "        st.subheader(f'{start_date.strftime(\"%Y年%m月%d日\")}から{end_date.strftime(\"%Y年%m月%d日\")}までの株価推移')\n",
        "\n",
        "        # データフレームをCSV形式に変換して、UTF-8でエンコード\n",
        "        csv_data = df.loc[str_start_date: str_end_date][stocks].to_csv().encode('UTF-8')\n",
        "\n",
        "        # CSVファイルをダウンロードするボタンを作成\n",
        "        st.download_button(\n",
        "            label='Data Download',  # ボタンのラベル\n",
        "            data=csv_data,  # ダウンロードするデータ\n",
        "            file_name=f'stockprice_{datetime.today().year}.csv',  # ダウンロードされるファイルの名前\n",
        "            mime='text/csv',  # MIMEタイプ\n",
        "        )\n",
        "\n",
        "        # ダウンロードするデータのプレビューとしてデータフレームを表示\n",
        "        st.write(df.loc[str_start_date: str_end_date][stocks])\n",
        "\n",
        "\n",
        "# サイドバーに解説を表示\n",
        "with st.sidebar:\n",
        "    with st.expander(\"解説を見る\"):\n",
        "        st.subheader(\"Meta（旧Facebook）社の株価の下落(2月3日)\")\n",
        "        st.write(\"Meta社の株価が一日で約26％も急落し、これは米企業としては史上最大の減少幅となりました。\")\n",
        "        st.write(\"その背景には、2021年10～12月期の決算が約2年ぶりの減益となったことなどが挙げられます。\")\n",
        "        st.subheader(\"Meta社の株価の下落(10月27日)\")\n",
        "        st.write(\"Meta社の決算発表日であったこの日、Meta社の株価が一日で約20％も急落しました。\")\n",
        "        st.write(\"CEOがメタバース産業からの撤退を明言しない姿勢を示したことが原因とされています。\")"
      ]
    },
    {
      "cell_type": "code",
      "execution_count": null,
      "metadata": {
        "id": "RxX8qaHFc0tu"
      },
      "outputs": [],
      "source": [
        "# 現在のグローバルIPを取得して表示する\n",
        "print('your globalip: ' + requests.get('https://ifconfig.me').text)\n",
        "\n",
        "# Streamlitアプリを実行し、3秒待機してからローカルトンネルを作成する\n",
        "# sample11.pyというpythonファイルを実行\n",
        "# ドメインは\"sample\"を指定\n",
        "!streamlit run sample11.py & sleep 3 && npx localtunnel --port 8501 --subdomain \"sample\""
      ]
    },
    {
      "cell_type": "markdown",
      "metadata": {
        "id": "OsT3xPDp5jK4"
      },
      "source": [
        "## フォーム設定"
      ]
    },
    {
      "cell_type": "markdown",
      "metadata": {
        "id": "KccJgNYv5jK5"
      },
      "source": [
        "参考ページ：[こちら](https://data-analytics.fun/2022/07/09/streamlit-form/)  \n",
        "\n",
        "\n"
      ]
    },
    {
      "cell_type": "markdown",
      "source": [
        "- `st.form()` ：フォームを作成するための機能\n",
        "  - フォーム全体が一つのコンテナとして扱われる。\n",
        "  - 実際にフォーム部分が線で囲まれる。\n",
        "  - `clear_on_submit`：`True`にするとボタンを押したときに値がクリアされる\n",
        "\n",
        "  - `st.form_submit_button()` ：送信ボタン\n",
        "    - フォームの内容を一括で渡すsubmitボタン\n",
        "    - **フォーム内で`st.form_submit_button()`がないとエラーになる**。\n",
        "\n",
        "  ＜メリット＞\n",
        "  - submitボタンが押されるまでの入力内容を保持できる\n",
        "  - 必須項目のバリデーション、入力内容の確認画面の生成などを実装できる\n",
        "  - フォームの要素を独自のスタイルでレイアウトすることができる\n",
        "\n",
        "  ``` python\n",
        "  # フォームの開始\n",
        "  with st.form(\"my_form\"):\n",
        "      name = st.text_input(\"名前を入力してください\")\n",
        "      birthday = st.date_input(\n",
        "          label=\"誕生日を選択してください\",\n",
        "          value=datetime(2003, 1, 1),\n",
        "          min_value=datetime(1900, 1, 1),\n",
        "          max_value=datetime(2022, 12, 31),\n",
        "      )\n",
        "      submit_btn = st.form_submit_button(\"送信\")\n",
        "  ```\n",
        "![](https://imgur.com/Vzamh4Y.png)\n"
      ],
      "metadata": {
        "id": "gx06XVcX76Up"
      }
    },
    {
      "cell_type": "code",
      "source": [
        "#@title フォーム設定\n",
        "%%writefile sample12.py\n",
        "import streamlit as st\n",
        "from datetime import datetime, timedelta, date\n",
        "\n",
        "st.title(\"次の誕生日までの日数計算\")\n",
        "st.caption(\"次の誕生日までの残り日数を計算します\")\n",
        "\n",
        "# ラジオボタンでフォームを選択する\n",
        "modes = [\"`st.form()`未使用時\", \"`st.form()`使用時\"]\n",
        "mode = st.radio(label='選択してください', options=modes, index=0, horizontal=True)\n",
        "\n",
        "if mode == \"`st.form()`未使用時\":\n",
        "    # ユーザー入力の受け取り\n",
        "    name = st.text_input(\"名前を入力してください\")\n",
        "    birthday = st.date_input(\n",
        "        label=\"誕生日を選択してください\",\n",
        "        value=datetime(2003, 1, 1),\n",
        "        min_value=datetime(1900, 1, 1),\n",
        "        max_value=datetime(2022, 12, 31),\n",
        "    )\n",
        "    today = date.today()\n",
        "\n",
        "    # 現在の年齢を計算\n",
        "    age = today.year - birthday.year - ((today.month, today.day) < (birthday.month, birthday.day))\n",
        "\n",
        "    # 次の誕生日の日付を計算\n",
        "    next_birthday_year = today.year if today.month < birthday.month or (today.month == birthday.month and today.day <= birthday.day) else today.year + 1\n",
        "    next_birthday = date(next_birthday_year, birthday.month, birthday.day)\n",
        "\n",
        "    # 現在日付との日数の差を計算\n",
        "    days_to_next_birthday = (next_birthday - today).days\n",
        "\n",
        "    # ボタンの設置\n",
        "    submit_btn = st.button(\"送信\")\n",
        "    cancel_btn = st.button(\"キャンセル\")\n",
        "\n",
        "else:\n",
        "    # フォームの開始\n",
        "    with st.form(\"my_form\"):\n",
        "        name = st.text_input(\"名前を入力してください\")\n",
        "        birthday = st.date_input(\n",
        "            label=\"誕生日を選択してください\",\n",
        "            value=datetime(2003, 1, 1),\n",
        "            min_value=datetime(1900, 1, 1),\n",
        "            max_value=datetime(2022, 12, 31),\n",
        "        )\n",
        "        today = date.today()\n",
        "\n",
        "        # 現在の年齢を計算\n",
        "        age = today.year - birthday.year - ((today.month, today.day) < (birthday.month, birthday.day))\n",
        "\n",
        "        # 次の誕生日の日付を計算\n",
        "        next_birthday_year = today.year if today.month < birthday.month or (today.month == birthday.month and today.day <= birthday.day) else today.year + 1\n",
        "        next_birthday = date(next_birthday_year, birthday.month, birthday.day)\n",
        "\n",
        "        # 現在日付との日数の差を計算\n",
        "        days_to_next_birthday = (next_birthday - today).days\n",
        "\n",
        "        # submitボタンの生成\n",
        "        submit_btn = st.form_submit_button(\"送信\")\n",
        "        # フォームの中に新たなボタンは置けない\n",
        "        # cancel_btn = st.button(\"キャンセル\")\n",
        "\n",
        "# 結果の出力\n",
        "if submit_btn:\n",
        "    st.write(f\"{name}さんは現在、{age}歳です。\")\n",
        "    st.write(f\"{name}さんの次の誕生日まで、あと{days_to_next_birthday}日です。\")"
      ],
      "metadata": {
        "colab": {
          "base_uri": "https://localhost:8080/"
        },
        "id": "qPOkbIhXeyAi",
        "outputId": "c59cbe1b-d4a0-4a55-bd3a-c64cd43cfbb6"
      },
      "execution_count": null,
      "outputs": [
        {
          "output_type": "stream",
          "name": "stdout",
          "text": [
            "Overwriting sample12.py\n"
          ]
        }
      ]
    },
    {
      "cell_type": "code",
      "source": [
        "# 現在のグローバルIPを取得して表示する\n",
        "print('your globalip: ' + requests.get('https://ifconfig.me').text)\n",
        "\n",
        "# Streamlitアプリを実行し、3秒待機してからローカルトンネルを作成する\n",
        "# sample12.pyというpythonファイルを実行\n",
        "# ドメインは\"sample\"を指定\n",
        "!streamlit run sample12.py & sleep 3 && npx localtunnel --port 8501 --subdomain \"sample\""
      ],
      "metadata": {
        "id": "0QymGfkPe9Mh"
      },
      "execution_count": null,
      "outputs": []
    },
    {
      "cell_type": "markdown",
      "source": [
        "## 状態の保持とコールバック"
      ],
      "metadata": {
        "id": "niGhwBBdJWz-"
      }
    },
    {
      "cell_type": "markdown",
      "source": [
        "Streamlitは、ウィジェットの値や状態が変化すると、\n",
        "すべての処理が1から再度実行されます。"
      ],
      "metadata": {
        "id": "-SE9B304Jb7b"
      }
    },
    {
      "cell_type": "markdown",
      "source": [
        "そのため、ウィジェットの状態を記憶するために、\n",
        "**状態を保持する方法**を学ぶ必要があります。\n",
        "\n",
        "またその際に、**コールバック**という機能を使えると便利です。\n"
      ],
      "metadata": {
        "id": "1Nohg8AmKNsc"
      }
    },
    {
      "cell_type": "markdown",
      "source": [
        "参考ページ：[こちら](https://data-analytics.fun/2022/07/11/streamlit-state-callback/)  \n",
        "\n",
        "\n"
      ],
      "metadata": {
        "id": "WhxDZ81z5Ik7"
      }
    },
    {
      "cell_type": "markdown",
      "source": [
        "- `st.session_state` ：状態を保持する辞書型の変数\n",
        "  - 使用することで、値を保持したり、保持された値を取りだしたりすることができる。\n",
        "  - ページがリロードされるまでクリアされない。\n",
        "``` python\n",
        "# `st.session_state`を使用する場合\n",
        "if mode == \"`st.session_state`使用時\":\n",
        "    value = 0\n",
        "    st.subheader(f'初期値は{value}です。')\n",
        "    btn = st.button('+1する')\n",
        "    # セッション状態にキーが存在しない場合、初期化する\n",
        "    if 'increment' not in st.session_state:\n",
        "        st.session_state['increment'] = 0\n",
        "\n",
        "    if btn:\n",
        "        st.session_state['increment'] += 1 # 値を増やす\n",
        "        st.write(f\"{st.session_state['increment']}になりました。\")\n",
        "```\n",
        "![](https://imgur.com/8mGioyX.png)\n"
      ],
      "metadata": {
        "id": "_2qxTDiiBhQU"
      }
    },
    {
      "cell_type": "markdown",
      "source": [
        "- コールバック関数 ：ボタンがクリックされたとき、ウィジェットの値が変わったときに呼び出される関数\n",
        "  - クリックされたとき、値が変わったときに、 真っ先に指定した関数が呼び出される。\n",
        "  - 引数は、ボタンの場合は**`on_click`**、\n",
        "ンプットボックスやセレクトボックス(ドロップダウン)の場合は**`on_change`**を設定する。\n",
        "  - ウィジェットの前にコールバック関数を書いておき、\n",
        "  `on_click`の引数として作成したコールバック関数名を指定する。\n",
        "\n",
        "  ``` python\n",
        "  # コールバック関数を使わない例\n",
        "  # ボタンクリック→テーブル表示（5件）→表示数の変数更新\n",
        "  # →ボタンクリック→テーブル表示（10件）\n",
        "\n",
        "  # 初期表示のデータ数を設定\n",
        "  if 'num_of_data' not in st.session_state.keys():\n",
        "      st.session_state['num_of_data'] = 5\n",
        "\n",
        "  # テーブルを表示し、ボタンを表示\n",
        "  st.table(df.head(st.session_state['num_of_data']))  # 初期表示は5件\n",
        "  btn = st.button('さらに見る')  # ボタンをクリックするとデータ数が更新される\n",
        "  if btn:\n",
        "      st.session_state['num_of_data'] += 5  # 更新されたデータ数でテーブルを再表示\n",
        "\n",
        "  ```\n",
        "  ``` python\n",
        "  # コールバック関数を使う例\n",
        "  # ボタンクリック→表示数の変数更新→テーブル表示（10件）\n",
        "  # →ボタンクリック→テーブル表示（15件）\n",
        "\n",
        "  # 初期表示のデータ数を設定\n",
        "  if 'num_of_data' not in st.session_state.keys():\n",
        "      st.session_state['num_of_data'] = 5\n",
        "\n",
        "  # コールバック関数: データ数を更新する\n",
        "  def update_num_of_data():\n",
        "      st.session_state['num_of_data'] += 5\n",
        "\n",
        "  # テーブルを表示し、ボタンを表示\n",
        "  st.table(df.head(st.session_state['num_of_data']))  # 初期表示は5件\n",
        "  btn = st.button('さらに見る', on_click=update_num_of_data)  # ボタンをクリックするとデータ数が更新される\n",
        "  if btn:\n",
        "      st.table(df.head(st.session_state['num_of_data']))  # 更新されたデータ数でテーブルを再表示\n",
        "  ```\n",
        "\n",
        "\n",
        "![](https://imgur.com/p55cfm6.png)"
      ],
      "metadata": {
        "id": "2CIHq-DdG5Q-"
      }
    },
    {
      "cell_type": "code",
      "source": [
        "#@title 状態の保持\n",
        "# sample13.pyというファイルに記述する\n",
        "\n",
        "%%writefile sample13.py\n",
        "import streamlit as st\n",
        "\n",
        "# ラジオボタンでフォームを選択する\n",
        "modes = [\"`st.session_state`未使用時\", \"`st.session_state`使用時\"]\n",
        "mode = st.radio(label='選択してください', options=modes, index=0, horizontal=True)\n",
        "\n",
        "# `st.session_state`を使用する場合\n",
        "if mode == \"`st.session_state`使用時\":\n",
        "    value = 0\n",
        "    st.subheader(f'初期値は{value}です。')\n",
        "    btn = st.button('+1する')\n",
        "    # セッション状態にキーが存在しない場合、初期化する\n",
        "    if 'increment' not in st.session_state:\n",
        "        st.session_state['increment'] = 0\n",
        "\n",
        "    if btn:\n",
        "        st.session_state['increment'] += 1 # 値を増やす\n",
        "        st.write(f\"{st.session_state['increment']}になりました。\")\n",
        "\n",
        "# `st.session_state`を使用しない場合\n",
        "else:\n",
        "    value = 0\n",
        "    st.subheader(f'初期値は{value}です。')\n",
        "    btn = st.button('+1する')\n",
        "    if btn:\n",
        "        value += 1\n",
        "        st.write(f'{value}になりました。')"
      ],
      "metadata": {
        "colab": {
          "base_uri": "https://localhost:8080/"
        },
        "id": "oB_tofBICS0C",
        "outputId": "5b5e8a55-16de-4150-a43c-db3d0764a890"
      },
      "execution_count": null,
      "outputs": [
        {
          "output_type": "stream",
          "name": "stdout",
          "text": [
            "Overwriting sample13.py\n"
          ]
        }
      ]
    },
    {
      "cell_type": "code",
      "source": [
        "# 現在のグローバルIPを取得して表示する\n",
        "print('your globalip: ' + requests.get('https://ifconfig.me').text)\n",
        "\n",
        "# Streamlitアプリを実行し、3秒待機してからローカルトンネルを作成する\n",
        "# sample13.pyというpythonファイルを実行\n",
        "# ドメインは\"sample\"を指定\n",
        "!streamlit run sample13.py & sleep 3 && npx localtunnel --port 8501 --subdomain \"sample\""
      ],
      "metadata": {
        "id": "4YHi76KgDTx9"
      },
      "execution_count": null,
      "outputs": []
    },
    {
      "cell_type": "code",
      "source": [
        "#@title コールバック関数\n",
        "# sample14.pyというファイルに記述する\n",
        "\n",
        "%%writefile sample14.py\n",
        "import streamlit as st\n",
        "import yfinance as yf\n",
        "import pandas as pd\n",
        "from datetime import datetime, timedelta\n",
        "\n",
        "# Google、Apple、Facebook、Amazon, Microsoftの銘柄コード\n",
        "tickers = [\"GOOGL\", \"AAPL\", \"META\", \"AMZN\", \"MSFT\"]\n",
        "# 株価情報の取得\n",
        "start_date = (datetime.today() + timedelta(hours=9) - timedelta(days=365)).strftime('%Y-%m-%d')  # 取得開始日\n",
        "end_date = (datetime.today() + timedelta(hours=9)).strftime('%Y-%m-%d')  # 取得終了日\n",
        "price_data = yf.download(tickers, start=start_date, end=end_date)[\"Close\"]\n",
        "\n",
        "# データフレームの作成\n",
        "df = pd.DataFrame({\n",
        "    \"Google\": price_data[tickers[0]],\n",
        "    \"Apple\": price_data[tickers[1]],\n",
        "    \"Facebook\": price_data[tickers[2]],\n",
        "    \"Amazon\": price_data[tickers[3]],\n",
        "    \"Microsoft\": price_data[tickers[4]]\n",
        "})\n",
        "\n",
        "# 初期表示のデータ数を設定\n",
        "if 'num_of_data' not in st.session_state:\n",
        "    st.session_state['num_of_data'] = 5\n",
        "\n",
        "# コールバック関数\n",
        "def update_num_of_data():\n",
        "    st.session_state['num_of_data'] += 5\n",
        "\n",
        "# 2023年の株価推移（線グラフ）\n",
        "st.header('一年間の株価推移')\n",
        "st.line_chart(df)\n",
        "\n",
        "with st.expander('データを見る'):\n",
        "    # テーブルを表示し、ボタンを表示\n",
        "    st.table(df.head(st.session_state['num_of_data']))  # 初期表示は5件\n",
        "    btn = st.button('さらに見る', on_click=update_num_of_data)  # ボタンをクリックするとデータ数が更新される"
      ],
      "metadata": {
        "colab": {
          "base_uri": "https://localhost:8080/"
        },
        "id": "45bC5_WeKrbm",
        "outputId": "6ad803a3-86b2-4f0a-d6ef-1ca557759668"
      },
      "execution_count": null,
      "outputs": [
        {
          "output_type": "stream",
          "name": "stdout",
          "text": [
            "Overwriting sample14.py\n"
          ]
        }
      ]
    },
    {
      "cell_type": "code",
      "source": [
        "# 現在のグローバルIPを取得して表示する\n",
        "print('your globalip: ' + requests.get('https://ifconfig.me').text)\n",
        "\n",
        "# Streamlitアプリを実行し、3秒待機してからローカルトンネルを作成する\n",
        "# sample14.pyというpythonファイルを実行\n",
        "# ドメインは\"sample\"を指定\n",
        "!streamlit run sample14.py & sleep 3 && npx localtunnel --port 8501 --subdomain \"sample\""
      ],
      "metadata": {
        "id": "B1S2pqe7LPyl"
      },
      "execution_count": null,
      "outputs": []
    },
    {
      "cell_type": "markdown",
      "source": [
        "## その他"
      ],
      "metadata": {
        "id": "4oOgcAs3MsNQ"
      }
    },
    {
      "cell_type": "markdown",
      "source": [
        "Streamlitの機能について、他のものも以下に紹介します。\n",
        "\n"
      ],
      "metadata": {
        "id": "dT2QLNA4Mtqu"
      }
    },
    {
      "cell_type": "markdown",
      "source": [
        "①[ステータスの表示](https://data-analytics.fun/2022/07/06/streamlit-display-status/)\n",
        "\n",
        "→ プログレスバー・スピナー・メッセージボックス・風船 など\n",
        "\n",
        "②[テーマ変更とページの設定](https://data-analytics.fun/2022/07/10/streamlit-theme-page-settings/)\n",
        "\n",
        "→ 表示幅の変更・ファビコンの設定 など\n",
        "\n",
        "③[君には今から3時間で機械学習Webアプリを作ってもらうよ](https://zenn.dev/alivelimb/articles/20220528-streamlit-ml-app)\n",
        "\n",
        "→ Streamlitを紹介している、大バズリした記事。\n",
        "\n",
        "④[Streamlit 覚書](https://qiita.com/not13/items/dcd8c12d64982dc0e819)\n",
        "\n",
        "→ Streamlitの文法をかなり網羅している。"
      ],
      "metadata": {
        "id": "fcVVr4rAMv0f"
      }
    },
    {
      "cell_type": "markdown",
      "source": [
        "## デプロイ方法"
      ],
      "metadata": {
        "id": "vJqlFB4vNECY"
      }
    },
    {
      "cell_type": "markdown",
      "source": [
        "サーバー上に配置することで、Streamlitで作ったアプリが  \n",
        "だれでも利用できる状態になります。"
      ],
      "metadata": {
        "id": "Y4Q5-SSONGPQ"
      }
    },
    {
      "cell_type": "markdown",
      "source": [
        "参考ページ：[こちら](https://camp.trainocate.co.jp/magazine/streamlit-web/)  \n",
        "\n",
        "\n"
      ],
      "metadata": {
        "id": "tutgYxS_NOCG"
      }
    },
    {
      "cell_type": "markdown",
      "source": [
        "### 1.Streamlit Cloudにサインイン"
      ],
      "metadata": {
        "id": "hYVFXH9YNUsP"
      }
    },
    {
      "cell_type": "markdown",
      "source": [
        "Streamlit Cloudは、Streamlitで作成したWebアプリを簡単にデプロイできるサービスです。\n",
        "\n",
        "以下のリンクにアクセスします。\n",
        "\n",
        "https://share.streamlit.io/signup\n",
        "\n",
        "![](https://imgur.com/IZYVQc4.png)\n",
        "\n",
        "Googleアカウント、Githubアカウント、メールアドレスのいずれかを利用してアカウントを作成します。"
      ],
      "metadata": {
        "id": "fJU40QjYNXW7"
      }
    },
    {
      "cell_type": "markdown",
      "source": [
        "### 2.Githubアカウント連携"
      ],
      "metadata": {
        "id": "rFGlAtu9Nqjl"
      }
    },
    {
      "cell_type": "markdown",
      "source": [
        "`Connect Github account`をクリックして、Githubアカウントと連携します。\n",
        "\n",
        "![](https://imgur.com/GjDihUe.png)"
      ],
      "metadata": {
        "id": "8zFIyoW6NuXG"
      }
    },
    {
      "cell_type": "markdown",
      "source": [
        "### 3.pyファイルのアップロード"
      ],
      "metadata": {
        "id": "fHTabk1CO8QX"
      }
    },
    {
      "cell_type": "markdown",
      "source": [
        "pythonプログラムをGithubリポジトリにアップロードします。  \n",
        "今回は\"Streamlit\"というフォルダにpyファイルを入れます。\n",
        "\n",
        "![](https://imgur.com/C69xNST.png)\n",
        "\n",
        "Github上の操作でpyファイルをアップロードします。\n",
        "\n",
        "![](https://imgur.com/XuD2xMZ.png)\n",
        "![](https://imgur.com/oUjg8nd.png)\n",
        "\n",
        "\n"
      ],
      "metadata": {
        "id": "3TVz3M1_OCs2"
      }
    },
    {
      "cell_type": "markdown",
      "source": [
        "### 4. リポジトリ・ブランチ・ファイルパスを選択"
      ],
      "metadata": {
        "id": "uhG7v3RoO-Fg"
      }
    },
    {
      "cell_type": "markdown",
      "source": [
        "Streamlit cloudの管理画面の右上にある\"New app\"を選択します。\n",
        "\n",
        "![](https://imgur.com/lxo5Odt.png)\n",
        "\n",
        "リポジトリ、ブランチ、実行ファイル名を入力します。\n",
        "\n",
        "![](https://imgur.com/mLP2Tp0.png)\n"
      ],
      "metadata": {
        "id": "wxV8dxF1Oh3z"
      }
    },
    {
      "cell_type": "markdown",
      "source": [
        "### 5. デプロイ"
      ],
      "metadata": {
        "id": "cSOL-o-kPBl8"
      }
    },
    {
      "cell_type": "markdown",
      "source": [
        "必要項目を入力し \"Deploy!\" をクリックするとデプロイされます。\n",
        "\n",
        "\n",
        "アプリのデプロイが完了するとURLが発行されます。"
      ],
      "metadata": {
        "id": "ksFXSNaCOwFp"
      }
    }
  ],
  "metadata": {
    "colab": {
      "toc_visible": true,
      "provenance": [],
      "authorship_tag": "ABX9TyPtJP5Zc4PW8O7CLgEdpXuB",
      "include_colab_link": true
    },
    "kernelspec": {
      "display_name": "Python 3",
      "name": "python3"
    },
    "language_info": {
      "name": "python"
    }
  },
  "nbformat": 4,
  "nbformat_minor": 0
}