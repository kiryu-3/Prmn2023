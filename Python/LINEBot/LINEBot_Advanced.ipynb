{
  "nbformat": 4,
  "nbformat_minor": 0,
  "metadata": {
    "colab": {
      "provenance": [],
      "toc_visible": true,
      "authorship_tag": "ABX9TyOgLJ4PZ8t+j+9wroydKH5d",
      "include_colab_link": true
    },
    "kernelspec": {
      "name": "python3",
      "display_name": "Python 3"
    },
    "language_info": {
      "name": "python"
    }
  },
  "cells": [
    {
      "cell_type": "markdown",
      "metadata": {
        "id": "view-in-github",
        "colab_type": "text"
      },
      "source": [
        "<a href=\"https://colab.research.google.com/github/kiryu-3/Prmn2023/blob/main/Python/LINEBot/LINEBot_Advanced.ipynb\" target=\"_parent\"><img src=\"https://colab.research.google.com/assets/colab-badge.svg\" alt=\"Open In Colab\"/></a>"
      ]
    },
    {
      "cell_type": "markdown",
      "source": [
        "# Python×LINEBot（応用編）"
      ],
      "metadata": {
        "id": "RzdE064F5o6o"
      }
    },
    {
      "cell_type": "code",
      "execution_count": null,
      "metadata": {
        "id": "Zly44ELa5ilP"
      },
      "outputs": [],
      "source": [
        "# 最初に実行してください\n",
        "!pip install line-bot-sdk\n",
        "!pip install pyngrok\n",
        "!pip install python-dotenv"
      ]
    },
    {
      "cell_type": "markdown",
      "source": [
        "## 初めに"
      ],
      "metadata": {
        "id": "31m9pF-m7B5V"
      }
    },
    {
      "cell_type": "markdown",
      "source": [
        "- [LINE Developersコンソール](https://developers.line.biz/console/)にアクセスし、チャネルを作成してください。\n",
        "手順については[LINE Developersコンソールでチャネルを作成する](https://developers.line.me/ja/docs/messaging-api/getting-started/)を参考にしてください。\n",
        "\n",
        "\n",
        "  - チャネルの「チャネル基本設定」で、\n",
        "チャネルアクセストークンとチャネルシークレットを取得してください。\n",
        "\n",
        "\n",
        "  - 取得したチャネルアクセストークンとチャネルシークレットを、\n",
        "\"Your Channel Access Token\"と\"Your Channel Secret\"の部分に置き換えてください。\n",
        "\n",
        "  - WebHookURL を、 `Public URL: https://xx-xx-xx-xx-xx..ngrok.io`となっているところをふまえて\n",
        "`https://xx-xx-xx-xx-xx..ngrok.io/callback` に変更してください。\n",
        "\n",
        "![](https://imgur.com/x7YJM8b.png)"
      ],
      "metadata": {
        "id": "0CAic8B_7DTT"
      }
    },
    {
      "cell_type": "code",
      "source": [
        "# 自分のトークンを設定してください\n",
        "import os\n",
        "\n",
        "directory = 'content/info'\n",
        "if not os.path.exists(directory):\n",
        "    os.makedirs(directory)\n",
        "\n",
        "file_path = os.path.join(directory, '.env')\n",
        "with open(file_path, 'w') as f:\n",
        "    f.write('CHANNEL_ACCESS_TOKEN = Your Channel Access Token\\n')\n",
        "    f.write('CHANNEL_SECRET = Your Channel Secret\\n')"
      ],
      "metadata": {
        "id": "CTBvBGgx5vnI"
      },
      "execution_count": null,
      "outputs": []
    },
    {
      "cell_type": "markdown",
      "source": [
        "## 例1 OpenWeather APIの使用"
      ],
      "metadata": {
        "id": "q5nG1sz_kD0r"
      }
    },
    {
      "cell_type": "markdown",
      "source": [
        "OpenWeatherMapという気象情報を管理しているAPIを使うと、\n",
        " 特定の地域の気象情報を取得することができます。"
      ],
      "metadata": {
        "id": "fKCU3_IOobV7"
      }
    },
    {
      "cell_type": "markdown",
      "source": [
        " OpenWeather APIキーの取得方法について、参考記事は[こちら](https://dev.classmethod.jp/articles/openweather_-pyowm/)です。\n",
        "\n",
        "本資料では解説していないAPIについても解説があります。\n",
        "\n"
      ],
      "metadata": {
        "id": "ZoBgXbaTEbci"
      }
    },
    {
      "cell_type": "markdown",
      "source": [
        "APIはほかにもたくさんありますので、自分の実現したいAPIを適宜探し利用していただければと思います。"
      ],
      "metadata": {
        "id": "OjEQ7_SdRDzi"
      }
    },
    {
      "cell_type": "markdown",
      "source": [
        "以下では、地域名を入力するとその地点の現在の天気を取得することができます。"
      ],
      "metadata": {
        "id": "iuB6ib-0Bmy_"
      }
    },
    {
      "cell_type": "markdown",
      "source": [
        "＜実行イメージ＞\n",
        "\n",
        "![](https://imgur.com/fmIGr0J.png)"
      ],
      "metadata": {
        "id": "CFtq4lycDtED"
      }
    },
    {
      "cell_type": "code",
      "source": [
        "# .envファイルを上書きしてAPIキーを追加する\n",
        "\n",
        "with open(\"./info/.env\", \"a\") as f:\n",
        "    f.write(\"\\nAPI_KEY=YOUR_API_KEY\\n\")"
      ],
      "metadata": {
        "id": "Ey00lsz9H_OD"
      },
      "execution_count": null,
      "outputs": []
    },
    {
      "cell_type": "code",
      "source": [
        "import os\n",
        "from pathlib import Path\n",
        "import uuid\n",
        "import requests\n",
        "import json\n",
        "\n",
        "from flask import Flask, request, abort\n",
        "from linebot import LineBotApi, WebhookHandler\n",
        "from linebot.exceptions import InvalidSignatureError\n",
        "from linebot.models import MessageEvent, TextMessage, TextSendMessage, ImageMessage, ImageSendMessage\n",
        "from pyngrok import ngrok\n",
        "import dotenv\n",
        "\n",
        "app = Flask(__name__)\n",
        "# LineBotApiオブジェクトを作成\n",
        "dotenv.load_dotenv(\"./info/.env\")\n",
        "line_bot_api = LineBotApi(os.environ[\"CHANNEL_ACCESS_TOKEN\"])\n",
        "handler = WebhookHandler(os.environ[\"CHANNEL_SECRET\"])\n",
        "api_key = os.getenv(\"API_KEY\")\n",
        "\n",
        "# カウント用のグローバル変数\n",
        "not_tenki_mode = True\n",
        "\n",
        "@app.route(\"/callback\", methods=['POST'])\n",
        "def callback():\n",
        "    signature = request.headers['X-Line-Signature']\n",
        "    body = request.get_data(as_text=True)\n",
        "    try:\n",
        "        handler.handle(body, signature)  # リクエストの署名検証を行い、正しければハンドラを実行\n",
        "    except InvalidSignatureError:\n",
        "        abort(400)  # 署名が無効な場合はエラーを返す\n",
        "    return 'OK'\n",
        "\n",
        "def get_weather(city):\n",
        "    # OpenWeatherMap APIのベースURL\n",
        "    base_url = \"http://api.openweathermap.org/data/2.5/weather\"\n",
        "\n",
        "    # APIリクエストに必要なパラメータ\n",
        "    params = {\n",
        "        \"q\": city,              # 指定した都市名\n",
        "        \"appid\": api_key,       # APIキー（このコード内では定義されていないので追加する必要があります）\n",
        "        \"units\": \"metric\"       # 温度の単位を摂氏に指定\n",
        "    }\n",
        "\n",
        "    # APIリクエストを送信してレスポンスを取得\n",
        "    response = requests.get(base_url, params=params)\n",
        "\n",
        "    # レスポンスデータをJSON形式に変換\n",
        "    data = response.json()\n",
        "\n",
        "    # レスポンスデータのステータスコードが200（成功）の場合\n",
        "    if data[\"cod\"] == 200:\n",
        "        # 天気のマークと対応する絵文字の辞書\n",
        "        weather_mark_list = {\"Clear\": \"☀️\", \"Clouds\": \"🌥\", \"Rain\": \"☔️\", \"Mist\": \"🌫\", \"Fog\": \"🌫\"}\n",
        "\n",
        "        # 現在の天気のマーク（絵文字）\n",
        "        weather_mark = weather_mark_list[data['weather'][0]['main']]\n",
        "\n",
        "        # 現在の気温\n",
        "        temperature = data[\"main\"][\"temp\"]\n",
        "\n",
        "        # 現在の湿度\n",
        "        humidity = data[\"main\"][\"humidity\"]\n",
        "\n",
        "        # 天気の詳細な説明\n",
        "        description = data[\"weather\"][0][\"description\"]\n",
        "\n",
        "        # 出力メッセージを作成\n",
        "        output_message = f\"現在の天気：{weather_mark}\\n現在の気温：{temperature}°C\\n現在の湿度：{humidity}%\\n詳細：{description}\"\n",
        "\n",
        "        # 出力メッセージを返す\n",
        "        return output_message\n",
        "    else:\n",
        "        # ステータスコードが200以外の場合はエラーメッセージを返す\n",
        "        return \"Error\"\n",
        "\n",
        "@handler.add(MessageEvent, message=TextMessage)\n",
        "def handle_message(event):\n",
        "    global not_tenki_mode  # グローバル変数を参照するために宣言\n",
        "\n",
        "    # テキストメッセージを返す関数\n",
        "    def output_text(output_message):\n",
        "        line_bot_api.reply_message(\n",
        "            event.reply_token,\n",
        "            TextSendMessage(text=output_message)\n",
        "        )\n",
        "\n",
        "    # ユーザーが入力したメッセージを変数に代入\n",
        "    input_message = event.message.text\n",
        "\n",
        "    # 無限ループ\n",
        "    while True:\n",
        "        # \"天気\"と入力された場合\n",
        "        if input_message == \"天気\":\n",
        "            # 天気モードではない場合\n",
        "            if not_tenki_mode:\n",
        "                # 天気モードのスタート\n",
        "                reply_message = \"気象情報を取得したい地域を入力してください\\n例：札幌市\"\n",
        "                output_text(reply_message)\n",
        "                not_tenki_mode = False\n",
        "                break\n",
        "\n",
        "            # すでに天気モードである場合\n",
        "            else:\n",
        "                # 天気モードの終了\n",
        "                reply_message = \"気象情報の取得を終了します\"\n",
        "                output_text(reply_message)\n",
        "                not_tenki_mode = True\n",
        "                break\n",
        "\n",
        "        # \"天気\"以外が入力された場合\n",
        "        else:\n",
        "            # 天気モードではない場合\n",
        "            if not_tenki_mode:\n",
        "                # オウム返し\n",
        "                reply_message = input_message\n",
        "                output_text(reply_message)\n",
        "                break\n",
        "\n",
        "            else:\n",
        "                # 気象情報の取得\n",
        "                flag = get_weather(input_message)\n",
        "                if flag == \"Error\":\n",
        "                    output_message = \"気象情報を取得できませんでした\\n正しい地域を入力してください\"\n",
        "                    output_text(output_message)\n",
        "                    break\n",
        "                else:\n",
        "                    output_message = flag\n",
        "                    plus_message = \"続けて地域を入力してください\\n気象情報の取得を終了したい場合は「天気」と入力してください\"\n",
        "                    # 2つのメッセージを返信\n",
        "                    line_bot_api.reply_message(\n",
        "                        event.reply_token,\n",
        "                        [TextSendMessage(text=output_message), TextSendMessage(text=plus_message)]\n",
        "                    )\n",
        "                    break\n",
        "\n",
        "ngrok_tunnel = ngrok.connect(5000)  # ポート5000でngrokのトンネルを作成\n",
        "print('Public URL:', ngrok_tunnel.public_url)  # 公開されたURLを表示\n",
        "\n",
        "if __name__ == \"__main__\":\n",
        "    app.run()  # アプリケーションを実行\n"
      ],
      "metadata": {
        "id": "PoRoN6krpyY7"
      },
      "execution_count": null,
      "outputs": []
    },
    {
      "cell_type": "markdown",
      "source": [
        "取得して得られたjsonデータは以下のような形式になります。\n",
        "\n",
        "このjsonをPythonの辞書に変換して、欲しい情報だけを抽出し返します。"
      ],
      "metadata": {
        "id": "-shKQRocDEoN"
      }
    },
    {
      "cell_type": "markdown",
      "source": [
        "![](https://imgur.com/6kB4uXC.png)"
      ],
      "metadata": {
        "id": "MT66I8TRkFPT"
      }
    },
    {
      "cell_type": "markdown",
      "source": [
        "## 例2 クイックリプライ"
      ],
      "metadata": {
        "id": "ma-9sALLlbOj"
      }
    },
    {
      "cell_type": "markdown",
      "source": [
        "Botが送信したメッセージに、クイックリプライボタンを設定することで、\n",
        "トーク画面の下部にボタンが表示されます。\n",
        "\n",
        "ユーザーはボタンをタップするだけで、ボットからのメッセージに簡単に返信できます。\n",
        "\n",
        "クイックリプライについては[公式のドキュメント：クイックリプライ](https://developers.line.biz/ja/docs/messaging-api/message-types/#quick-reply)などを参考にしてください。"
      ],
      "metadata": {
        "id": "2SJcIwv-SP8b"
      }
    },
    {
      "cell_type": "markdown",
      "source": [
        "作り方について、参考記事は[こちら](https://zanote.net/python/quick-reply/)です。\n",
        "\n",
        "この記事ではクイックリプライを使ってじゃんけんbotを作っています。"
      ],
      "metadata": {
        "id": "k9xbRRsjUBOY"
      }
    },
    {
      "cell_type": "markdown",
      "source": [
        "以下では、クイックリプライを使って電卓プログラムを少し使いやすいものにしています。"
      ],
      "metadata": {
        "id": "BpbZ_9WcUTPP"
      }
    },
    {
      "cell_type": "code",
      "source": [
        "import os\n",
        "from pathlib import Path\n",
        "import uuid\n",
        "\n",
        "from flask import Flask, request, abort\n",
        "from linebot import LineBotApi, WebhookHandler\n",
        "from linebot.exceptions import InvalidSignatureError\n",
        "from linebot.models import MessageEvent, PostbackEvent, TextMessage, TextSendMessage, ImageMessage, ImageSendMessage, QuickReply, QuickReplyButton, PostbackAction\n",
        "from pyngrok import ngrok\n",
        "import dotenv\n",
        "\n",
        "app = Flask(__name__)\n",
        "dotenv.load_dotenv(\"./info/.env\")\n",
        "line_bot_api = LineBotApi(os.environ[\"CHANNEL_ACCESS_TOKEN\"])\n",
        "handler = WebhookHandler(os.environ[\"CHANNEL_SECRET\"])\n",
        "\n",
        "# カウント用のグローバル変数\n",
        "session = {}  # 電卓セッションの情報を保持する辞書\n",
        "not_dentaku = True  # 電卓モードかどうかを示すフラグ\n",
        "\n",
        "@app.route(\"/callback\", methods=['POST'])\n",
        "def callback():\n",
        "    signature = request.headers['X-Line-Signature']\n",
        "    body = request.get_data(as_text=True)\n",
        "    try:\n",
        "        handler.handle(body, signature)  # リクエストの署名検証を行い、正しければハンドラを実行\n",
        "    except InvalidSignatureError:\n",
        "        abort(400)  # 署名が無効な場合はエラーを返す\n",
        "    return 'OK'\n",
        "\n",
        "# 計算結果を返す関数\n",
        "def calculate_result():\n",
        "    num1 = session['num1']\n",
        "    operator = session['operator']\n",
        "    num2 = session['num2']\n",
        "\n",
        "    if operator == '+':\n",
        "        result = num1 + num2\n",
        "    elif operator == '-':\n",
        "        result = num1 - num2\n",
        "    elif operator == '*':\n",
        "        result = num1 * num2\n",
        "    elif operator == '/':\n",
        "        result = num1 / num2\n",
        "    else:\n",
        "        result = None\n",
        "\n",
        "    result = round(result, 2)\n",
        "    return f\"{num1} {operator} {num2} = {str(result)}\"\n",
        "\n",
        "@handler.add(MessageEvent, message=TextMessage)\n",
        "def handle_message(event):\n",
        "    global session  # 入力情報を管理するグローバル変数\n",
        "    global not_dentaku  # 電卓モードかどうかを管理するグローバル変数\n",
        "\n",
        "    # テキストメッセージを返す関数\n",
        "    def output_text(output_message):\n",
        "        line_bot_api.reply_message(\n",
        "            event.reply_token,\n",
        "            TextSendMessage(text=output_message)\n",
        "        )\n",
        "\n",
        "    # ユーザーが入力したメッセージを変数に代入\n",
        "    input_message = event.message.text\n",
        "    # 無限ループ\n",
        "    while True:\n",
        "        # \"電卓\"と入力された場合\n",
        "        if input_message == \"電卓\":\n",
        "            # 電卓モードではない場合\n",
        "            if not_dentaku:\n",
        "                # 電卓モードのスタート\n",
        "                reply_message = \"電卓を開始しますか？\"\n",
        "                make_quick_reply(event.reply_token, reply_message, (\"開始します！\", \"いいえ\"))\n",
        "                break\n",
        "\n",
        "            # すでに電卓モードである場合\n",
        "            else:\n",
        "                # 電卓モードの終了\n",
        "                reply_message = \"電卓を終了しますか？\"\n",
        "                make_quick_reply(event.reply_token, reply_message, (\"終了します\", \"いいえ\"))\n",
        "                break\n",
        "\n",
        "        # \"電卓\"以外が入力された場合\n",
        "        else:\n",
        "            # 電卓モードではない場合\n",
        "            if not_dentaku:\n",
        "                # オウム返し\n",
        "                reply_message = input_message\n",
        "                output_text(reply_message)\n",
        "                break\n",
        "\n",
        "        # まだ一つ目の数が入力されていない場合\n",
        "        if 'num1' not in session:\n",
        "            # 数値かどうかを判断\n",
        "            try:\n",
        "                # 数値の場合は処理続行\n",
        "                session['num1'] = float(input_message)\n",
        "                reply_message = '演算子を選択してください'\n",
        "                make_quick_reply(event.reply_token, reply_message, (\"+\", \"-\", \"*\", \"/\"))\n",
        "                break\n",
        "            except ValueError:\n",
        "                # 数値ではない場合は再度入力させる\n",
        "                reply_message = '無効な数値です\\n最初の数値を入力してください'\n",
        "                output_text(reply_message)\n",
        "                break\n",
        "\n",
        "        # # まだ演算子が入力されていない場合\n",
        "        # if 'operator' not in session:\n",
        "        #     # 演算子の場合は処理続行\n",
        "        #     session['operator'] = input_message\n",
        "        #     reply_message = '2番目の数値を入力してください'\n",
        "        #     output_text(reply_message)\n",
        "        #     break\n",
        "\n",
        "        # まだ二つ目の数が入力されていない場合\n",
        "        if 'num2' not in session:\n",
        "            # ゼロ除算かどうかを判断\n",
        "            if session['operator'] == \"/\" and input_message == \"0\":\n",
        "                reply_message = '無効な数値です\\n2番目の数値を入力してください'\n",
        "                output_text(reply_message)\n",
        "                break\n",
        "\n",
        "            # 数値かどうかを判断\n",
        "            try:\n",
        "                # 数値の場合は処理続行\n",
        "                session['num2'] = float(input_message)\n",
        "\n",
        "                # これまでの入力データを使って計算\n",
        "                session['kekka'] = calculate_result()\n",
        "\n",
        "                # これまでの入力データを使って計算\n",
        "                reply_message = calculate_result()\n",
        "\n",
        "                # 電卓続行の確認\n",
        "                make_quick_reply(event.reply_token, reply_message, (\"電卓を続行します\", \"電卓を終了します\"))\n",
        "\n",
        "                # セッション情報をクリア\n",
        "                session = {}\n",
        "                break\n",
        "\n",
        "            except ValueError:\n",
        "                # 数値ではない場合は再度入力させる\n",
        "                reply_message = '無効な数値です\\n2番目の数値を入力してください'\n",
        "                output_text(reply_message)\n",
        "                break\n",
        "\n",
        "# postback messageが返された時のアクション\n",
        "@handler.add(PostbackEvent)\n",
        "def on_postback(event):\n",
        "    global session  # 入力情報を管理するグローバル変数\n",
        "    global not_dentaku  # 電卓モードかどうかを管理するグローバル変数\n",
        "    postback_msg = event.postback.data\n",
        "\n",
        "    # テキストメッセージを返す関数\n",
        "    def output_text(output_message):\n",
        "        line_bot_api.reply_message(\n",
        "            event.reply_token,\n",
        "            TextSendMessage(text=output_message)\n",
        "        )\n",
        "\n",
        "    if postback_msg in (\"+\", \"-\", \"*\", \"/\"):\n",
        "        # 演算子の場合は処理続行\n",
        "        session['operator'] = postback_msg\n",
        "        reply_message = '2番目の数値を入力してください'\n",
        "        output_text(reply_message)\n",
        "\n",
        "    elif postback_msg in (\"開始します！\", \"いいえ\"):\n",
        "        if postback_msg == \"開始します！\":\n",
        "            # 電卓モードのスタート\n",
        "            reply_message = \"電卓を開始します\\n最初の数値を入力してください\"\n",
        "            output_text(reply_message)\n",
        "            not_dentaku = False\n",
        "        else:\n",
        "            reply_message = \"電卓\"\n",
        "            output_text(reply_message)\n",
        "\n",
        "    elif postback_msg in (\"終了します\", \"いいえ\"):\n",
        "        if postback_msg == \"終了します\":\n",
        "            # 電卓モードの終了\n",
        "            reply_message = \"電卓を終了します\"\n",
        "            output_text(reply_message)\n",
        "            not_dentaku = True\n",
        "        else:\n",
        "            reply_message = \"電卓\"\n",
        "            output_text(reply_message)\n",
        "\n",
        "    elif postback_msg in (\"電卓を続行します\", \"電卓を終了します\"):\n",
        "        if postback_msg == \"電卓を終了します\":\n",
        "            # 電卓モードの終了\n",
        "            reply_message = \"電卓を終了します\"\n",
        "            output_text(reply_message)\n",
        "            not_dentaku = True\n",
        "        else:\n",
        "            # 電卓モードの終了\n",
        "            reply_message = \"電卓を続行します\\n最初の数値を入力してください\"\n",
        "            output_text(reply_message)\n",
        "\n",
        "\n",
        "def make_quick_reply(token, text, keys):\n",
        "    items = []\n",
        "    for key in keys:\n",
        "      items.append(QuickReplyButton(action=PostbackAction(label=key, data=key)))\n",
        "    messages = TextSendMessage(text=text,\n",
        "                            quick_reply=QuickReply(items=items))\n",
        "    line_bot_api.reply_message(token, messages=messages)\n",
        "\n",
        "ngrok_tunnel = ngrok.connect(5000)  # ポート5000でngrokのトンネルを作成\n",
        "print('Public URL:', ngrok_tunnel.public_url)  # 公開されたURLを表示\n",
        "\n",
        "if __name__ == \"__main__\":\n",
        "    app.run()  # アプリケーションを実行"
      ],
      "metadata": {
        "id": "QGVeMWztrJf5"
      },
      "execution_count": null,
      "outputs": []
    },
    {
      "cell_type": "markdown",
      "source": [
        "## 例3 Flexメッセージ\n",
        "\n"
      ],
      "metadata": {
        "id": "oaCln9OL3FNa"
      }
    },
    {
      "cell_type": "markdown",
      "source": [
        "Flex Messageを使うことで、レイアウトを自由にカスタマイズしてメッセージを送信できます。\n",
        "\n",
        "Flex Messageについては[公式のドキュメント：Flex Message](https://developers.line.biz/ja/docs/messaging-api/message-types/#flex-messages)などを参考にしてください。"
      ],
      "metadata": {
        "id": "07wMISDePyCf"
      }
    },
    {
      "cell_type": "markdown",
      "source": [
        "作り方について、参考記事は[こちら](https://sajyounokousatu.hatenablog.com/entry/linebot-flexmessage)です。\n",
        "\n",
        "[Flex Message Simulator](https://developers.line.biz/flex-simulator/?status=success&status=success)というものを使うと素早くレイアウトを作れるようです。"
      ],
      "metadata": {
        "id": "wMZxLmPOOsep"
      }
    },
    {
      "cell_type": "markdown",
      "source": [
        "ここでは、\"プロメン\"と入力されたときに、プロメン2023の参考資料2つをFlex Messageで返すようにします。"
      ],
      "metadata": {
        "id": "a6KXtmouQ1rl"
      }
    },
    {
      "cell_type": "markdown",
      "source": [
        "＜実行イメージ＞\n",
        "\n",
        "![](https://imgur.com/aowDQG8.png)"
      ],
      "metadata": {
        "id": "Zzj09JQgRwYM"
      }
    },
    {
      "cell_type": "code",
      "source": [
        "import os\n",
        "from pathlib import Path\n",
        "from datetime import datetime\n",
        "import pytz\n",
        "\n",
        "from flask import Flask, request, abort\n",
        "from linebot import LineBotApi, WebhookHandler\n",
        "from linebot.exceptions import InvalidSignatureError\n",
        "from linebot.models import MessageEvent, TextMessage, TextSendMessage, ImageMessage, ImageSendMessage, FlexSendMessage\n",
        "from pyngrok import ngrok\n",
        "import dotenv\n",
        "\n",
        "app = Flask(__name__)\n",
        "# LineBotApiオブジェクトを作成\n",
        "dotenv.load_dotenv(\"./info/.env\")\n",
        "line_bot_api = LineBotApi(os.environ[\"CHANNEL_ACCESS_TOKEN\"])\n",
        "handler = WebhookHandler(os.environ[\"CHANNEL_SECRET\"])\n",
        "\n",
        "@app.route(\"/callback\", methods=['POST'])\n",
        "def callback():\n",
        "    signature = request.headers['X-Line-Signature']\n",
        "    body = request.get_data(as_text=True)\n",
        "    try:\n",
        "        handler.handle(body, signature)  # リクエストの署名検証を行い、正しければハンドラを実行\n",
        "    except InvalidSignatureError:\n",
        "        abort(400)  # 署名が無効な場合はエラーを返す\n",
        "    return 'OK'\n",
        "\n",
        "def make_flex():\n",
        "    temp = [\n",
        "        {\n",
        "          \"type\": \"text\",\n",
        "          \"text\": \"プロメン2023\",\n",
        "          \"weight\": \"bold\",\n",
        "          \"size\": \"xl\"\n",
        "        }\n",
        "    ]\n",
        "\n",
        "    # Flexの情報\n",
        "    text_dict = {\n",
        "        \"プロメン資料群\": \"https://github.com/kiryu-3/Prmn2023\",\n",
        "        \"プロメン参考教材群\": \"https://scrapbox.io/Prmn2023/%E3%83%97%E3%83%AD%E3%83%A1%E3%83%B32023\"\n",
        "    }\n",
        "\n",
        "    # 辞書からデータを取り出してFlexMessageを定義\n",
        "    for key, value in text_dict.items():\n",
        "      temp.append(\n",
        "        {\n",
        "          \"type\": \"button\",\n",
        "          \"action\": {\n",
        "            \"type\": \"uri\",\n",
        "            \"label\": key,\n",
        "            \"uri\": value\n",
        "          },\n",
        "          \"style\": \"primary\"\n",
        "        }\n",
        "      )\n",
        "    payload = {\n",
        "      \"type\": \"bubble\",\n",
        "      \"body\": {\n",
        "        \"type\": \"box\",\n",
        "        \"layout\": \"vertical\",\n",
        "        \"contents\": temp\n",
        "      }\n",
        "    }\n",
        "    return payload\n",
        "\n",
        "@handler.add(MessageEvent, message=TextMessage)\n",
        "def handle_message(event):\n",
        "    if event.message.text == \"プロメン\":\n",
        "        payload = make_flex()\n",
        "        flex_message = FlexSendMessage(\n",
        "            alt_text='this is alt_text',\n",
        "            contents=payload\n",
        "          )\n",
        "        line_bot_api.reply_message(event.reply_token, flex_message)\n",
        "\n",
        "    else:\n",
        "        reply_text = event.message.text  # 受信したテキストメッセージを取得\n",
        "        line_bot_api.reply_message(\n",
        "            event.reply_token,\n",
        "            TextSendMessage(text=reply_text)  # 受信したテキストメッセージをそのまま返信\n",
        "        )\n",
        "        print(\"返信完了!!\\ntext:\", event.message.text)  # 返信が完了したことを表示\n",
        "\n",
        "\n",
        "\n",
        "\n",
        "ngrok_tunnel = ngrok.connect(5000)  # ポート5000でngrokのトンネルを作成\n",
        "print('Public URL:', ngrok_tunnel.public_url)  # 公開されたURLを表示\n",
        "\n",
        "if __name__ == \"__main__\":\n",
        "    app.run()  # アプリケーションを実行"
      ],
      "metadata": {
        "id": "XDyN3JL6yrxU"
      },
      "execution_count": null,
      "outputs": []
    },
    {
      "cell_type": "markdown",
      "source": [
        "## 例4 カルーセル"
      ],
      "metadata": {
        "id": "C1TAZpnfUoEP"
      }
    },
    {
      "cell_type": "markdown",
      "source": [
        "カルーセルを使うと、複数のオブジェクトをユーザーがスクロールして閲覧することができるようになります。\n",
        "\n",
        "カルーセルについては[公式のドキュメント：カルーセル](https://developers.line.biz/ja/docs/messaging-api/message-types/#carousel-template)などを参考にしてください。"
      ],
      "metadata": {
        "id": "daFgCeeiU06u"
      }
    },
    {
      "cell_type": "markdown",
      "source": [
        "作り方について、参考記事は[こちら](https://zanote.net/python/carouseltemplate/)です。\n",
        "\n",
        "この記事では、カルーセルを使って多くのメッセージを表示させる対応方法についても触れられています。"
      ],
      "metadata": {
        "id": "M1NGT5XfVmvG"
      }
    },
    {
      "cell_type": "markdown",
      "source": [
        "以下では、[こちら](https://github.com/kiryu-3/Prmn2023)で公開されているプロメンの資料について、\n",
        "カルーセルで閲覧できるようにしています。"
      ],
      "metadata": {
        "id": "J0izDFDtV38k"
      }
    },
    {
      "cell_type": "markdown",
      "source": [
        "＜実行イメージ＞\n",
        "\n",
        "![](https://imgur.com/TLsJfuG.png)"
      ],
      "metadata": {
        "id": "j38IkTAUW9DV"
      }
    },
    {
      "cell_type": "markdown",
      "source": [
        "＜実行イメージ＞\n",
        "\n",
        "![](https://imgur.com/AZ11RML.png)\n",
        "\n",
        "![](https://imgur.com/V1mXZBg.png)"
      ],
      "metadata": {
        "id": "9ke9epLnWnrT"
      }
    },
    {
      "cell_type": "code",
      "source": [
        "import os\n",
        "from pathlib import Path\n",
        "import uuid\n",
        "\n",
        "from flask import Flask, request, abort, redirect\n",
        "from linebot import LineBotApi, WebhookHandler\n",
        "from linebot.exceptions import InvalidSignatureError\n",
        "from linebot.models import (\n",
        "    MessageEvent, TextMessage, TextSendMessage, TemplateSendMessage, ImageMessage, ImageSendMessage, PostbackEvent,\n",
        "    CarouselTemplate, CarouselColumn, RichMenu, RichMenuSize, RichMenuArea, RichMenuBounds, PostbackAction, URIAction,\n",
        "    QuickReply, QuickReplyButton\n",
        ")\n",
        "from pyngrok import ngrok\n",
        "import dotenv\n",
        "\n",
        "app = Flask(__name__)\n",
        "# LineBotApiオブジェクトを作成\n",
        "dotenv.load_dotenv(\"./info/.env\")\n",
        "line_bot_api = LineBotApi(os.environ[\"CHANNEL_ACCESS_TOKEN\"])\n",
        "handler = WebhookHandler(os.environ[\"CHANNEL_SECRET\"])\n",
        "\n",
        "@app.route(\"/callback\", methods=['POST'])\n",
        "def callback():\n",
        "    signature = request.headers['X-Line-Signature']\n",
        "    body = request.get_data(as_text=True)\n",
        "    try:\n",
        "        handler.handle(body, signature)  # リクエストの署名検証を行い、正しければハンドラを実行\n",
        "    except InvalidSignatureError:\n",
        "        abort(400)  # 署名が無効な場合はエラーを返す\n",
        "    return 'OK'\n",
        "\n",
        "@handler.add(MessageEvent, message=TextMessage)\n",
        "def handle_message(event):\n",
        "    reply_text = event.message.text  # 受信したテキストメッセージを取得\n",
        "    if reply_text == \"プロメン\":\n",
        "        make_quick_reply(event.reply_token, \"プロメンの参考資料について表示しますか？\")\n",
        "    else:\n",
        "        line_bot_api.reply_message(\n",
        "            event.reply_token,\n",
        "            TextSendMessage(text=reply_text)  # 受信したテキストメッセージをそのまま返信\n",
        "        )\n",
        "    print(\"返信完了!!\\ntext:\", event.message.text)  # 返信が完了したことを表示\n",
        "\n",
        "# PostbackActionがあった時のアクション\n",
        "@handler.add(PostbackEvent)\n",
        "def on_postback(event):\n",
        "    postback_msg = event.postback.data\n",
        "\n",
        "    if postback_msg == \"資料を表示\":\n",
        "        columns_list = []\n",
        "        url_dict = {\n",
        "            \"Python（基本文法）\" : [\"プロメン2023の本資料。\\nPythonの基本文法についてまとめている。\", \"https://kiryu-3.github.io/Prmn2023/python-basic/index.html#0\"],\n",
        "            \"Python（WEB開発）\" : [\"プロメン2023の最終成果物参考資料。\\nPythonで簡単にWEB開発を行えるStreamlitについてまとめている。\", \"https://kiryu-3.github.io/Prmn2023/streamlit-prmn/index.html#0\"],\n",
        "            \"Python（データサイエンス）\" : [\"おまけ資料。\\nデータサイエンスのライブラリについてまとめている。\", \"https://kiryu-3.github.io/Prmn2023/python-ds/index.html#0\"],\n",
        "            \"Python（統計）\" : [\"おまけ資料。\\n統計の基礎についてまとめている。\", \"https://kiryu-3.github.io/Prmn2023/python-stat/index.html#0\"],\n",
        "            \"Python（機械学習）\" : [\"おまけ資料。\\n機械学習の基礎についてまとめている。\", \"https://kiryu-3.github.io/Prmn2023/python-machine-prmn/index.html#0\"],\n",
        "            \"フロントエンド入門\" : [\"おまけ資料。\\nHTML&CSS&javascriptの基礎についてまとめている。\", \"https://kiryu-3.github.io/Prmn2023/frontend-prmn/index.html#0\"],\n",
        "            \"データベース入門\" : [\"おまけ資料。\\nSQLの基礎についてまとめている。\", \"https://kiryu-3.github.io/Prmn2023/sql-prmn/index.html#0\"],\n",
        "        }\n",
        "        for key, value in url_dict.items():\n",
        "          columns_list.append(CarouselColumn(title=key, text=value[0], actions=[URIAction(label='リンクはこちら', uri=value[1])]))\n",
        "\n",
        "        carousel_template_message = TemplateSendMessage(\n",
        "                        alt_text='会話ログを表示しています',\n",
        "                        template=CarouselTemplate(columns=columns_list)\n",
        "                        )\n",
        "        line_bot_api.reply_message(event.reply_token, messages=carousel_template_message)\n",
        "\n",
        "    elif postback_msg == \"キャンセル\":\n",
        "        messages = TextSendMessage(text=\"キャンセルしました\")\n",
        "        line_bot_api.reply_message(event.reply_token, messages=messages)\n",
        "\n",
        "\n",
        "def make_quick_reply(token, text):\n",
        "    items = []\n",
        "    items.append(QuickReplyButton(action=PostbackAction(label='表示する', data='資料を表示')))\n",
        "    items.append(QuickReplyButton(action=PostbackAction(label='キャンセル', data='キャンセル')))\n",
        "    messages = TextSendMessage(text=text,\n",
        "                            quick_reply=QuickReply(items=items))\n",
        "    line_bot_api.reply_message(token, messages=messages)\n",
        "\n",
        "ngrok_tunnel = ngrok.connect(5000)  # ポート5000でngrokのトンネルを作成\n",
        "print('Public URL:', ngrok_tunnel.public_url)  # 公開されたURLを表示\n",
        "\n",
        "if __name__ == \"__main__\":\n",
        "    app.run()  # アプリケーションを実行\n"
      ],
      "metadata": {
        "id": "P0qWSy0UNFFB"
      },
      "execution_count": null,
      "outputs": []
    },
    {
      "cell_type": "markdown",
      "source": [
        "## 例5 リッチメニュー"
      ],
      "metadata": {
        "id": "IspoQsO31BVn"
      }
    },
    {
      "cell_type": "markdown",
      "source": [
        "**リッチメニュー**とは、トークルームのキーボードエリアにアカウント独自のメニューを展開できる機能です。\n",
        "\n",
        "リッチメニューについては[公式のドキュメント：リッチメニュー](https://developers.line.biz/ja/docs/messaging-api/using-rich-menus/)などを参考にしてください。\n",
        "\n"
      ],
      "metadata": {
        "id": "VhssjcM-dSK4"
      }
    },
    {
      "cell_type": "markdown",
      "source": [
        "作り方について、参考記事は[こちら](https://zanote.net/python/rich-menu/)です。\n",
        "\n",
        "この記事では、カルーセルを作る際に必要な引数などの解説があります。"
      ],
      "metadata": {
        "id": "vgMTxvcjdwo-"
      }
    },
    {
      "cell_type": "markdown",
      "source": [
        "以下では、YAHOO!社の主要サイトをリッチメニューで表示し、\n",
        "それぞれのサイトに飛べるようにしています。"
      ],
      "metadata": {
        "id": "Z2kr24veqVd9"
      }
    },
    {
      "cell_type": "markdown",
      "source": [
        "＜実行イメージ＞\n",
        "\n",
        "![](https://imgur.com/bH1djoH.png)"
      ],
      "metadata": {
        "id": "zTuyMpN6ePNN"
      }
    },
    {
      "cell_type": "code",
      "source": [
        "import os\n",
        "from pathlib import Path\n",
        "import uuid\n",
        "\n",
        "from flask import Flask, request, abort, redirect\n",
        "from linebot import LineBotApi, WebhookHandler\n",
        "from linebot.exceptions import InvalidSignatureError\n",
        "from linebot.models import MessageEvent, TextMessage, TextSendMessage, ImageMessage, ImageSendMessage, PostbackEvent\n",
        "from linebot.models import (\n",
        "    RichMenu, RichMenuSize, RichMenuArea, RichMenuBounds, PostbackAction, URIAction\n",
        ")\n",
        "from pyngrok import ngrok\n",
        "import dotenv\n",
        "\n",
        "app = Flask(__name__)\n",
        "# LineBotApiオブジェクトを作成\n",
        "dotenv.load_dotenv(\"./info/.env\")\n",
        "line_bot_api = LineBotApi(os.environ[\"CHANNEL_ACCESS_TOKEN\"])\n",
        "handler = WebhookHandler(os.environ[\"CHANNEL_SECRET\"])\n",
        "\n",
        "@app.route(\"/callback\", methods=['POST'])\n",
        "def callback():\n",
        "    signature = request.headers['X-Line-Signature']\n",
        "    body = request.get_data(as_text=True)\n",
        "    try:\n",
        "        handler.handle(body, signature)  # リクエストの署名検証を行い、正しければハンドラを実行\n",
        "    except InvalidSignatureError:\n",
        "        abort(400)  # 署名が無効な場合はエラーを返す\n",
        "    return 'OK'\n",
        "\n",
        "@handler.add(MessageEvent, message=TextMessage)\n",
        "def handle_message(event):\n",
        "    reply_text = event.message.text  # 受信したテキストメッセージを取得\n",
        "    line_bot_api.reply_message(\n",
        "        event.reply_token,\n",
        "        TextSendMessage(text=reply_text)  # 受信したテキストメッセージをそのまま返信\n",
        "    )\n",
        "    print(\"返信完了!!\\ntext:\", event.message.text)  # 返信が完了したことを表示\n",
        "\n",
        "@handler.add(PostbackEvent)\n",
        "def handle_postback(event):\n",
        "    data = event.postback.data  # ポストバックデータを取得\n",
        "\n",
        "    if data == 'renew':\n",
        "        # renewアクションが実行された場合の処理\n",
        "        # 特定のサイトのURLにリダイレクト\n",
        "        redirect_url = \"https://news.yahoo.co.jp/categories/domestic\"\n",
        "        line_bot_api.reply_message(\n",
        "            event.reply_token,\n",
        "            TextSendMessage(text=redirect_url)  # メッセージとしてURLを返信\n",
        "        )\n",
        "\n",
        "\n",
        "# リッチメニューの作成\n",
        "rich_menu_to_create = RichMenu(\n",
        "    size=RichMenuSize(width=2500, height=1250),\n",
        "    selected=False,\n",
        "    name=\"Nice rich menu\",\n",
        "    chat_bar_text=\"Tap to open\",\n",
        "    areas=[\n",
        "        RichMenuArea(\n",
        "            bounds=RichMenuBounds(x=0, y=0, width=1250, height=625),\n",
        "            action=URIAction(label='スポーツナビ', uri='https://sports.yahoo.co.jp/')\n",
        "        ),\n",
        "        RichMenuArea(\n",
        "            bounds=RichMenuBounds(x=1250, y=0, width=1250, height=625),\n",
        "            action=URIAction(label='知恵袋', uri='https://chiebukuro.yahoo.co.jp/?fr=ytop_menu')\n",
        "        ),\n",
        "        RichMenuArea(\n",
        "            bounds=RichMenuBounds(x=0, y=625, width=1250, height=625),\n",
        "            action=URIAction(label='ニュース', uri='https://news.yahoo.co.jp/')\n",
        "        ),\n",
        "        RichMenuArea(\n",
        "            bounds=RichMenuBounds(x=1250, y=625, width=1250, height=625),\n",
        "            action=URIAction(label='天気・災害', uri='https://weather.yahoo.co.jp/weather/')\n",
        "        )\n",
        "    ]\n",
        ")\n",
        "\n",
        "# 1つ目のエリアの画像を設定\n",
        "with open(\"/content/merged.png\", 'rb') as f:\n",
        "    rich_menu_area1_image = f.read()\n",
        "\n",
        "\n",
        "# リッチメニューの作成と画像の設定\n",
        "rich_menu_id = line_bot_api.create_rich_menu(rich_menu=rich_menu_to_create)\n",
        "line_bot_api.set_rich_menu_image(rich_menu_id, \"image/png\", rich_menu_area1_image)\n",
        "\n",
        "\n",
        "# リッチメニューの作成と画像の設定\n",
        "line_bot_api.set_default_rich_menu(rich_menu_id)\n",
        "\n",
        "rich_menu_list = line_bot_api.get_rich_menu_list()\n",
        "print(rich_menu_list)\n",
        "\n",
        "ngrok_tunnel = ngrok.connect(5000)  # ポート5000でngrokのトンネルを作成\n",
        "print('Public URL:', ngrok_tunnel.public_url)  # 公開されたURLを表示\n",
        "\n",
        "if __name__ == \"__main__\":\n",
        "    app.run()  # アプリケーションを実行\n"
      ],
      "metadata": {
        "id": "MrVVYJ6eET-I"
      },
      "execution_count": null,
      "outputs": []
    },
    {
      "cell_type": "markdown",
      "source": [
        "### 画像の作り方"
      ],
      "metadata": {
        "id": "wsrsg68Pqi3y"
      }
    },
    {
      "cell_type": "markdown",
      "source": [
        "リッチメニューに使う画像の作り方（結合方法）について紹介しています。\n",
        "\n",
        "参考記事は[こちら](https://note.nkmk.me/python-opencv-hconcat-vconcat-np-tile/)です。"
      ],
      "metadata": {
        "id": "qOUFgB3Lqray"
      }
    },
    {
      "cell_type": "markdown",
      "source": [
        "[公式ドキュメント](https://developers.line.biz/ja/docs/messaging-api/using-rich-menus/#prepare-a-rich-menu-image)にもありますが、使える画像には制限がありますので注意して下さい。"
      ],
      "metadata": {
        "id": "WT8sga7Xr0Cz"
      }
    },
    {
      "cell_type": "markdown",
      "source": [
        "#### Colabにアップロードした画像の結合"
      ],
      "metadata": {
        "id": "CrIQGKdcrDqh"
      }
    },
    {
      "cell_type": "code",
      "source": [
        "import cv2\n",
        "import numpy as np\n",
        "\n",
        "# 画像のURLリスト\n",
        "png_list = [\n",
        "    '/content/image(0).png',\n",
        "    '/content/image(1).png',\n",
        "    '/content/image(2).png',\n",
        "    '/content/image(3).png'\n",
        "]\n",
        "image_list = list()\n",
        "\n",
        "for idx, image_path in enumerate(png_list):\n",
        "    image_path = cv2.imread(f\"/content/image({idx}).png\")\n",
        "    image_s = cv2.resize(image_path, dsize=(0, 0), fx=0.5, fy=0.5)\n",
        "    image_list.append(image_s)\n",
        "\n",
        "def concat_tile(im_list_2d):\n",
        "    return cv2.vconcat([cv2.hconcat(im_list_h) for im_list_h in im_list_2d])\n",
        "\n",
        "im_tile = concat_tile([[image_list[0], image_list[1]],\n",
        "                       [image_list[2], image_list[3]]])\n",
        "cv2.imwrite('/content/richtie2.png', im_tile)\n",
        "\n",
        "# 画像の読み込み\n",
        "image = cv2.imread('/content/richtie.png')\n",
        "\n",
        "# 画像のリサイズ\n",
        "resized_image = cv2.resize(image, (800, 540))\n",
        "\n",
        "# リサイズ後の画像の保存\n",
        "cv2.imwrite('/content/resized_richtile.png', resized_image)"
      ],
      "metadata": {
        "id": "CYeQkaNKrVvW"
      },
      "execution_count": null,
      "outputs": []
    },
    {
      "cell_type": "markdown",
      "source": [
        "#### imgurにアップロードした画像の結合"
      ],
      "metadata": {
        "id": "3MjWfc7Fq8TD"
      }
    },
    {
      "cell_type": "code",
      "source": [
        "import cv2\n",
        "import numpy as np\n",
        "import urllib.request\n",
        "\n",
        "# 画像のURLリスト\n",
        "url_list = [\n",
        "    'https://imgur.com/YcgCkBn.png',\n",
        "    'https://imgur.com/FuNYAGX.png',\n",
        "    'https://imgur.com/YWWMTXq.png',\n",
        "    'https://imgur.com/8AqHobb.png'\n",
        "]\n",
        "image_list = list()\n",
        "for idx, image_url in enumerate(url_list):\n",
        "\n",
        "    # 画像をダウンロードして保存する\n",
        "    urllib.request.urlretrieve(image_url, f'image({idx}).png')\n",
        "\n",
        "    image_path = cv2.imread(f\"/content/image({idx}).png\")\n",
        "    image_s = cv2.resize(image_path, dsize=(0, 0), fx=0.5, fy=0.5)\n",
        "    image_list.append(image_s)\n",
        "\n",
        "def concat_tile(im_list_2d):\n",
        "    return cv2.vconcat([cv2.hconcat(im_list_h) for im_list_h in im_list_2d])\n",
        "\n",
        "im_tile = concat_tile([[image_list[0], image_list[1]],\n",
        "                       [image_list[2], image_list[3]]])\n",
        "cv2.imwrite('/content/richtie.png', im_tile)\n",
        "\n",
        "# 画像の読み込み\n",
        "image = cv2.imread('/content/richtie.png')\n",
        "\n",
        "# 画像のリサイズ\n",
        "resized_image = cv2.resize(image, (800, 540))\n",
        "\n",
        "# リサイズ後の画像の保存\n",
        "cv2.imwrite('/content/resized_richtile.png', resized_image)"
      ],
      "metadata": {
        "id": "uLgM8kt5BG4T"
      },
      "execution_count": null,
      "outputs": []
    },
    {
      "cell_type": "markdown",
      "source": [
        "## 最後に"
      ],
      "metadata": {
        "id": "ubydYmHe7uaE"
      }
    },
    {
      "cell_type": "markdown",
      "source": [
        "応用編の資料はこれで終了です。\n",
        "プロメン最終成果物の参考にしてください。\n"
      ],
      "metadata": {
        "id": "BmVgQnUa7wBS"
      }
    }
  ]
}