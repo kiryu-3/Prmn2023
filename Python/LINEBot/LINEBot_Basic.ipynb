{
  "nbformat": 4,
  "nbformat_minor": 0,
  "metadata": {
    "colab": {
      "provenance": [],
      "toc_visible": true,
      "authorship_tag": "ABX9TyMfv2JL0vTfdWrnJz9o6jd9",
      "include_colab_link": true
    },
    "kernelspec": {
      "name": "python3",
      "display_name": "Python 3"
    },
    "language_info": {
      "name": "python"
    }
  },
  "cells": [
    {
      "cell_type": "markdown",
      "metadata": {
        "id": "view-in-github",
        "colab_type": "text"
      },
      "source": [
        "<a href=\"https://colab.research.google.com/github/kiryu-3/Prmn2023/blob/main/Python/LINEBot/LINEBot_Basic.ipynb\" target=\"_parent\"><img src=\"https://colab.research.google.com/assets/colab-badge.svg\" alt=\"Open In Colab\"/></a>"
      ]
    },
    {
      "cell_type": "markdown",
      "source": [
        "# Python×LINEBot（基本編）"
      ],
      "metadata": {
        "id": "RzdE064F5o6o"
      }
    },
    {
      "cell_type": "code",
      "execution_count": null,
      "metadata": {
        "id": "Zly44ELa5ilP"
      },
      "outputs": [],
      "source": [
        "# 最初に実行してください\n",
        "!pip install line-bot-sdk\n",
        "!pip install pyngrok\n",
        "!pip install python-dotenv"
      ]
    },
    {
      "cell_type": "markdown",
      "source": [
        "## 初めに"
      ],
      "metadata": {
        "id": "31m9pF-m7B5V"
      }
    },
    {
      "cell_type": "markdown",
      "source": [
        "- [LINE Developersコンソール](https://developers.line.biz/console/)にアクセスし、チャネルを作成してください。\n",
        "手順については[LINE Developersコンソールでチャネルを作成する](https://developers.line.me/ja/docs/messaging-api/getting-started/)を参考にしてください。\n",
        "\n",
        "\n",
        "  - チャネルの「チャネル基本設定」で、\n",
        "チャネルアクセストークンとチャネルシークレットを取得してください。\n",
        "\n",
        "\n",
        "  - 取得したチャネルアクセストークンとチャネルシークレットを、\n",
        "\"Your Channel Access Token\"と\"Your Channel Secret\"の部分に置き換えてください。\n",
        "\n",
        "  - WebHookURL を、 `Public URL: https://xx-xx-xx-xx-xx..ngrok.io`となっているところをふまえて\n",
        "`https://xx-xx-xx-xx-xx..ngrok.io/callback` に変更してください。\n"
      ],
      "metadata": {
        "id": "0CAic8B_7DTT"
      }
    },
    {
      "cell_type": "code",
      "source": [
        "# 自分のトークンを設定してください\n",
        "import os\n",
        "\n",
        "directory = 'content/info'\n",
        "if not os.path.exists(directory):\n",
        "    os.makedirs(directory)\n",
        "\n",
        "file_path = os.path.join(directory, '.env')\n",
        "with open(file_path, 'w') as f:\n",
        "    f.write('CHANNEL_ACCESS_TOKEN = Your Channel Access Token\\n')\n",
        "    f.write('CHANNEL_SECRET = Your Channel Secret\\n')"
      ],
      "metadata": {
        "id": "CTBvBGgx5vnI"
      },
      "execution_count": 6,
      "outputs": []
    },
    {
      "cell_type": "markdown",
      "source": [
        "## 例1　テキストのオウム返し"
      ],
      "metadata": {
        "id": "5TZuIS69nLbP"
      }
    },
    {
      "cell_type": "markdown",
      "source": [
        "何かメッセージを送った時に、Botがオウム返しをするようにします。\n",
        "\n",
        "テキストメッセージについては[公式のドキュメント：テキストメッセージ](https://developers.line.biz/ja/docs/messaging-api/message-types/#text-messages)などを参考にしてください。"
      ],
      "metadata": {
        "id": "ah9pJmU-COsp"
      }
    },
    {
      "cell_type": "markdown",
      "source": [
        "＜実行イメージ＞\n",
        "\n",
        "![](https://imgur.com/o0x0z6D.png)"
      ],
      "metadata": {
        "id": "szRMQ9LO_rrN"
      }
    },
    {
      "cell_type": "code",
      "source": [
        "import os\n",
        "from pathlib import Path\n",
        "import uuid\n",
        "\n",
        "from flask import Flask, request, abort\n",
        "from linebot import LineBotApi, WebhookHandler\n",
        "from linebot.exceptions import InvalidSignatureError\n",
        "from linebot.models import MessageEvent, TextMessage, TextSendMessage, ImageMessage, ImageSendMessage\n",
        "from pyngrok import ngrok\n",
        "\n",
        "app = Flask(__name__)\n",
        "line_bot_api = LineBotApi('Your Channel Access Token')  # LineBotApiオブジェクトを作成し、Channel Access Tokenを指定\n",
        "handler = WebhookHandler('Your Channel Secret')  # WebhookHandlerオブジェクトを作成し、Channel Secretを指定\n",
        "\n",
        "@app.route(\"/callback\", methods=['POST'])\n",
        "def callback():\n",
        "    signature = request.headers['X-Line-Signature']\n",
        "    body = request.get_data(as_text=True)\n",
        "    try:\n",
        "        handler.handle(body, signature)  # リクエストの署名検証を行い、正しければハンドラを実行\n",
        "    except InvalidSignatureError:\n",
        "        abort(400)  # 署名が無効な場合はエラーを返す\n",
        "    return 'OK'\n",
        "\n",
        "@handler.add(MessageEvent, message=TextMessage)\n",
        "def handle_message(event):\n",
        "    reply_text = event.message.text  # 受信したテキストメッセージを取得\n",
        "    line_bot_api.reply_message(\n",
        "        event.reply_token,\n",
        "        TextSendMessage(text=reply_text)  # 受信したテキストメッセージをそのまま返信\n",
        "    )\n",
        "    print(\"返信完了!!\\ntext:\", event.message.text)  # 返信が完了したことを表示\n",
        "\n",
        "ngrok_tunnel = ngrok.connect(5000)  # ポート5000でngrokのトンネルを作成\n",
        "print('Public URL:', ngrok_tunnel.public_url)  # 公開されたURLを表示\n",
        "\n",
        "if __name__ == \"__main__\":\n",
        "    app.run()  # アプリケーションを実行\n"
      ],
      "metadata": {
        "id": "xZYKsDLFoS6p"
      },
      "execution_count": null,
      "outputs": []
    },
    {
      "cell_type": "markdown",
      "source": [
        "## 例2 画像データの取り扱い"
      ],
      "metadata": {
        "id": "GO6u_8B12369"
      }
    },
    {
      "cell_type": "markdown",
      "source": [
        "Botは画像を返答することができます。\n",
        "\n",
        "ここでは、ユーザーが送った画像を（Colabで）保存し、\n",
        "画像が送信されたことが分かる画像を返信します。\n",
        "\n",
        "画像メッセージについては[公式のドキュメント：画像メッセージ](https://developers.line.biz/ja/docs/messaging-api/message-types/#image-messages)などを参考にしてください。"
      ],
      "metadata": {
        "id": "Vy4q84IQCj6y"
      }
    },
    {
      "cell_type": "markdown",
      "source": [
        "＜実行イメージ＞\n",
        "\n",
        "![](https://imgur.com/gPrWbnk.png)"
      ],
      "metadata": {
        "id": "4y-JGtHPAWi8"
      }
    },
    {
      "cell_type": "code",
      "source": [
        "import os\n",
        "from pathlib import Path\n",
        "from datetime import datetime\n",
        "import pytz\n",
        "\n",
        "from flask import Flask, request, abort\n",
        "from linebot import LineBotApi, WebhookHandler\n",
        "from linebot.exceptions import InvalidSignatureError\n",
        "from linebot.models import MessageEvent, TextMessage, TextSendMessage, ImageMessage, ImageSendMessage\n",
        "from pyngrok import ngrok\n",
        "import dotenv\n",
        "\n",
        "app = Flask(__name__)\n",
        "# LineBotApiオブジェクトを作成\n",
        "dotenv.load_dotenv(\"./info/.env\")\n",
        "line_bot_api = LineBotApi(os.environ[\"CHANNEL_ACCESS_TOKEN\"])\n",
        "handler = WebhookHandler(os.environ[\"CHANNEL_SECRET\"])\n",
        "\n",
        "@app.route(\"/callback\", methods=['POST'])\n",
        "def callback():\n",
        "    signature = request.headers['X-Line-Signature']\n",
        "    body = request.get_data(as_text=True)\n",
        "    try:\n",
        "        handler.handle(body, signature)  # リクエストの署名検証を行い、正しければハンドラを実行\n",
        "    except InvalidSignatureError:\n",
        "        abort(400)  # 署名が無効な場合はエラーを返す\n",
        "    return 'OK'\n",
        "\n",
        "@handler.add(MessageEvent, message=TextMessage)\n",
        "def handle_message(event):\n",
        "    reply_text = event.message.text  # 受信したテキストメッセージを取得\n",
        "    line_bot_api.reply_message(\n",
        "        event.reply_token,\n",
        "        TextSendMessage(text=reply_text)  # 受信したテキストメッセージをそのまま返信\n",
        "    )\n",
        "    print(\"返信完了!!\\ntext:\", event.message.text)  # 返信が完了したことを表示\n",
        "\n",
        "@handler.add(MessageEvent, message=ImageMessage)\n",
        "def handle_image_message(event):\n",
        "    message_id = event.message.id  # 受信した画像メッセージのIDを取得\n",
        "    message_content = line_bot_api.get_message_content(message_id)  # 画像メッセージの内容を取得\n",
        "\n",
        "    # 画像を保存する一時ファイルのパスを作成\n",
        "    tmp_dir = \"image\"\n",
        "    os.makedirs(tmp_dir, exist_ok=True)\n",
        "    # タイムゾーンを設定\n",
        "    tz = pytz.timezone('Asia/Tokyo')\n",
        "    # 東京の現在の日時情報を取得\n",
        "    now = datetime.now(tz)\n",
        "    # 日時情報からファイル名を生成\n",
        "    tmp_path = f\"{tmp_dir}/{now.strftime('%Y%m%d%H%M%S')}.jpg\"\n",
        "\n",
        "    # 画像を一時ファイルとして保存\n",
        "    with open(tmp_path, \"wb\") as f:\n",
        "        for chunk in message_content.iter_content():\n",
        "            f.write(chunk)\n",
        "\n",
        "    # テキトーな画像を返す（imgurにアップしたもの）\n",
        "    # 画像のオウム返しは難しいようです\n",
        "    line_bot_api.reply_message(\n",
        "        event.reply_token,\n",
        "        ImageSendMessage(original_content_url=f\"https://imgur.com/mqd9pWE.png\", preview_image_url=f\"https://imgur.com/mqd9pWE.png\")\n",
        "    )\n",
        "    print(\"返信完了!!\\nimage:\", tmp_path)  # 返信が完了したことと一時ファイルのパスを表示\n",
        "\n",
        "\n",
        "ngrok_tunnel = ngrok.connect(5000)  # ポート5000でngrokのトンネルを作成\n",
        "print('Public URL:', ngrok_tunnel.public_url)  # 公開されたURLを表示\n",
        "\n",
        "if __name__ == \"__main__\":\n",
        "    app.run()  # アプリケーションを実行"
      ],
      "metadata": {
        "id": "ITZL2ClAGkxZ"
      },
      "execution_count": null,
      "outputs": []
    },
    {
      "cell_type": "markdown",
      "source": [
        "＜画像の保存の確認＞\n",
        "\n",
        "![](https://imgur.com/fK9djR0.png)"
      ],
      "metadata": {
        "id": "wUF8i086AjDL"
      }
    },
    {
      "cell_type": "markdown",
      "source": [
        "## 例3 送信回数のカウント"
      ],
      "metadata": {
        "id": "A_Mp8c-I3j8s"
      }
    },
    {
      "cell_type": "markdown",
      "source": [
        "Botとのやりとりを継続するには、状態を管理することが必要になります。\n",
        "\n",
        "Pythonのglobal変数をうまく利用することで、管理できるようになります。"
      ],
      "metadata": {
        "id": "_b1ZuE1BDvp2"
      }
    },
    {
      "cell_type": "markdown",
      "source": [
        "ここでは、Botとのやりとりの回数をglobal変数`count`で管理します。"
      ],
      "metadata": {
        "id": "oGW7IFwdEN03"
      }
    },
    {
      "cell_type": "markdown",
      "source": [
        "＜実行イメージ＞\n",
        "\n",
        "![](https://imgur.com/yAzolgb.png)"
      ],
      "metadata": {
        "id": "5hFc5WhZEkXs"
      }
    },
    {
      "cell_type": "code",
      "source": [
        "import os\n",
        "from pathlib import Path\n",
        "import uuid\n",
        "\n",
        "from flask import Flask, request, abort\n",
        "from linebot import LineBotApi, WebhookHandler\n",
        "from linebot.exceptions import InvalidSignatureError\n",
        "from linebot.models import MessageEvent, TextMessage, TextSendMessage, ImageMessage, ImageSendMessage\n",
        "from pyngrok import ngrok\n",
        "import dotenv\n",
        "\n",
        "app = Flask(__name__)\n",
        "# LineBotApiオブジェクトを作成\n",
        "dotenv.load_dotenv(\"./info/.env\")\n",
        "line_bot_api = LineBotApi(os.environ[\"CHANNEL_ACCESS_TOKEN\"])\n",
        "handler = WebhookHandler(os.environ[\"CHANNEL_SECRET\"])\n",
        "\n",
        "# カウント用のグローバル変数\n",
        "count = 0\n",
        "\n",
        "@app.route(\"/callback\", methods=['POST'])\n",
        "def callback():\n",
        "    signature = request.headers['X-Line-Signature']\n",
        "    body = request.get_data(as_text=True)\n",
        "    try:\n",
        "        handler.handle(body, signature)  # リクエストの署名検証を行い、正しければハンドラを実行\n",
        "    except InvalidSignatureError:\n",
        "        abort(400)  # 署名が無効な場合はエラーを返す\n",
        "    return 'OK'\n",
        "\n",
        "@handler.add(MessageEvent, message=TextMessage)\n",
        "def handle_message(event):\n",
        "    global count  # グローバル変数を参照するために宣言\n",
        "    count += 1  # カウントをインクリメント\n",
        "\n",
        "    reply_text = str(count)  # カウントを文字列に変換して返信\n",
        "    line_bot_api.reply_message(\n",
        "        event.reply_token,\n",
        "        TextSendMessage(text=reply_text)\n",
        "    )\n",
        "    print(\"返信完了!!\\ntext:\", event.message.text)\n",
        "\n",
        "ngrok_tunnel = ngrok.connect(5000)  # ポート5000でngrokのトンネルを作成\n",
        "print('Public URL:', ngrok_tunnel.public_url)  # 公開されたURLを表示\n",
        "\n",
        "if __name__ == \"__main__\":\n",
        "    app.run()  # アプリケーションを実行"
      ],
      "metadata": {
        "id": "LbJPeWFhGrI3"
      },
      "execution_count": null,
      "outputs": []
    },
    {
      "cell_type": "markdown",
      "source": [
        "## 例4 ひとつ前のメッセージを返信"
      ],
      "metadata": {
        "id": "i4v8GcdF26vE"
      }
    },
    {
      "cell_type": "markdown",
      "source": [
        "状態管理の続きです。\n",
        "\n",
        "ここでは、Botに送信した内容をglobal変数`count`で管理します。"
      ],
      "metadata": {
        "id": "ke6JNuUQEvus"
      }
    },
    {
      "cell_type": "markdown",
      "source": [
        "＜実行イメージ＞\n",
        "\n",
        "![](https://imgur.com/35bEO28.png)"
      ],
      "metadata": {
        "id": "l5BxZEClFIlj"
      }
    },
    {
      "cell_type": "code",
      "source": [
        "import os\n",
        "from pathlib import Path\n",
        "import uuid\n",
        "\n",
        "from flask import Flask, request, abort\n",
        "from linebot import LineBotApi, WebhookHandler\n",
        "from linebot.exceptions import InvalidSignatureError\n",
        "from linebot.models import MessageEvent, TextMessage, TextSendMessage, ImageMessage, ImageSendMessage\n",
        "from pyngrok import ngrok\n",
        "import dotenv\n",
        "\n",
        "app = Flask(__name__)\n",
        "# LineBotApiオブジェクトを作成\n",
        "dotenv.load_dotenv(\"./info/.env\")\n",
        "line_bot_api = LineBotApi(os.environ[\"CHANNEL_ACCESS_TOKEN\"])\n",
        "handler = WebhookHandler(os.environ[\"CHANNEL_SECRET\"])\n",
        "\n",
        "# カウント用のグローバル変数\n",
        "count = \"スタート\"\n",
        "\n",
        "@app.route(\"/callback\", methods=['POST'])\n",
        "def callback():\n",
        "    signature = request.headers['X-Line-Signature']\n",
        "    body = request.get_data(as_text=True)\n",
        "    try:\n",
        "        handler.handle(body, signature)  # リクエストの署名検証を行い、正しければハンドラを実行\n",
        "    except InvalidSignatureError:\n",
        "        abort(400)  # 署名が無効な場合はエラーを返す\n",
        "    return 'OK'\n",
        "\n",
        "@handler.add(MessageEvent, message=TextMessage)\n",
        "def handle_message(event):\n",
        "    global count  # グローバル変数を参照するために宣言\n",
        "\n",
        "    line_bot_api.reply_message(\n",
        "        event.reply_token,\n",
        "        TextSendMessage(text=count)  # グローバル変数の値を返信\n",
        "    )\n",
        "    count = event.message.text  # 受信したメッセージでグローバル変数を更新\n",
        "    print(\"返信完了!!\\ntext:\", event.message.text)\n",
        "\n",
        "ngrok_tunnel = ngrok.connect(5000)  # ポート5000でngrokのトンネルを作成\n",
        "print('Public URL:', ngrok_tunnel.public_url)  # 公開されたURLを表示\n",
        "\n",
        "if __name__ == \"__main__\":\n",
        "    app.run()  # アプリケーションを実行\n"
      ],
      "metadata": {
        "id": "NuHW0h_JIoBt"
      },
      "execution_count": null,
      "outputs": []
    },
    {
      "cell_type": "markdown",
      "source": [
        "## 例5 電卓プログラム"
      ],
      "metadata": {
        "id": "DUOlXXfg3AXk"
      }
    },
    {
      "cell_type": "markdown",
      "source": [
        "簡単な四則演算をLINEBotで行えるようにします。"
      ],
      "metadata": {
        "id": "sxtFC5EsFQzr"
      }
    },
    {
      "cell_type": "markdown",
      "source": [
        "＜実行イメージ＞\n",
        "\n",
        "![](https://imgur.com/SlnkQRQ.png)　![](https://imgur.com/tMptQuu.png)"
      ],
      "metadata": {
        "id": "h8KwZFOzFtjS"
      }
    },
    {
      "cell_type": "code",
      "source": [
        "import os\n",
        "from pathlib import Path\n",
        "import uuid\n",
        "\n",
        "from flask import Flask, request, abort\n",
        "from linebot import LineBotApi, WebhookHandler\n",
        "from linebot.exceptions import InvalidSignatureError\n",
        "from linebot.models import MessageEvent, TextMessage, TextSendMessage, ImageMessage, ImageSendMessage\n",
        "from pyngrok import ngrok\n",
        "import dotenv\n",
        "\n",
        "app = Flask(__name__)\n",
        "# LineBotApiオブジェクトを作成\n",
        "dotenv.load_dotenv(\"./info/.env\")\n",
        "line_bot_api = LineBotApi(os.environ[\"CHANNEL_ACCESS_TOKEN\"])\n",
        "handler = WebhookHandler(os.environ[\"CHANNEL_SECRET\"])\n",
        "\n",
        "# カウント用のグローバル変数\n",
        "session = {}  # 電卓セッションの情報を保持する辞書\n",
        "not_dentaku = True  # 電卓モードかどうかを示すフラグ\n",
        "\n",
        "@app.route(\"/callback\", methods=['POST'])\n",
        "def callback():\n",
        "    signature = request.headers['X-Line-Signature']\n",
        "    body = request.get_data(as_text=True)\n",
        "    try:\n",
        "        handler.handle(body, signature)  # リクエストの署名検証を行い、正しければハンドラを実行\n",
        "    except InvalidSignatureError:\n",
        "        abort(400)  # 署名が無効な場合はエラーを返す\n",
        "    return 'OK'\n",
        "\n",
        "# 計算結果を返す関数\n",
        "def calculate_result():\n",
        "    num1 = session['num1']\n",
        "    operator = session['operator']\n",
        "    num2 = session['num2']\n",
        "\n",
        "    if operator == '+':\n",
        "        result = num1 + num2\n",
        "    elif operator == '-':\n",
        "        result = num1 - num2\n",
        "    elif operator == '*':\n",
        "        result = num1 * num2\n",
        "    elif operator == '/':\n",
        "        result = num1 / num2\n",
        "    else:\n",
        "        result = None\n",
        "\n",
        "    result = round(result, 2)\n",
        "    return f\"{num1} {operator} {num2} = {str(result)}\"\n",
        "\n",
        "@handler.add(MessageEvent, message=TextMessage)\n",
        "def handle_message(event):\n",
        "    global session  # 入力情報を管理するグローバル変数\n",
        "    global not_dentaku  # 電卓モードかどうかを管理するグローバル変数\n",
        "\n",
        "    # テキストメッセージを返す関数\n",
        "    def output_text(output_message):\n",
        "        line_bot_api.reply_message(\n",
        "            event.reply_token,\n",
        "            TextSendMessage(text=output_message)\n",
        "        )\n",
        "\n",
        "    # ユーザーが入力したメッセージを変数に代入\n",
        "    input_message = event.message.text\n",
        "    # 無限ループ\n",
        "    while True:\n",
        "        # \"電卓\"と入力された場合\n",
        "        if input_message == \"電卓\":\n",
        "            # 電卓モードではない場合\n",
        "            if not_dentaku:\n",
        "                # 電卓モードのスタート\n",
        "                reply_message = \"電卓を開始します\\n最初の数値を入力してください\"\n",
        "                output_text(reply_message)\n",
        "                not_dentaku = False\n",
        "                break\n",
        "            # すでに電卓モードである場合\n",
        "            else:\n",
        "                # 電卓モードの終了\n",
        "                reply_message = \"電卓を終了します\"\n",
        "                output_text(reply_message)\n",
        "                not_dentaku = True\n",
        "                break\n",
        "\n",
        "        # \"電卓\"以外が入力された場合\n",
        "        else:\n",
        "            # 電卓モードではない場合\n",
        "            if not_dentaku:\n",
        "                # オウム返し\n",
        "                reply_message = input_message\n",
        "                output_text(reply_message)\n",
        "                break\n",
        "\n",
        "        # まだ一つ目の数が入力されていない場合\n",
        "        if 'num1' not in session:\n",
        "            # 数値かどうかを判断\n",
        "            try:\n",
        "                # 数値の場合は処理続行\n",
        "                session['num1'] = float(input_message)\n",
        "                reply_message = '演算子を入力してください\\n (+, -, *, /)'\n",
        "                output_text(reply_message)\n",
        "                break\n",
        "            except ValueError:\n",
        "                # 数値ではない場合は再度入力させる\n",
        "                reply_message = '無効な数値です\\n最初の数値を入力してください'\n",
        "                output_text(reply_message)\n",
        "                break\n",
        "\n",
        "        # まだ演算子が入力されていない場合\n",
        "        if 'operator' not in session:\n",
        "            # 演算子かどうかを判断\n",
        "            if input_message in ['+', '-', '*', '/']:\n",
        "                # 演算子の場合は処理続行\n",
        "                session['operator'] = input_message\n",
        "                reply_message = '2番目の数値を入力してください'\n",
        "                output_text(reply_message)\n",
        "                break\n",
        "            else:\n",
        "                # 演算子ではない場合は再度入力させる\n",
        "                reply_message = '無効な演算子です\\n演算子を入力してください (+, -, *, /)'\n",
        "                output_text(reply_message)\n",
        "                break\n",
        "\n",
        "        # まだ二つ目の数が入力されていない場合\n",
        "        if 'num2' not in session:\n",
        "            # ゼロ除算かどうかを判断\n",
        "            if session['operator'] == \"/\" and input_message == \"0\":\n",
        "                reply_message = '無効な数値です\\n2番目の数値を入力してください'\n",
        "                output_text(reply_message)\n",
        "                break\n",
        "\n",
        "            # 数値かどうかを判断\n",
        "            try:\n",
        "                # 数値の場合は処理続行\n",
        "                session['num2'] = float(input_message)\n",
        "\n",
        "                # これまでの入力データを使って計算\n",
        "                reply_message = calculate_result()\n",
        "\n",
        "                # 追加のメッセージを定義\n",
        "                plus_message = \"続けて最初の数字を入力してください\\n電卓を終了したい場合は「電卓」と入力してください\"\n",
        "\n",
        "                # 2つのメッセージを返信\n",
        "                line_bot_api.reply_message(\n",
        "                    event.reply_token,\n",
        "                    [TextSendMessage(text=reply_message), TextSendMessage(text=plus_message)]\n",
        "                )\n",
        "\n",
        "                # セッション情報をクリア\n",
        "                session = {}\n",
        "                break\n",
        "\n",
        "            except ValueError:\n",
        "                # 数値ではない場合は再度入力させる\n",
        "                reply_message = '無効な数値です\\n2番目の数値を入力してください'\n",
        "                output_text(reply_message)\n",
        "                break\n",
        "\n",
        "ngrok_tunnel = ngrok.connect(5000)  # ポート5000でngrokのトンネルを作成\n",
        "print('Public URL:', ngrok_tunnel.public_url)  # 公開されたURLを表示\n",
        "\n",
        "if __name__ == \"__main__\":\n",
        "    app.run()  # アプリケーションを実行"
      ],
      "metadata": {
        "id": "Mo31JRd8Ps74"
      },
      "execution_count": null,
      "outputs": []
    },
    {
      "cell_type": "markdown",
      "source": [
        "## 最後に"
      ],
      "metadata": {
        "id": "ubydYmHe7uaE"
      }
    },
    {
      "cell_type": "markdown",
      "source": [
        "基本編の資料はこれで終了です。\n",
        "プロメン最終成果物の参考にしてください。\n",
        "\n",
        "もっと機能を追加したい方は応用編の資料を参照してください。"
      ],
      "metadata": {
        "id": "BmVgQnUa7wBS"
      }
    }
  ]
}