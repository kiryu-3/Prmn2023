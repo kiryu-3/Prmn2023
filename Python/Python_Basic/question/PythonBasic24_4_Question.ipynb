{
  "nbformat": 4,
  "nbformat_minor": 0,
  "metadata": {
    "colab": {
      "provenance": [],
      "authorship_tag": "ABX9TyM28Z2qjBDQvLlROcaipJTj",
      "include_colab_link": true
    },
    "kernelspec": {
      "name": "python3",
      "display_name": "Python 3"
    },
    "language_info": {
      "name": "python"
    }
  },
  "cells": [
    {
      "cell_type": "markdown",
      "metadata": {
        "id": "view-in-github",
        "colab_type": "text"
      },
      "source": [
        "<a href=\"https://colab.research.google.com/github/kiryu-3/Prmn2023/blob/main/Python/Python_Basic/question/PythonBasic24_4_Question.ipynb\" target=\"_parent\"><img src=\"https://colab.research.google.com/assets/colab-badge.svg\" alt=\"Open In Colab\"/></a>"
      ]
    },
    {
      "cell_type": "markdown",
      "source": [
        "# オブジェクト指向2 課題"
      ],
      "metadata": {
        "id": "jQqGrJNkuFDD"
      }
    },
    {
      "cell_type": "markdown",
      "source": [
        "## 課題1"
      ],
      "metadata": {
        "id": "1DGEULJlZLkL"
      }
    },
    {
      "cell_type": "markdown",
      "source": [
        "以下の要件を満たすクラスを作成してください"
      ],
      "metadata": {
        "id": "he1ry54qZP56"
      }
    },
    {
      "cell_type": "markdown",
      "source": [],
      "metadata": {
        "id": "-T4e6kRYOu5O"
      }
    },
    {
      "cell_type": "markdown",
      "source": [
        "**指示**\n",
        "\n",
        "・ moveメソッド内で「○○が歩いたよ」と出力するInsectクラスを作る  \n",
        "\n",
        "・ moveメソッド内で「○○が飛んだよ」と出力するButterflyクラスを作る   \n",
        "　 このとき、ButterflyクラスはInsectクラスを継承する  \n",
        "\n",
        "・ moveメソッド内で「○○が跳んだよ」と出力するLocustクラスを作る   \n",
        "　 このとき、LocustクラスはInsectクラスを継承する  \n",
        "\n",
        "・ moveメソッド内で「○○が綺麗に飛んだよ」と出力するSwallowtailButterflyクラスを作る   \n",
        "　 このとき、SwallowtailButterflyクラスはButterflyクラスを継承する\n",
        "\n",
        "・ 4つのクラス全てに共通して、インスタンス化時に自分の名前を定義する。  \n",
        "　このとき、コンストラクタをうまく利用する。\n",
        "\n",
        "\n",
        "\n"
      ],
      "metadata": {
        "id": "PkJ0b9znZUMi"
      }
    },
    {
      "cell_type": "markdown",
      "source": [
        "4つのクラスのインスタンスをリストinsect_listに格納してください。  \n",
        "その後、格納した4つのインスタンスからmoveメソッドを呼び出してください。"
      ],
      "metadata": {
        "id": "sgs0j4slcDD9"
      }
    },
    {
      "cell_type": "code",
      "source": [
        "# 実行するコード\n",
        "insect_list = []\n",
        "\n",
        "insect_list.append(Insect(\"昆虫\"))\n",
        "insect_list.append(Butterfly(\"蝶々\"))\n",
        "insect_list.append(Locust(\"イナゴ\"))\n",
        "insect_list.append(SwallowtailButterfly(\"アゲハチョウ\"))\n",
        "\n",
        "for insect in insect_list:\n",
        "  insect.move()"
      ],
      "metadata": {
        "id": "axTXP9BeP-ID"
      },
      "execution_count": null,
      "outputs": []
    },
    {
      "cell_type": "code",
      "source": [
        "# 入力用\n"
      ],
      "metadata": {
        "id": "QNcSTpEyP_zy"
      },
      "execution_count": null,
      "outputs": []
    },
    {
      "cell_type": "markdown",
      "source": [
        "## 課題2\n",
        "\n"
      ],
      "metadata": {
        "id": "sxV6gRm8djFh"
      }
    },
    {
      "cell_type": "markdown",
      "source": [
        "以下の要件を満たすクラスを作成してください"
      ],
      "metadata": {
        "id": "AXc3PV3ddkyJ"
      }
    },
    {
      "cell_type": "markdown",
      "source": [
        "**指示**\n",
        "\n",
        "・ クラス名は Car、属性として変数fuelを持つ  \n",
        "\n",
        "・ 引数なしコンストラクタでfuelを0で初期化する\n",
        "\n",
        "・ メソッドとして戻り値、引数無しのrun() を持つ\n",
        "\n",
        "・ run()メソッドではfuelを5消費して、走ったことが分かる文言を表示させる  \n",
        "     \t  　(例:  \"燃料を1消費して走りました。\")\n",
        "\t\t\t\t  \n",
        "・ fuelが5未満の時走れなかったことが分かる文言を表示させる\n",
        "        \n",
        "\n",
        "\n"
      ],
      "metadata": {
        "id": "kvvx9u5Kdh8i"
      }
    },
    {
      "cell_type": "markdown",
      "source": [
        "Carに給油をするGasStationクラスを作成してください    \n",
        "\n",
        "・ クラス名はGasStation、コンストラクタ無し\n",
        "\n",
        "・ refuel()メソッドを持つ  \n",
        "\n",
        "・ refuel()メソッドでは、Carクラスのインスタンスを引数として受け取る  \n",
        "\n",
        "・ refuel()ではCarのfuelを20増やす  \n",
        "\n",
        "・ refuel()では給油したことが分かる文言を表示する"
      ],
      "metadata": {
        "id": "SZD3JsY_dUZc"
      }
    },
    {
      "cell_type": "markdown",
      "source": [
        "今回はCarクラスを継承したTruckクラスを作っていきましょう。"
      ],
      "metadata": {
        "id": "EN_PqJln9lFu"
      }
    },
    {
      "cell_type": "markdown",
      "source": [
        "**指示**\n",
        "\n",
        "・ クラス名は Truck、Carクラスを継承する\n",
        "\n",
        "・ Carクラスの属性に加えて、定格積載量を表す属性cargo_capacity（コンストラクタで定義）と、  \n",
        " 　 現在の乗員数を表す属性cargo（最初は0kg）を定義する\n",
        "\n",
        "・ load_cargo()メソッドで、指定した量の荷物をトラックに積んだり降ろしたりできるようにする    \n",
        "  （積載量がマイナスにならないように注意する）\n",
        "\n",
        "・ 正の値を指定した場合はトラックに乗せ、負の値を指定した場合はトラックから降ろす  \n",
        "\n",
        "・ 定格積載量をオーバーしたらその旨を出力する。だが、荷物をさらに積むことは可能にする\n",
        "\n",
        "・ show_cargo()メソッドで、現在の荷物の重量を確認できるようにする\n",
        "        "
      ],
      "metadata": {
        "id": "H7G5D42r9vE1"
      }
    },
    {
      "cell_type": "markdown",
      "source": [
        "＜実行結果例＞  \n",
        "```\n",
        "燃料が足りないため走れませんでした。\n",
        "給油したことにより、fuelが20増えました。\n",
        "燃料を5消費して走りました。\n",
        "20 kgの荷物を積みました。\n",
        "60 kgの荷物を積みました。定格積載量を超えています。\n",
        "燃料を5消費して走りました。\n",
        "40 kgの荷物を降ろしました。\n",
        "燃料を5消費して走りました。\n",
        "現在の荷物の重量は40 kgです。\n",
        "```"
      ],
      "metadata": {
        "id": "p0JrYtsAIvzU"
      }
    },
    {
      "cell_type": "code",
      "source": [
        "# 実行するコード\n",
        "truck = Truck(50)\n",
        "gasstation = GasStation()\n",
        "\n",
        "truck.run()\n",
        "gasstation.refuel(truck)\n",
        "truck.run()\n",
        "\n",
        "truck.load_cargo(20)\n",
        "truck.load_cargo(60)\n",
        "truck.run()\n",
        "truck.load_cargo(-40)\n",
        "truck.run()\n",
        "truck.show_cargo()"
      ],
      "metadata": {
        "id": "H_JNGijUQJ-J"
      },
      "execution_count": null,
      "outputs": []
    },
    {
      "cell_type": "code",
      "source": [
        "# 入力用\n"
      ],
      "metadata": {
        "id": "LsyN0T7zQOzU"
      },
      "execution_count": null,
      "outputs": []
    },
    {
      "cell_type": "markdown",
      "source": [
        "## 課題3"
      ],
      "metadata": {
        "id": "8kY7RnsKL9wd"
      }
    },
    {
      "cell_type": "markdown",
      "source": [
        "以下の要件を満たすクラスを作成してください"
      ],
      "metadata": {
        "id": "ad8pyx_wL_zs"
      }
    },
    {
      "cell_type": "markdown",
      "source": [
        "**指示**\n",
        "\n",
        " Car クラスのrun()メソッドをTruckクラス内でオーバーライドしてください  \n",
        "\n",
        "・ 積載量が定格積載量を超えていたらバスが動けない旨を出力する  \n",
        "\n",
        "・ 何kg降ろせば動けるようになるか（定格積載量まで積載量を減らせるか）も同時に出力する\n"
      ],
      "metadata": {
        "id": "3aCcTxAaMFds"
      }
    },
    {
      "cell_type": "markdown",
      "source": [
        "＜実行結果例＞\n",
        "\n",
        "```\n",
        "燃料が足りないため走れませんでした。\n",
        "給油したことにより、fuelが20増えました。\n",
        "燃料を5消費して走りました。\n",
        "20 kgの荷物を積みました。\n",
        "60 kgの荷物を積みました。定格積載量を超えています。\n",
        "定格積載量なので走れません。最低でも30kg降ろす必要があります。\n",
        "40 kgの荷物を降ろしました。\n",
        "燃料を5消費して走りました。\n",
        "現在の荷物の重量は40 kgです。\n",
        "```"
      ],
      "metadata": {
        "id": "wY1QAZeKMrwx"
      }
    },
    {
      "cell_type": "code",
      "source": [
        "# 実行するコード\n",
        "truck = Truck(50)\n",
        "gasstation = GasStation()\n",
        "\n",
        "truck.run()\n",
        "gasstation.refuel(truck)\n",
        "truck.run()\n",
        "\n",
        "truck.load_cargo(20)\n",
        "truck.load_cargo(60)\n",
        "truck.run()\n",
        "truck.load_cargo(-40)\n",
        "truck.run()\n",
        "truck.show_cargo()"
      ],
      "metadata": {
        "id": "0eJgpix5QWnD"
      },
      "execution_count": null,
      "outputs": []
    },
    {
      "cell_type": "code",
      "source": [
        "# 入力用\n"
      ],
      "metadata": {
        "id": "CMNLy58wZMii"
      },
      "execution_count": null,
      "outputs": []
    },
    {
      "cell_type": "markdown",
      "source": [
        "## 課題4（課題2・3＋アルファ）"
      ],
      "metadata": {
        "id": "4vnRqpn0B_N2"
      }
    },
    {
      "cell_type": "markdown",
      "source": [
        "今回はTruckクラスを継承したPickupTruckクラスを作っていきましょう。\n",
        "\n",
        "※オフロードモード：オフロード（滑りやすい路面）走行時の駆動輪の空転を防ぎ､走破性を高めるモード。"
      ],
      "metadata": {
        "id": "5ULRmOKVCF5M"
      }
    },
    {
      "cell_type": "markdown",
      "source": [
        "**指示**\n",
        "\n",
        "・ クラス名は PickupTruck、Truckクラスを継承する\n",
        "\n",
        "・ Truckクラスの属性に加えて、オフロードモードかどうか表す属性offroad_mode（コンストラクタで定義）を定義する\n",
        "\n",
        "・ load_cargo()メソッドで、オフロードモードではなくまた荷物を積もうとしているときに限り、  \n",
        "　オフロードモードではないため荷物を積めない旨を出力する。  \n",
        "　（Truckクラスのload_cargo()メソッドをオーバーライド）\n",
        "\n",
        "・ show_offroad_mode()メソッドで、現在のオフロードモードの状態を確認できるようにする。\n",
        "\n",
        "・ change_offroad_mode()メソッドで、オフロードモードの状態を切り替える。\n",
        "\n",
        "        "
      ],
      "metadata": {
        "id": "EZKcFsw9CF5N"
      }
    },
    {
      "cell_type": "markdown",
      "source": [
        "＜実行結果例＞\n",
        "\n",
        "```\n",
        "燃料が足りないため走れませんでした。\n",
        "給油したことにより、fuelが20増えました。\n",
        "燃料を5消費して走りました。\n",
        "オフロードモードではないため、荷物を積みません。\n",
        "オフロードモードは無効です。\n",
        "オフロードモードが有効です。\n",
        "20 kgの荷物を積みました。\n",
        "60 kgの荷物を積みました。定格積載量を超えています。\n",
        "定格積載量なので走れません。最低でも30kg降ろす必要があります。\n",
        "40 kgの荷物を降ろしました。\n",
        "燃料を5消費して走りました。\n",
        "現在の荷物の重量は40 kgです。\n",
        "```"
      ],
      "metadata": {
        "id": "CH2k-zYPDlmE"
      }
    },
    {
      "cell_type": "code",
      "source": [
        "# 実行するコード\n",
        "pickuptruck = PickupTruck(50)\n",
        "gasstation = GasStation()\n",
        "\n",
        "pickuptruck.run()\n",
        "gasstation.refuel(pickuptruck)\n",
        "pickuptruck.run()\n",
        "\n",
        "pickuptruck.load_cargo(20)\n",
        "pickuptruck.show_offroad_mode()\n",
        "pickuptruck.change_offroad_mode()\n",
        "pickuptruck.show_offroad_mode()\n",
        "pickuptruck.load_cargo(20)\n",
        "pickuptruck.load_cargo(60)\n",
        "pickuptruck.run()\n",
        "\n",
        "pickuptruck.load_cargo(-40)\n",
        "pickuptruck.run()\n",
        "pickuptruck.show_cargo()"
      ],
      "metadata": {
        "id": "yfzHTmiKQhOJ"
      },
      "execution_count": null,
      "outputs": []
    },
    {
      "cell_type": "code",
      "source": [
        "# 入力用\n"
      ],
      "metadata": {
        "id": "F0-IxGVJZNfh"
      },
      "execution_count": null,
      "outputs": []
    }
  ]
}