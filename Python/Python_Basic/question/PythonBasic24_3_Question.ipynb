{
  "nbformat": 4,
  "nbformat_minor": 0,
  "metadata": {
    "colab": {
      "provenance": [],
      "toc_visible": true,
      "authorship_tag": "ABX9TyMYtvT4b8cVvHSwbiJpNudg",
      "include_colab_link": true
    },
    "kernelspec": {
      "name": "python3",
      "display_name": "Python 3"
    },
    "language_info": {
      "name": "python"
    }
  },
  "cells": [
    {
      "cell_type": "markdown",
      "metadata": {
        "id": "view-in-github",
        "colab_type": "text"
      },
      "source": [
        "<a href=\"https://colab.research.google.com/github/kiryu-3/Prmn2023/blob/main/Python/Python_Basic/question/PythonBasic24_3_Question.ipynb\" target=\"_parent\"><img src=\"https://colab.research.google.com/assets/colab-badge.svg\" alt=\"Open In Colab\"/></a>"
      ]
    },
    {
      "cell_type": "markdown",
      "source": [
        "# オブジェクト指向1 課題"
      ],
      "metadata": {
        "id": "jQqGrJNkuFDD"
      }
    },
    {
      "cell_type": "markdown",
      "source": [
        "## 課題1"
      ],
      "metadata": {
        "id": "1DGEULJlZLkL"
      }
    },
    {
      "cell_type": "markdown",
      "source": [
        "以下の要件を満たすクラスを作成してください"
      ],
      "metadata": {
        "id": "he1ry54qZP56"
      }
    },
    {
      "cell_type": "markdown",
      "source": [
        "**指示**\n",
        "\n",
        "・ moveメソッド内で「○○が歩いたよ」と出力するInsectクラスを作る  \n",
        "・ moveメソッド内で「○○が飛んだよ」と出力するButterflyクラスを作る     \n",
        "・ moveメソッド内で「○○が跳んだよ」と出力するLocustクラスを作る   \n",
        "・ moveメソッド内で「○○が綺麗に飛んだよ」と出力するSwallowtailButterflyクラスを作る  \n",
        "・ 4つのクラス全てに共通して、コンストラクタで自分の名前を定義する。  \n",
        "\n",
        "\n",
        "\n"
      ],
      "metadata": {
        "id": "PkJ0b9znZUMi"
      }
    },
    {
      "cell_type": "markdown",
      "source": [
        "4つのクラスのインスタンスをリストinsect_listに格納してください。  \n",
        "その後、格納した4つのインスタンスからmoveメソッドを呼び出してください。"
      ],
      "metadata": {
        "id": "MOz_aUO4cj-9"
      }
    },
    {
      "cell_type": "code",
      "source": [
        "# 実行するコード\n",
        "insect_list = []\n",
        "\n",
        "insect_list.append(Insect(\"昆虫\"))\n",
        "insect_list.append(Butterfly(\"蝶々\"))\n",
        "insect_list.append(Locust(\"イナゴ\"))\n",
        "insect_list.append(SwallowtailButterfly(\"アゲハチョウ\"))\n",
        "\n",
        "for insect in insect_list:\n",
        "  insect.move()"
      ],
      "metadata": {
        "id": "axTXP9BeP-ID"
      },
      "execution_count": null,
      "outputs": []
    },
    {
      "cell_type": "code",
      "source": [
        "# 入力用\n"
      ],
      "metadata": {
        "id": "QNcSTpEyP_zy"
      },
      "execution_count": null,
      "outputs": []
    },
    {
      "cell_type": "markdown",
      "source": [
        "## 課題2\n",
        "\n"
      ],
      "metadata": {
        "id": "sxV6gRm8djFh"
      }
    },
    {
      "cell_type": "markdown",
      "source": [
        "以下の要件を満たすクラスを作成してください"
      ],
      "metadata": {
        "id": "AXc3PV3ddkyJ"
      }
    },
    {
      "cell_type": "markdown",
      "source": [
        "**指示**\n",
        "\n",
        "・ クラス名は Car、属性として変数fuelを持つ  \n",
        "\n",
        "・ 引数なしコンストラクタでfuelを0で初期化する\n",
        "\n",
        "・ メソッドとして戻り値、引数無しのrun() を持つ\n",
        "\n",
        "・ run()メソッドではfuelを5消費して、走ったことが分かる文言を表示させる  \n",
        "     \t  　(例:  \"燃料を1消費して走りました。\")\n",
        "\t\t\t\t  \n",
        "・ fuelが0以下の時走れなかったことが分かる文言を表示させる\n",
        "        \n",
        "\n",
        "\n"
      ],
      "metadata": {
        "id": "kvvx9u5Kdh8i"
      }
    },
    {
      "cell_type": "markdown",
      "source": [
        "Carに給油をするGasStationクラスを作成してください    \n",
        "\n",
        "・ クラス名はGasStation、コンストラクタ無し\n",
        "\n",
        "・ refuel()メソッドを持つ  \n",
        "\n",
        "・ refuel()メソッドでは、Carクラスのインスタンスと追加する燃料分を引数として受け取る  \n",
        "\n",
        "・ refuel()ではCarのfuelを引数で指定した分増やす  \n",
        "\n",
        "・ refuel()では給油したことが分かる文言を表示する"
      ],
      "metadata": {
        "id": "SZD3JsY_dUZc"
      }
    },
    {
      "cell_type": "markdown",
      "source": [
        "CarとGasStationをインスタンス化し、  \n",
        "GasStationで給油をする前と後でCarのrun()を呼び出してください"
      ],
      "metadata": {
        "id": "mtvFz04Dc4bl"
      }
    },
    {
      "cell_type": "markdown",
      "source": [
        "＜実行結果例＞\n",
        "\n",
        "```\n",
        "燃料が足りないため走れませんでした。\n",
        "給油したことによりfuelが20増えました。\n",
        "燃料を1消費して走りました。\n",
        "```"
      ],
      "metadata": {
        "id": "RNXwj-VBeFPQ"
      }
    },
    {
      "cell_type": "code",
      "source": [
        "# 実行するコード\n",
        "car = Car()\n",
        "gasstation = GasStation()\n",
        "\n",
        "car.run()\n",
        "gasstation.refuel(car, 20)\n",
        "car.run()"
      ],
      "metadata": {
        "id": "Nlc6vaK5bkta"
      },
      "execution_count": null,
      "outputs": []
    },
    {
      "cell_type": "code",
      "source": [
        "# 入力用\n"
      ],
      "metadata": {
        "id": "qhtIaaYkboLC"
      },
      "execution_count": null,
      "outputs": []
    },
    {
      "cell_type": "markdown",
      "source": [
        "## 課題2.5（課題2＋アルファ）"
      ],
      "metadata": {
        "id": "bTS8-ye7kmW_"
      }
    },
    {
      "cell_type": "markdown",
      "source": [
        "課題2を拡張してください。\n",
        "\n"
      ],
      "metadata": {
        "id": "FGnu5CaXmmty"
      }
    },
    {
      "cell_type": "markdown",
      "source": [
        "・ Carクラスでは、コンストラクタで車の最大燃料容量を設定する。\n",
        "\n",
        "・ Carクラスでは、車の現在の燃料残量を表示するdisplay_fuel()メソッドを追加する。\n",
        "\n",
        "・ GasStationクラスでは、給油時に最大燃料容量を超えないように制限する。"
      ],
      "metadata": {
        "id": "a_32mLrzm36g"
      }
    },
    {
      "cell_type": "markdown",
      "source": [
        "＜実行結果例＞\n",
        "\n",
        "```\n",
        "燃料が足りないため走れませんでした。\n",
        "給油したことにより、fuelが20増えました。\n",
        "燃料を5消費して走りました。\n",
        "現在の燃料残量: 15/50\n",
        "```"
      ],
      "metadata": {
        "id": "xBfZbuvoGlMf"
      }
    },
    {
      "cell_type": "code",
      "source": [
        "# 実行するコード\n",
        "car = Car(50)\n",
        "gasstation = GasStation()\n",
        "\n",
        "car.run()\n",
        "gasstation.refuel(car, 20)\n",
        "car.run()\n",
        "car.display_fuel()"
      ],
      "metadata": {
        "id": "dUiCV_rabryc"
      },
      "execution_count": null,
      "outputs": []
    },
    {
      "cell_type": "code",
      "source": [
        "# 入力用\n"
      ],
      "metadata": {
        "id": "eb_On12Fbuz0"
      },
      "execution_count": null,
      "outputs": []
    },
    {
      "cell_type": "markdown",
      "source": [
        "## 課題3"
      ],
      "metadata": {
        "id": "GCHVpQ4aV_UR"
      }
    },
    {
      "cell_type": "markdown",
      "source": [
        "以下の要件を満たすクラスを作成してください"
      ],
      "metadata": {
        "id": "ECrnt9e5WJSc"
      }
    },
    {
      "cell_type": "markdown",
      "source": [
        "**指示**\n",
        "\n",
        "口座情報を管理するAccountクラスを作成してください  \n",
        "\n",
        "・ name（名前）, number（口座番号）, balance（残高）を属性にもつ  \n",
        "\n",
        "・ コンストラクタでは、balanceを0で初期化する\n",
        "\n"
      ],
      "metadata": {
        "id": "SA6Tbw_lXehC"
      }
    },
    {
      "cell_type": "markdown",
      "source": [
        "銀行でのお金のやり取りを行うATMクラスを作成してください  \n",
        "\n",
        "・ ATMのコンストラクタでAccountのインスタンスを管理するaccountsを初期化する\n",
        "\n",
        "・ register_account()メソッドではアカウントを登録する    \n",
        " 　 この中でAccountクラスをnameとnubmerを引数としてインスタンス化する  \n",
        " 　・ このとき、すでに使われているnumberで登録しようとしていたら、  \n",
        " 　　 登録できない旨を表示し登録しない\n",
        "\n",
        "・ exists_account()メソッドは引数のnumberから   accountsに存在するかどうかをbooleanで返す  \n",
        "  　・ Trueのときは、nameとnumberが存在することを表示する   \n",
        "  　・ Falseのときは、numberが存在しないことを表示する\n",
        "\n",
        "・ deposit()メソッドでは引数のmoneyを使って入金を行う  \n",
        "\n",
        "・ withdraw()メソッドでは引数のmoneyを使って引出を行う    \n",
        " 　 残高が足りないときには行えないようにする\n",
        "        \n"
      ],
      "metadata": {
        "id": "M2FE_MUndc4z"
      }
    },
    {
      "cell_type": "markdown",
      "source": [
        "それぞれ何か行うたびに、何をしたか分かるように標準出力で表示するようにしてください"
      ],
      "metadata": {
        "id": "-tmD0hewdiS1"
      }
    },
    {
      "cell_type": "markdown",
      "source": [
        "＜実行結果例＞\n",
        "\n",
        "```\n",
        "口座番号:12345 は存在しません。\n",
        "千歳太郎 さんのアカウントを口座番号:12345 で登録しました。\n",
        "千歳次郎 さんのアカウントを口座番号:12346 で登録しました。\n",
        "口座番号:12345 は 名前:千歳太郎 さんの口座です。\n",
        "口座番号:12345 に1000 円入金しました。\n",
        "口座番号:12345 から2000 円引き出せませんでした。残高:1000 円です。\n",
        "口座番号:12345 から500 円引き出しました。残高:500 円です。\n",
        "口座番号:12346 は 名前:千歳次郎 さんの口座です。\n",
        "口座番号:12346 に2000 円入金しました。\n",
        "口座番号:12346 から1000 円引き出しました。残高:1000 円です。\n",
        "口座番号:12346 から1500 円引き出せませんでした。残高:1000 円です。\n",
        "```"
      ],
      "metadata": {
        "id": "0zUHE9eHe5-Z"
      }
    },
    {
      "cell_type": "code",
      "source": [
        "# 実行するコード\n",
        "atm = ATM()\n",
        "\n",
        "atm.exists_account(\"千歳太郎\",\"12345\")\n",
        "atm.register_account(\"千歳太郎\",\"12345\")\n",
        "atm.register_account(\"千歳次郎\",\"12346\")\n",
        "\n",
        "if atm.exists_account(\"千歳太郎\",\"12345\"):\n",
        "  atm.deposit(\"12345\", 1000)\n",
        "  atm.withdraw(\"12345\", 2000)\n",
        "  atm.withdraw(\"12345\", 500)\n",
        "\n",
        "if atm.exists_account(\"千歳次郎\",\"12346\"):\n",
        "  atm.deposit(\"12346\", 2000)\n",
        "  atm.withdraw(\"12346\", 1000)\n",
        "  atm.withdraw(\"12346\", 1500)"
      ],
      "metadata": {
        "id": "OXvvSLZyb1Kd"
      },
      "execution_count": null,
      "outputs": []
    },
    {
      "cell_type": "code",
      "source": [
        "# 入力用\n"
      ],
      "metadata": {
        "id": "xzp9fOTlb4fk"
      },
      "execution_count": null,
      "outputs": []
    },
    {
      "cell_type": "markdown",
      "source": [
        "## 課題3.5（課題3＋アルファ）"
      ],
      "metadata": {
        "id": "VFQ88TX5wWf1"
      }
    },
    {
      "cell_type": "markdown",
      "source": [
        "課題3を拡張してください。\n",
        "\n"
      ],
      "metadata": {
        "id": "QlY-hs0nwWf2"
      }
    },
    {
      "cell_type": "markdown",
      "source": [
        "・ Accountクラスにtransactionsというリスト属性を追加し、取引の履歴をリストで保持する。  \n",
        "\n",
        "・ 取引を行うたびに、取引の詳細（日付、金額、取引の種類）をtransactionsリストに追加する。  \n",
        "　日付はコードが実行されたときの日時を自動で取得する\n",
        "\n",
        "・ show_transaction_history()メソッドを作成し、これまでの取引履歴（日付、金額、取引の種類）を表示する。  \n",
        "　表示する履歴は最近のもの10件とする。"
      ],
      "metadata": {
        "id": "Kx_vne4swWf2"
      }
    },
    {
      "cell_type": "markdown",
      "source": [
        "＜実行結果例＞\n",
        "\n",
        "```\n",
        "口座番号:12345 は存在しません。\n",
        "千歳太郎 さんのアカウントを口座番号:12345 で登録しました。\n",
        "口座番号:12345 は 名前:千歳太郎 さんの口座です。\n",
        "口座番号:12345 に1000 円入金しました。\n",
        "口座番号:12345 から2000 円引き出せませんでした。残高:1000 円です。\n",
        "口座番号:12345 から500 円引き出しました。残高:500 円です。\n",
        "取引履歴:\n",
        "2023-09-05 23:12:52: 入金 1000 円\n",
        "2023-09-05 23:12:52: 引出し 500 円\n",
        "\n",
        "```"
      ],
      "metadata": {
        "id": "tPAUhrZNqopr"
      }
    },
    {
      "cell_type": "code",
      "source": [
        "# 実行するコード\n",
        "atm = ATM()\n",
        "\n",
        "atm.exists_account(\"千歳太郎\",\"12345\")\n",
        "atm.register_account(\"千歳太郎\",\"12345\")\n",
        "\n",
        "if atm.exists_account(\"千歳太郎\",\"12345\"):\n",
        "  atm.deposit(\"12345\", 1000)\n",
        "  atm.withdraw(\"12345\", 2000)\n",
        "  atm.withdraw(\"12345\", 500)\n",
        "  atm.show_transaction_history(\"12345\")"
      ],
      "metadata": {
        "id": "BXyoMlgodhH_"
      },
      "execution_count": null,
      "outputs": []
    },
    {
      "cell_type": "code",
      "source": [
        "# 入力用\n"
      ],
      "metadata": {
        "id": "BJlcz8Urd4aN"
      },
      "execution_count": null,
      "outputs": []
    },
    {
      "cell_type": "markdown",
      "source": [
        "### 課題3.5ヒント"
      ],
      "metadata": {
        "id": "T1_uI1bPdsm3"
      }
    },
    {
      "cell_type": "markdown",
      "source": [
        "日本の現在時刻は、以下のコードで取得できます。"
      ],
      "metadata": {
        "id": "SPaATjd3du6t"
      }
    },
    {
      "cell_type": "code",
      "source": [
        "from datetime import datetime, timezone, timedelta\n",
        "jst = timezone(timedelta(hours=+9), 'JST')\n",
        "current_time = datetime.now(jst)\n",
        "formatted_time = current_time.strftime(\"%Y-%m-%d %H:%M:%S\")  # 日本の現在時刻をフォーマット\n",
        "formatted_time"
      ],
      "metadata": {
        "colab": {
          "base_uri": "https://localhost:8080/",
          "height": 35
        },
        "id": "Msmen804yFRe",
        "outputId": "c756ba5e-db0d-43be-a740-112edaaaaf19"
      },
      "execution_count": null,
      "outputs": [
        {
          "output_type": "execute_result",
          "data": {
            "text/plain": [
              "'2023-09-05 23:20:45'"
            ],
            "application/vnd.google.colaboratory.intrinsic+json": {
              "type": "string"
            }
          },
          "metadata": {},
          "execution_count": 66
        }
      ]
    }
  ]
}