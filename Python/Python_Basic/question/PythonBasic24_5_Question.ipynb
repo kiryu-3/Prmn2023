{
  "nbformat": 4,
  "nbformat_minor": 0,
  "metadata": {
    "colab": {
      "provenance": [],
      "toc_visible": true,
      "authorship_tag": "ABX9TyMdtNrlYSDKTPfrx5CbGwTH",
      "include_colab_link": true
    },
    "kernelspec": {
      "name": "python3",
      "display_name": "Python 3"
    },
    "language_info": {
      "name": "python"
    }
  },
  "cells": [
    {
      "cell_type": "markdown",
      "metadata": {
        "id": "view-in-github",
        "colab_type": "text"
      },
      "source": [
        "<a href=\"https://colab.research.google.com/github/kiryu-3/Prmn2023/blob/main/Python/Python_Basic/question/PythonBasic24_5_Question.ipynb\" target=\"_parent\"><img src=\"https://colab.research.google.com/assets/colab-badge.svg\" alt=\"Open In Colab\"/></a>"
      ]
    },
    {
      "cell_type": "markdown",
      "source": [
        "# DSライブラリ1 課題"
      ],
      "metadata": {
        "id": "NSejcsIhD3EQ"
      }
    },
    {
      "cell_type": "code",
      "execution_count": null,
      "metadata": {
        "id": "1sxGiPqW9hHK"
      },
      "outputs": [],
      "source": [
        "# 最初に実行してください\n",
        "import numpy as np\n",
        "import pandas as pd"
      ]
    },
    {
      "cell_type": "markdown",
      "source": [
        "## 課題1"
      ],
      "metadata": {
        "id": "ZmNlINStD1jQ"
      }
    },
    {
      "cell_type": "markdown",
      "source": [
        "以下のnumpy行列を、2種類の方法で作成してください。\n",
        "\n",
        "``` py\n",
        "[10 15 20 25 30 35 40 45 50]\n",
        "```"
      ],
      "metadata": {
        "id": "uz62A3RdKUic"
      }
    },
    {
      "cell_type": "markdown",
      "source": [
        "`np.arange([start,]stop[,step])`\n",
        "\n",
        "- start 以上 stop 未満の値を step ずつ増加させた値の array。  \n",
        "- [　] は省略可能を意味する。  \n",
        "- start と step は省略可能で、それぞれ 0 と 1 がデフォルトで入る。\n",
        "\n",
        "参考サイト：[こちら](https://bit.ly/3qP27cQ)"
      ],
      "metadata": {
        "id": "A_M2pr4yN2K-"
      }
    },
    {
      "cell_type": "markdown",
      "source": [
        "`np.linspace(start,stop,num)`\n",
        "\n",
        "- start以上stop未満の数をnum個で区切った値のarray。  \n",
        "- stopを含むので注意が必要。  \n",
        "- endpoint=Falseという引数で、stopの数字以下ではなく未満で結果を出力することができる。\n",
        "\n",
        "参考サイト：[こちら](https://bit.ly/3Uq8lxc)"
      ],
      "metadata": {
        "id": "JWNvC1bCRZDX"
      }
    },
    {
      "cell_type": "markdown",
      "source": [
        "- 整数列を作りたいときは`arange()`\n",
        "- グラフ作成で区間を細かく区切りたいときは`linspace()`\n",
        "\n",
        "を使うことが多いです。"
      ],
      "metadata": {
        "id": "6UiJfCu4StDr"
      }
    },
    {
      "cell_type": "code",
      "source": [
        "# 入力用\n"
      ],
      "metadata": {
        "id": "Sxc4n8woee8A"
      },
      "execution_count": null,
      "outputs": []
    },
    {
      "cell_type": "markdown",
      "source": [
        "## 課題2"
      ],
      "metadata": {
        "id": "4eSViefndY-R"
      }
    },
    {
      "cell_type": "markdown",
      "source": [
        "以下のnumpy行列について、(1)～(3)のnumpy行列に変換してください。"
      ],
      "metadata": {
        "id": "6DajEY-5XpBM"
      }
    },
    {
      "cell_type": "code",
      "source": [
        "ndarray = np.array([[1, 2, 3, 4], [5, 6, 7, 8], [9, 10, 11, 12]])\n",
        "ndarray"
      ],
      "metadata": {
        "colab": {
          "base_uri": "https://localhost:8080/"
        },
        "id": "LaMPZfCMWsD2",
        "outputId": "77b6c246-a1d0-47af-aa9a-6f248faf2fba"
      },
      "execution_count": null,
      "outputs": [
        {
          "output_type": "execute_result",
          "data": {
            "text/plain": [
              "array([[ 1,  2,  3,  4],\n",
              "       [ 5,  6,  7,  8],\n",
              "       [ 9, 10, 11, 12]])"
            ]
          },
          "metadata": {},
          "execution_count": 110
        }
      ]
    },
    {
      "cell_type": "markdown",
      "source": [
        "(1)   \n",
        "```\n",
        "array([[ 1,  2,  3],\n",
        "       [ 4,  5,  6],\n",
        "       [ 7,  8,  9],\n",
        "       [10, 11, 12]])\n",
        "```\n",
        "\n",
        "(2)  \n",
        "```\n",
        "array([[ 1,  5,  9],\n",
        "       [ 2,  6, 10],\n",
        "       [ 3,  7, 11],\n",
        "       [ 4,  8, 12]])\n",
        "```\n",
        "\n",
        "(3)  \n",
        "```\n",
        "array([ 1,  2,  3,  4,  5,  6,  7,  8,  9, 10, 11, 12])\n",
        "```"
      ],
      "metadata": {
        "id": "h1MQJTu_Xxv5"
      }
    },
    {
      "cell_type": "code",
      "source": [
        "# 入力用\n"
      ],
      "metadata": {
        "id": "CrZedePpeiAI"
      },
      "execution_count": null,
      "outputs": []
    },
    {
      "cell_type": "markdown",
      "source": [
        "### 課題2ヒント"
      ],
      "metadata": {
        "id": "sbeGYA3Yco6D"
      }
    },
    {
      "cell_type": "markdown",
      "source": [
        "`reshape（p, q）`\n",
        "\n",
        "- p行q列の行列に変換\n",
        "- 割り切れない数値では変換できない\n",
        "- 値の順番はそのまま\n",
        "\n",
        "参考サイト：[こちら](https://bit.ly/3QWHhD0)"
      ],
      "metadata": {
        "id": "te4OR-p9cr_y"
      }
    },
    {
      "cell_type": "markdown",
      "source": [
        "`.T or transpose()`\n",
        "\n",
        "- 転置（行と列を入れ替える操作）を行う\n",
        "- 値の順番も変更される"
      ],
      "metadata": {
        "id": "QFg-1z1_gjkD"
      }
    },
    {
      "cell_type": "markdown",
      "source": [
        "`flatten()`\n",
        "\n",
        "- 一発で1次元にする"
      ],
      "metadata": {
        "id": "XE8vPbfjhLrA"
      }
    },
    {
      "cell_type": "markdown",
      "source": [
        "## 課題3"
      ],
      "metadata": {
        "id": "bWuSporyh4KD"
      }
    },
    {
      "cell_type": "markdown",
      "source": [
        "以下の2つのnumpy行列について、(1)と(2)の問題に答えて下さい。"
      ],
      "metadata": {
        "id": "GJGM9euAi8sP"
      }
    },
    {
      "cell_type": "code",
      "source": [
        "ndarrayA = np.array([[1, 2], [3, 4]])\n",
        "ndarrayA"
      ],
      "metadata": {
        "colab": {
          "base_uri": "https://localhost:8080/"
        },
        "id": "5m8wzWuYckXy",
        "outputId": "1c76f689-d4db-4479-c12c-a3aa0abe68ad"
      },
      "execution_count": null,
      "outputs": [
        {
          "output_type": "execute_result",
          "data": {
            "text/plain": [
              "array([[1, 2],\n",
              "       [3, 4]])"
            ]
          },
          "metadata": {},
          "execution_count": 34
        }
      ]
    },
    {
      "cell_type": "code",
      "source": [
        "ndarrayB = np.array([[5, 6], [7, 8]])\n",
        "ndarrayB"
      ],
      "metadata": {
        "colab": {
          "base_uri": "https://localhost:8080/"
        },
        "id": "h63dRdhYjduV",
        "outputId": "c6381e16-5f58-4b32-ef97-d734632a7089"
      },
      "execution_count": null,
      "outputs": [
        {
          "output_type": "execute_result",
          "data": {
            "text/plain": [
              "array([[5, 6],\n",
              "       [7, 8]])"
            ]
          },
          "metadata": {},
          "execution_count": 35
        }
      ]
    },
    {
      "cell_type": "markdown",
      "source": [
        "(1) 同じ要素番号同士の掛け算  \n",
        "(2) 行列の掛け算"
      ],
      "metadata": {
        "id": "EGRe_o86jOAE"
      }
    },
    {
      "cell_type": "code",
      "source": [
        "# 入力用\n"
      ],
      "metadata": {
        "id": "ncYWp3pgemU_"
      },
      "execution_count": null,
      "outputs": []
    },
    {
      "cell_type": "markdown",
      "source": [
        "### 課題3ヒント"
      ],
      "metadata": {
        "id": "_uulP8A5klVa"
      }
    },
    {
      "cell_type": "markdown",
      "source": [
        "| 演算                  | NumPy関数            |\n",
        "|-----------------------|----------------------|\n",
        "| aとbの足し算          | `a + b`, `np.add(a, b)`          |\n",
        "| aとbの引き算          | `a - b`, `np.subtract(a, b)`    |\n",
        "| aとbの掛け算          | `a * b`, `np.multiply(a, b)`    |\n",
        "| aとbの割り算          | `a / b`                |\n",
        "| aをbで割った商の整数部分 | `a // b`               |\n",
        "| aをbで割った剰余（あまり）| `a % b`                |\n",
        "| aのb乗               | `a ** b`, `np.power(a, b)`      |\n",
        "| aの平方根             | `np.sqrt(a)`           |\n",
        "| 行列Aと行列Bの要素積   | `A * B`                |\n",
        "| 行列Aと行列Bの積       | `np.dot(A, B)`         |\n"
      ],
      "metadata": {
        "id": "UmInjIiIkhfj"
      }
    },
    {
      "cell_type": "markdown",
      "source": [
        "## 課題4"
      ],
      "metadata": {
        "id": "kFS1ZxDBlDsp"
      }
    },
    {
      "cell_type": "markdown",
      "source": [
        "以下のnumpy行列について、(1)～(3)の結果が返ってくるようコードを書いてください。"
      ],
      "metadata": {
        "id": "OQF6wqJYlE95"
      }
    },
    {
      "cell_type": "code",
      "source": [
        "ndarray = np.array([[1, 2, 3], [4, 5, 6], [7, 8, 9]])\n",
        "ndarray"
      ],
      "metadata": {
        "colab": {
          "base_uri": "https://localhost:8080/"
        },
        "id": "MskT58nHkIsM",
        "outputId": "414b091e-7325-40de-b1ff-34cba7e697a3"
      },
      "execution_count": null,
      "outputs": [
        {
          "output_type": "execute_result",
          "data": {
            "text/plain": [
              "array([[1, 2, 3],\n",
              "       [4, 5, 6],\n",
              "       [7, 8, 9]])"
            ]
          },
          "metadata": {},
          "execution_count": 43
        }
      ]
    },
    {
      "cell_type": "markdown",
      "source": [
        "(1)  `45`  \n",
        "(2)  `array([ 6, 15, 24])`  \n",
        "(3)  `array([12, 15, 18])`"
      ],
      "metadata": {
        "id": "5JgJWpT0luyB"
      }
    },
    {
      "cell_type": "code",
      "source": [
        "# 入力用\n"
      ],
      "metadata": {
        "id": "p-H6NZuCesw2"
      },
      "execution_count": null,
      "outputs": []
    },
    {
      "cell_type": "markdown",
      "source": [
        "### 課題4ヒント"
      ],
      "metadata": {
        "id": "V3w0y8BOrnUV"
      }
    },
    {
      "cell_type": "markdown",
      "source": [
        "- `axis = 0` は行方向、`axis = 1` は列方向を意味する"
      ],
      "metadata": {
        "id": "E3f5n4bgroNP"
      }
    },
    {
      "cell_type": "markdown",
      "source": [
        "## 課題5"
      ],
      "metadata": {
        "id": "LA899H8snDNx"
      }
    },
    {
      "cell_type": "markdown",
      "source": [
        "以下のnumpy行列について、(1)～(5)の問題に答えて下さい。\n",
        "\n",
        "![](https://imgur.com/ROBdIzz.png)"
      ],
      "metadata": {
        "id": "HkT_7PfynFG5"
      }
    },
    {
      "cell_type": "markdown",
      "source": [
        "(1)  上のnumpy行列を定義し、出力してください。  \n",
        "(2)  最後の行を取り出してください。  \n",
        "(3)  4列目を取り出してください。  \n",
        "(4)  赤枠で囲まれたところを取り出してください。  \n",
        "(5)  偶数は0に、奇数は1に置き換えて下さい。"
      ],
      "metadata": {
        "id": "X4rKJtXtncVA"
      }
    },
    {
      "cell_type": "code",
      "source": [
        "# 入力用\n"
      ],
      "metadata": {
        "id": "_tVgO_1pevC_"
      },
      "execution_count": null,
      "outputs": []
    },
    {
      "cell_type": "markdown",
      "source": [
        "### 課題5ヒント"
      ],
      "metadata": {
        "id": "9BsYBe3ksHDt"
      }
    },
    {
      "cell_type": "markdown",
      "source": [
        "`np.where（condition, a, b）`\n",
        "\n",
        "- condition（条件式）がTrueの時はaに、Falseの時はbに置き換える。\n",
        "\n"
      ],
      "metadata": {
        "id": "U9HCQKNHsIEH"
      }
    },
    {
      "cell_type": "markdown",
      "source": [
        "## 課題6"
      ],
      "metadata": {
        "id": "OckqQT730OKx"
      }
    },
    {
      "cell_type": "markdown",
      "source": [
        "以下のDataFrameについて、(1)～(5)の問題に答えてください。\n",
        "\n",
        "![](https://imgur.com/MfBMjgn.png)\n",
        "\n",
        "参考サイト：[こちら(Yutaka)](https://bit.ly/3DC3ymw)\n",
        "\n",
        "\n"
      ],
      "metadata": {
        "id": "7V2r1uFq0bxY"
      }
    },
    {
      "cell_type": "markdown",
      "source": [
        "(1)  上のDataFrameを定義し、出力してください。（参考サイト：[こちら](https://www.yutaka-note.com/entry/pandas_dict)）  \n",
        "(2)  \"name\"列を取り出してください。  \n",
        "(3)  \"uni1\"行を取り出してください。  \n",
        "(4)  \"name\"列と\"Age\"列を取り出してください。  \n",
        "(5)  \"uni1\"行と\"uni2\"行の\"name\"列と\"Age\"列を取り出してください。  \n",
        "(6)  \"Age\"列の値が小さい順（昇順）にデータを並び替えてください。（参考サイト：[こちら](https://www.yutaka-note.com/entry/pandas_sort)）  \n",
        "(7)  \"Age\"列の値が大きい順（降順）にデータを並び替えてください。  "
      ],
      "metadata": {
        "id": "ypDIu7Ca1Biv"
      }
    },
    {
      "cell_type": "code",
      "source": [
        "# 入力用\n"
      ],
      "metadata": {
        "id": "YqHCxoVKey8B"
      },
      "execution_count": null,
      "outputs": []
    },
    {
      "cell_type": "markdown",
      "source": [
        "## 課題7"
      ],
      "metadata": {
        "id": "hq6xW0fs_qK0"
      }
    },
    {
      "cell_type": "markdown",
      "source": [
        "以下のDataFrameについて、(1)～(5)の問題に答えてください。\n",
        "\n",
        "![](https://imgur.com/MfBMjgn.png)"
      ],
      "metadata": {
        "id": "My_OUP5e_yz3"
      }
    },
    {
      "cell_type": "markdown",
      "source": [
        "(1)  上のDataFrameに、以下のデータを追加してください。  \n",
        "![](https://imgur.com/PUfpiBm.png)   \n",
        "\n",
        "(2)  以下のような表を出力して、欠損値の数とカラムのデータ型を確認してください。  \n",
        "![](https://imgur.com/BVYwLGo.png)  \n",
        "\n",
        "(3)  \"sex\"列の名前を**\"kokuritu\"**に変えたうえで、以下のようにデータを変換してください。  \n",
        "　　**`\"male\"→True, \"female\"→False`**  \n",
        "![](https://imgur.com/URjwbD7.png)\n",
        "\n",
        "(4)  \"kokuritu\"列内のユニークな値とその出現回数を求めてください。  \n",
        "![](https://imgur.com/VnL3mMc.png)\n",
        "\n",
        "(5)  \"kokuritu\"列ごとの\"Age\"列の値の平均値を求めてください。（参考サイト：[こちら](https://www.yutaka-note.com/entry/pandas_groupby)）   \n",
        "![](https://imgur.com/MOYk6w2.png)\n",
        "\n",
        "(6)  欠損値のある行を削除した新しいDataFrameを作ってください（そのまま更新しない）。    \n",
        "（参考サイト：[こちら](https://www.yutaka-note.com/entry/pandas_dropna)）    \n",
        "\n",
        "(7)  欠損値を\"Age\"列の平均値で置き換えたDataFrameを作ってください。  \n",
        "（参考サイト：[こちら](https://www.yutaka-note.com/entry/pandas_na#%E6%AC%A0%E6%90%8D%E5%80%A4%E3%81%AE%E8%A3%9C%E9%96%93fillna)）  \n",
        "\n",
        "(8)  (7)で作ったDataFrameの、\"Age\"列の基本統計量を求めてください。  \n",
        "![](https://imgur.com/OMTu4uW.png)"
      ],
      "metadata": {
        "id": "B-kYJUfT_yz4"
      }
    },
    {
      "cell_type": "code",
      "source": [
        "# 入力用\n"
      ],
      "metadata": {
        "id": "KE93Inome2g-"
      },
      "execution_count": null,
      "outputs": []
    },
    {
      "cell_type": "markdown",
      "source": [
        "### 課題7ヒント"
      ],
      "metadata": {
        "id": "nVL9-y_XWGUW"
      }
    },
    {
      "cell_type": "markdown",
      "source": [
        "欠損値の有無は、`df.info()`でも求めることができますが、  \n",
        "`df.isnull().sum()`でも求めることができます。\n",
        "\n",
        "＜出力結果例＞  \n",
        "![](https://imgur.com/fPVG0ke.png)"
      ],
      "metadata": {
        "id": "0o1IbN0Tl_XN"
      }
    },
    {
      "cell_type": "markdown",
      "source": [
        "また、`df.describe()`とすると数値型のカラムの基本統計量を求めることができますが、  \n",
        "引数`include=['O']`を指定すると名義型のカラムの基本統計量も求めることができます。\n",
        "\n",
        "＜出力結果例＞  \n",
        "![](https://imgur.com/GUKIWbJ.png)"
      ],
      "metadata": {
        "id": "jBK3YIxxmdxq"
      }
    }
  ]
}