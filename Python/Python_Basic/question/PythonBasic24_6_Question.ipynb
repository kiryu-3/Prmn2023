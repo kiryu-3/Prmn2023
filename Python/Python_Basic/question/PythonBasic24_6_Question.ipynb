{
  "nbformat": 4,
  "nbformat_minor": 0,
  "metadata": {
    "colab": {
      "provenance": [],
      "toc_visible": true,
      "authorship_tag": "ABX9TyOYnsFWzS4njQRK9WA/RRRe",
      "include_colab_link": true
    },
    "kernelspec": {
      "name": "python3",
      "display_name": "Python 3"
    },
    "language_info": {
      "name": "python"
    }
  },
  "cells": [
    {
      "cell_type": "markdown",
      "metadata": {
        "id": "view-in-github",
        "colab_type": "text"
      },
      "source": [
        "<a href=\"https://colab.research.google.com/github/kiryu-3/Prmn2023/blob/main/Python/Python_Basic/question/PythonBasic24_6_Question.ipynb\" target=\"_parent\"><img src=\"https://colab.research.google.com/assets/colab-badge.svg\" alt=\"Open In Colab\"/></a>"
      ]
    },
    {
      "cell_type": "markdown",
      "source": [
        "# DSライブラリ2 課題"
      ],
      "metadata": {
        "id": "NSejcsIhD3EQ"
      }
    },
    {
      "cell_type": "code",
      "execution_count": null,
      "metadata": {
        "id": "1sxGiPqW9hHK"
      },
      "outputs": [],
      "source": [
        "# 最初に実行してください\n",
        "import numpy as np\n",
        "import pandas as pd\n",
        "import matplotlib.pyplot as plt\n",
        "import seaborn as sns"
      ]
    },
    {
      "cell_type": "markdown",
      "source": [
        "## 課題1"
      ],
      "metadata": {
        "id": "ZmNlINStD1jQ"
      }
    },
    {
      "cell_type": "markdown",
      "source": [
        "以下の条件に従って、下図のようなグラフを描画してください。\n",
        "\n"
      ],
      "metadata": {
        "id": "TV2pVbfPdEIs"
      }
    },
    {
      "cell_type": "markdown",
      "source": [
        "- x軸は-piからpiまで100分割された値を使用する（参考サイト：[こちら](https://www.yutaka-note.com/entry/numpy_linspace)）\n",
        "- サブプロットを2x3の配置で生成する（参考サイト：[こちら](https://www.yutaka-note.com/entry/matplotlib_subplots)）\n",
        "- 全体サイズは横8インチ、縦4インチ（参考サイト：[こちら](https://www.yutaka-note.com/entry/pandas_plot#:~:text=%E7%9B%AE%E6%AC%A1%E3%81%B8%E6%88%BB%E3%82%8B-,%E3%82%B0%E3%83%A9%E3%83%95%E9%A0%98%E5%9F%9F%E3%81%AE%E3%82%B5%E3%82%A4%E3%82%BA%EF%BD%9Cfigsize,-%E3%82%B0%E3%83%A9%E3%83%95%E9%A0%98%E5%9F%9F%E3%81%AE)）\n",
        "\n",
        "- 1行目は左から、サインカーブ、コサインカーブ、タンジェントカーブ\n",
        "- 2行目は左から、対数カーブ、指数カーブ、シグモイド関数"
      ],
      "metadata": {
        "id": "Yxe_ibhhlc5D"
      }
    },
    {
      "cell_type": "markdown",
      "source": [
        "![](https://imgur.com/vGQkFJN.png)"
      ],
      "metadata": {
        "id": "CNTWpyw4ctY9"
      }
    },
    {
      "cell_type": "code",
      "source": [
        "# 入力用\n"
      ],
      "metadata": {
        "id": "W1Ha5ijAA5Xu"
      },
      "execution_count": null,
      "outputs": []
    },
    {
      "cell_type": "markdown",
      "source": [
        "### 課題1ヒント"
      ],
      "metadata": {
        "id": "5JWeZfPFas3-"
      }
    },
    {
      "cell_type": "markdown",
      "source": [
        "対数カーブの場合、以下のように設定します。  \n",
        "この設定を元にほかのグラフも設定してください。\n",
        "\n",
        "``` py\n",
        "axs[1, 0].plot(x, np.log(x), label='log(x)')\n",
        "axs[1, 0].set_title('log(x)')\n",
        "```"
      ],
      "metadata": {
        "id": "LET5TRoyaqzu"
      }
    },
    {
      "cell_type": "markdown",
      "source": [
        "## 課題2以降の前に"
      ],
      "metadata": {
        "id": "TR2gqPmykmM2"
      }
    },
    {
      "cell_type": "markdown",
      "source": [
        "課題2～課題4では、seabornのサンプル用データセット\"tips\"を利用します。\n",
        "\n",
        "データセットは、pandas.DataFrameオブジェクトとして取得することができます。\n",
        "\n",
        "（参考サイト：[こちら](https://biotech-lab.org/articles/1408#i)）"
      ],
      "metadata": {
        "id": "0HRxrbCGk9Ss"
      }
    },
    {
      "cell_type": "code",
      "source": [
        "tips = sns.load_dataset('tips')\n",
        "tips.info()"
      ],
      "metadata": {
        "colab": {
          "base_uri": "https://localhost:8080/"
        },
        "id": "-l33pW7wj692",
        "outputId": "0260c8d4-2577-4695-eb74-7dc778d0986f"
      },
      "execution_count": null,
      "outputs": [
        {
          "output_type": "stream",
          "name": "stdout",
          "text": [
            "<class 'pandas.core.frame.DataFrame'>\n",
            "RangeIndex: 244 entries, 0 to 243\n",
            "Data columns (total 7 columns):\n",
            " #   Column      Non-Null Count  Dtype   \n",
            "---  ------      --------------  -----   \n",
            " 0   total_bill  244 non-null    float64 \n",
            " 1   tip         244 non-null    float64 \n",
            " 2   sex         244 non-null    category\n",
            " 3   smoker      244 non-null    category\n",
            " 4   day         244 non-null    category\n",
            " 5   time        244 non-null    category\n",
            " 6   size        244 non-null    int64   \n",
            "dtypes: category(4), float64(2), int64(1)\n",
            "memory usage: 7.4 KB\n"
          ]
        }
      ]
    },
    {
      "cell_type": "markdown",
      "source": [
        "\"tips\"のデータの説明は以下の通りです。\n",
        "\n",
        "- total_bill : 総支払額(食事代、税込み)　(USドル)\n",
        "- tip : チップ(USドル)\n",
        "- sex : 性別\n",
        "- smoker : 喫煙者か否か\n",
        "- day : 曜日(木・金・土・日のいずれか)\n",
        "- time : 食事の時間(昼食か夕食か)\n",
        "- size : 人数"
      ],
      "metadata": {
        "id": "7ZyDMuAblo6D"
      }
    },
    {
      "cell_type": "markdown",
      "source": [
        "また、今回のデータには欠損値はなさそうです。"
      ],
      "metadata": {
        "id": "k-9SWM_Mnsbw"
      }
    },
    {
      "cell_type": "markdown",
      "source": [
        "## 課題2"
      ],
      "metadata": {
        "id": "-LeKIyO4oaYm"
      }
    },
    {
      "cell_type": "markdown",
      "source": [
        "全ての2変数組み合わせの散布図（**散布図行列**）を表示してください。  \n",
        "  このとき、食事の時間ごとに色を分けてください。  \n",
        " （参考サイト：[こちら](https://datawokagaku.com/seaborn_distribution/#snspairplot)）"
      ],
      "metadata": {
        "id": "AxUnndavobX_"
      }
    },
    {
      "cell_type": "code",
      "source": [
        "# 入力用\n"
      ],
      "metadata": {
        "id": "au6kgpsMCFLm"
      },
      "execution_count": null,
      "outputs": []
    },
    {
      "cell_type": "markdown",
      "source": [
        "## 課題3"
      ],
      "metadata": {
        "id": "PEtjKh2_p4Bu"
      }
    },
    {
      "cell_type": "markdown",
      "source": [
        "以下のような、数値カラムの**相関行列**を表示してください。\n",
        "\n",
        " （参考サイト：[こちら](https://datawokagaku.com/seaborn_heatmap/)）"
      ],
      "metadata": {
        "id": "xbcDkGLFp5ej"
      }
    },
    {
      "cell_type": "markdown",
      "source": [
        "![](https://imgur.com/qgW5zAC.png)"
      ],
      "metadata": {
        "id": "KTEuROxUqU1t"
      }
    },
    {
      "cell_type": "code",
      "source": [
        "# 入力用\n"
      ],
      "metadata": {
        "id": "-As8_qKgCF0d"
      },
      "execution_count": null,
      "outputs": []
    },
    {
      "cell_type": "markdown",
      "source": [
        "## 課題4"
      ],
      "metadata": {
        "id": "dSOrBinKqyTf"
      }
    },
    {
      "cell_type": "markdown",
      "source": [
        "以下の条件に従って、下図のようなグラフを描画してください。\n",
        "\n"
      ],
      "metadata": {
        "id": "h6fb0EafqyTg"
      }
    },
    {
      "cell_type": "markdown",
      "source": [
        "- サブプロットを2x4の配置で生成する（参考サイト：[こちら](https://www.yutaka-note.com/entry/matplotlib_subplots)）\n",
        "- 全体サイズは横16インチ、縦8インチ（参考サイト：[こちら](https://www.yutaka-note.com/entry/pandas_plot#:~:text=%E7%9B%AE%E6%AC%A1%E3%81%B8%E6%88%BB%E3%82%8B-,%E3%82%B0%E3%83%A9%E3%83%95%E9%A0%98%E5%9F%9F%E3%81%AE%E3%82%B5%E3%82%A4%E3%82%BA%EF%BD%9Cfigsize,-%E3%82%B0%E3%83%A9%E3%83%95%E9%A0%98%E5%9F%9F%E3%81%AE)）\n",
        "\n",
        "- 1行目は左から以下のように描画する。\n",
        "  - `countplot` … 横軸は曜日、縦軸は曜日ごとのデータ数。（参考サイト：[こちら](https://datawokagaku.com/seaborn_categoricalplot/#snscountplot)）\n",
        "  - `barplot` … 横軸は曜日、縦軸は総支払額。（参考サイト：[こちら](https://datawokagaku.com/seaborn_categoricalplot/#snsbarplot)）\n",
        "  - `histplot` … 横軸は総支払額の階級、縦軸は総支払額の度数。\"time\"カラムの値ごとに色を変える。（参考サイト：[こちら](https://datawokagaku.com/seaborn_distribution/#snsdistplot)）\n",
        "  - `scatterplot` … 横軸は総支払額、縦軸はチップ。\"time\"カラムの値ごとに色を変える。（参考サイト：[こちら](https://assam-blog.com/python-seaborn-scatterplot/#toc3)）\n",
        "\n",
        "- 2行目は左から以下のように描画する。\n",
        "  - `boxplot` … 横軸は曜日、縦軸は曜日ごとのデータ数。（参考サイト：[こちら](https://datawokagaku.com/seaborn_categoricalplot/#snsboxplot)）\n",
        "  - `violinplot` … 横軸は曜日、縦軸は総支払額。（参考サイト：[こちら](https://datawokagaku.com/seaborn_categoricalplot/#snsviolinplot)）\n",
        "  - `swarmplot` … 横軸は曜日、縦軸は総支払額。\"time\"カラムの値ごとに色を変える。（参考サイト：[こちら](https://datawokagaku.com/seaborn_categoricalplot/#snsswarmplot)）\n",
        "  - `regplot` … 横軸は総支払額、縦軸はチップ。（参考サイト：[こちら](https://datawokagaku.com/regression/#:~:text=(%E5%9B%9E%E5%B8%B0%E7%9B%B4%E7%B7%9A%E3%81%AF%EF%BC%8Cseaborn%E3%81%AE%20regplot()%C2%A0%E3%82%92%E4%BD%BF%E3%81%A3%E3%81%A6%E7%B0%A1%E5%8D%98%E3%81%AB%E6%8F%8F%E7%94%BB%E3%81%99%E3%82%8B%E3%81%93%E3%81%A8%E3%81%8C%E3%81%A7%E3%81%8D%E3%81%BE%E3%81%99%EF%BC%8E))）"
      ],
      "metadata": {
        "id": "jcN58V48qyTg"
      }
    },
    {
      "cell_type": "markdown",
      "source": [
        "![](https://imgur.com/d4YG0m6.png)"
      ],
      "metadata": {
        "id": "1MQpu1dzqyTg"
      }
    },
    {
      "cell_type": "code",
      "source": [
        "# 入力用\n"
      ],
      "metadata": {
        "id": "7JjBvseqCGgv"
      },
      "execution_count": null,
      "outputs": []
    },
    {
      "cell_type": "markdown",
      "source": [
        "### 課題4ヒント"
      ],
      "metadata": {
        "id": "_u4c8GAGzUJd"
      }
    },
    {
      "cell_type": "markdown",
      "source": [
        "ヒストグラムの場合、以下のように設定します。  \n",
        "この設定を元にほかのグラフも設定してください。\n",
        "\n",
        "``` py\n",
        "sns.histplot(data=tips, x='total_bill', kde=True, hue='time', ax=axs[0, 2])\n",
        "axs[0, 2].set_title('Histogram of Total Bill')\n",
        "```"
      ],
      "metadata": {
        "id": "BsshjBbxzcTk"
      }
    },
    {
      "cell_type": "markdown",
      "source": [
        "## おまけ"
      ],
      "metadata": {
        "id": "3IraiRUua5yz"
      }
    },
    {
      "cell_type": "markdown",
      "source": [
        "曜日ごとの総支払額の違いを見たいときは、以下のようにコードを書くと実現できます。  \n",
        "\"sex\"カラムの値でグラフを積み立てます。\n",
        "\n",
        "上のグラフは積み上げ縦棒グラフ、下のグラフは100%積み上げ縦棒グラフです。"
      ],
      "metadata": {
        "id": "A6OT2eBfa7cq"
      }
    },
    {
      "cell_type": "code",
      "source": [
        "# \"day\"と\"time\"ごとに合計を計算\n",
        "summed_data = tips.groupby(['day', 'sex'])['total_bill'].sum().unstack()\n",
        "\n",
        "# 積み上げ棒グラフを描画\n",
        "ax = summed_data.plot(kind='bar', stacked=True)\n",
        "\n",
        "# グラフの設定\n",
        "plt.title('Total Bill by Day and Time')\n",
        "plt.xlabel('Day of the Week')\n",
        "plt.ylabel('Total Bill')\n",
        "plt.xticks(rotation=0)  # x軸ラベルを横に表示\n",
        "\n",
        "# 凡例を表示\n",
        "ax.legend(title='Time', loc='upper right')\n",
        "\n",
        "# グラフを表示\n",
        "plt.show()\n"
      ],
      "metadata": {
        "colab": {
          "base_uri": "https://localhost:8080/",
          "height": 472
        },
        "id": "-bCC3MQf8j1D",
        "outputId": "424e7c34-09ef-4d1e-e300-12c9a2a73897"
      },
      "execution_count": null,
      "outputs": [
        {
          "output_type": "display_data",
          "data": {
            "text/plain": [
              "<Figure size 640x480 with 1 Axes>"
            ],
            "image/png": "[encoded data removed]"
          },
          "metadata": {}
        }
      ]
    },
    {
      "cell_type": "code",
      "source": [
        "# \"day\"と\"sex\"ごとに合計を計算\n",
        "summed_data = tips.groupby(['day', 'sex'])['total_bill'].sum().unstack()\n",
        "\n",
        "# 各行を合計値で割って割合を計算\n",
        "percent_data = summed_data.div(summed_data.sum(axis=1), axis=0)\n",
        "\n",
        "# 100%積み上げ棒グラフを描画\n",
        "ax = percent_data.plot(kind='bar', stacked=True)\n",
        "\n",
        "# グラフの設定\n",
        "plt.title('Total Bill by Day and Sex (100% Stacked)')\n",
        "plt.xlabel('Day of the Week')\n",
        "plt.ylabel('Percentage of Total Bill')\n",
        "plt.xticks(rotation=0)  # x軸ラベルを横に表示\n",
        "\n",
        "# 凡例を表示\n",
        "ax.legend(title='Sex', loc='upper right')\n",
        "\n",
        "# グラフを表示\n",
        "plt.show()"
      ],
      "metadata": {
        "colab": {
          "base_uri": "https://localhost:8080/",
          "height": 472
        },
        "id": "MZxF3pVT8088",
        "outputId": "e65f2bfe-750a-4f93-980a-df2632e0be18"
      },
      "execution_count": null,
      "outputs": [
        {
          "output_type": "display_data",
          "data": {
            "text/plain": [
              "<Figure size 640x480 with 1 Axes>"
            ],
            "image/png": "[encoded data removed]"
          },
          "metadata": {}
        }
      ]
    }
  ]
}