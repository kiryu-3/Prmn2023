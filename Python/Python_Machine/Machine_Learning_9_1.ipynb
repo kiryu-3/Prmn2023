{
  "nbformat": 4,
  "nbformat_minor": 0,
  "metadata": {
    "colab": {
      "provenance": [],
      "authorship_tag": "ABX9TyNJtPgy9R2H7FwdtZfNpZVe",
      "include_colab_link": true
    },
    "kernelspec": {
      "name": "python3",
      "display_name": "Python 3"
    },
    "language_info": {
      "name": "python"
    }
  },
  "cells": [
    {
      "cell_type": "markdown",
      "metadata": {
        "id": "view-in-github",
        "colab_type": "text"
      },
      "source": [
        "<a href=\"https://colab.research.google.com/github/kiryu-3/Prmn2023/blob/main/Python/Python_Machine/Machine_Learning_9_1.ipynb\" target=\"_parent\"><img src=\"https://colab.research.google.com/assets/colab-badge.svg\" alt=\"Open In Colab\"/></a>"
      ]
    },
    {
      "cell_type": "markdown",
      "source": [
        "# 主成分分析ー知識編"
      ],
      "metadata": {
        "id": "8PDLbRXO6CzW"
      }
    },
    {
      "cell_type": "code",
      "execution_count": null,
      "metadata": {
        "id": "k6b6IZbd5JJv"
      },
      "outputs": [],
      "source": [
        "# 最初にインポートしてください\n",
        "import numpy as np\n",
        "import pandas as pd\n",
        "import matplotlib.pyplot as plt\n",
        "import seaborn as sns\n",
        "from sklearn.linear_model import Ridge, Lasso, LinearRegression, LogisticRegression, LogisticRegression\n",
        "from sklearn.metrics import confusion_matrix, ConfusionMatrixDisplay\n",
        "from sklearn.metrics import mean_squared_error, r2_score, log_loss\n",
        "from sklearn.metrics import accuracy_score, precision_score, recall_score, f1_score\n",
        "from sklearn.metrics import precision_recall_curve, roc_curve, auc\n",
        "from sklearn.model_selection import KFold, RepeatedKFold, cross_val_score\n",
        "from sklearn.model_selection import train_test_split\n",
        "from sklearn.datasets import fetch_openml, load_iris\n",
        "from sklearn.preprocessing import StandardScaler, PolynomialFeatures, label_binarize\n",
        "from sklearn.neighbors import KNeighborsRegressor\n",
        "from sklearn.pipeline import Pipeline\n",
        "import statsmodels.api as sma\n",
        "from scipy.stats import hmean"
      ]
    },
    {
      "cell_type": "markdown",
      "source": [
        "## 次元削減"
      ],
      "metadata": {
        "id": "3Gm9y4b0-H6u"
      }
    },
    {
      "cell_type": "markdown",
      "source": [
        "特徴量の数が$n$、データの数がmとした時の$m×n$のデータ行列における次元を削減する処理を、  \n",
        "**次元削減**といいます。"
      ],
      "metadata": {
        "id": "mzzr33Mx9OCA"
      }
    },
    {
      "cell_type": "markdown",
      "source": [
        "正則化項を使った**Lasso**や**Ridge**といったアルゴリズム（参考：[こちら](https://datawokagaku.com/lasso/ )）は、  \n",
        "特徴量を選択するものなので、次元削減の手法の一つと言えます。\n",
        "\n"
      ],
      "metadata": {
        "id": "KE9-xw4z9noo"
      }
    },
    {
      "cell_type": "markdown",
      "source": [
        "## 主成分分析"
      ],
      "metadata": {
        "id": "PDk4xbO7EjDi"
      }
    },
    {
      "cell_type": "markdown",
      "source": [
        "**PCA（主成分分析）**は、高次元から低次元へと変換をするアルゴリズムです。  \n",
        "例えば以下のような感じです。\n",
        "\n",
        "\n",
        "（参考：https://shorturl.at/cfoCK ）\n",
        "\n",
        "![](https://imgur.com/O3JFPSR.png)"
      ],
      "metadata": {
        "id": "G1CLXqhXDnir"
      }
    },
    {
      "cell_type": "markdown",
      "source": [
        "次元を変換する際は、全ての特徴量が必要になるため、  \n",
        "あくまでも次元だけを削減する形になります。\n",
        "\n",
        "そのため、Lassoのような特徴量選択としての用途は限定的となります。\n"
      ],
      "metadata": {
        "id": "KGz1UwdxFl6o"
      }
    },
    {
      "cell_type": "markdown",
      "source": [
        "### PCAが必要なケース"
      ],
      "metadata": {
        "id": "7vhxw2rbIemF"
      }
    },
    {
      "cell_type": "markdown",
      "source": [
        "PCAを使うケースとして主に考えられるのが、以下の2点です。\n",
        "\n",
        "\n",
        "1.   処理の高速化\n",
        "2.   データの可視化\n",
        "\n"
      ],
      "metadata": {
        "id": "OcV4XbH_Ihx9"
      }
    },
    {
      "cell_type": "markdown",
      "source": [
        "#### 処理の高速化"
      ],
      "metadata": {
        "id": "aFCOI6BoIvhc"
      }
    },
    {
      "cell_type": "markdown",
      "source": [
        "最近はコンピュータの性能が高くなっているので、  \n",
        "いろんなセンサからデータを取ったり、何でもかんでもデータ化されるような時代になっています。\n",
        "\n",
        "そのため、モデルを作る際に、特徴量がたくさんあるというケースが増えてきています。"
      ],
      "metadata": {
        "id": "zkxjETT-Kh38"
      }
    },
    {
      "cell_type": "markdown",
      "source": [
        "PCAをすると、高次元のデータを低次元で扱うことができるようになるのでメモリ節約になり、  \n",
        "機械学習モデルの学習コストを大幅に下げることができます。"
      ],
      "metadata": {
        "id": "WjMz57GbL2Ar"
      }
    },
    {
      "cell_type": "markdown",
      "source": [
        "#### データの可視化"
      ],
      "metadata": {
        "id": "t-bdtKu7MTiK"
      }
    },
    {
      "cell_type": "markdown",
      "source": [
        "多次元のデータを可視化するのは、次元数によっては難しいです。  \n",
        "平面で可視化できるのはせいぜい3次元のデータまでです。\n",
        "\n",
        "PCAをすることで、多次元のデータも2次元や3次元にして、  \n",
        "簡単にデータを可視化することができます。  \n",
        "（データの分布を確認する際に、まずはPCAを行うことが現場では？多いようです）"
      ],
      "metadata": {
        "id": "EcpPIKlBMYaK"
      }
    },
    {
      "cell_type": "markdown",
      "source": [
        "### 主成分"
      ],
      "metadata": {
        "id": "iNMW1EiQM3Tw"
      }
    },
    {
      "cell_type": "markdown",
      "source": [
        "「データを最もよく表している軸」が、**主成分(Principal Component)**です。\n",
        "\n"
      ],
      "metadata": {
        "id": "zCZtejoCOEzH"
      }
    },
    {
      "cell_type": "markdown",
      "source": [
        "もう少し具体的に言うと、「\"データから軸の距離\"の合計が最小になる軸」になります。  \n",
        "例えば以下のような感じです。\n",
        "\n",
        "\n",
        "（参考：https://shorturl.at/inwH7 ）\n",
        "\n",
        "![](https://imgur.com/Qx47Gdi.png)"
      ],
      "metadata": {
        "id": "jmCgV_gDOwjz"
      }
    },
    {
      "cell_type": "markdown",
      "source": [
        "多次元のデータを圧縮するには、第1主成分、第2主成分...のように主成分を抽出します。\n",
        "\n",
        "第n主成分は、第n-1主成分と直行する軸の中で最も分散が大きい軸となります。\n",
        "\n",
        "（参考：https://shorturl.at/bC246 ）\n",
        "\n",
        "![](https://imgur.com/F8bO4CZ.png)"
      ],
      "metadata": {
        "id": "86EEbO_IQ4cO"
      }
    },
    {
      "cell_type": "markdown",
      "source": [
        "### Pythonで主成分分析"
      ],
      "metadata": {
        "id": "M9YDMD29R2NL"
      }
    },
    {
      "cell_type": "markdown",
      "source": [
        "PythonでPCAを実行して、実際に次元を圧縮してみます。"
      ],
      "metadata": {
        "id": "PPkmhGNfR7vL"
      }
    },
    {
      "cell_type": "markdown",
      "source": [
        "今回は、Scikit-learnのデータセット\"iris\"を利用します。\n",
        "\n",
        "\n",
        "（参考サイト：[こちら](https://zenn.dev/nekoallergy/articles/scikit-learn-datasets#%E3%82%B5%E3%83%B3%E3%83%97%E3%83%AB%E3%83%87%E3%83%BC%E3%82%BF%E3%81%AE%E7%A8%AE%E9%A1%9E)）"
      ],
      "metadata": {
        "id": "aH1slphsSJ_M"
      }
    },
    {
      "cell_type": "markdown",
      "source": [
        "\"iris\"のデータの説明は以下の通りです。\n",
        "\n",
        "- 4つのデータがある\n",
        "  - sepal length（がく片の長さ）\n",
        "  - sepal width（がく片の幅）\n",
        "  - petal length（花びらの長さ）\n",
        "  - petal width（花びらの幅）\n",
        "- 3種類の分類がある（それぞれ50個）\n",
        "  - setosa（セトーサ、ヒオウギアヤメ）\n",
        "  - versicolour（ヴァーシカラー、ブルーフラッグ）\n",
        "  - virginica（ヴァージニカ、ヴァージニカ）"
      ],
      "metadata": {
        "id": "dZLCo19kSPeK"
      }
    },
    {
      "cell_type": "code",
      "source": [
        "from sklearn.datasets import load_iris\n",
        "\n",
        "iris = load_iris()\n",
        "\n",
        "df = pd.DataFrame(iris.data, columns=iris.feature_names)\n",
        "df[\"target\"] = iris.target\n",
        "\n",
        "df[\"target\"][df[\"target\"] == 0] = \"setosa\"\n",
        "df[\"target\"][df[\"target\"] == 1] = \"sersicolor\"\n",
        "df[\"target\"][df[\"target\"] == 2] = \"virginica\"\n",
        "\n",
        "# 目的変数に\"target\"、説明変数にそれ以外のカラムを指定\n",
        "x = df.drop('target', axis=1)\n",
        "y = df['target']\n",
        "\n",
        "# 説明変数のデータを標準化\n",
        "from sklearn.preprocessing import StandardScaler\n",
        "scaler = StandardScaler().fit(x)\n",
        "x_scaled = scaler.transform(x)"
      ],
      "metadata": {
        "colab": {
          "base_uri": "https://localhost:8080/"
        },
        "id": "w1yBUPnrSGoF",
        "outputId": "1e868c58-df9d-4454-d401-5e7e4d633226"
      },
      "execution_count": null,
      "outputs": [
        {
          "output_type": "stream",
          "name": "stderr",
          "text": [
            "<ipython-input-105-35e27a66e835>:8: SettingWithCopyWarning:\n",
            "\n",
            "\n",
            "A value is trying to be set on a copy of a slice from a DataFrame\n",
            "\n",
            "See the caveats in the documentation: https://pandas.pydata.org/pandas-docs/stable/user_guide/indexing.html#returning-a-view-versus-a-copy\n",
            "\n"
          ]
        }
      ]
    },
    {
      "cell_type": "markdown",
      "source": [
        "PCAを実施する前に、特徴量間のスケールを合わせるために標準化をする必要があります。  \n",
        "\n",
        "スケールがあっていないと、正しくデータの分散が大きい軸を見つけることができません。"
      ],
      "metadata": {
        "id": "G0pCt3jiSUCa"
      }
    },
    {
      "cell_type": "markdown",
      "source": [
        "まずは、主成分の数を2として主成分分析を行います。"
      ],
      "metadata": {
        "id": "j2N-NQHgf3Wc"
      }
    },
    {
      "cell_type": "code",
      "source": [
        "from sklearn.decomposition import PCA\n",
        "\n",
        "# PCA\n",
        "X2_pc = PCA(n_components=2).fit_transform(x_scaled)"
      ],
      "metadata": {
        "id": "QxpEboT4SkBy"
      },
      "execution_count": null,
      "outputs": []
    },
    {
      "cell_type": "code",
      "source": [
        "y_pc = y.values.reshape(-1, 1)\n",
        "df_pc = pd.DataFrame(np.concatenate([X2_pc, y_pc], axis=1), columns=['first component', 'second component', 'species'])\n",
        "sns.scatterplot(x='first component', y='second component', hue='species', data=df_pc)"
      ],
      "metadata": {
        "colab": {
          "base_uri": "https://localhost:8080/",
          "height": 466
        },
        "id": "uLF94RjpS2By",
        "outputId": "10394e94-0e39-4953-e57f-8b2de8517572"
      },
      "execution_count": null,
      "outputs": [
        {
          "output_type": "execute_result",
          "data": {
            "text/plain": [
              "<Axes: xlabel='first component', ylabel='second component'>"
            ]
          },
          "metadata": {},
          "execution_count": 17
        },
        {
          "output_type": "display_data",
          "data": {
            "text/plain": [
              "<Figure size 640x480 with 1 Axes>"
            ],
            "image/png": "[encoded data removed]"
          },
          "metadata": {}
        }
      ]
    },
    {
      "cell_type": "markdown",
      "source": [
        "PCAをすることでデータの分布を2次元で表すことができました。"
      ],
      "metadata": {
        "id": "Zuql7qojTJ07"
      }
    },
    {
      "cell_type": "markdown",
      "source": [
        "次に、主成分の数を3として主成分分析を行います。"
      ],
      "metadata": {
        "id": "p5xABpa_gGzc"
      }
    },
    {
      "cell_type": "code",
      "source": [
        "from sklearn.decomposition import PCA\n",
        "\n",
        "# PCA\n",
        "X3_pc = PCA(n_components=3).fit_transform(x_scaled)"
      ],
      "metadata": {
        "id": "auRYmEAedOMD"
      },
      "execution_count": null,
      "outputs": []
    },
    {
      "cell_type": "code",
      "source": [
        "y_pc = y.values.reshape(-1, 1)\n",
        "df_pc = pd.DataFrame(np.concatenate([X3_pc, y_pc], axis=1), columns=['x', 'y', 'z', 'species'])"
      ],
      "metadata": {
        "id": "xZxAGNRrbIAK"
      },
      "execution_count": null,
      "outputs": []
    },
    {
      "cell_type": "code",
      "source": [
        "import plotly.express as px\n",
        "\n",
        "# 3D散布図の作成\n",
        "fig = px.scatter_3d(df_pc, x='x', y='y', z='z', color='species', labels={'color': 'species'})\n",
        "\n",
        "fig.add_trace(px.line_3d(df_pc, x='x', y='y', z='z', color='species').data[0])\n",
        "fig.add_trace(px.line_3d(df_pc, x='x', y='y', z='z', color='species').data[1])\n",
        "fig.add_trace(px.line_3d(df_pc, x='x', y='y', z='z', color='species').data[2])\n",
        "\n",
        "# グラフの表示\n",
        "fig.show()\n"
      ],
      "metadata": {
        "colab": {
          "base_uri": "https://localhost:8080/",
          "height": 542
        },
        "id": "izTuwIMkVBgx",
        "outputId": "67f5733e-14e3-4e02-8e96-06db62724e82"
      },
      "execution_count": null,
      "outputs": [
        {
          "output_type": "display_data",
          "data": {
            "text/html": [
              "<html>\n",
              "<head><meta charset=\"utf-8\" /></head>\n",
              "<body>\n",
              "    <div>            <script src=\"https://cdnjs.cloudflare.com/ajax/libs/mathjax/2.7.5/MathJax.js?config=TeX-AMS-MML_SVG\"></script><script type=\"text/javascript\">if (window.MathJax && window.MathJax.Hub && window.MathJax.Hub.Config) {window.MathJax.Hub.Config({SVG: {font: \"STIX-Web\"}});}</script>                <script type=\"text/javascript\">window.PlotlyConfig = {MathJaxConfig: 'local'};</script>\n",
              "        <script charset=\"utf-8\" src=\"https://cdn.plot.ly/plotly-2.24.1.min.js\"></script>                <div id=\"1af259df-50c3-4ab7-b7d5-53ea2dcb89e0\" class=\"plotly-graph-div\" style=\"height:525px; width:100%;\"></div>            <script type=\"text/javascript\">                                    window.PLOTLYENV=window.PLOTLYENV || {};                                    if (document.getElementById(\"1af259df-50c3-4ab7-b7d5-53ea2dcb89e0\")) {                    Plotly.newPlot(                        \"1af259df-50c3-4ab7-b7d5-53ea2dcb89e0\",                        [{\"hovertemplate\":\"species=setosa\\u003cbr\\u003ex=%{x}\\u003cbr\\u003ey=%{y}\\u003cbr\\u003ez=%{z}\\u003cextra\\u003e\\u003c\\u002fextra\\u003e\",\"legendgroup\":\"setosa\",\"marker\":{\"color\":\"#636efa\",\"symbol\":\"circle\"},\"mode\":\"markers\",\"name\":\"setosa\",\"scene\":\"scene\",\"showlegend\":true,\"x\":[-2.2647028088075967,-2.0809611519657687,-2.364229053890301,-2.2993842170427095,-2.3898421663138456,-2.0756309481765123,-2.444028835134154,-2.232847158872016,-2.334640477907622,-2.1843281749339427,-2.1663101007013226,-2.3261308664426994,-2.21845089882241,-2.633100695765229,-2.19874060326669,-2.262214531601021,-2.207587695824593,-2.190349509192299,-1.898571995802842,-2.343369053074994,-1.914322996082568,-2.2070128431947986,-2.774344702927333,-1.8186695286958492,-2.22716330570664,-1.9518463309003768,-2.051151372729416,-2.1685771746542173,-2.139563451301332,-2.265261493154242,-2.140122135647985,-1.8315947706760285,-2.6149479358589356,-2.446177391696515,-2.109974875318653,-2.2078088990782665,-2.0451462067542012,-2.527331913170487,-2.4296325750845473,-2.169710711630664,-2.286475143345671,-1.8581224563735717,-2.5536383956143567,-1.9644476837637415,-2.137059005811624,-2.0697442995918305,-2.3847331657782638,-2.3943763142196337,-2.229446547942675,-2.2038334355191314],\"y\":[0.48002659652098845,-0.6741335566053533,-0.34190802388467606,-0.5973945076746758,0.6468353829020274,1.4891775233211668,0.04764419763001429,0.22314807268959178,-1.1153276754616666,-0.4690135614023758,1.0436906530538599,0.13307833523923163,-0.7286761653165709,-0.9615067291701631,1.8600571132939314,2.6862844851105923,1.4836093631555727,0.4888383164863276,1.4050187944665495,1.1278493819084767,0.4088557077559062,0.9241214267468988,0.45834366775291563,0.08555852628736628,0.1372544553634272,-0.6256185877766768,0.24216355266166723,0.5271495253082672,0.3132178101399519,-0.3377319037604806,-0.5045406901415184,0.42369506760378606,1.793575856104429,2.150727877392924,-0.46020184143703746,-0.20610739768843692,0.6615581114631083,0.5922927741908095,-0.9041800403761481,0.26887896143547096,0.4417153876990502,-2.337415157553349,-0.479100690122314,0.4723266677192611,1.1422292620394092,-0.711052725385894,1.1204297019845368,-0.3862468725891573,0.9979597643079806,0.009216357521276234],\"z\":[-0.12770602230015693,-0.23460885398456796,0.04420148483874489,0.09129010632068192,0.015738195676258632,0.026968294439781614,0.3354704011431137,-0.0886954979477264,0.14507686363699987,-0.2537655673000065,-0.2686811022161348,0.09375924438111159,-0.2309112372066025,0.180796084403179,-0.47290099787307666,0.030526609265510513,-0.005344094078264253,-0.044215316478453795,-0.37434327455765465,0.1326304667813021,-0.4212925940873566,0.15986527722625277,0.3321790975568659,0.03448859579998134,0.11799353576964579,-0.3056409823252076,0.08636401082518226,-0.2068162477703047,-0.27115024027656437,0.0684357762272782,-0.07500844174913289,-0.2704673767029821,0.04722841866848565,-0.08266804506156811,-0.17027486147830798,-0.22544158008975695,-0.4845374098283167,0.01943581245422292,0.19325466188423665,-0.17588382054738916,0.03489490899169739,-0.2042342225309649,0.3057664526377331,0.30960131784532763,0.2484335611210466,-0.06392982556320546,0.05721785808911494,0.13946790456791894,-0.181492779616471,-0.1530294904539861],\"type\":\"scatter3d\"},{\"hovertemplate\":\"species=sersicolor\\u003cbr\\u003ex=%{x}\\u003cbr\\u003ey=%{y}\\u003cbr\\u003ez=%{z}\\u003cextra\\u003e\\u003c\\u002fextra\\u003e\",\"legendgroup\":\"sersicolor\",\"marker\":{\"color\":\"#EF553B\",\"symbol\":\"circle\"},\"mode\":\"markers\",\"name\":\"sersicolor\",\"scene\":\"scene\",\"showlegend\":true,\"x\":[1.1017811830529491,0.7313374253960883,1.2409793195158327,0.4074830588173854,1.0754747006090792,0.38868733653566523,0.7465297413291616,-0.4873227421256401,0.9279016383549465,0.01142618873697999,-0.11019628000062931,0.4406934489830789,0.5621083064431794,0.7195618886754972,-0.03335470317877206,0.8754071908577389,0.35025166799508306,0.1588100475479715,1.2250936335624325,0.16491789938632753,0.7376826487712588,0.47628719094097205,1.2341780976571501,0.6328581997098224,0.7026611831361831,0.8742736538812915,1.2565091165418851,1.3584051214406334,0.6648003672253953,-0.04025861090059523,0.1307951754978608,0.02345268897055099,0.24153827295451125,1.0610946088426148,0.2239787735123796,0.4291391155161612,1.0487280512090889,1.04453138439628,0.06958832111642303,0.2834772382875755,0.27907777605546086,0.6245697914985721,0.3365303701314363,-0.36218338461938376,0.2885862388231576,0.09136065565450546,0.2277168655347003,0.5763882886534794,-0.44766701902861183,0.25673058888758504],\"y\":[0.862972418262159,0.5946147256694247,0.6162976544374985,-1.754403989323411,-0.20842104605096537,-0.5932836359900753,0.7730193120985968,-1.8524290868575743,0.03222607789115379,-1.034018275129441,-2.6540728185365654,-0.06329518843800135,-1.7647243806169455,-0.18622460583150585,-0.4390032099816246,0.5090639567734088,-0.19631173455144402,-0.7920957424327216,-1.622243803091502,-1.302609230295773,0.3965715619602392,-0.41732028121355086,-0.9333257287992788,-0.4163877208890997,-0.06341181972480016,0.2507933929006122,-0.077256019695869,0.33131168179089826,-0.2259278546948436,-1.0587185465539086,-1.562271834209968,-1.5724755942167052,-0.7772563825848416,-0.6338432447349469,-0.2877735120432024,0.8455822409050792,0.5220517968629429,-1.3829887191907821,-0.21950333464771504,-1.3293246390695768,-1.120028523742404,0.024923029254012612,-0.9884040176703606,-2.019237873238612,-0.8557303199870664,-0.18119212582577537,-0.38492008098735386,-0.15487359721655888,-1.5437920343977565,-0.5988517961556694],\"z\":[-0.6845861626897368,-0.09412171552908227,-0.5540068353861008,-0.023101767813801515,-0.39825552250622664,0.12419154951817014,0.14896940252805102,0.24926526578924932,-0.5961693613725384,0.5388993901843677,-0.04679044405838323,0.20507381532720287,-0.7657713936539614,-0.06865894542301254,0.194932893328979,-0.5035113816560302,0.49087307451472745,-0.3020371744413824,-0.4823040240972376,-0.1728378084328765,0.6165263063228639,-0.26495222652803935,-0.3684122720486101,-0.29189625244315787,-0.446027007561747,-0.47257895443311454,-0.7271550018678918,-0.26082657679061383,0.08586388873932607,-0.3195733299955364,-0.14998347833947343,-0.2415522812906835,-0.1512119570570081,0.10531138658459725,0.6652497197140529,0.45063407144476575,-0.39578638444579717,-0.6882959600930609,0.29157927435328435,0.08941002293969495,0.09448760101279027,-0.02048114717577578,-0.19938975530424488,0.10582104781283835,0.1308896853525515,0.12897834306143352,0.15621315350638404,-0.27165036236242046,0.19040093039983647,0.09187916100012435],\"type\":\"scatter3d\"},{\"hovertemplate\":\"species=virginica\\u003cbr\\u003ex=%{x}\\u003cbr\\u003ey=%{y}\\u003cbr\\u003ez=%{z}\\u003cextra\\u003e\\u003c\\u002fextra\\u003e\",\"legendgroup\":\"virginica\",\"marker\":{\"color\":\"#00cc96\",\"symbol\":\"circle\"},\"mode\":\"markers\",\"name\":\"virginica\",\"scene\":\"scene\",\"showlegend\":true,\"x\":[1.8445688677230303,1.1578816132057803,2.2052667910753803,1.4401506638275403,1.8678122203305392,2.75187333566628,0.3670176878607243,2.3024394446251994,2.0066864676766074,2.2597773490125026,1.3641754921860094,1.6026786704779319,1.8839007017032445,1.260115099197508,1.4676452010173249,1.5900773176145668,1.4714314611333195,2.4263289873157032,3.3106955839338905,1.2637666736398292,2.037716301469407,0.977980734249422,2.8976514907341717,1.3332321759732098,1.700733897491219,1.954326705853073,1.1751036315549335,1.0209505506957919,1.788349920179667,1.8636475533282628,2.435953727922706,2.304927721831767,1.862703219794957,1.1141477406864757,1.2024733016783917,2.7987704475781108,1.5762559101947553,1.3462921036270628,0.9248249165424202,1.8520450517676723,2.0148104299548772,1.9017840902621914,1.1578816132057803,2.040558228052095,1.9981470959523782,1.8705032929564125,1.5645804830303296,1.521170499627839,1.3727877895140739,0.9606560300371285],\"y\":[0.8704213123248237,-0.6988698623306903,0.5620104770083558,-0.0469875881058066,0.2950448244570199,0.800409201027542,-1.5615028914765061,0.4200655796427763,-0.711438653547159,1.9210103764598871,0.6927564544903874,-0.42170044977261717,0.41924965060512376,-1.1622604214064634,-0.44227158737708216,0.6762448057233205,0.2556218244714706,2.556661250795492,0.01778094932062698,-1.706745380376268,0.9104674096183113,-0.5717643248129917,0.4136410595956476,-0.4818112186494293,1.0139218673227917,1.0077775961534525,-0.31639447230979095,0.064346029239562,-0.1873612145908287,0.5622907258861446,0.25928443314428024,2.626323468232379,-0.17854949462549022,-0.2929226233357315,-0.8113152708396693,0.8568033294971058,1.068581107320808,0.4224306108525084,0.01722310045228429,0.6761281744365218,0.6138856369235756,0.6895754942430031,-0.6988698623306903,0.8675206009552289,1.0491687471841455,0.386966081665726,-0.8966868088965264,0.26906914427795187,1.0112544185267935,-0.024331668169399266],\"z\":[1.005401017606987,0.5301601492490194,-0.20291416973686852,0.16363010683005855,0.3956283745532976,-0.5823091028286044,0.9868932674720252,-0.6517064392599933,-0.39399057081656447,0.39755189746977393,0.28461207375681646,0.02318640791006275,0.026338409544075105,0.5802492897873729,1.0038695737342602,0.6384287080805979,0.03743125987796868,-0.12788145946307244,-0.703305303903329,-0.2675368932503538,0.23479948360032768,0.8281272013877699,-0.8574218248739516,-0.0054283638300178065,0.2984506125330053,-0.41998472191862013,0.12993775701688154,0.3377159674995531,0.2706580063187424,-0.7156341185745366,-0.7278161456737295,-0.49347380769433047,0.354148712140441,-0.1834883916593428,-0.16472375738765394,-0.5429064994324281,0.945853818643991,0.18087547785437977,0.4168261929697045,-0.01267211480835184,0.4283328421150931,0.1300750054465105,0.5301601492490194,0.3381440004590144,0.6324134358197994,0.25627385239860045,-0.026371351632304366,0.1801783801328315,0.9333952411629322,0.5282488069579018],\"type\":\"scatter3d\"},{\"hovertemplate\":\"species=setosa\\u003cbr\\u003ex=%{x}\\u003cbr\\u003ey=%{y}\\u003cbr\\u003ez=%{z}\\u003cextra\\u003e\\u003c\\u002fextra\\u003e\",\"legendgroup\":\"setosa\",\"line\":{\"color\":\"#636efa\",\"dash\":\"solid\"},\"marker\":{\"symbol\":\"circle\"},\"mode\":\"lines\",\"name\":\"setosa\",\"scene\":\"scene\",\"showlegend\":true,\"x\":[-2.2647028088075967,-2.0809611519657687,-2.364229053890301,-2.2993842170427095,-2.3898421663138456,-2.0756309481765123,-2.444028835134154,-2.232847158872016,-2.334640477907622,-2.1843281749339427,-2.1663101007013226,-2.3261308664426994,-2.21845089882241,-2.633100695765229,-2.19874060326669,-2.262214531601021,-2.207587695824593,-2.190349509192299,-1.898571995802842,-2.343369053074994,-1.914322996082568,-2.2070128431947986,-2.774344702927333,-1.8186695286958492,-2.22716330570664,-1.9518463309003768,-2.051151372729416,-2.1685771746542173,-2.139563451301332,-2.265261493154242,-2.140122135647985,-1.8315947706760285,-2.6149479358589356,-2.446177391696515,-2.109974875318653,-2.2078088990782665,-2.0451462067542012,-2.527331913170487,-2.4296325750845473,-2.169710711630664,-2.286475143345671,-1.8581224563735717,-2.5536383956143567,-1.9644476837637415,-2.137059005811624,-2.0697442995918305,-2.3847331657782638,-2.3943763142196337,-2.229446547942675,-2.2038334355191314],\"y\":[0.48002659652098845,-0.6741335566053533,-0.34190802388467606,-0.5973945076746758,0.6468353829020274,1.4891775233211668,0.04764419763001429,0.22314807268959178,-1.1153276754616666,-0.4690135614023758,1.0436906530538599,0.13307833523923163,-0.7286761653165709,-0.9615067291701631,1.8600571132939314,2.6862844851105923,1.4836093631555727,0.4888383164863276,1.4050187944665495,1.1278493819084767,0.4088557077559062,0.9241214267468988,0.45834366775291563,0.08555852628736628,0.1372544553634272,-0.6256185877766768,0.24216355266166723,0.5271495253082672,0.3132178101399519,-0.3377319037604806,-0.5045406901415184,0.42369506760378606,1.793575856104429,2.150727877392924,-0.46020184143703746,-0.20610739768843692,0.6615581114631083,0.5922927741908095,-0.9041800403761481,0.26887896143547096,0.4417153876990502,-2.337415157553349,-0.479100690122314,0.4723266677192611,1.1422292620394092,-0.711052725385894,1.1204297019845368,-0.3862468725891573,0.9979597643079806,0.009216357521276234],\"z\":[-0.12770602230015693,-0.23460885398456796,0.04420148483874489,0.09129010632068192,0.015738195676258632,0.026968294439781614,0.3354704011431137,-0.0886954979477264,0.14507686363699987,-0.2537655673000065,-0.2686811022161348,0.09375924438111159,-0.2309112372066025,0.180796084403179,-0.47290099787307666,0.030526609265510513,-0.005344094078264253,-0.044215316478453795,-0.37434327455765465,0.1326304667813021,-0.4212925940873566,0.15986527722625277,0.3321790975568659,0.03448859579998134,0.11799353576964579,-0.3056409823252076,0.08636401082518226,-0.2068162477703047,-0.27115024027656437,0.0684357762272782,-0.07500844174913289,-0.2704673767029821,0.04722841866848565,-0.08266804506156811,-0.17027486147830798,-0.22544158008975695,-0.4845374098283167,0.01943581245422292,0.19325466188423665,-0.17588382054738916,0.03489490899169739,-0.2042342225309649,0.3057664526377331,0.30960131784532763,0.2484335611210466,-0.06392982556320546,0.05721785808911494,0.13946790456791894,-0.181492779616471,-0.1530294904539861],\"type\":\"scatter3d\"},{\"hovertemplate\":\"species=sersicolor\\u003cbr\\u003ex=%{x}\\u003cbr\\u003ey=%{y}\\u003cbr\\u003ez=%{z}\\u003cextra\\u003e\\u003c\\u002fextra\\u003e\",\"legendgroup\":\"sersicolor\",\"line\":{\"color\":\"#EF553B\",\"dash\":\"solid\"},\"marker\":{\"symbol\":\"circle\"},\"mode\":\"lines\",\"name\":\"sersicolor\",\"scene\":\"scene\",\"showlegend\":true,\"x\":[1.1017811830529491,0.7313374253960883,1.2409793195158327,0.4074830588173854,1.0754747006090792,0.38868733653566523,0.7465297413291616,-0.4873227421256401,0.9279016383549465,0.01142618873697999,-0.11019628000062931,0.4406934489830789,0.5621083064431794,0.7195618886754972,-0.03335470317877206,0.8754071908577389,0.35025166799508306,0.1588100475479715,1.2250936335624325,0.16491789938632753,0.7376826487712588,0.47628719094097205,1.2341780976571501,0.6328581997098224,0.7026611831361831,0.8742736538812915,1.2565091165418851,1.3584051214406334,0.6648003672253953,-0.04025861090059523,0.1307951754978608,0.02345268897055099,0.24153827295451125,1.0610946088426148,0.2239787735123796,0.4291391155161612,1.0487280512090889,1.04453138439628,0.06958832111642303,0.2834772382875755,0.27907777605546086,0.6245697914985721,0.3365303701314363,-0.36218338461938376,0.2885862388231576,0.09136065565450546,0.2277168655347003,0.5763882886534794,-0.44766701902861183,0.25673058888758504],\"y\":[0.862972418262159,0.5946147256694247,0.6162976544374985,-1.754403989323411,-0.20842104605096537,-0.5932836359900753,0.7730193120985968,-1.8524290868575743,0.03222607789115379,-1.034018275129441,-2.6540728185365654,-0.06329518843800135,-1.7647243806169455,-0.18622460583150585,-0.4390032099816246,0.5090639567734088,-0.19631173455144402,-0.7920957424327216,-1.622243803091502,-1.302609230295773,0.3965715619602392,-0.41732028121355086,-0.9333257287992788,-0.4163877208890997,-0.06341181972480016,0.2507933929006122,-0.077256019695869,0.33131168179089826,-0.2259278546948436,-1.0587185465539086,-1.562271834209968,-1.5724755942167052,-0.7772563825848416,-0.6338432447349469,-0.2877735120432024,0.8455822409050792,0.5220517968629429,-1.3829887191907821,-0.21950333464771504,-1.3293246390695768,-1.120028523742404,0.024923029254012612,-0.9884040176703606,-2.019237873238612,-0.8557303199870664,-0.18119212582577537,-0.38492008098735386,-0.15487359721655888,-1.5437920343977565,-0.5988517961556694],\"z\":[-0.6845861626897368,-0.09412171552908227,-0.5540068353861008,-0.023101767813801515,-0.39825552250622664,0.12419154951817014,0.14896940252805102,0.24926526578924932,-0.5961693613725384,0.5388993901843677,-0.04679044405838323,0.20507381532720287,-0.7657713936539614,-0.06865894542301254,0.194932893328979,-0.5035113816560302,0.49087307451472745,-0.3020371744413824,-0.4823040240972376,-0.1728378084328765,0.6165263063228639,-0.26495222652803935,-0.3684122720486101,-0.29189625244315787,-0.446027007561747,-0.47257895443311454,-0.7271550018678918,-0.26082657679061383,0.08586388873932607,-0.3195733299955364,-0.14998347833947343,-0.2415522812906835,-0.1512119570570081,0.10531138658459725,0.6652497197140529,0.45063407144476575,-0.39578638444579717,-0.6882959600930609,0.29157927435328435,0.08941002293969495,0.09448760101279027,-0.02048114717577578,-0.19938975530424488,0.10582104781283835,0.1308896853525515,0.12897834306143352,0.15621315350638404,-0.27165036236242046,0.19040093039983647,0.09187916100012435],\"type\":\"scatter3d\"},{\"hovertemplate\":\"species=virginica\\u003cbr\\u003ex=%{x}\\u003cbr\\u003ey=%{y}\\u003cbr\\u003ez=%{z}\\u003cextra\\u003e\\u003c\\u002fextra\\u003e\",\"legendgroup\":\"virginica\",\"line\":{\"color\":\"#00cc96\",\"dash\":\"solid\"},\"marker\":{\"symbol\":\"circle\"},\"mode\":\"lines\",\"name\":\"virginica\",\"scene\":\"scene\",\"showlegend\":true,\"x\":[1.8445688677230303,1.1578816132057803,2.2052667910753803,1.4401506638275403,1.8678122203305392,2.75187333566628,0.3670176878607243,2.3024394446251994,2.0066864676766074,2.2597773490125026,1.3641754921860094,1.6026786704779319,1.8839007017032445,1.260115099197508,1.4676452010173249,1.5900773176145668,1.4714314611333195,2.4263289873157032,3.3106955839338905,1.2637666736398292,2.037716301469407,0.977980734249422,2.8976514907341717,1.3332321759732098,1.700733897491219,1.954326705853073,1.1751036315549335,1.0209505506957919,1.788349920179667,1.8636475533282628,2.435953727922706,2.304927721831767,1.862703219794957,1.1141477406864757,1.2024733016783917,2.7987704475781108,1.5762559101947553,1.3462921036270628,0.9248249165424202,1.8520450517676723,2.0148104299548772,1.9017840902621914,1.1578816132057803,2.040558228052095,1.9981470959523782,1.8705032929564125,1.5645804830303296,1.521170499627839,1.3727877895140739,0.9606560300371285],\"y\":[0.8704213123248237,-0.6988698623306903,0.5620104770083558,-0.0469875881058066,0.2950448244570199,0.800409201027542,-1.5615028914765061,0.4200655796427763,-0.711438653547159,1.9210103764598871,0.6927564544903874,-0.42170044977261717,0.41924965060512376,-1.1622604214064634,-0.44227158737708216,0.6762448057233205,0.2556218244714706,2.556661250795492,0.01778094932062698,-1.706745380376268,0.9104674096183113,-0.5717643248129917,0.4136410595956476,-0.4818112186494293,1.0139218673227917,1.0077775961534525,-0.31639447230979095,0.064346029239562,-0.1873612145908287,0.5622907258861446,0.25928443314428024,2.626323468232379,-0.17854949462549022,-0.2929226233357315,-0.8113152708396693,0.8568033294971058,1.068581107320808,0.4224306108525084,0.01722310045228429,0.6761281744365218,0.6138856369235756,0.6895754942430031,-0.6988698623306903,0.8675206009552289,1.0491687471841455,0.386966081665726,-0.8966868088965264,0.26906914427795187,1.0112544185267935,-0.024331668169399266],\"z\":[1.005401017606987,0.5301601492490194,-0.20291416973686852,0.16363010683005855,0.3956283745532976,-0.5823091028286044,0.9868932674720252,-0.6517064392599933,-0.39399057081656447,0.39755189746977393,0.28461207375681646,0.02318640791006275,0.026338409544075105,0.5802492897873729,1.0038695737342602,0.6384287080805979,0.03743125987796868,-0.12788145946307244,-0.703305303903329,-0.2675368932503538,0.23479948360032768,0.8281272013877699,-0.8574218248739516,-0.0054283638300178065,0.2984506125330053,-0.41998472191862013,0.12993775701688154,0.3377159674995531,0.2706580063187424,-0.7156341185745366,-0.7278161456737295,-0.49347380769433047,0.354148712140441,-0.1834883916593428,-0.16472375738765394,-0.5429064994324281,0.945853818643991,0.18087547785437977,0.4168261929697045,-0.01267211480835184,0.4283328421150931,0.1300750054465105,0.5301601492490194,0.3381440004590144,0.6324134358197994,0.25627385239860045,-0.026371351632304366,0.1801783801328315,0.9333952411629322,0.5282488069579018],\"type\":\"scatter3d\"}],                        {\"template\":{\"data\":{\"histogram2dcontour\":[{\"type\":\"histogram2dcontour\",\"colorbar\":{\"outlinewidth\":0,\"ticks\":\"\"},\"colorscale\":[[0.0,\"#0d0887\"],[0.1111111111111111,\"#46039f\"],[0.2222222222222222,\"#7201a8\"],[0.3333333333333333,\"#9c179e\"],[0.4444444444444444,\"#bd3786\"],[0.5555555555555556,\"#d8576b\"],[0.6666666666666666,\"#ed7953\"],[0.7777777777777778,\"#fb9f3a\"],[0.8888888888888888,\"#fdca26\"],[1.0,\"#f0f921\"]]}],\"choropleth\":[{\"type\":\"choropleth\",\"colorbar\":{\"outlinewidth\":0,\"ticks\":\"\"}}],\"histogram2d\":[{\"type\":\"histogram2d\",\"colorbar\":{\"outlinewidth\":0,\"ticks\":\"\"},\"colorscale\":[[0.0,\"#0d0887\"],[0.1111111111111111,\"#46039f\"],[0.2222222222222222,\"#7201a8\"],[0.3333333333333333,\"#9c179e\"],[0.4444444444444444,\"#bd3786\"],[0.5555555555555556,\"#d8576b\"],[0.6666666666666666,\"#ed7953\"],[0.7777777777777778,\"#fb9f3a\"],[0.8888888888888888,\"#fdca26\"],[1.0,\"#f0f921\"]]}],\"heatmap\":[{\"type\":\"heatmap\",\"colorbar\":{\"outlinewidth\":0,\"ticks\":\"\"},\"colorscale\":[[0.0,\"#0d0887\"],[0.1111111111111111,\"#46039f\"],[0.2222222222222222,\"#7201a8\"],[0.3333333333333333,\"#9c179e\"],[0.4444444444444444,\"#bd3786\"],[0.5555555555555556,\"#d8576b\"],[0.6666666666666666,\"#ed7953\"],[0.7777777777777778,\"#fb9f3a\"],[0.8888888888888888,\"#fdca26\"],[1.0,\"#f0f921\"]]}],\"heatmapgl\":[{\"type\":\"heatmapgl\",\"colorbar\":{\"outlinewidth\":0,\"ticks\":\"\"},\"colorscale\":[[0.0,\"#0d0887\"],[0.1111111111111111,\"#46039f\"],[0.2222222222222222,\"#7201a8\"],[0.3333333333333333,\"#9c179e\"],[0.4444444444444444,\"#bd3786\"],[0.5555555555555556,\"#d8576b\"],[0.6666666666666666,\"#ed7953\"],[0.7777777777777778,\"#fb9f3a\"],[0.8888888888888888,\"#fdca26\"],[1.0,\"#f0f921\"]]}],\"contourcarpet\":[{\"type\":\"contourcarpet\",\"colorbar\":{\"outlinewidth\":0,\"ticks\":\"\"}}],\"contour\":[{\"type\":\"contour\",\"colorbar\":{\"outlinewidth\":0,\"ticks\":\"\"},\"colorscale\":[[0.0,\"#0d0887\"],[0.1111111111111111,\"#46039f\"],[0.2222222222222222,\"#7201a8\"],[0.3333333333333333,\"#9c179e\"],[0.4444444444444444,\"#bd3786\"],[0.5555555555555556,\"#d8576b\"],[0.6666666666666666,\"#ed7953\"],[0.7777777777777778,\"#fb9f3a\"],[0.8888888888888888,\"#fdca26\"],[1.0,\"#f0f921\"]]}],\"surface\":[{\"type\":\"surface\",\"colorbar\":{\"outlinewidth\":0,\"ticks\":\"\"},\"colorscale\":[[0.0,\"#0d0887\"],[0.1111111111111111,\"#46039f\"],[0.2222222222222222,\"#7201a8\"],[0.3333333333333333,\"#9c179e\"],[0.4444444444444444,\"#bd3786\"],[0.5555555555555556,\"#d8576b\"],[0.6666666666666666,\"#ed7953\"],[0.7777777777777778,\"#fb9f3a\"],[0.8888888888888888,\"#fdca26\"],[1.0,\"#f0f921\"]]}],\"mesh3d\":[{\"type\":\"mesh3d\",\"colorbar\":{\"outlinewidth\":0,\"ticks\":\"\"}}],\"scatter\":[{\"fillpattern\":{\"fillmode\":\"overlay\",\"size\":10,\"solidity\":0.2},\"type\":\"scatter\"}],\"parcoords\":[{\"type\":\"parcoords\",\"line\":{\"colorbar\":{\"outlinewidth\":0,\"ticks\":\"\"}}}],\"scatterpolargl\":[{\"type\":\"scatterpolargl\",\"marker\":{\"colorbar\":{\"outlinewidth\":0,\"ticks\":\"\"}}}],\"bar\":[{\"error_x\":{\"color\":\"#2a3f5f\"},\"error_y\":{\"color\":\"#2a3f5f\"},\"marker\":{\"line\":{\"color\":\"#E5ECF6\",\"width\":0.5},\"pattern\":{\"fillmode\":\"overlay\",\"size\":10,\"solidity\":0.2}},\"type\":\"bar\"}],\"scattergeo\":[{\"type\":\"scattergeo\",\"marker\":{\"colorbar\":{\"outlinewidth\":0,\"ticks\":\"\"}}}],\"scatterpolar\":[{\"type\":\"scatterpolar\",\"marker\":{\"colorbar\":{\"outlinewidth\":0,\"ticks\":\"\"}}}],\"histogram\":[{\"marker\":{\"pattern\":{\"fillmode\":\"overlay\",\"size\":10,\"solidity\":0.2}},\"type\":\"histogram\"}],\"scattergl\":[{\"type\":\"scattergl\",\"marker\":{\"colorbar\":{\"outlinewidth\":0,\"ticks\":\"\"}}}],\"scatter3d\":[{\"type\":\"scatter3d\",\"line\":{\"colorbar\":{\"outlinewidth\":0,\"ticks\":\"\"}},\"marker\":{\"colorbar\":{\"outlinewidth\":0,\"ticks\":\"\"}}}],\"scattermapbox\":[{\"type\":\"scattermapbox\",\"marker\":{\"colorbar\":{\"outlinewidth\":0,\"ticks\":\"\"}}}],\"scatterternary\":[{\"type\":\"scatterternary\",\"marker\":{\"colorbar\":{\"outlinewidth\":0,\"ticks\":\"\"}}}],\"scattercarpet\":[{\"type\":\"scattercarpet\",\"marker\":{\"colorbar\":{\"outlinewidth\":0,\"ticks\":\"\"}}}],\"carpet\":[{\"aaxis\":{\"endlinecolor\":\"#2a3f5f\",\"gridcolor\":\"white\",\"linecolor\":\"white\",\"minorgridcolor\":\"white\",\"startlinecolor\":\"#2a3f5f\"},\"baxis\":{\"endlinecolor\":\"#2a3f5f\",\"gridcolor\":\"white\",\"linecolor\":\"white\",\"minorgridcolor\":\"white\",\"startlinecolor\":\"#2a3f5f\"},\"type\":\"carpet\"}],\"table\":[{\"cells\":{\"fill\":{\"color\":\"#EBF0F8\"},\"line\":{\"color\":\"white\"}},\"header\":{\"fill\":{\"color\":\"#C8D4E3\"},\"line\":{\"color\":\"white\"}},\"type\":\"table\"}],\"barpolar\":[{\"marker\":{\"line\":{\"color\":\"#E5ECF6\",\"width\":0.5},\"pattern\":{\"fillmode\":\"overlay\",\"size\":10,\"solidity\":0.2}},\"type\":\"barpolar\"}],\"pie\":[{\"automargin\":true,\"type\":\"pie\"}]},\"layout\":{\"autotypenumbers\":\"strict\",\"colorway\":[\"#636efa\",\"#EF553B\",\"#00cc96\",\"#ab63fa\",\"#FFA15A\",\"#19d3f3\",\"#FF6692\",\"#B6E880\",\"#FF97FF\",\"#FECB52\"],\"font\":{\"color\":\"#2a3f5f\"},\"hovermode\":\"closest\",\"hoverlabel\":{\"align\":\"left\"},\"paper_bgcolor\":\"white\",\"plot_bgcolor\":\"#E5ECF6\",\"polar\":{\"bgcolor\":\"#E5ECF6\",\"angularaxis\":{\"gridcolor\":\"white\",\"linecolor\":\"white\",\"ticks\":\"\"},\"radialaxis\":{\"gridcolor\":\"white\",\"linecolor\":\"white\",\"ticks\":\"\"}},\"ternary\":{\"bgcolor\":\"#E5ECF6\",\"aaxis\":{\"gridcolor\":\"white\",\"linecolor\":\"white\",\"ticks\":\"\"},\"baxis\":{\"gridcolor\":\"white\",\"linecolor\":\"white\",\"ticks\":\"\"},\"caxis\":{\"gridcolor\":\"white\",\"linecolor\":\"white\",\"ticks\":\"\"}},\"coloraxis\":{\"colorbar\":{\"outlinewidth\":0,\"ticks\":\"\"}},\"colorscale\":{\"sequential\":[[0.0,\"#0d0887\"],[0.1111111111111111,\"#46039f\"],[0.2222222222222222,\"#7201a8\"],[0.3333333333333333,\"#9c179e\"],[0.4444444444444444,\"#bd3786\"],[0.5555555555555556,\"#d8576b\"],[0.6666666666666666,\"#ed7953\"],[0.7777777777777778,\"#fb9f3a\"],[0.8888888888888888,\"#fdca26\"],[1.0,\"#f0f921\"]],\"sequentialminus\":[[0.0,\"#0d0887\"],[0.1111111111111111,\"#46039f\"],[0.2222222222222222,\"#7201a8\"],[0.3333333333333333,\"#9c179e\"],[0.4444444444444444,\"#bd3786\"],[0.5555555555555556,\"#d8576b\"],[0.6666666666666666,\"#ed7953\"],[0.7777777777777778,\"#fb9f3a\"],[0.8888888888888888,\"#fdca26\"],[1.0,\"#f0f921\"]],\"diverging\":[[0,\"#8e0152\"],[0.1,\"#c51b7d\"],[0.2,\"#de77ae\"],[0.3,\"#f1b6da\"],[0.4,\"#fde0ef\"],[0.5,\"#f7f7f7\"],[0.6,\"#e6f5d0\"],[0.7,\"#b8e186\"],[0.8,\"#7fbc41\"],[0.9,\"#4d9221\"],[1,\"#276419\"]]},\"xaxis\":{\"gridcolor\":\"white\",\"linecolor\":\"white\",\"ticks\":\"\",\"title\":{\"standoff\":15},\"zerolinecolor\":\"white\",\"automargin\":true,\"zerolinewidth\":2},\"yaxis\":{\"gridcolor\":\"white\",\"linecolor\":\"white\",\"ticks\":\"\",\"title\":{\"standoff\":15},\"zerolinecolor\":\"white\",\"automargin\":true,\"zerolinewidth\":2},\"scene\":{\"xaxis\":{\"backgroundcolor\":\"#E5ECF6\",\"gridcolor\":\"white\",\"linecolor\":\"white\",\"showbackground\":true,\"ticks\":\"\",\"zerolinecolor\":\"white\",\"gridwidth\":2},\"yaxis\":{\"backgroundcolor\":\"#E5ECF6\",\"gridcolor\":\"white\",\"linecolor\":\"white\",\"showbackground\":true,\"ticks\":\"\",\"zerolinecolor\":\"white\",\"gridwidth\":2},\"zaxis\":{\"backgroundcolor\":\"#E5ECF6\",\"gridcolor\":\"white\",\"linecolor\":\"white\",\"showbackground\":true,\"ticks\":\"\",\"zerolinecolor\":\"white\",\"gridwidth\":2}},\"shapedefaults\":{\"line\":{\"color\":\"#2a3f5f\"}},\"annotationdefaults\":{\"arrowcolor\":\"#2a3f5f\",\"arrowhead\":0,\"arrowwidth\":1},\"geo\":{\"bgcolor\":\"white\",\"landcolor\":\"#E5ECF6\",\"subunitcolor\":\"white\",\"showland\":true,\"showlakes\":true,\"lakecolor\":\"white\"},\"title\":{\"x\":0.05},\"mapbox\":{\"style\":\"light\"}}},\"scene\":{\"domain\":{\"x\":[0.0,1.0],\"y\":[0.0,1.0]},\"xaxis\":{\"title\":{\"text\":\"x\"}},\"yaxis\":{\"title\":{\"text\":\"y\"}},\"zaxis\":{\"title\":{\"text\":\"z\"}}},\"legend\":{\"title\":{\"text\":\"species\"},\"tracegroupgap\":0},\"margin\":{\"t\":60}},                        {\"responsive\": true}                    ).then(function(){\n",
              "                            \n",
              "var gd = document.getElementById('1af259df-50c3-4ab7-b7d5-53ea2dcb89e0');\n",
              "var x = new MutationObserver(function (mutations, observer) {{\n",
              "        var display = window.getComputedStyle(gd).display;\n",
              "        if (!display || display === 'none') {{\n",
              "            console.log([gd, 'removed!']);\n",
              "            Plotly.purge(gd);\n",
              "            observer.disconnect();\n",
              "        }}\n",
              "}});\n",
              "\n",
              "// Listen for the removal of the full notebook cells\n",
              "var notebookContainer = gd.closest('#notebook-container');\n",
              "if (notebookContainer) {{\n",
              "    x.observe(notebookContainer, {childList: true});\n",
              "}}\n",
              "\n",
              "// Listen for the clearing of the current output cell\n",
              "var outputEl = gd.closest('.output');\n",
              "if (outputEl) {{\n",
              "    x.observe(outputEl, {childList: true});\n",
              "}}\n",
              "\n",
              "                        })                };                            </script>        </div>\n",
              "</body>\n",
              "</html>"
            ]
          },
          "metadata": {}
        }
      ]
    },
    {
      "cell_type": "markdown",
      "source": [
        "PCAをすることでデータの分布を3次元で表すことができました。"
      ],
      "metadata": {
        "id": "gMr0lZnTgLDc"
      }
    },
    {
      "cell_type": "markdown",
      "source": [
        "### 寄与率"
      ],
      "metadata": {
        "id": "BVSCFvyug6LT"
      }
    },
    {
      "cell_type": "markdown",
      "source": [
        "各主成分がどれくらいデータを説明できているのかを表したいときに、  \n",
        "よく使われる指標が**寄与率(explained variance)**です。\n",
        "\n",
        "第n主成分でデータ全体の何%を説明できているか、を見ることができます。"
      ],
      "metadata": {
        "id": "aDCCf2wTg-Sj"
      }
    },
    {
      "cell_type": "markdown",
      "source": [
        "また、寄与率を第1主成分から累積したものを**累積寄与率**といいます。\n",
        "\n",
        "特定の寄与率に達するまでに主成分がいくつ必要かを見るのに使います。"
      ],
      "metadata": {
        "id": "dhPVD5-Kh3vT"
      }
    },
    {
      "cell_type": "markdown",
      "source": [
        "### Pythonで寄与率計算"
      ],
      "metadata": {
        "id": "VzOjPJOmiKmp"
      }
    },
    {
      "cell_type": "markdown",
      "source": [
        "PythonでPCAを実行して、実際に次元を圧縮してみます。\n",
        "\n",
        "その後、累積寄与率をplotし、最適な次元数を求めます。"
      ],
      "metadata": {
        "id": "aXxHmzaMiPg5"
      }
    },
    {
      "cell_type": "markdown",
      "source": [
        "とりあえず最初は、次元数=4としてPCAを行います。"
      ],
      "metadata": {
        "id": "tGGDnYMuiYSC"
      }
    },
    {
      "cell_type": "code",
      "source": [
        "n_components=4\n",
        "pca = PCA(n_components=n_components)\n",
        "pca.fit(x_scaled)"
      ],
      "metadata": {
        "colab": {
          "base_uri": "https://localhost:8080/",
          "height": 75
        },
        "id": "3JPk7zgGgkHj",
        "outputId": "ae8c9652-dc9f-4c6b-91e5-ad1a07f26b40"
      },
      "execution_count": null,
      "outputs": [
        {
          "output_type": "execute_result",
          "data": {
            "text/plain": [
              "PCA(n_components=4)"
            ],
            "text/html": [
              "<style>#sk-container-id-8 {color: black;background-color: white;}#sk-container-id-8 pre{padding: 0;}#sk-container-id-8 div.sk-toggleable {background-color: white;}#sk-container-id-8 label.sk-toggleable__label {cursor: pointer;display: block;width: 100%;margin-bottom: 0;padding: 0.3em;box-sizing: border-box;text-align: center;}#sk-container-id-8 label.sk-toggleable__label-arrow:before {content: \"▸\";float: left;margin-right: 0.25em;color: #696969;}#sk-container-id-8 label.sk-toggleable__label-arrow:hover:before {color: black;}#sk-container-id-8 div.sk-estimator:hover label.sk-toggleable__label-arrow:before {color: black;}#sk-container-id-8 div.sk-toggleable__content {max-height: 0;max-width: 0;overflow: hidden;text-align: left;background-color: #f0f8ff;}#sk-container-id-8 div.sk-toggleable__content pre {margin: 0.2em;color: black;border-radius: 0.25em;background-color: #f0f8ff;}#sk-container-id-8 input.sk-toggleable__control:checked~div.sk-toggleable__content {max-height: 200px;max-width: 100%;overflow: auto;}#sk-container-id-8 input.sk-toggleable__control:checked~label.sk-toggleable__label-arrow:before {content: \"▾\";}#sk-container-id-8 div.sk-estimator input.sk-toggleable__control:checked~label.sk-toggleable__label {background-color: #d4ebff;}#sk-container-id-8 div.sk-label input.sk-toggleable__control:checked~label.sk-toggleable__label {background-color: #d4ebff;}#sk-container-id-8 input.sk-hidden--visually {border: 0;clip: rect(1px 1px 1px 1px);clip: rect(1px, 1px, 1px, 1px);height: 1px;margin: -1px;overflow: hidden;padding: 0;position: absolute;width: 1px;}#sk-container-id-8 div.sk-estimator {font-family: monospace;background-color: #f0f8ff;border: 1px dotted black;border-radius: 0.25em;box-sizing: border-box;margin-bottom: 0.5em;}#sk-container-id-8 div.sk-estimator:hover {background-color: #d4ebff;}#sk-container-id-8 div.sk-parallel-item::after {content: \"\";width: 100%;border-bottom: 1px solid gray;flex-grow: 1;}#sk-container-id-8 div.sk-label:hover label.sk-toggleable__label {background-color: #d4ebff;}#sk-container-id-8 div.sk-serial::before {content: \"\";position: absolute;border-left: 1px solid gray;box-sizing: border-box;top: 0;bottom: 0;left: 50%;z-index: 0;}#sk-container-id-8 div.sk-serial {display: flex;flex-direction: column;align-items: center;background-color: white;padding-right: 0.2em;padding-left: 0.2em;position: relative;}#sk-container-id-8 div.sk-item {position: relative;z-index: 1;}#sk-container-id-8 div.sk-parallel {display: flex;align-items: stretch;justify-content: center;background-color: white;position: relative;}#sk-container-id-8 div.sk-item::before, #sk-container-id-8 div.sk-parallel-item::before {content: \"\";position: absolute;border-left: 1px solid gray;box-sizing: border-box;top: 0;bottom: 0;left: 50%;z-index: -1;}#sk-container-id-8 div.sk-parallel-item {display: flex;flex-direction: column;z-index: 1;position: relative;background-color: white;}#sk-container-id-8 div.sk-parallel-item:first-child::after {align-self: flex-end;width: 50%;}#sk-container-id-8 div.sk-parallel-item:last-child::after {align-self: flex-start;width: 50%;}#sk-container-id-8 div.sk-parallel-item:only-child::after {width: 0;}#sk-container-id-8 div.sk-dashed-wrapped {border: 1px dashed gray;margin: 0 0.4em 0.5em 0.4em;box-sizing: border-box;padding-bottom: 0.4em;background-color: white;}#sk-container-id-8 div.sk-label label {font-family: monospace;font-weight: bold;display: inline-block;line-height: 1.2em;}#sk-container-id-8 div.sk-label-container {text-align: center;}#sk-container-id-8 div.sk-container {/* jupyter's `normalize.less` sets `[hidden] { display: none; }` but bootstrap.min.css set `[hidden] { display: none !important; }` so we also need the `!important` here to be able to override the default hidden behavior on the sphinx rendered scikit-learn.org. See: https://github.com/scikit-learn/scikit-learn/issues/21755 */display: inline-block !important;position: relative;}#sk-container-id-8 div.sk-text-repr-fallback {display: none;}</style><div id=\"sk-container-id-8\" class=\"sk-top-container\"><div class=\"sk-text-repr-fallback\"><pre>PCA(n_components=4)</pre><b>In a Jupyter environment, please rerun this cell to show the HTML representation or trust the notebook. <br />On GitHub, the HTML representation is unable to render, please try loading this page with nbviewer.org.</b></div><div class=\"sk-container\" hidden><div class=\"sk-item\"><div class=\"sk-estimator sk-toggleable\"><input class=\"sk-toggleable__control sk-hidden--visually\" id=\"sk-estimator-id-8\" type=\"checkbox\" checked><label for=\"sk-estimator-id-8\" class=\"sk-toggleable__label sk-toggleable__label-arrow\">PCA</label><div class=\"sk-toggleable__content\"><pre>PCA(n_components=4)</pre></div></div></div></div></div>"
            ]
          },
          "metadata": {},
          "execution_count": 115
        }
      ]
    },
    {
      "cell_type": "markdown",
      "source": [
        "まずは寄与率を取得してみます。"
      ],
      "metadata": {
        "id": "dUqxwa1SikEV"
      }
    },
    {
      "cell_type": "code",
      "source": [
        "pca.explained_variance_ratio_"
      ],
      "metadata": {
        "colab": {
          "base_uri": "https://localhost:8080/"
        },
        "id": "fySfxTIxgsqc",
        "outputId": "b0039b34-c8e9-429f-d406-b0905cacb315"
      },
      "execution_count": null,
      "outputs": [
        {
          "output_type": "execute_result",
          "data": {
            "text/plain": [
              "array([0.72962445, 0.22850762, 0.03668922, 0.00517871])"
            ]
          },
          "metadata": {},
          "execution_count": 116
        }
      ]
    },
    {
      "cell_type": "markdown",
      "source": [
        "第1主成分でデータ全体の約73%を説明できており、  \n",
        "第2主成分でデータ全体の約23%を説明できており、  \n",
        "第3主成分では約4%ほどしかデータを説明できていないということが分かります。"
      ],
      "metadata": {
        "id": "ZgCJTbKBiprk"
      }
    },
    {
      "cell_type": "markdown",
      "source": [
        "次に、累積寄与率をplotします。簡単にできます。"
      ],
      "metadata": {
        "id": "uA3G_iX2i-cJ"
      }
    },
    {
      "cell_type": "code",
      "source": [
        "plt.plot(range(1, n_components+1), np.cumsum(pca.explained_variance_ratio_))\n",
        "plt.xticks(range(1, n_components+1))\n",
        "plt.xlabel('components')\n",
        "plt.ylabel('cumulative explained variance')\n",
        "plt.show()"
      ],
      "metadata": {
        "colab": {
          "base_uri": "https://localhost:8080/",
          "height": 449
        },
        "id": "IZ5DDAxyjDde",
        "outputId": "8ae728f0-78fd-4c85-b43a-deb023b76af8"
      },
      "execution_count": null,
      "outputs": [
        {
          "output_type": "display_data",
          "data": {
            "text/plain": [
              "<Figure size 640x480 with 1 Axes>"
            ],
            "image/png": "[encoded data removed]"
          },
          "metadata": {}
        }
      ]
    },
    {
      "cell_type": "markdown",
      "source": [
        "今回は、次元数が2か3で主成分分析を行うと、データがしっかり説明できそうです。"
      ],
      "metadata": {
        "id": "_lXf16U8kCeB"
      }
    }
  ]
}