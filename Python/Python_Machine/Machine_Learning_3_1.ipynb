{
  "nbformat": 4,
  "nbformat_minor": 0,
  "metadata": {
    "colab": {
      "provenance": [],
      "toc_visible": true,
      "authorship_tag": "ABX9TyOEOdZ08awIh8DeDapwPO0v",
      "include_colab_link": true
    },
    "kernelspec": {
      "name": "python3",
      "display_name": "Python 3"
    },
    "language_info": {
      "name": "python"
    }
  },
  "cells": [
    {
      "cell_type": "markdown",
      "metadata": {
        "id": "view-in-github",
        "colab_type": "text"
      },
      "source": [
        "<a href=\"https://colab.research.google.com/github/kiryu-3/Prmn2023/blob/main/Python/Python_Machine/Machine_Learning_3_1.ipynb\" target=\"_parent\"><img src=\"https://colab.research.google.com/assets/colab-badge.svg\" alt=\"Open In Colab\"/></a>"
      ]
    },
    {
      "cell_type": "markdown",
      "source": [
        "# 機械学習モデルの精度の測り方-知識編"
      ],
      "metadata": {
        "id": "GvwNk1lWacob"
      }
    },
    {
      "cell_type": "code",
      "execution_count": null,
      "metadata": {
        "id": "Scdw4HHaO6g_"
      },
      "outputs": [],
      "source": [
        "# 最初にインポートしてください\n",
        "import numpy as np\n",
        "import pandas as pd\n",
        "import matplotlib.pyplot as plt\n",
        "import seaborn as sns\n",
        "from sklearn.linear_model import LinearRegression\n",
        "from sklearn.metrics import r2_score\n",
        "from sklearn.model_selection import train_test_split\n",
        "from sklearn.datasets import fetch_openml\n",
        "from sklearn.preprocessing import PolynomialFeatures"
      ]
    },
    {
      "cell_type": "markdown",
      "source": [
        "## 汎化性能"
      ],
      "metadata": {
        "id": "7OT5_Fdtz-En"
      }
    },
    {
      "cell_type": "markdown",
      "source": [
        "学習データだけでなく未知のデータに対しても正しく予測できる性能のことを、  \n",
        "**汎化性能**といいます。\n",
        "\n",
        "汎化性能が高いモデルは、**過学習**が起きにくくなります。"
      ],
      "metadata": {
        "id": "iibYj_L5z_Ti"
      }
    },
    {
      "cell_type": "markdown",
      "source": [
        "これらの事項のことは、[カメさんの記事](https://datawokagaku.com/holdout/#i)が参考になります。"
      ],
      "metadata": {
        "id": "YyAjrNeA0fSC"
      }
    },
    {
      "cell_type": "markdown",
      "source": [
        "### hold-out法"
      ],
      "metadata": {
        "id": "09AJbfdr0nPJ"
      }
    },
    {
      "cell_type": "markdown",
      "source": [
        "手元にあるデータセットを学習用とテスト用の二つに分ける手法を**hold-out法**といいます。\n",
        "\n",
        "**学習データ**のみでモデルを構築し、  \n",
        "**テストデータ**（未知のデータとする）で汎化性能を測ります。"
      ],
      "metadata": {
        "id": "1ejOT7R10vic"
      }
    },
    {
      "cell_type": "markdown",
      "source": [
        "ここでは登場していない**検証データ**は、モデルのパラメータの調整に使われます。\n",
        "\n",
        "テストデータはあくまでも最終的な精度を測るためのものとし、途中の精度の評価は検証データに任せることで、  \n",
        "過学習を抑えることができます。"
      ],
      "metadata": {
        "id": "tvoprdk21jg_"
      }
    },
    {
      "cell_type": "markdown",
      "source": [
        "これらの事項のことは、[カメさんの記事](https://datawokagaku.com/holdout/#1_hold-out)が参考になります。"
      ],
      "metadata": {
        "id": "EtvSSwaQ1MOA"
      }
    },
    {
      "cell_type": "markdown",
      "source": [
        "###  LOOCV"
      ],
      "metadata": {
        "id": "M3ZmDP0zcVYf"
      }
    },
    {
      "cell_type": "markdown",
      "source": [
        "LOOCV(Leave-One-Out Cross Validation)では、手元のデータのうち、  \n",
        "一つだけをテストデータとして他の全てを学習データとします。\n",
        "\n",
        "ひとつ以外の全てのデータで学習をしてモデルを作って、そのモデルをたったひとつのデータで評価します。  \n",
        "この作業をデータの数だけ行います（すべてのデータをテストデータになるようにする）。"
      ],
      "metadata": {
        "id": "3xKFX3eBcZc9"
      }
    },
    {
      "cell_type": "markdown",
      "source": [
        "図に表すと以下のような感じです。  \n",
        "（参考：https://shorturl.at/koCDP ）\n",
        "\n",
        "![](https://imgur.com/MFieQ70.png)"
      ],
      "metadata": {
        "id": "EeMrzBWFc1tU"
      }
    },
    {
      "cell_type": "markdown",
      "source": [
        "ほぼ全てのデータを学習データとして使うことができるので、  \n",
        "手元にあるデータを無駄なく使用することができます。\n",
        "\n",
        "また、hold-outとは違い、ランダム性はなく最終的な精度の評価は常に同じになります。"
      ],
      "metadata": {
        "id": "rD_EIunQdNQk"
      }
    },
    {
      "cell_type": "markdown",
      "source": [
        "#### hold-outとLOOCVの比較"
      ],
      "metadata": {
        "id": "wZA-ovIygpDV"
      }
    },
    {
      "cell_type": "markdown",
      "source": [
        "以下に描画したデータで、hold-outとLOOCVを比較してみます。  \n",
        "（正弦関数にノイズを加えたデータ）"
      ],
      "metadata": {
        "id": "Cg5XO-kceIri"
      }
    },
    {
      "cell_type": "code",
      "source": [
        "# ランダムなデータ生成\n",
        "np.random.seed(0)\n",
        "X = np.sort(5 * np.random.rand(80, 1), axis=0)\n",
        "y = np.sin(X).ravel() + np.random.normal(0, 0.3, X.shape[0])\n",
        "\n",
        "# プロット\n",
        "plt.scatter(X, y, s=20, label='Data')"
      ],
      "metadata": {
        "colab": {
          "base_uri": "https://localhost:8080/",
          "height": 447
        },
        "id": "5kvnJqUId8DM",
        "outputId": "e7b7298a-6392-4330-c8dc-0db13eee1c62"
      },
      "execution_count": null,
      "outputs": [
        {
          "output_type": "execute_result",
          "data": {
            "text/plain": [
              "<matplotlib.collections.PathCollection at 0x7c0259f2dc90>"
            ]
          },
          "metadata": {},
          "execution_count": 2
        },
        {
          "output_type": "display_data",
          "data": {
            "text/plain": [
              "<Figure size 640x480 with 1 Axes>"
            ],
            "image/png": "[encoded data removed]"
          },
          "metadata": {}
        }
      ]
    },
    {
      "cell_type": "markdown",
      "source": [
        "まずはhold-outです。  \n",
        "残差の二乗の平均（MSE）を使って精度を測ります。"
      ],
      "metadata": {
        "id": "xc-xn0t4eZ4T"
      }
    },
    {
      "cell_type": "code",
      "source": [
        "X_train, X_test, y_train, y_test = train_test_split(X, y, test_size=0.3, shuffle=True, random_state=0)\n",
        "model = LinearRegression()\n",
        "model.fit(X_train, y_train)\n",
        "y_pred = model.predict(X_test)\n",
        "\n",
        "# evaluate\n",
        "from sklearn.metrics import mean_squared_error\n",
        "mean_squared_error(y_test, y_pred)"
      ],
      "metadata": {
        "colab": {
          "base_uri": "https://localhost:8080/"
        },
        "id": "RfXoxFC1eoIM",
        "outputId": "1647895b-4854-4887-a8f5-90274367f243"
      },
      "execution_count": null,
      "outputs": [
        {
          "output_type": "execute_result",
          "data": {
            "text/plain": [
              "0.3204128619961065"
            ]
          },
          "metadata": {},
          "execution_count": 3
        }
      ]
    },
    {
      "cell_type": "markdown",
      "source": [
        "次はLOOCVです。  \n",
        "同じく、残差の二乗の平均（MSE）を使って精度を測ります。"
      ],
      "metadata": {
        "id": "kqjmrtM_fkgQ"
      }
    },
    {
      "cell_type": "code",
      "source": [
        "# cross_val_score関数を使えば簡単にCVを実行可能\n",
        "from sklearn.model_selection import cross_val_score\n",
        "from sklearn.model_selection import LeaveOneOut\n",
        "cv = LeaveOneOut()\n",
        "scores = cross_val_score(model, X, y, cv=cv, scoring='neg_mean_squared_error')\n",
        "print(f\"MSE(LOOCV):{-np.mean(scores)}\")\n",
        "print(f\"std:{np.std(scores)}\")"
      ],
      "metadata": {
        "colab": {
          "base_uri": "https://localhost:8080/"
        },
        "id": "qx2W5FwFfuTB",
        "outputId": "b623580d-3fa7-484e-c484-43f8d8df6511"
      },
      "execution_count": null,
      "outputs": [
        {
          "output_type": "stream",
          "name": "stdout",
          "text": [
            "MSE(LOOCV):0.3283640221742444\n",
            "std:0.39772340287316765\n"
          ]
        }
      ]
    },
    {
      "cell_type": "markdown",
      "source": [
        "変数`scores`には、80回MSEを計算した結果が入っています。  \n",
        "平均をとると、hold-outに比べて少しだけ値が大きくなりました。"
      ],
      "metadata": {
        "id": "XZtyi8GmgTU_"
      }
    },
    {
      "cell_type": "code",
      "source": [
        "scores"
      ],
      "metadata": {
        "colab": {
          "base_uri": "https://localhost:8080/"
        },
        "id": "NHe66kS6gCWe",
        "outputId": "3cf22b2b-da23-4512-d86b-156ba0b87311"
      },
      "execution_count": null,
      "outputs": [
        {
          "output_type": "execute_result",
          "data": {
            "text/plain": [
              "array([-1.53111915e+00, -2.29205491e+00, -6.09304719e-01, -6.63691684e-01,\n",
              "       -1.26297502e+00, -1.32089505e-01, -5.34555751e-01, -1.81732662e-01,\n",
              "       -3.38892772e-02, -1.01073634e-01, -1.98169968e-03, -4.74997938e-01,\n",
              "       -2.97136339e-02, -2.08480620e-01, -2.11073427e-01, -1.15032449e-01,\n",
              "       -2.86693986e-02, -1.85911929e-03, -5.86553645e-02, -2.01287274e-01,\n",
              "       -1.03292531e-01, -2.52883027e-02, -6.36935815e-01, -9.17966476e-01,\n",
              "       -6.22655698e-01, -1.64492801e-01, -2.95389831e-02, -7.59439542e-01,\n",
              "       -1.84842421e-01, -8.59664271e-01, -3.86381383e-01, -7.14375709e-01,\n",
              "       -4.22071549e-01, -5.51437767e-01, -2.81321946e-01, -1.14226562e+00,\n",
              "       -2.92471951e-01, -3.79434865e-01, -1.11918223e+00, -5.21882451e-03,\n",
              "       -4.36723440e-04, -4.11161526e-01, -2.91866449e-03, -7.78038867e-01,\n",
              "       -1.17362173e-02, -3.16666718e-05, -6.59821968e-01, -3.30665229e-01,\n",
              "       -4.70771671e-01, -1.36789069e-01, -3.39218056e-02, -4.32362402e-01,\n",
              "       -6.27162133e-03, -5.18016925e-02, -6.16379122e-02, -9.69460580e-03,\n",
              "       -1.05177954e-02, -3.39596473e-02, -3.11220814e-04, -2.67763500e-01,\n",
              "       -2.00174724e-02, -1.17955482e-02, -3.51721623e-01, -1.87826723e-01,\n",
              "       -2.76607234e-01, -2.46466671e-02, -4.74925340e-02, -1.08752626e-01,\n",
              "       -4.98512428e-01, -9.34208890e-02, -4.84928125e-01, -2.23541259e-01,\n",
              "       -4.24299257e-01, -4.48828463e-02, -5.83049733e-02, -2.00861508e-01,\n",
              "       -5.09669746e-02, -4.81891450e-01, -6.63833472e-01, -3.16884476e-02])"
            ]
          },
          "metadata": {},
          "execution_count": 5
        }
      ]
    },
    {
      "cell_type": "markdown",
      "source": [
        "#### LOOCVの欠点"
      ],
      "metadata": {
        "id": "L3itVGkBgv4d"
      }
    },
    {
      "cell_type": "markdown",
      "source": [
        "LOOCVには、**非常にコストがかかる**という欠点があります。  \n",
        "\n",
        "データ数が多い場合や、一つのモデルを構築するのに時間がかかる場合は  \n",
        "現実的ではありません。"
      ],
      "metadata": {
        "id": "9XEiHFPBgz-Z"
      }
    },
    {
      "cell_type": "markdown",
      "source": [
        "### k-Fold Cross Validation"
      ],
      "metadata": {
        "id": "wpg2ecz_hD3n"
      }
    },
    {
      "cell_type": "markdown",
      "source": [
        "k-Fold Cross Validation（k-Fold交差検証）は、hold-outとLOOCVの中間的な手法です。  \n",
        "実際の業務では最も使われる汎化性能の測定手法のようです。"
      ],
      "metadata": {
        "id": "yumOwyJMhMYM"
      }
    },
    {
      "cell_type": "markdown",
      "source": [
        "k-Fold Cross Validationは、手元のデータをk個のグループに分割して、  \n",
        "k個のうちひとつのグループをテストデータとして、残りのデータを学習データとします。\n",
        "\n",
        "それを全てのグループがテストデータになるようk回繰り返します。"
      ],
      "metadata": {
        "id": "twZTq9lKhfVk"
      }
    },
    {
      "cell_type": "markdown",
      "source": [
        "図に表すと以下のような感じです。  \n",
        "（参考：https://shorturl.at/koCDP ）\n",
        "\n",
        "![](https://imgur.com/OKbLt2J.png)"
      ],
      "metadata": {
        "id": "7LtWG-GEhuXc"
      }
    },
    {
      "cell_type": "markdown",
      "source": [
        "データを5分割して、それぞれのグループをテストデータ、  \n",
        "それ以外のデータを学習データにしてモデルを構築し精度を測ります。\n",
        "\n",
        "これを5回繰り返すので5つの結果がでます。  \n",
        "それを平均した値を最終的な精度の結果とします。"
      ],
      "metadata": {
        "id": "UK_ohvrkiyka"
      }
    },
    {
      "cell_type": "markdown",
      "source": [
        "#### k-Fold CVの実装"
      ],
      "metadata": {
        "id": "gHkSP5-gjI8o"
      }
    },
    {
      "cell_type": "code",
      "source": [
        "from sklearn.model_selection import KFold, RepeatedKFold\n",
        "k = 5\n",
        "cv = KFold(n_splits=k, shuffle=True, random_state=0)\n",
        "scores = cross_val_score(model, X, y, cv=cv, scoring='neg_mean_squared_error')\n",
        "print(f\"MSE({k}FoldCV): {-np.mean(scores)}\")\n",
        "print(f\"std: {np.std(scores)}\")"
      ],
      "metadata": {
        "colab": {
          "base_uri": "https://localhost:8080/"
        },
        "id": "h1BU5HWzjgEL",
        "outputId": "7f609875-392f-4f04-d7c2-9c8ad22de20f"
      },
      "execution_count": null,
      "outputs": [
        {
          "output_type": "stream",
          "name": "stdout",
          "text": [
            "MSE(5FoldCV): 0.32945649960710216\n",
            "std: 0.08663082566094932\n"
          ]
        }
      ]
    },
    {
      "cell_type": "code",
      "source": [
        "scores"
      ],
      "metadata": {
        "colab": {
          "base_uri": "https://localhost:8080/"
        },
        "id": "QOsRlKkzjt6Q",
        "outputId": "608e9f9c-f92b-4a5a-d0ce-e4d069cfe3da"
      },
      "execution_count": null,
      "outputs": [
        {
          "output_type": "execute_result",
          "data": {
            "text/plain": [
              "array([-0.31287082, -0.33157918, -0.44127452, -0.38078558, -0.18077239])"
            ]
          },
          "metadata": {},
          "execution_count": 10
        }
      ]
    },
    {
      "cell_type": "markdown",
      "source": [
        "よく使われるのは**k=5**と**k=10**のようです。"
      ],
      "metadata": {
        "id": "siaNjlSDnKn8"
      }
    },
    {
      "cell_type": "markdown",
      "source": [
        "#### Repeated k-Fold CV"
      ],
      "metadata": {
        "id": "jm_lfBkSmLlU"
      }
    },
    {
      "cell_type": "markdown",
      "source": [
        "k-Fold CVの際のグループ分けはランダムに行われるので、実行するたびに評価値は変化します。\n",
        "\n",
        "そのため、k-Fold CVを何回か行い、すべての平均を取ることで  \n",
        "よりランダム性を排除して精度の評価を行うことができます。"
      ],
      "metadata": {
        "id": "IQqIVuPLmXBb"
      }
    },
    {
      "cell_type": "markdown",
      "source": [
        "以下のコードでは、データを5つのグループに分けて、  \n",
        "それぞれのグループをテストデータとして学習させる処理を行っています。\n",
        "\n",
        "グループ分けを3回繰り返すことで、計15回の学習・評価を行うことになります。"
      ],
      "metadata": {
        "id": "QF42AKYLW-Vg"
      }
    },
    {
      "cell_type": "code",
      "source": [
        "# データを5つのグループに分ける\n",
        "k = 5\n",
        "\n",
        "# 3回グループ分けを行う\n",
        "n_repeats = 3\n",
        "\n",
        "# 15回学習を行う\n",
        "cv = RepeatedKFold(n_splits=k, n_repeats=n_repeats, random_state=0)\n",
        "\n",
        "# 15回分MSEを求める\n",
        "scores = cross_val_score(model, X, y, cv=cv, scoring='r2')\n",
        "\n",
        "# MSEの平均と標準偏差を求める\n",
        "print(f\"R2({k}FoldCV): {np.mean(scores)}\")\n",
        "print(f\"std: {np.std(scores)}\")"
      ],
      "metadata": {
        "colab": {
          "base_uri": "https://localhost:8080/"
        },
        "id": "-ItXXUjfl29U",
        "outputId": "39490441-4d1d-4cd3-c14d-63393d516c5f"
      },
      "execution_count": null,
      "outputs": [
        {
          "output_type": "stream",
          "name": "stdout",
          "text": [
            "MSE(5FoldCV): 0.3239604038024636\n",
            "std: 0.0758961988723844\n"
          ]
        }
      ]
    },
    {
      "cell_type": "code",
      "source": [
        "scores"
      ],
      "metadata": {
        "colab": {
          "base_uri": "https://localhost:8080/"
        },
        "id": "eykjnZPNl821",
        "outputId": "db34248c-c483-48c1-f257-736b9c994cab"
      },
      "execution_count": null,
      "outputs": [
        {
          "output_type": "execute_result",
          "data": {
            "text/plain": [
              "array([-0.31287082, -0.33157918, -0.44127452, -0.38078558, -0.18077239,\n",
              "       -0.34617531, -0.22898302, -0.40298118, -0.20351565, -0.41348086,\n",
              "       -0.29918205, -0.25180391, -0.34250117, -0.38847282, -0.33502759])"
            ]
          },
          "metadata": {},
          "execution_count": 12
        }
      ]
    },
    {
      "cell_type": "markdown",
      "source": [
        "引数`scoring`の値を変えると、ほかの評価指標を使うことができます。\n",
        "\n",
        "- **MSE**：'neg_mean_squared_error'\n",
        "- **MAE**：'neg_mean_absolute_error'\n",
        "- **RMSE**：直接はサポートされていない（MSEの平方根を取る）\n",
        "- **決定係数**：'r2'"
      ],
      "metadata": {
        "id": "v4DXa91JaV_t"
      }
    },
    {
      "cell_type": "markdown",
      "source": [
        "## 回帰モデルの評価指標"
      ],
      "metadata": {
        "id": "nOe0s5W1k_Lm"
      }
    },
    {
      "cell_type": "markdown",
      "source": [
        "回帰モデルでよく使われる評価指標についてまとめます。\n",
        "\n",
        "以下の線形回帰モデルの評価を行います。"
      ],
      "metadata": {
        "id": "t8Z3-kDTnvZi"
      }
    },
    {
      "cell_type": "code",
      "source": [
        "# ランダムなデータ生成\n",
        "np.random.seed(0)\n",
        "X = np.sort(5 * np.random.rand(80, 1), axis=0)\n",
        "y = np.sin(X).ravel() + np.random.normal(0, 0.3, X.shape[0])\n",
        "\n",
        "# プロット用のデータ\n",
        "X_plot = np.linspace(0, 5, 100)[:, np.newaxis]\n",
        "\n",
        "# 直線回帰\n",
        "linear_model = LinearRegression()\n",
        "linear_model.fit(X, y)\n",
        "y_linear_pred = linear_model.predict(X_plot)\n",
        "\n",
        "# プロット\n",
        "plt.scatter(X, y, s=20, label='Data')\n",
        "plt.plot(X_plot, y_linear_pred, color='b', label='Linear Regression')\n",
        "plt.xlabel('X')\n",
        "plt.ylabel('y')\n",
        "plt.title('Regression Examples')\n",
        "plt.legend()\n",
        "plt.show()"
      ],
      "metadata": {
        "colab": {
          "base_uri": "https://localhost:8080/",
          "height": 472
        },
        "id": "JwHFb5L7o0Ae",
        "outputId": "ff198ad1-147a-43ac-cf96-f7e28ae50faa"
      },
      "execution_count": null,
      "outputs": [
        {
          "output_type": "display_data",
          "data": {
            "text/plain": [
              "<Figure size 640x480 with 1 Axes>"
            ],
            "image/png": "[encoded data removed]"
          },
          "metadata": {}
        }
      ]
    },
    {
      "cell_type": "code",
      "source": [
        "X_train, X_test, y_train, y_test = train_test_split(X, y, test_size=0.3, shuffle=True, random_state=0)\n",
        "\n",
        "model = LinearRegression()\n",
        "model.fit(X_train, y_train)\n",
        "y_pred = model.predict(X_test)"
      ],
      "metadata": {
        "id": "m46mvwvwrMX6"
      },
      "execution_count": null,
      "outputs": []
    },
    {
      "cell_type": "markdown",
      "source": [
        "### MSE"
      ],
      "metadata": {
        "id": "saihhtq7oBmA"
      }
    },
    {
      "cell_type": "markdown",
      "source": [
        "**MSE(Mean Squared Error)**は、残差の二乗の平均です。\n",
        "\n",
        "二乗しているので、指標の解釈がしづらいという欠点があります。"
      ],
      "metadata": {
        "id": "aX5y2sPAoDpA"
      }
    },
    {
      "cell_type": "markdown",
      "source": [
        "$\\hat{y}_i = \\theta_1x_{i1} + \\theta_2x_{i2} + … + \\theta_nx_{in}$　のとき、\n",
        "\n",
        "$$\n",
        "MSE = \\frac{1}{m}\\sum^{m}_{i=1}({y_i-\\hat{y}_i)^2}\n",
        "$$"
      ],
      "metadata": {
        "id": "fgMpGsbNoYXp"
      }
    },
    {
      "cell_type": "code",
      "source": [
        "# evaluate\n",
        "mean_squared_error(y_test, y_pred)"
      ],
      "metadata": {
        "colab": {
          "base_uri": "https://localhost:8080/"
        },
        "id": "5RfmKmSDrGC6",
        "outputId": "797692cd-5313-4e78-d939-9e0e46df02da"
      },
      "execution_count": null,
      "outputs": [
        {
          "output_type": "execute_result",
          "data": {
            "text/plain": [
              "0.3204128619961065"
            ]
          },
          "metadata": {},
          "execution_count": 24
        }
      ]
    },
    {
      "cell_type": "markdown",
      "source": [
        "### RMSE"
      ],
      "metadata": {
        "id": "6__W1cXOpV2X"
      }
    },
    {
      "cell_type": "markdown",
      "source": [
        "**RMSE(Root Mean Squared Error)**は平方根をしたものになります。\n",
        "\n",
        "目的変数の単位と一致しているので、解釈がしやすいという特徴があります。\n"
      ],
      "metadata": {
        "id": "uJMn9d9WpXkf"
      }
    },
    {
      "cell_type": "markdown",
      "source": [
        "$\\hat{y}_i = \\theta_1x_{i1} + \\theta_2x_{i2} + … + \\theta_nx_{in}$　のとき、\n",
        "\n",
        "$$\n",
        "RMSE=\\sqrt{\\frac{1}{m}\\sum^{m}_{i=1}(y_i-\\hat{y_i})^2}\n",
        "$$"
      ],
      "metadata": {
        "id": "zXocwrsppkqg"
      }
    },
    {
      "cell_type": "code",
      "source": [
        "# evaluate\n",
        "mean_squared_error(y_test, y_pred, squared=False)"
      ],
      "metadata": {
        "colab": {
          "base_uri": "https://localhost:8080/"
        },
        "id": "5FCqTBsEpsvP",
        "outputId": "f97b6ecc-a4b5-405a-a526-9fb006e9a670"
      },
      "execution_count": null,
      "outputs": [
        {
          "output_type": "execute_result",
          "data": {
            "text/plain": [
              "0.566050229216548"
            ]
          },
          "metadata": {},
          "execution_count": 25
        }
      ]
    },
    {
      "cell_type": "markdown",
      "source": [
        "### MAE"
      ],
      "metadata": {
        "id": "zHJ32dlpp2Ws"
      }
    },
    {
      "cell_type": "markdown",
      "source": [
        "**MAE(Mean Absolute Error)**は、残差の絶対値の平均になります。\n",
        "\n",
        "MSEやRMSEに比べて、大きい残差の影響力が小さくなります。"
      ],
      "metadata": {
        "id": "ATgZLEClp-1d"
      }
    },
    {
      "cell_type": "markdown",
      "source": [
        "$\\hat{y}_i = \\theta_1x_{i1} + \\theta_2x_{i2} + … + \\theta_nx_{in}$　のとき、\n",
        "\n",
        "$$\n",
        "MAE=\\frac{1}{m}\\sum^{m}_{i=1}|y_i-\\hat{y_i}|\n",
        "$$"
      ],
      "metadata": {
        "id": "hBNmSyj2qP9E"
      }
    },
    {
      "cell_type": "code",
      "source": [
        "from sklearn.metrics import mean_absolute_error\n",
        "mean_absolute_error(y_test, y_pred)"
      ],
      "metadata": {
        "colab": {
          "base_uri": "https://localhost:8080/"
        },
        "id": "ZEc8GOlcqNrz",
        "outputId": "88eda8c7-74a1-4595-b7b8-404837ae11f2"
      },
      "execution_count": null,
      "outputs": [
        {
          "output_type": "execute_result",
          "data": {
            "text/plain": [
              "0.49141489997720145"
            ]
          },
          "metadata": {},
          "execution_count": 26
        }
      ]
    },
    {
      "cell_type": "markdown",
      "source": [
        "### 決定係数"
      ],
      "metadata": {
        "id": "pG6D8mMN8UUb"
      }
    },
    {
      "cell_type": "markdown",
      "source": [
        "「説明変数がどれだけ目的変数の値を説明しているかの指標」を**決定係数**といいます。\n",
        "\n",
        "一般的に$R^2$で示され、0から1までの値をとります。  \n",
        "1に近いほど、回帰式が実際のデータに当てはまっていることを表しています。\n",
        "\n",
        "基準の目安は以下の通りです。  \n",
        "（参考：https://istat.co.jp/ta_commentary/multiple_02 ）\n",
        "\n",
        "* **0.8以上**：精度良い\n",
        "* **0.5~0.8**：精度やや良い\n",
        "* **0.5以下**：精度良くない\n"
      ],
      "metadata": {
        "id": "5mHsn1Ln1Ue6"
      }
    },
    {
      "cell_type": "markdown",
      "source": [
        "#### 決定係数の定義"
      ],
      "metadata": {
        "id": "_CzPjeCf-vwx"
      }
    },
    {
      "cell_type": "markdown",
      "source": [
        "![リンクテキスト](https://imgur.com/gsoWMOU.png)\n",
        "\n",
        "①：全変動：実測値とデータ全体の平均値との差  \n",
        "②：回帰変動：予測値とデータ全体の平均値との差  \n",
        "③：残差変動：実測値と予測値との差\n",
        "\n",
        "②の回帰変動は「回帰直線によって説明できた部分」、  \n",
        "③の残差変動は「回帰直線によって説明できなかった部分」となります。"
      ],
      "metadata": {
        "id": "YHY8LonA_Lpg"
      }
    },
    {
      "cell_type": "markdown",
      "source": [
        "（[こちら](https://bit.ly/3XZs1IQ)などに書かれている証明によって）以下の式が成り立ちます。\n",
        "\n",
        "$$\n",
        "\\sum (y_i-\\bar{y})^2 = \\sum(\\hat{y}_i-\\bar{y})^2 + \\sum(y_i-\\hat{y}_i)^2\n",
        "$$\n",
        "\n"
      ],
      "metadata": {
        "id": "6NN6LEsKAQqn"
      }
    },
    {
      "cell_type": "markdown",
      "source": [
        "決定係数は「回帰変動が全変動に対してどれだけ多いか」を表すものなので、  \n",
        "決定係数は回帰変動を全変動で割ることで求められます。\n",
        "\n",
        "$$\n",
        "R^2 = \\frac{\\sum(\\hat{y}_i-\\bar{y})^2}{\\sum (y_i-\\bar{y})^2} = 1-\\frac{\\sum(y_i-\\hat{y}_i)^2}{\\sum (y_i-\\bar{y})^2}\n",
        "$$"
      ],
      "metadata": {
        "id": "oR6QQwHgBuWD"
      }
    },
    {
      "cell_type": "code",
      "source": [
        "print('訓練データに対する決定係数：', model.score(X_train, y_train))\n",
        "print('テストデータに対する決定係数：', model.score(X_test, y_test))"
      ],
      "metadata": {
        "id": "wd81pnQUraFT",
        "outputId": "31f0d2bd-8e49-40c9-d596-6322a3279aeb",
        "colab": {
          "base_uri": "https://localhost:8080/"
        }
      },
      "execution_count": null,
      "outputs": [
        {
          "output_type": "stream",
          "name": "stdout",
          "text": [
            "訓練データに対する決定係数： 0.39273934181526227\n",
            "テストデータに対する決定係数： 0.5214728434063867\n"
          ]
        }
      ]
    }
  ]
}