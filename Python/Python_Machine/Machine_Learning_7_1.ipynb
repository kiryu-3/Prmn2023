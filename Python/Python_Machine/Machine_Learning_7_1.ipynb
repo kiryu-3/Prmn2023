{
  "nbformat": 4,
  "nbformat_minor": 0,
  "metadata": {
    "colab": {
      "provenance": [],
      "toc_visible": true,
      "authorship_tag": "ABX9TyMewy+E3qD+I+GDxJ208Zv2",
      "include_colab_link": true
    },
    "kernelspec": {
      "name": "python3",
      "display_name": "Python 3"
    },
    "language_info": {
      "name": "python"
    }
  },
  "cells": [
    {
      "cell_type": "markdown",
      "metadata": {
        "id": "view-in-github",
        "colab_type": "text"
      },
      "source": [
        "<a href=\"https://colab.research.google.com/github/kiryu-3/Prmn2023/blob/main/Python/Python_Machine/Machine_Learning_7_1.ipynb\" target=\"_parent\"><img src=\"https://colab.research.google.com/assets/colab-badge.svg\" alt=\"Open In Colab\"/></a>"
      ]
    },
    {
      "cell_type": "markdown",
      "source": [
        "# 多値分類ー知識編"
      ],
      "metadata": {
        "id": "3JB9kxUhNfJr"
      }
    },
    {
      "cell_type": "code",
      "execution_count": null,
      "metadata": {
        "id": "LCCwrOamOxEq"
      },
      "outputs": [],
      "source": [
        "# 最初にインポートしてください\n",
        "import numpy as np\n",
        "import pandas as pd\n",
        "import matplotlib.pyplot as plt\n",
        "import seaborn as sns\n",
        "from sklearn.linear_model import Ridge, Lasso, LinearRegression, LogisticRegression\n",
        "from sklearn.metrics import mean_squared_error, r2_score, log_loss\n",
        "from sklearn.model_selection import KFold, RepeatedKFold, cross_val_score\n",
        "from sklearn.model_selection import train_test_split\n",
        "from sklearn.datasets import fetch_openml\n",
        "from sklearn.preprocessing import StandardScaler, PolynomialFeatures\n",
        "from sklearn.neighbors import KNeighborsRegressor\n",
        "from sklearn.pipeline import Pipeline\n",
        "import statsmodels.api as sma"
      ]
    },
    {
      "cell_type": "markdown",
      "source": [
        "## 多値分類"
      ],
      "metadata": {
        "id": "FSq9uCYSJBXZ"
      }
    },
    {
      "cell_type": "markdown",
      "source": [
        "目的変数を3つ以上の値として扱う分類アルゴリズムを、**多値分類**といいます。\n",
        "\n",
        "通常のロジスティック回帰は二値分類にしか対応していないため、   \n",
        "多クラス分類に応用するには工夫が必要です。\n",
        "\n"
      ],
      "metadata": {
        "id": "CmhFVNEAJDpQ"
      }
    },
    {
      "cell_type": "markdown",
      "source": [
        "## OnevsRest"
      ],
      "metadata": {
        "id": "y4Bz7o7IWnVV"
      }
    },
    {
      "cell_type": "markdown",
      "source": [
        "多値分類を行うための一つの方法が、**One vs Rest(OvR)**です。\n",
        "\n",
        "一つのクラスとそれ以外の全クラスの二値分類器を、  \n",
        "クラスの数だけ作って最終的に多値分類にするやり方になります。"
      ],
      "metadata": {
        "id": "4QHJBKrNWtAM"
      }
    },
    {
      "cell_type": "markdown",
      "source": [
        "下の例の場合、三つの分類器の結果のうち最も高い確率のクラスを予測結果とします。  \n",
        "\n",
        "\n",
        "（参考：https://shorturl.at/iqF01 ）\n",
        "\n",
        "![](https://imgur.com/idrfO9b.png)"
      ],
      "metadata": {
        "id": "0i_PtfsZYk_g"
      }
    },
    {
      "cell_type": "markdown",
      "source": [
        "\n",
        "- ロジスティック回帰に限らず、他のモデルでも使われる最も一般的な手法である\n",
        "- データ数が多かったり、\n",
        "モデル構築にコストがかかる場合は、あまり好まれない"
      ],
      "metadata": {
        "id": "4xAqXl5mc3or"
      }
    },
    {
      "cell_type": "markdown",
      "source": [
        "## 多項ロジスティック回帰"
      ],
      "metadata": {
        "id": "OFa0lPgfhWxH"
      }
    },
    {
      "cell_type": "markdown",
      "source": [
        "多値分類を行うためのもう一つの方法が、**多項ロジスティック回帰(Multinomial logistic regression)**です。\n",
        "\n",
        "ロジスティック回帰の損失関数を、多クラスにも適用できるように変更したやり方になります。  \n",
        "一度の学習で多クラスに対応するモデルを構築可能です。\n"
      ],
      "metadata": {
        "id": "_rzvTCWShbQt"
      }
    },
    {
      "cell_type": "markdown",
      "source": [
        "以下のように応用していくことになります。\n",
        "\n",
        "- 目的変数のエンコーディング\n",
        "- シグモイド関数 → ソフトマックス関数\n",
        "- 損失関数の多クラス対応"
      ],
      "metadata": {
        "id": "xzZGiVZsi3T7"
      }
    },
    {
      "cell_type": "markdown",
      "source": [
        "### 目的変数のエンコーディング"
      ],
      "metadata": {
        "id": "WEKDNcTDjBI5"
      }
    },
    {
      "cell_type": "markdown",
      "source": [
        "カテゴリーのとりうる値の数だけを0と1で構成するベクトルを  \n",
        "**one-hot ベクトル(one-hot encoded vector)**といいます。\n",
        "\n",
        "このベクトルを使って、そのカテゴリーだけを1(hot)で表す処理を行います（**one-hot エンコード**）。\n"
      ],
      "metadata": {
        "id": "8UZOXH-OXUPq"
      }
    },
    {
      "cell_type": "markdown",
      "source": [
        "多値分類では、二値分類のように目的変数を0,1,2...のようなラベル付けをしません。\n",
        "\n",
        "単純に数値化できないので、目的変数のone-hot エンコーディングが必要になるわけです。"
      ],
      "metadata": {
        "id": "7sRyFd40mNdp"
      }
    },
    {
      "cell_type": "markdown",
      "source": [
        "以下の図のようなイメージです。\n",
        "\n",
        "![](https://imgur.com/yiMEC8E.png)\n",
        "\n",
        "説明変数ではなく目的変数のエンコーディングなので、ダミー変数トラップを意識する必要はありません。"
      ],
      "metadata": {
        "id": "2yxtxzKpla87"
      }
    },
    {
      "cell_type": "markdown",
      "source": [
        "数式で表す場合、以下のように定義できます。\n",
        "- $i$：$i$番目のデータ\n",
        "- $k$：$k$番目のクラス\n",
        "\n",
        "$$\n",
        "\\begin{equation}\n",
        "t_{ik}=\\left\\{\n",
        "\\begin{aligned}\n",
        "1 \\qquad\\text{if}\\:y_i=k\\\\\n",
        "0 \\qquad\\text{if}\\:y_i\\neq k\\\\\n",
        "\\end{aligned}\n",
        "\\right.\n",
        "\\end{equation}\n",
        "$$"
      ],
      "metadata": {
        "id": "uQXlDtljmsOO"
      }
    },
    {
      "cell_type": "markdown",
      "source": [
        "### ソフトマックス関数"
      ],
      "metadata": {
        "id": "pHhbQuSnm9UH"
      }
    },
    {
      "cell_type": "markdown",
      "source": [
        "二値分類ではシグモイド関数を使っていましたが、  \n",
        "多値分類では**ソフトマックス関数(softmax function)**を使います。"
      ],
      "metadata": {
        "id": "-lpsxQWVnGX9"
      }
    },
    {
      "cell_type": "markdown",
      "source": [
        "数式は以下の形になります。\n",
        "\n",
        "$$\n",
        "p_k(x_i)=\\frac{e^{x_i}}{e^{x_1}+e^{x_2}+\\cdots+e^{x_K}}=\\frac{e^{x_i}}{\\sum_{k=1}^{K}e^{x_k}}\n",
        "$$\n",
        "\n",
        "$K$はクラス数です。  \n",
        "この値は、各クラスの出現確率として扱うことができます。"
      ],
      "metadata": {
        "id": "qIssE675seIF"
      }
    },
    {
      "cell_type": "markdown",
      "source": [
        "$K=2$, $x_2=0$とすると、シグモイド関数の形と同じになります。\n",
        "\n",
        "このことから、ソフトマックス関数はシグモイド関数を一般化したものであるといえます。\n"
      ],
      "metadata": {
        "id": "su1B92WHsoEh"
      }
    },
    {
      "cell_type": "markdown",
      "source": [
        "特徴量が一つの場合、$x_k$は線形回帰モデルの出力結果なので、$\\theta^k_0+\\theta_1^kx$の形をとります。\n",
        "\n",
        "ソフトマックス関数に代入すると以下のようになります。\n",
        "\n",
        "$$\n",
        "p_k(x_i)=\\frac{e^{\\theta^i_0+\\theta_1^ix}}{\\sum_{k=1}^{K}e^{\\theta^k_0+\\theta_1^kx}}\n",
        "$$\n",
        "\n"
      ],
      "metadata": {
        "id": "HEOPlz8mtmcW"
      }
    },
    {
      "cell_type": "markdown",
      "source": [
        "ソフトマックス関数を使えば、どんな値でも最終的に確率の形にすることができます。\n",
        "\n",
        "![](https://imgur.com/yPL6efV.png)\n",
        "\n",
        "単純にそれぞれの割合を計算しているわけではないことに注意してください。  \n",
        "指数関数をとっていることが重要です。"
      ],
      "metadata": {
        "id": "skwygVPrxcno"
      }
    },
    {
      "cell_type": "markdown",
      "source": [
        "### 損失関数"
      ],
      "metadata": {
        "id": "6tHgssxGyARn"
      }
    },
    {
      "cell_type": "markdown",
      "source": [
        "多項ロジスティック回帰における損失関数は、  \n",
        "**交差エントロピー**を多クラス対応できるように一般化したものになります。"
      ],
      "metadata": {
        "id": "Z4kpLjtYyzYt"
      }
    },
    {
      "cell_type": "markdown",
      "source": [
        "\n",
        "\n",
        "データ$i$における損失を$Cost(p(x_i), y_i)$とすると、  \n",
        "交差エントロピーは以下のように表されます。\n",
        "\n",
        "$$\n",
        "\\begin{equation}\n",
        "Cost(p(x_i), y_i)=\\left\\{\n",
        "\\begin{aligned}\n",
        "-log(p(x_i)) & \\qquad\\text{if}\\:y_i=1\\\\\n",
        "-log(1-p(x_i)) & \\qquad\\text{if}\\:y_i=0\\\\\n",
        "\\end{aligned}\n",
        "\\right.\n",
        "\\end{equation}\n",
        "$$\n"
      ],
      "metadata": {
        "id": "bgoTLAuqzbN0"
      }
    },
    {
      "cell_type": "markdown",
      "source": [
        "これは二値分類を前提にしています。  \n",
        "代わりに$t_{ik}$を使います。\n",
        "\n",
        "$$\n",
        "\\begin{equation}\n",
        "t_{ik}=\\left\\{\n",
        "\\begin{aligned}\n",
        "1 \\qquad\\text{if}\\:y_i=k\\\\\n",
        "0 \\qquad\\text{if}\\:y_i\\neq k\\\\\n",
        "\\end{aligned}\n",
        "\\right.\n",
        "\\end{equation}\n",
        "$$"
      ],
      "metadata": {
        "id": "cKy9HXfDzcSD"
      }
    },
    {
      "cell_type": "markdown",
      "source": [
        "これを使って、多値分類の損失を表現すると以下のようになります。\n",
        "\n",
        "$$\n",
        "Cost(p(x_i), y_i)=-t_{ik}log(p_k(x_i))\n",
        "$$"
      ],
      "metadata": {
        "id": "l6QqDXMh1Cvt"
      }
    },
    {
      "cell_type": "markdown",
      "source": [
        "二値分類のときと同様、正解ラベル以外の出力結果は損失としてカウントしません。\n",
        "\n",
        "![](https://imgur.com/7A1pStl.png)"
      ],
      "metadata": {
        "id": "ser7Rh1l3n05"
      }
    },
    {
      "cell_type": "markdown",
      "source": [
        "この損失をすべてのデータで平均（あるいは合計）を  \n",
        "取ったものが損失関数になります。\n",
        "\n",
        "$$\n",
        "L(\\theta)=\\frac{1}{m}\\sum^{m}_{i=1}Cost(p(x_i), y_i)=-\\frac{1}{m}\\sum^{m}_{i=1}\\sum^{K}_{k=1}t_{ik}log(p_k(x_i))\n",
        "$$\n",
        "\n",
        "- $\\theta=\\theta_0, \\theta_1\\cdots\\theta_n$\n",
        "- $i$：〇番目のデータ\n",
        "- $m$：データの総数\n",
        "- $K$：クラス数\n"
      ],
      "metadata": {
        "id": "h9a8GSzJ4Tue"
      }
    },
    {
      "cell_type": "markdown",
      "source": [
        "### パラメータの最適化"
      ],
      "metadata": {
        "id": "A1pSrFbeZVIb"
      }
    },
    {
      "cell_type": "markdown",
      "source": [
        "**最急降下法**は、最も急になる方向に少しずつパラメータを動かして最適解を探る方法です。\n",
        "\n",
        "機械学習ではこのように、パラメータを徐々に最適解に近づけていくことを  \n",
        "**「学習する」**といいます。"
      ],
      "metadata": {
        "id": "PeCjIJyzZl3A"
      }
    },
    {
      "cell_type": "markdown",
      "source": [
        "線形回帰のときと同様、$L(\\theta)$のパラメータを以下の式で同時に更新していきます。"
      ],
      "metadata": {
        "id": "942awQfSZe8m"
      }
    },
    {
      "cell_type": "markdown",
      "source": [
        "$$\n",
        "\\theta_0 := \\theta_0 – \\alpha\\frac{\\partial}{\\partial\\theta_0}L(\\theta)\n",
        "$$\n",
        "\n",
        "$$\n",
        "\\theta_1 := \\theta_1 – \\alpha\\frac{\\partial}{\\partial\\theta_1}L(\\theta)\n",
        "$$\n",
        "\n",
        "$$\n",
        "・\n",
        "$$\n",
        "$$  \n",
        "・  \n",
        "$$\n",
        "$$  \n",
        "・  \n",
        "$$\n",
        "\n",
        "$$\n",
        "\\theta_n := \\theta_n – \\alpha\\frac{\\partial}{\\partial\\theta_n}L(\\theta)\n",
        "$$"
      ],
      "metadata": {
        "id": "CNgSdINKVssn"
      }
    },
    {
      "cell_type": "markdown",
      "source": [
        "微分において、一旦シグマは置いて考えます。\n",
        "\n",
        "$$\n",
        "E = -t_{ik}log(p_k(x_i))\n",
        "$$"
      ],
      "metadata": {
        "id": "x4qhZneI98t1"
      }
    },
    {
      "cell_type": "markdown",
      "source": [
        "また、$j$番目の入力$\\theta_0+\\theta_{1}x_{1}+\\dots+\\theta_{n}x_{n}$を$a_j$と置き換えます。"
      ],
      "metadata": {
        "id": "yHSElH4p-07p"
      }
    },
    {
      "cell_type": "markdown",
      "source": [
        "以下の計算ができれば、パラメータの更新が行えそうです。\n",
        "\n",
        "$$\n",
        "\\frac{\\partial}{\\partial\\theta_n}L(\\theta_n) = \\frac{\\partial a_j}{\\partial \\theta_n}\\ \\frac{\\partial p_k(x_i)}{\\partial a_j}\\ \\frac{\\partial E}{\\partial p_k(x_i)}\n",
        "$$"
      ],
      "metadata": {
        "id": "mRpeVEek-ikr"
      }
    },
    {
      "cell_type": "markdown",
      "source": [
        "#### 交差エントロピー（多項式）の微分"
      ],
      "metadata": {
        "id": "drsxRWLXk4iM"
      }
    },
    {
      "cell_type": "markdown",
      "source": [
        "\n",
        "\n",
        "$$\n",
        "{\\begin{align}\n",
        "\\frac{\\partial E}{\\partial p_k(x_i)}\\\n",
        "&= \\frac{\\partial }{\\partial p_k(x_i)}\\ \\Bigl( -t_{ik}log(p_k(x_i)) \\Bigr) \\\\\n",
        "&= -\\frac{t_{ik}}{p_k(x_i)}\n",
        "\\end{align}\n",
        "}\n",
        "$$"
      ],
      "metadata": {
        "id": "gXAicaIBnF0Q"
      }
    },
    {
      "cell_type": "markdown",
      "source": [
        "#### ソフトマックス関数の微分"
      ],
      "metadata": {
        "id": "YmVUAr-7mw6G"
      }
    },
    {
      "cell_type": "markdown",
      "source": [
        "$$\n",
        "{\\begin{align}\n",
        "\\frac{\\partial p_k(x_i)}{\\partial a_j}\\\n",
        "&= \\frac{\\partial }{\\partial a_j}\\ \\Bigl(\\frac{e^{a_i}}{e^{a_1}+e^{a_2}+\\cdots+e^{a_K}} \\Bigr) \\\\\n",
        "&= \\frac{\\partial }{\\partial a_j}\\ \\Bigl(\\frac{e^{a_i}}{Z}\n",
        "\\Bigr) \\\\\n",
        "\\end{align}\n",
        "}\n",
        "$$\n",
        "\n",
        "\n"
      ],
      "metadata": {
        "id": "HK-NFfcco4ck"
      }
    },
    {
      "cell_type": "markdown",
      "source": [
        "$i=j$のとき、\n",
        "\n",
        "$$\n",
        "{\\begin{align}\n",
        "\\frac{\\partial p_k(x_i)}{\\partial a_j}\\\n",
        "&= \\frac{\\partial }{\\partial a_i}\\ \\Bigl(\\frac{e^{a_i}}{Z} \\Bigr) \\\\\n",
        "&= \\frac{e^{a_i}Z - e^{a_i}e^{a_i}}{Z^2}\\\\\n",
        "&= p_k(x_i)(1-p_k(x_i))\\\\\n",
        "\\end{align}\n",
        "}\n",
        "$$"
      ],
      "metadata": {
        "id": "NIOQiFGsGTr1"
      }
    },
    {
      "cell_type": "markdown",
      "source": [
        "$i≠j$のとき、\n",
        "\n",
        "$$\n",
        "{\\begin{align}\n",
        "\\frac{\\partial p_k(x_i)}{\\partial a_j}\\\n",
        "&= \\frac{\\partial }{\\partial a_j}\\ \\Bigl(\\frac{e^{a_i}}{Z} \\Bigr) \\\\\n",
        "&= \\frac{- e^{a_i}e^{a_j}}{Z^2}\\\\\n",
        "&= -p_k(x_i)p_k(x_j)\\\\\n",
        "\\end{align}\n",
        "}\n",
        "$$"
      ],
      "metadata": {
        "id": "m0ZJiu6qJG04"
      }
    },
    {
      "cell_type": "markdown",
      "source": [
        "これらをまとめると、\n",
        "\n",
        "$$\n",
        "\\begin{equation}\n",
        "\\frac{\\partial p_k(x_i)}{\\partial a_j}=\\left\\{\n",
        "\\begin{aligned}\n",
        "p_k(x_i)(1-p_k(x_i)) & \\qquad(i=j)\\\\\n",
        "-p_k(x_i)p_k(x_j) & \\qquad(i≠j)\\\\\n",
        "\\end{aligned}\n",
        "\\right.\n",
        "\\end{equation}\n",
        "$$"
      ],
      "metadata": {
        "id": "9aNDUajEJqlX"
      }
    },
    {
      "cell_type": "markdown",
      "source": [
        "実際は、$\\delta$を使って以下のようにまとめることが多いです。\n",
        "\n",
        "$$\n",
        "\\frac{\\partial p_k(x_i)}{\\partial a_j}=p_k(x_i)(\\delta_{ij}-p_k(x_j))\n",
        "$$\n",
        "\n",
        "ただし、\n",
        "$\n",
        "\\begin{equation}\n",
        "\\delta_{ij}=\\left\\{\n",
        "\\begin{aligned}\n",
        "1 \\qquad\\text{if}\\:i=j\\\\\n",
        "0 \\qquad\\text{if}\\:i\\neq j\\\\\n",
        "\\end{aligned}\n",
        "\\right.\n",
        "\\end{equation}\n",
        "$"
      ],
      "metadata": {
        "id": "jP64LYKWKqs2"
      }
    },
    {
      "cell_type": "markdown",
      "source": [
        "#### 線形結合の微分\n",
        "\n",
        "$$\n",
        "\\begin{equation}\n",
        "\\frac{\\partial a_j}{\\partial \\theta_n}=\\left\\{\n",
        "\\begin{aligned}\n",
        "x_n & \\qquad\\text{if}\\:n≠0\\\\\n",
        "1 & \\qquad\\text{if}\\:n=0\\\\\n",
        "\\end{aligned}\n",
        "\\right.\n",
        "\\end{equation}\n",
        "$$"
      ],
      "metadata": {
        "id": "VKdyTIzGKPZU"
      }
    },
    {
      "cell_type": "markdown",
      "source": [
        "#### 偏微分結果"
      ],
      "metadata": {
        "id": "8UZyGOSLLY2W"
      }
    },
    {
      "cell_type": "markdown",
      "source": [
        "$$\n",
        "{\\begin{align}\n",
        "\\frac{\\partial}{\\partial\\theta_n}L(\\theta_n)\n",
        "&= \\frac{\\partial a_j}{\\partial \\theta_n}\\ \\frac{\\partial p_k(x_i)}{\\partial a_j}\\ \\frac{\\partial E}{\\partial p_k(x_i)} \\\\\n",
        "&= \\frac{\\partial a_j}{\\partial \\theta_n}\\ p_k(x_i)(\\delta_{ij}-p_k(x_i)) \\Bigl(-\\frac{t_{ik}}{p_k(x_i)}\\Bigr) \\\\\n",
        "&= \\frac{\\partial a_j}{\\partial \\theta_n}t_{ik}(p_k(x_i)-\\delta_{ij}) \\\\\n",
        "&= \\frac{\\partial a_j}{\\partial \\theta_n}t_{ik}(p_k(x_i)-1) + \\frac{\\partial a_j}{\\partial \\theta_n}t_{ik}p_k(x_i) \\\\\n",
        "\\end{align}\n",
        "}\n",
        "$$"
      ],
      "metadata": {
        "id": "iPeAMSF_Ldtb"
      }
    },
    {
      "cell_type": "markdown",
      "source": [
        "ここからさらに変形します。\n",
        "\n",
        "$$\n",
        "{\\begin{align}\n",
        "\\frac{1}{m}\\sum^{m}_{i=1}\\sum^{K}_{k=1}\\frac{\\partial a_j}{\\partial \\theta_n}t_{ik}(p_k(x_i)-\\delta_{ij})\n",
        "&= \\frac{1}{m}\\sum^{m}_{i=1}\\sum^{K}_{k=1}\\frac{\\partial a_j}{\\partial \\theta_n}t_{ik}p_k(x_i)- \\frac{1}{m}\\sum^{m}_{i=1}\\sum^{K}_{k=1}\\frac{\\partial a_j}{\\partial \\theta_n}t_{ik}\\delta_{ij} \\\\\n",
        "\\end{align}\n",
        "}\n",
        "$$"
      ],
      "metadata": {
        "id": "w7wyeLDnbn_7"
      }
    },
    {
      "cell_type": "markdown",
      "source": [
        "$\\sum^{m}_{i=1}\\sum^{K}_{k=1}t_{ik}$ は、どこかでは必ず$y_i=k$となるため、  \n",
        "その値は1になるはずです。\n",
        "\n",
        "ただし、$\\sum^{m}_{i=1}\\sum^{K}_{k=1}\\delta_{ij}$は値自体は1となりますが、  \n",
        "$i=j$の場合に1となるだけなので、$t_{ik}$はこれ以上簡単化できません。  \n",
        "（$y_i=k$と$i=j$という二つの条件を考えなければならない）"
      ],
      "metadata": {
        "id": "zkVX-_sk_yPy"
      }
    },
    {
      "cell_type": "markdown",
      "source": [
        "よって、偏微分の結果は以下のようになります。  \n",
        "実際の$\\theta$は$\\theta=\\theta^1_0, \\cdots, \\theta^K_0,　\\cdots,　 \\theta^1_n, \\cdots, \\theta^K_n$と複数あることに注意が必要です。  \n",
        "（$n≠0$）\n",
        "\n",
        "$$\n",
        "\\frac{\\partial L(\\theta)}{\\partial\\theta^k_0}=\\frac{1}{m}\\sum^{m}_{i=1}(p_k(x_i)-t_{ik})\n",
        "$$\n",
        "\n",
        "\n",
        "$$\n",
        "\\frac{\\partial L(\\theta)}{\\partial\\theta^k_n}=\\frac{1}{m}\\sum^{m}_{i=1}(p_k(x_i)-t_{ik})x_i\n",
        "$$"
      ],
      "metadata": {
        "id": "Qvx-VPKdaPLV"
      }
    },
    {
      "cell_type": "markdown",
      "source": [
        "#### 最終式"
      ],
      "metadata": {
        "id": "WewAqKp5OMm1"
      }
    },
    {
      "cell_type": "markdown",
      "source": [
        "$$\n",
        "\\theta_0 := \\theta_0 – \\alpha\\frac{1}{m}\\sum^{m}_{i=1}\\Bigl(\\frac{e^{x_i}}{\\sum_{k=1}^{K}e^{x_k}}-t_{ik}\\Bigr)\n",
        "$$\n",
        "\n",
        "$$\n",
        "\\theta_1 := \\theta_1 – \\alpha\\frac{1}{m}\\sum^{m}_{i=1}\\Bigl(\\frac{e^{x_i}}{\\sum_{k=1}^{K}e^{x_k}}-t_{ik}\\Bigr)x_i\n",
        "$$\n",
        "\n",
        "$$\n",
        "・\n",
        "$$\n",
        "$$  \n",
        "・  \n",
        "$$\n",
        "$$  \n",
        "・  \n",
        "$$\n",
        "\n",
        "$$\n",
        "\\theta_n := \\theta_n – \\alpha\\frac{1}{m}\\sum^{m}_{i=1}\\Bigl(\\frac{e^{x_i}}{\\sum_{k=1}^{K}e^{x_k}}-t_{ik}\\Bigr)x_i\n",
        "$$"
      ],
      "metadata": {
        "id": "LOhkI104OP9d"
      }
    },
    {
      "cell_type": "markdown",
      "source": [
        "### Pythonで多値分類"
      ],
      "metadata": {
        "id": "sltHxIsLbavP"
      }
    },
    {
      "cell_type": "markdown",
      "source": [
        "では、実際にPythonで多値分類を行っていきましょう。\n"
      ],
      "metadata": {
        "id": "a3J6pPWybiMP"
      }
    },
    {
      "cell_type": "markdown",
      "source": [
        "#### 使用するデータセット"
      ],
      "metadata": {
        "id": "xLZ4FezYbtWG"
      }
    },
    {
      "cell_type": "markdown",
      "source": [
        "今回は、seabornのサンプル用データセット\"tips\"を利用します。\n",
        "\n",
        "データセットは、pandas.DataFrameオブジェクトとして取得することができます。\n",
        "\n",
        "（参考サイト：[こちら](https://biotech-lab.org/articles/1408#i)）"
      ],
      "metadata": {
        "id": "0HRxrbCGk9Ss"
      }
    },
    {
      "cell_type": "code",
      "source": [
        "tips = sns.load_dataset('tips')\n",
        "tips.info()"
      ],
      "metadata": {
        "colab": {
          "base_uri": "https://localhost:8080/"
        },
        "id": "-l33pW7wj692",
        "outputId": "b3ae70ea-12b7-46b9-c2cd-0b5516be6aa8"
      },
      "execution_count": null,
      "outputs": [
        {
          "output_type": "stream",
          "name": "stdout",
          "text": [
            "<class 'pandas.core.frame.DataFrame'>\n",
            "RangeIndex: 244 entries, 0 to 243\n",
            "Data columns (total 7 columns):\n",
            " #   Column      Non-Null Count  Dtype   \n",
            "---  ------      --------------  -----   \n",
            " 0   total_bill  244 non-null    float64 \n",
            " 1   tip         244 non-null    float64 \n",
            " 2   sex         244 non-null    category\n",
            " 3   smoker      244 non-null    category\n",
            " 4   day         244 non-null    category\n",
            " 5   time        244 non-null    category\n",
            " 6   size        244 non-null    int64   \n",
            "dtypes: category(4), float64(2), int64(1)\n",
            "memory usage: 7.4 KB\n"
          ]
        }
      ]
    },
    {
      "cell_type": "markdown",
      "source": [
        "\"tips\"のデータの説明は以下の通りです。\n",
        "\n",
        "- total_bill : 総支払額(食事代、税込み)　(USドル)\n",
        "- tip : チップ(USドル)\n",
        "- sex : 性別\n",
        "- smoker : 喫煙者か否か\n",
        "- day : 曜日(木・金・土・日のいずれか)\n",
        "- time : 食事の時間(昼食か夕食か)\n",
        "- size : 人数"
      ],
      "metadata": {
        "id": "7ZyDMuAblo6D"
      }
    },
    {
      "cell_type": "markdown",
      "source": [
        "また、今回のデータには欠損値はなさそうです。"
      ],
      "metadata": {
        "id": "k-9SWM_Mnsbw"
      }
    },
    {
      "cell_type": "markdown",
      "source": [
        "#### Pythonによる実行(OvR)"
      ],
      "metadata": {
        "id": "L_HAXurTzFHg"
      }
    },
    {
      "cell_type": "markdown",
      "source": [
        "今回は使用するカラムを増やしたいので、one-hotエンコーディングを行います。"
      ],
      "metadata": {
        "id": "_hwwG7hxzIpA"
      }
    },
    {
      "cell_type": "code",
      "source": [
        "# day カラム以外のカテゴリカル変数をダミー変数に変換\n",
        "tips = pd.get_dummies(tips, columns=[\"sex\", \"smoker\", \"time\"], drop_first=True)\n",
        "tips.head()"
      ],
      "metadata": {
        "colab": {
          "base_uri": "https://localhost:8080/",
          "height": 206
        },
        "id": "Ga77GJiDxzhi",
        "outputId": "7a06fd2e-4f89-470e-dd79-cf048878b361"
      },
      "execution_count": null,
      "outputs": [
        {
          "output_type": "execute_result",
          "data": {
            "text/plain": [
              "   total_bill   tip  day  size  sex_Female  smoker_No  time_Dinner\n",
              "0       16.99  1.01  Sun     2           1          1            1\n",
              "1       10.34  1.66  Sun     3           0          1            1\n",
              "2       21.01  3.50  Sun     3           0          1            1\n",
              "3       23.68  3.31  Sun     2           0          1            1\n",
              "4       24.59  3.61  Sun     4           1          1            1"
            ],
            "text/html": [
              "\n",
              "  <div id=\"df-185df36c-124d-4ad2-a3e5-3ab6e2599d63\" class=\"colab-df-container\">\n",
              "    <div>\n",
              "<style scoped>\n",
              "    .dataframe tbody tr th:only-of-type {\n",
              "        vertical-align: middle;\n",
              "    }\n",
              "\n",
              "    .dataframe tbody tr th {\n",
              "        vertical-align: top;\n",
              "    }\n",
              "\n",
              "    .dataframe thead th {\n",
              "        text-align: right;\n",
              "    }\n",
              "</style>\n",
              "<table border=\"1\" class=\"dataframe\">\n",
              "  <thead>\n",
              "    <tr style=\"text-align: right;\">\n",
              "      <th></th>\n",
              "      <th>total_bill</th>\n",
              "      <th>tip</th>\n",
              "      <th>day</th>\n",
              "      <th>size</th>\n",
              "      <th>sex_Female</th>\n",
              "      <th>smoker_No</th>\n",
              "      <th>time_Dinner</th>\n",
              "    </tr>\n",
              "  </thead>\n",
              "  <tbody>\n",
              "    <tr>\n",
              "      <th>0</th>\n",
              "      <td>16.99</td>\n",
              "      <td>1.01</td>\n",
              "      <td>Sun</td>\n",
              "      <td>2</td>\n",
              "      <td>1</td>\n",
              "      <td>1</td>\n",
              "      <td>1</td>\n",
              "    </tr>\n",
              "    <tr>\n",
              "      <th>1</th>\n",
              "      <td>10.34</td>\n",
              "      <td>1.66</td>\n",
              "      <td>Sun</td>\n",
              "      <td>3</td>\n",
              "      <td>0</td>\n",
              "      <td>1</td>\n",
              "      <td>1</td>\n",
              "    </tr>\n",
              "    <tr>\n",
              "      <th>2</th>\n",
              "      <td>21.01</td>\n",
              "      <td>3.50</td>\n",
              "      <td>Sun</td>\n",
              "      <td>3</td>\n",
              "      <td>0</td>\n",
              "      <td>1</td>\n",
              "      <td>1</td>\n",
              "    </tr>\n",
              "    <tr>\n",
              "      <th>3</th>\n",
              "      <td>23.68</td>\n",
              "      <td>3.31</td>\n",
              "      <td>Sun</td>\n",
              "      <td>2</td>\n",
              "      <td>0</td>\n",
              "      <td>1</td>\n",
              "      <td>1</td>\n",
              "    </tr>\n",
              "    <tr>\n",
              "      <th>4</th>\n",
              "      <td>24.59</td>\n",
              "      <td>3.61</td>\n",
              "      <td>Sun</td>\n",
              "      <td>4</td>\n",
              "      <td>1</td>\n",
              "      <td>1</td>\n",
              "      <td>1</td>\n",
              "    </tr>\n",
              "  </tbody>\n",
              "</table>\n",
              "</div>\n",
              "    <div class=\"colab-df-buttons\">\n",
              "\n",
              "  <div class=\"colab-df-container\">\n",
              "    <button class=\"colab-df-convert\" onclick=\"convertToInteractive('df-185df36c-124d-4ad2-a3e5-3ab6e2599d63')\"\n",
              "            title=\"Convert this dataframe to an interactive table.\"\n",
              "            style=\"display:none;\">\n",
              "\n",
              "  <svg xmlns=\"http://www.w3.org/2000/svg\" height=\"24px\" viewBox=\"0 -960 960 960\">\n",
              "    <path d=\"M120-120v-720h720v720H120Zm60-500h600v-160H180v160Zm220 220h160v-160H400v160Zm0 220h160v-160H400v160ZM180-400h160v-160H180v160Zm440 0h160v-160H620v160ZM180-180h160v-160H180v160Zm440 0h160v-160H620v160Z\"/>\n",
              "  </svg>\n",
              "    </button>\n",
              "\n",
              "  <style>\n",
              "    .colab-df-container {\n",
              "      display:flex;\n",
              "      gap: 12px;\n",
              "    }\n",
              "\n",
              "    .colab-df-convert {\n",
              "      background-color: #E8F0FE;\n",
              "      border: none;\n",
              "      border-radius: 50%;\n",
              "      cursor: pointer;\n",
              "      display: none;\n",
              "      fill: #1967D2;\n",
              "      height: 32px;\n",
              "      padding: 0 0 0 0;\n",
              "      width: 32px;\n",
              "    }\n",
              "\n",
              "    .colab-df-convert:hover {\n",
              "      background-color: #E2EBFA;\n",
              "      box-shadow: 0px 1px 2px rgba(60, 64, 67, 0.3), 0px 1px 3px 1px rgba(60, 64, 67, 0.15);\n",
              "      fill: #174EA6;\n",
              "    }\n",
              "\n",
              "    .colab-df-buttons div {\n",
              "      margin-bottom: 4px;\n",
              "    }\n",
              "\n",
              "    [theme=dark] .colab-df-convert {\n",
              "      background-color: #3B4455;\n",
              "      fill: #D2E3FC;\n",
              "    }\n",
              "\n",
              "    [theme=dark] .colab-df-convert:hover {\n",
              "      background-color: #434B5C;\n",
              "      box-shadow: 0px 1px 3px 1px rgba(0, 0, 0, 0.15);\n",
              "      filter: drop-shadow(0px 1px 2px rgba(0, 0, 0, 0.3));\n",
              "      fill: #FFFFFF;\n",
              "    }\n",
              "  </style>\n",
              "\n",
              "    <script>\n",
              "      const buttonEl =\n",
              "        document.querySelector('#df-185df36c-124d-4ad2-a3e5-3ab6e2599d63 button.colab-df-convert');\n",
              "      buttonEl.style.display =\n",
              "        google.colab.kernel.accessAllowed ? 'block' : 'none';\n",
              "\n",
              "      async function convertToInteractive(key) {\n",
              "        const element = document.querySelector('#df-185df36c-124d-4ad2-a3e5-3ab6e2599d63');\n",
              "        const dataTable =\n",
              "          await google.colab.kernel.invokeFunction('convertToInteractive',\n",
              "                                                    [key], {});\n",
              "        if (!dataTable) return;\n",
              "\n",
              "        const docLinkHtml = 'Like what you see? Visit the ' +\n",
              "          '<a target=\"_blank\" href=https://colab.research.google.com/notebooks/data_table.ipynb>data table notebook</a>'\n",
              "          + ' to learn more about interactive tables.';\n",
              "        element.innerHTML = '';\n",
              "        dataTable['output_type'] = 'display_data';\n",
              "        await google.colab.output.renderOutput(dataTable, element);\n",
              "        const docLink = document.createElement('div');\n",
              "        docLink.innerHTML = docLinkHtml;\n",
              "        element.appendChild(docLink);\n",
              "      }\n",
              "    </script>\n",
              "  </div>\n",
              "\n",
              "\n",
              "<div id=\"df-c50ab80a-2c67-4063-9271-66d7fb37300a\">\n",
              "  <button class=\"colab-df-quickchart\" onclick=\"quickchart('df-c50ab80a-2c67-4063-9271-66d7fb37300a')\"\n",
              "            title=\"Suggest charts.\"\n",
              "            style=\"display:none;\">\n",
              "\n",
              "<svg xmlns=\"http://www.w3.org/2000/svg\" height=\"24px\"viewBox=\"0 0 24 24\"\n",
              "     width=\"24px\">\n",
              "    <g>\n",
              "        <path d=\"M19 3H5c-1.1 0-2 .9-2 2v14c0 1.1.9 2 2 2h14c1.1 0 2-.9 2-2V5c0-1.1-.9-2-2-2zM9 17H7v-7h2v7zm4 0h-2V7h2v10zm4 0h-2v-4h2v4z\"/>\n",
              "    </g>\n",
              "</svg>\n",
              "  </button>\n",
              "\n",
              "<style>\n",
              "  .colab-df-quickchart {\n",
              "      --bg-color: #E8F0FE;\n",
              "      --fill-color: #1967D2;\n",
              "      --hover-bg-color: #E2EBFA;\n",
              "      --hover-fill-color: #174EA6;\n",
              "      --disabled-fill-color: #AAA;\n",
              "      --disabled-bg-color: #DDD;\n",
              "  }\n",
              "\n",
              "  [theme=dark] .colab-df-quickchart {\n",
              "      --bg-color: #3B4455;\n",
              "      --fill-color: #D2E3FC;\n",
              "      --hover-bg-color: #434B5C;\n",
              "      --hover-fill-color: #FFFFFF;\n",
              "      --disabled-bg-color: #3B4455;\n",
              "      --disabled-fill-color: #666;\n",
              "  }\n",
              "\n",
              "  .colab-df-quickchart {\n",
              "    background-color: var(--bg-color);\n",
              "    border: none;\n",
              "    border-radius: 50%;\n",
              "    cursor: pointer;\n",
              "    display: none;\n",
              "    fill: var(--fill-color);\n",
              "    height: 32px;\n",
              "    padding: 0;\n",
              "    width: 32px;\n",
              "  }\n",
              "\n",
              "  .colab-df-quickchart:hover {\n",
              "    background-color: var(--hover-bg-color);\n",
              "    box-shadow: 0 1px 2px rgba(60, 64, 67, 0.3), 0 1px 3px 1px rgba(60, 64, 67, 0.15);\n",
              "    fill: var(--button-hover-fill-color);\n",
              "  }\n",
              "\n",
              "  .colab-df-quickchart-complete:disabled,\n",
              "  .colab-df-quickchart-complete:disabled:hover {\n",
              "    background-color: var(--disabled-bg-color);\n",
              "    fill: var(--disabled-fill-color);\n",
              "    box-shadow: none;\n",
              "  }\n",
              "\n",
              "  .colab-df-spinner {\n",
              "    border: 2px solid var(--fill-color);\n",
              "    border-color: transparent;\n",
              "    border-bottom-color: var(--fill-color);\n",
              "    animation:\n",
              "      spin 1s steps(1) infinite;\n",
              "  }\n",
              "\n",
              "  @keyframes spin {\n",
              "    0% {\n",
              "      border-color: transparent;\n",
              "      border-bottom-color: var(--fill-color);\n",
              "      border-left-color: var(--fill-color);\n",
              "    }\n",
              "    20% {\n",
              "      border-color: transparent;\n",
              "      border-left-color: var(--fill-color);\n",
              "      border-top-color: var(--fill-color);\n",
              "    }\n",
              "    30% {\n",
              "      border-color: transparent;\n",
              "      border-left-color: var(--fill-color);\n",
              "      border-top-color: var(--fill-color);\n",
              "      border-right-color: var(--fill-color);\n",
              "    }\n",
              "    40% {\n",
              "      border-color: transparent;\n",
              "      border-right-color: var(--fill-color);\n",
              "      border-top-color: var(--fill-color);\n",
              "    }\n",
              "    60% {\n",
              "      border-color: transparent;\n",
              "      border-right-color: var(--fill-color);\n",
              "    }\n",
              "    80% {\n",
              "      border-color: transparent;\n",
              "      border-right-color: var(--fill-color);\n",
              "      border-bottom-color: var(--fill-color);\n",
              "    }\n",
              "    90% {\n",
              "      border-color: transparent;\n",
              "      border-bottom-color: var(--fill-color);\n",
              "    }\n",
              "  }\n",
              "</style>\n",
              "\n",
              "  <script>\n",
              "    async function quickchart(key) {\n",
              "      const quickchartButtonEl =\n",
              "        document.querySelector('#' + key + ' button');\n",
              "      quickchartButtonEl.disabled = true;  // To prevent multiple clicks.\n",
              "      quickchartButtonEl.classList.add('colab-df-spinner');\n",
              "      try {\n",
              "        const charts = await google.colab.kernel.invokeFunction(\n",
              "            'suggestCharts', [key], {});\n",
              "      } catch (error) {\n",
              "        console.error('Error during call to suggestCharts:', error);\n",
              "      }\n",
              "      quickchartButtonEl.classList.remove('colab-df-spinner');\n",
              "      quickchartButtonEl.classList.add('colab-df-quickchart-complete');\n",
              "    }\n",
              "    (() => {\n",
              "      let quickchartButtonEl =\n",
              "        document.querySelector('#df-c50ab80a-2c67-4063-9271-66d7fb37300a button');\n",
              "      quickchartButtonEl.style.display =\n",
              "        google.colab.kernel.accessAllowed ? 'block' : 'none';\n",
              "    })();\n",
              "  </script>\n",
              "</div>\n",
              "    </div>\n",
              "  </div>\n"
            ]
          },
          "metadata": {},
          "execution_count": 83
        }
      ]
    },
    {
      "cell_type": "markdown",
      "source": [
        "今回は、\"day\"カラムの値（何曜日かどうか）を予測するとします。  \n",
        "\n",
        "まずは、曜日ごとの人数を割り出しましょう。\n"
      ],
      "metadata": {
        "id": "FTIohEuYRzru"
      }
    },
    {
      "cell_type": "code",
      "source": [
        "tips[\"day\"].value_counts()"
      ],
      "metadata": {
        "colab": {
          "base_uri": "https://localhost:8080/"
        },
        "id": "TJqbsX0iRB5v",
        "outputId": "1a7a7bba-f462-465a-aef2-c07a1fc70ee9"
      },
      "execution_count": null,
      "outputs": [
        {
          "output_type": "execute_result",
          "data": {
            "text/plain": [
              "Sat     87\n",
              "Sun     76\n",
              "Thur    62\n",
              "Fri     19\n",
              "Name: day, dtype: int64"
            ]
          },
          "metadata": {},
          "execution_count": 84
        }
      ]
    },
    {
      "cell_type": "markdown",
      "source": [
        "まずは、OvRを使って学習を行っていきましょう。\n",
        "\n",
        "本当はk-fold法（参考：[こちら](https://datawokagaku.com/kfoldcv/)）を使って汎化性能を測った方がいいのですが、  \n",
        "ここでは説明のしやすさのためhold-out法を使います。"
      ],
      "metadata": {
        "id": "F81SRM1xdrek"
      }
    },
    {
      "cell_type": "code",
      "source": [
        "# 目的変数に\"day\"、説明変数にそれ以外のカラムを指定\n",
        "x = tips.drop('day', axis=1)\n",
        "y = tips['day']\n",
        "\n",
        "# データを訓練データとテストデータに分ける\n",
        "# データのばらつき具合を実データに合わせる\n",
        "x_train, x_test, y_train, y_test = train_test_split(x, y, test_size=0.3, random_state=0, stratify=y)\n",
        "\n",
        "# 説明変数のデータを標準化\n",
        "from sklearn.preprocessing import StandardScaler\n",
        "scaler = StandardScaler().fit(x_train)\n",
        "x_train_scaled = scaler.transform(x_train)\n",
        "x_test_scaled = scaler.transform(x_test)"
      ],
      "metadata": {
        "id": "tIce3BClT1AN"
      },
      "execution_count": null,
      "outputs": []
    },
    {
      "cell_type": "code",
      "source": [
        "from sklearn.linear_model import LogisticRegression\n",
        "model_ovr = LogisticRegression(penalty='none', multi_class='ovr')\n",
        "model_ovr.fit(x_train_scaled, y_train)"
      ],
      "metadata": {
        "colab": {
          "base_uri": "https://localhost:8080/",
          "height": 129
        },
        "id": "IKtO7GPOTY-N",
        "outputId": "100f7055-873d-48f1-8069-2c7b3e1457c5"
      },
      "execution_count": null,
      "outputs": [
        {
          "output_type": "stream",
          "name": "stderr",
          "text": [
            "/usr/local/lib/python3.10/dist-packages/sklearn/linear_model/_logistic.py:1173: FutureWarning: `penalty='none'`has been deprecated in 1.2 and will be removed in 1.4. To keep the past behaviour, set `penalty=None`.\n",
            "  warnings.warn(\n"
          ]
        },
        {
          "output_type": "execute_result",
          "data": {
            "text/plain": [
              "LogisticRegression(multi_class='ovr', penalty='none')"
            ],
            "text/html": [
              "<style>#sk-container-id-10 {color: black;background-color: white;}#sk-container-id-10 pre{padding: 0;}#sk-container-id-10 div.sk-toggleable {background-color: white;}#sk-container-id-10 label.sk-toggleable__label {cursor: pointer;display: block;width: 100%;margin-bottom: 0;padding: 0.3em;box-sizing: border-box;text-align: center;}#sk-container-id-10 label.sk-toggleable__label-arrow:before {content: \"▸\";float: left;margin-right: 0.25em;color: #696969;}#sk-container-id-10 label.sk-toggleable__label-arrow:hover:before {color: black;}#sk-container-id-10 div.sk-estimator:hover label.sk-toggleable__label-arrow:before {color: black;}#sk-container-id-10 div.sk-toggleable__content {max-height: 0;max-width: 0;overflow: hidden;text-align: left;background-color: #f0f8ff;}#sk-container-id-10 div.sk-toggleable__content pre {margin: 0.2em;color: black;border-radius: 0.25em;background-color: #f0f8ff;}#sk-container-id-10 input.sk-toggleable__control:checked~div.sk-toggleable__content {max-height: 200px;max-width: 100%;overflow: auto;}#sk-container-id-10 input.sk-toggleable__control:checked~label.sk-toggleable__label-arrow:before {content: \"▾\";}#sk-container-id-10 div.sk-estimator input.sk-toggleable__control:checked~label.sk-toggleable__label {background-color: #d4ebff;}#sk-container-id-10 div.sk-label input.sk-toggleable__control:checked~label.sk-toggleable__label {background-color: #d4ebff;}#sk-container-id-10 input.sk-hidden--visually {border: 0;clip: rect(1px 1px 1px 1px);clip: rect(1px, 1px, 1px, 1px);height: 1px;margin: -1px;overflow: hidden;padding: 0;position: absolute;width: 1px;}#sk-container-id-10 div.sk-estimator {font-family: monospace;background-color: #f0f8ff;border: 1px dotted black;border-radius: 0.25em;box-sizing: border-box;margin-bottom: 0.5em;}#sk-container-id-10 div.sk-estimator:hover {background-color: #d4ebff;}#sk-container-id-10 div.sk-parallel-item::after {content: \"\";width: 100%;border-bottom: 1px solid gray;flex-grow: 1;}#sk-container-id-10 div.sk-label:hover label.sk-toggleable__label {background-color: #d4ebff;}#sk-container-id-10 div.sk-serial::before {content: \"\";position: absolute;border-left: 1px solid gray;box-sizing: border-box;top: 0;bottom: 0;left: 50%;z-index: 0;}#sk-container-id-10 div.sk-serial {display: flex;flex-direction: column;align-items: center;background-color: white;padding-right: 0.2em;padding-left: 0.2em;position: relative;}#sk-container-id-10 div.sk-item {position: relative;z-index: 1;}#sk-container-id-10 div.sk-parallel {display: flex;align-items: stretch;justify-content: center;background-color: white;position: relative;}#sk-container-id-10 div.sk-item::before, #sk-container-id-10 div.sk-parallel-item::before {content: \"\";position: absolute;border-left: 1px solid gray;box-sizing: border-box;top: 0;bottom: 0;left: 50%;z-index: -1;}#sk-container-id-10 div.sk-parallel-item {display: flex;flex-direction: column;z-index: 1;position: relative;background-color: white;}#sk-container-id-10 div.sk-parallel-item:first-child::after {align-self: flex-end;width: 50%;}#sk-container-id-10 div.sk-parallel-item:last-child::after {align-self: flex-start;width: 50%;}#sk-container-id-10 div.sk-parallel-item:only-child::after {width: 0;}#sk-container-id-10 div.sk-dashed-wrapped {border: 1px dashed gray;margin: 0 0.4em 0.5em 0.4em;box-sizing: border-box;padding-bottom: 0.4em;background-color: white;}#sk-container-id-10 div.sk-label label {font-family: monospace;font-weight: bold;display: inline-block;line-height: 1.2em;}#sk-container-id-10 div.sk-label-container {text-align: center;}#sk-container-id-10 div.sk-container {/* jupyter's `normalize.less` sets `[hidden] { display: none; }` but bootstrap.min.css set `[hidden] { display: none !important; }` so we also need the `!important` here to be able to override the default hidden behavior on the sphinx rendered scikit-learn.org. See: https://github.com/scikit-learn/scikit-learn/issues/21755 */display: inline-block !important;position: relative;}#sk-container-id-10 div.sk-text-repr-fallback {display: none;}</style><div id=\"sk-container-id-10\" class=\"sk-top-container\"><div class=\"sk-text-repr-fallback\"><pre>LogisticRegression(multi_class=&#x27;ovr&#x27;, penalty=&#x27;none&#x27;)</pre><b>In a Jupyter environment, please rerun this cell to show the HTML representation or trust the notebook. <br />On GitHub, the HTML representation is unable to render, please try loading this page with nbviewer.org.</b></div><div class=\"sk-container\" hidden><div class=\"sk-item\"><div class=\"sk-estimator sk-toggleable\"><input class=\"sk-toggleable__control sk-hidden--visually\" id=\"sk-estimator-id-10\" type=\"checkbox\" checked><label for=\"sk-estimator-id-10\" class=\"sk-toggleable__label sk-toggleable__label-arrow\">LogisticRegression</label><div class=\"sk-toggleable__content\"><pre>LogisticRegression(multi_class=&#x27;ovr&#x27;, penalty=&#x27;none&#x27;)</pre></div></div></div></div></div>"
            ]
          },
          "metadata": {},
          "execution_count": 86
        }
      ]
    },
    {
      "cell_type": "markdown",
      "source": [
        "それぞれのラベルの分類結果を取得したいときは、  \n",
        "**`.predict(X)`**を使います。"
      ],
      "metadata": {
        "id": "XGcOHL5qedYq"
      }
    },
    {
      "cell_type": "code",
      "source": [
        "y_pred = model_ovr.predict(x_test_scaled)\n",
        "y_pred[:9]"
      ],
      "metadata": {
        "colab": {
          "base_uri": "https://localhost:8080/"
        },
        "id": "QkohL-yBVLkS",
        "outputId": "b73ef998-bb22-475d-ab71-2aa6f429ff1a"
      },
      "execution_count": null,
      "outputs": [
        {
          "output_type": "execute_result",
          "data": {
            "text/plain": [
              "array(['Sat', 'Sat', 'Sat', 'Sat', 'Sun', 'Sun', 'Sun', 'Sun', 'Thur'],\n",
              "      dtype=object)"
            ]
          },
          "metadata": {},
          "execution_count": 87
        }
      ]
    },
    {
      "cell_type": "markdown",
      "source": [
        "それぞれのラベルの確率$p(X)$を取得したいときは、  \n",
        "**`.predict_proba(X)`**を使います。"
      ],
      "metadata": {
        "id": "JUAeVfscfUZZ"
      }
    },
    {
      "cell_type": "code",
      "source": [
        "y_pred_ovr = model_ovr.predict_proba(x_test_scaled)\n",
        "print(model_ovr.classes_)  # クラスの値\n",
        "print(model_ovr.intercept_)  # 切片の値\n",
        "print(y_pred_ovr[:9])  # それぞれの出現確率"
      ],
      "metadata": {
        "colab": {
          "base_uri": "https://localhost:8080/"
        },
        "id": "H4LF1ImhYtA1",
        "outputId": "e3626b0b-d70e-4b94-e56e-3c4421264883"
      },
      "execution_count": null,
      "outputs": [
        {
          "output_type": "stream",
          "name": "stdout",
          "text": [
            "['Fri' 'Sat' 'Sun' 'Thur']\n",
            "[-3.11653006 -5.40578074 -5.61625749 -5.19689633]\n",
            "[[1.97321539e-01 6.13879239e-01 1.88799222e-01 2.68153201e-11]\n",
            " [2.16487947e-01 5.88394769e-01 1.95117284e-01 9.14947740e-12]\n",
            " [1.61248088e-01 6.72221388e-01 1.66530523e-01 2.77217780e-10]\n",
            " [1.69772464e-01 5.96155809e-01 2.34071726e-01 4.49290769e-11]\n",
            " [1.79213405e-02 4.02513973e-01 5.74134335e-01 5.43035151e-03]\n",
            " [4.21007563e-02 4.67954147e-01 4.83853377e-01 6.09172035e-03]\n",
            " [4.15021584e-03 3.40036140e-01 6.03192149e-01 5.26214949e-02]\n",
            " [1.20132272e-02 3.60810960e-01 6.03684252e-01 2.34915607e-02]\n",
            " [4.33358370e-02 1.97928620e-09 2.50188309e-09 9.56664159e-01]]\n"
          ]
        }
      ]
    },
    {
      "cell_type": "markdown",
      "source": [
        "係数の値を確認してみましょう。"
      ],
      "metadata": {
        "id": "Eeb8BtS9gc72"
      }
    },
    {
      "cell_type": "code",
      "source": [
        "# coefficient  係数\n",
        "print(pd.Series(model_ovr.coef_[0], index=x.columns))"
      ],
      "metadata": {
        "colab": {
          "base_uri": "https://localhost:8080/"
        },
        "id": "XwHdRF2cVUC6",
        "outputId": "3e4d02c6-69f5-44cd-ecd5-ba12e1b7b5f2"
      },
      "execution_count": null,
      "outputs": [
        {
          "output_type": "stream",
          "name": "stdout",
          "text": [
            "total_bill    -0.172670\n",
            "tip           -0.080569\n",
            "size          -0.795666\n",
            "sex_Female    -0.072304\n",
            "smoker_No     -0.878311\n",
            "time_Dinner   -0.034608\n",
            "dtype: float64\n"
          ]
        }
      ]
    },
    {
      "cell_type": "markdown",
      "source": [
        "#### 交差エントロピーの導出(OvR)"
      ],
      "metadata": {
        "id": "4QXEMhCgmQFr"
      }
    },
    {
      "cell_type": "markdown",
      "source": [
        "学習(fit)時には、学習データにおける交差エントロピーを最小にするように、  \n",
        "パラメータ$\\theta$を求めています。\n",
        "\n",
        "その後、テストデータを使って交差エントロピーを求めたい場合、  \n",
        "`log_loss(y_test, y_pred_proba)`を使って求めることができます。"
      ],
      "metadata": {
        "id": "5PN8LYD-lpk-"
      }
    },
    {
      "cell_type": "code",
      "source": [
        "from sklearn.metrics import log_loss\n",
        "log_loss(y_test, y_pred_ovr)"
      ],
      "metadata": {
        "colab": {
          "base_uri": "https://localhost:8080/"
        },
        "id": "-yd2aw24ZWW6",
        "outputId": "601e0873-8e27-4a27-aa43-284597f22a43"
      },
      "execution_count": null,
      "outputs": [
        {
          "output_type": "execute_result",
          "data": {
            "text/plain": [
              "0.7017074026653042"
            ]
          },
          "metadata": {},
          "execution_count": 68
        }
      ]
    },
    {
      "cell_type": "markdown",
      "source": [
        "この値の値が小さければ小さいほど、優秀なモデルであると言えます。    \n",
        "今回はこの数字の解釈はしません。\n",
        "\n",
        "パラメータを変更することで精度向上が期待できます。  \n",
        "パラメータについては[こちら](https://datawokagaku.com/logstic_reg_python/#i-3)が参考にしてください。"
      ],
      "metadata": {
        "id": "yfAvW4anmKT4"
      }
    },
    {
      "cell_type": "markdown",
      "source": [
        "#### Pythonによる実行(多項ロジスティック回帰)"
      ],
      "metadata": {
        "id": "0X9tDR1X82IL"
      }
    },
    {
      "cell_type": "markdown",
      "source": [
        "次に、多項ロジスティック回帰を使って学習を行っていきましょう。\n",
        "\n",
        "本当はk-fold法（参考：[こちら](https://datawokagaku.com/kfoldcv/)）を使って汎化性能を測った方がいいのですが、  \n",
        "ここでは説明のしやすさのためhold-out法を使います。"
      ],
      "metadata": {
        "id": "Hf4hv3nZ82IW"
      }
    },
    {
      "cell_type": "code",
      "source": [
        "# 目的変数に\"day\"、説明変数にそれ以外のカラムを指定\n",
        "x = tips.drop('day', axis=1)\n",
        "y = tips['day']\n",
        "\n",
        "# データを訓練データとテストデータに分ける\n",
        "# データのばらつき具合を実データに合わせる\n",
        "x_train, x_test, y_train, y_test = train_test_split(x, y, test_size=0.3, random_state=0, stratify=y)\n",
        "\n",
        "# 説明変数のデータを標準化\n",
        "from sklearn.preprocessing import StandardScaler\n",
        "scaler = StandardScaler().fit(x_train)\n",
        "x_train_scaled = scaler.transform(x_train)\n",
        "x_test_scaled = scaler.transform(x_test)"
      ],
      "metadata": {
        "id": "hDeshJnN82IW"
      },
      "execution_count": null,
      "outputs": []
    },
    {
      "cell_type": "code",
      "source": [
        "from sklearn.linear_model import LogisticRegression\n",
        "model_mn = LogisticRegression(penalty='none', multi_class='multinomial')\n",
        "model_mn.fit(x_train_scaled, y_train)"
      ],
      "metadata": {
        "colab": {
          "base_uri": "https://localhost:8080/",
          "height": 129
        },
        "outputId": "b011d442-c1b2-42e9-a78d-ab397cbdc7cc",
        "id": "TGHaLv9N82IX"
      },
      "execution_count": null,
      "outputs": [
        {
          "output_type": "stream",
          "name": "stderr",
          "text": [
            "/usr/local/lib/python3.10/dist-packages/sklearn/linear_model/_logistic.py:1173: FutureWarning: `penalty='none'`has been deprecated in 1.2 and will be removed in 1.4. To keep the past behaviour, set `penalty=None`.\n",
            "  warnings.warn(\n"
          ]
        },
        {
          "output_type": "execute_result",
          "data": {
            "text/plain": [
              "LogisticRegression(multi_class='multinomial', penalty='none')"
            ],
            "text/html": [
              "<style>#sk-container-id-9 {color: black;background-color: white;}#sk-container-id-9 pre{padding: 0;}#sk-container-id-9 div.sk-toggleable {background-color: white;}#sk-container-id-9 label.sk-toggleable__label {cursor: pointer;display: block;width: 100%;margin-bottom: 0;padding: 0.3em;box-sizing: border-box;text-align: center;}#sk-container-id-9 label.sk-toggleable__label-arrow:before {content: \"▸\";float: left;margin-right: 0.25em;color: #696969;}#sk-container-id-9 label.sk-toggleable__label-arrow:hover:before {color: black;}#sk-container-id-9 div.sk-estimator:hover label.sk-toggleable__label-arrow:before {color: black;}#sk-container-id-9 div.sk-toggleable__content {max-height: 0;max-width: 0;overflow: hidden;text-align: left;background-color: #f0f8ff;}#sk-container-id-9 div.sk-toggleable__content pre {margin: 0.2em;color: black;border-radius: 0.25em;background-color: #f0f8ff;}#sk-container-id-9 input.sk-toggleable__control:checked~div.sk-toggleable__content {max-height: 200px;max-width: 100%;overflow: auto;}#sk-container-id-9 input.sk-toggleable__control:checked~label.sk-toggleable__label-arrow:before {content: \"▾\";}#sk-container-id-9 div.sk-estimator input.sk-toggleable__control:checked~label.sk-toggleable__label {background-color: #d4ebff;}#sk-container-id-9 div.sk-label input.sk-toggleable__control:checked~label.sk-toggleable__label {background-color: #d4ebff;}#sk-container-id-9 input.sk-hidden--visually {border: 0;clip: rect(1px 1px 1px 1px);clip: rect(1px, 1px, 1px, 1px);height: 1px;margin: -1px;overflow: hidden;padding: 0;position: absolute;width: 1px;}#sk-container-id-9 div.sk-estimator {font-family: monospace;background-color: #f0f8ff;border: 1px dotted black;border-radius: 0.25em;box-sizing: border-box;margin-bottom: 0.5em;}#sk-container-id-9 div.sk-estimator:hover {background-color: #d4ebff;}#sk-container-id-9 div.sk-parallel-item::after {content: \"\";width: 100%;border-bottom: 1px solid gray;flex-grow: 1;}#sk-container-id-9 div.sk-label:hover label.sk-toggleable__label {background-color: #d4ebff;}#sk-container-id-9 div.sk-serial::before {content: \"\";position: absolute;border-left: 1px solid gray;box-sizing: border-box;top: 0;bottom: 0;left: 50%;z-index: 0;}#sk-container-id-9 div.sk-serial {display: flex;flex-direction: column;align-items: center;background-color: white;padding-right: 0.2em;padding-left: 0.2em;position: relative;}#sk-container-id-9 div.sk-item {position: relative;z-index: 1;}#sk-container-id-9 div.sk-parallel {display: flex;align-items: stretch;justify-content: center;background-color: white;position: relative;}#sk-container-id-9 div.sk-item::before, #sk-container-id-9 div.sk-parallel-item::before {content: \"\";position: absolute;border-left: 1px solid gray;box-sizing: border-box;top: 0;bottom: 0;left: 50%;z-index: -1;}#sk-container-id-9 div.sk-parallel-item {display: flex;flex-direction: column;z-index: 1;position: relative;background-color: white;}#sk-container-id-9 div.sk-parallel-item:first-child::after {align-self: flex-end;width: 50%;}#sk-container-id-9 div.sk-parallel-item:last-child::after {align-self: flex-start;width: 50%;}#sk-container-id-9 div.sk-parallel-item:only-child::after {width: 0;}#sk-container-id-9 div.sk-dashed-wrapped {border: 1px dashed gray;margin: 0 0.4em 0.5em 0.4em;box-sizing: border-box;padding-bottom: 0.4em;background-color: white;}#sk-container-id-9 div.sk-label label {font-family: monospace;font-weight: bold;display: inline-block;line-height: 1.2em;}#sk-container-id-9 div.sk-label-container {text-align: center;}#sk-container-id-9 div.sk-container {/* jupyter's `normalize.less` sets `[hidden] { display: none; }` but bootstrap.min.css set `[hidden] { display: none !important; }` so we also need the `!important` here to be able to override the default hidden behavior on the sphinx rendered scikit-learn.org. See: https://github.com/scikit-learn/scikit-learn/issues/21755 */display: inline-block !important;position: relative;}#sk-container-id-9 div.sk-text-repr-fallback {display: none;}</style><div id=\"sk-container-id-9\" class=\"sk-top-container\"><div class=\"sk-text-repr-fallback\"><pre>LogisticRegression(multi_class=&#x27;multinomial&#x27;, penalty=&#x27;none&#x27;)</pre><b>In a Jupyter environment, please rerun this cell to show the HTML representation or trust the notebook. <br />On GitHub, the HTML representation is unable to render, please try loading this page with nbviewer.org.</b></div><div class=\"sk-container\" hidden><div class=\"sk-item\"><div class=\"sk-estimator sk-toggleable\"><input class=\"sk-toggleable__control sk-hidden--visually\" id=\"sk-estimator-id-9\" type=\"checkbox\" checked><label for=\"sk-estimator-id-9\" class=\"sk-toggleable__label sk-toggleable__label-arrow\">LogisticRegression</label><div class=\"sk-toggleable__content\"><pre>LogisticRegression(multi_class=&#x27;multinomial&#x27;, penalty=&#x27;none&#x27;)</pre></div></div></div></div></div>"
            ]
          },
          "metadata": {},
          "execution_count": 75
        }
      ]
    },
    {
      "cell_type": "markdown",
      "source": [
        "それぞれのラベルの分類結果を取得したいときは、  \n",
        "**`.predict(X)`**を使います。"
      ],
      "metadata": {
        "id": "YZnzMF-282IX"
      }
    },
    {
      "cell_type": "code",
      "source": [
        "y_test[:9]"
      ],
      "metadata": {
        "colab": {
          "base_uri": "https://localhost:8080/"
        },
        "id": "G66Mq9Ar-Eu6",
        "outputId": "458b3e38-e781-46d8-fcc6-999b321cd62a"
      },
      "execution_count": null,
      "outputs": [
        {
          "output_type": "execute_result",
          "data": {
            "text/plain": [
              "190     Sun\n",
              "218     Sat\n",
              "237     Sat\n",
              "106     Sat\n",
              "38      Sat\n",
              "242     Sat\n",
              "52      Sun\n",
              "39      Sat\n",
              "145    Thur\n",
              "Name: day, dtype: category\n",
              "Categories (4, object): ['Thur', 'Fri', 'Sat', 'Sun']"
            ]
          },
          "metadata": {},
          "execution_count": 76
        }
      ]
    },
    {
      "cell_type": "code",
      "source": [
        "y_pred = model_mn.predict(x_test_scaled)\n",
        "y_pred[:9]"
      ],
      "metadata": {
        "colab": {
          "base_uri": "https://localhost:8080/"
        },
        "outputId": "13ce0cb7-af0a-4da5-dc60-52ef7ec4c4df",
        "id": "YFMMM-fP82IX"
      },
      "execution_count": null,
      "outputs": [
        {
          "output_type": "execute_result",
          "data": {
            "text/plain": [
              "array(['Sat', 'Sat', 'Sat', 'Sat', 'Sun', 'Sun', 'Sun', 'Sun', 'Thur'],\n",
              "      dtype=object)"
            ]
          },
          "metadata": {},
          "execution_count": 77
        }
      ]
    },
    {
      "cell_type": "markdown",
      "source": [
        "それぞれのラベルの確率$p(X)$を取得したいときは、  \n",
        "**`.predict_proba(X)`**を使います。"
      ],
      "metadata": {
        "id": "xV0gjvdT82IY"
      }
    },
    {
      "cell_type": "code",
      "source": [
        "y_pred_mn = model_mn.predict_proba(x_test_scaled)\n",
        "print(model_mn.classes_)  # クラスの値\n",
        "print(model_mn.intercept_)  # 切片の値\n",
        "print(y_pred_mn[:9])  # それぞれの出現確率"
      ],
      "metadata": {
        "colab": {
          "base_uri": "https://localhost:8080/"
        },
        "outputId": "f0097e5b-0741-4317-a764-27f149ef1236",
        "id": "RdkWqp2h82IY"
      },
      "execution_count": null,
      "outputs": [
        {
          "output_type": "stream",
          "name": "stdout",
          "text": [
            "['Fri' 'Sat' 'Sun' 'Thur']\n",
            "[ 1.87222867 -0.79407369 -0.4497952  -0.62835978]\n",
            "[[1.70259668e-01 6.35448936e-01 1.94291396e-01 9.43492608e-11]\n",
            " [1.63342008e-01 6.32572766e-01 2.04085226e-01 2.46751776e-11]\n",
            " [1.93972950e-01 6.40028519e-01 1.65998528e-01 1.79183839e-09]\n",
            " [1.34569527e-01 6.23996807e-01 2.41433666e-01 1.53507948e-10]\n",
            " [2.37351691e-02 3.98835236e-01 5.72139449e-01 5.29014544e-03]\n",
            " [6.90835769e-02 4.56018199e-01 4.64069242e-01 1.08289823e-02]\n",
            " [6.85743652e-03 3.35560792e-01 6.18708327e-01 3.88734443e-02]\n",
            " [1.72153964e-02 3.48996008e-01 6.05658316e-01 2.81302793e-02]\n",
            " [4.26949711e-09 2.80391236e-16 1.89348135e-15 9.99999996e-01]]\n"
          ]
        }
      ]
    },
    {
      "cell_type": "markdown",
      "source": [
        "係数の値を確認してみましょう。"
      ],
      "metadata": {
        "id": "TWHAfyG-82IZ"
      }
    },
    {
      "cell_type": "code",
      "source": [
        "# coefficient  係数\n",
        "print(pd.Series(model_mn.coef_[0], index=x.columns))"
      ],
      "metadata": {
        "colab": {
          "base_uri": "https://localhost:8080/"
        },
        "outputId": "aff508ae-e1aa-4636-e278-0be202c860c5",
        "id": "kKhylxX282IZ"
      },
      "execution_count": null,
      "outputs": [
        {
          "output_type": "stream",
          "name": "stdout",
          "text": [
            "total_bill    -0.335634\n",
            "tip           -0.095471\n",
            "size          -0.565336\n",
            "sex_Female    -0.025154\n",
            "smoker_No     -2.603051\n",
            "time_Dinner   -1.399636\n",
            "dtype: float64\n"
          ]
        }
      ]
    },
    {
      "cell_type": "markdown",
      "source": [
        "#### 交差エントロピーの導出(多項ロジスティック回帰)"
      ],
      "metadata": {
        "id": "R9KiwyLP82Ia"
      }
    },
    {
      "cell_type": "markdown",
      "source": [
        "学習(fit)時には、学習データにおける交差エントロピーを最小にするように、  \n",
        "パラメータ$\\theta$を求めています。\n",
        "\n",
        "その後、テストデータを使って交差エントロピーを求めたい場合、  \n",
        "`log_loss(y_test, y_pred_proba)`を使って求めることができます。"
      ],
      "metadata": {
        "id": "9dxU3qoC82Ia"
      }
    },
    {
      "cell_type": "code",
      "source": [
        "from sklearn.metrics import log_loss\n",
        "log_loss(y_test, y_pred_mn)"
      ],
      "metadata": {
        "colab": {
          "base_uri": "https://localhost:8080/"
        },
        "outputId": "75d29fdc-8d46-4ce9-c54a-1e46951c5f26",
        "id": "J_W9saUb82Ia"
      },
      "execution_count": null,
      "outputs": [
        {
          "output_type": "execute_result",
          "data": {
            "text/plain": [
              "0.9231915699705989"
            ]
          },
          "metadata": {},
          "execution_count": 74
        }
      ]
    },
    {
      "cell_type": "markdown",
      "source": [
        "この値の値が小さければ小さいほど、優秀なモデルであると言えます。    \n",
        "今回はこの数字の解釈はしません。\n",
        "\n",
        "パラメータを変更することで精度向上が期待できます。  \n",
        "パラメータについては[こちら](https://datawokagaku.com/logstic_reg_python/#i-3)が参考にしてください。"
      ],
      "metadata": {
        "id": "Bd4LujBG82Ib"
      }
    },
    {
      "cell_type": "markdown",
      "source": [
        "#### OvRと多項ロジスティック回帰の比較"
      ],
      "metadata": {
        "id": "OGECwabf_UUR"
      }
    },
    {
      "cell_type": "markdown",
      "source": [
        "それぞれの出現回数を比較してみましょう。"
      ],
      "metadata": {
        "id": "6HkvAIrvA6jd"
      }
    },
    {
      "cell_type": "code",
      "source": [
        "print(model_ovr.classes_)  # クラスの値\n",
        "print(model_ovr.intercept_)  # 切片の値\n",
        "print(y_pred_ovr[:9])  # それぞれの出現確率"
      ],
      "metadata": {
        "colab": {
          "base_uri": "https://localhost:8080/"
        },
        "id": "xjCww4FrAaho",
        "outputId": "28679cf8-9dc9-4f2b-f169-50a2afe34b17"
      },
      "execution_count": null,
      "outputs": [
        {
          "output_type": "stream",
          "name": "stdout",
          "text": [
            "['Fri' 'Sat' 'Sun' 'Thur']\n",
            "[-3.11653006 -5.40578074 -5.61625749 -5.19689633]\n",
            "[[1.97321539e-01 6.13879239e-01 1.88799222e-01 2.68153201e-11]\n",
            " [2.16487947e-01 5.88394769e-01 1.95117284e-01 9.14947740e-12]\n",
            " [1.61248088e-01 6.72221388e-01 1.66530523e-01 2.77217780e-10]\n",
            " [1.69772464e-01 5.96155809e-01 2.34071726e-01 4.49290769e-11]\n",
            " [1.79213405e-02 4.02513973e-01 5.74134335e-01 5.43035151e-03]\n",
            " [4.21007563e-02 4.67954147e-01 4.83853377e-01 6.09172035e-03]\n",
            " [4.15021584e-03 3.40036140e-01 6.03192149e-01 5.26214949e-02]\n",
            " [1.20132272e-02 3.60810960e-01 6.03684252e-01 2.34915607e-02]\n",
            " [4.33358370e-02 1.97928620e-09 2.50188309e-09 9.56664159e-01]]\n"
          ]
        }
      ]
    },
    {
      "cell_type": "code",
      "source": [
        "y_pred_mn = model_mn.predict_proba(x_test_scaled)\n",
        "print(model_mn.classes_)  # クラスの値\n",
        "print(model_mn.intercept_)  # 切片の値\n",
        "print(y_pred_mn[:9])  # それぞれの出現確率"
      ],
      "metadata": {
        "colab": {
          "base_uri": "https://localhost:8080/"
        },
        "id": "D1ePfFaJCLX8",
        "outputId": "4f052578-e6d0-401a-a6fc-cabc8326ede8"
      },
      "execution_count": null,
      "outputs": [
        {
          "output_type": "stream",
          "name": "stdout",
          "text": [
            "['Fri' 'Sat' 'Sun' 'Thur']\n",
            "[ 1.87222867 -0.79407369 -0.4497952  -0.62835978]\n",
            "[[1.70259668e-01 6.35448936e-01 1.94291396e-01 9.43492608e-11]\n",
            " [1.63342008e-01 6.32572766e-01 2.04085226e-01 2.46751776e-11]\n",
            " [1.93972950e-01 6.40028519e-01 1.65998528e-01 1.79183839e-09]\n",
            " [1.34569527e-01 6.23996807e-01 2.41433666e-01 1.53507948e-10]\n",
            " [2.37351691e-02 3.98835236e-01 5.72139449e-01 5.29014544e-03]\n",
            " [6.90835769e-02 4.56018199e-01 4.64069242e-01 1.08289823e-02]\n",
            " [6.85743652e-03 3.35560792e-01 6.18708327e-01 3.88734443e-02]\n",
            " [1.72153964e-02 3.48996008e-01 6.05658316e-01 2.81302793e-02]\n",
            " [4.26949711e-09 2.80391236e-16 1.89348135e-15 9.99999996e-01]]\n"
          ]
        }
      ]
    },
    {
      "cell_type": "markdown",
      "source": [
        "今回\"Thur\"のデータは、\"Sat\"や\"Sun\"のデータに比べると少ないです。"
      ],
      "metadata": {
        "id": "xb-9aVLCC18U"
      }
    },
    {
      "cell_type": "code",
      "source": [
        "# 予測結果 y_pred の各クラスの出現回数を求める\n",
        "y_pred = model_ovr.predict(x_test_scaled)\n",
        "unique_classes, counts = np.unique(y_pred, return_counts=True)\n",
        "\n",
        "# クラスと出現回数を表示\n",
        "for cls, count in zip(unique_classes, counts):\n",
        "    print(f\"クラス {cls}: {count}回\")"
      ],
      "metadata": {
        "colab": {
          "base_uri": "https://localhost:8080/"
        },
        "id": "z64lARNnDOTE",
        "outputId": "a79cb292-cf9c-4985-fcc1-892d0601e3fd"
      },
      "execution_count": null,
      "outputs": [
        {
          "output_type": "stream",
          "name": "stdout",
          "text": [
            "クラス Sat: 25回\n",
            "クラス Sun: 27回\n",
            "クラス Thur: 22回\n"
          ]
        }
      ]
    },
    {
      "cell_type": "code",
      "source": [
        "# 予測結果 y_pred の各クラスの出現回数を求める\n",
        "y_pred = model_mn.predict(x_test_scaled)\n",
        "unique_classes, counts = np.unique(y_pred, return_counts=True)\n",
        "\n",
        "# クラスと出現回数を表示\n",
        "for cls, count in zip(unique_classes, counts):\n",
        "    print(f\"クラス {cls}: {count}回\")"
      ],
      "metadata": {
        "colab": {
          "base_uri": "https://localhost:8080/"
        },
        "id": "CCjluNI4DERd",
        "outputId": "c9d99eb5-7f5b-44df-eb10-89e439565b13"
      },
      "execution_count": null,
      "outputs": [
        {
          "output_type": "stream",
          "name": "stdout",
          "text": [
            "クラス Sat: 25回\n",
            "クラス Sun: 27回\n",
            "クラス Thur: 22回\n"
          ]
        }
      ]
    },
    {
      "cell_type": "markdown",
      "source": [
        "今回はこの\"Thr\"であると予測したデータについてになりますが、  \n",
        "明らかにそのクラスだというデータに対しては、出力結果が変わります。"
      ],
      "metadata": {
        "id": "YPE8jMtxFqtr"
      }
    },
    {
      "cell_type": "code",
      "source": [
        "print(model_mn.classes_)  # クラスの値\n",
        "print(y_pred_ovr[8])  # 出現確率(OvR)\n",
        "print(y_pred_mn[8])  # 出現確率(多項ロジスティック回帰)"
      ],
      "metadata": {
        "colab": {
          "base_uri": "https://localhost:8080/"
        },
        "id": "ARRb_bZ8GlCD",
        "outputId": "2127e4b7-7e11-4343-fddf-8071b13e75b4"
      },
      "execution_count": null,
      "outputs": [
        {
          "output_type": "stream",
          "name": "stdout",
          "text": [
            "['Fri' 'Sat' 'Sun' 'Thur']\n",
            "[4.33358370e-02 1.97928620e-09 2.50188309e-09 9.56664159e-01]\n",
            "[4.26949711e-09 2.80391236e-16 1.89348135e-15 9.99999996e-01]\n"
          ]
        }
      ]
    },
    {
      "cell_type": "markdown",
      "source": [
        "OvRのときは、3つのモデルを作って最後確率に戻したりしている関係で、  \n",
        "それぞれのクラスの確率は比較的ならされています。\n",
        "\n",
        "一方、多項ロジスティック回帰のときは、一つのモデルで直接学習をしている関係で、\n",
        "明らかにそのモデルだとわかった時は確率値が極端になりがちです。"
      ],
      "metadata": {
        "id": "z-PpPd8sG6pB"
      }
    }
  ]
}