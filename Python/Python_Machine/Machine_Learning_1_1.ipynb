{
  "nbformat": 4,
  "nbformat_minor": 0,
  "metadata": {
    "colab": {
      "provenance": [],
      "toc_visible": true,
      "authorship_tag": "ABX9TyOGYmkXYylRRev9mtbf1G3c",
      "include_colab_link": true
    },
    "kernelspec": {
      "name": "python3",
      "display_name": "Python 3"
    },
    "language_info": {
      "name": "python"
    }
  },
  "cells": [
    {
      "cell_type": "markdown",
      "metadata": {
        "id": "view-in-github",
        "colab_type": "text"
      },
      "source": [
        "<a href=\"https://colab.research.google.com/github/kiryu-3/Prmn2023/blob/main/Python/Python_Machine/Machine_Learning_1_1.ipynb\" target=\"_parent\"><img src=\"https://colab.research.google.com/assets/colab-badge.svg\" alt=\"Open In Colab\"/></a>"
      ]
    },
    {
      "cell_type": "markdown",
      "source": [
        "# 重回帰分析ー知識編"
      ],
      "metadata": {
        "id": "3JB9kxUhNfJr"
      }
    },
    {
      "cell_type": "code",
      "source": [
        "# 最初にインポートしてください\n",
        "from sklearn.datasets import fetch_openml\n",
        "\n",
        "import numpy as np\n",
        "import pandas as pd\n",
        "import seaborn as sns\n",
        "import matplotlib.pyplot as plt\n",
        "\n",
        "# 日本語を利用するためにimport\n",
        "!pip install japanize-matplotlib\n",
        "import japanize_matplotlib"
      ],
      "metadata": {
        "id": "ZXxq2uhI0QIt"
      },
      "execution_count": null,
      "outputs": []
    },
    {
      "cell_type": "markdown",
      "source": [
        "## 説明変数と目的変数"
      ],
      "metadata": {
        "id": "pKXFjOs6R-Bn"
      }
    },
    {
      "cell_type": "markdown",
      "source": [
        "「何かの原因となっている変数」を**説明変数**、  \n",
        "「その原因を受けて発生した結果となっている変数」を**目的変数**、  \n",
        "といいます。"
      ],
      "metadata": {
        "id": "f6joGibHSBOG"
      }
    },
    {
      "cell_type": "markdown",
      "source": [
        "説明変数と目的変数にはいくつかの表現があります。  \n",
        "詳しくは[こちら](https://bit.ly/3kl6M6S)を参照してください。"
      ],
      "metadata": {
        "id": "gkIsmuOsSWXO"
      }
    },
    {
      "cell_type": "markdown",
      "source": [
        "## 回帰"
      ],
      "metadata": {
        "id": "keRaZCJtS_8t"
      }
    },
    {
      "cell_type": "markdown",
      "source": [
        "**目的変数**$y$について**説明変数**$x$を使った式で表すことを**回帰**といいます。"
      ],
      "metadata": {
        "id": "clzzn-HKTK4M"
      }
    },
    {
      "cell_type": "markdown",
      "source": [
        "例として、身長から体重を予測することを考えてみましょう。\n",
        "\n",
        "身長170cmである場合の平均的な体重を予測しようとしたとき、  \n",
        "「身長が170cm」という条件付きでの体重の平均を，**条件付き平均**といいます。"
      ],
      "metadata": {
        "id": "-FgGGr3NYPFk"
      }
    },
    {
      "cell_type": "markdown",
      "source": [
        "この**条件付き平均**を以下のような**回帰直線**（**線形回帰**ともいう）を使って求めるのが回帰です。\n",
        "\n",
        "$$\n",
        "\\hat{y}=\\theta_0+\\theta_1x_1+\\theta_2x_2+ … + \\theta_nx_n\n",
        "$$\n",
        "\n",
        "$\\hat{y}$は、$x$に対する$y$の条件付き平均です。"
      ],
      "metadata": {
        "id": "DSftyJTbZNM6"
      }
    },
    {
      "cell_type": "markdown",
      "source": [
        "### 最小二乗法"
      ],
      "metadata": {
        "id": "TrDAvDA8CyjB"
      }
    },
    {
      "cell_type": "markdown",
      "source": [
        "パラメータ $\\theta_0 , \\theta_1 , \\theta_2, ･･･ \\theta_n,$ を求めることができれば、  \n",
        "回帰直線が一つに定まります。"
      ],
      "metadata": {
        "id": "R33qQtaaDgF1"
      }
    },
    {
      "cell_type": "markdown",
      "source": [
        "予測値と実測値の差のことを**残差**と呼びます。  \n",
        "（よく聞く「**誤差**」というワードと「**残差**」の違いについては[こちら](https://bit.ly/3KHNXFo)を参照してください。）\n",
        "\n",
        "**残差の二乗和を最小にする**アルゴリズムを**最小二乗法**と呼びます。\n"
      ],
      "metadata": {
        "id": "pUtEiFR4EcJl"
      }
    },
    {
      "cell_type": "markdown",
      "source": [
        "特徴量が一つの場合を例とします。  \n",
        "このとき、回帰直線は以下のように定まるものとします。\n",
        "\n",
        "$$\n",
        "\\hat{f}(x_i) = a + bx_i　(a=\\theta_0 , b=\\theta_1)\n",
        "$$"
      ],
      "metadata": {
        "id": "d24V1rmGGmVa"
      }
    },
    {
      "cell_type": "markdown",
      "source": [
        "$\\hat{y}$ は**条件付き平均**、つまり予測値であるので、  \n",
        "実際のデータとは多少の誤差があると考えられます。\n",
        "\n",
        "![リンクテキスト](https://imgur.com/pAMsBS6.png)\n"
      ],
      "metadata": {
        "id": "lWvV1Jare7zf"
      }
    },
    {
      "cell_type": "markdown",
      "source": [
        "残差は以下のようにして求めることができます。\n",
        "\n",
        "![リンクテキスト](https://imgur.com/PMQhVAu.png)\n"
      ],
      "metadata": {
        "id": "ACyWZFIvmZ4o"
      }
    },
    {
      "cell_type": "markdown",
      "source": [
        "**残差の二乗の和**が最小になるような $a$ と$b$ を求めるのが、最小二乗法になります。\n",
        "\n",
        "$$\n",
        "\\sum^{n}_{i=1}{e_i^2}=\\sum^{n}_{i=1}{\\left\\{y_i-(a+bx_i)\\right\\}^2} = \\sum^{n}_{i=1}({y_i-\\hat{f}(x_i))^2}\n",
        "$$\n",
        "\n",
        "上の式のように、「**予測値と実測値のずれを計算する関数**」のことを**損失関数**と呼びます。"
      ],
      "metadata": {
        "id": "N_aQLNZ6ndT2"
      }
    },
    {
      "cell_type": "markdown",
      "source": [
        "残差の二乗和を損失関数として使ってもいいんですが、  \n",
        "計算を楽にするために残差の二乗の平均を使うことが多いようです。\n",
        "\n",
        "$$\n",
        "MSE = \\frac{1}{m}\\sum^{m}_{i=1}({y_i-\\hat{f}(x_i))^2}\n",
        "$$"
      ],
      "metadata": {
        "id": "8dYrO2GsI_lH"
      }
    },
    {
      "cell_type": "markdown",
      "source": [
        "今回の場合であれば後は $a$ と $b$ の値を求めて、  \n",
        "損失関数を「最小化」していくのみとなります。"
      ],
      "metadata": {
        "id": "gQsOiJUbHz-X"
      }
    },
    {
      "cell_type": "markdown",
      "source": [
        "ここまでは特徴量が一つの場合を見てきましたが、特徴量が複数になっても基本的な流れは同じです。"
      ],
      "metadata": {
        "id": "6J_i-9oYHSlk"
      }
    },
    {
      "cell_type": "markdown",
      "source": [
        "## 重回帰分析"
      ],
      "metadata": {
        "id": "9lA7t5nYSCIU"
      }
    },
    {
      "cell_type": "markdown",
      "source": [
        "複数の説明変数 $x_i$ ($i=1,2,3,…n$)を用いて目的変数$y$を表す回帰分析を  \n",
        "**重回帰分析**といいます。"
      ],
      "metadata": {
        "id": "0XWuTra4SEqs"
      }
    },
    {
      "cell_type": "markdown",
      "source": [
        "### 重回帰分析の流れ"
      ],
      "metadata": {
        "id": "Ck2NBXvjd9Js"
      }
    },
    {
      "cell_type": "markdown",
      "source": [
        "① **モデル**を決める  \n",
        "② **損失関数**を決める  \n",
        "③ 損失関数を「**最小化**」する"
      ],
      "metadata": {
        "id": "en762NlLeAH9"
      }
    },
    {
      "cell_type": "markdown",
      "source": [
        "#### モデルを決める"
      ],
      "metadata": {
        "id": "YRRY_-OFS6Ts"
      }
    },
    {
      "cell_type": "markdown",
      "source": [
        "今回は特徴量が複数なので、各データの値を$x_{ij}$とし、  \n",
        "$j$番目の特徴量の$i$番目のデータという風にします。"
      ],
      "metadata": {
        "id": "v9suKmAsbS1K"
      }
    },
    {
      "cell_type": "markdown",
      "source": [
        "予測値 $\\hat{y}_i$ は以下の式で表されます。\n",
        "\n",
        "$$\n",
        "\\hat{y}_i = \\theta_1x_{i1} + \\theta_2x_{i2} + … + \\theta_nx_{in}\n",
        "$$\n",
        "\n",
        "説明変数の重要度が高いものはパラメータ $\\theta$ の値が大きくなります。"
      ],
      "metadata": {
        "id": "CA7oO7TDS8lK"
      }
    },
    {
      "cell_type": "markdown",
      "source": [
        "$$\n",
        "\\hat{f}(X)=\\theta_0+\\theta_1X_1+\\theta_2X_2+ … + \\theta_nX_n\n",
        "$$"
      ],
      "metadata": {
        "id": "hJIVEpcQgtnm"
      }
    },
    {
      "cell_type": "markdown",
      "source": [
        "#### 損失関数を決める"
      ],
      "metadata": {
        "id": "BT0ZLjxwX0aB"
      }
    },
    {
      "cell_type": "markdown",
      "source": [
        "**最小二乗法**によって求めます。   \n",
        "損失関数は残差の二乗の平均を使います。  \n"
      ],
      "metadata": {
        "id": "UnUfTeVzc9w1"
      }
    },
    {
      "cell_type": "markdown",
      "source": [
        "$$\n",
        "\\frac{1}{m}\\sum^{m}_{i=1}{e_i^2}=\\frac{1}{m}\\ \\sum^{m}_{i=1}({y_i-\\hat{f}(x_i))^2}\n",
        "$$"
      ],
      "metadata": {
        "id": "-U2dRio3X3eM"
      }
    },
    {
      "cell_type": "markdown",
      "source": [
        "#### 損失関数を「最小化」する"
      ],
      "metadata": {
        "id": "YXPLYaNWd2dF"
      }
    },
    {
      "cell_type": "markdown",
      "source": [
        "パラメータ $\\theta$ は通常、簡単には求めることができません。\n",
        "\n",
        "線形回帰の場合、導出方法は2つほどあります。"
      ],
      "metadata": {
        "id": "82cWszruka68"
      }
    },
    {
      "cell_type": "markdown",
      "source": [
        "##### 最急降下法"
      ],
      "metadata": {
        "id": "TPWttkhCp70r"
      }
    },
    {
      "cell_type": "markdown",
      "source": [
        "**最急降下法**は、最も急になる方向に少しずつパラメータを動かして最適解を探る方法です。\n",
        "\n",
        "機械学習ではこのように、パラメータを徐々に最適解に近づけていくことを  \n",
        "**「学習する」**といいます。"
      ],
      "metadata": {
        "id": "jDuibJfOqLD8"
      }
    },
    {
      "cell_type": "markdown",
      "source": [
        "回帰式を $\\hat{f}(X)=\\theta_0+\\theta_1X_1+\\theta_2X_2+ … + \\theta_nX_n$ としたとき、  \n",
        "損失関数を以下のように表すとします。\n",
        "\n",
        "$$\n",
        "L(\\theta)=\\frac{1}{m}\\sum^{m}_{i=1}(y_i-\\hat{f}(x_i))^2\n",
        "$$\n",
        "\n",
        "\n"
      ],
      "metadata": {
        "id": "0iE0Krt_sbx2"
      }
    },
    {
      "cell_type": "markdown",
      "source": [
        "最急降下法のイメージ図は以下のような感じです。  \n",
        "（参考：https://shorturl.at/uS156 ）\n",
        "\n",
        "![](https://imgur.com/EZKpssC.png)"
      ],
      "metadata": {
        "id": "HnGIdaJCxt2F"
      }
    },
    {
      "cell_type": "markdown",
      "source": [
        "ある地点での接線の傾きの係数は微分で求めることができます。  \n",
        "（参考：https://shorturl.at/ozEZ3 ）\n",
        "\n",
        "![](https://imgur.com/pXDUIIx.png)"
      ],
      "metadata": {
        "id": "2hi-MZBC0czm"
      }
    },
    {
      "cell_type": "markdown",
      "source": [
        "それぞれのパラメータを以下の式で同時に更新していきます。\n",
        "\n",
        "$$\n",
        "\\theta_0 := \\theta_0 – \\alpha\\frac{\\partial}{\\partial\\theta_0}L(\\theta)\n",
        "$$\n",
        "\n",
        "$$\n",
        "\\theta_1 := \\theta_1 – \\alpha\\frac{\\partial}{\\partial\\theta_1}L(\\theta)\n",
        "$$\n",
        "\n",
        "\n",
        "$$\n",
        "・\n",
        "$$\n",
        "$$  \n",
        "・  \n",
        "$$\n",
        "$$  \n",
        "・  \n",
        "$$\n",
        "\n",
        "$$\n",
        "\\theta_n := \\theta_n – \\alpha\\frac{\\partial}{\\partial\\theta_n}L(\\theta)\n",
        "$$"
      ],
      "metadata": {
        "id": "0iF_eZsu2AVE"
      }
    },
    {
      "cell_type": "markdown",
      "source": [
        "偏微分の結果は以下のようになります。\n",
        "\n",
        "$$\n",
        "\\frac{\\partial}{\\partial\\theta_0}L(\\theta)=-\\frac{2}{m}\\sum^{m}_{i=1}(y_i-(\\theta_0+\\theta_1x_{i1} … \\theta_nx_{in}))\n",
        "$$\n",
        "\n",
        "$$\n",
        "\\frac{\\partial}{\\partial\\theta_1}L(\\theta)=-\\frac{2}{m}\\sum^{m}_{i=1}(y_i-(\\theta_0+\\theta_1x_{i1} … \\theta_nx_{in}))x_{i1}\n",
        "$$\n",
        "\n",
        "$$\n",
        "\\frac{\\partial}{\\partial\\theta_n}L(\\theta)=-\\frac{2}{m}\\sum^{m}_{i=1}(y_i-(\\theta_0+\\theta_1x_{i1} … \\theta_nx_{in}))x_{in}\n",
        "$$\n",
        "\n",
        "※計算過程の詳細について  \n",
        "①カメさんのブログ：https://shorturl.at/bzPY5  \n",
        "②からっぽのしょこさんのブログ：https://www.anarchive-beta.com/entry/2021/08/15/203504"
      ],
      "metadata": {
        "id": "8Rdyfhpu3V17"
      }
    },
    {
      "cell_type": "markdown",
      "source": [
        "##### 正規方程式"
      ],
      "metadata": {
        "id": "ZbEDljib_g_r"
      }
    },
    {
      "cell_type": "markdown",
      "source": [
        "回帰式を $\\hat{f}(X)=\\theta_0+\\theta_1X_1+\\theta_2X_2+ … + \\theta_nX_n$ としたとき、  \n",
        "損失関数を以下のように表すとします。\n",
        "\n",
        "$$\n",
        "L(\\theta)=\\frac{1}{m}\\sum^{m}_{i=1}(y_i-\\hat{f}(x_i))^2\n",
        "$$\n",
        "\n",
        "\n"
      ],
      "metadata": {
        "id": "LTFs9CxkBTUx"
      }
    },
    {
      "cell_type": "markdown",
      "source": [
        "誤差を考慮する必要があるので、これを $b$（**バイアス**）で表します。\n",
        "\n",
        "式を書き直すと以下のようになります。\n",
        "\n",
        "$$\n",
        "\\hat{f}(x_i) = \\theta_1x_{i1} + \\theta_2x_{i2} + … + \\theta_nx_{in} + b\n",
        "$$"
      ],
      "metadata": {
        "id": "cPfn-PBMUjiZ"
      }
    },
    {
      "cell_type": "markdown",
      "source": [
        "$b = \\theta_0×x_0 = \\theta_0×1$ とダミーの変数を用いることで、  \n",
        "形式を他の項に合わせることができます。\n",
        "\n",
        "$$\n",
        "\\hat{f}(x_i) = \\theta_1x_{i1} + \\theta_2x_{i2} + … + \\theta_nx_{in} + \\theta_0x_{i0}\n",
        "$$"
      ],
      "metadata": {
        "id": "Puo60nX5VAU-"
      }
    },
    {
      "cell_type": "markdown",
      "source": [
        "これを行列の形に変形します。\n",
        "\n",
        "$$\n",
        "\\begin{bmatrix}\n",
        "\\hat{y}_1 \\\\\n",
        "\\hat{y}_2 \\\\\n",
        "\\vdots \\\\\n",
        "\\hat{y}_{m-1} \\\\\n",
        "\\hat{y}_m \\\\\n",
        "\\end{bmatrix}\n",
        "=\n",
        "\\begin{bmatrix}\n",
        "x_{10} & x_{11} & \\cdots & x_{1n-1} & x_{1n}   \\\\\n",
        "x_{20} & x_{21} & \\cdots & x_{2n-1} & x_{2n}   \\\\\n",
        "\\vdots & \\vdots & \\cdots & \\vdots & \\vdots \\\\\n",
        "x_{m-10} & x_{m-11} & \\cdots & x_{m-1n-1} & x_{m-1n}   \\\\\n",
        "x_{m0} & x_{m1} & \\cdots & x_{mn-1} & x_{mn}   \\\\\n",
        "\\end{bmatrix}\n",
        "\\begin{bmatrix}\n",
        "\\theta_0 \\\\\n",
        "\\theta_1 \\\\\n",
        "\\vdots \\\\\n",
        "\\vdots \\\\\n",
        "\\theta_{n-1} \\\\\n",
        "\\theta_n \\\\\n",
        "\\end{bmatrix}\n",
        "$$"
      ],
      "metadata": {
        "id": "soGcnj9rDUmt"
      }
    },
    {
      "cell_type": "markdown",
      "source": [
        "これを行列の形に変形します。\n",
        "\n",
        "$$\n",
        "\\begin{bmatrix}\n",
        "\\hat{y}_1 \\\\\n",
        "\\hat{y}_2 \\\\\n",
        "\\vdots \\\\\n",
        "\\hat{y}_{m-1} \\\\\n",
        "\\hat{y}_m \\\\\n",
        "\\end{bmatrix}\n",
        "=\n",
        "\\begin{bmatrix}\n",
        "x_{10} & x_{11} & \\cdots & x_{1n-1} & x_{1n}   \\\\\n",
        "x_{20} & x_{21} & \\cdots & x_{2n-1} & x_{2n}   \\\\\n",
        "\\vdots & \\vdots & \\cdots & \\vdots & \\vdots \\\\\n",
        "x_{m-10} & x_{m-11} & \\cdots & x_{m-1n-1} & x_{m-1n}   \\\\\n",
        "x_{m0} & x_{m1} & \\cdots & x_{mn-1} & x_{mn}   \\\\\n",
        "\\end{bmatrix}\n",
        "\\begin{bmatrix}\n",
        "\\theta_0 \\\\\n",
        "\\theta_1 \\\\\n",
        "\\vdots \\\\\n",
        "\\vdots \\\\\n",
        "\\theta_{n-1} \\\\\n",
        "\\theta_n \\\\\n",
        "\\end{bmatrix}\n",
        "$$"
      ],
      "metadata": {
        "id": "794yVgO5Vzos"
      }
    },
    {
      "cell_type": "markdown",
      "source": [
        "それぞれの行列およびベクトルを $\\mathbf{\\hat{y}},\\mathbf{X},\\theta$ とすると、\n",
        "\n",
        "$$\n",
        "\\mathbf{\\hat{y}}=\\mathbf{X}\\mathbf{\\theta}\n",
        "$$\n",
        "\n",
        "と表すことができます。"
      ],
      "metadata": {
        "id": "WUF3r8XHek-r"
      }
    },
    {
      "cell_type": "markdown",
      "source": [
        "損失関数は以下のように計算できます。\n",
        "\n",
        "$$\n",
        "\\begin{align*}\n",
        "\\sum^{m}_{i=1}(y_i-\\hat{y_i})^2&=(\\mathbf{y}-\\mathbf{X}\\mathbf{\\theta})^T(\\mathbf{y}-\\mathbf{X}\\mathbf{\\theta})\\\\\n",
        "&=(\\mathbf{y}^T-\\mathbf{\\theta}^T\\mathbf{X}^T)(\\mathbf{y}-\\mathbf{X}\\mathbf{\\theta})\\\\\n",
        "&=\\mathbf{y}^T\\mathbf{y}-2\\mathbf{\\theta}^T\\mathbf{X}^T\\mathbf{y}+\\mathbf{\\theta}^T\\mathbf{X}^T\\mathbf{X}\\theta\n",
        "\\end{align*}\n",
        "$$\n",
        "\n"
      ],
      "metadata": {
        "id": "d2wyIvV6GgUW"
      }
    },
    {
      "cell_type": "markdown",
      "source": [
        "これを$\\theta$で偏微分して、0になる$\\theta$が最適解になります。\n",
        "\n",
        "$$\n",
        "\\begin{align*}\n",
        "-2\\mathbf{X}^T\\mathbf{y}+2\\mathbf{X}^T\\mathbf{X}\\theta=0\n",
        "\\end{align*}\n",
        "$$"
      ],
      "metadata": {
        "id": "syWLSRS-G3in"
      }
    },
    {
      "cell_type": "markdown",
      "source": [
        "損失関数を計算すると、以下のような結果が得られます。\n",
        "\n",
        "$$\n",
        "\\theta=(\\mathbf{X}^T\\mathbf{X})^{-1}\\mathbf{X}^T\\mathbf{y}\n",
        "$$\n",
        "\n",
        "（答えの導出過程は[こちら](https://bit.ly/3lTzKuL) を参照してください。)"
      ],
      "metadata": {
        "id": "GU3v_ZpLHmXc"
      }
    },
    {
      "cell_type": "markdown",
      "source": [
        "##### 最急降下法と正規方程式"
      ],
      "metadata": {
        "id": "C_qSFqyoIAz8"
      }
    },
    {
      "cell_type": "markdown",
      "source": [
        "一発の数式でパッと解を出せるのが**正規方程式**の大きな特徴です。\n",
        "\n",
        "しかし、特徴量の数$n$が多すぎると$(\\mathbf{X}^T\\mathbf{X})^{-1}$の計算に時間がかかります。  \n",
        "計算量は$n^3$のペースで増えていくようです。"
      ],
      "metadata": {
        "id": "aecf1V6JIG5L"
      }
    },
    {
      "cell_type": "markdown",
      "source": [
        "$n$が大きい場合（1万とか？）は、**最急降下法**を使って解くことが一般的なようです。"
      ],
      "metadata": {
        "id": "tB0aXNTrJSty"
      }
    },
    {
      "cell_type": "markdown",
      "source": [
        "## 特徴量スケーリング"
      ],
      "metadata": {
        "id": "kMNCM981bYFB"
      }
    },
    {
      "cell_type": "markdown",
      "source": [
        "**特徴量スケーリング(feature scaling)**は、尺度が異なる特徴量を揃える前処理の一つです。\n",
        "\n",
        "最急降下法のような勾配法を使用したアルゴリズムや距離を使うアルゴリズムでは必要となります。\n"
      ],
      "metadata": {
        "id": "edYbLEZmbhTx"
      }
    },
    {
      "cell_type": "markdown",
      "source": [
        "### 標準化\n"
      ],
      "metadata": {
        "id": "4hToXoiHcPbn"
      }
    },
    {
      "cell_type": "markdown",
      "source": [
        "平均を0、分散を1にすることを**標準化**といいます。  \n",
        "次の式で表されます。$x$が変数です。\n",
        "\n",
        "$$\n",
        "z=\\frac{x-μ}{σ}\n",
        "$$\n",
        "\n",
        "この計算を通して得られた値を**$z$得点**といいます。"
      ],
      "metadata": {
        "id": "3OF-pBmucQxG"
      }
    },
    {
      "cell_type": "markdown",
      "source": [
        "標準化することによって尺度を揃えることができ、比較することが可能となります。\n",
        "\n",
        "また、学習を安定させる効果もあります。"
      ],
      "metadata": {
        "id": "tYb5BMg6ckdO"
      }
    },
    {
      "cell_type": "markdown",
      "source": [
        "### 使用するデータセット"
      ],
      "metadata": {
        "id": "xLZ4FezYbtWG"
      }
    },
    {
      "cell_type": "markdown",
      "source": [
        "標準化のテストとして、今回は、seabornのサンプル用データセット\"tips\"を利用します。\n",
        "\n",
        "データセットは、pandas.DataFrameオブジェクトとして取得することができます。\n",
        "\n",
        "（参考サイト：[こちら](https://biotech-lab.org/articles/1408#i)）"
      ],
      "metadata": {
        "id": "0HRxrbCGk9Ss"
      }
    },
    {
      "cell_type": "code",
      "source": [
        "tips = sns.load_dataset('tips')\n",
        "tips.info()"
      ],
      "metadata": {
        "colab": {
          "base_uri": "https://localhost:8080/"
        },
        "id": "-l33pW7wj692",
        "outputId": "9f3b6a83-8e1d-4df0-bf82-77d7305d9ad4"
      },
      "execution_count": null,
      "outputs": [
        {
          "output_type": "stream",
          "name": "stdout",
          "text": [
            "<class 'pandas.core.frame.DataFrame'>\n",
            "RangeIndex: 244 entries, 0 to 243\n",
            "Data columns (total 7 columns):\n",
            " #   Column      Non-Null Count  Dtype   \n",
            "---  ------      --------------  -----   \n",
            " 0   total_bill  244 non-null    float64 \n",
            " 1   tip         244 non-null    float64 \n",
            " 2   sex         244 non-null    category\n",
            " 3   smoker      244 non-null    category\n",
            " 4   day         244 non-null    category\n",
            " 5   time        244 non-null    category\n",
            " 6   size        244 non-null    int64   \n",
            "dtypes: category(4), float64(2), int64(1)\n",
            "memory usage: 7.4 KB\n"
          ]
        }
      ]
    },
    {
      "cell_type": "markdown",
      "source": [
        "\"tips\"のデータの説明は以下の通りです。\n",
        "\n",
        "- total_bill : 総支払額(食事代、税込み)　(USドル)\n",
        "- tip : チップ(USドル)\n",
        "- sex : 性別\n",
        "- smoker : 喫煙者か否か\n",
        "- day : 曜日(木・金・土・日のいずれか)\n",
        "- time : 食事の時間(昼食か夕食か)\n",
        "- size : 人数"
      ],
      "metadata": {
        "id": "7ZyDMuAblo6D"
      }
    },
    {
      "cell_type": "markdown",
      "source": [
        "また、今回のデータには欠損値はなさそうです。"
      ],
      "metadata": {
        "id": "k-9SWM_Mnsbw"
      }
    },
    {
      "cell_type": "markdown",
      "source": [
        "### Pythonで標準化"
      ],
      "metadata": {
        "id": "cF0X_7OhdZ6m"
      }
    },
    {
      "cell_type": "markdown",
      "source": [
        "今回は\"tips\"データセットの、\"tip\"カラムと\"size\"カラムを使って標準化を試してみます。\n",
        "\n"
      ],
      "metadata": {
        "id": "P6QyAcyXdtj2"
      }
    },
    {
      "cell_type": "code",
      "source": [
        "tips[[\"tip\", \"size\"]][:10]"
      ],
      "metadata": {
        "colab": {
          "base_uri": "https://localhost:8080/",
          "height": 363
        },
        "id": "Q9Srbeoje5_E",
        "outputId": "c9b1ac4b-69a7-4c99-9f49-e29853e3f507"
      },
      "execution_count": null,
      "outputs": [
        {
          "output_type": "execute_result",
          "data": {
            "text/plain": [
              "    tip  size\n",
              "0  1.01     2\n",
              "1  1.66     3\n",
              "2  3.50     3\n",
              "3  3.31     2\n",
              "4  3.61     4\n",
              "5  4.71     4\n",
              "6  2.00     2\n",
              "7  3.12     4\n",
              "8  1.96     2\n",
              "9  3.23     2"
            ],
            "text/html": [
              "\n",
              "  <div id=\"df-aa2fae7d-2871-409c-bdea-b54660f76cae\" class=\"colab-df-container\">\n",
              "    <div>\n",
              "<style scoped>\n",
              "    .dataframe tbody tr th:only-of-type {\n",
              "        vertical-align: middle;\n",
              "    }\n",
              "\n",
              "    .dataframe tbody tr th {\n",
              "        vertical-align: top;\n",
              "    }\n",
              "\n",
              "    .dataframe thead th {\n",
              "        text-align: right;\n",
              "    }\n",
              "</style>\n",
              "<table border=\"1\" class=\"dataframe\">\n",
              "  <thead>\n",
              "    <tr style=\"text-align: right;\">\n",
              "      <th></th>\n",
              "      <th>tip</th>\n",
              "      <th>size</th>\n",
              "    </tr>\n",
              "  </thead>\n",
              "  <tbody>\n",
              "    <tr>\n",
              "      <th>0</th>\n",
              "      <td>1.01</td>\n",
              "      <td>2</td>\n",
              "    </tr>\n",
              "    <tr>\n",
              "      <th>1</th>\n",
              "      <td>1.66</td>\n",
              "      <td>3</td>\n",
              "    </tr>\n",
              "    <tr>\n",
              "      <th>2</th>\n",
              "      <td>3.50</td>\n",
              "      <td>3</td>\n",
              "    </tr>\n",
              "    <tr>\n",
              "      <th>3</th>\n",
              "      <td>3.31</td>\n",
              "      <td>2</td>\n",
              "    </tr>\n",
              "    <tr>\n",
              "      <th>4</th>\n",
              "      <td>3.61</td>\n",
              "      <td>4</td>\n",
              "    </tr>\n",
              "    <tr>\n",
              "      <th>5</th>\n",
              "      <td>4.71</td>\n",
              "      <td>4</td>\n",
              "    </tr>\n",
              "    <tr>\n",
              "      <th>6</th>\n",
              "      <td>2.00</td>\n",
              "      <td>2</td>\n",
              "    </tr>\n",
              "    <tr>\n",
              "      <th>7</th>\n",
              "      <td>3.12</td>\n",
              "      <td>4</td>\n",
              "    </tr>\n",
              "    <tr>\n",
              "      <th>8</th>\n",
              "      <td>1.96</td>\n",
              "      <td>2</td>\n",
              "    </tr>\n",
              "    <tr>\n",
              "      <th>9</th>\n",
              "      <td>3.23</td>\n",
              "      <td>2</td>\n",
              "    </tr>\n",
              "  </tbody>\n",
              "</table>\n",
              "</div>\n",
              "    <div class=\"colab-df-buttons\">\n",
              "\n",
              "  <div class=\"colab-df-container\">\n",
              "    <button class=\"colab-df-convert\" onclick=\"convertToInteractive('df-aa2fae7d-2871-409c-bdea-b54660f76cae')\"\n",
              "            title=\"Convert this dataframe to an interactive table.\"\n",
              "            style=\"display:none;\">\n",
              "\n",
              "  <svg xmlns=\"http://www.w3.org/2000/svg\" height=\"24px\" viewBox=\"0 -960 960 960\">\n",
              "    <path d=\"M120-120v-720h720v720H120Zm60-500h600v-160H180v160Zm220 220h160v-160H400v160Zm0 220h160v-160H400v160ZM180-400h160v-160H180v160Zm440 0h160v-160H620v160ZM180-180h160v-160H180v160Zm440 0h160v-160H620v160Z\"/>\n",
              "  </svg>\n",
              "    </button>\n",
              "\n",
              "  <style>\n",
              "    .colab-df-container {\n",
              "      display:flex;\n",
              "      gap: 12px;\n",
              "    }\n",
              "\n",
              "    .colab-df-convert {\n",
              "      background-color: #E8F0FE;\n",
              "      border: none;\n",
              "      border-radius: 50%;\n",
              "      cursor: pointer;\n",
              "      display: none;\n",
              "      fill: #1967D2;\n",
              "      height: 32px;\n",
              "      padding: 0 0 0 0;\n",
              "      width: 32px;\n",
              "    }\n",
              "\n",
              "    .colab-df-convert:hover {\n",
              "      background-color: #E2EBFA;\n",
              "      box-shadow: 0px 1px 2px rgba(60, 64, 67, 0.3), 0px 1px 3px 1px rgba(60, 64, 67, 0.15);\n",
              "      fill: #174EA6;\n",
              "    }\n",
              "\n",
              "    .colab-df-buttons div {\n",
              "      margin-bottom: 4px;\n",
              "    }\n",
              "\n",
              "    [theme=dark] .colab-df-convert {\n",
              "      background-color: #3B4455;\n",
              "      fill: #D2E3FC;\n",
              "    }\n",
              "\n",
              "    [theme=dark] .colab-df-convert:hover {\n",
              "      background-color: #434B5C;\n",
              "      box-shadow: 0px 1px 3px 1px rgba(0, 0, 0, 0.15);\n",
              "      filter: drop-shadow(0px 1px 2px rgba(0, 0, 0, 0.3));\n",
              "      fill: #FFFFFF;\n",
              "    }\n",
              "  </style>\n",
              "\n",
              "    <script>\n",
              "      const buttonEl =\n",
              "        document.querySelector('#df-aa2fae7d-2871-409c-bdea-b54660f76cae button.colab-df-convert');\n",
              "      buttonEl.style.display =\n",
              "        google.colab.kernel.accessAllowed ? 'block' : 'none';\n",
              "\n",
              "      async function convertToInteractive(key) {\n",
              "        const element = document.querySelector('#df-aa2fae7d-2871-409c-bdea-b54660f76cae');\n",
              "        const dataTable =\n",
              "          await google.colab.kernel.invokeFunction('convertToInteractive',\n",
              "                                                    [key], {});\n",
              "        if (!dataTable) return;\n",
              "\n",
              "        const docLinkHtml = 'Like what you see? Visit the ' +\n",
              "          '<a target=\"_blank\" href=https://colab.research.google.com/notebooks/data_table.ipynb>data table notebook</a>'\n",
              "          + ' to learn more about interactive tables.';\n",
              "        element.innerHTML = '';\n",
              "        dataTable['output_type'] = 'display_data';\n",
              "        await google.colab.output.renderOutput(dataTable, element);\n",
              "        const docLink = document.createElement('div');\n",
              "        docLink.innerHTML = docLinkHtml;\n",
              "        element.appendChild(docLink);\n",
              "      }\n",
              "    </script>\n",
              "  </div>\n",
              "\n",
              "\n",
              "<div id=\"df-a23ad65f-f24b-4d60-9932-55752f5142e4\">\n",
              "  <button class=\"colab-df-quickchart\" onclick=\"quickchart('df-a23ad65f-f24b-4d60-9932-55752f5142e4')\"\n",
              "            title=\"Suggest charts.\"\n",
              "            style=\"display:none;\">\n",
              "\n",
              "<svg xmlns=\"http://www.w3.org/2000/svg\" height=\"24px\"viewBox=\"0 0 24 24\"\n",
              "     width=\"24px\">\n",
              "    <g>\n",
              "        <path d=\"M19 3H5c-1.1 0-2 .9-2 2v14c0 1.1.9 2 2 2h14c1.1 0 2-.9 2-2V5c0-1.1-.9-2-2-2zM9 17H7v-7h2v7zm4 0h-2V7h2v10zm4 0h-2v-4h2v4z\"/>\n",
              "    </g>\n",
              "</svg>\n",
              "  </button>\n",
              "\n",
              "<style>\n",
              "  .colab-df-quickchart {\n",
              "      --bg-color: #E8F0FE;\n",
              "      --fill-color: #1967D2;\n",
              "      --hover-bg-color: #E2EBFA;\n",
              "      --hover-fill-color: #174EA6;\n",
              "      --disabled-fill-color: #AAA;\n",
              "      --disabled-bg-color: #DDD;\n",
              "  }\n",
              "\n",
              "  [theme=dark] .colab-df-quickchart {\n",
              "      --bg-color: #3B4455;\n",
              "      --fill-color: #D2E3FC;\n",
              "      --hover-bg-color: #434B5C;\n",
              "      --hover-fill-color: #FFFFFF;\n",
              "      --disabled-bg-color: #3B4455;\n",
              "      --disabled-fill-color: #666;\n",
              "  }\n",
              "\n",
              "  .colab-df-quickchart {\n",
              "    background-color: var(--bg-color);\n",
              "    border: none;\n",
              "    border-radius: 50%;\n",
              "    cursor: pointer;\n",
              "    display: none;\n",
              "    fill: var(--fill-color);\n",
              "    height: 32px;\n",
              "    padding: 0;\n",
              "    width: 32px;\n",
              "  }\n",
              "\n",
              "  .colab-df-quickchart:hover {\n",
              "    background-color: var(--hover-bg-color);\n",
              "    box-shadow: 0 1px 2px rgba(60, 64, 67, 0.3), 0 1px 3px 1px rgba(60, 64, 67, 0.15);\n",
              "    fill: var(--button-hover-fill-color);\n",
              "  }\n",
              "\n",
              "  .colab-df-quickchart-complete:disabled,\n",
              "  .colab-df-quickchart-complete:disabled:hover {\n",
              "    background-color: var(--disabled-bg-color);\n",
              "    fill: var(--disabled-fill-color);\n",
              "    box-shadow: none;\n",
              "  }\n",
              "\n",
              "  .colab-df-spinner {\n",
              "    border: 2px solid var(--fill-color);\n",
              "    border-color: transparent;\n",
              "    border-bottom-color: var(--fill-color);\n",
              "    animation:\n",
              "      spin 1s steps(1) infinite;\n",
              "  }\n",
              "\n",
              "  @keyframes spin {\n",
              "    0% {\n",
              "      border-color: transparent;\n",
              "      border-bottom-color: var(--fill-color);\n",
              "      border-left-color: var(--fill-color);\n",
              "    }\n",
              "    20% {\n",
              "      border-color: transparent;\n",
              "      border-left-color: var(--fill-color);\n",
              "      border-top-color: var(--fill-color);\n",
              "    }\n",
              "    30% {\n",
              "      border-color: transparent;\n",
              "      border-left-color: var(--fill-color);\n",
              "      border-top-color: var(--fill-color);\n",
              "      border-right-color: var(--fill-color);\n",
              "    }\n",
              "    40% {\n",
              "      border-color: transparent;\n",
              "      border-right-color: var(--fill-color);\n",
              "      border-top-color: var(--fill-color);\n",
              "    }\n",
              "    60% {\n",
              "      border-color: transparent;\n",
              "      border-right-color: var(--fill-color);\n",
              "    }\n",
              "    80% {\n",
              "      border-color: transparent;\n",
              "      border-right-color: var(--fill-color);\n",
              "      border-bottom-color: var(--fill-color);\n",
              "    }\n",
              "    90% {\n",
              "      border-color: transparent;\n",
              "      border-bottom-color: var(--fill-color);\n",
              "    }\n",
              "  }\n",
              "</style>\n",
              "\n",
              "  <script>\n",
              "    async function quickchart(key) {\n",
              "      const quickchartButtonEl =\n",
              "        document.querySelector('#' + key + ' button');\n",
              "      quickchartButtonEl.disabled = true;  // To prevent multiple clicks.\n",
              "      quickchartButtonEl.classList.add('colab-df-spinner');\n",
              "      try {\n",
              "        const charts = await google.colab.kernel.invokeFunction(\n",
              "            'suggestCharts', [key], {});\n",
              "      } catch (error) {\n",
              "        console.error('Error during call to suggestCharts:', error);\n",
              "      }\n",
              "      quickchartButtonEl.classList.remove('colab-df-spinner');\n",
              "      quickchartButtonEl.classList.add('colab-df-quickchart-complete');\n",
              "    }\n",
              "    (() => {\n",
              "      let quickchartButtonEl =\n",
              "        document.querySelector('#df-a23ad65f-f24b-4d60-9932-55752f5142e4 button');\n",
              "      quickchartButtonEl.style.display =\n",
              "        google.colab.kernel.accessAllowed ? 'block' : 'none';\n",
              "    })();\n",
              "  </script>\n",
              "</div>\n",
              "    </div>\n",
              "  </div>\n"
            ]
          },
          "metadata": {},
          "execution_count": 8
        }
      ]
    },
    {
      "cell_type": "markdown",
      "source": [
        "\"tip\"カラムはドル、\"size\"カラムは人数なので、変数のスケールがそもそも違います。  \n",
        "標準化によって、それぞれの特徴量空間のスケールを合わせます。\n"
      ],
      "metadata": {
        "id": "YltvrjW2e-70"
      }
    },
    {
      "cell_type": "code",
      "source": [
        "# 標準化\n",
        "from sklearn.preprocessing import StandardScaler\n",
        "\n",
        "# インスタンス生成\n",
        "scaler = StandardScaler()\n",
        "\n",
        "# fitする（データの平均・標準偏差を求めるイメージ）\n",
        "scaler.fit(tips[[\"tip\", \"size\"]])\n",
        "\n",
        "# transformする（実際に変換する）\n",
        "tips_scaled = scaler.transform(tips[[\"tip\", \"size\"]])\n",
        "\n",
        "## fitとtransformをいっぺんに\n",
        "# scaler.fit_transform(tips[[\"tip\", \"size\"]])\n",
        "\n",
        "# データを10件表示\n",
        "pd.DataFrame(tips_scaled[:10] , columns=[\"tip\", \"size\"])"
      ],
      "metadata": {
        "colab": {
          "base_uri": "https://localhost:8080/",
          "height": 363
        },
        "id": "TTWPn95NeDqX",
        "outputId": "a9fcf395-709d-49d8-f3a8-cf319e97f44b"
      },
      "execution_count": null,
      "outputs": [
        {
          "output_type": "execute_result",
          "data": {
            "text/plain": [
              "        tip      size\n",
              "0 -1.439947 -0.600193\n",
              "1 -0.969205  0.453383\n",
              "2  0.363356  0.453383\n",
              "3  0.225754 -0.600193\n",
              "4  0.443020  1.506958\n",
              "5  1.239659  1.506958\n",
              "6 -0.722971 -0.600193\n",
              "7  0.088153  1.506958\n",
              "8 -0.751940 -0.600193\n",
              "9  0.167817 -0.600193"
            ],
            "text/html": [
              "\n",
              "  <div id=\"df-6b49e953-c3d4-4e46-85ab-182fae8489cf\" class=\"colab-df-container\">\n",
              "    <div>\n",
              "<style scoped>\n",
              "    .dataframe tbody tr th:only-of-type {\n",
              "        vertical-align: middle;\n",
              "    }\n",
              "\n",
              "    .dataframe tbody tr th {\n",
              "        vertical-align: top;\n",
              "    }\n",
              "\n",
              "    .dataframe thead th {\n",
              "        text-align: right;\n",
              "    }\n",
              "</style>\n",
              "<table border=\"1\" class=\"dataframe\">\n",
              "  <thead>\n",
              "    <tr style=\"text-align: right;\">\n",
              "      <th></th>\n",
              "      <th>tip</th>\n",
              "      <th>size</th>\n",
              "    </tr>\n",
              "  </thead>\n",
              "  <tbody>\n",
              "    <tr>\n",
              "      <th>0</th>\n",
              "      <td>-1.439947</td>\n",
              "      <td>-0.600193</td>\n",
              "    </tr>\n",
              "    <tr>\n",
              "      <th>1</th>\n",
              "      <td>-0.969205</td>\n",
              "      <td>0.453383</td>\n",
              "    </tr>\n",
              "    <tr>\n",
              "      <th>2</th>\n",
              "      <td>0.363356</td>\n",
              "      <td>0.453383</td>\n",
              "    </tr>\n",
              "    <tr>\n",
              "      <th>3</th>\n",
              "      <td>0.225754</td>\n",
              "      <td>-0.600193</td>\n",
              "    </tr>\n",
              "    <tr>\n",
              "      <th>4</th>\n",
              "      <td>0.443020</td>\n",
              "      <td>1.506958</td>\n",
              "    </tr>\n",
              "    <tr>\n",
              "      <th>5</th>\n",
              "      <td>1.239659</td>\n",
              "      <td>1.506958</td>\n",
              "    </tr>\n",
              "    <tr>\n",
              "      <th>6</th>\n",
              "      <td>-0.722971</td>\n",
              "      <td>-0.600193</td>\n",
              "    </tr>\n",
              "    <tr>\n",
              "      <th>7</th>\n",
              "      <td>0.088153</td>\n",
              "      <td>1.506958</td>\n",
              "    </tr>\n",
              "    <tr>\n",
              "      <th>8</th>\n",
              "      <td>-0.751940</td>\n",
              "      <td>-0.600193</td>\n",
              "    </tr>\n",
              "    <tr>\n",
              "      <th>9</th>\n",
              "      <td>0.167817</td>\n",
              "      <td>-0.600193</td>\n",
              "    </tr>\n",
              "  </tbody>\n",
              "</table>\n",
              "</div>\n",
              "    <div class=\"colab-df-buttons\">\n",
              "\n",
              "  <div class=\"colab-df-container\">\n",
              "    <button class=\"colab-df-convert\" onclick=\"convertToInteractive('df-6b49e953-c3d4-4e46-85ab-182fae8489cf')\"\n",
              "            title=\"Convert this dataframe to an interactive table.\"\n",
              "            style=\"display:none;\">\n",
              "\n",
              "  <svg xmlns=\"http://www.w3.org/2000/svg\" height=\"24px\" viewBox=\"0 -960 960 960\">\n",
              "    <path d=\"M120-120v-720h720v720H120Zm60-500h600v-160H180v160Zm220 220h160v-160H400v160Zm0 220h160v-160H400v160ZM180-400h160v-160H180v160Zm440 0h160v-160H620v160ZM180-180h160v-160H180v160Zm440 0h160v-160H620v160Z\"/>\n",
              "  </svg>\n",
              "    </button>\n",
              "\n",
              "  <style>\n",
              "    .colab-df-container {\n",
              "      display:flex;\n",
              "      gap: 12px;\n",
              "    }\n",
              "\n",
              "    .colab-df-convert {\n",
              "      background-color: #E8F0FE;\n",
              "      border: none;\n",
              "      border-radius: 50%;\n",
              "      cursor: pointer;\n",
              "      display: none;\n",
              "      fill: #1967D2;\n",
              "      height: 32px;\n",
              "      padding: 0 0 0 0;\n",
              "      width: 32px;\n",
              "    }\n",
              "\n",
              "    .colab-df-convert:hover {\n",
              "      background-color: #E2EBFA;\n",
              "      box-shadow: 0px 1px 2px rgba(60, 64, 67, 0.3), 0px 1px 3px 1px rgba(60, 64, 67, 0.15);\n",
              "      fill: #174EA6;\n",
              "    }\n",
              "\n",
              "    .colab-df-buttons div {\n",
              "      margin-bottom: 4px;\n",
              "    }\n",
              "\n",
              "    [theme=dark] .colab-df-convert {\n",
              "      background-color: #3B4455;\n",
              "      fill: #D2E3FC;\n",
              "    }\n",
              "\n",
              "    [theme=dark] .colab-df-convert:hover {\n",
              "      background-color: #434B5C;\n",
              "      box-shadow: 0px 1px 3px 1px rgba(0, 0, 0, 0.15);\n",
              "      filter: drop-shadow(0px 1px 2px rgba(0, 0, 0, 0.3));\n",
              "      fill: #FFFFFF;\n",
              "    }\n",
              "  </style>\n",
              "\n",
              "    <script>\n",
              "      const buttonEl =\n",
              "        document.querySelector('#df-6b49e953-c3d4-4e46-85ab-182fae8489cf button.colab-df-convert');\n",
              "      buttonEl.style.display =\n",
              "        google.colab.kernel.accessAllowed ? 'block' : 'none';\n",
              "\n",
              "      async function convertToInteractive(key) {\n",
              "        const element = document.querySelector('#df-6b49e953-c3d4-4e46-85ab-182fae8489cf');\n",
              "        const dataTable =\n",
              "          await google.colab.kernel.invokeFunction('convertToInteractive',\n",
              "                                                    [key], {});\n",
              "        if (!dataTable) return;\n",
              "\n",
              "        const docLinkHtml = 'Like what you see? Visit the ' +\n",
              "          '<a target=\"_blank\" href=https://colab.research.google.com/notebooks/data_table.ipynb>data table notebook</a>'\n",
              "          + ' to learn more about interactive tables.';\n",
              "        element.innerHTML = '';\n",
              "        dataTable['output_type'] = 'display_data';\n",
              "        await google.colab.output.renderOutput(dataTable, element);\n",
              "        const docLink = document.createElement('div');\n",
              "        docLink.innerHTML = docLinkHtml;\n",
              "        element.appendChild(docLink);\n",
              "      }\n",
              "    </script>\n",
              "  </div>\n",
              "\n",
              "\n",
              "<div id=\"df-835f5945-78a1-4371-bbc7-ca98cd80d1af\">\n",
              "  <button class=\"colab-df-quickchart\" onclick=\"quickchart('df-835f5945-78a1-4371-bbc7-ca98cd80d1af')\"\n",
              "            title=\"Suggest charts.\"\n",
              "            style=\"display:none;\">\n",
              "\n",
              "<svg xmlns=\"http://www.w3.org/2000/svg\" height=\"24px\"viewBox=\"0 0 24 24\"\n",
              "     width=\"24px\">\n",
              "    <g>\n",
              "        <path d=\"M19 3H5c-1.1 0-2 .9-2 2v14c0 1.1.9 2 2 2h14c1.1 0 2-.9 2-2V5c0-1.1-.9-2-2-2zM9 17H7v-7h2v7zm4 0h-2V7h2v10zm4 0h-2v-4h2v4z\"/>\n",
              "    </g>\n",
              "</svg>\n",
              "  </button>\n",
              "\n",
              "<style>\n",
              "  .colab-df-quickchart {\n",
              "      --bg-color: #E8F0FE;\n",
              "      --fill-color: #1967D2;\n",
              "      --hover-bg-color: #E2EBFA;\n",
              "      --hover-fill-color: #174EA6;\n",
              "      --disabled-fill-color: #AAA;\n",
              "      --disabled-bg-color: #DDD;\n",
              "  }\n",
              "\n",
              "  [theme=dark] .colab-df-quickchart {\n",
              "      --bg-color: #3B4455;\n",
              "      --fill-color: #D2E3FC;\n",
              "      --hover-bg-color: #434B5C;\n",
              "      --hover-fill-color: #FFFFFF;\n",
              "      --disabled-bg-color: #3B4455;\n",
              "      --disabled-fill-color: #666;\n",
              "  }\n",
              "\n",
              "  .colab-df-quickchart {\n",
              "    background-color: var(--bg-color);\n",
              "    border: none;\n",
              "    border-radius: 50%;\n",
              "    cursor: pointer;\n",
              "    display: none;\n",
              "    fill: var(--fill-color);\n",
              "    height: 32px;\n",
              "    padding: 0;\n",
              "    width: 32px;\n",
              "  }\n",
              "\n",
              "  .colab-df-quickchart:hover {\n",
              "    background-color: var(--hover-bg-color);\n",
              "    box-shadow: 0 1px 2px rgba(60, 64, 67, 0.3), 0 1px 3px 1px rgba(60, 64, 67, 0.15);\n",
              "    fill: var(--button-hover-fill-color);\n",
              "  }\n",
              "\n",
              "  .colab-df-quickchart-complete:disabled,\n",
              "  .colab-df-quickchart-complete:disabled:hover {\n",
              "    background-color: var(--disabled-bg-color);\n",
              "    fill: var(--disabled-fill-color);\n",
              "    box-shadow: none;\n",
              "  }\n",
              "\n",
              "  .colab-df-spinner {\n",
              "    border: 2px solid var(--fill-color);\n",
              "    border-color: transparent;\n",
              "    border-bottom-color: var(--fill-color);\n",
              "    animation:\n",
              "      spin 1s steps(1) infinite;\n",
              "  }\n",
              "\n",
              "  @keyframes spin {\n",
              "    0% {\n",
              "      border-color: transparent;\n",
              "      border-bottom-color: var(--fill-color);\n",
              "      border-left-color: var(--fill-color);\n",
              "    }\n",
              "    20% {\n",
              "      border-color: transparent;\n",
              "      border-left-color: var(--fill-color);\n",
              "      border-top-color: var(--fill-color);\n",
              "    }\n",
              "    30% {\n",
              "      border-color: transparent;\n",
              "      border-left-color: var(--fill-color);\n",
              "      border-top-color: var(--fill-color);\n",
              "      border-right-color: var(--fill-color);\n",
              "    }\n",
              "    40% {\n",
              "      border-color: transparent;\n",
              "      border-right-color: var(--fill-color);\n",
              "      border-top-color: var(--fill-color);\n",
              "    }\n",
              "    60% {\n",
              "      border-color: transparent;\n",
              "      border-right-color: var(--fill-color);\n",
              "    }\n",
              "    80% {\n",
              "      border-color: transparent;\n",
              "      border-right-color: var(--fill-color);\n",
              "      border-bottom-color: var(--fill-color);\n",
              "    }\n",
              "    90% {\n",
              "      border-color: transparent;\n",
              "      border-bottom-color: var(--fill-color);\n",
              "    }\n",
              "  }\n",
              "</style>\n",
              "\n",
              "  <script>\n",
              "    async function quickchart(key) {\n",
              "      const quickchartButtonEl =\n",
              "        document.querySelector('#' + key + ' button');\n",
              "      quickchartButtonEl.disabled = true;  // To prevent multiple clicks.\n",
              "      quickchartButtonEl.classList.add('colab-df-spinner');\n",
              "      try {\n",
              "        const charts = await google.colab.kernel.invokeFunction(\n",
              "            'suggestCharts', [key], {});\n",
              "      } catch (error) {\n",
              "        console.error('Error during call to suggestCharts:', error);\n",
              "      }\n",
              "      quickchartButtonEl.classList.remove('colab-df-spinner');\n",
              "      quickchartButtonEl.classList.add('colab-df-quickchart-complete');\n",
              "    }\n",
              "    (() => {\n",
              "      let quickchartButtonEl =\n",
              "        document.querySelector('#df-835f5945-78a1-4371-bbc7-ca98cd80d1af button');\n",
              "      quickchartButtonEl.style.display =\n",
              "        google.colab.kernel.accessAllowed ? 'block' : 'none';\n",
              "    })();\n",
              "  </script>\n",
              "</div>\n",
              "    </div>\n",
              "  </div>\n"
            ]
          },
          "metadata": {},
          "execution_count": 9
        }
      ]
    },
    {
      "cell_type": "markdown",
      "source": [
        "### 正規化\n"
      ],
      "metadata": {
        "id": "bmW2Py9BgAaz"
      }
    },
    {
      "cell_type": "markdown",
      "source": [
        "値の範囲を0～1にrescaleする処理を**正規化**といいます。\n",
        "\n",
        "$$\n",
        "\\frac{x-x_{min}}{x_{max}-x_{min}}\n",
        "$$\n",
        "\n"
      ],
      "metadata": {
        "id": "NnAt00rngUpU"
      }
    },
    {
      "cell_type": "markdown",
      "source": [
        "必ず、最小の値$x_{min}$は0に、 最大の値$x_{max}$は1になるのが大きな特徴です。  \n",
        "**標準化に比べて、外れ値の影響を強く受けます**。"
      ],
      "metadata": {
        "id": "ZeTP2jrthPsi"
      }
    },
    {
      "cell_type": "markdown",
      "source": [
        "### Pythonで正規化"
      ],
      "metadata": {
        "id": "VxAuSpnyiCtm"
      }
    },
    {
      "cell_type": "markdown",
      "source": [
        "今回は\"tips\"データセットの、\"tip\"カラムと\"size\"カラムを使って正規化を試してみます。\n",
        "\n"
      ],
      "metadata": {
        "id": "MKW0SGaLiCtn"
      }
    },
    {
      "cell_type": "code",
      "source": [
        "tips[[\"tip\", \"size\"]][:10]"
      ],
      "metadata": {
        "colab": {
          "base_uri": "https://localhost:8080/",
          "height": 363
        },
        "outputId": "c9b1ac4b-69a7-4c99-9f49-e29853e3f507",
        "id": "3FIdQ63giCtn"
      },
      "execution_count": null,
      "outputs": [
        {
          "output_type": "execute_result",
          "data": {
            "text/plain": [
              "    tip  size\n",
              "0  1.01     2\n",
              "1  1.66     3\n",
              "2  3.50     3\n",
              "3  3.31     2\n",
              "4  3.61     4\n",
              "5  4.71     4\n",
              "6  2.00     2\n",
              "7  3.12     4\n",
              "8  1.96     2\n",
              "9  3.23     2"
            ],
            "text/html": [
              "\n",
              "  <div id=\"df-aa2fae7d-2871-409c-bdea-b54660f76cae\" class=\"colab-df-container\">\n",
              "    <div>\n",
              "<style scoped>\n",
              "    .dataframe tbody tr th:only-of-type {\n",
              "        vertical-align: middle;\n",
              "    }\n",
              "\n",
              "    .dataframe tbody tr th {\n",
              "        vertical-align: top;\n",
              "    }\n",
              "\n",
              "    .dataframe thead th {\n",
              "        text-align: right;\n",
              "    }\n",
              "</style>\n",
              "<table border=\"1\" class=\"dataframe\">\n",
              "  <thead>\n",
              "    <tr style=\"text-align: right;\">\n",
              "      <th></th>\n",
              "      <th>tip</th>\n",
              "      <th>size</th>\n",
              "    </tr>\n",
              "  </thead>\n",
              "  <tbody>\n",
              "    <tr>\n",
              "      <th>0</th>\n",
              "      <td>1.01</td>\n",
              "      <td>2</td>\n",
              "    </tr>\n",
              "    <tr>\n",
              "      <th>1</th>\n",
              "      <td>1.66</td>\n",
              "      <td>3</td>\n",
              "    </tr>\n",
              "    <tr>\n",
              "      <th>2</th>\n",
              "      <td>3.50</td>\n",
              "      <td>3</td>\n",
              "    </tr>\n",
              "    <tr>\n",
              "      <th>3</th>\n",
              "      <td>3.31</td>\n",
              "      <td>2</td>\n",
              "    </tr>\n",
              "    <tr>\n",
              "      <th>4</th>\n",
              "      <td>3.61</td>\n",
              "      <td>4</td>\n",
              "    </tr>\n",
              "    <tr>\n",
              "      <th>5</th>\n",
              "      <td>4.71</td>\n",
              "      <td>4</td>\n",
              "    </tr>\n",
              "    <tr>\n",
              "      <th>6</th>\n",
              "      <td>2.00</td>\n",
              "      <td>2</td>\n",
              "    </tr>\n",
              "    <tr>\n",
              "      <th>7</th>\n",
              "      <td>3.12</td>\n",
              "      <td>4</td>\n",
              "    </tr>\n",
              "    <tr>\n",
              "      <th>8</th>\n",
              "      <td>1.96</td>\n",
              "      <td>2</td>\n",
              "    </tr>\n",
              "    <tr>\n",
              "      <th>9</th>\n",
              "      <td>3.23</td>\n",
              "      <td>2</td>\n",
              "    </tr>\n",
              "  </tbody>\n",
              "</table>\n",
              "</div>\n",
              "    <div class=\"colab-df-buttons\">\n",
              "\n",
              "  <div class=\"colab-df-container\">\n",
              "    <button class=\"colab-df-convert\" onclick=\"convertToInteractive('df-aa2fae7d-2871-409c-bdea-b54660f76cae')\"\n",
              "            title=\"Convert this dataframe to an interactive table.\"\n",
              "            style=\"display:none;\">\n",
              "\n",
              "  <svg xmlns=\"http://www.w3.org/2000/svg\" height=\"24px\" viewBox=\"0 -960 960 960\">\n",
              "    <path d=\"M120-120v-720h720v720H120Zm60-500h600v-160H180v160Zm220 220h160v-160H400v160Zm0 220h160v-160H400v160ZM180-400h160v-160H180v160Zm440 0h160v-160H620v160ZM180-180h160v-160H180v160Zm440 0h160v-160H620v160Z\"/>\n",
              "  </svg>\n",
              "    </button>\n",
              "\n",
              "  <style>\n",
              "    .colab-df-container {\n",
              "      display:flex;\n",
              "      gap: 12px;\n",
              "    }\n",
              "\n",
              "    .colab-df-convert {\n",
              "      background-color: #E8F0FE;\n",
              "      border: none;\n",
              "      border-radius: 50%;\n",
              "      cursor: pointer;\n",
              "      display: none;\n",
              "      fill: #1967D2;\n",
              "      height: 32px;\n",
              "      padding: 0 0 0 0;\n",
              "      width: 32px;\n",
              "    }\n",
              "\n",
              "    .colab-df-convert:hover {\n",
              "      background-color: #E2EBFA;\n",
              "      box-shadow: 0px 1px 2px rgba(60, 64, 67, 0.3), 0px 1px 3px 1px rgba(60, 64, 67, 0.15);\n",
              "      fill: #174EA6;\n",
              "    }\n",
              "\n",
              "    .colab-df-buttons div {\n",
              "      margin-bottom: 4px;\n",
              "    }\n",
              "\n",
              "    [theme=dark] .colab-df-convert {\n",
              "      background-color: #3B4455;\n",
              "      fill: #D2E3FC;\n",
              "    }\n",
              "\n",
              "    [theme=dark] .colab-df-convert:hover {\n",
              "      background-color: #434B5C;\n",
              "      box-shadow: 0px 1px 3px 1px rgba(0, 0, 0, 0.15);\n",
              "      filter: drop-shadow(0px 1px 2px rgba(0, 0, 0, 0.3));\n",
              "      fill: #FFFFFF;\n",
              "    }\n",
              "  </style>\n",
              "\n",
              "    <script>\n",
              "      const buttonEl =\n",
              "        document.querySelector('#df-aa2fae7d-2871-409c-bdea-b54660f76cae button.colab-df-convert');\n",
              "      buttonEl.style.display =\n",
              "        google.colab.kernel.accessAllowed ? 'block' : 'none';\n",
              "\n",
              "      async function convertToInteractive(key) {\n",
              "        const element = document.querySelector('#df-aa2fae7d-2871-409c-bdea-b54660f76cae');\n",
              "        const dataTable =\n",
              "          await google.colab.kernel.invokeFunction('convertToInteractive',\n",
              "                                                    [key], {});\n",
              "        if (!dataTable) return;\n",
              "\n",
              "        const docLinkHtml = 'Like what you see? Visit the ' +\n",
              "          '<a target=\"_blank\" href=https://colab.research.google.com/notebooks/data_table.ipynb>data table notebook</a>'\n",
              "          + ' to learn more about interactive tables.';\n",
              "        element.innerHTML = '';\n",
              "        dataTable['output_type'] = 'display_data';\n",
              "        await google.colab.output.renderOutput(dataTable, element);\n",
              "        const docLink = document.createElement('div');\n",
              "        docLink.innerHTML = docLinkHtml;\n",
              "        element.appendChild(docLink);\n",
              "      }\n",
              "    </script>\n",
              "  </div>\n",
              "\n",
              "\n",
              "<div id=\"df-a23ad65f-f24b-4d60-9932-55752f5142e4\">\n",
              "  <button class=\"colab-df-quickchart\" onclick=\"quickchart('df-a23ad65f-f24b-4d60-9932-55752f5142e4')\"\n",
              "            title=\"Suggest charts.\"\n",
              "            style=\"display:none;\">\n",
              "\n",
              "<svg xmlns=\"http://www.w3.org/2000/svg\" height=\"24px\"viewBox=\"0 0 24 24\"\n",
              "     width=\"24px\">\n",
              "    <g>\n",
              "        <path d=\"M19 3H5c-1.1 0-2 .9-2 2v14c0 1.1.9 2 2 2h14c1.1 0 2-.9 2-2V5c0-1.1-.9-2-2-2zM9 17H7v-7h2v7zm4 0h-2V7h2v10zm4 0h-2v-4h2v4z\"/>\n",
              "    </g>\n",
              "</svg>\n",
              "  </button>\n",
              "\n",
              "<style>\n",
              "  .colab-df-quickchart {\n",
              "      --bg-color: #E8F0FE;\n",
              "      --fill-color: #1967D2;\n",
              "      --hover-bg-color: #E2EBFA;\n",
              "      --hover-fill-color: #174EA6;\n",
              "      --disabled-fill-color: #AAA;\n",
              "      --disabled-bg-color: #DDD;\n",
              "  }\n",
              "\n",
              "  [theme=dark] .colab-df-quickchart {\n",
              "      --bg-color: #3B4455;\n",
              "      --fill-color: #D2E3FC;\n",
              "      --hover-bg-color: #434B5C;\n",
              "      --hover-fill-color: #FFFFFF;\n",
              "      --disabled-bg-color: #3B4455;\n",
              "      --disabled-fill-color: #666;\n",
              "  }\n",
              "\n",
              "  .colab-df-quickchart {\n",
              "    background-color: var(--bg-color);\n",
              "    border: none;\n",
              "    border-radius: 50%;\n",
              "    cursor: pointer;\n",
              "    display: none;\n",
              "    fill: var(--fill-color);\n",
              "    height: 32px;\n",
              "    padding: 0;\n",
              "    width: 32px;\n",
              "  }\n",
              "\n",
              "  .colab-df-quickchart:hover {\n",
              "    background-color: var(--hover-bg-color);\n",
              "    box-shadow: 0 1px 2px rgba(60, 64, 67, 0.3), 0 1px 3px 1px rgba(60, 64, 67, 0.15);\n",
              "    fill: var(--button-hover-fill-color);\n",
              "  }\n",
              "\n",
              "  .colab-df-quickchart-complete:disabled,\n",
              "  .colab-df-quickchart-complete:disabled:hover {\n",
              "    background-color: var(--disabled-bg-color);\n",
              "    fill: var(--disabled-fill-color);\n",
              "    box-shadow: none;\n",
              "  }\n",
              "\n",
              "  .colab-df-spinner {\n",
              "    border: 2px solid var(--fill-color);\n",
              "    border-color: transparent;\n",
              "    border-bottom-color: var(--fill-color);\n",
              "    animation:\n",
              "      spin 1s steps(1) infinite;\n",
              "  }\n",
              "\n",
              "  @keyframes spin {\n",
              "    0% {\n",
              "      border-color: transparent;\n",
              "      border-bottom-color: var(--fill-color);\n",
              "      border-left-color: var(--fill-color);\n",
              "    }\n",
              "    20% {\n",
              "      border-color: transparent;\n",
              "      border-left-color: var(--fill-color);\n",
              "      border-top-color: var(--fill-color);\n",
              "    }\n",
              "    30% {\n",
              "      border-color: transparent;\n",
              "      border-left-color: var(--fill-color);\n",
              "      border-top-color: var(--fill-color);\n",
              "      border-right-color: var(--fill-color);\n",
              "    }\n",
              "    40% {\n",
              "      border-color: transparent;\n",
              "      border-right-color: var(--fill-color);\n",
              "      border-top-color: var(--fill-color);\n",
              "    }\n",
              "    60% {\n",
              "      border-color: transparent;\n",
              "      border-right-color: var(--fill-color);\n",
              "    }\n",
              "    80% {\n",
              "      border-color: transparent;\n",
              "      border-right-color: var(--fill-color);\n",
              "      border-bottom-color: var(--fill-color);\n",
              "    }\n",
              "    90% {\n",
              "      border-color: transparent;\n",
              "      border-bottom-color: var(--fill-color);\n",
              "    }\n",
              "  }\n",
              "</style>\n",
              "\n",
              "  <script>\n",
              "    async function quickchart(key) {\n",
              "      const quickchartButtonEl =\n",
              "        document.querySelector('#' + key + ' button');\n",
              "      quickchartButtonEl.disabled = true;  // To prevent multiple clicks.\n",
              "      quickchartButtonEl.classList.add('colab-df-spinner');\n",
              "      try {\n",
              "        const charts = await google.colab.kernel.invokeFunction(\n",
              "            'suggestCharts', [key], {});\n",
              "      } catch (error) {\n",
              "        console.error('Error during call to suggestCharts:', error);\n",
              "      }\n",
              "      quickchartButtonEl.classList.remove('colab-df-spinner');\n",
              "      quickchartButtonEl.classList.add('colab-df-quickchart-complete');\n",
              "    }\n",
              "    (() => {\n",
              "      let quickchartButtonEl =\n",
              "        document.querySelector('#df-a23ad65f-f24b-4d60-9932-55752f5142e4 button');\n",
              "      quickchartButtonEl.style.display =\n",
              "        google.colab.kernel.accessAllowed ? 'block' : 'none';\n",
              "    })();\n",
              "  </script>\n",
              "</div>\n",
              "    </div>\n",
              "  </div>\n"
            ]
          },
          "metadata": {},
          "execution_count": 8
        }
      ]
    },
    {
      "cell_type": "markdown",
      "source": [
        "\"tip\"カラムはドル、\"size\"カラムは人数なので、変数のスケールがそもそも違います。  \n",
        "正規化によって、それぞれの特徴量空間のスケールを合わせます。\n"
      ],
      "metadata": {
        "id": "g572V4dRiJhK"
      }
    },
    {
      "cell_type": "code",
      "source": [
        "# 標準化\n",
        "from sklearn.preprocessing import MinMaxScaler\n",
        "\n",
        "# インスタンス生成\n",
        "scaler = MinMaxScaler()\n",
        "\n",
        "# fitする（データの最大値・最小値を求めるイメージ）\n",
        "scaler.fit(tips[[\"tip\", \"size\"]])\n",
        "\n",
        "# transformする（実際に変換する）\n",
        "tips_scaled = scaler.transform(tips[[\"tip\", \"size\"]])\n",
        "\n",
        "## fitとtransformをいっぺんに\n",
        "# scaler.fit_transform(tips[[\"tip\", \"size\"]])\n",
        "\n",
        "# データを10件表示\n",
        "pd.DataFrame(tips_scaled[:10] , columns=[\"tip\", \"size\"])"
      ],
      "metadata": {
        "colab": {
          "base_uri": "https://localhost:8080/",
          "height": 363
        },
        "outputId": "57536061-f5d4-4b6e-82fc-4f40fcc6f1ee",
        "id": "UhJ1qkwFiJhL"
      },
      "execution_count": null,
      "outputs": [
        {
          "output_type": "execute_result",
          "data": {
            "text/plain": [
              "        tip  size\n",
              "0  0.001111   0.2\n",
              "1  0.073333   0.4\n",
              "2  0.277778   0.4\n",
              "3  0.256667   0.2\n",
              "4  0.290000   0.6\n",
              "5  0.412222   0.6\n",
              "6  0.111111   0.2\n",
              "7  0.235556   0.6\n",
              "8  0.106667   0.2\n",
              "9  0.247778   0.2"
            ],
            "text/html": [
              "\n",
              "  <div id=\"df-39a074d4-0072-4af6-95d7-0b2e734016c6\" class=\"colab-df-container\">\n",
              "    <div>\n",
              "<style scoped>\n",
              "    .dataframe tbody tr th:only-of-type {\n",
              "        vertical-align: middle;\n",
              "    }\n",
              "\n",
              "    .dataframe tbody tr th {\n",
              "        vertical-align: top;\n",
              "    }\n",
              "\n",
              "    .dataframe thead th {\n",
              "        text-align: right;\n",
              "    }\n",
              "</style>\n",
              "<table border=\"1\" class=\"dataframe\">\n",
              "  <thead>\n",
              "    <tr style=\"text-align: right;\">\n",
              "      <th></th>\n",
              "      <th>tip</th>\n",
              "      <th>size</th>\n",
              "    </tr>\n",
              "  </thead>\n",
              "  <tbody>\n",
              "    <tr>\n",
              "      <th>0</th>\n",
              "      <td>0.001111</td>\n",
              "      <td>0.2</td>\n",
              "    </tr>\n",
              "    <tr>\n",
              "      <th>1</th>\n",
              "      <td>0.073333</td>\n",
              "      <td>0.4</td>\n",
              "    </tr>\n",
              "    <tr>\n",
              "      <th>2</th>\n",
              "      <td>0.277778</td>\n",
              "      <td>0.4</td>\n",
              "    </tr>\n",
              "    <tr>\n",
              "      <th>3</th>\n",
              "      <td>0.256667</td>\n",
              "      <td>0.2</td>\n",
              "    </tr>\n",
              "    <tr>\n",
              "      <th>4</th>\n",
              "      <td>0.290000</td>\n",
              "      <td>0.6</td>\n",
              "    </tr>\n",
              "    <tr>\n",
              "      <th>5</th>\n",
              "      <td>0.412222</td>\n",
              "      <td>0.6</td>\n",
              "    </tr>\n",
              "    <tr>\n",
              "      <th>6</th>\n",
              "      <td>0.111111</td>\n",
              "      <td>0.2</td>\n",
              "    </tr>\n",
              "    <tr>\n",
              "      <th>7</th>\n",
              "      <td>0.235556</td>\n",
              "      <td>0.6</td>\n",
              "    </tr>\n",
              "    <tr>\n",
              "      <th>8</th>\n",
              "      <td>0.106667</td>\n",
              "      <td>0.2</td>\n",
              "    </tr>\n",
              "    <tr>\n",
              "      <th>9</th>\n",
              "      <td>0.247778</td>\n",
              "      <td>0.2</td>\n",
              "    </tr>\n",
              "  </tbody>\n",
              "</table>\n",
              "</div>\n",
              "    <div class=\"colab-df-buttons\">\n",
              "\n",
              "  <div class=\"colab-df-container\">\n",
              "    <button class=\"colab-df-convert\" onclick=\"convertToInteractive('df-39a074d4-0072-4af6-95d7-0b2e734016c6')\"\n",
              "            title=\"Convert this dataframe to an interactive table.\"\n",
              "            style=\"display:none;\">\n",
              "\n",
              "  <svg xmlns=\"http://www.w3.org/2000/svg\" height=\"24px\" viewBox=\"0 -960 960 960\">\n",
              "    <path d=\"M120-120v-720h720v720H120Zm60-500h600v-160H180v160Zm220 220h160v-160H400v160Zm0 220h160v-160H400v160ZM180-400h160v-160H180v160Zm440 0h160v-160H620v160ZM180-180h160v-160H180v160Zm440 0h160v-160H620v160Z\"/>\n",
              "  </svg>\n",
              "    </button>\n",
              "\n",
              "  <style>\n",
              "    .colab-df-container {\n",
              "      display:flex;\n",
              "      gap: 12px;\n",
              "    }\n",
              "\n",
              "    .colab-df-convert {\n",
              "      background-color: #E8F0FE;\n",
              "      border: none;\n",
              "      border-radius: 50%;\n",
              "      cursor: pointer;\n",
              "      display: none;\n",
              "      fill: #1967D2;\n",
              "      height: 32px;\n",
              "      padding: 0 0 0 0;\n",
              "      width: 32px;\n",
              "    }\n",
              "\n",
              "    .colab-df-convert:hover {\n",
              "      background-color: #E2EBFA;\n",
              "      box-shadow: 0px 1px 2px rgba(60, 64, 67, 0.3), 0px 1px 3px 1px rgba(60, 64, 67, 0.15);\n",
              "      fill: #174EA6;\n",
              "    }\n",
              "\n",
              "    .colab-df-buttons div {\n",
              "      margin-bottom: 4px;\n",
              "    }\n",
              "\n",
              "    [theme=dark] .colab-df-convert {\n",
              "      background-color: #3B4455;\n",
              "      fill: #D2E3FC;\n",
              "    }\n",
              "\n",
              "    [theme=dark] .colab-df-convert:hover {\n",
              "      background-color: #434B5C;\n",
              "      box-shadow: 0px 1px 3px 1px rgba(0, 0, 0, 0.15);\n",
              "      filter: drop-shadow(0px 1px 2px rgba(0, 0, 0, 0.3));\n",
              "      fill: #FFFFFF;\n",
              "    }\n",
              "  </style>\n",
              "\n",
              "    <script>\n",
              "      const buttonEl =\n",
              "        document.querySelector('#df-39a074d4-0072-4af6-95d7-0b2e734016c6 button.colab-df-convert');\n",
              "      buttonEl.style.display =\n",
              "        google.colab.kernel.accessAllowed ? 'block' : 'none';\n",
              "\n",
              "      async function convertToInteractive(key) {\n",
              "        const element = document.querySelector('#df-39a074d4-0072-4af6-95d7-0b2e734016c6');\n",
              "        const dataTable =\n",
              "          await google.colab.kernel.invokeFunction('convertToInteractive',\n",
              "                                                    [key], {});\n",
              "        if (!dataTable) return;\n",
              "\n",
              "        const docLinkHtml = 'Like what you see? Visit the ' +\n",
              "          '<a target=\"_blank\" href=https://colab.research.google.com/notebooks/data_table.ipynb>data table notebook</a>'\n",
              "          + ' to learn more about interactive tables.';\n",
              "        element.innerHTML = '';\n",
              "        dataTable['output_type'] = 'display_data';\n",
              "        await google.colab.output.renderOutput(dataTable, element);\n",
              "        const docLink = document.createElement('div');\n",
              "        docLink.innerHTML = docLinkHtml;\n",
              "        element.appendChild(docLink);\n",
              "      }\n",
              "    </script>\n",
              "  </div>\n",
              "\n",
              "\n",
              "<div id=\"df-81a73ff8-84fe-406f-b7df-6abe50e24011\">\n",
              "  <button class=\"colab-df-quickchart\" onclick=\"quickchart('df-81a73ff8-84fe-406f-b7df-6abe50e24011')\"\n",
              "            title=\"Suggest charts.\"\n",
              "            style=\"display:none;\">\n",
              "\n",
              "<svg xmlns=\"http://www.w3.org/2000/svg\" height=\"24px\"viewBox=\"0 0 24 24\"\n",
              "     width=\"24px\">\n",
              "    <g>\n",
              "        <path d=\"M19 3H5c-1.1 0-2 .9-2 2v14c0 1.1.9 2 2 2h14c1.1 0 2-.9 2-2V5c0-1.1-.9-2-2-2zM9 17H7v-7h2v7zm4 0h-2V7h2v10zm4 0h-2v-4h2v4z\"/>\n",
              "    </g>\n",
              "</svg>\n",
              "  </button>\n",
              "\n",
              "<style>\n",
              "  .colab-df-quickchart {\n",
              "      --bg-color: #E8F0FE;\n",
              "      --fill-color: #1967D2;\n",
              "      --hover-bg-color: #E2EBFA;\n",
              "      --hover-fill-color: #174EA6;\n",
              "      --disabled-fill-color: #AAA;\n",
              "      --disabled-bg-color: #DDD;\n",
              "  }\n",
              "\n",
              "  [theme=dark] .colab-df-quickchart {\n",
              "      --bg-color: #3B4455;\n",
              "      --fill-color: #D2E3FC;\n",
              "      --hover-bg-color: #434B5C;\n",
              "      --hover-fill-color: #FFFFFF;\n",
              "      --disabled-bg-color: #3B4455;\n",
              "      --disabled-fill-color: #666;\n",
              "  }\n",
              "\n",
              "  .colab-df-quickchart {\n",
              "    background-color: var(--bg-color);\n",
              "    border: none;\n",
              "    border-radius: 50%;\n",
              "    cursor: pointer;\n",
              "    display: none;\n",
              "    fill: var(--fill-color);\n",
              "    height: 32px;\n",
              "    padding: 0;\n",
              "    width: 32px;\n",
              "  }\n",
              "\n",
              "  .colab-df-quickchart:hover {\n",
              "    background-color: var(--hover-bg-color);\n",
              "    box-shadow: 0 1px 2px rgba(60, 64, 67, 0.3), 0 1px 3px 1px rgba(60, 64, 67, 0.15);\n",
              "    fill: var(--button-hover-fill-color);\n",
              "  }\n",
              "\n",
              "  .colab-df-quickchart-complete:disabled,\n",
              "  .colab-df-quickchart-complete:disabled:hover {\n",
              "    background-color: var(--disabled-bg-color);\n",
              "    fill: var(--disabled-fill-color);\n",
              "    box-shadow: none;\n",
              "  }\n",
              "\n",
              "  .colab-df-spinner {\n",
              "    border: 2px solid var(--fill-color);\n",
              "    border-color: transparent;\n",
              "    border-bottom-color: var(--fill-color);\n",
              "    animation:\n",
              "      spin 1s steps(1) infinite;\n",
              "  }\n",
              "\n",
              "  @keyframes spin {\n",
              "    0% {\n",
              "      border-color: transparent;\n",
              "      border-bottom-color: var(--fill-color);\n",
              "      border-left-color: var(--fill-color);\n",
              "    }\n",
              "    20% {\n",
              "      border-color: transparent;\n",
              "      border-left-color: var(--fill-color);\n",
              "      border-top-color: var(--fill-color);\n",
              "    }\n",
              "    30% {\n",
              "      border-color: transparent;\n",
              "      border-left-color: var(--fill-color);\n",
              "      border-top-color: var(--fill-color);\n",
              "      border-right-color: var(--fill-color);\n",
              "    }\n",
              "    40% {\n",
              "      border-color: transparent;\n",
              "      border-right-color: var(--fill-color);\n",
              "      border-top-color: var(--fill-color);\n",
              "    }\n",
              "    60% {\n",
              "      border-color: transparent;\n",
              "      border-right-color: var(--fill-color);\n",
              "    }\n",
              "    80% {\n",
              "      border-color: transparent;\n",
              "      border-right-color: var(--fill-color);\n",
              "      border-bottom-color: var(--fill-color);\n",
              "    }\n",
              "    90% {\n",
              "      border-color: transparent;\n",
              "      border-bottom-color: var(--fill-color);\n",
              "    }\n",
              "  }\n",
              "</style>\n",
              "\n",
              "  <script>\n",
              "    async function quickchart(key) {\n",
              "      const quickchartButtonEl =\n",
              "        document.querySelector('#' + key + ' button');\n",
              "      quickchartButtonEl.disabled = true;  // To prevent multiple clicks.\n",
              "      quickchartButtonEl.classList.add('colab-df-spinner');\n",
              "      try {\n",
              "        const charts = await google.colab.kernel.invokeFunction(\n",
              "            'suggestCharts', [key], {});\n",
              "      } catch (error) {\n",
              "        console.error('Error during call to suggestCharts:', error);\n",
              "      }\n",
              "      quickchartButtonEl.classList.remove('colab-df-spinner');\n",
              "      quickchartButtonEl.classList.add('colab-df-quickchart-complete');\n",
              "    }\n",
              "    (() => {\n",
              "      let quickchartButtonEl =\n",
              "        document.querySelector('#df-81a73ff8-84fe-406f-b7df-6abe50e24011 button');\n",
              "      quickchartButtonEl.style.display =\n",
              "        google.colab.kernel.accessAllowed ? 'block' : 'none';\n",
              "    })();\n",
              "  </script>\n",
              "</div>\n",
              "    </div>\n",
              "  </div>\n"
            ]
          },
          "metadata": {},
          "execution_count": 10
        }
      ]
    },
    {
      "cell_type": "markdown",
      "source": [
        "最大値と最小値が本当に0と1に変換されているか確認してみましょう。"
      ],
      "metadata": {
        "id": "4Rqy_P0XkKMG"
      }
    },
    {
      "cell_type": "code",
      "source": [
        "# データフレームに変換\n",
        "tips_scaled_df = pd.DataFrame(tips_scaled , columns=[\"tip\", \"size\"])\n",
        "\n",
        "print(f'正規化前の\"tip\"カラムの最大値：{max(tips[\"tip\"])}')\n",
        "print(f'正規化後の\"tip\"カラムの最大値：{max(tips_scaled_df[\"tip\"])}')\n",
        "print(f'正規化前の\"size\"カラムの最大値：{max(tips[\"size\"])}')\n",
        "print(f'正規化後の\"size\"カラムの最大値：{max(tips_scaled_df[\"size\"])}')\n",
        "print(\"-----------------------------------------------\")\n",
        "print(f'正規化前の\"tip\"カラムの最小値：{min(tips[\"tip\"])}')\n",
        "print(f'正規化後の\"tip\"カラムの最小値：{min(tips_scaled_df[\"tip\"])}')\n",
        "print(f'正規化前の\"size\"カラムの最小値：{min(tips[\"size\"])}')\n",
        "print(f'正規化後の\"size\"カラムの最小値：{min(tips_scaled_df[\"size\"])}')"
      ],
      "metadata": {
        "colab": {
          "base_uri": "https://localhost:8080/"
        },
        "id": "1yosGGIbim13",
        "outputId": "4c013895-c26b-42c9-d4ad-fcd49bb18bbd"
      },
      "execution_count": null,
      "outputs": [
        {
          "output_type": "stream",
          "name": "stdout",
          "text": [
            "正規化前の\"tip\"カラムの最大値：10.0\n",
            "正規化後の\"tip\"カラムの最大値：1.0\n",
            "正規化前の\"size\"カラムの最大値：6\n",
            "正規化後の\"size\"カラムの最大値：1.0000000000000002\n",
            "-----------------------------------------------\n",
            "正規化前の\"tip\"カラムの最小値：1.0\n",
            "正規化後の\"tip\"カラムの最小値：0.0\n",
            "正規化前の\"size\"カラムの最小値：1\n",
            "正規化後の\"size\"カラムの最小値：0.0\n"
          ]
        }
      ]
    },
    {
      "cell_type": "markdown",
      "source": [
        "### 特徴量スケーリングの注意点"
      ],
      "metadata": {
        "id": "-aRGwfM3kSr_"
      }
    },
    {
      "cell_type": "markdown",
      "source": [
        "まず一つ目に、**リスケールするのはあくまでも特徴量毎である**点です。\n",
        "\n",
        "今回でいうなら、\"tip\"カラムと\"size\"カラムそれぞれでパラメータを求めます。"
      ],
      "metadata": {
        "id": "8YxpYZlXka51"
      }
    },
    {
      "cell_type": "markdown",
      "source": [
        "二つ目に、**目的変数のリスケールは不要である**点です。\n",
        "\n"
      ],
      "metadata": {
        "id": "B5jn3orckqrI"
      }
    },
    {
      "cell_type": "markdown",
      "source": [
        "三つ目に、学習データとテストデータを分ける場合は、  \n",
        "**学習データのリスケールに使ったパラメータをテストデータのリスケールに使用する**点です。"
      ],
      "metadata": {
        "id": "TRXcs-PYk2be"
      }
    },
    {
      "cell_type": "markdown",
      "source": [
        "標準化で例えると以下のようになります。\n",
        "\n",
        "＜学習データの標準化（正解）＞\n",
        "$$\n",
        "\\frac{x_{train}-\\bar{x}_{train}}{s_{train}}\n",
        "$$\n",
        "\n",
        "＜テストデータの標準化（正解）＞\n",
        "$$\n",
        "\\frac{x_{test}-\\bar{x}_{train}}{s_{train}}\n",
        "$$\n",
        "\n",
        "＜テストデータの標準化（不正解）＞\n",
        "$$\n",
        "\\frac{x_{test}-\\bar{x}_{test}}{s_{test}}\n",
        "$$"
      ],
      "metadata": {
        "id": "hMAexuCVlCFF"
      }
    },
    {
      "cell_type": "markdown",
      "source": [
        "### どちらを使うべきか"
      ],
      "metadata": {
        "id": "F66UuKIMl0VN"
      }
    },
    {
      "cell_type": "markdown",
      "source": [
        "標準化と正規化、どちらを使うべきかというところですが、明確な基準はないようです。\n",
        "\n",
        "生データ，標準化したデータ，正規化したデータで、  \n",
        "学習したそれぞれのモデルの精度を比較して決めるのが良いとも言われています。\n"
      ],
      "metadata": {
        "id": "sXDo9o-Il1Ys"
      }
    },
    {
      "cell_type": "markdown",
      "source": [
        "データが正規分布に従っている場合や、外れ値の影響を受けたくない場合は  \n",
        "特に**標準化**が好まれるようです。\n",
        "\n",
        "いかなる場合でも、概ね**標準化**の方が使われやすく好まれる傾向にあります。\n"
      ],
      "metadata": {
        "id": "ymGvkCgrmGfE"
      }
    }
  ]
}