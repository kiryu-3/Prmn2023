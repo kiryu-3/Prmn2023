{
  "nbformat": 4,
  "nbformat_minor": 0,
  "metadata": {
    "colab": {
      "provenance": [],
      "toc_visible": true,
      "authorship_tag": "ABX9TyN25KlQLR+b59wRgVqN6Ob8",
      "include_colab_link": true
    },
    "kernelspec": {
      "name": "python3",
      "display_name": "Python 3"
    },
    "language_info": {
      "name": "python"
    }
  },
  "cells": [
    {
      "cell_type": "markdown",
      "metadata": {
        "id": "view-in-github",
        "colab_type": "text"
      },
      "source": [
        "<a href=\"https://colab.research.google.com/github/kiryu-3/Prmn2023/blob/main/Python/Python_Machine/Machine_Learning_4_2.ipynb\" target=\"_parent\"><img src=\"https://colab.research.google.com/assets/colab-badge.svg\" alt=\"Open In Colab\"/></a>"
      ]
    },
    {
      "cell_type": "markdown",
      "source": [
        "# 非線形回帰ー実践編"
      ],
      "metadata": {
        "id": "J-mRD1H45Xo0"
      }
    },
    {
      "cell_type": "code",
      "source": [
        "# 最初にインポートしてください\n",
        "import numpy as np\n",
        "import pandas as pd\n",
        "import matplotlib.pyplot as plt\n",
        "import seaborn as sns\n",
        "from sklearn.linear_model import Ridge, LinearRegression\n",
        "from sklearn.metrics import mean_squared_error\n",
        "from sklearn.metrics import r2_score\n",
        "from sklearn.model_selection import KFold, RepeatedKFold, cross_val_score\n",
        "from sklearn.model_selection import train_test_split\n",
        "from sklearn.datasets import fetch_openml\n",
        "from sklearn.preprocessing import StandardScaler, PolynomialFeatures\n",
        "from sklearn.neighbors import KNeighborsRegressor\n",
        "from sklearn.pipeline import Pipeline\n",
        "import statsmodels.api as sma"
      ],
      "metadata": {
        "id": "Z1sN5gIIuMRa"
      },
      "execution_count": null,
      "outputs": []
    },
    {
      "cell_type": "markdown",
      "source": [
        "エイムズの住宅販売価格予測を、非線形回帰を使って行っていきます。\n",
        "\n",
        "欠損値の処理などは線形回帰の時と同じとします。"
      ],
      "metadata": {
        "id": "JGQHvD8b5nmZ"
      }
    },
    {
      "cell_type": "markdown",
      "source": [
        "## 欠損値の処理"
      ],
      "metadata": {
        "id": "NnOhmQry6j7t"
      }
    },
    {
      "cell_type": "code",
      "source": [
        "# Ames housing datasetを取得し、as_frame=Trueを指定してDataFrame形式で読み込む\n",
        "housing = fetch_openml(name=\"house_prices\", as_frame=True)\n",
        "\n",
        "# DataFrameを表示\n",
        "df = housing.frame\n",
        "\n",
        "# 欠損値に意味がある場合の処理\n",
        "df[\"PoolQC\"] = df[\"PoolQC\"].fillna(\"NA\")\n",
        "df[\"MiscFeature\"] = df[\"MiscFeature\"].fillna(\"NA\")\n",
        "df[\"Alley\"] = df[\"Alley\"].fillna(\"NA\")\n",
        "df[\"Fence\"] = df[\"Fence\"].fillna(\"NA\")\n",
        "df[\"FireplaceQu\"] = df[\"FireplaceQu\"].fillna(\"NA\")\n",
        "df[\"GarageFinish\"] = df[\"GarageFinish\"].fillna(\"NA\")\n",
        "df[\"GarageQual\"] = df[\"GarageQual\"].fillna(\"NA\")\n",
        "df[\"GarageCond\"] = df[\"GarageCond\"].fillna(\"NA\")\n",
        "df[\"GarageYrBlt\"] = df[\"GarageYrBlt\"].fillna(0)\n",
        "df[\"GarageType\"] = df[\"GarageType\"].fillna(\"NA\")\n",
        "df[\"BsmtExposure\"] = df[\"BsmtExposure\"].fillna(\"NA\")\n",
        "df[\"BsmtCond\"] = df[\"BsmtCond\"].fillna(\"NA\")\n",
        "df[\"BsmtQual\"] = df[\"BsmtQual\"].fillna(\"NA\")\n",
        "df[\"BsmtFinType2\"] = df[\"BsmtFinType2\"].fillna(\"NA\")\n",
        "df[\"BsmtFinType1\"] = df[\"BsmtFinType1\"].fillna(\"NA\")\n",
        "\n",
        "# NeighbourhoodごとにLotFrontageの中央値を算出\n",
        "platform_neighbourhood_dict = df.groupby(\"Neighborhood\").median()[\"LotFrontage\"].to_dict()\n",
        "# 同じ地区の中央値の値で埋める\n",
        "df[\"LotFrontage\"] = df.apply(\n",
        "    lambda row: platform_neighbourhood_dict[row[\"Neighborhood\"]]\n",
        "    if np.isnan(row[\"LotFrontage\"])\n",
        "    else row[\"LotFrontage\"],\n",
        "    axis=1\n",
        ")\n",
        "\n",
        "# 欠損値の数を計算\n",
        "chk_null2 = df.isnull().sum()\n",
        "\n",
        "# 欠損値の割合を計算\n",
        "chk_null_pct2 = chk_null2 / (df.index.max() + 1)\n",
        "\n",
        "# 欠損値の数と割合がゼロでない列を抽出し、欠損値テーブルを作成\n",
        "chk_null_tbl2 = pd.concat([chk_null2[chk_null2 > 0], chk_null_pct2[chk_null_pct2 > 0]], axis=1)\n",
        "\n",
        "# 欠損値の割合を基準にテーブルを降順でソートし、列名を変更\n",
        "chk_null_tbl_new = chk_null_tbl2.sort_values(by=1, ascending=False).rename(columns={0: \"欠損レコード数\", 1: \"欠損割合\"})\n",
        "\n",
        "\"\"\"\n",
        "\"MasVnrArea\t\"カラム（組積造の面積）は\n",
        "数値型なので中央値で欠損値処理\n",
        "\"MasVnrType\"カラム（組積造の種別）と\"Electrical\"カラム（電気システムの種類）は\n",
        "名義型なので最頻値で欠損値処理\n",
        "\"\"\"\n",
        "\n",
        "# 欠損値の数を計算し、0以外のカラムのインデックスを抽出\n",
        "nonzero_columns = chk_null_tbl_new.index\n",
        "\n",
        "# 欠損値を埋める処理\n",
        "for column in nonzero_columns:\n",
        "    if np.issubdtype(df[column].dtype, np.number):\n",
        "        # 数値型の場合は中央値で埋める\n",
        "        df[column].fillna(df[column].median(), inplace=True)\n",
        "    else:\n",
        "        # 文字型の場合は最頻値で埋める\n",
        "        df[column].fillna(df[column].mode()[0], inplace=True)\n",
        "\n",
        "# データ型を適切なタイプに変換\n",
        "df['YrSold'] = df['YrSold'].astype(str)  # 売れた年\n",
        "df['MoSold'] = df['MoSold'].astype(str)  # 売れた月\n",
        "df['GarageYrBlt'] = df['GarageYrBlt'].astype(str)  # ガレージが建てられた年\n",
        "df['YearBuilt'] = df['YearBuilt'].astype(str)  # 建築された年\n",
        "df['YearRemodAdd'] = df['YearRemodAdd'].astype(str)  # リフォームされた年\n",
        "df['MSSubClass'] = df['MSSubClass'].astype(str)  # 建物クラス（建てられ方の違い）"
      ],
      "metadata": {
        "colab": {
          "base_uri": "https://localhost:8080/"
        },
        "id": "yDhKAgAL51Ff",
        "outputId": "84df317d-d5fb-4d64-fa38-8c324612076a"
      },
      "execution_count": null,
      "outputs": [
        {
          "output_type": "stream",
          "name": "stderr",
          "text": [
            "/usr/local/lib/python3.10/dist-packages/sklearn/datasets/_openml.py:968: FutureWarning: The default value of `parser` will change from `'liac-arff'` to `'auto'` in 1.4. You can set `parser='auto'` to silence this warning. Therefore, an `ImportError` will be raised from 1.4 if the dataset is dense and pandas is not installed. Note that the pandas parser may return different data types. See the Notes Section in fetch_openml's API doc for details.\n",
            "  warn(\n",
            "<ipython-input-2-b15dfc9397c0>:25: FutureWarning: The default value of numeric_only in DataFrameGroupBy.median is deprecated. In a future version, numeric_only will default to False. Either specify numeric_only or select only columns which should be valid for the function.\n",
            "  platform_neighbourhood_dict = df.groupby(\"Neighborhood\").median()[\"LotFrontage\"].to_dict()\n"
          ]
        }
      ]
    },
    {
      "cell_type": "code",
      "source": [
        "# 欠損値の数を計算\n",
        "chk_null3 = df.isnull().sum()\n",
        "\n",
        "# 欠損値の割合を計算\n",
        "chk_null_pct3 = chk_null3 / (df.index.max() + 1)\n",
        "\n",
        "# 欠損値の数と割合がゼロでない列を抽出し、欠損値テーブルを作成\n",
        "chk_null_tbl3 = pd.concat([chk_null3[chk_null3 > 0], chk_null_pct3[chk_null_pct3 > 0]], axis=1)\n",
        "\n",
        "# 欠損値の割合を基準にテーブルを降順でソートし、列名を変更\n",
        "chk_null_tbl_end = chk_null_tbl3.sort_values(by=1, ascending=False).rename(columns={0: \"欠損レコード数\", 1: \"欠損割合\"})\n",
        "chk_null_tbl_end"
      ],
      "metadata": {
        "colab": {
          "base_uri": "https://localhost:8080/",
          "height": 53
        },
        "id": "RT5C8OK36c9S",
        "outputId": "2711b446-687d-4e04-9786-9014c5aad529"
      },
      "execution_count": null,
      "outputs": [
        {
          "output_type": "execute_result",
          "data": {
            "text/plain": [
              "Empty DataFrame\n",
              "Columns: [欠損レコード数, 欠損割合]\n",
              "Index: []"
            ],
            "text/html": [
              "\n",
              "  <div id=\"df-b63f9e81-1b08-4609-8f38-1050522a3549\" class=\"colab-df-container\">\n",
              "    <div>\n",
              "<style scoped>\n",
              "    .dataframe tbody tr th:only-of-type {\n",
              "        vertical-align: middle;\n",
              "    }\n",
              "\n",
              "    .dataframe tbody tr th {\n",
              "        vertical-align: top;\n",
              "    }\n",
              "\n",
              "    .dataframe thead th {\n",
              "        text-align: right;\n",
              "    }\n",
              "</style>\n",
              "<table border=\"1\" class=\"dataframe\">\n",
              "  <thead>\n",
              "    <tr style=\"text-align: right;\">\n",
              "      <th></th>\n",
              "      <th>欠損レコード数</th>\n",
              "      <th>欠損割合</th>\n",
              "    </tr>\n",
              "  </thead>\n",
              "  <tbody>\n",
              "  </tbody>\n",
              "</table>\n",
              "</div>\n",
              "    <div class=\"colab-df-buttons\">\n",
              "\n",
              "  <div class=\"colab-df-container\">\n",
              "    <button class=\"colab-df-convert\" onclick=\"convertToInteractive('df-b63f9e81-1b08-4609-8f38-1050522a3549')\"\n",
              "            title=\"Convert this dataframe to an interactive table.\"\n",
              "            style=\"display:none;\">\n",
              "\n",
              "  <svg xmlns=\"http://www.w3.org/2000/svg\" height=\"24px\" viewBox=\"0 -960 960 960\">\n",
              "    <path d=\"M120-120v-720h720v720H120Zm60-500h600v-160H180v160Zm220 220h160v-160H400v160Zm0 220h160v-160H400v160ZM180-400h160v-160H180v160Zm440 0h160v-160H620v160ZM180-180h160v-160H180v160Zm440 0h160v-160H620v160Z\"/>\n",
              "  </svg>\n",
              "    </button>\n",
              "\n",
              "  <style>\n",
              "    .colab-df-container {\n",
              "      display:flex;\n",
              "      gap: 12px;\n",
              "    }\n",
              "\n",
              "    .colab-df-convert {\n",
              "      background-color: #E8F0FE;\n",
              "      border: none;\n",
              "      border-radius: 50%;\n",
              "      cursor: pointer;\n",
              "      display: none;\n",
              "      fill: #1967D2;\n",
              "      height: 32px;\n",
              "      padding: 0 0 0 0;\n",
              "      width: 32px;\n",
              "    }\n",
              "\n",
              "    .colab-df-convert:hover {\n",
              "      background-color: #E2EBFA;\n",
              "      box-shadow: 0px 1px 2px rgba(60, 64, 67, 0.3), 0px 1px 3px 1px rgba(60, 64, 67, 0.15);\n",
              "      fill: #174EA6;\n",
              "    }\n",
              "\n",
              "    .colab-df-buttons div {\n",
              "      margin-bottom: 4px;\n",
              "    }\n",
              "\n",
              "    [theme=dark] .colab-df-convert {\n",
              "      background-color: #3B4455;\n",
              "      fill: #D2E3FC;\n",
              "    }\n",
              "\n",
              "    [theme=dark] .colab-df-convert:hover {\n",
              "      background-color: #434B5C;\n",
              "      box-shadow: 0px 1px 3px 1px rgba(0, 0, 0, 0.15);\n",
              "      filter: drop-shadow(0px 1px 2px rgba(0, 0, 0, 0.3));\n",
              "      fill: #FFFFFF;\n",
              "    }\n",
              "  </style>\n",
              "\n",
              "    <script>\n",
              "      const buttonEl =\n",
              "        document.querySelector('#df-b63f9e81-1b08-4609-8f38-1050522a3549 button.colab-df-convert');\n",
              "      buttonEl.style.display =\n",
              "        google.colab.kernel.accessAllowed ? 'block' : 'none';\n",
              "\n",
              "      async function convertToInteractive(key) {\n",
              "        const element = document.querySelector('#df-b63f9e81-1b08-4609-8f38-1050522a3549');\n",
              "        const dataTable =\n",
              "          await google.colab.kernel.invokeFunction('convertToInteractive',\n",
              "                                                    [key], {});\n",
              "        if (!dataTable) return;\n",
              "\n",
              "        const docLinkHtml = 'Like what you see? Visit the ' +\n",
              "          '<a target=\"_blank\" href=https://colab.research.google.com/notebooks/data_table.ipynb>data table notebook</a>'\n",
              "          + ' to learn more about interactive tables.';\n",
              "        element.innerHTML = '';\n",
              "        dataTable['output_type'] = 'display_data';\n",
              "        await google.colab.output.renderOutput(dataTable, element);\n",
              "        const docLink = document.createElement('div');\n",
              "        docLink.innerHTML = docLinkHtml;\n",
              "        element.appendChild(docLink);\n",
              "      }\n",
              "    </script>\n",
              "  </div>\n",
              "\n",
              "    </div>\n",
              "  </div>\n"
            ]
          },
          "metadata": {},
          "execution_count": 3
        }
      ]
    },
    {
      "cell_type": "markdown",
      "source": [
        "すべての欠損値を埋めることができました。"
      ],
      "metadata": {
        "id": "dfe_a_bG6fPy"
      }
    },
    {
      "cell_type": "markdown",
      "source": [
        "## そのほかのデータの加工"
      ],
      "metadata": {
        "id": "S12o54L5nU5B"
      }
    },
    {
      "cell_type": "markdown",
      "source": [
        "ヒノマルクさんの記事群(リンクは[こちら](https://www.hinomaruc.com/tag/ames/?order=asc))にもありますが、  \n",
        "ほかにも以下のような加工をすることで、モデルの精度向上が期待できます。\n",
        "\n"
      ],
      "metadata": {
        "id": "oNs-YHQqnhQJ"
      }
    },
    {
      "cell_type": "markdown",
      "source": [
        "- 外れ値処理\n",
        "\n",
        "  - 外れ値かどうかを判断して除外するかどうかを検討する。\n",
        "\n",
        "- 特徴量エンジニアリング\n",
        "\n",
        "  - 新しい意味を持つ変数を作成する。\n",
        "  - より説明力がある変数が作成できたり、変数の数を減らせる可能性がある。\n",
        "  \n",
        "- 変数選択\n",
        "\n",
        "  - モデリングに必要なさそうな変数は除外する。\n",
        "  - 計算量を減らせたり多重共線性を防げる可能性がある。"
      ],
      "metadata": {
        "id": "vGiFbUrfnWyZ"
      }
    },
    {
      "cell_type": "markdown",
      "source": [
        "ヒノマルクさんの[こちら](https://www.hinomaruc.com/ames-dataset-analytics-3-1/)の記事を参考にしました。"
      ],
      "metadata": {
        "id": "1f5sMx8ypRVd"
      }
    },
    {
      "cell_type": "markdown",
      "source": [
        "## 住宅価格を多項式回帰で予測"
      ],
      "metadata": {
        "id": "AK-HydOnpue1"
      }
    },
    {
      "cell_type": "markdown",
      "source": [
        "いよいよ住宅価格の予測に入ります。  \n",
        "使用するカラムもここでは線形回帰と同じものを使います。"
      ],
      "metadata": {
        "id": "ml-hZokBp3yG"
      }
    },
    {
      "cell_type": "code",
      "source": [
        "selected_columns = [\n",
        "    \"SalePrice\",  # 住宅価格\n",
        "    \"OverallQual\",  #  住居の品質\n",
        "    \"GrLivArea\",  # 地上全ての住宅面積\n",
        "    \"GarageCars\",  # ガレージへの駐車可能台数\n",
        "    \"TotalBsmtSF\",  # 全地下室の面積\n",
        "    \"FullBath\",  # フル・バスルームの数（地下室は除く）\n",
        "    \"YearBuilt\"  #  建築された年\n",
        "]\n",
        "\n",
        "new_df = df[selected_columns]\n",
        "\n",
        "sns.heatmap(new_df.corr(), annot=True, cmap='YlGnBu', linewidths=0.5)"
      ],
      "metadata": {
        "colab": {
          "base_uri": "https://localhost:8080/",
          "height": 578
        },
        "id": "GwKNKT-P6zl3",
        "outputId": "fe6d51ff-f647-4d77-cb4f-d14f734d23dd"
      },
      "execution_count": null,
      "outputs": [
        {
          "output_type": "stream",
          "name": "stderr",
          "text": [
            "<ipython-input-4-b653b37b010e>:13: FutureWarning: The default value of numeric_only in DataFrame.corr is deprecated. In a future version, it will default to False. Select only valid columns or specify the value of numeric_only to silence this warning.\n",
            "  sns.heatmap(new_df.corr(), annot=True, cmap='YlGnBu', linewidths=0.5)\n"
          ]
        },
        {
          "output_type": "execute_result",
          "data": {
            "text/plain": [
              "<Axes: >"
            ]
          },
          "metadata": {},
          "execution_count": 4
        },
        {
          "output_type": "display_data",
          "data": {
            "text/plain": [
              "<Figure size 640x480 with 2 Axes>"
            ],
            "image/png": "[encoded data removed]"
          },
          "metadata": {}
        }
      ]
    },
    {
      "cell_type": "markdown",
      "source": [
        "ここでは、**`degree=2`**の多項式回帰を行います。\n",
        "\n",
        "また、汎化性能を測る方法として、**Repeated 5-Fold CV**を用います。"
      ],
      "metadata": {
        "id": "Y83Lcvd3_oks"
      }
    },
    {
      "cell_type": "code",
      "source": [
        "# 目的変数に\"SalePrice\"、説明変数にそれ以外の6つのカラムを指定\n",
        "X = new_df.drop('SalePrice', axis=1)\n",
        "y = new_df['SalePrice']\n",
        "\n",
        "# データを5つのグループに分ける\n",
        "k = 5\n",
        "\n",
        "# 3回グループ分けを行う\n",
        "n_repeats = 3\n",
        "\n",
        "# 15回学習を行う\n",
        "cv = RepeatedKFold(n_splits=k, n_repeats=n_repeats, random_state=0)\n",
        "\n",
        "# Pipelineを定義\n",
        "pipeline = Pipeline([\n",
        "    ('scaler', StandardScaler()),  # データの標準化\n",
        "    ('polynomial', PolynomialFeatures(degree=2, include_bias=False)),  # 多項式特徴量の生成\n",
        "    ('model', LinearRegression())  # 線形回帰モデル\n",
        "])\n",
        "\n",
        "# 15回分決定係数を求める\n",
        "scores = cross_val_score(pipeline, X, y, cv=cv, scoring='r2')\n",
        "\n",
        "# 決定係数の平均と標準偏差を求める\n",
        "print(f\"R2({k}FoldCV): {np.mean(scores)}\")\n",
        "print(f\"std: {np.std(scores)}\")"
      ],
      "metadata": {
        "colab": {
          "base_uri": "https://localhost:8080/"
        },
        "id": "hfrkkGIZw_5J",
        "outputId": "e93ece12-647f-4f1e-e1dd-13a2114588ca"
      },
      "execution_count": null,
      "outputs": [
        {
          "output_type": "stream",
          "name": "stdout",
          "text": [
            "R2(5FoldCV): 0.7888161980362526\n",
            "std: 0.16428582313609885\n"
          ]
        }
      ]
    },
    {
      "cell_type": "markdown",
      "source": [
        "線形回帰のときは決定係数は以下のような結果となっていたので、  \n",
        "標準偏差が大きいことが少し気になりますが、精度の向上が確認できます。\n",
        "\n",
        "![](https://imgur.com/YckFZSU.png)"
      ],
      "metadata": {
        "id": "VRYSgL99Aa1a"
      }
    },
    {
      "cell_type": "markdown",
      "source": [
        "## 住宅価格をknn回帰で予測"
      ],
      "metadata": {
        "id": "anwjwJBhyuEe"
      }
    },
    {
      "cell_type": "markdown",
      "source": [
        "ここでは、**`k=10`**のknn回帰を行います。\n",
        "\n",
        "また、汎化性能を測る方法として、**Repeated 5-Fold CV**を用います。"
      ],
      "metadata": {
        "id": "2-mixHKTyzZF"
      }
    },
    {
      "cell_type": "code",
      "source": [
        "# 目的変数に\"SalePrice\"、説明変数にそれ以外の6つのカラムを指定\n",
        "X = new_df.drop('SalePrice', axis=1)\n",
        "y = new_df['SalePrice']\n",
        "\n",
        "# データを5つのグループに分ける\n",
        "k = 5\n",
        "\n",
        "# 3回グループ分けを行う\n",
        "n_repeats = 3\n",
        "\n",
        "# 15回学習を行う\n",
        "cv = RepeatedKFold(n_splits=k, n_repeats=n_repeats, random_state=0)\n",
        "\n",
        "# Pipelineを定義\n",
        "pipeline = Pipeline([\n",
        "    ('scaler', StandardScaler()),  # データの標準化\n",
        "    ('model', KNeighborsRegressor(n_neighbors=10))  # knn回帰モデル\n",
        "])\n",
        "\n",
        "# 15回分決定係数を求める\n",
        "scores = cross_val_score(pipeline, X, y, cv=cv, scoring='r2')\n",
        "\n",
        "# 決定係数の平均と標準偏差を求める\n",
        "print(f\"R2({k}FoldCV): {np.mean(scores)}\")\n",
        "print(f\"std: {np.std(scores)}\")"
      ],
      "metadata": {
        "colab": {
          "base_uri": "https://localhost:8080/"
        },
        "id": "VcQDAbRfvrkZ",
        "outputId": "941980d2-206a-4f0d-c675-3ef95c5a80bb"
      },
      "execution_count": null,
      "outputs": [
        {
          "output_type": "stream",
          "name": "stdout",
          "text": [
            "R2(5FoldCV): 0.8093369557827802\n",
            "std: 0.04518050738311932\n"
          ]
        }
      ]
    },
    {
      "cell_type": "markdown",
      "source": [
        "線形回帰のときは決定係数は以下のような結果となっていたので、  \n",
        "精度の向上が確認できます。\n",
        "\n",
        "![](https://imgur.com/YckFZSU.png)"
      ],
      "metadata": {
        "id": "IBRTaqVZ2D-K"
      }
    }
  ]
}