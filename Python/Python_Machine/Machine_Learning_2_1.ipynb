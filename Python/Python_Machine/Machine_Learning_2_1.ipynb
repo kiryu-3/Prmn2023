{
  "nbformat": 4,
  "nbformat_minor": 0,
  "metadata": {
    "colab": {
      "provenance": [],
      "toc_visible": true,
      "authorship_tag": "ABX9TyMDXQe8eE0pbJc6+E2wU8He",
      "include_colab_link": true
    },
    "kernelspec": {
      "name": "python3",
      "display_name": "Python 3"
    },
    "language_info": {
      "name": "python"
    }
  },
  "cells": [
    {
      "cell_type": "markdown",
      "metadata": {
        "id": "view-in-github",
        "colab_type": "text"
      },
      "source": [
        "<a href=\"https://colab.research.google.com/github/kiryu-3/Prmn2023/blob/main/Python/Python_Machine/Machine_Learning_2_1.ipynb\" target=\"_parent\"><img src=\"https://colab.research.google.com/assets/colab-badge.svg\" alt=\"Open In Colab\"/></a>"
      ]
    },
    {
      "cell_type": "markdown",
      "source": [
        "# ダミー変数化と係数の仮説検定ー知識編"
      ],
      "metadata": {
        "id": "ZXnrsxpIwF8K"
      }
    },
    {
      "cell_type": "code",
      "execution_count": 1,
      "metadata": {
        "id": "fvf87nqFmozL"
      },
      "outputs": [],
      "source": [
        "# 最初にインポートしてください\n",
        "import numpy as np\n",
        "import pandas as pd\n",
        "import matplotlib.pyplot as plt\n",
        "import seaborn as sns\n",
        "from sklearn.linear_model import Ridge, LinearRegression\n",
        "from sklearn.metrics import mean_squared_error\n",
        "from sklearn.metrics import r2_score\n",
        "from sklearn.model_selection import KFold, RepeatedKFold, cross_val_score\n",
        "from sklearn.model_selection import train_test_split\n",
        "from sklearn.datasets import fetch_openml\n",
        "from sklearn.preprocessing import StandardScaler, PolynomialFeatures\n",
        "from sklearn.neighbors import KNeighborsRegressor\n",
        "from sklearn.pipeline import Pipeline\n",
        "import statsmodels.api as sma"
      ]
    },
    {
      "cell_type": "markdown",
      "source": [
        "## 質的変数と量的変数"
      ],
      "metadata": {
        "id": "w0W98ymyVTfe"
      }
    },
    {
      "cell_type": "markdown",
      "source": [
        "数値で表せる変数のことを、**連続変数**や**量的変数**といったりします。\n",
        "\n",
        "対して、カテゴリーで表す変数のことを、**カテゴリー変数**や**質的変数**といったりします。"
      ],
      "metadata": {
        "id": "tOXlyULsVV9V"
      }
    },
    {
      "cell_type": "markdown",
      "source": [
        "**質的変数は数値ではないので、そのまま機械学習のモデルに特徴量として使うことができません。**"
      ],
      "metadata": {
        "id": "kS1Qa_2AVlGF"
      }
    },
    {
      "cell_type": "markdown",
      "source": [
        "機械学習をする際には質的変数があるデータを扱うことがほとんどです。\n",
        "\n",
        "ある工夫をすることで、うまく数値で扱えるようになります。"
      ],
      "metadata": {
        "id": "afu5cYoPV7F3"
      }
    },
    {
      "cell_type": "markdown",
      "source": [
        "## one-hotエンコーディング"
      ],
      "metadata": {
        "id": "PalGglq7WH9k"
      }
    },
    {
      "cell_type": "markdown",
      "source": [
        "カテゴリーのとりうる値の数だけを0と1で構成するベクトルを  \n",
        "**one-hot ベクトル(one-hot encoded vector)**といいます。\n",
        "\n",
        "このベクトルを使って、そのカテゴリーだけを1(hot)で表す処理を行います（**one-hot エンコード**）。\n"
      ],
      "metadata": {
        "id": "8UZOXH-OXUPq"
      }
    },
    {
      "cell_type": "markdown",
      "source": [
        "one-hot エンコードは、質的変数を説明変数として使う際に行う変換の中でも  \n",
        "最も一般的なやり方になります。"
      ],
      "metadata": {
        "id": "6gDWgGArXcHy"
      }
    },
    {
      "cell_type": "markdown",
      "source": [
        "以下の図のようなイメージです。\n",
        "\n",
        "![](https://imgur.com/gOMewKl.png)"
      ],
      "metadata": {
        "id": "9sz65vYnY9eC"
      }
    },
    {
      "cell_type": "markdown",
      "source": [
        "one-hot エンコードには少し罠があります。  \n",
        "\n",
        "上の図を見たとき、以下のような図の方がイメージしやすいように感じます。\n",
        "\n",
        "![](https://imgur.com/yiMEC8E.png)"
      ],
      "metadata": {
        "id": "caTpxIycZVq4"
      }
    },
    {
      "cell_type": "markdown",
      "source": [
        "このようにすると、特徴量間に完全な相関が生まれてしまいます（**ダミー変数トラップ**）。\n",
        "\n",
        "詳しいことは[かめさんの記事](https://datawokagaku.com/one_hot_encoding/#i-2)などを参照してもらえればと思いますが、  \n",
        "one-hot エンコーディングでダミー変数を作る際には、必ず**カテゴリー数-1**の数だけ作るようにします。"
      ],
      "metadata": {
        "id": "KOXuI5zdZq8v"
      }
    },
    {
      "cell_type": "markdown",
      "source": [
        "## Pythonでone-hotエンコーディング"
      ],
      "metadata": {
        "id": "sltHxIsLbavP"
      }
    },
    {
      "cell_type": "markdown",
      "source": [
        "では、実際にPythonでone-hotエンコーディングを行っていきましょう。\n",
        "\n",
        "Pythonはたった一行でone-hotエンコーディングを行ってくれます。"
      ],
      "metadata": {
        "id": "a3J6pPWybiMP"
      }
    },
    {
      "cell_type": "markdown",
      "source": [
        "### 使用するデータセット"
      ],
      "metadata": {
        "id": "xLZ4FezYbtWG"
      }
    },
    {
      "cell_type": "markdown",
      "source": [
        "今回は、seabornのサンプル用データセット\"tips\"を利用します。\n",
        "\n",
        "データセットは、pandas.DataFrameオブジェクトとして取得することができます。\n",
        "\n",
        "（参考サイト：[こちら](https://biotech-lab.org/articles/1408#i)）"
      ],
      "metadata": {
        "id": "0HRxrbCGk9Ss"
      }
    },
    {
      "cell_type": "code",
      "source": [
        "tips = sns.load_dataset('tips')\n",
        "tips.info()"
      ],
      "metadata": {
        "colab": {
          "base_uri": "https://localhost:8080/"
        },
        "id": "-l33pW7wj692",
        "outputId": "cadf53b9-fd08-4ffa-bebe-3fb2dfb123b5"
      },
      "execution_count": 2,
      "outputs": [
        {
          "output_type": "stream",
          "name": "stdout",
          "text": [
            "<class 'pandas.core.frame.DataFrame'>\n",
            "RangeIndex: 244 entries, 0 to 243\n",
            "Data columns (total 7 columns):\n",
            " #   Column      Non-Null Count  Dtype   \n",
            "---  ------      --------------  -----   \n",
            " 0   total_bill  244 non-null    float64 \n",
            " 1   tip         244 non-null    float64 \n",
            " 2   sex         244 non-null    category\n",
            " 3   smoker      244 non-null    category\n",
            " 4   day         244 non-null    category\n",
            " 5   time        244 non-null    category\n",
            " 6   size        244 non-null    int64   \n",
            "dtypes: category(4), float64(2), int64(1)\n",
            "memory usage: 7.4 KB\n"
          ]
        }
      ]
    },
    {
      "cell_type": "markdown",
      "source": [
        "\"tips\"のデータの説明は以下の通りです。\n",
        "\n",
        "- total_bill : 総支払額(食事代、税込み)　(USドル)\n",
        "- tip : チップ(USドル)\n",
        "- sex : 性別\n",
        "- smoker : 喫煙者か否か\n",
        "- day : 曜日(木・金・土・日のいずれか)\n",
        "- time : 食事の時間(昼食か夕食か)\n",
        "- size : 人数"
      ],
      "metadata": {
        "id": "7ZyDMuAblo6D"
      }
    },
    {
      "cell_type": "markdown",
      "source": [
        "また、今回のデータには欠損値はなさそうです。"
      ],
      "metadata": {
        "id": "k-9SWM_Mnsbw"
      }
    },
    {
      "cell_type": "markdown",
      "source": [
        "### Pythonによる実行"
      ],
      "metadata": {
        "id": "UpzZEcePb3mF"
      }
    },
    {
      "cell_type": "markdown",
      "source": [
        "7つのカラムの内、カテゴリ変数となっているのは4つです。\n",
        "\n",
        "一つずつ、ユニークな値とその数を確認してみましょう。"
      ],
      "metadata": {
        "id": "UJFuSIeFb5c9"
      }
    },
    {
      "cell_type": "code",
      "source": [
        "print(tips[\"sex\"].value_counts())  # 性別（男or女）\n",
        "print(\"------------------------\")\n",
        "print(tips[\"smoker\"].value_counts())  # 喫煙者かどうか（True or False）\n",
        "print(\"------------------------\")\n",
        "print(tips[\"day\"].value_counts())  # 曜日（木 or 金 or 土 pr 日）\n",
        "print(\"------------------------\")\n",
        "print(tips[\"time\"].value_counts())  # 食事の時間（昼食 or 夕食）"
      ],
      "metadata": {
        "colab": {
          "base_uri": "https://localhost:8080/"
        },
        "id": "GtPUrfQecAFd",
        "outputId": "27880108-ac06-4028-e523-cc99a592d313"
      },
      "execution_count": 3,
      "outputs": [
        {
          "output_type": "stream",
          "name": "stdout",
          "text": [
            "Male      157\n",
            "Female     87\n",
            "Name: sex, dtype: int64\n",
            "------------------------\n",
            "No     151\n",
            "Yes     93\n",
            "Name: smoker, dtype: int64\n",
            "------------------------\n",
            "Sat     87\n",
            "Sun     76\n",
            "Thur    62\n",
            "Fri     19\n",
            "Name: day, dtype: int64\n",
            "------------------------\n",
            "Dinner    176\n",
            "Lunch      68\n",
            "Name: time, dtype: int64\n"
          ]
        }
      ]
    },
    {
      "cell_type": "markdown",
      "source": [
        "これらのカラムは数値型のカラムではないため、  \n",
        "そのまま機械学習のモデルに特徴量として使うことができません。"
      ],
      "metadata": {
        "id": "UWIfyYNCdah1"
      }
    },
    {
      "cell_type": "markdown",
      "source": [
        "ここで、one-hotエンコーディングをしてみましょう。"
      ],
      "metadata": {
        "id": "YaDiK2IYhm9_"
      }
    },
    {
      "cell_type": "code",
      "source": [
        "tips = pd.get_dummies(tips, drop_first=True)\n",
        "tips.head()"
      ],
      "metadata": {
        "colab": {
          "base_uri": "https://localhost:8080/",
          "height": 226
        },
        "id": "YOpdMB5uhc0Q",
        "outputId": "75c45bd4-7353-4990-f9bd-bc1cc476587c"
      },
      "execution_count": 4,
      "outputs": [
        {
          "output_type": "execute_result",
          "data": {
            "text/plain": [
              "   total_bill   tip  size  sex_Female  smoker_No  day_Fri  day_Sat  day_Sun  \\\n",
              "0       16.99  1.01     2           1          1        0        0        1   \n",
              "1       10.34  1.66     3           0          1        0        0        1   \n",
              "2       21.01  3.50     3           0          1        0        0        1   \n",
              "3       23.68  3.31     2           0          1        0        0        1   \n",
              "4       24.59  3.61     4           1          1        0        0        1   \n",
              "\n",
              "   time_Dinner  \n",
              "0            1  \n",
              "1            1  \n",
              "2            1  \n",
              "3            1  \n",
              "4            1  "
            ],
            "text/html": [
              "\n",
              "  <div id=\"df-1f220ea6-dffb-4d0c-b5a0-170725f7c518\" class=\"colab-df-container\">\n",
              "    <div>\n",
              "<style scoped>\n",
              "    .dataframe tbody tr th:only-of-type {\n",
              "        vertical-align: middle;\n",
              "    }\n",
              "\n",
              "    .dataframe tbody tr th {\n",
              "        vertical-align: top;\n",
              "    }\n",
              "\n",
              "    .dataframe thead th {\n",
              "        text-align: right;\n",
              "    }\n",
              "</style>\n",
              "<table border=\"1\" class=\"dataframe\">\n",
              "  <thead>\n",
              "    <tr style=\"text-align: right;\">\n",
              "      <th></th>\n",
              "      <th>total_bill</th>\n",
              "      <th>tip</th>\n",
              "      <th>size</th>\n",
              "      <th>sex_Female</th>\n",
              "      <th>smoker_No</th>\n",
              "      <th>day_Fri</th>\n",
              "      <th>day_Sat</th>\n",
              "      <th>day_Sun</th>\n",
              "      <th>time_Dinner</th>\n",
              "    </tr>\n",
              "  </thead>\n",
              "  <tbody>\n",
              "    <tr>\n",
              "      <th>0</th>\n",
              "      <td>16.99</td>\n",
              "      <td>1.01</td>\n",
              "      <td>2</td>\n",
              "      <td>1</td>\n",
              "      <td>1</td>\n",
              "      <td>0</td>\n",
              "      <td>0</td>\n",
              "      <td>1</td>\n",
              "      <td>1</td>\n",
              "    </tr>\n",
              "    <tr>\n",
              "      <th>1</th>\n",
              "      <td>10.34</td>\n",
              "      <td>1.66</td>\n",
              "      <td>3</td>\n",
              "      <td>0</td>\n",
              "      <td>1</td>\n",
              "      <td>0</td>\n",
              "      <td>0</td>\n",
              "      <td>1</td>\n",
              "      <td>1</td>\n",
              "    </tr>\n",
              "    <tr>\n",
              "      <th>2</th>\n",
              "      <td>21.01</td>\n",
              "      <td>3.50</td>\n",
              "      <td>3</td>\n",
              "      <td>0</td>\n",
              "      <td>1</td>\n",
              "      <td>0</td>\n",
              "      <td>0</td>\n",
              "      <td>1</td>\n",
              "      <td>1</td>\n",
              "    </tr>\n",
              "    <tr>\n",
              "      <th>3</th>\n",
              "      <td>23.68</td>\n",
              "      <td>3.31</td>\n",
              "      <td>2</td>\n",
              "      <td>0</td>\n",
              "      <td>1</td>\n",
              "      <td>0</td>\n",
              "      <td>0</td>\n",
              "      <td>1</td>\n",
              "      <td>1</td>\n",
              "    </tr>\n",
              "    <tr>\n",
              "      <th>4</th>\n",
              "      <td>24.59</td>\n",
              "      <td>3.61</td>\n",
              "      <td>4</td>\n",
              "      <td>1</td>\n",
              "      <td>1</td>\n",
              "      <td>0</td>\n",
              "      <td>0</td>\n",
              "      <td>1</td>\n",
              "      <td>1</td>\n",
              "    </tr>\n",
              "  </tbody>\n",
              "</table>\n",
              "</div>\n",
              "    <div class=\"colab-df-buttons\">\n",
              "\n",
              "  <div class=\"colab-df-container\">\n",
              "    <button class=\"colab-df-convert\" onclick=\"convertToInteractive('df-1f220ea6-dffb-4d0c-b5a0-170725f7c518')\"\n",
              "            title=\"Convert this dataframe to an interactive table.\"\n",
              "            style=\"display:none;\">\n",
              "\n",
              "  <svg xmlns=\"http://www.w3.org/2000/svg\" height=\"24px\" viewBox=\"0 -960 960 960\">\n",
              "    <path d=\"M120-120v-720h720v720H120Zm60-500h600v-160H180v160Zm220 220h160v-160H400v160Zm0 220h160v-160H400v160ZM180-400h160v-160H180v160Zm440 0h160v-160H620v160ZM180-180h160v-160H180v160Zm440 0h160v-160H620v160Z\"/>\n",
              "  </svg>\n",
              "    </button>\n",
              "\n",
              "  <style>\n",
              "    .colab-df-container {\n",
              "      display:flex;\n",
              "      gap: 12px;\n",
              "    }\n",
              "\n",
              "    .colab-df-convert {\n",
              "      background-color: #E8F0FE;\n",
              "      border: none;\n",
              "      border-radius: 50%;\n",
              "      cursor: pointer;\n",
              "      display: none;\n",
              "      fill: #1967D2;\n",
              "      height: 32px;\n",
              "      padding: 0 0 0 0;\n",
              "      width: 32px;\n",
              "    }\n",
              "\n",
              "    .colab-df-convert:hover {\n",
              "      background-color: #E2EBFA;\n",
              "      box-shadow: 0px 1px 2px rgba(60, 64, 67, 0.3), 0px 1px 3px 1px rgba(60, 64, 67, 0.15);\n",
              "      fill: #174EA6;\n",
              "    }\n",
              "\n",
              "    .colab-df-buttons div {\n",
              "      margin-bottom: 4px;\n",
              "    }\n",
              "\n",
              "    [theme=dark] .colab-df-convert {\n",
              "      background-color: #3B4455;\n",
              "      fill: #D2E3FC;\n",
              "    }\n",
              "\n",
              "    [theme=dark] .colab-df-convert:hover {\n",
              "      background-color: #434B5C;\n",
              "      box-shadow: 0px 1px 3px 1px rgba(0, 0, 0, 0.15);\n",
              "      filter: drop-shadow(0px 1px 2px rgba(0, 0, 0, 0.3));\n",
              "      fill: #FFFFFF;\n",
              "    }\n",
              "  </style>\n",
              "\n",
              "    <script>\n",
              "      const buttonEl =\n",
              "        document.querySelector('#df-1f220ea6-dffb-4d0c-b5a0-170725f7c518 button.colab-df-convert');\n",
              "      buttonEl.style.display =\n",
              "        google.colab.kernel.accessAllowed ? 'block' : 'none';\n",
              "\n",
              "      async function convertToInteractive(key) {\n",
              "        const element = document.querySelector('#df-1f220ea6-dffb-4d0c-b5a0-170725f7c518');\n",
              "        const dataTable =\n",
              "          await google.colab.kernel.invokeFunction('convertToInteractive',\n",
              "                                                    [key], {});\n",
              "        if (!dataTable) return;\n",
              "\n",
              "        const docLinkHtml = 'Like what you see? Visit the ' +\n",
              "          '<a target=\"_blank\" href=https://colab.research.google.com/notebooks/data_table.ipynb>data table notebook</a>'\n",
              "          + ' to learn more about interactive tables.';\n",
              "        element.innerHTML = '';\n",
              "        dataTable['output_type'] = 'display_data';\n",
              "        await google.colab.output.renderOutput(dataTable, element);\n",
              "        const docLink = document.createElement('div');\n",
              "        docLink.innerHTML = docLinkHtml;\n",
              "        element.appendChild(docLink);\n",
              "      }\n",
              "    </script>\n",
              "  </div>\n",
              "\n",
              "\n",
              "<div id=\"df-525ecbb5-9f7c-44e0-b268-0e4e5fd14ea2\">\n",
              "  <button class=\"colab-df-quickchart\" onclick=\"quickchart('df-525ecbb5-9f7c-44e0-b268-0e4e5fd14ea2')\"\n",
              "            title=\"Suggest charts.\"\n",
              "            style=\"display:none;\">\n",
              "\n",
              "<svg xmlns=\"http://www.w3.org/2000/svg\" height=\"24px\"viewBox=\"0 0 24 24\"\n",
              "     width=\"24px\">\n",
              "    <g>\n",
              "        <path d=\"M19 3H5c-1.1 0-2 .9-2 2v14c0 1.1.9 2 2 2h14c1.1 0 2-.9 2-2V5c0-1.1-.9-2-2-2zM9 17H7v-7h2v7zm4 0h-2V7h2v10zm4 0h-2v-4h2v4z\"/>\n",
              "    </g>\n",
              "</svg>\n",
              "  </button>\n",
              "\n",
              "<style>\n",
              "  .colab-df-quickchart {\n",
              "      --bg-color: #E8F0FE;\n",
              "      --fill-color: #1967D2;\n",
              "      --hover-bg-color: #E2EBFA;\n",
              "      --hover-fill-color: #174EA6;\n",
              "      --disabled-fill-color: #AAA;\n",
              "      --disabled-bg-color: #DDD;\n",
              "  }\n",
              "\n",
              "  [theme=dark] .colab-df-quickchart {\n",
              "      --bg-color: #3B4455;\n",
              "      --fill-color: #D2E3FC;\n",
              "      --hover-bg-color: #434B5C;\n",
              "      --hover-fill-color: #FFFFFF;\n",
              "      --disabled-bg-color: #3B4455;\n",
              "      --disabled-fill-color: #666;\n",
              "  }\n",
              "\n",
              "  .colab-df-quickchart {\n",
              "    background-color: var(--bg-color);\n",
              "    border: none;\n",
              "    border-radius: 50%;\n",
              "    cursor: pointer;\n",
              "    display: none;\n",
              "    fill: var(--fill-color);\n",
              "    height: 32px;\n",
              "    padding: 0;\n",
              "    width: 32px;\n",
              "  }\n",
              "\n",
              "  .colab-df-quickchart:hover {\n",
              "    background-color: var(--hover-bg-color);\n",
              "    box-shadow: 0 1px 2px rgba(60, 64, 67, 0.3), 0 1px 3px 1px rgba(60, 64, 67, 0.15);\n",
              "    fill: var(--button-hover-fill-color);\n",
              "  }\n",
              "\n",
              "  .colab-df-quickchart-complete:disabled,\n",
              "  .colab-df-quickchart-complete:disabled:hover {\n",
              "    background-color: var(--disabled-bg-color);\n",
              "    fill: var(--disabled-fill-color);\n",
              "    box-shadow: none;\n",
              "  }\n",
              "\n",
              "  .colab-df-spinner {\n",
              "    border: 2px solid var(--fill-color);\n",
              "    border-color: transparent;\n",
              "    border-bottom-color: var(--fill-color);\n",
              "    animation:\n",
              "      spin 1s steps(1) infinite;\n",
              "  }\n",
              "\n",
              "  @keyframes spin {\n",
              "    0% {\n",
              "      border-color: transparent;\n",
              "      border-bottom-color: var(--fill-color);\n",
              "      border-left-color: var(--fill-color);\n",
              "    }\n",
              "    20% {\n",
              "      border-color: transparent;\n",
              "      border-left-color: var(--fill-color);\n",
              "      border-top-color: var(--fill-color);\n",
              "    }\n",
              "    30% {\n",
              "      border-color: transparent;\n",
              "      border-left-color: var(--fill-color);\n",
              "      border-top-color: var(--fill-color);\n",
              "      border-right-color: var(--fill-color);\n",
              "    }\n",
              "    40% {\n",
              "      border-color: transparent;\n",
              "      border-right-color: var(--fill-color);\n",
              "      border-top-color: var(--fill-color);\n",
              "    }\n",
              "    60% {\n",
              "      border-color: transparent;\n",
              "      border-right-color: var(--fill-color);\n",
              "    }\n",
              "    80% {\n",
              "      border-color: transparent;\n",
              "      border-right-color: var(--fill-color);\n",
              "      border-bottom-color: var(--fill-color);\n",
              "    }\n",
              "    90% {\n",
              "      border-color: transparent;\n",
              "      border-bottom-color: var(--fill-color);\n",
              "    }\n",
              "  }\n",
              "</style>\n",
              "\n",
              "  <script>\n",
              "    async function quickchart(key) {\n",
              "      const quickchartButtonEl =\n",
              "        document.querySelector('#' + key + ' button');\n",
              "      quickchartButtonEl.disabled = true;  // To prevent multiple clicks.\n",
              "      quickchartButtonEl.classList.add('colab-df-spinner');\n",
              "      try {\n",
              "        const charts = await google.colab.kernel.invokeFunction(\n",
              "            'suggestCharts', [key], {});\n",
              "      } catch (error) {\n",
              "        console.error('Error during call to suggestCharts:', error);\n",
              "      }\n",
              "      quickchartButtonEl.classList.remove('colab-df-spinner');\n",
              "      quickchartButtonEl.classList.add('colab-df-quickchart-complete');\n",
              "    }\n",
              "    (() => {\n",
              "      let quickchartButtonEl =\n",
              "        document.querySelector('#df-525ecbb5-9f7c-44e0-b268-0e4e5fd14ea2 button');\n",
              "      quickchartButtonEl.style.display =\n",
              "        google.colab.kernel.accessAllowed ? 'block' : 'none';\n",
              "    })();\n",
              "  </script>\n",
              "</div>\n",
              "    </div>\n",
              "  </div>\n"
            ]
          },
          "metadata": {},
          "execution_count": 4
        }
      ]
    },
    {
      "cell_type": "markdown",
      "source": [
        "それぞれの値がそれぞれの特徴量に変換され、0と1にエンコードされているのが分かります。\n",
        "\n",
        "引数で`drop_first=True`とすることで、ダミー変数トラップの問題を解消できます。  \n",
        "（最初のカテゴリの値の特徴量を落とす）"
      ],
      "metadata": {
        "id": "3wYFhwNxhpmK"
      }
    },
    {
      "cell_type": "markdown",
      "source": [
        "## 線形回帰の係数"
      ],
      "metadata": {
        "id": "DwnyEcGpjPR-"
      }
    },
    {
      "cell_type": "markdown",
      "source": [
        "このone-hotエンコーディングをしたtipsのデータを使って、  \n",
        "\"total_bill\"を予測する重回帰分析を行ってみましょう。"
      ],
      "metadata": {
        "id": "xpv_dsA0jQPY"
      }
    },
    {
      "cell_type": "code",
      "source": [
        "# 目的変数に\"total_bill\"、説明変数にそれ以外のカラムを指定\n",
        "x = tips.drop('total_bill', axis=1)\n",
        "y = tips['total_bill']\n",
        "\n",
        "# データを訓練データとテストデータに分ける\n",
        "x_train, x_test, y_train, y_test = train_test_split(x, y, test_size=0.3, random_state=0)\n",
        "\n",
        "# 説明変数のデータを標準化\n",
        "from sklearn.preprocessing import StandardScaler\n",
        "scaler = StandardScaler()\n",
        "scaler.fit(x_train)\n",
        "x_train_scaled = scaler.transform(x_train)\n",
        "\n",
        "# モデルの初期化と学習\n",
        "model = LinearRegression()\n",
        "model.fit(x_train_scaled, y_train)\n",
        "\n",
        "# coefficient  係数\n",
        "print(pd.Series(model.coef_, index=x.columns))"
      ],
      "metadata": {
        "colab": {
          "base_uri": "https://localhost:8080/"
        },
        "id": "Ud5lmA4Gi8v_",
        "outputId": "9e98be76-a27e-426a-adfc-2fdc1442e985"
      },
      "execution_count": 5,
      "outputs": [
        {
          "output_type": "stream",
          "name": "stdout",
          "text": [
            "tip            4.409546\n",
            "size           3.142303\n",
            "sex_Female     0.343710\n",
            "smoker_No     -1.414742\n",
            "day_Fri       -1.575064\n",
            "day_Sat       -3.140102\n",
            "day_Sun       -3.111760\n",
            "time_Dinner    3.782092\n",
            "dtype: float64\n"
          ]
        }
      ]
    },
    {
      "cell_type": "markdown",
      "source": [
        "今回は何も考えずデータをすべて突っ込んだので、  \n",
        "モデルの精度としては決して高くはありません。"
      ],
      "metadata": {
        "id": "SC-fdKmJjldl"
      }
    },
    {
      "cell_type": "code",
      "source": [
        "# 学習データの平均と標準偏差を使って標準化する\n",
        "x_test_scaled = scaler.transform(x_test)\n",
        "\n",
        "print('訓練データに対する決定係数：', model.score(x_train_scaled, y_train))\n",
        "print('テストデータに対する決定係数：', model.score(x_test_scaled, y_test))"
      ],
      "metadata": {
        "colab": {
          "base_uri": "https://localhost:8080/"
        },
        "id": "d2Kq5e0Tjdh-",
        "outputId": "aee2f660-7b52-495a-9c16-8e1cf95f5bcd"
      },
      "execution_count": 6,
      "outputs": [
        {
          "output_type": "stream",
          "name": "stdout",
          "text": [
            "訓練データに対する決定係数： 0.5602265384805525\n",
            "テストデータに対する決定係数： 0.5693293373056256\n"
          ]
        }
      ]
    },
    {
      "cell_type": "markdown",
      "source": [
        "係数の値の大きさは，その特徴量の目的変数に対する影響力の大きさといえます。\n",
        "\n",
        "\"sex_Female\"カラムのように、係数がとても小さい場合、  \n",
        "もしかしたらその特徴量は目的変数とは関係がないかもしれません。"
      ],
      "metadata": {
        "id": "V8Vyyix4j0bV"
      }
    },
    {
      "cell_type": "markdown",
      "source": [
        "線形回帰の結果の係数を見れば，その特徴量が目的変数に対して影響がないのかどうか分かります。  \n",
        "\n",
        "これを見るのが**係数の仮説検定**です。"
      ],
      "metadata": {
        "id": "D7NT_YWYkOme"
      }
    },
    {
      "cell_type": "markdown",
      "source": [
        "## 係数の仮説検定"
      ],
      "metadata": {
        "id": "4jU6mQZBkY33"
      }
    },
    {
      "cell_type": "markdown",
      "source": [
        "以下の帰無仮説と対立仮説の元、係数の仮説検定を行います。\n",
        "\n",
        "$$\n",
        "t=\\frac{\\hat{\\theta_j}-0}{SE(\\hat{\\theta_j})}\n",
        "$$\n",
        "\n",
        "- 以下のt値が自由度$m−n−1$($m$:データ数，$n$:特徴量数)のt分布に従う\n",
        "- $\\hat{\\theta_j}$：線形回帰から得られた$j$番目の特徴量の係数\n",
        "- $SE(\\hat{\\theta_j})$：$\\hat{\\theta_j}$の標準誤差(standard error)\n",
        "\n"
      ],
      "metadata": {
        "id": "q0Wo7gRqOIYp"
      }
    },
    {
      "cell_type": "markdown",
      "source": [
        "帰無仮説：$\\theta_j=0$  \n",
        "対立仮説：$\\theta_j\\neq0$"
      ],
      "metadata": {
        "id": "_9jRFC4uRGml"
      }
    },
    {
      "cell_type": "markdown",
      "source": [
        "この結果が有意差があるかを見るには，最終的にp値を計算する必要があります。\n",
        "\n",
        "有意水準は**5%**とするとすることが多いため、p値が0.05を上回った係数は  \n",
        "有意差ありとは言い切れないいう結果になります。"
      ],
      "metadata": {
        "id": "ZW1NhBaMlid-"
      }
    },
    {
      "cell_type": "markdown",
      "source": [
        "このようにして不要な説明変数の数を減らすことができれば、  \n",
        "モデルの解釈性を高めることができます。"
      ],
      "metadata": {
        "id": "y-weCDQLma6P"
      }
    },
    {
      "cell_type": "markdown",
      "source": [
        "## Pythonで係数の仮説検定"
      ],
      "metadata": {
        "id": "KoeR-NWkknZN"
      }
    },
    {
      "cell_type": "markdown",
      "source": [
        "では、実際にPythonで係数の仮説検定を行っていきましょう。\n",
        "\n",
        "`statsmodels.api` というモジュールにある `OLS` というクラスを使います。"
      ],
      "metadata": {
        "id": "tvlAHe2-krAE"
      }
    },
    {
      "cell_type": "code",
      "source": [
        "# 目的変数に\"total_bill\"、説明変数にそれ以外のカラムを指定\n",
        "X = tips.drop('total_bill', axis=1)\n",
        "y = tips['total_bill']\n",
        "\n",
        "# 標準化して仮説検定\n",
        "scaler = StandardScaler()\n",
        "X_scaled = scaler.fit_transform(X)\n",
        "X_scaled = sma.add_constant(X_scaled)\n",
        "est = sma.OLS(y, X_scaled)\n",
        "est_trained = est.fit()\n",
        "print(est_trained.summary())"
      ],
      "metadata": {
        "colab": {
          "base_uri": "https://localhost:8080/"
        },
        "id": "13X7K2xnlBAg",
        "outputId": "14309c65-1400-41a9-cb3a-bffa1c64918f"
      },
      "execution_count": null,
      "outputs": [
        {
          "output_type": "stream",
          "name": "stdout",
          "text": [
            "                            OLS Regression Results                            \n",
            "==============================================================================\n",
            "Dep. Variable:             total_bill   R-squared:                       0.582\n",
            "Model:                            OLS   Adj. R-squared:                  0.567\n",
            "Method:                 Least Squares   F-statistic:                     40.83\n",
            "Date:                Sun, 17 Sep 2023   Prob (F-statistic):           1.99e-40\n",
            "Time:                        09:59:06   Log-Likelihood:                -772.89\n",
            "No. Observations:                 244   AIC:                             1564.\n",
            "Df Residuals:                     235   BIC:                             1595.\n",
            "Df Model:                           8                                         \n",
            "Covariance Type:            nonrobust                                         \n",
            "==============================================================================\n",
            "                 coef    std err          t      P>|t|      [0.025      0.975]\n",
            "------------------------------------------------------------------------------\n",
            "const         19.7859      0.375     52.778      0.000      19.047      20.525\n",
            "x1             4.2648      0.433      9.841      0.000       3.411       5.119\n",
            "x2             3.2830      0.441      7.452      0.000       2.415       4.151\n",
            "x3            -0.5255      0.386     -1.360      0.175      -1.287       0.236\n",
            "x4            -1.2055      0.400     -3.016      0.003      -1.993      -0.418\n",
            "x5            -0.8655      0.600     -1.442      0.151      -2.048       0.317\n",
            "x6            -1.5208      1.285     -1.184      0.238      -4.052       1.011\n",
            "x7            -1.6926      1.244     -1.360      0.175      -4.144       0.759\n",
            "x8             1.9556      1.133      1.727      0.086      -0.276       4.187\n",
            "==============================================================================\n",
            "Omnibus:                       43.420   Durbin-Watson:                   2.167\n",
            "Prob(Omnibus):                  0.000   Jarque-Bera (JB):               88.552\n",
            "Skew:                           0.885   Prob(JB):                     5.90e-20\n",
            "Kurtosis:                       5.362   Cond. No.                         7.84\n",
            "==============================================================================\n",
            "\n",
            "Notes:\n",
            "[1] Standard Errors assume that the covariance matrix of the errors is correctly specified.\n"
          ]
        }
      ]
    },
    {
      "cell_type": "markdown",
      "source": [
        "- \"sex_Female\"(=\"x3\")\n",
        "- \"day_Fri\"(=\"x5\")\n",
        "- \"day_Sat\"(=\"x6\")  \n",
        "- \"day_Sun\"(=\"x7\")\n",
        "- \"time_Dinner\"(=\"x8\")  \n",
        "\n",
        "以上の5つのカラムは、p値が0.05を上回っているため、   \n",
        " ”total_bill”の予測には不要であるという結果が導かれました。"
      ],
      "metadata": {
        "id": "1zF3nGoHmwbD"
      }
    }
  ]
}