{
  "nbformat": 4,
  "nbformat_minor": 0,
  "metadata": {
    "colab": {
      "provenance": [],
      "toc_visible": true,
      "authorship_tag": "ABX9TyNB/N2Igyxscqu3iOz0IQBi",
      "include_colab_link": true
    },
    "kernelspec": {
      "name": "python3",
      "display_name": "Python 3"
    },
    "language_info": {
      "name": "python"
    }
  },
  "cells": [
    {
      "cell_type": "markdown",
      "metadata": {
        "id": "view-in-github",
        "colab_type": "text"
      },
      "source": [
        "<a href=\"https://colab.research.google.com/github/kiryu-3/Prmn2023/blob/main/Python/Python_Machine/Machine_Learning_0.ipynb\" target=\"_parent\"><img src=\"https://colab.research.google.com/assets/colab-badge.svg\" alt=\"Open In Colab\"/></a>"
      ]
    },
    {
      "cell_type": "markdown",
      "source": [
        "# 線形代数基礎"
      ],
      "metadata": {
        "id": "cKITEYpQZqVg"
      }
    },
    {
      "cell_type": "code",
      "execution_count": 2,
      "metadata": {
        "id": "c6YAxcKgLIe_"
      },
      "outputs": [],
      "source": [
        "# 最初に実行してください\n",
        "import numpy as np"
      ]
    },
    {
      "cell_type": "markdown",
      "source": [
        "kamakiriさんの[こちら](https://takun-physics.net/category/%e5%a4%a7%e5%ad%a6%e6%95%b0%e5%ad%a6/)の記事群を主に参考にしました。"
      ],
      "metadata": {
        "id": "TcFybgaFZssL"
      }
    },
    {
      "cell_type": "markdown",
      "source": [
        "## 行列"
      ],
      "metadata": {
        "id": "msSuKO-VMGVy"
      }
    },
    {
      "cell_type": "markdown",
      "source": [
        "**行列**：数を方形に並べたもの。横の並びが**行**で、縦の並びが**列**である。"
      ],
      "metadata": {
        "id": "8YXTRvYiL6H7"
      }
    },
    {
      "cell_type": "markdown",
      "source": [
        "例 $m$行$n$列の行列($m×n$行列)  \n",
        "\n",
        "$\n",
        "A = \\left(\n",
        "\\begin{matrix} \n",
        "a_{11} & ･･･ & a_{1n} \\\\ \n",
        "･ & ･･･ & ･ \\\\\n",
        "･ & ･･･ & ･ \\\\\n",
        "･ & ･･･ & ･ \\\\\n",
        "a_{m1} & ･･･ & a_{mn} \n",
        "\\end{matrix} \n",
        "\\right)\n",
        "$"
      ],
      "metadata": {
        "id": "jKmi3yV5LP0c"
      }
    },
    {
      "cell_type": "markdown",
      "source": [
        "- $m=n$となる行列を**正方行列**と呼ぶ。\n",
        "- 構成するそれぞれの数値を**要素**と呼ぶ。"
      ],
      "metadata": {
        "id": "ljrvO0rNPaP2"
      }
    },
    {
      "cell_type": "markdown",
      "source": [
        "参考記事はkamakiriさんの[こちら](https://takun-physics.net/11917/)です。"
      ],
      "metadata": {
        "id": "GDu7X_zJAaqB"
      }
    },
    {
      "cell_type": "markdown",
      "source": [
        "## 行列にスカラーを掛ける"
      ],
      "metadata": {
        "id": "9Sd3scBzQ5pQ"
      }
    },
    {
      "cell_type": "markdown",
      "source": [
        "行列にもスカラーを掛けることができる。"
      ],
      "metadata": {
        "id": "QVHlCrd8Q8lf"
      }
    },
    {
      "cell_type": "markdown",
      "source": [
        "例　行列$A$を$k$倍した行列\n",
        "\n",
        "$\n",
        "kA = \\left(\n",
        "\\begin{matrix} \n",
        "ka_{11} & ･･･ & ka_{1n} \\\\ \n",
        "･ & ･･･ & ･ \\\\\n",
        "･ & ･･･ & ･ \\\\\n",
        "･ & ･･･ & ･ \\\\\n",
        "ka_{m1} & ･･･ & ka_{mn} \n",
        "\\end{matrix} \n",
        "\\right)\n",
        "$"
      ],
      "metadata": {
        "id": "3anYrsQWRZdx"
      }
    },
    {
      "cell_type": "markdown",
      "source": [
        "## 行列の和"
      ],
      "metadata": {
        "id": "6CYaQikHQySf"
      }
    },
    {
      "cell_type": "markdown",
      "source": [
        "以下のように行列$A$と$B$を定義する。"
      ],
      "metadata": {
        "id": "TbApCjeOQ1T3"
      }
    },
    {
      "cell_type": "markdown",
      "source": [
        "例 $m×n$行列$A$と$B$\n",
        "\n",
        "$\n",
        "A = \\left(\n",
        "\\begin{matrix} \n",
        "a_{11} & ･･･ & a_{1n} \\\\ \n",
        "･ & ･･･ & ･ \\\\\n",
        "･ & ･･･ & ･ \\\\\n",
        "･ & ･･･ & ･ \\\\\n",
        "a_{m1} & ･･･ & a_{mn} \n",
        "\\end{matrix} \n",
        "\\right)\n",
        "$　　　$\n",
        "B = \\left(\n",
        "\\begin{matrix} \n",
        "b_{11} & ･･･ & b_{1n} \\\\ \n",
        "･ & ･･･ & ･ \\\\\n",
        "･ & ･･･ & ･ \\\\\n",
        "･ & ･･･ & ･ \\\\\n",
        "b_{m1} & ･･･ & b_{mn} \n",
        "\\end{matrix} \n",
        "\\right)\n",
        "$"
      ],
      "metadata": {
        "id": "vHF86fevR1qp"
      }
    },
    {
      "cell_type": "markdown",
      "source": [
        "$A$と$B$の和$A+B$と差$A-B$は、次のように計算できる。"
      ],
      "metadata": {
        "id": "9O4D7xtVSS5_"
      }
    },
    {
      "cell_type": "markdown",
      "source": [
        "例 和$A+B$と差$A-B$\n",
        "\n",
        "$\n",
        "A+B = \\left(\n",
        "\\begin{matrix} \n",
        "a_{11}+b_{11} & ･･･ & a_{1n}+b_{1n} \\\\ \n",
        "･ & ･･･ & ･ \\\\\n",
        "･ & ･･･ & ･ \\\\\n",
        "･ & ･･･ & ･ \\\\\n",
        "a_{m1}+b_{m1} & ･･･ & a_{mn}+b_{mn} \n",
        "\\end{matrix} \n",
        "\\right)\n",
        "$　　　$\n",
        "A-B = \\left(\n",
        "\\begin{matrix} \n",
        "a_{11}-b_{11} & ･･･ & a_{1n}-b_{1n} \\\\ \n",
        "･ & ･･･ & ･ \\\\\n",
        "･ & ･･･ & ･ \\\\\n",
        "･ & ･･･ & ･ \\\\\n",
        "a_{m1}-b_{m1} & ･･･ & a_{mn}-b_{mn} \n",
        "\\end{matrix} \n",
        "\\right)\n",
        "$"
      ],
      "metadata": {
        "id": "U1H026e6Selu"
      }
    },
    {
      "cell_type": "markdown",
      "source": [
        "- $A$と$B$の行数あるいは列数が異なる場合は、行列の和と差の計算はできない。"
      ],
      "metadata": {
        "id": "9pUXnGR8TLNd"
      }
    },
    {
      "cell_type": "markdown",
      "source": [
        "例　\n",
        "\n",
        "$\n",
        "A = \\left(\n",
        "\\begin{matrix} \n",
        "1 &  3 \\\\ \n",
        "5 & 7 \n",
        "\\end{matrix} \n",
        "\\right)\n",
        "$　　　$\n",
        "B = \\left(\n",
        "\\begin{matrix} \n",
        "2 & 4 \\\\ \n",
        "6 & 8 \n",
        "\\end{matrix} \n",
        "\\right)\n",
        "$  \n",
        "\n",
        "$\n",
        "A+B = \\left(\n",
        "\\begin{matrix} \n",
        "1+2 & 3+4 \\\\ \n",
        "5+6 & 7+8 \n",
        "\\end{matrix} \n",
        "\\right)\n",
        "= \\left(\n",
        "\\begin{matrix} \n",
        "3 & 7 \\\\ \n",
        "11 & 15 \n",
        "\\end{matrix} \n",
        "\\right)\n",
        "$"
      ],
      "metadata": {
        "id": "ZFOf5_vfpSJa"
      }
    },
    {
      "cell_type": "code",
      "source": [
        "arrayA = [\n",
        "    [1, 3],\n",
        "    [5, 7]\n",
        "]\n",
        "arrayB = [\n",
        "    [2, 4],\n",
        "    [6, 8]\n",
        "]\n",
        "ndarrayA = np.array(arrayA)\n",
        "ndarrayB = np.array(arrayB)\n",
        "print(ndarrayA + ndarrayB)"
      ],
      "metadata": {
        "colab": {
          "base_uri": "https://localhost:8080/"
        },
        "id": "iE5Uz1yNokSz",
        "outputId": "20871820-725d-49b8-b0cd-d09031f13fc4"
      },
      "execution_count": 3,
      "outputs": [
        {
          "output_type": "stream",
          "name": "stdout",
          "text": [
            "[[ 3  7]\n",
            " [11 15]]\n"
          ]
        }
      ]
    },
    {
      "cell_type": "markdown",
      "source": [
        "参考記事はkamakiriさんの[こちら](https://takun-physics.net/11917/#rtoc-5)です。"
      ],
      "metadata": {
        "id": "hvmhhV2NA5G4"
      }
    },
    {
      "cell_type": "markdown",
      "source": [
        "## 行列の積"
      ],
      "metadata": {
        "id": "mu-y0hWtqnKS"
      }
    },
    {
      "cell_type": "markdown",
      "source": [
        "以下のように行列$A$と$B$と$C$を定義する。"
      ],
      "metadata": {
        "id": "DDBrnlXFqnKk"
      }
    },
    {
      "cell_type": "markdown",
      "source": [
        "例 $m×n$行列Aと$p×q$行列Bと$m×q$行列$C$\n",
        "\n",
        "$\n",
        "A = \\left(\n",
        "\\begin{matrix} \n",
        "a_{11} & a_{12} & ･･･ & a_{1n} \\\\ \n",
        "a_{21} & a_{22} & ･･･ & a_{2n} \\\\\n",
        "･ & ･ & ･･･ & ･ \\\\\n",
        "･ & ･ & ･･･ & ･ \\\\\n",
        "a_{m1} & a_{m2} & ･･･ & a_{mn} \n",
        "\\end{matrix} \n",
        "\\right)\n",
        "$　　　$\n",
        "B = \\left(\n",
        "\\begin{matrix} \n",
        "b_{11} & b_{12} & ･･･ & b_{1q} \\\\ \n",
        "b_{21} & b_{22} & ･･･ & b_{2q} \\\\\n",
        "･ & ･ & ･･･ & ･ \\\\\n",
        "･ & ･ & ･･･ & ･ \\\\\n",
        "b_{p1} & a_{p2} & ･･･ & b_{pq} \n",
        "\\end{matrix} \n",
        "\\right)\n",
        "$　　　$\n",
        "C = \\left(\n",
        "\\begin{matrix} \n",
        "c_{11} & c_{12} & ･･･ & c_{1q} \\\\ \n",
        "c_{21} & c_{22} & ･･･ & c_{2q} \\\\\n",
        "･ & ･ & ･･･ & ･ \\\\\n",
        "･ & ･ & ･･･ & ･ \\\\\n",
        "c_{m1} & c_{m2} & ･･･ & c_{mq} \n",
        "\\end{matrix} \n",
        "\\right)\n",
        "$"
      ],
      "metadata": {
        "id": "9bynFBJjqnKl"
      }
    },
    {
      "cell_type": "markdown",
      "source": [
        "$A$と$B$の積$AB(=C)$は、$n=p$の時に定義できる。"
      ],
      "metadata": {
        "id": "RA0cAbXYqnKm"
      }
    },
    {
      "cell_type": "markdown",
      "source": [
        "例 $A$と$B$の積$AB$である$m×q$の行列$C$\n",
        "\n",
        "$\n",
        "C = AB = \\left(\n",
        "\\begin{matrix} \n",
        "a_{11}b_{11}+a_{12}b_{21}+･･･+a_{1n}b_{p1} & ･･･ & a_{11}b_{1q}+a_{12}b_{2q}+･･･+a_{1q}b_{pq} \\\\ \n",
        "a_{21}b_{11}+a_{22}b_{21}+･･･+a_{2n}b_{p1} & ･･･ & a_{21}b_{1q}+a_{22}b_{2q}+･･･+a_{2q}b_{pq} \\\\\n",
        "･ & ･･･ & ･ \\\\\n",
        "･ & ･･･ & ･ \\\\\n",
        "a_{m1}b_{11}+a_{22}b_{21}+･･･+a_{mn}b_{p1} & ･･･ & a_{m1}b_{1q}+a_{m2}b_{2q}+･･･+a_{mq}b_{pq} \\\\\n",
        "\\end{matrix} \n",
        "\\right)\n",
        "$"
      ],
      "metadata": {
        "id": "1Q13YZ0CqnKm"
      }
    },
    {
      "cell_type": "markdown",
      "source": [
        "$A$が$m×n$行列、$B$が$p×q$行列で$n=p$のとき、  \n",
        "$A$の行ベクトルを$\\vec{a_1}$,$\\vec{a_2}$,…,$\\vec{a_m}$、$B$の列ベクトルを$b_1$,$b_2$,…,$b_q$とすると、\n",
        "\n",
        "$\n",
        "AB = \\left(\n",
        "\\begin{matrix} \n",
        "\\vec{a_1}b_1 & \\vec{a_1}b_2 & ･･･ & \\vec{a_1}b_q \\\\ \n",
        "\\vec{a_2}b_1 & \\vec{a_2}b_2 & ･･･ & \\vec{a_2}b_q \\\\\n",
        "･ & ･ & ･･･ & \\vec{a_1}b_q \\\\\n",
        "\\vec{a_m}b_1 & \\vec{a_m}b_2 & ･･･ & \\vec{a_m}b_q\n",
        "\\end{matrix} \n",
        "\\right)\n",
        "$\n",
        "\n",
        "積$AB$はこのようになり、$m×q$ 行列になる。"
      ],
      "metadata": {
        "id": "j1Y9mee4B8Dw"
      }
    },
    {
      "cell_type": "markdown",
      "source": [
        "例　\n",
        "\n",
        "$\n",
        "A = \\left(\n",
        "\\begin{matrix} \n",
        "1 &  3 \\\\ \n",
        "5 & 7 \n",
        "\\end{matrix} \n",
        "\\right)\n",
        "$　　　$\n",
        "B = \\left(\n",
        "\\begin{matrix} \n",
        "2 & 4 \\\\ \n",
        "6 & 8 \n",
        "\\end{matrix} \n",
        "\\right)\n",
        "$  \n",
        "\n",
        "$\n",
        "AB = \\left(\n",
        "\\begin{matrix} \n",
        "1×2+3×6 & 1×4+3×8 \\\\ \n",
        "5×2+7×6 & 5×4+7×8\n",
        "\\end{matrix} \n",
        "\\right)\n",
        "= \\left(\n",
        "\\begin{matrix} \n",
        "20 & 28 \\\\ \n",
        "52 & 76 \n",
        "\\end{matrix} \n",
        "\\right)\n",
        " ≠ BA\n",
        "$"
      ],
      "metadata": {
        "id": "NrGMIg0mqnKn"
      }
    },
    {
      "cell_type": "code",
      "source": [
        "arrayA = [\n",
        "    [1, 3],\n",
        "    [5, 7]\n",
        "]\n",
        "arrayB = [\n",
        "    [2, 4],\n",
        "    [6, 8]\n",
        "]\n",
        "ndarrayA = np.array(arrayA)\n",
        "ndarrayB = np.array(arrayB)\n",
        "print(np.dot(ndarrayA,ndarrayB))"
      ],
      "metadata": {
        "colab": {
          "base_uri": "https://localhost:8080/"
        },
        "outputId": "83d31012-9cb9-4e34-9227-f3cb6ae57923",
        "id": "Rbo4KkngqnKo"
      },
      "execution_count": 4,
      "outputs": [
        {
          "output_type": "stream",
          "name": "stdout",
          "text": [
            "[[20 28]\n",
            " [52 76]]\n"
          ]
        }
      ]
    },
    {
      "cell_type": "markdown",
      "source": [
        "- 特別に$AB = BA$が成り立つ場合、$A$と$B$は**交換可能**であるといいます。"
      ],
      "metadata": {
        "id": "L6ROxoZSUWvn"
      }
    },
    {
      "cell_type": "markdown",
      "source": [
        "参考記事はkamakiriさんの[こちら](https://takun-physics.net/11917/#rtoc-3)です。"
      ],
      "metadata": {
        "id": "UmtCrTioA8tg"
      }
    },
    {
      "cell_type": "markdown",
      "source": [
        "## 特殊な行列"
      ],
      "metadata": {
        "id": "gP4Wpy_eGoI9"
      }
    },
    {
      "cell_type": "markdown",
      "source": [
        "### 零行列"
      ],
      "metadata": {
        "id": "Exj-kQXOGrGn"
      }
    },
    {
      "cell_type": "markdown",
      "source": [
        "成分がすべて0である行列を**零行列**といいます。$O$で表します。"
      ],
      "metadata": {
        "id": "FG7tA5USGw82"
      }
    },
    {
      "cell_type": "markdown",
      "source": [
        "$\n",
        "O = \\left(\n",
        "\\begin{matrix} \n",
        "0 & 0 \\\\ \n",
        "0 & 0 \\\\ \n",
        "0 & 0 \n",
        "\\end{matrix} \n",
        "\\right)\n",
        "$　, $\n",
        "O = \\left(\n",
        "\\begin{matrix} \n",
        "0 & 0 & 0 \\\\ \n",
        "0 & 0 & 0 \\\\\n",
        "0 & 0 & 0 \n",
        "\\end{matrix} \n",
        "\\right)\n",
        "$ "
      ],
      "metadata": {
        "id": "fQ08_eqaG7Gu"
      }
    },
    {
      "cell_type": "code",
      "source": [
        "shape = (3,2)\n",
        "np.zeros(shape)"
      ],
      "metadata": {
        "colab": {
          "base_uri": "https://localhost:8080/"
        },
        "id": "wTco3tx39_Gx",
        "outputId": "a645d667-d755-4161-8ba7-6c0bef598c6f"
      },
      "execution_count": 5,
      "outputs": [
        {
          "output_type": "execute_result",
          "data": {
            "text/plain": [
              "array([[0., 0.],\n",
              "       [0., 0.],\n",
              "       [0., 0.]])"
            ]
          },
          "metadata": {},
          "execution_count": 5
        }
      ]
    },
    {
      "cell_type": "code",
      "source": [
        "shape = (3,3)\n",
        "np.zeros(shape)"
      ],
      "metadata": {
        "colab": {
          "base_uri": "https://localhost:8080/"
        },
        "id": "tt5nd1qaHk6-",
        "outputId": "6be3da5c-de26-49f5-b2c9-2aebd777957a"
      },
      "execution_count": 6,
      "outputs": [
        {
          "output_type": "execute_result",
          "data": {
            "text/plain": [
              "array([[0., 0., 0.],\n",
              "       [0., 0., 0.],\n",
              "       [0., 0., 0.]])"
            ]
          },
          "metadata": {},
          "execution_count": 6
        }
      ]
    },
    {
      "cell_type": "markdown",
      "source": [
        "### 単位行列"
      ],
      "metadata": {
        "id": "9lwvoLSUH62o"
      }
    },
    {
      "cell_type": "markdown",
      "source": [
        "対角成分がすべて1で、それ以外の成分がすべて0である正方行列を**単位行列**といいます。  \n",
        "$n$次単位行列を$E_n$で表します。"
      ],
      "metadata": {
        "id": "8-OL5vDVH62p"
      }
    },
    {
      "cell_type": "markdown",
      "source": [
        "$\n",
        "E_n = \\left(\n",
        "\\begin{matrix} \n",
        "1 & 0 \\\\ \n",
        "0 & 1 \n",
        "\\end{matrix} \n",
        "\\right)\n",
        "$　,  $\n",
        "E_n = \\left(\n",
        "\\begin{matrix} \n",
        "1 & 0 & 0 \\\\ \n",
        "0 & 1 & 0 \\\\\n",
        "0 & 0 & 1 \n",
        "\\end{matrix} \n",
        "\\right)\n",
        "$ "
      ],
      "metadata": {
        "id": "piqPTWDpH62p"
      }
    },
    {
      "cell_type": "code",
      "source": [
        "np.eye(2, dtype=int)"
      ],
      "metadata": {
        "colab": {
          "base_uri": "https://localhost:8080/"
        },
        "outputId": "18a54370-830a-4f8e-e5ea-eede63ed27f7",
        "id": "Fy_3el_WH62q"
      },
      "execution_count": 7,
      "outputs": [
        {
          "output_type": "execute_result",
          "data": {
            "text/plain": [
              "array([[1, 0],\n",
              "       [0, 1]])"
            ]
          },
          "metadata": {},
          "execution_count": 7
        }
      ]
    },
    {
      "cell_type": "code",
      "source": [
        "np.eye(3, dtype=int)"
      ],
      "metadata": {
        "colab": {
          "base_uri": "https://localhost:8080/"
        },
        "outputId": "a902b0d9-e4a3-4c18-a26b-859757956842",
        "id": "m7xAhdw0H62r"
      },
      "execution_count": 8,
      "outputs": [
        {
          "output_type": "execute_result",
          "data": {
            "text/plain": [
              "array([[1, 0, 0],\n",
              "       [0, 1, 0],\n",
              "       [0, 0, 1]])"
            ]
          },
          "metadata": {},
          "execution_count": 8
        }
      ]
    },
    {
      "cell_type": "markdown",
      "source": [
        "### 対角行列"
      ],
      "metadata": {
        "id": "M06kTbkLLUae"
      }
    },
    {
      "cell_type": "markdown",
      "source": [
        "対角成分以外の成分がすべて0の正方行列を**対角行列**といいます。  \n"
      ],
      "metadata": {
        "id": "kkrfERpxLUag"
      }
    },
    {
      "cell_type": "markdown",
      "source": [
        "$\n",
        "A = \\left(\n",
        "\\begin{matrix} \n",
        "3 & 0 & 0 \\\\ \n",
        "0 & 1 & 0 \\\\ \n",
        "0 & 0 & -1\n",
        "\\end{matrix} \n",
        "\\right)　, \n",
        " O = \\left(\n",
        "\\begin{matrix} \n",
        "0 & 0 \\\\ \n",
        "0 & 0 \n",
        "\\end{matrix} \n",
        "\\right)\n",
        "$　,  $\n",
        "E_n = \\left(\n",
        "\\begin{matrix} \n",
        "1 & 0 & 0 \\\\ \n",
        "0 & 1 & 0 \\\\\n",
        "0 & 0 & 1 \n",
        "\\end{matrix} \n",
        "\\right)\n",
        "$ "
      ],
      "metadata": {
        "id": "CbE7elTALUah"
      }
    },
    {
      "cell_type": "code",
      "source": [
        "np.eye(2, dtype=int)"
      ],
      "metadata": {
        "colab": {
          "base_uri": "https://localhost:8080/"
        },
        "outputId": "07bb5dc9-3df4-4a2c-8e23-ef23e964e5c4",
        "id": "JILKqzawLUah"
      },
      "execution_count": 9,
      "outputs": [
        {
          "output_type": "execute_result",
          "data": {
            "text/plain": [
              "array([[1, 0],\n",
              "       [0, 1]])"
            ]
          },
          "metadata": {},
          "execution_count": 9
        }
      ]
    },
    {
      "cell_type": "code",
      "source": [
        "np.eye(3, dtype=int)"
      ],
      "metadata": {
        "colab": {
          "base_uri": "https://localhost:8080/"
        },
        "outputId": "b66ac958-5f3b-413c-a876-dd38c857a30d",
        "id": "Ma_vq_g-LUai"
      },
      "execution_count": 10,
      "outputs": [
        {
          "output_type": "execute_result",
          "data": {
            "text/plain": [
              "array([[1, 0, 0],\n",
              "       [0, 1, 0],\n",
              "       [0, 0, 1]])"
            ]
          },
          "metadata": {},
          "execution_count": 10
        }
      ]
    },
    {
      "cell_type": "markdown",
      "source": [
        "参考記事はkamakiriさんの[こちら](https://takun-physics.net/13700/#rtoc-2)です。"
      ],
      "metadata": {
        "id": "-1h-Lk1dBlVm"
      }
    },
    {
      "cell_type": "markdown",
      "source": [
        "### 転置行列"
      ],
      "metadata": {
        "id": "9TixXQLBMTLP"
      }
    },
    {
      "cell_type": "markdown",
      "source": [
        "$m×n$行列$A$の行と列を入れ替えた行列を**転置行列**といいます。"
      ],
      "metadata": {
        "id": "MqglQssjMTLd"
      }
    },
    {
      "cell_type": "markdown",
      "source": [
        "$\n",
        "A = \\left(\n",
        "\\begin{matrix} \n",
        "1 & 3 & 5 \\\\ \n",
        "6 & 4 & 2\n",
        "\\end{matrix} \n",
        "\\right)\n",
        "$　のとき、\n",
        "$\n",
        "A^{ \\mathrm{ T } } = \\left(\n",
        "\\begin{matrix} \n",
        "1 & 6 \\\\ \n",
        "3 & 4 \\\\ \n",
        "5 & 2\n",
        "\\end{matrix} \n",
        "\\right)\n",
        "$\n"
      ],
      "metadata": {
        "id": "oBzVQdyYMTLe"
      }
    },
    {
      "cell_type": "code",
      "source": [
        "array = [\n",
        "    [1, 3, 5],\n",
        "    [6, 4, 2]\n",
        "]\n",
        "ndarray = np.array(array)\n",
        "print(np.transpose(ndarray))"
      ],
      "metadata": {
        "colab": {
          "base_uri": "https://localhost:8080/"
        },
        "outputId": "76d47538-49e5-4b13-b2ca-a453abab9898",
        "id": "CCe4g0cdMTLe"
      },
      "execution_count": 11,
      "outputs": [
        {
          "output_type": "stream",
          "name": "stdout",
          "text": [
            "[[1 6]\n",
            " [3 4]\n",
            " [5 2]]\n"
          ]
        }
      ]
    },
    {
      "cell_type": "code",
      "source": [
        "array = [\n",
        "    [1, 3, 5],\n",
        "    [6, 4, 2]\n",
        "]\n",
        "ndarray = np.array(array)\n",
        "print(ndarray.T)"
      ],
      "metadata": {
        "colab": {
          "base_uri": "https://localhost:8080/"
        },
        "outputId": "86cc2e40-a4de-4cd9-f1be-6e9e5fdf13a3",
        "id": "arf8ktuQMTLf"
      },
      "execution_count": 12,
      "outputs": [
        {
          "output_type": "stream",
          "name": "stdout",
          "text": [
            "[[1 6]\n",
            " [3 4]\n",
            " [5 2]]\n"
          ]
        }
      ]
    },
    {
      "cell_type": "markdown",
      "source": [
        "参考記事はkamakiriさんの[こちら](https://takun-physics.net/12062/)です。"
      ],
      "metadata": {
        "id": "4Dqob4nJAkKJ"
      }
    },
    {
      "cell_type": "markdown",
      "source": [
        "### 対称行列"
      ],
      "metadata": {
        "id": "t-smiMF8OgjX"
      }
    },
    {
      "cell_type": "markdown",
      "source": [
        "$n$次正方行列$A$において、$A=A^{ \\mathrm{ T } }$の行列を**対称行列**といいます。"
      ],
      "metadata": {
        "id": "jkkzFXMFOmf5"
      }
    },
    {
      "cell_type": "markdown",
      "source": [
        "$\n",
        "A = \\left(\n",
        "\\begin{matrix} \n",
        "1 & 4 & 5 \\\\\n",
        "4 & 2 & 6 \\\\  \n",
        "5 & 6 & 3\n",
        "\\end{matrix} \n",
        "\\right)\n",
        "$\n",
        "\n"
      ],
      "metadata": {
        "id": "kahmXDRFOmgJ"
      }
    },
    {
      "cell_type": "code",
      "source": [
        "array = [\n",
        "    [1, 4, 5],\n",
        "    [4, 2, 6],\n",
        "    [5, 6, 3]\n",
        "]\n",
        "ndarray = np.array(array)\n",
        "print(np.transpose(ndarray))"
      ],
      "metadata": {
        "colab": {
          "base_uri": "https://localhost:8080/"
        },
        "outputId": "ab7e3b59-c184-465b-c44c-1e0005167b05",
        "id": "JRE7HV92OmgJ"
      },
      "execution_count": 13,
      "outputs": [
        {
          "output_type": "stream",
          "name": "stdout",
          "text": [
            "[[1 4 5]\n",
            " [4 2 6]\n",
            " [5 6 3]]\n"
          ]
        }
      ]
    },
    {
      "cell_type": "code",
      "source": [
        "array = [\n",
        "    [1, 4, 5],\n",
        "    [4, 2, 6],\n",
        "    [5, 6, 3]\n",
        "]\n",
        "ndarray = np.array(array)\n",
        "print(ndarray.T)"
      ],
      "metadata": {
        "colab": {
          "base_uri": "https://localhost:8080/"
        },
        "outputId": "65f526bf-4082-44c0-9b5e-500011c2ebef",
        "id": "E_7UFQmAOmgK"
      },
      "execution_count": 14,
      "outputs": [
        {
          "output_type": "stream",
          "name": "stdout",
          "text": [
            "[[1 4 5]\n",
            " [4 2 6]\n",
            " [5 6 3]]\n"
          ]
        }
      ]
    },
    {
      "cell_type": "markdown",
      "source": [
        "### 交代行列"
      ],
      "metadata": {
        "id": "aCO_Z8CtPRVp"
      }
    },
    {
      "cell_type": "markdown",
      "source": [
        "$n$次正方行列$A$において、$A^{ \\mathrm{ T } }=-A$の行列を**交代行列**といいます。\n",
        "\n",
        "このとき、対角成分はすべて0になります。"
      ],
      "metadata": {
        "id": "D5qs_XWrPRVr"
      }
    },
    {
      "cell_type": "markdown",
      "source": [
        "$\n",
        "A = \\left(\n",
        "\\begin{matrix} \n",
        "0 & 1 & 2 \\\\\n",
        "-1 & 0 & 3 \\\\  \n",
        "-2 & -3 & 0\n",
        "\\end{matrix} \n",
        "\\right)\n",
        "$\n",
        "\n"
      ],
      "metadata": {
        "id": "8mTMrnbvPRVr"
      }
    },
    {
      "cell_type": "code",
      "source": [
        "array = [\n",
        "    [0, 1, 2],\n",
        "    [-1, 0, 3],\n",
        "    [-2, -3, 0]\n",
        "]\n",
        "\n",
        "ndarray = np.array(array)\n",
        "n = ndarray.shape[0]  # 行列のサイズを取得\n",
        "\n",
        "alternating_matrix = np.zeros((n, n))  # 交代行列をゼロ行列で初期化\n",
        "\n",
        "for i in range(n):\n",
        "    for j in range(n):\n",
        "        if i != j:\n",
        "            alternating_matrix[i, j] = -ndarray[i, j]  # 対角線上以外の要素の符号を反転\n",
        "\n",
        "print(alternating_matrix)"
      ],
      "metadata": {
        "colab": {
          "base_uri": "https://localhost:8080/"
        },
        "outputId": "44c2a691-0f22-41e1-c165-b9cc9e1aaf0d",
        "id": "BQ_8iEEoPRVr"
      },
      "execution_count": 15,
      "outputs": [
        {
          "output_type": "stream",
          "name": "stdout",
          "text": [
            "[[ 0. -1. -2.]\n",
            " [ 1.  0. -3.]\n",
            " [ 2.  3.  0.]]\n"
          ]
        }
      ]
    },
    {
      "cell_type": "markdown",
      "source": [
        "### 零因子"
      ],
      "metadata": {
        "id": "1qAZLJ5QZO8L"
      }
    },
    {
      "cell_type": "markdown",
      "source": [
        "2つの行列$A$と$B$の積が零行列$O$であっても、$A=O$、$B=O$であるとは限りません。  特に、\n",
        "\n",
        "$$AB=O　,　 A≠O　,　B≠O$$\n",
        "\n",
        "である行列$A$、$B$を**零因子**と呼びます。"
      ],
      "metadata": {
        "id": "HX_rkaPiZRNd"
      }
    },
    {
      "cell_type": "markdown",
      "source": [
        "$\n",
        "A = \\left(\n",
        "\\begin{matrix} \n",
        "1 & -2 \\\\ \n",
        "-2 & 4\n",
        "\\end{matrix} \n",
        "\\right)\n",
        "$　,　$\n",
        "B = \\left(\n",
        "\\begin{matrix} \n",
        "2 & 2 \\\\ \n",
        "1 & 1 \n",
        "\\end{matrix} \n",
        "\\right)\n",
        "$  "
      ],
      "metadata": {
        "id": "hIFOnZyracUa"
      }
    },
    {
      "cell_type": "code",
      "source": [
        "arrayA = [\n",
        "    [1, -2],\n",
        "    [-2, 4]\n",
        "]\n",
        "arrayB = [\n",
        "    [2, 2],\n",
        "    [1, 1]\n",
        "]\n",
        "ndarrayA = np.array(arrayA)\n",
        "ndarrayB = np.array(arrayB)\n",
        "print(np.dot(ndarrayA,ndarrayB))"
      ],
      "metadata": {
        "colab": {
          "base_uri": "https://localhost:8080/"
        },
        "id": "AFY38jUCbeJe",
        "outputId": "6db4fb55-59cf-47ef-f3fb-ecc13b3cc980"
      },
      "execution_count": 16,
      "outputs": [
        {
          "output_type": "stream",
          "name": "stdout",
          "text": [
            "[[0 0]\n",
            " [0 0]]\n"
          ]
        }
      ]
    },
    {
      "cell_type": "markdown",
      "source": [
        "## 逆行列"
      ],
      "metadata": {
        "id": "Orlvk0rpc8O7"
      }
    },
    {
      "cell_type": "markdown",
      "source": [
        "ある正方行列$A$にたいして、$XA=E_n$、または$AX=E_n$となる行列$X$のことを  \n",
        "**逆行列**と呼び、$A^{-1}$と呼びます。\n",
        "\n",
        "$A$が逆行列を持つとき、$A$を**正則**、または**正則行列**と呼びます。"
      ],
      "metadata": {
        "id": "k1q9f31OiTuZ"
      }
    },
    {
      "cell_type": "markdown",
      "source": [
        "### 行列式"
      ],
      "metadata": {
        "id": "GL6BoPVQpg11"
      }
    },
    {
      "cell_type": "markdown",
      "source": [
        "ある正方行列$A$の**行列式**は、$det(A)$または$|A|$というように表記します。\n",
        "\n",
        "$|A|≠0$となるとき、$A$は正則となり、逆行列$A^{-1}$が存在します。"
      ],
      "metadata": {
        "id": "iWC3e84lp8-J"
      }
    },
    {
      "cell_type": "markdown",
      "source": [
        "参考記事はkamakiriさんの[こちら](https://takun-physics.net/12196/)です。"
      ],
      "metadata": {
        "id": "BxAidIGS_pey"
      }
    },
    {
      "cell_type": "markdown",
      "source": [
        "#### 2次の正方行列"
      ],
      "metadata": {
        "id": "lufN2SFM4uC9"
      }
    },
    {
      "cell_type": "markdown",
      "source": [
        "$$\n",
        "A=\\begin{pmatrix}  a &b\\\\  c & d \\end{pmatrix}\\\\\n",
        "$$"
      ],
      "metadata": {
        "id": "Z208uJ2u5HKO"
      }
    },
    {
      "cell_type": "markdown",
      "source": [
        "2次の正方行列の行列式は簡単に求めることができます。"
      ],
      "metadata": {
        "id": "gHOjXKfV40Jm"
      }
    },
    {
      "cell_type": "markdown",
      "source": [
        "$$\n",
        "\\begin{align*}  |A|&=\\begin{vmatrix}  a &b\\\\  c & d  \\end{vmatrix}=ad-bc \\end{align*}\n",
        "$$"
      ],
      "metadata": {
        "id": "-zLMpxzf5WGl"
      }
    },
    {
      "cell_type": "code",
      "source": [
        "array = [\n",
        "    [2, -3],\n",
        "    [-4, 5]\n",
        "]\n",
        "\n",
        "ndarray = np.array(array)\n",
        "det = np.linalg.det(ndarray)\n",
        "print(round(det, 2))"
      ],
      "metadata": {
        "colab": {
          "base_uri": "https://localhost:8080/"
        },
        "id": "BPXSIL2T53Mm",
        "outputId": "ca2ed5ad-00af-45f5-8ec1-0a3cea162740"
      },
      "execution_count": 22,
      "outputs": [
        {
          "output_type": "stream",
          "name": "stdout",
          "text": [
            "-2.0\n"
          ]
        }
      ]
    },
    {
      "cell_type": "code",
      "source": [
        "array = [\n",
        "    [103, 98],\n",
        "    [99, 102]\n",
        "]\n",
        "\n",
        "ndarray = np.array(array)\n",
        "det = np.linalg.det(ndarray)\n",
        "print(round(det, 2))"
      ],
      "metadata": {
        "colab": {
          "base_uri": "https://localhost:8080/"
        },
        "id": "7PsKiqgV9hNH",
        "outputId": "a4cb98ee-98db-43a4-da76-cbcb1ba23089"
      },
      "execution_count": 24,
      "outputs": [
        {
          "output_type": "stream",
          "name": "stdout",
          "text": [
            "804.0\n"
          ]
        }
      ]
    },
    {
      "cell_type": "markdown",
      "source": [
        "参考記事はkamakiriさんの[こちら](https://takun-physics.net/12154/#rtoc-2)です。"
      ],
      "metadata": {
        "id": "TxJ5ZMnx8ol2"
      }
    },
    {
      "cell_type": "markdown",
      "source": [
        "#### 3次の正方行列"
      ],
      "metadata": {
        "id": "xb_rGgmF7bmO"
      }
    },
    {
      "cell_type": "markdown",
      "source": [
        "$$\n",
        "A=\\begin{pmatrix}  a_{11} &a_{12} & a_{13} \\\\  a_{21} &a_{22} & a_{23} \\\\  a_{31} &a_{32} & a_{33} \\end{pmatrix}\\\\\n",
        "$$"
      ],
      "metadata": {
        "id": "Q6hhszTK7bmQ"
      }
    },
    {
      "cell_type": "markdown",
      "source": [
        "3次の正方行列の行列式は比較的簡単に求めることができます。  \n",
        "（**サラスの公式**）"
      ],
      "metadata": {
        "id": "mueKFrxb7bmR"
      }
    },
    {
      "cell_type": "markdown",
      "source": [
        "$$\n",
        "\\begin{align*}  |A|&=\\begin{vmatrix}  a_{11} &a_{12} & a_{13} \\\\  a_{21} &a_{22} & a_{23} \\\\  a_{31} &a_{32} & a_{33} \\\\  \\end{vmatrix}\\\\ &=a_{11} a_{22} a_{33}+a_{12} a_{23}a_{31}+a_{13}a_{32}a_{21} -a_{13}a_{22} a_{31}-a_{11}a_{32} a_{23} -a_{13}a_{21}a_{33} \\end{align*}\n",
        "$$"
      ],
      "metadata": {
        "id": "EAX0o7iW7bmR"
      }
    },
    {
      "cell_type": "markdown",
      "source": [
        "図でイメージしたい方は[こちら](https://takun-physics.net/wp-content/uploads/2021/02/f8f98c031cd273de2ea270bac90c3902-1024x576.jpg)を参考にしてください。"
      ],
      "metadata": {
        "id": "wE0kYNtL8dcJ"
      }
    },
    {
      "cell_type": "code",
      "source": [
        "array = [\n",
        "    [3, 4, 5],\n",
        "    [0, 9, 6],\n",
        "    [0, 8, 7]\n",
        "]\n",
        "\n",
        "ndarray = np.array(array)\n",
        "det = np.linalg.det(ndarray)\n",
        "print(round(det, 2))"
      ],
      "metadata": {
        "colab": {
          "base_uri": "https://localhost:8080/"
        },
        "id": "SsAWns-r9nJG",
        "outputId": "ea1e721b-b6a8-4216-9ed2-fb9d9de9402c"
      },
      "execution_count": 25,
      "outputs": [
        {
          "output_type": "stream",
          "name": "stdout",
          "text": [
            "45.0\n"
          ]
        }
      ]
    },
    {
      "cell_type": "code",
      "source": [
        "array = [\n",
        "    [1, -2, 3],\n",
        "    [-2, 3, 5],\n",
        "    [3, -4, 1]\n",
        "]\n",
        "\n",
        "ndarray = np.array(array)\n",
        "det = np.linalg.det(ndarray)\n",
        "print(round(det, 2))"
      ],
      "metadata": {
        "colab": {
          "base_uri": "https://localhost:8080/"
        },
        "outputId": "443a279f-5526-42df-f272-f7ffc9101abc",
        "id": "EcxR5KLP7bmS"
      },
      "execution_count": 23,
      "outputs": [
        {
          "output_type": "stream",
          "name": "stdout",
          "text": [
            "-14.0\n"
          ]
        }
      ]
    },
    {
      "cell_type": "markdown",
      "source": [
        "参考記事はkamakiriさんの[こちら](https://takun-physics.net/12154/#rtoc-3)です。"
      ],
      "metadata": {
        "id": "w5v6X3U88zXG"
      }
    },
    {
      "cell_type": "markdown",
      "source": [
        "#### 4次以上の正方行列"
      ],
      "metadata": {
        "id": "4tZTbkaX994t"
      }
    },
    {
      "cell_type": "markdown",
      "source": [
        "$$\n",
        "A=\\begin{pmatrix}  a_{11} &a_{12} & a_{13} \\\\  a_{21} &a_{22} & a_{23} \\\\  a_{31} &a_{32} & a_{33} \\\\  a_{41} &a_{42} & a_{43} \\end{pmatrix}\\\\\n",
        "$$"
      ],
      "metadata": {
        "id": "fVGhIg7L-MUg"
      }
    },
    {
      "cell_type": "markdown",
      "source": [
        "4次以上の正方行列の行列式はちょっと複雑になります。\n",
        "\n",
        "**余因子展開**をして求めることが多いようです。"
      ],
      "metadata": {
        "id": "DO9RdoL7-R_8"
      }
    },
    {
      "cell_type": "code",
      "source": [
        "array = [\n",
        "    [1, 1, 3, 1],\n",
        "    [1, 1, 1, 3],\n",
        "    [3, 1, 1, 1],\n",
        "    [1, 3, 1, 1]\n",
        "]\n",
        "\n",
        "ndarray = np.array(array)\n",
        "det = np.linalg.det(ndarray)\n",
        "print(round(det, 2))"
      ],
      "metadata": {
        "colab": {
          "base_uri": "https://localhost:8080/"
        },
        "id": "Xs3AZF9c_ErL",
        "outputId": "94ed0b29-cd7d-46b8-dad8-6a3b21d72a0d"
      },
      "execution_count": 26,
      "outputs": [
        {
          "output_type": "stream",
          "name": "stdout",
          "text": [
            "48.0\n"
          ]
        }
      ]
    },
    {
      "cell_type": "code",
      "source": [
        "array = [\n",
        "    [1, 1, 1, -1, 3],\n",
        "    [-1, 1, 1, 1, 2],\n",
        "    [1, -1, 1, 1, 2],\n",
        "    [-1, -1, 1, 1, 2],\n",
        "    [1, 1, -1, 1, 3]\n",
        "]\n",
        "\n",
        "ndarray = np.array(array)\n",
        "det = np.linalg.det(ndarray)\n",
        "print(round(det, 2))"
      ],
      "metadata": {
        "colab": {
          "base_uri": "https://localhost:8080/"
        },
        "id": "Oc9sOZ4Q_PrC",
        "outputId": "a07a9d2a-bfd3-4824-82b5-7ec939896c18"
      },
      "execution_count": 27,
      "outputs": [
        {
          "output_type": "stream",
          "name": "stdout",
          "text": [
            "-48.0\n"
          ]
        }
      ]
    },
    {
      "cell_type": "markdown",
      "source": [
        "参考記事はkamakiriさんの[こちら](https://takun-physics.net/12258/)です。"
      ],
      "metadata": {
        "id": "zfxYKo-t_iKi"
      }
    },
    {
      "cell_type": "markdown",
      "source": [
        "### 逆行列の求め方"
      ],
      "metadata": {
        "id": "4OpvDRubCOSb"
      }
    },
    {
      "cell_type": "markdown",
      "source": [
        "#### 2次の逆行列"
      ],
      "metadata": {
        "id": "DYxBC_7oD24K"
      }
    },
    {
      "cell_type": "markdown",
      "source": [
        "$ A=\\begin{pmatrix}  a &b\\\\  c & d \\end{pmatrix}\\\\ $の逆行列$X=A^{-1}$は、以下で与えられます。\n",
        "\n",
        "$$\n",
        "X = \\frac{1}{ad - bc}\\begin{pmatrix}  d & -b\\\\  -c & a \\end{pmatrix}\\\\\n",
        "$$"
      ],
      "metadata": {
        "id": "zypVKkc7FkXv"
      }
    },
    {
      "cell_type": "code",
      "source": [
        "array = [\n",
        "    [4, 5],\n",
        "    [-3, -2]\n",
        "]\n",
        "\n",
        "ndarray = np.array(array)\n",
        "det = np.linalg.det(ndarray)\n",
        "print(f\"行列式の値：{round(det, 2)}\")\n",
        "\n",
        "try:\n",
        "    inv = np.linalg.inv(ndarray)\n",
        "    print(f\"逆行列：\\n{inv}\")\n",
        "except np.linalg.LinAlgError:\n",
        "    print(\"計算できません\")"
      ],
      "metadata": {
        "colab": {
          "base_uri": "https://localhost:8080/"
        },
        "id": "CXFkTGz8ESLx",
        "outputId": "1c85db12-c1b1-469f-caa6-27b60ba8f4a9"
      },
      "execution_count": 40,
      "outputs": [
        {
          "output_type": "stream",
          "name": "stdout",
          "text": [
            "行列式の値：7.0\n",
            "逆行列：\n",
            "[[-0.28571429 -0.71428571]\n",
            " [ 0.42857143  0.57142857]]\n"
          ]
        }
      ]
    },
    {
      "cell_type": "markdown",
      "source": [
        "#### 3次以上の逆行列"
      ],
      "metadata": {
        "id": "zrOU7oRxG08N"
      }
    },
    {
      "cell_type": "markdown",
      "source": [
        "3次以上の逆行列は、2次のように簡単には求めることができません。\n",
        "\n",
        "Pythonでは簡単に求めることができます。"
      ],
      "metadata": {
        "id": "Rc1dVdb_G3ZF"
      }
    },
    {
      "cell_type": "code",
      "source": [
        "array = [\n",
        "    [1, -1, 3],\n",
        "    [2, -1, 5],\n",
        "    [2, 1, 4]\n",
        "]\n",
        "\n",
        "ndarray = np.array(array)\n",
        "det = np.linalg.det(ndarray)\n",
        "print(f\"行列式の値：{round(det, 2)}\")\n",
        "\n",
        "try:\n",
        "    inv = np.linalg.inv(ndarray)\n",
        "    print(f\"逆行列：\\n{inv}\")\n",
        "except np.linalg.LinAlgError:\n",
        "    print(\"計算できません\")"
      ],
      "metadata": {
        "colab": {
          "base_uri": "https://localhost:8080/"
        },
        "id": "vMGyGlSwHEUk",
        "outputId": "6edb8186-f68b-439d-8675-a81ee5141237"
      },
      "execution_count": 41,
      "outputs": [
        {
          "output_type": "stream",
          "name": "stdout",
          "text": [
            "行列式の値：1.0\n",
            "逆行列：\n",
            "[[-9.  7. -2.]\n",
            " [ 2. -2.  1.]\n",
            " [ 4. -3.  1.]]\n"
          ]
        }
      ]
    },
    {
      "cell_type": "code",
      "source": [
        "array = [\n",
        "    [1, 2, 3],\n",
        "    [4, 5, 6],\n",
        "    [7, 8, 9]\n",
        "]\n",
        "\n",
        "ndarray = np.array(array)\n",
        "det = np.linalg.det(ndarray)\n",
        "print(f\"行列式の値：{round(det, 2)}\")\n",
        "\n",
        "try:\n",
        "    inv = np.linalg.inv(ndarray)\n",
        "    print(f\"逆行列：\\n{inv}\")\n",
        "except np.linalg.LinAlgError:\n",
        "    print(\"計算できません\")"
      ],
      "metadata": {
        "colab": {
          "base_uri": "https://localhost:8080/"
        },
        "id": "n1CeXrz1Haos",
        "outputId": "62bae65b-3974-47af-bedc-7132fc6cba5c"
      },
      "execution_count": 42,
      "outputs": [
        {
          "output_type": "stream",
          "name": "stdout",
          "text": [
            "行列式の値：0.0\n",
            "計算できません\n"
          ]
        }
      ]
    },
    {
      "cell_type": "markdown",
      "source": [
        "参考記事はkamakiriさんの[こちら](https://takun-physics.net/12554/)です。"
      ],
      "metadata": {
        "id": "uTI3N85kHjur"
      }
    },
    {
      "cell_type": "markdown",
      "source": [
        "## 固有値と固有ベクトル"
      ],
      "metadata": {
        "id": "vDIONVyYIxWZ"
      }
    },
    {
      "cell_type": "markdown",
      "source": [
        "$n$次正方行列$A$に対し、\n",
        "\n",
        "$$\n",
        "Ax = λx　(x≠0)\n",
        "$$\n",
        "\n",
        "を満たす$λ$（スカラー）と$n$次ベクトル$x$が存在するとき、  \n",
        "$λ$を$A$の**固有値**、$x$を$A$の$λ$に関する**固有ベクトル**といいます。"
      ],
      "metadata": {
        "id": "4DQ5MW8YI1Ji"
      }
    },
    {
      "cell_type": "markdown",
      "source": [
        "参考記事はkamakiriさんの[こちら](https://takun-physics.net/13634/)です。  \n",
        "\n",
        "記事内では固有値・固有ベクトルを学ぶモチベーションについても触れられています。"
      ],
      "metadata": {
        "id": "L8_jqN_FJ79w"
      }
    },
    {
      "cell_type": "markdown",
      "source": [
        "### 固有値"
      ],
      "metadata": {
        "id": "445KIWZiKCCP"
      }
    },
    {
      "cell_type": "markdown",
      "source": [
        "正方行列$A$が与えられたとき、\n",
        "\n",
        "$$\n",
        "g_{A}(t) = |tE - A| = A = \\left(\n",
        "\\begin{matrix} \n",
        "t - a_{11} & - a_{12} & ･･･ & - a_{1n} \\\\ \n",
        "- a_{21} & t - a_{22} & ･･･ & - a_{2n} \\\\\n",
        "･ & ･ & ･･･ & ･ \\\\\n",
        "･ & ･ & ･･･ & ･ \\\\\n",
        "- a_{m1} & - a_{m2} & ･･･ & t - a_{mn} \n",
        "\\end{matrix} \n",
        "\\right)　(x≠0)\n",
        "$$\n",
        "\n",
        "を**固有多項式**、$g_{A}(t)=0$ を**固有方程式**と呼びます。"
      ],
      "metadata": {
        "id": "S6pQ-2lHKH8P"
      }
    },
    {
      "cell_type": "markdown",
      "source": [
        "＜固有値の求め方＞\n",
        "\n",
        "$n$次正方行列$A$の**固有値**は、固有方程式$g_A(t)=0$の解として求められます。"
      ],
      "metadata": {
        "id": "tyXzGwqMRLC5"
      }
    },
    {
      "cell_type": "code",
      "source": [
        "array = [\n",
        "    [5, -1],\n",
        "    [2, 2]\n",
        "]\n",
        "\n",
        "ndarray = np.array(array)\n",
        "eig = np.linalg.eig(ndarray)\n",
        "print(eig[0])"
      ],
      "metadata": {
        "colab": {
          "base_uri": "https://localhost:8080/"
        },
        "id": "KiLMZK3rL7Lr",
        "outputId": "1531fe3a-bb3c-4235-8680-955d5a67a2af"
      },
      "execution_count": 51,
      "outputs": [
        {
          "output_type": "stream",
          "name": "stdout",
          "text": [
            "[4. 3.]\n"
          ]
        }
      ]
    },
    {
      "cell_type": "markdown",
      "source": [
        "$A = \\begin{pmatrix}  5 & -1\\\\  2 & 2 \\end{pmatrix}$の場合、固有値は$λ = 4, λ = 3$と2個あります。"
      ],
      "metadata": {
        "id": "AWhNcYVvR4nh"
      }
    },
    {
      "cell_type": "code",
      "source": [
        "array = [\n",
        "    [3, -1],\n",
        "    [1, 5]\n",
        "]\n",
        "\n",
        "ndarray = np.array(array)\n",
        "eig = np.linalg.eig(ndarray)\n",
        "print(eig[0])"
      ],
      "metadata": {
        "colab": {
          "base_uri": "https://localhost:8080/"
        },
        "id": "sDlzdiJdSK8A",
        "outputId": "8b533111-29d1-4ca8-c7ee-92e36fee0859"
      },
      "execution_count": 52,
      "outputs": [
        {
          "output_type": "stream",
          "name": "stdout",
          "text": [
            "[4. 4.]\n"
          ]
        }
      ]
    },
    {
      "cell_type": "markdown",
      "source": [
        "$A = \\begin{pmatrix}  3 & -1\\\\  1 & 5 \\end{pmatrix}$の場合、固有値は$λ = 4$と1個しかありません。"
      ],
      "metadata": {
        "id": "2HipoEM0SQRj"
      }
    },
    {
      "cell_type": "markdown",
      "source": [
        "このように、固有多項式が$(t - λ)^mh(t)$と書けるとき（固有値に重解が含まれるとき）、  \n",
        "$λ$を**重複度**$m$の解と呼びます。"
      ],
      "metadata": {
        "id": "r7e0bQNESaxb"
      }
    },
    {
      "cell_type": "markdown",
      "source": [
        "$A = \\begin{pmatrix}  3 & -1\\\\  1 & 5 \\end{pmatrix}$の場合、固有多項式は$(t - 4)^2$となり、重複度は$2$となります。"
      ],
      "metadata": {
        "id": "Nh058GRpSz9_"
      }
    },
    {
      "cell_type": "markdown",
      "source": [
        "参考記事はkamakiriさんの[こちら](https://takun-physics.net/13634/#rtoc-3)です。"
      ],
      "metadata": {
        "id": "OlaLU77WbXHD"
      }
    },
    {
      "cell_type": "markdown",
      "source": [
        "### 固有ベクトル"
      ],
      "metadata": {
        "id": "Br2IuYL8UHqN"
      }
    },
    {
      "cell_type": "markdown",
      "source": [
        "＜固有ベクトルの求め方＞\n",
        "\n",
        "固有値$λ$に対応する**固有ベクトル**は、同次連立1次方程式\n",
        "\n",
        "$$\n",
        "(λE - A)=0\n",
        "$$\n",
        "\n",
        "の自明でない解として求められます。"
      ],
      "metadata": {
        "id": "o7UocZX9ULrz"
      }
    },
    {
      "cell_type": "code",
      "source": [
        "array = [\n",
        "    [5, -1],\n",
        "    [2, 2]\n",
        "]\n",
        "\n",
        "ndarray = np.array(array)\n",
        "eig = np.linalg.eig(ndarray)\n",
        "print(eig[1])"
      ],
      "metadata": {
        "colab": {
          "base_uri": "https://localhost:8080/"
        },
        "outputId": "4197803c-cb8e-4f90-da36-d443236656bc",
        "id": "MI70yNrnULsC"
      },
      "execution_count": 53,
      "outputs": [
        {
          "output_type": "stream",
          "name": "stdout",
          "text": [
            "[[0.70710678 0.4472136 ]\n",
            " [0.70710678 0.89442719]]\n"
          ]
        }
      ]
    },
    {
      "cell_type": "markdown",
      "source": [
        "$A = \\begin{pmatrix}  5 & -1\\\\  2 & 2 \\end{pmatrix}$の場合、  \n",
        "\n",
        "固有値が$λ = 4$ の場合は、$λE - A = \\begin{pmatrix}  4-5 & -(-1)\\\\  -(2) & 4-2 \\end{pmatrix} = \\begin{pmatrix}  -1 & -1\\\\  -2 & 2 \\end{pmatrix}$となるので、  \n",
        "固有ベクトルは$\\begin{pmatrix}  x_1\\\\  x_2 \\end{pmatrix} = \\begin{pmatrix}  1\\\\  1 \\end{pmatrix}C$ となります。\n",
        "\n",
        "固有値が$λ = 3$ の場合は、$λE - A = \\begin{pmatrix}  3-5 & -(-1)\\\\  -(2) & 3-2 \\end{pmatrix} = \\begin{pmatrix}  -2 & -1\\\\  -2 & 1 \\end{pmatrix}$となるので、  \n",
        "固有ベクトルは$\\begin{pmatrix}  x_1\\\\  x_2 \\end{pmatrix} = \\begin{pmatrix}  1\\\\  2 \\end{pmatrix}C$ となります。\n",
        "\n",
        "※$C$：任意の数"
      ],
      "metadata": {
        "id": "b787351yULsC"
      }
    },
    {
      "cell_type": "markdown",
      "source": [
        "**※ numpyで求めた固有方程式は、ベクトルの長さが1になるように正規化されています。**"
      ],
      "metadata": {
        "id": "8yCtKTRoQ2RX"
      }
    },
    {
      "cell_type": "code",
      "source": [
        "array = [\n",
        "    [3, -1],\n",
        "    [1, 5]\n",
        "]\n",
        "\n",
        "ndarray = np.array(array)\n",
        "eig = np.linalg.eig(ndarray)\n",
        "print(eig[1])"
      ],
      "metadata": {
        "colab": {
          "base_uri": "https://localhost:8080/"
        },
        "outputId": "03f74792-b112-4b87-b1b0-a4726b7b5c72",
        "id": "_qGy0cPxULsC"
      },
      "execution_count": 54,
      "outputs": [
        {
          "output_type": "stream",
          "name": "stdout",
          "text": [
            "[[-0.70710678 -0.70710678]\n",
            " [ 0.70710678  0.70710678]]\n"
          ]
        }
      ]
    },
    {
      "cell_type": "markdown",
      "source": [
        "$A = \\begin{pmatrix}  3 & -1\\\\  1 & 5 \\end{pmatrix}$の場合、  \n",
        "\n",
        "固有値が$λ = 4$ の場合は、$λE - A = \\begin{pmatrix}  4-3 & -(-1)\\\\  -(1) & 4-5 \\end{pmatrix} = \\begin{pmatrix}  1 & 1\\\\  -1 & -1 \\end{pmatrix}$となるので、  \n",
        "固有ベクトルは$\\begin{pmatrix}  x_1\\\\  x_2 \\end{pmatrix} = \\begin{pmatrix}  -1\\\\  1 \\end{pmatrix}C$ となります。\n",
        "\n",
        "\n",
        "※$C$：任意の数"
      ],
      "metadata": {
        "id": "I10ft_XiWijx"
      }
    },
    {
      "cell_type": "markdown",
      "source": [
        "参考記事はkamakiriさんの[こちら](https://takun-physics.net/13634/#rtoc-4)です。"
      ],
      "metadata": {
        "id": "OfM6vGFcbalY"
      }
    },
    {
      "cell_type": "markdown",
      "source": [
        "### 固有値・固有ベクトルを学ぶモチベーション"
      ],
      "metadata": {
        "id": "gkW2f40yOamg"
      }
    },
    {
      "cell_type": "markdown",
      "source": [
        "固有値と固有ベクトルを使うことで、**対角行列**を作ることができるようになります。\n",
        "\n"
      ],
      "metadata": {
        "id": "p_BhF0mjOwzH"
      }
    },
    {
      "cell_type": "markdown",
      "source": [
        "対角行列を作ることができるようになるメリットは以下の通りです。\n",
        "\n",
        "- 計算量を削減することができる\n",
        "- 行列のべき乗の計算が簡単になる"
      ],
      "metadata": {
        "id": "5IKtIMqfPLq3"
      }
    },
    {
      "cell_type": "markdown",
      "source": [
        "本資料では解説しないので、kamakiriさんの記事を参考にしてください。\n",
        "\n",
        "- 対角行列の作り方：https://takun-physics.net/13700/\n",
        "- 基底変換の方法：https://takun-physics.net/14064/\n"
      ],
      "metadata": {
        "id": "PeUnbfcQPR03"
      }
    }
  ]
}