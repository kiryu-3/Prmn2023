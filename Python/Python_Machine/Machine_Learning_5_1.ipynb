{
  "nbformat": 4,
  "nbformat_minor": 0,
  "metadata": {
    "colab": {
      "provenance": [],
      "toc_visible": true,
      "authorship_tag": "ABX9TyPPL0LQuTXjnHwyvJu14jsp",
      "include_colab_link": true
    },
    "kernelspec": {
      "name": "python3",
      "display_name": "Python 3"
    },
    "language_info": {
      "name": "python"
    }
  },
  "cells": [
    {
      "cell_type": "markdown",
      "metadata": {
        "id": "view-in-github",
        "colab_type": "text"
      },
      "source": [
        "<a href=\"https://colab.research.google.com/github/kiryu-3/Prmn2023/blob/main/Python/Python_Machine/Machine_Learning_5_1.ipynb\" target=\"_parent\"><img src=\"https://colab.research.google.com/assets/colab-badge.svg\" alt=\"Open In Colab\"/></a>"
      ]
    },
    {
      "cell_type": "markdown",
      "source": [
        "# 正則化項ー知識編"
      ],
      "metadata": {
        "id": "hkRjniMQdhg8"
      }
    },
    {
      "cell_type": "code",
      "source": [
        "# 最初にインポートしてください\n",
        "import numpy as np\n",
        "import pandas as pd\n",
        "import matplotlib.pyplot as plt\n",
        "import seaborn as sns\n",
        "from sklearn.linear_model import Ridge, Lasso, LinearRegression\n",
        "from sklearn.metrics import mean_squared_error\n",
        "from sklearn.metrics import r2_score\n",
        "from sklearn.model_selection import KFold, RepeatedKFold, cross_val_score\n",
        "from sklearn.model_selection import train_test_split\n",
        "from sklearn.datasets import fetch_openml\n",
        "from sklearn.preprocessing import PolynomialFeatures\n",
        "from sklearn.neighbors import KNeighborsRegressor"
      ],
      "metadata": {
        "id": "DnWM36VePzZR"
      },
      "execution_count": 5,
      "outputs": []
    },
    {
      "cell_type": "markdown",
      "source": [
        "最近では、多くのデータを取れるようになり、学習に利用できる特徴量の数も増加する傾向にあるようです。\n",
        "\n",
        "特徴量が増加することによるデメリットは以下のようなものがあります。  \n",
        "- 必要なコンピュータリソースが増える\n",
        "- 追加のデータを取るにコストがかかる\n",
        "- 解釈がしやすくなる\n",
        "\n",
        "以上のことから**「不要な特徴量は削除する」**というのが機械学習では一般的なアプローチのようです。"
      ],
      "metadata": {
        "id": "Llpnbn9ZDE82"
      }
    },
    {
      "cell_type": "markdown",
      "source": [
        "## 正規化項とは"
      ],
      "metadata": {
        "id": "FOPfKGCJFH1U"
      }
    },
    {
      "cell_type": "markdown",
      "source": [
        "**正則化項(regularization term)**は、アルゴリズムが自動で特徴量選択をしてくれるというやり方です。"
      ],
      "metadata": {
        "id": "awB8fp7eFKfa"
      }
    },
    {
      "cell_type": "markdown",
      "source": [
        "機械学習の基本は「損失」を最小にするようにモデルのパラメータを学習することです。\n",
        "\n",
        "ここでは、損失関数をMSE（参考：[こちら](https://datawokagaku.com/cost_function/#:~:text=%E3%81%A7%E3%81%99%EF%BC%8E%E3%81%93%E3%82%8C%E3%82%92-）として説明します。"
      ],
      "metadata": {
        "id": "YUidfHBZFbd6"
      }
    },
    {
      "cell_type": "markdown",
      "source": [
        "- データの数：$m$\n",
        "- 特徴量の数：$n$\n",
        "\n",
        "$$\n",
        "MSE=\\frac{1}{m}\\sum_{i=1}^{m}{(y_i-\\hat{y_i})^2}=\\frac{1}{m}\\sum_{i=1}^{m}\\left(\n",
        "y_i-\\theta_0-\\sum_{j=1}^{n}\\theta_jx_{ij}\\right)^2\n",
        "$$\n",
        "\n",
        "これが最小となるように$\\theta_0,\\theta_1,\\cdots, \\theta_n$を学習します。"
      ],
      "metadata": {
        "id": "4MQokRZIGadw"
      }
    },
    {
      "cell_type": "markdown",
      "source": [
        "これに正則化項というのを追加します。\n",
        "\n",
        "＜Lasso＞\n",
        "\n",
        "$$\n",
        "L(\\theta)=\\frac{1}{m}\\sum_{i=1}^{m}\\left(y_i-\\theta_0-\\sum_{j=1}^{n}\\theta_jx_{ij}\\right)^2+\\lambda\\sum_{j=1}^{n}|\\theta_j|=MSE+\\lambda\\sum_{j=1}^{n}|\\theta_j|\n",
        "$$\n",
        "\n",
        "＜Ridge＞\n",
        "\n",
        "$$\n",
        "L(\\theta)=\\frac{1}{m}\\sum_{i=1}^{m}\\left(y_i-\\theta_0-\\sum_{j=1}^{n}\\theta_jx_{ij}\\right)^2+\\lambda\\sum_{j=1}^{n}{\\theta_j}^2=MSE+\\lambda\\sum_{j=1}^{n}{\\theta_j}^2\n",
        "$$"
      ],
      "metadata": {
        "id": "mnVBntiAHgHI"
      }
    },
    {
      "cell_type": "markdown",
      "source": [
        "**Lasso**というアルゴリズムにおける正則化を**L1ノルム**、  \n",
        "**Ridge**というアルゴリズムにおける正則化を**L2ノルム**といいます。"
      ],
      "metadata": {
        "id": "nreJBmfgI9-V"
      }
    },
    {
      "cell_type": "markdown",
      "source": [
        "この正則化項は、損失関数を最小化する際に追加するペナルティのようなものです。\n",
        "\n",
        "この**正則化項つき損失関数**$L(\\theta)$を小さくしていくためには、  \n",
        "損失関数（MSEなど）だけでなく、$\\theta_j$の値を小さくしていく必要があります。"
      ],
      "metadata": {
        "id": "NbBODyQvJrSD"
      }
    },
    {
      "cell_type": "markdown",
      "source": [
        "$\\lambda$は正則化項におけるパラメータです。  \n",
        "$\\lambda$が大きければ正則化項の影響が大きくなり，モデルはなるべく係数の値を小さくしていきます。\n",
        "\n",
        "$\\lambda$を徐々に大きくしていくと，不要な特徴量の係数$\\theta_j$を0に持っていくことができます。  \n",
        "このようにして、不要な特徴量を落とすことができるようになります。\n",
        "\n"
      ],
      "metadata": {
        "id": "yiqo8ApdMPyn"
      }
    },
    {
      "cell_type": "markdown",
      "source": [
        "### Ridge"
      ],
      "metadata": {
        "id": "ziBvd9gZNW4k"
      }
    },
    {
      "cell_type": "markdown",
      "source": [
        "**L2ノルム**の正則化項を使用するアルゴリズムを**Ridge**といいます。\n",
        "\n",
        "$$\n",
        "L(\\theta)=\\frac{1}{m}\\sum_{i=1}^{m}\\left(y_i-\\theta_0-\\sum_{j=1}^{n}\\theta_jx_{ij}\\right)^2+\\lambda\\sum_{j=1}^{n}{\\theta_j}^2=MSE+\\lambda\\sum_{j=1}^{n}{\\theta_j}^2\n",
        "$$"
      ],
      "metadata": {
        "id": "VWqZIHZsNqu8"
      }
    },
    {
      "cell_type": "markdown",
      "source": [
        "$\\lambda$を大きくするにつれ各特徴量の係数の絶対値は小さくなります。  \n",
        "一時的に大きくなることもあります。\n",
        "\n",
        "$\\lambda$を大きくしても各特徴量の係数の絶対値が0に近づくだけで、  \n",
        " 0にはならないため全ての特徴量が必要になります。"
      ],
      "metadata": {
        "id": "FWV5gzxlN8Cb"
      }
    },
    {
      "cell_type": "markdown",
      "source": [
        "また、特徴量同士のスケールが影響するので、  \n",
        "事前に特徴量スケーリング（標準化や正規化）が必要です。"
      ],
      "metadata": {
        "id": "UlZsaKYXPNMF"
      }
    },
    {
      "cell_type": "markdown",
      "source": [
        "#### PythonでRidge回帰"
      ],
      "metadata": {
        "id": "sltHxIsLbavP"
      }
    },
    {
      "cell_type": "markdown",
      "source": [
        "では、実際にPythonでRidge回帰を行っていきましょう。\n",
        "\n",
        "モデルを学習する際は$\\lambda$を指定する必要がありますが、  \n",
        "何も指定していない場合はデフォルト値である1となります。"
      ],
      "metadata": {
        "id": "a3J6pPWybiMP"
      }
    },
    {
      "cell_type": "markdown",
      "source": [
        "#### 使用するデータセット"
      ],
      "metadata": {
        "id": "xLZ4FezYbtWG"
      }
    },
    {
      "cell_type": "markdown",
      "source": [
        "今回は、seabornのサンプル用データセット\"tips\"を利用します。\n",
        "\n",
        "データセットは、pandas.DataFrameオブジェクトとして取得することができます。\n",
        "\n",
        "（参考サイト：[こちら](https://biotech-lab.org/articles/1408#i)）"
      ],
      "metadata": {
        "id": "0HRxrbCGk9Ss"
      }
    },
    {
      "cell_type": "code",
      "source": [
        "tips = sns.load_dataset('tips')\n",
        "tips.info()"
      ],
      "metadata": {
        "colab": {
          "base_uri": "https://localhost:8080/"
        },
        "id": "-l33pW7wj692",
        "outputId": "9dbdb2d8-cd60-4bea-a9f0-7fdcdc2e5bdb"
      },
      "execution_count": 2,
      "outputs": [
        {
          "output_type": "stream",
          "name": "stdout",
          "text": [
            "<class 'pandas.core.frame.DataFrame'>\n",
            "RangeIndex: 244 entries, 0 to 243\n",
            "Data columns (total 7 columns):\n",
            " #   Column      Non-Null Count  Dtype   \n",
            "---  ------      --------------  -----   \n",
            " 0   total_bill  244 non-null    float64 \n",
            " 1   tip         244 non-null    float64 \n",
            " 2   sex         244 non-null    category\n",
            " 3   smoker      244 non-null    category\n",
            " 4   day         244 non-null    category\n",
            " 5   time        244 non-null    category\n",
            " 6   size        244 non-null    int64   \n",
            "dtypes: category(4), float64(2), int64(1)\n",
            "memory usage: 7.4 KB\n"
          ]
        }
      ]
    },
    {
      "cell_type": "markdown",
      "source": [
        "\"tips\"のデータの説明は以下の通りです。\n",
        "\n",
        "- total_bill : 総支払額(食事代、税込み)　(USドル)\n",
        "- tip : チップ(USドル)\n",
        "- sex : 性別\n",
        "- smoker : 喫煙者か否か\n",
        "- day : 曜日(木・金・土・日のいずれか)\n",
        "- time : 食事の時間(昼食か夕食か)\n",
        "- size : 人数"
      ],
      "metadata": {
        "id": "7ZyDMuAblo6D"
      }
    },
    {
      "cell_type": "markdown",
      "source": [
        "また、今回のデータには欠損値はなさそうです。"
      ],
      "metadata": {
        "id": "k-9SWM_Mnsbw"
      }
    },
    {
      "cell_type": "markdown",
      "source": [
        "#### Pythonによる実行"
      ],
      "metadata": {
        "id": "Xg4XATr6RLxI"
      }
    },
    {
      "cell_type": "markdown",
      "source": [
        "今回は使用するカラムを増やしたいので、one-hotエンコーディングを行います。"
      ],
      "metadata": {
        "id": "GhbCTmpjRdbH"
      }
    },
    {
      "cell_type": "code",
      "source": [
        "tips = pd.get_dummies(tips, drop_first=True)\n",
        "tips.head()"
      ],
      "metadata": {
        "colab": {
          "base_uri": "https://localhost:8080/",
          "height": 226
        },
        "id": "dQdViYUaRhbt",
        "outputId": "fce2c21b-0635-43f7-a3d2-064c7d0a50fb"
      },
      "execution_count": 3,
      "outputs": [
        {
          "output_type": "execute_result",
          "data": {
            "text/plain": [
              "   total_bill   tip  size  sex_Female  smoker_No  day_Fri  day_Sat  day_Sun  \\\n",
              "0       16.99  1.01     2           1          1        0        0        1   \n",
              "1       10.34  1.66     3           0          1        0        0        1   \n",
              "2       21.01  3.50     3           0          1        0        0        1   \n",
              "3       23.68  3.31     2           0          1        0        0        1   \n",
              "4       24.59  3.61     4           1          1        0        0        1   \n",
              "\n",
              "   time_Dinner  \n",
              "0            1  \n",
              "1            1  \n",
              "2            1  \n",
              "3            1  \n",
              "4            1  "
            ],
            "text/html": [
              "\n",
              "  <div id=\"df-f5733f16-211d-49bb-8873-3a673d22b3dc\" class=\"colab-df-container\">\n",
              "    <div>\n",
              "<style scoped>\n",
              "    .dataframe tbody tr th:only-of-type {\n",
              "        vertical-align: middle;\n",
              "    }\n",
              "\n",
              "    .dataframe tbody tr th {\n",
              "        vertical-align: top;\n",
              "    }\n",
              "\n",
              "    .dataframe thead th {\n",
              "        text-align: right;\n",
              "    }\n",
              "</style>\n",
              "<table border=\"1\" class=\"dataframe\">\n",
              "  <thead>\n",
              "    <tr style=\"text-align: right;\">\n",
              "      <th></th>\n",
              "      <th>total_bill</th>\n",
              "      <th>tip</th>\n",
              "      <th>size</th>\n",
              "      <th>sex_Female</th>\n",
              "      <th>smoker_No</th>\n",
              "      <th>day_Fri</th>\n",
              "      <th>day_Sat</th>\n",
              "      <th>day_Sun</th>\n",
              "      <th>time_Dinner</th>\n",
              "    </tr>\n",
              "  </thead>\n",
              "  <tbody>\n",
              "    <tr>\n",
              "      <th>0</th>\n",
              "      <td>16.99</td>\n",
              "      <td>1.01</td>\n",
              "      <td>2</td>\n",
              "      <td>1</td>\n",
              "      <td>1</td>\n",
              "      <td>0</td>\n",
              "      <td>0</td>\n",
              "      <td>1</td>\n",
              "      <td>1</td>\n",
              "    </tr>\n",
              "    <tr>\n",
              "      <th>1</th>\n",
              "      <td>10.34</td>\n",
              "      <td>1.66</td>\n",
              "      <td>3</td>\n",
              "      <td>0</td>\n",
              "      <td>1</td>\n",
              "      <td>0</td>\n",
              "      <td>0</td>\n",
              "      <td>1</td>\n",
              "      <td>1</td>\n",
              "    </tr>\n",
              "    <tr>\n",
              "      <th>2</th>\n",
              "      <td>21.01</td>\n",
              "      <td>3.50</td>\n",
              "      <td>3</td>\n",
              "      <td>0</td>\n",
              "      <td>1</td>\n",
              "      <td>0</td>\n",
              "      <td>0</td>\n",
              "      <td>1</td>\n",
              "      <td>1</td>\n",
              "    </tr>\n",
              "    <tr>\n",
              "      <th>3</th>\n",
              "      <td>23.68</td>\n",
              "      <td>3.31</td>\n",
              "      <td>2</td>\n",
              "      <td>0</td>\n",
              "      <td>1</td>\n",
              "      <td>0</td>\n",
              "      <td>0</td>\n",
              "      <td>1</td>\n",
              "      <td>1</td>\n",
              "    </tr>\n",
              "    <tr>\n",
              "      <th>4</th>\n",
              "      <td>24.59</td>\n",
              "      <td>3.61</td>\n",
              "      <td>4</td>\n",
              "      <td>1</td>\n",
              "      <td>1</td>\n",
              "      <td>0</td>\n",
              "      <td>0</td>\n",
              "      <td>1</td>\n",
              "      <td>1</td>\n",
              "    </tr>\n",
              "  </tbody>\n",
              "</table>\n",
              "</div>\n",
              "    <div class=\"colab-df-buttons\">\n",
              "\n",
              "  <div class=\"colab-df-container\">\n",
              "    <button class=\"colab-df-convert\" onclick=\"convertToInteractive('df-f5733f16-211d-49bb-8873-3a673d22b3dc')\"\n",
              "            title=\"Convert this dataframe to an interactive table.\"\n",
              "            style=\"display:none;\">\n",
              "\n",
              "  <svg xmlns=\"http://www.w3.org/2000/svg\" height=\"24px\" viewBox=\"0 -960 960 960\">\n",
              "    <path d=\"M120-120v-720h720v720H120Zm60-500h600v-160H180v160Zm220 220h160v-160H400v160Zm0 220h160v-160H400v160ZM180-400h160v-160H180v160Zm440 0h160v-160H620v160ZM180-180h160v-160H180v160Zm440 0h160v-160H620v160Z\"/>\n",
              "  </svg>\n",
              "    </button>\n",
              "\n",
              "  <style>\n",
              "    .colab-df-container {\n",
              "      display:flex;\n",
              "      gap: 12px;\n",
              "    }\n",
              "\n",
              "    .colab-df-convert {\n",
              "      background-color: #E8F0FE;\n",
              "      border: none;\n",
              "      border-radius: 50%;\n",
              "      cursor: pointer;\n",
              "      display: none;\n",
              "      fill: #1967D2;\n",
              "      height: 32px;\n",
              "      padding: 0 0 0 0;\n",
              "      width: 32px;\n",
              "    }\n",
              "\n",
              "    .colab-df-convert:hover {\n",
              "      background-color: #E2EBFA;\n",
              "      box-shadow: 0px 1px 2px rgba(60, 64, 67, 0.3), 0px 1px 3px 1px rgba(60, 64, 67, 0.15);\n",
              "      fill: #174EA6;\n",
              "    }\n",
              "\n",
              "    .colab-df-buttons div {\n",
              "      margin-bottom: 4px;\n",
              "    }\n",
              "\n",
              "    [theme=dark] .colab-df-convert {\n",
              "      background-color: #3B4455;\n",
              "      fill: #D2E3FC;\n",
              "    }\n",
              "\n",
              "    [theme=dark] .colab-df-convert:hover {\n",
              "      background-color: #434B5C;\n",
              "      box-shadow: 0px 1px 3px 1px rgba(0, 0, 0, 0.15);\n",
              "      filter: drop-shadow(0px 1px 2px rgba(0, 0, 0, 0.3));\n",
              "      fill: #FFFFFF;\n",
              "    }\n",
              "  </style>\n",
              "\n",
              "    <script>\n",
              "      const buttonEl =\n",
              "        document.querySelector('#df-f5733f16-211d-49bb-8873-3a673d22b3dc button.colab-df-convert');\n",
              "      buttonEl.style.display =\n",
              "        google.colab.kernel.accessAllowed ? 'block' : 'none';\n",
              "\n",
              "      async function convertToInteractive(key) {\n",
              "        const element = document.querySelector('#df-f5733f16-211d-49bb-8873-3a673d22b3dc');\n",
              "        const dataTable =\n",
              "          await google.colab.kernel.invokeFunction('convertToInteractive',\n",
              "                                                    [key], {});\n",
              "        if (!dataTable) return;\n",
              "\n",
              "        const docLinkHtml = 'Like what you see? Visit the ' +\n",
              "          '<a target=\"_blank\" href=https://colab.research.google.com/notebooks/data_table.ipynb>data table notebook</a>'\n",
              "          + ' to learn more about interactive tables.';\n",
              "        element.innerHTML = '';\n",
              "        dataTable['output_type'] = 'display_data';\n",
              "        await google.colab.output.renderOutput(dataTable, element);\n",
              "        const docLink = document.createElement('div');\n",
              "        docLink.innerHTML = docLinkHtml;\n",
              "        element.appendChild(docLink);\n",
              "      }\n",
              "    </script>\n",
              "  </div>\n",
              "\n",
              "\n",
              "<div id=\"df-a8ad7b4b-0c93-4ba6-9bdd-236d7e9f59e9\">\n",
              "  <button class=\"colab-df-quickchart\" onclick=\"quickchart('df-a8ad7b4b-0c93-4ba6-9bdd-236d7e9f59e9')\"\n",
              "            title=\"Suggest charts.\"\n",
              "            style=\"display:none;\">\n",
              "\n",
              "<svg xmlns=\"http://www.w3.org/2000/svg\" height=\"24px\"viewBox=\"0 0 24 24\"\n",
              "     width=\"24px\">\n",
              "    <g>\n",
              "        <path d=\"M19 3H5c-1.1 0-2 .9-2 2v14c0 1.1.9 2 2 2h14c1.1 0 2-.9 2-2V5c0-1.1-.9-2-2-2zM9 17H7v-7h2v7zm4 0h-2V7h2v10zm4 0h-2v-4h2v4z\"/>\n",
              "    </g>\n",
              "</svg>\n",
              "  </button>\n",
              "\n",
              "<style>\n",
              "  .colab-df-quickchart {\n",
              "      --bg-color: #E8F0FE;\n",
              "      --fill-color: #1967D2;\n",
              "      --hover-bg-color: #E2EBFA;\n",
              "      --hover-fill-color: #174EA6;\n",
              "      --disabled-fill-color: #AAA;\n",
              "      --disabled-bg-color: #DDD;\n",
              "  }\n",
              "\n",
              "  [theme=dark] .colab-df-quickchart {\n",
              "      --bg-color: #3B4455;\n",
              "      --fill-color: #D2E3FC;\n",
              "      --hover-bg-color: #434B5C;\n",
              "      --hover-fill-color: #FFFFFF;\n",
              "      --disabled-bg-color: #3B4455;\n",
              "      --disabled-fill-color: #666;\n",
              "  }\n",
              "\n",
              "  .colab-df-quickchart {\n",
              "    background-color: var(--bg-color);\n",
              "    border: none;\n",
              "    border-radius: 50%;\n",
              "    cursor: pointer;\n",
              "    display: none;\n",
              "    fill: var(--fill-color);\n",
              "    height: 32px;\n",
              "    padding: 0;\n",
              "    width: 32px;\n",
              "  }\n",
              "\n",
              "  .colab-df-quickchart:hover {\n",
              "    background-color: var(--hover-bg-color);\n",
              "    box-shadow: 0 1px 2px rgba(60, 64, 67, 0.3), 0 1px 3px 1px rgba(60, 64, 67, 0.15);\n",
              "    fill: var(--button-hover-fill-color);\n",
              "  }\n",
              "\n",
              "  .colab-df-quickchart-complete:disabled,\n",
              "  .colab-df-quickchart-complete:disabled:hover {\n",
              "    background-color: var(--disabled-bg-color);\n",
              "    fill: var(--disabled-fill-color);\n",
              "    box-shadow: none;\n",
              "  }\n",
              "\n",
              "  .colab-df-spinner {\n",
              "    border: 2px solid var(--fill-color);\n",
              "    border-color: transparent;\n",
              "    border-bottom-color: var(--fill-color);\n",
              "    animation:\n",
              "      spin 1s steps(1) infinite;\n",
              "  }\n",
              "\n",
              "  @keyframes spin {\n",
              "    0% {\n",
              "      border-color: transparent;\n",
              "      border-bottom-color: var(--fill-color);\n",
              "      border-left-color: var(--fill-color);\n",
              "    }\n",
              "    20% {\n",
              "      border-color: transparent;\n",
              "      border-left-color: var(--fill-color);\n",
              "      border-top-color: var(--fill-color);\n",
              "    }\n",
              "    30% {\n",
              "      border-color: transparent;\n",
              "      border-left-color: var(--fill-color);\n",
              "      border-top-color: var(--fill-color);\n",
              "      border-right-color: var(--fill-color);\n",
              "    }\n",
              "    40% {\n",
              "      border-color: transparent;\n",
              "      border-right-color: var(--fill-color);\n",
              "      border-top-color: var(--fill-color);\n",
              "    }\n",
              "    60% {\n",
              "      border-color: transparent;\n",
              "      border-right-color: var(--fill-color);\n",
              "    }\n",
              "    80% {\n",
              "      border-color: transparent;\n",
              "      border-right-color: var(--fill-color);\n",
              "      border-bottom-color: var(--fill-color);\n",
              "    }\n",
              "    90% {\n",
              "      border-color: transparent;\n",
              "      border-bottom-color: var(--fill-color);\n",
              "    }\n",
              "  }\n",
              "</style>\n",
              "\n",
              "  <script>\n",
              "    async function quickchart(key) {\n",
              "      const quickchartButtonEl =\n",
              "        document.querySelector('#' + key + ' button');\n",
              "      quickchartButtonEl.disabled = true;  // To prevent multiple clicks.\n",
              "      quickchartButtonEl.classList.add('colab-df-spinner');\n",
              "      try {\n",
              "        const charts = await google.colab.kernel.invokeFunction(\n",
              "            'suggestCharts', [key], {});\n",
              "      } catch (error) {\n",
              "        console.error('Error during call to suggestCharts:', error);\n",
              "      }\n",
              "      quickchartButtonEl.classList.remove('colab-df-spinner');\n",
              "      quickchartButtonEl.classList.add('colab-df-quickchart-complete');\n",
              "    }\n",
              "    (() => {\n",
              "      let quickchartButtonEl =\n",
              "        document.querySelector('#df-a8ad7b4b-0c93-4ba6-9bdd-236d7e9f59e9 button');\n",
              "      quickchartButtonEl.style.display =\n",
              "        google.colab.kernel.accessAllowed ? 'block' : 'none';\n",
              "    })();\n",
              "  </script>\n",
              "</div>\n",
              "    </div>\n",
              "  </div>\n"
            ]
          },
          "metadata": {},
          "execution_count": 3
        }
      ]
    },
    {
      "cell_type": "markdown",
      "source": [
        "ではRidge回帰を使って学習を行っていきましょう。\n",
        "\n",
        "本当はk-fold法（参考：[こちら](https://datawokagaku.com/kfoldcv/)）を使って汎化性能を測った方がいいのですが、  \n",
        "ここでは説明のしやすさのためhold-out法を使います。"
      ],
      "metadata": {
        "id": "X2m6_ILORwc3"
      }
    },
    {
      "cell_type": "code",
      "source": [
        "# 目的変数に\"total_bill\"、説明変数にそれ以外のカラムを指定\n",
        "x = tips.drop('total_bill', axis=1)\n",
        "y = tips['total_bill']\n",
        "\n",
        "# データを訓練データとテストデータに分ける\n",
        "x_train, x_test, y_train, y_test = train_test_split(x, y, test_size=0.3, random_state=0)\n",
        "\n",
        "# 説明変数のデータを標準化\n",
        "from sklearn.preprocessing import StandardScaler\n",
        "scaler = StandardScaler().fit(x_train)\n",
        "x_train_scaled = scaler.transform(x_train)\n",
        "\n",
        "# Ridgeモデルの初期化と学習\n",
        "model = Ridge()\n",
        "model.fit(x_train_scaled, y_train)\n",
        "\n",
        "# coefficient  係数\n",
        "print(pd.Series(model.coef_, index=x.columns))"
      ],
      "metadata": {
        "colab": {
          "base_uri": "https://localhost:8080/"
        },
        "id": "igP_JA68RrCF",
        "outputId": "c0ad67a2-1827-4119-dcf6-2cbf979e17c9"
      },
      "execution_count": 14,
      "outputs": [
        {
          "output_type": "stream",
          "name": "stdout",
          "text": [
            "tip            4.393996\n",
            "size           3.131295\n",
            "sex_Female     0.320025\n",
            "smoker_No     -1.382292\n",
            "day_Fri       -1.162595\n",
            "day_Sat       -2.038437\n",
            "day_Sun       -2.058635\n",
            "time_Dinner    2.766791\n",
            "dtype: float64\n"
          ]
        }
      ]
    },
    {
      "cell_type": "markdown",
      "source": [
        "正則化項なしの線形回帰と比較してみましょう。"
      ],
      "metadata": {
        "id": "BycshPH1VS3Z"
      }
    },
    {
      "cell_type": "code",
      "source": [
        "# 正則化項なしの線形回帰と比較\n",
        "model = LinearRegression()\n",
        "model.fit(x_train_scaled, y_train)\n",
        "\n",
        "# coefficient  係数\n",
        "print(pd.Series(model.coef_, index=x.columns))"
      ],
      "metadata": {
        "colab": {
          "base_uri": "https://localhost:8080/"
        },
        "id": "KItHsmm0VDeD",
        "outputId": "f51f24c2-b2e2-4395-85e1-72b2bd244e56"
      },
      "execution_count": 15,
      "outputs": [
        {
          "output_type": "stream",
          "name": "stdout",
          "text": [
            "tip            4.409546\n",
            "size           3.142303\n",
            "sex_Female     0.343710\n",
            "smoker_No     -1.414742\n",
            "day_Fri       -1.575064\n",
            "day_Sat       -3.140102\n",
            "day_Sun       -3.111760\n",
            "time_Dinner    3.782092\n",
            "dtype: float64\n"
          ]
        }
      ]
    },
    {
      "cell_type": "markdown",
      "source": [
        "正則化項なしの線形回帰に比べて、係数の絶対値が少し小さくなったことが確認できました。  \n",
        "（すべてが小さくなったわけではなく、一部大きくなった特徴量もあるようです）"
      ],
      "metadata": {
        "id": "0Ie2GUVaVYFD"
      }
    },
    {
      "cell_type": "code",
      "source": [
        "# 学習データの平均と標準偏差を使って標準化する\n",
        "x_test_scaled = scaler.transform(x_test)\n",
        "\n",
        "print('訓練データに対する決定係数：', model.score(x_train_scaled, y_train))\n",
        "print('テストデータに対する決定係数：', model.score(x_test_scaled, y_test))"
      ],
      "metadata": {
        "colab": {
          "base_uri": "https://localhost:8080/"
        },
        "id": "ZJCaN8RqTAVX",
        "outputId": "ed8a36f6-cc2f-4a6e-c317-2ffe50d72163"
      },
      "execution_count": 7,
      "outputs": [
        {
          "output_type": "stream",
          "name": "stdout",
          "text": [
            "訓練データに対する決定係数： 0.5596705312188528\n",
            "テストデータに対する決定係数： 0.5879459302090297\n"
          ]
        }
      ]
    },
    {
      "cell_type": "markdown",
      "source": [
        "ただの線形回帰では、決定係数は以下のような結果となりました。\n",
        "\n",
        "![](https://imgur.com/ncBzlA0.png)"
      ],
      "metadata": {
        "id": "yi6F3CzeTPym"
      }
    },
    {
      "cell_type": "markdown",
      "source": [
        "わずかですが、テストデータに対する決定係数が上がったことが確認できます。"
      ],
      "metadata": {
        "id": "wSmXTMDuTcfC"
      }
    },
    {
      "cell_type": "markdown",
      "source": [
        "#### さまざまなλでのRidge"
      ],
      "metadata": {
        "id": "0zxbdiMSVfVa"
      }
    },
    {
      "cell_type": "markdown",
      "source": [
        "パラメータ$\\lambda$を、デフォルト値の1ではなく変化させたときの、  \n",
        "MSEの値の変化を見てみましょう。"
      ],
      "metadata": {
        "id": "0pxsqwzDWO9R"
      }
    },
    {
      "cell_type": "code",
      "source": [
        "# np.logspace(-3, 3, 50)と同意\n",
        "alphas = np.logspace(-3, 3)\n",
        "mse_list = []\n",
        "coefs = []\n",
        "for alpha in alphas:\n",
        "    model = Ridge(alpha)\n",
        "    model.fit(x_train_scaled, y_train)\n",
        "    y_pred = model.predict(x_test_scaled)\n",
        "    mse = mean_squared_error(y_test, y_pred)\n",
        "    mse_list.append(mse)\n",
        "    coefs.append(model.coef_)"
      ],
      "metadata": {
        "id": "oT_MVU6bV2Lw"
      },
      "execution_count": 16,
      "outputs": []
    },
    {
      "cell_type": "code",
      "source": [
        "# λ vs MSE\n",
        "\n",
        "plt.plot(alphas, mse_list)\n",
        "plt.xscale('log')\n",
        "plt.xlabel('lambda')\n",
        "plt.ylabel('test MSE')"
      ],
      "metadata": {
        "colab": {
          "base_uri": "https://localhost:8080/",
          "height": 471
        },
        "id": "z8PbY0jjWhQu",
        "outputId": "67bf34e0-2e03-442a-b7c4-4490eb8e5110"
      },
      "execution_count": 17,
      "outputs": [
        {
          "output_type": "execute_result",
          "data": {
            "text/plain": [
              "Text(0, 0.5, 'test MSE')"
            ]
          },
          "metadata": {},
          "execution_count": 17
        },
        {
          "output_type": "display_data",
          "data": {
            "text/plain": [
              "<Figure size 640x480 with 1 Axes>"
            ],
            "image/png": "[encoded data removed]"
          },
          "metadata": {}
        }
      ]
    },
    {
      "cell_type": "code",
      "source": [
        "print(f\"最適なalpha：{alphas[np.argmin(mse_list)]}\")\n",
        "print(f\"最小のMSE：{np.min(mse_list)}\")"
      ],
      "metadata": {
        "colab": {
          "base_uri": "https://localhost:8080/"
        },
        "id": "2cYL9gtKWrLA",
        "outputId": "dda7f2ab-de9c-4219-d8ee-9f57605be6ad"
      },
      "execution_count": 19,
      "outputs": [
        {
          "output_type": "stream",
          "name": "stdout",
          "text": [
            "最適なalpha：19.306977288832496\n",
            "最小のMSE：27.25112194786355\n"
          ]
        }
      ]
    },
    {
      "cell_type": "code",
      "source": [
        "# λ vs 係数\n",
        "plt.plot(alphas, coefs)\n",
        "plt.xscale('log')\n",
        "plt.xlabel('lambda')\n",
        "plt.ylabel('standardized coefficients')"
      ],
      "metadata": {
        "colab": {
          "base_uri": "https://localhost:8080/",
          "height": 471
        },
        "id": "EkOfXM8wXeZ2",
        "outputId": "9c8db8d6-553f-4efb-ffd2-ba8cac08a91c"
      },
      "execution_count": 22,
      "outputs": [
        {
          "output_type": "execute_result",
          "data": {
            "text/plain": [
              "Text(0, 0.5, 'standardized coefficients')"
            ]
          },
          "metadata": {},
          "execution_count": 22
        },
        {
          "output_type": "display_data",
          "data": {
            "text/plain": [
              "<Figure size 640x480 with 1 Axes>"
            ],
            "image/png": "[encoded data removed]"
          },
          "metadata": {}
        }
      ]
    },
    {
      "cell_type": "markdown",
      "source": [
        "全ての特徴量の係数の値が0に限りなく近づいていますが、  \n",
        "0にはなっていなさそうです。"
      ],
      "metadata": {
        "id": "gGCihQZNac6s"
      }
    },
    {
      "cell_type": "markdown",
      "source": [
        "#### Pythonによる実行Ver2"
      ],
      "metadata": {
        "id": "vW6lzKdkYFDo"
      }
    },
    {
      "cell_type": "markdown",
      "source": [
        "$\\lambda$の値を最適化できそうなので、改めて学習を行ってみます。"
      ],
      "metadata": {
        "id": "K15vAn9qYGut"
      }
    },
    {
      "cell_type": "code",
      "source": [
        "# 目的変数に\"total_bill\"、説明変数にそれ以外のカラムを指定\n",
        "x = tips.drop('total_bill', axis=1)\n",
        "y = tips['total_bill']\n",
        "\n",
        "# データを訓練データとテストデータに分ける\n",
        "x_train, x_test, y_train, y_test = train_test_split(x, y, test_size=0.3, random_state=0)\n",
        "\n",
        "# 説明変数のデータを標準化\n",
        "from sklearn.preprocessing import StandardScaler\n",
        "scaler = StandardScaler().fit(x_train)\n",
        "x_train_scaled = scaler.transform(x_train)\n",
        "\n",
        "# Ridgeモデルの初期化と学習\n",
        "model = Ridge(alphas[np.argmin(mse_list)])\n",
        "model.fit(x_train_scaled, y_train)\n",
        "\n",
        "# coefficient  係数\n",
        "print(pd.Series(model.coef_, index=x.columns))"
      ],
      "metadata": {
        "colab": {
          "base_uri": "https://localhost:8080/"
        },
        "id": "zKgO-WBTYSyY",
        "outputId": "af35a5b4-1ed6-48b2-de97-d41dba6b6c13"
      },
      "execution_count": 23,
      "outputs": [
        {
          "output_type": "stream",
          "name": "stdout",
          "text": [
            "tip            4.048744\n",
            "size           2.967074\n",
            "sex_Female     0.207301\n",
            "smoker_No     -1.209648\n",
            "day_Fri       -0.353796\n",
            "day_Sat       -0.002428\n",
            "day_Sun       -0.102119\n",
            "time_Dinner    0.862469\n",
            "dtype: float64\n"
          ]
        }
      ]
    },
    {
      "cell_type": "code",
      "source": [
        "# 学習データの平均と標準偏差を使って標準化する\n",
        "x_test_scaled = scaler.transform(x_test)\n",
        "\n",
        "print('訓練データに対する決定係数：', model.score(x_train_scaled, y_train))\n",
        "print('テストデータに対する決定係数：', model.score(x_test_scaled, y_test))"
      ],
      "metadata": {
        "colab": {
          "base_uri": "https://localhost:8080/"
        },
        "id": "-EjK9MlzYZxc",
        "outputId": "9312ba0b-2823-4e2c-d02e-f53ab874a8ae"
      },
      "execution_count": 24,
      "outputs": [
        {
          "output_type": "stream",
          "name": "stdout",
          "text": [
            "訓練データに対する決定係数： 0.5526822354688106\n",
            "テストデータに対する決定係数： 0.6040197730626686\n"
          ]
        }
      ]
    },
    {
      "cell_type": "markdown",
      "source": [
        "デフォルト値である**`λ=1`**では、決定係数は以下のような結果となりました。\n",
        "\n",
        "![](https://imgur.com/adORazy.png)"
      ],
      "metadata": {
        "id": "uBTzQcijYhX2"
      }
    },
    {
      "cell_type": "markdown",
      "source": [
        "わずかですが、テストデータに対する決定係数が上がったことが確認できます。"
      ],
      "metadata": {
        "id": "qxiUJjNjYr3z"
      }
    },
    {
      "cell_type": "markdown",
      "source": [
        "### Lasso"
      ],
      "metadata": {
        "id": "NRgzGyMrNT9v"
      }
    },
    {
      "cell_type": "markdown",
      "source": [
        "**L1ノルム**の正則化項を使用するアルゴリズムを**Lasso**といいます。\n",
        "\n",
        "$$\n",
        "L(\\theta)=\\frac{1}{m}\\sum_{i=1}^{m}\\left(y_i-\\theta_0-\\sum_{j=1}^{n}\\theta_jx_{ij}\\right)^2+\\lambda\\sum_{j=1}^{n}|\\theta_j|=MSE+\\lambda\\sum_{j=1}^{n}|\\theta_j|\n",
        "$$"
      ],
      "metadata": {
        "id": "RMxcnlqwTwnc"
      }
    },
    {
      "cell_type": "markdown",
      "source": [
        "$\\lambda$を大きくするにつれ各特徴量の係数の絶対値は小さくなり、やがて0になります。  \n",
        "一時的に大きくなることもあります。\n",
        "\n",
        "$\\lambda$を大きくするといづれ各特徴量の係数の絶対値が0になるので、  \n",
        "学習すると一部の特徴量が不要になります。"
      ],
      "metadata": {
        "id": "rHo1TU0tTwnc"
      }
    },
    {
      "cell_type": "markdown",
      "source": [
        "また、特徴量同士のスケールが影響するので、  \n",
        "事前に特徴量スケーリング（標準化や正規化）が必要です。"
      ],
      "metadata": {
        "id": "QNuwY_QXTwnc"
      }
    },
    {
      "cell_type": "markdown",
      "source": [
        "#### PythonでLasso回帰"
      ],
      "metadata": {
        "id": "b_WfOBUUUdm6"
      }
    },
    {
      "cell_type": "markdown",
      "source": [
        "では、実際にPythonでLasso回帰を行っていきましょう。\n",
        "\n",
        "モデルを学習する際は$\\lambda$を指定する必要がありますが、  \n",
        "何も指定していない場合はデフォルト値である1となります。"
      ],
      "metadata": {
        "id": "1mPEKZL7Udm7"
      }
    },
    {
      "cell_type": "markdown",
      "source": [
        "#### Pythonによる実行"
      ],
      "metadata": {
        "id": "sJQ3MRSQUi26"
      }
    },
    {
      "cell_type": "markdown",
      "source": [
        "今回は使用するカラムを増やしたいので、one-hotエンコーディングを行います。"
      ],
      "metadata": {
        "id": "orSfkWVjUi3E"
      }
    },
    {
      "cell_type": "code",
      "source": [
        "tips = pd.get_dummies(tips, drop_first=True)\n",
        "tips.head()"
      ],
      "metadata": {
        "colab": {
          "base_uri": "https://localhost:8080/",
          "height": 226
        },
        "outputId": "395fe323-7adf-44f7-8af3-f7038d5c4f24",
        "id": "VBAVZ2aNUi3F"
      },
      "execution_count": 10,
      "outputs": [
        {
          "output_type": "execute_result",
          "data": {
            "text/plain": [
              "   total_bill   tip  size  sex_Female  smoker_No  day_Fri  day_Sat  day_Sun  \\\n",
              "0       16.99  1.01     2           1          1        0        0        1   \n",
              "1       10.34  1.66     3           0          1        0        0        1   \n",
              "2       21.01  3.50     3           0          1        0        0        1   \n",
              "3       23.68  3.31     2           0          1        0        0        1   \n",
              "4       24.59  3.61     4           1          1        0        0        1   \n",
              "\n",
              "   time_Dinner  \n",
              "0            1  \n",
              "1            1  \n",
              "2            1  \n",
              "3            1  \n",
              "4            1  "
            ],
            "text/html": [
              "\n",
              "  <div id=\"df-dcbe3f69-8de1-47b1-8b23-e047732bb73c\" class=\"colab-df-container\">\n",
              "    <div>\n",
              "<style scoped>\n",
              "    .dataframe tbody tr th:only-of-type {\n",
              "        vertical-align: middle;\n",
              "    }\n",
              "\n",
              "    .dataframe tbody tr th {\n",
              "        vertical-align: top;\n",
              "    }\n",
              "\n",
              "    .dataframe thead th {\n",
              "        text-align: right;\n",
              "    }\n",
              "</style>\n",
              "<table border=\"1\" class=\"dataframe\">\n",
              "  <thead>\n",
              "    <tr style=\"text-align: right;\">\n",
              "      <th></th>\n",
              "      <th>total_bill</th>\n",
              "      <th>tip</th>\n",
              "      <th>size</th>\n",
              "      <th>sex_Female</th>\n",
              "      <th>smoker_No</th>\n",
              "      <th>day_Fri</th>\n",
              "      <th>day_Sat</th>\n",
              "      <th>day_Sun</th>\n",
              "      <th>time_Dinner</th>\n",
              "    </tr>\n",
              "  </thead>\n",
              "  <tbody>\n",
              "    <tr>\n",
              "      <th>0</th>\n",
              "      <td>16.99</td>\n",
              "      <td>1.01</td>\n",
              "      <td>2</td>\n",
              "      <td>1</td>\n",
              "      <td>1</td>\n",
              "      <td>0</td>\n",
              "      <td>0</td>\n",
              "      <td>1</td>\n",
              "      <td>1</td>\n",
              "    </tr>\n",
              "    <tr>\n",
              "      <th>1</th>\n",
              "      <td>10.34</td>\n",
              "      <td>1.66</td>\n",
              "      <td>3</td>\n",
              "      <td>0</td>\n",
              "      <td>1</td>\n",
              "      <td>0</td>\n",
              "      <td>0</td>\n",
              "      <td>1</td>\n",
              "      <td>1</td>\n",
              "    </tr>\n",
              "    <tr>\n",
              "      <th>2</th>\n",
              "      <td>21.01</td>\n",
              "      <td>3.50</td>\n",
              "      <td>3</td>\n",
              "      <td>0</td>\n",
              "      <td>1</td>\n",
              "      <td>0</td>\n",
              "      <td>0</td>\n",
              "      <td>1</td>\n",
              "      <td>1</td>\n",
              "    </tr>\n",
              "    <tr>\n",
              "      <th>3</th>\n",
              "      <td>23.68</td>\n",
              "      <td>3.31</td>\n",
              "      <td>2</td>\n",
              "      <td>0</td>\n",
              "      <td>1</td>\n",
              "      <td>0</td>\n",
              "      <td>0</td>\n",
              "      <td>1</td>\n",
              "      <td>1</td>\n",
              "    </tr>\n",
              "    <tr>\n",
              "      <th>4</th>\n",
              "      <td>24.59</td>\n",
              "      <td>3.61</td>\n",
              "      <td>4</td>\n",
              "      <td>1</td>\n",
              "      <td>1</td>\n",
              "      <td>0</td>\n",
              "      <td>0</td>\n",
              "      <td>1</td>\n",
              "      <td>1</td>\n",
              "    </tr>\n",
              "  </tbody>\n",
              "</table>\n",
              "</div>\n",
              "    <div class=\"colab-df-buttons\">\n",
              "\n",
              "  <div class=\"colab-df-container\">\n",
              "    <button class=\"colab-df-convert\" onclick=\"convertToInteractive('df-dcbe3f69-8de1-47b1-8b23-e047732bb73c')\"\n",
              "            title=\"Convert this dataframe to an interactive table.\"\n",
              "            style=\"display:none;\">\n",
              "\n",
              "  <svg xmlns=\"http://www.w3.org/2000/svg\" height=\"24px\" viewBox=\"0 -960 960 960\">\n",
              "    <path d=\"M120-120v-720h720v720H120Zm60-500h600v-160H180v160Zm220 220h160v-160H400v160Zm0 220h160v-160H400v160ZM180-400h160v-160H180v160Zm440 0h160v-160H620v160ZM180-180h160v-160H180v160Zm440 0h160v-160H620v160Z\"/>\n",
              "  </svg>\n",
              "    </button>\n",
              "\n",
              "  <style>\n",
              "    .colab-df-container {\n",
              "      display:flex;\n",
              "      gap: 12px;\n",
              "    }\n",
              "\n",
              "    .colab-df-convert {\n",
              "      background-color: #E8F0FE;\n",
              "      border: none;\n",
              "      border-radius: 50%;\n",
              "      cursor: pointer;\n",
              "      display: none;\n",
              "      fill: #1967D2;\n",
              "      height: 32px;\n",
              "      padding: 0 0 0 0;\n",
              "      width: 32px;\n",
              "    }\n",
              "\n",
              "    .colab-df-convert:hover {\n",
              "      background-color: #E2EBFA;\n",
              "      box-shadow: 0px 1px 2px rgba(60, 64, 67, 0.3), 0px 1px 3px 1px rgba(60, 64, 67, 0.15);\n",
              "      fill: #174EA6;\n",
              "    }\n",
              "\n",
              "    .colab-df-buttons div {\n",
              "      margin-bottom: 4px;\n",
              "    }\n",
              "\n",
              "    [theme=dark] .colab-df-convert {\n",
              "      background-color: #3B4455;\n",
              "      fill: #D2E3FC;\n",
              "    }\n",
              "\n",
              "    [theme=dark] .colab-df-convert:hover {\n",
              "      background-color: #434B5C;\n",
              "      box-shadow: 0px 1px 3px 1px rgba(0, 0, 0, 0.15);\n",
              "      filter: drop-shadow(0px 1px 2px rgba(0, 0, 0, 0.3));\n",
              "      fill: #FFFFFF;\n",
              "    }\n",
              "  </style>\n",
              "\n",
              "    <script>\n",
              "      const buttonEl =\n",
              "        document.querySelector('#df-dcbe3f69-8de1-47b1-8b23-e047732bb73c button.colab-df-convert');\n",
              "      buttonEl.style.display =\n",
              "        google.colab.kernel.accessAllowed ? 'block' : 'none';\n",
              "\n",
              "      async function convertToInteractive(key) {\n",
              "        const element = document.querySelector('#df-dcbe3f69-8de1-47b1-8b23-e047732bb73c');\n",
              "        const dataTable =\n",
              "          await google.colab.kernel.invokeFunction('convertToInteractive',\n",
              "                                                    [key], {});\n",
              "        if (!dataTable) return;\n",
              "\n",
              "        const docLinkHtml = 'Like what you see? Visit the ' +\n",
              "          '<a target=\"_blank\" href=https://colab.research.google.com/notebooks/data_table.ipynb>data table notebook</a>'\n",
              "          + ' to learn more about interactive tables.';\n",
              "        element.innerHTML = '';\n",
              "        dataTable['output_type'] = 'display_data';\n",
              "        await google.colab.output.renderOutput(dataTable, element);\n",
              "        const docLink = document.createElement('div');\n",
              "        docLink.innerHTML = docLinkHtml;\n",
              "        element.appendChild(docLink);\n",
              "      }\n",
              "    </script>\n",
              "  </div>\n",
              "\n",
              "\n",
              "<div id=\"df-b4f8a552-a124-4600-9d54-d99535b8a538\">\n",
              "  <button class=\"colab-df-quickchart\" onclick=\"quickchart('df-b4f8a552-a124-4600-9d54-d99535b8a538')\"\n",
              "            title=\"Suggest charts.\"\n",
              "            style=\"display:none;\">\n",
              "\n",
              "<svg xmlns=\"http://www.w3.org/2000/svg\" height=\"24px\"viewBox=\"0 0 24 24\"\n",
              "     width=\"24px\">\n",
              "    <g>\n",
              "        <path d=\"M19 3H5c-1.1 0-2 .9-2 2v14c0 1.1.9 2 2 2h14c1.1 0 2-.9 2-2V5c0-1.1-.9-2-2-2zM9 17H7v-7h2v7zm4 0h-2V7h2v10zm4 0h-2v-4h2v4z\"/>\n",
              "    </g>\n",
              "</svg>\n",
              "  </button>\n",
              "\n",
              "<style>\n",
              "  .colab-df-quickchart {\n",
              "      --bg-color: #E8F0FE;\n",
              "      --fill-color: #1967D2;\n",
              "      --hover-bg-color: #E2EBFA;\n",
              "      --hover-fill-color: #174EA6;\n",
              "      --disabled-fill-color: #AAA;\n",
              "      --disabled-bg-color: #DDD;\n",
              "  }\n",
              "\n",
              "  [theme=dark] .colab-df-quickchart {\n",
              "      --bg-color: #3B4455;\n",
              "      --fill-color: #D2E3FC;\n",
              "      --hover-bg-color: #434B5C;\n",
              "      --hover-fill-color: #FFFFFF;\n",
              "      --disabled-bg-color: #3B4455;\n",
              "      --disabled-fill-color: #666;\n",
              "  }\n",
              "\n",
              "  .colab-df-quickchart {\n",
              "    background-color: var(--bg-color);\n",
              "    border: none;\n",
              "    border-radius: 50%;\n",
              "    cursor: pointer;\n",
              "    display: none;\n",
              "    fill: var(--fill-color);\n",
              "    height: 32px;\n",
              "    padding: 0;\n",
              "    width: 32px;\n",
              "  }\n",
              "\n",
              "  .colab-df-quickchart:hover {\n",
              "    background-color: var(--hover-bg-color);\n",
              "    box-shadow: 0 1px 2px rgba(60, 64, 67, 0.3), 0 1px 3px 1px rgba(60, 64, 67, 0.15);\n",
              "    fill: var(--button-hover-fill-color);\n",
              "  }\n",
              "\n",
              "  .colab-df-quickchart-complete:disabled,\n",
              "  .colab-df-quickchart-complete:disabled:hover {\n",
              "    background-color: var(--disabled-bg-color);\n",
              "    fill: var(--disabled-fill-color);\n",
              "    box-shadow: none;\n",
              "  }\n",
              "\n",
              "  .colab-df-spinner {\n",
              "    border: 2px solid var(--fill-color);\n",
              "    border-color: transparent;\n",
              "    border-bottom-color: var(--fill-color);\n",
              "    animation:\n",
              "      spin 1s steps(1) infinite;\n",
              "  }\n",
              "\n",
              "  @keyframes spin {\n",
              "    0% {\n",
              "      border-color: transparent;\n",
              "      border-bottom-color: var(--fill-color);\n",
              "      border-left-color: var(--fill-color);\n",
              "    }\n",
              "    20% {\n",
              "      border-color: transparent;\n",
              "      border-left-color: var(--fill-color);\n",
              "      border-top-color: var(--fill-color);\n",
              "    }\n",
              "    30% {\n",
              "      border-color: transparent;\n",
              "      border-left-color: var(--fill-color);\n",
              "      border-top-color: var(--fill-color);\n",
              "      border-right-color: var(--fill-color);\n",
              "    }\n",
              "    40% {\n",
              "      border-color: transparent;\n",
              "      border-right-color: var(--fill-color);\n",
              "      border-top-color: var(--fill-color);\n",
              "    }\n",
              "    60% {\n",
              "      border-color: transparent;\n",
              "      border-right-color: var(--fill-color);\n",
              "    }\n",
              "    80% {\n",
              "      border-color: transparent;\n",
              "      border-right-color: var(--fill-color);\n",
              "      border-bottom-color: var(--fill-color);\n",
              "    }\n",
              "    90% {\n",
              "      border-color: transparent;\n",
              "      border-bottom-color: var(--fill-color);\n",
              "    }\n",
              "  }\n",
              "</style>\n",
              "\n",
              "  <script>\n",
              "    async function quickchart(key) {\n",
              "      const quickchartButtonEl =\n",
              "        document.querySelector('#' + key + ' button');\n",
              "      quickchartButtonEl.disabled = true;  // To prevent multiple clicks.\n",
              "      quickchartButtonEl.classList.add('colab-df-spinner');\n",
              "      try {\n",
              "        const charts = await google.colab.kernel.invokeFunction(\n",
              "            'suggestCharts', [key], {});\n",
              "      } catch (error) {\n",
              "        console.error('Error during call to suggestCharts:', error);\n",
              "      }\n",
              "      quickchartButtonEl.classList.remove('colab-df-spinner');\n",
              "      quickchartButtonEl.classList.add('colab-df-quickchart-complete');\n",
              "    }\n",
              "    (() => {\n",
              "      let quickchartButtonEl =\n",
              "        document.querySelector('#df-b4f8a552-a124-4600-9d54-d99535b8a538 button');\n",
              "      quickchartButtonEl.style.display =\n",
              "        google.colab.kernel.accessAllowed ? 'block' : 'none';\n",
              "    })();\n",
              "  </script>\n",
              "</div>\n",
              "    </div>\n",
              "  </div>\n"
            ]
          },
          "metadata": {},
          "execution_count": 10
        }
      ]
    },
    {
      "cell_type": "markdown",
      "source": [
        "ではLasso回帰を使って学習を行っていきましょう。\n",
        "\n",
        "本当はk-fold法（参考：[こちら](https://datawokagaku.com/kfoldcv/)）を使って汎化性能を測った方がいいのですが、  \n",
        "ここでは説明のしやすさのためhold-out法を使います。"
      ],
      "metadata": {
        "id": "cTIGYDCcUi3G"
      }
    },
    {
      "cell_type": "code",
      "source": [
        "# 目的変数に\"total_bill\"、説明変数にそれ以外のカラムを指定\n",
        "x = tips.drop('total_bill', axis=1)\n",
        "y = tips['total_bill']\n",
        "\n",
        "# データを訓練データとテストデータに分ける\n",
        "x_train, x_test, y_train, y_test = train_test_split(x, y, test_size=0.3, random_state=0)\n",
        "\n",
        "# 説明変数のデータを標準化\n",
        "from sklearn.preprocessing import StandardScaler\n",
        "scaler = StandardScaler().fit(x_train)\n",
        "x_train_scaled = scaler.transform(x_train)\n",
        "\n",
        "# モデルの初期化と学習\n",
        "model = Lasso()\n",
        "model.fit(x_train_scaled, y_train)\n",
        "\n",
        "# coefficient  係数\n",
        "print(pd.Series(model.coef_, index=x.columns))"
      ],
      "metadata": {
        "colab": {
          "base_uri": "https://localhost:8080/"
        },
        "outputId": "ef303ba3-c343-41e2-f6aa-f387b40f00d6",
        "id": "15lNbnJLUi3G"
      },
      "execution_count": 29,
      "outputs": [
        {
          "output_type": "stream",
          "name": "stdout",
          "text": [
            "tip            3.851536\n",
            "size           2.394653\n",
            "sex_Female    -0.000000\n",
            "smoker_No     -0.374259\n",
            "day_Fri       -0.000000\n",
            "day_Sat        0.000000\n",
            "day_Sun        0.000000\n",
            "time_Dinner    0.001101\n",
            "dtype: float64\n"
          ]
        }
      ]
    },
    {
      "cell_type": "markdown",
      "source": [
        "係数が0となっているものがいくつか見られます。  \n",
        "この特徴量は最終的に回帰では使っていません。"
      ],
      "metadata": {
        "id": "Dw0-1ALkUrgS"
      }
    },
    {
      "cell_type": "markdown",
      "source": [
        "正則化項なしの線形回帰と比較してみましょう。"
      ],
      "metadata": {
        "id": "AoEy-ZIDZaFD"
      }
    },
    {
      "cell_type": "code",
      "source": [
        "# 正則化項なしの線形回帰と比較\n",
        "model = LinearRegression()\n",
        "model.fit(x_train_scaled, y_train)\n",
        "\n",
        "# coefficient  係数\n",
        "print(pd.Series(model.coef_, index=x.columns))"
      ],
      "metadata": {
        "colab": {
          "base_uri": "https://localhost:8080/"
        },
        "id": "NY_lKKCFVPaZ",
        "outputId": "120373da-536d-470b-fd04-80d700721dd0"
      },
      "execution_count": 27,
      "outputs": [
        {
          "output_type": "stream",
          "name": "stdout",
          "text": [
            "tip            4.409546\n",
            "size           3.142303\n",
            "sex_Female     0.343710\n",
            "smoker_No     -1.414742\n",
            "day_Fri       -1.575064\n",
            "day_Sat       -3.140102\n",
            "day_Sun       -3.111760\n",
            "time_Dinner    3.782092\n",
            "dtype: float64\n"
          ]
        }
      ]
    },
    {
      "cell_type": "markdown",
      "source": [
        "正則化項なしの線形回帰に比べて、係数の絶対値が小さくなったことが確認できました。  \n"
      ],
      "metadata": {
        "id": "dkPVuYxOZcZx"
      }
    },
    {
      "cell_type": "code",
      "source": [
        "# 学習データの平均と標準偏差を使って標準化する\n",
        "x_test_scaled = scaler.transform(x_test)\n",
        "\n",
        "print('訓練データに対する決定係数：', model.score(x_train_scaled, y_train))\n",
        "print('テストデータに対する決定係数：', model.score(x_test_scaled, y_test))"
      ],
      "metadata": {
        "colab": {
          "base_uri": "https://localhost:8080/"
        },
        "outputId": "7821103b-08ef-4c52-9be6-a83547fe9bc2",
        "id": "TqCsFzSbUi3H"
      },
      "execution_count": 30,
      "outputs": [
        {
          "output_type": "stream",
          "name": "stdout",
          "text": [
            "訓練データに対する決定係数： 0.5165216248453368\n",
            "テストデータに対する決定係数： 0.6021489377962732\n"
          ]
        }
      ]
    },
    {
      "cell_type": "markdown",
      "source": [
        "ただの線形回帰では、決定係数は以下のような結果となりました。\n",
        "\n",
        "![](https://imgur.com/ncBzlA0.png)"
      ],
      "metadata": {
        "id": "taYn34btUi3H"
      }
    },
    {
      "cell_type": "markdown",
      "source": [
        "テストデータに対する決定係数が上がったことが確認できます。"
      ],
      "metadata": {
        "id": "WILl3rEDUi3H"
      }
    },
    {
      "cell_type": "markdown",
      "source": [
        "#### さまざまなλでのLasso"
      ],
      "metadata": {
        "id": "3EjsrLJaaM1W"
      }
    },
    {
      "cell_type": "markdown",
      "source": [
        "パラメータ$\\lambda$を、デフォルト値の1ではなく変化させたときの、  \n",
        "MSEの値の変化を見てみましょう。"
      ],
      "metadata": {
        "id": "FjaZ4iEeaM1Y"
      }
    },
    {
      "cell_type": "code",
      "source": [
        "# np.logspace(-3, 3, 50)と同意\n",
        "alphas = np.logspace(-3, 3)\n",
        "mse_list = []\n",
        "coefs = []\n",
        "for alpha in alphas:\n",
        "    model = Lasso(alpha)\n",
        "    model.fit(x_train_scaled, y_train)\n",
        "    y_pred = model.predict(x_test_scaled)\n",
        "    mse = mean_squared_error(y_test, y_pred)\n",
        "    mse_list.append(mse)\n",
        "    coefs.append(model.coef_)"
      ],
      "metadata": {
        "id": "jv538IJFaM1Z"
      },
      "execution_count": 32,
      "outputs": []
    },
    {
      "cell_type": "code",
      "source": [
        "# λ vs MSE\n",
        "\n",
        "plt.plot(alphas, mse_list)\n",
        "plt.xscale('log')\n",
        "plt.xlabel('lambda')\n",
        "plt.ylabel('test MSE')"
      ],
      "metadata": {
        "colab": {
          "base_uri": "https://localhost:8080/",
          "height": 471
        },
        "outputId": "30163aab-1d69-4a8c-873f-b589fe86bf98",
        "id": "DRZaRJeUaM1a"
      },
      "execution_count": 33,
      "outputs": [
        {
          "output_type": "execute_result",
          "data": {
            "text/plain": [
              "Text(0, 0.5, 'test MSE')"
            ]
          },
          "metadata": {},
          "execution_count": 33
        },
        {
          "output_type": "display_data",
          "data": {
            "text/plain": [
              "<Figure size 640x480 with 1 Axes>"
            ],
            "image/png": "[encoded data removed]"
          },
          "metadata": {}
        }
      ]
    },
    {
      "cell_type": "code",
      "source": [
        "print(f\"最適なalpha：{alphas[np.argmin(mse_list)]}\")\n",
        "print(f\"最小のMSE：{np.min(mse_list)}\")"
      ],
      "metadata": {
        "colab": {
          "base_uri": "https://localhost:8080/"
        },
        "outputId": "8e47e96b-7b4f-4d35-b8f8-26c7232efacc",
        "id": "q3OWUhy7aM1b"
      },
      "execution_count": 34,
      "outputs": [
        {
          "output_type": "stream",
          "name": "stdout",
          "text": [
            "最適なalpha：0.21209508879201905\n",
            "最小のMSE：26.06164242117372\n"
          ]
        }
      ]
    },
    {
      "cell_type": "code",
      "source": [
        "# λ vs 係数\n",
        "plt.plot(alphas, coefs)\n",
        "plt.xscale('log')\n",
        "plt.xlabel('lambda')\n",
        "plt.ylabel('standardized coefficients')"
      ],
      "metadata": {
        "colab": {
          "base_uri": "https://localhost:8080/",
          "height": 471
        },
        "outputId": "a40d6e1f-ebed-4e20-9f18-e1d0c0a03f34",
        "id": "vkv_pibeaM1b"
      },
      "execution_count": 35,
      "outputs": [
        {
          "output_type": "execute_result",
          "data": {
            "text/plain": [
              "Text(0, 0.5, 'standardized coefficients')"
            ]
          },
          "metadata": {},
          "execution_count": 35
        },
        {
          "output_type": "display_data",
          "data": {
            "text/plain": [
              "<Figure size 640x480 with 1 Axes>"
            ],
            "image/png": "[encoded data removed]"
          },
          "metadata": {}
        }
      ]
    },
    {
      "cell_type": "markdown",
      "source": [
        "$\\lambda$=10のときには、もうすべての係数の値が0になっていることが確認できます。"
      ],
      "metadata": {
        "id": "l7QlvIOPapF3"
      }
    },
    {
      "cell_type": "markdown",
      "source": [
        "#### Pythonによる実行Ver2"
      ],
      "metadata": {
        "id": "OgVloDbza-eq"
      }
    },
    {
      "cell_type": "markdown",
      "source": [
        "$\\lambda$の値を最適化できそうなので、改めて学習を行ってみます。"
      ],
      "metadata": {
        "id": "fHWPcY5ta-es"
      }
    },
    {
      "cell_type": "code",
      "source": [
        "# 目的変数に\"total_bill\"、説明変数にそれ以外のカラムを指定\n",
        "x = tips.drop('total_bill', axis=1)\n",
        "y = tips['total_bill']\n",
        "\n",
        "# データを訓練データとテストデータに分ける\n",
        "x_train, x_test, y_train, y_test = train_test_split(x, y, test_size=0.3, random_state=0)\n",
        "\n",
        "# 説明変数のデータを標準化\n",
        "from sklearn.preprocessing import StandardScaler\n",
        "scaler = StandardScaler().fit(x_train)\n",
        "x_train_scaled = scaler.transform(x_train)\n",
        "\n",
        "# Ridgeモデルの初期化と学習\n",
        "model = Lasso(alphas[np.argmin(mse_list)])\n",
        "model.fit(x_train_scaled, y_train)\n",
        "\n",
        "# coefficient  係数\n",
        "print(pd.Series(model.coef_, index=x.columns))"
      ],
      "metadata": {
        "colab": {
          "base_uri": "https://localhost:8080/"
        },
        "outputId": "7498158a-5843-4876-da12-4af60897ac2c",
        "id": "SAb5Eyoka-et"
      },
      "execution_count": 36,
      "outputs": [
        {
          "output_type": "stream",
          "name": "stdout",
          "text": [
            "tip            4.292403\n",
            "size           2.959268\n",
            "sex_Female     0.000000\n",
            "smoker_No     -1.135379\n",
            "day_Fri       -0.127653\n",
            "day_Sat        0.000000\n",
            "day_Sun       -0.000000\n",
            "time_Dinner    0.633133\n",
            "dtype: float64\n"
          ]
        }
      ]
    },
    {
      "cell_type": "code",
      "source": [
        "# 学習データの平均と標準偏差を使って標準化する\n",
        "x_test_scaled = scaler.transform(x_test)\n",
        "\n",
        "print('訓練データに対する決定係数：', model.score(x_train_scaled, y_train))\n",
        "print('テストデータに対する決定係数：', model.score(x_test_scaled, y_test))"
      ],
      "metadata": {
        "colab": {
          "base_uri": "https://localhost:8080/"
        },
        "outputId": "7a808a99-d537-4eee-f407-29d0cedf1794",
        "id": "b4vp3yRCa-ev"
      },
      "execution_count": 37,
      "outputs": [
        {
          "output_type": "stream",
          "name": "stdout",
          "text": [
            "訓練データに対する決定係数： 0.5521734530711395\n",
            "テストデータに対する決定係数： 0.6213038457631277\n"
          ]
        }
      ]
    },
    {
      "cell_type": "markdown",
      "source": [
        "デフォルト値である**`λ=1`**では、決定係数は以下のような結果となりました。\n",
        "\n",
        "![](https://imgur.com/kWaFmiI.png)"
      ],
      "metadata": {
        "id": "x--8EUxHa-ew"
      }
    },
    {
      "cell_type": "markdown",
      "source": [
        "テストデータに対する決定係数が上がったことが確認できます。"
      ],
      "metadata": {
        "id": "KmIvdiP3a-ex"
      }
    }
  ]
}
