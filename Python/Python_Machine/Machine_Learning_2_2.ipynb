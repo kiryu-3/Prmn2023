{
  "nbformat": 4,
  "nbformat_minor": 0,
  "metadata": {
    "colab": {
      "provenance": [],
      "authorship_tag": "ABX9TyML5RqTQhF3TsfQrF7yXl5G",
      "include_colab_link": true
    },
    "kernelspec": {
      "name": "python3",
      "display_name": "Python 3"
    },
    "language_info": {
      "name": "python"
    }
  },
  "cells": [
    {
      "cell_type": "markdown",
      "metadata": {
        "id": "view-in-github",
        "colab_type": "text"
      },
      "source": [
        "<a href=\"https://colab.research.google.com/github/kiryu-3/Prmn2023/blob/main/Python/Python_Machine/Machine_Learning_2_2.ipynb\" target=\"_parent\"><img src=\"https://colab.research.google.com/assets/colab-badge.svg\" alt=\"Open In Colab\"/></a>"
      ]
    },
    {
      "cell_type": "markdown",
      "source": [
        "# ダミー変数化と係数の仮説検定ー実践編"
      ],
      "metadata": {
        "id": "ZXnrsxpIwF8K"
      }
    },
    {
      "cell_type": "code",
      "execution_count": null,
      "metadata": {
        "id": "fvf87nqFmozL"
      },
      "outputs": [],
      "source": [
        "# 最初にインポートしてください\n",
        "import numpy as np\n",
        "import pandas as pd\n",
        "import matplotlib.pyplot as plt\n",
        "import seaborn as sns\n",
        "from sklearn.linear_model import Ridge, LinearRegression\n",
        "from sklearn.metrics import mean_squared_error\n",
        "from sklearn.metrics import r2_score\n",
        "from sklearn.model_selection import KFold, RepeatedKFold, cross_val_score\n",
        "from sklearn.model_selection import train_test_split\n",
        "from sklearn.datasets import fetch_openml\n",
        "from sklearn.preprocessing import StandardScaler, PolynomialFeatures\n",
        "from sklearn.neighbors import KNeighborsRegressor\n",
        "from sklearn.pipeline import Pipeline\n",
        "import statsmodels.api as sma"
      ]
    },
    {
      "cell_type": "markdown",
      "source": [
        "エイムズの住宅販売価格予測を、線形回帰を使って行っていきます。\n",
        "\n",
        "ここでは、これまで使っていなかったカテゴリ変数を説明変数として扱えるようにします。  \n",
        "また、仮説検定を行うことで、線形回帰の結果の解釈性を高めます。\n",
        "\n",
        "欠損値の処理などは線形回帰の時と同じとします。"
      ],
      "metadata": {
        "id": "fzliozr4x6cP"
      }
    },
    {
      "cell_type": "code",
      "source": [
        "# Ames housing datasetを取得し、as_frame=Trueを指定してDataFrame形式で読み込む\n",
        "housing = fetch_openml(name=\"house_prices\", as_frame=True)\n",
        "\n",
        "# DataFrameを表示\n",
        "df = housing.frame\n",
        "\n",
        "# 欠損値に意味がある場合の処理\n",
        "df[\"PoolQC\"] = df[\"PoolQC\"].fillna(\"NA\")\n",
        "df[\"MiscFeature\"] = df[\"MiscFeature\"].fillna(\"NA\")\n",
        "df[\"Alley\"] = df[\"Alley\"].fillna(\"NA\")\n",
        "df[\"Fence\"] = df[\"Fence\"].fillna(\"NA\")\n",
        "df[\"FireplaceQu\"] = df[\"FireplaceQu\"].fillna(\"NA\")\n",
        "df[\"GarageFinish\"] = df[\"GarageFinish\"].fillna(\"NA\")\n",
        "df[\"GarageQual\"] = df[\"GarageQual\"].fillna(\"NA\")\n",
        "df[\"GarageCond\"] = df[\"GarageCond\"].fillna(\"NA\")\n",
        "df[\"GarageYrBlt\"] = df[\"GarageYrBlt\"].fillna(0)\n",
        "df[\"GarageType\"] = df[\"GarageType\"].fillna(\"NA\")\n",
        "df[\"BsmtExposure\"] = df[\"BsmtExposure\"].fillna(\"NA\")\n",
        "df[\"BsmtCond\"] = df[\"BsmtCond\"].fillna(\"NA\")\n",
        "df[\"BsmtQual\"] = df[\"BsmtQual\"].fillna(\"NA\")\n",
        "df[\"BsmtFinType2\"] = df[\"BsmtFinType2\"].fillna(\"NA\")\n",
        "df[\"BsmtFinType1\"] = df[\"BsmtFinType1\"].fillna(\"NA\")\n",
        "\n",
        "# NeighbourhoodごとにLotFrontageの中央値を算出\n",
        "platform_neighbourhood_dict = df.groupby(\"Neighborhood\").median()[\"LotFrontage\"].to_dict()\n",
        "# 同じ地区の中央値の値で埋める\n",
        "df[\"LotFrontage\"] = df.apply(\n",
        "    lambda row: platform_neighbourhood_dict[row[\"Neighborhood\"]]\n",
        "    if np.isnan(row[\"LotFrontage\"])\n",
        "    else row[\"LotFrontage\"],\n",
        "    axis=1\n",
        ")\n",
        "\n",
        "# 欠損値の数を計算\n",
        "chk_null2 = df.isnull().sum()\n",
        "\n",
        "# 欠損値の割合を計算\n",
        "chk_null_pct2 = chk_null2 / (df.index.max() + 1)\n",
        "\n",
        "# 欠損値の数と割合がゼロでない列を抽出し、欠損値テーブルを作成\n",
        "chk_null_tbl2 = pd.concat([chk_null2[chk_null2 > 0], chk_null_pct2[chk_null_pct2 > 0]], axis=1)\n",
        "\n",
        "# 欠損値の割合を基準にテーブルを降順でソートし、列名を変更\n",
        "chk_null_tbl_new = chk_null_tbl2.sort_values(by=1, ascending=False).rename(columns={0: \"欠損レコード数\", 1: \"欠損割合\"})\n",
        "\n",
        "\"\"\"\n",
        "\"MasVnrArea\t\"カラム（組積造の面積）は\n",
        "数値型なので中央値で欠損値処理\n",
        "\"MasVnrType\"カラム（組積造の種別）と\"Electrical\"カラム（電気システムの種類）は\n",
        "名義型なので最頻値で欠損値処理\n",
        "\"\"\"\n",
        "\n",
        "# 欠損値の数を計算し、0以外のカラムのインデックスを抽出\n",
        "nonzero_columns = chk_null_tbl_new.index\n",
        "\n",
        "# 欠損値を埋める処理\n",
        "for column in nonzero_columns:\n",
        "    if np.issubdtype(df[column].dtype, np.number):\n",
        "        # 数値型の場合は中央値で埋める\n",
        "        df[column].fillna(df[column].median(), inplace=True)\n",
        "    else:\n",
        "        # 文字型の場合は最頻値で埋める\n",
        "        df[column].fillna(df[column].mode()[0], inplace=True)\n",
        "\n",
        "# データ型を適切なタイプに変換\n",
        "df['YrSold'] = df['YrSold'].astype(str)  # 売れた年\n",
        "df['MoSold'] = df['MoSold'].astype(str)  # 売れた月\n",
        "df['GarageYrBlt'] = df['GarageYrBlt'].astype(str)  # ガレージが建てられた年\n",
        "df['YearBuilt'] = df['YearBuilt'].astype(str)  # 建築された年\n",
        "df['YearRemodAdd'] = df['YearRemodAdd'].astype(str)  # リフォームされた年\n",
        "df['MSSubClass'] = df['MSSubClass'].astype(str)  # 建物クラス（建てられ方の違い）"
      ],
      "metadata": {
        "colab": {
          "base_uri": "https://localhost:8080/"
        },
        "id": "NbCpaYGpm4Im",
        "outputId": "a6272b4f-36f2-4961-fef4-719dcf8a730e"
      },
      "execution_count": null,
      "outputs": [
        {
          "output_type": "stream",
          "name": "stderr",
          "text": [
            "/usr/local/lib/python3.10/dist-packages/sklearn/datasets/_openml.py:968: FutureWarning: The default value of `parser` will change from `'liac-arff'` to `'auto'` in 1.4. You can set `parser='auto'` to silence this warning. Therefore, an `ImportError` will be raised from 1.4 if the dataset is dense and pandas is not installed. Note that the pandas parser may return different data types. See the Notes Section in fetch_openml's API doc for details.\n",
            "  warn(\n",
            "<ipython-input-2-b15dfc9397c0>:25: FutureWarning: The default value of numeric_only in DataFrameGroupBy.median is deprecated. In a future version, numeric_only will default to False. Either specify numeric_only or select only columns which should be valid for the function.\n",
            "  platform_neighbourhood_dict = df.groupby(\"Neighborhood\").median()[\"LotFrontage\"].to_dict()\n"
          ]
        }
      ]
    },
    {
      "cell_type": "code",
      "source": [
        "# 欠損値の数を計算\n",
        "chk_null3 = df.isnull().sum()\n",
        "\n",
        "# 欠損値の割合を計算\n",
        "chk_null_pct3 = chk_null3 / (df.index.max() + 1)\n",
        "\n",
        "# 欠損値の数と割合がゼロでない列を抽出し、欠損値テーブルを作成\n",
        "chk_null_tbl3 = pd.concat([chk_null3[chk_null3 > 0], chk_null_pct3[chk_null_pct3 > 0]], axis=1)\n",
        "\n",
        "# 欠損値の割合を基準にテーブルを降順でソートし、列名を変更\n",
        "chk_null_tbl_end = chk_null_tbl3.sort_values(by=1, ascending=False).rename(columns={0: \"欠損レコード数\", 1: \"欠損割合\"})\n",
        "chk_null_tbl_end"
      ],
      "metadata": {
        "colab": {
          "base_uri": "https://localhost:8080/",
          "height": 53
        },
        "id": "Ya7JsxQav8Dg",
        "outputId": "94e2d75e-557b-471b-eb5f-f5a34ec03522"
      },
      "execution_count": null,
      "outputs": [
        {
          "output_type": "execute_result",
          "data": {
            "text/plain": [
              "Empty DataFrame\n",
              "Columns: [欠損レコード数, 欠損割合]\n",
              "Index: []"
            ],
            "text/html": [
              "\n",
              "  <div id=\"df-d486226b-5012-44fd-8cd2-43f58f79f390\" class=\"colab-df-container\">\n",
              "    <div>\n",
              "<style scoped>\n",
              "    .dataframe tbody tr th:only-of-type {\n",
              "        vertical-align: middle;\n",
              "    }\n",
              "\n",
              "    .dataframe tbody tr th {\n",
              "        vertical-align: top;\n",
              "    }\n",
              "\n",
              "    .dataframe thead th {\n",
              "        text-align: right;\n",
              "    }\n",
              "</style>\n",
              "<table border=\"1\" class=\"dataframe\">\n",
              "  <thead>\n",
              "    <tr style=\"text-align: right;\">\n",
              "      <th></th>\n",
              "      <th>欠損レコード数</th>\n",
              "      <th>欠損割合</th>\n",
              "    </tr>\n",
              "  </thead>\n",
              "  <tbody>\n",
              "  </tbody>\n",
              "</table>\n",
              "</div>\n",
              "    <div class=\"colab-df-buttons\">\n",
              "\n",
              "  <div class=\"colab-df-container\">\n",
              "    <button class=\"colab-df-convert\" onclick=\"convertToInteractive('df-d486226b-5012-44fd-8cd2-43f58f79f390')\"\n",
              "            title=\"Convert this dataframe to an interactive table.\"\n",
              "            style=\"display:none;\">\n",
              "\n",
              "  <svg xmlns=\"http://www.w3.org/2000/svg\" height=\"24px\" viewBox=\"0 -960 960 960\">\n",
              "    <path d=\"M120-120v-720h720v720H120Zm60-500h600v-160H180v160Zm220 220h160v-160H400v160Zm0 220h160v-160H400v160ZM180-400h160v-160H180v160Zm440 0h160v-160H620v160ZM180-180h160v-160H180v160Zm440 0h160v-160H620v160Z\"/>\n",
              "  </svg>\n",
              "    </button>\n",
              "\n",
              "  <style>\n",
              "    .colab-df-container {\n",
              "      display:flex;\n",
              "      gap: 12px;\n",
              "    }\n",
              "\n",
              "    .colab-df-convert {\n",
              "      background-color: #E8F0FE;\n",
              "      border: none;\n",
              "      border-radius: 50%;\n",
              "      cursor: pointer;\n",
              "      display: none;\n",
              "      fill: #1967D2;\n",
              "      height: 32px;\n",
              "      padding: 0 0 0 0;\n",
              "      width: 32px;\n",
              "    }\n",
              "\n",
              "    .colab-df-convert:hover {\n",
              "      background-color: #E2EBFA;\n",
              "      box-shadow: 0px 1px 2px rgba(60, 64, 67, 0.3), 0px 1px 3px 1px rgba(60, 64, 67, 0.15);\n",
              "      fill: #174EA6;\n",
              "    }\n",
              "\n",
              "    .colab-df-buttons div {\n",
              "      margin-bottom: 4px;\n",
              "    }\n",
              "\n",
              "    [theme=dark] .colab-df-convert {\n",
              "      background-color: #3B4455;\n",
              "      fill: #D2E3FC;\n",
              "    }\n",
              "\n",
              "    [theme=dark] .colab-df-convert:hover {\n",
              "      background-color: #434B5C;\n",
              "      box-shadow: 0px 1px 3px 1px rgba(0, 0, 0, 0.15);\n",
              "      filter: drop-shadow(0px 1px 2px rgba(0, 0, 0, 0.3));\n",
              "      fill: #FFFFFF;\n",
              "    }\n",
              "  </style>\n",
              "\n",
              "    <script>\n",
              "      const buttonEl =\n",
              "        document.querySelector('#df-d486226b-5012-44fd-8cd2-43f58f79f390 button.colab-df-convert');\n",
              "      buttonEl.style.display =\n",
              "        google.colab.kernel.accessAllowed ? 'block' : 'none';\n",
              "\n",
              "      async function convertToInteractive(key) {\n",
              "        const element = document.querySelector('#df-d486226b-5012-44fd-8cd2-43f58f79f390');\n",
              "        const dataTable =\n",
              "          await google.colab.kernel.invokeFunction('convertToInteractive',\n",
              "                                                    [key], {});\n",
              "        if (!dataTable) return;\n",
              "\n",
              "        const docLinkHtml = 'Like what you see? Visit the ' +\n",
              "          '<a target=\"_blank\" href=https://colab.research.google.com/notebooks/data_table.ipynb>data table notebook</a>'\n",
              "          + ' to learn more about interactive tables.';\n",
              "        element.innerHTML = '';\n",
              "        dataTable['output_type'] = 'display_data';\n",
              "        await google.colab.output.renderOutput(dataTable, element);\n",
              "        const docLink = document.createElement('div');\n",
              "        docLink.innerHTML = docLinkHtml;\n",
              "        element.appendChild(docLink);\n",
              "      }\n",
              "    </script>\n",
              "  </div>\n",
              "\n",
              "    </div>\n",
              "  </div>\n"
            ]
          },
          "metadata": {},
          "execution_count": 3
        }
      ]
    },
    {
      "cell_type": "markdown",
      "source": [
        "すべての欠損値を埋めることができました。"
      ],
      "metadata": {
        "id": "OhNj-R3ZwArB"
      }
    },
    {
      "cell_type": "markdown",
      "source": [
        "## カテゴリ変数のダミー変数化"
      ],
      "metadata": {
        "id": "HTJZYStz8h2u"
      }
    },
    {
      "cell_type": "markdown",
      "source": [
        "すべてのカテゴリ変数をダミー変数化してみます。  \n",
        "カラム数を比較してみましょう。"
      ],
      "metadata": {
        "id": "pfOhyN_Y_NvQ"
      }
    },
    {
      "cell_type": "code",
      "source": [
        "print(f\"ダミー変数化前のカラム数：{len(df.columns)}\")\n",
        "df_dummies = pd.get_dummies(df, drop_first=True)\n",
        "print(f\"ダミー変数化後のカラム数：{len(df_dummies.columns)}\")"
      ],
      "metadata": {
        "colab": {
          "base_uri": "https://localhost:8080/"
        },
        "id": "YFqrAhO27KHF",
        "outputId": "ca6f2740-30d9-48de-b2dd-6ad2aeb1c1cb"
      },
      "execution_count": null,
      "outputs": [
        {
          "output_type": "stream",
          "name": "stdout",
          "text": [
            "ダミー変数化前のカラム数：81\n",
            "ダミー変数化後のカラム数：552\n"
          ]
        }
      ]
    },
    {
      "cell_type": "markdown",
      "source": [
        "カラム数が大幅に増加しました。"
      ],
      "metadata": {
        "id": "iFN8iKJrAnX-"
      }
    },
    {
      "cell_type": "markdown",
      "source": [
        "今回は特に、**住居基礎の種類**（ブリックタイル、軽量コンクリートブロックなど）を意味する  \n",
        "**\"Foundation\"**カラムに注目します。"
      ],
      "metadata": {
        "id": "nBU4yA0KA3ix"
      }
    },
    {
      "cell_type": "code",
      "source": [
        "df[\"Foundation\"].value_counts()"
      ],
      "metadata": {
        "colab": {
          "base_uri": "https://localhost:8080/"
        },
        "id": "SzOIn0uR-iqN",
        "outputId": "8fc1572e-05e3-4a57-d860-0a07b9b5446c"
      },
      "execution_count": null,
      "outputs": [
        {
          "output_type": "execute_result",
          "data": {
            "text/plain": [
              "PConc     647\n",
              "CBlock    634\n",
              "BrkTil    146\n",
              "Slab       24\n",
              "Stone       6\n",
              "Wood        3\n",
              "Name: Foundation, dtype: int64"
            ]
          },
          "metadata": {},
          "execution_count": 5
        }
      ]
    },
    {
      "cell_type": "markdown",
      "source": [
        "ユニークな値が6つあるようです。\n",
        "\n",
        "ダミー変数化後、どのようなカラムができたのか確認してみましょう。"
      ],
      "metadata": {
        "id": "CGaCxw-nBsjf"
      }
    },
    {
      "cell_type": "code",
      "source": [
        "# \"Foundation\"から始まるカラム名を取得\n",
        "foundation_columns = [col for col in df_dummies.columns if col.startswith('Foundation')]\n",
        "\n",
        "# 結果を表示\n",
        "print(foundation_columns)"
      ],
      "metadata": {
        "colab": {
          "base_uri": "https://localhost:8080/"
        },
        "id": "EZFUxOr1B-Ge",
        "outputId": "954a0cbd-faa4-412f-80e4-e40ebaba22f2"
      },
      "execution_count": null,
      "outputs": [
        {
          "output_type": "stream",
          "name": "stdout",
          "text": [
            "['Foundation_CBlock', 'Foundation_PConc', 'Foundation_Slab', 'Foundation_Stone', 'Foundation_Wood']\n"
          ]
        }
      ]
    },
    {
      "cell_type": "markdown",
      "source": [
        "ダミー変数トラップ（参考：[こちら](https://datawokagaku.com/one_hot_encoding/#i-2)）の影響で、カラム数が5つとなっています。\n",
        "\n",
        "5つのカラム全ての値が0のデータは、\"Foundation\"カラムの値が\"BrkTil\"となります。"
      ],
      "metadata": {
        "id": "K0e9afetCo62"
      }
    },
    {
      "cell_type": "markdown",
      "source": [
        "## そのほかのデータの加工"
      ],
      "metadata": {
        "id": "S12o54L5nU5B"
      }
    },
    {
      "cell_type": "markdown",
      "source": [
        "ヒノマルクさんの記事群(リンクは[こちら](https://www.hinomaruc.com/tag/ames/?order=asc))にもありますが、  \n",
        "ほかにも以下のような加工をすることで、モデルの精度向上が期待できます。\n",
        "\n"
      ],
      "metadata": {
        "id": "oNs-YHQqnhQJ"
      }
    },
    {
      "cell_type": "markdown",
      "source": [
        "- 外れ値処理\n",
        "\n",
        "  - 外れ値かどうかを判断して除外するかどうかを検討する。\n",
        "\n",
        "- 特徴量エンジニアリング\n",
        "\n",
        "  - 新しい意味を持つ変数を作成する。\n",
        "  - より説明力がある変数が作成できたり、変数の数を減らせる可能性がある。\n",
        "  \n",
        "- 変数選択\n",
        "\n",
        "  - モデリングに必要なさそうな変数は除外する。\n",
        "  - 計算量を減らせたり多重共線性を防げる可能性がある。"
      ],
      "metadata": {
        "id": "vGiFbUrfnWyZ"
      }
    },
    {
      "cell_type": "markdown",
      "source": [
        "ヒノマルクさんの[こちら](https://www.hinomaruc.com/ames-dataset-analytics-3-1/)の記事を参考にしました。"
      ],
      "metadata": {
        "id": "1f5sMx8ypRVd"
      }
    },
    {
      "cell_type": "markdown",
      "source": [
        "## 住宅価格を重回帰分析で予測"
      ],
      "metadata": {
        "id": "AK-HydOnpue1"
      }
    },
    {
      "cell_type": "markdown",
      "source": [
        "いよいよ住宅価格の予測に入ります。"
      ],
      "metadata": {
        "id": "ml-hZokBp3yG"
      }
    },
    {
      "cell_type": "markdown",
      "source": [
        "### 変数の選択"
      ],
      "metadata": {
        "id": "cQzIBa5BqAfj"
      }
    },
    {
      "cell_type": "markdown",
      "source": [
        "\"SalePrice\"カラム（住宅価格）とほかのカラムの相関係数を求めます。\n",
        "\n",
        "相関係数が高かったカラムを重回帰分析に使うカラムとして採用します。"
      ],
      "metadata": {
        "id": "qhDVXeISqJ38"
      }
    },
    {
      "cell_type": "code",
      "source": [
        "# 相関行列の計算\n",
        "correlation = df_dummies.corr()\n",
        "\n",
        "# SalePriceとの相関係数の降順にソート\n",
        "price_corr = correlation['SalePrice'].sort_values(ascending=False)\n",
        "\n",
        "# 相関係数の表示\n",
        "pd.DataFrame(price_corr).head(10)"
      ],
      "metadata": {
        "colab": {
          "base_uri": "https://localhost:8080/",
          "height": 363
        },
        "id": "rJ1qHsYOX1Eq",
        "outputId": "4e759c7d-5f1d-4ae5-e861-9f6e9d083232"
      },
      "execution_count": null,
      "outputs": [
        {
          "output_type": "execute_result",
          "data": {
            "text/plain": [
              "                  SalePrice\n",
              "SalePrice          1.000000\n",
              "OverallQual        0.790982\n",
              "GrLivArea          0.708624\n",
              "GarageCars         0.640409\n",
              "GarageArea         0.623431\n",
              "TotalBsmtSF        0.613581\n",
              "1stFlrSF           0.605852\n",
              "FullBath           0.560664\n",
              "TotRmsAbvGrd       0.533723\n",
              "Foundation_PConc   0.497734"
            ],
            "text/html": [
              "\n",
              "  <div id=\"df-e0e8d0b8-f332-487a-8fe3-3dc9fc7820c9\" class=\"colab-df-container\">\n",
              "    <div>\n",
              "<style scoped>\n",
              "    .dataframe tbody tr th:only-of-type {\n",
              "        vertical-align: middle;\n",
              "    }\n",
              "\n",
              "    .dataframe tbody tr th {\n",
              "        vertical-align: top;\n",
              "    }\n",
              "\n",
              "    .dataframe thead th {\n",
              "        text-align: right;\n",
              "    }\n",
              "</style>\n",
              "<table border=\"1\" class=\"dataframe\">\n",
              "  <thead>\n",
              "    <tr style=\"text-align: right;\">\n",
              "      <th></th>\n",
              "      <th>SalePrice</th>\n",
              "    </tr>\n",
              "  </thead>\n",
              "  <tbody>\n",
              "    <tr>\n",
              "      <th>SalePrice</th>\n",
              "      <td>1.000000</td>\n",
              "    </tr>\n",
              "    <tr>\n",
              "      <th>OverallQual</th>\n",
              "      <td>0.790982</td>\n",
              "    </tr>\n",
              "    <tr>\n",
              "      <th>GrLivArea</th>\n",
              "      <td>0.708624</td>\n",
              "    </tr>\n",
              "    <tr>\n",
              "      <th>GarageCars</th>\n",
              "      <td>0.640409</td>\n",
              "    </tr>\n",
              "    <tr>\n",
              "      <th>GarageArea</th>\n",
              "      <td>0.623431</td>\n",
              "    </tr>\n",
              "    <tr>\n",
              "      <th>TotalBsmtSF</th>\n",
              "      <td>0.613581</td>\n",
              "    </tr>\n",
              "    <tr>\n",
              "      <th>1stFlrSF</th>\n",
              "      <td>0.605852</td>\n",
              "    </tr>\n",
              "    <tr>\n",
              "      <th>FullBath</th>\n",
              "      <td>0.560664</td>\n",
              "    </tr>\n",
              "    <tr>\n",
              "      <th>TotRmsAbvGrd</th>\n",
              "      <td>0.533723</td>\n",
              "    </tr>\n",
              "    <tr>\n",
              "      <th>Foundation_PConc</th>\n",
              "      <td>0.497734</td>\n",
              "    </tr>\n",
              "  </tbody>\n",
              "</table>\n",
              "</div>\n",
              "    <div class=\"colab-df-buttons\">\n",
              "\n",
              "  <div class=\"colab-df-container\">\n",
              "    <button class=\"colab-df-convert\" onclick=\"convertToInteractive('df-e0e8d0b8-f332-487a-8fe3-3dc9fc7820c9')\"\n",
              "            title=\"Convert this dataframe to an interactive table.\"\n",
              "            style=\"display:none;\">\n",
              "\n",
              "  <svg xmlns=\"http://www.w3.org/2000/svg\" height=\"24px\" viewBox=\"0 -960 960 960\">\n",
              "    <path d=\"M120-120v-720h720v720H120Zm60-500h600v-160H180v160Zm220 220h160v-160H400v160Zm0 220h160v-160H400v160ZM180-400h160v-160H180v160Zm440 0h160v-160H620v160ZM180-180h160v-160H180v160Zm440 0h160v-160H620v160Z\"/>\n",
              "  </svg>\n",
              "    </button>\n",
              "\n",
              "  <style>\n",
              "    .colab-df-container {\n",
              "      display:flex;\n",
              "      gap: 12px;\n",
              "    }\n",
              "\n",
              "    .colab-df-convert {\n",
              "      background-color: #E8F0FE;\n",
              "      border: none;\n",
              "      border-radius: 50%;\n",
              "      cursor: pointer;\n",
              "      display: none;\n",
              "      fill: #1967D2;\n",
              "      height: 32px;\n",
              "      padding: 0 0 0 0;\n",
              "      width: 32px;\n",
              "    }\n",
              "\n",
              "    .colab-df-convert:hover {\n",
              "      background-color: #E2EBFA;\n",
              "      box-shadow: 0px 1px 2px rgba(60, 64, 67, 0.3), 0px 1px 3px 1px rgba(60, 64, 67, 0.15);\n",
              "      fill: #174EA6;\n",
              "    }\n",
              "\n",
              "    .colab-df-buttons div {\n",
              "      margin-bottom: 4px;\n",
              "    }\n",
              "\n",
              "    [theme=dark] .colab-df-convert {\n",
              "      background-color: #3B4455;\n",
              "      fill: #D2E3FC;\n",
              "    }\n",
              "\n",
              "    [theme=dark] .colab-df-convert:hover {\n",
              "      background-color: #434B5C;\n",
              "      box-shadow: 0px 1px 3px 1px rgba(0, 0, 0, 0.15);\n",
              "      filter: drop-shadow(0px 1px 2px rgba(0, 0, 0, 0.3));\n",
              "      fill: #FFFFFF;\n",
              "    }\n",
              "  </style>\n",
              "\n",
              "    <script>\n",
              "      const buttonEl =\n",
              "        document.querySelector('#df-e0e8d0b8-f332-487a-8fe3-3dc9fc7820c9 button.colab-df-convert');\n",
              "      buttonEl.style.display =\n",
              "        google.colab.kernel.accessAllowed ? 'block' : 'none';\n",
              "\n",
              "      async function convertToInteractive(key) {\n",
              "        const element = document.querySelector('#df-e0e8d0b8-f332-487a-8fe3-3dc9fc7820c9');\n",
              "        const dataTable =\n",
              "          await google.colab.kernel.invokeFunction('convertToInteractive',\n",
              "                                                    [key], {});\n",
              "        if (!dataTable) return;\n",
              "\n",
              "        const docLinkHtml = 'Like what you see? Visit the ' +\n",
              "          '<a target=\"_blank\" href=https://colab.research.google.com/notebooks/data_table.ipynb>data table notebook</a>'\n",
              "          + ' to learn more about interactive tables.';\n",
              "        element.innerHTML = '';\n",
              "        dataTable['output_type'] = 'display_data';\n",
              "        await google.colab.output.renderOutput(dataTable, element);\n",
              "        const docLink = document.createElement('div');\n",
              "        docLink.innerHTML = docLinkHtml;\n",
              "        element.appendChild(docLink);\n",
              "      }\n",
              "    </script>\n",
              "  </div>\n",
              "\n",
              "\n",
              "<div id=\"df-5a9737aa-9aff-40e3-b651-8795c7d0e683\">\n",
              "  <button class=\"colab-df-quickchart\" onclick=\"quickchart('df-5a9737aa-9aff-40e3-b651-8795c7d0e683')\"\n",
              "            title=\"Suggest charts.\"\n",
              "            style=\"display:none;\">\n",
              "\n",
              "<svg xmlns=\"http://www.w3.org/2000/svg\" height=\"24px\"viewBox=\"0 0 24 24\"\n",
              "     width=\"24px\">\n",
              "    <g>\n",
              "        <path d=\"M19 3H5c-1.1 0-2 .9-2 2v14c0 1.1.9 2 2 2h14c1.1 0 2-.9 2-2V5c0-1.1-.9-2-2-2zM9 17H7v-7h2v7zm4 0h-2V7h2v10zm4 0h-2v-4h2v4z\"/>\n",
              "    </g>\n",
              "</svg>\n",
              "  </button>\n",
              "\n",
              "<style>\n",
              "  .colab-df-quickchart {\n",
              "      --bg-color: #E8F0FE;\n",
              "      --fill-color: #1967D2;\n",
              "      --hover-bg-color: #E2EBFA;\n",
              "      --hover-fill-color: #174EA6;\n",
              "      --disabled-fill-color: #AAA;\n",
              "      --disabled-bg-color: #DDD;\n",
              "  }\n",
              "\n",
              "  [theme=dark] .colab-df-quickchart {\n",
              "      --bg-color: #3B4455;\n",
              "      --fill-color: #D2E3FC;\n",
              "      --hover-bg-color: #434B5C;\n",
              "      --hover-fill-color: #FFFFFF;\n",
              "      --disabled-bg-color: #3B4455;\n",
              "      --disabled-fill-color: #666;\n",
              "  }\n",
              "\n",
              "  .colab-df-quickchart {\n",
              "    background-color: var(--bg-color);\n",
              "    border: none;\n",
              "    border-radius: 50%;\n",
              "    cursor: pointer;\n",
              "    display: none;\n",
              "    fill: var(--fill-color);\n",
              "    height: 32px;\n",
              "    padding: 0;\n",
              "    width: 32px;\n",
              "  }\n",
              "\n",
              "  .colab-df-quickchart:hover {\n",
              "    background-color: var(--hover-bg-color);\n",
              "    box-shadow: 0 1px 2px rgba(60, 64, 67, 0.3), 0 1px 3px 1px rgba(60, 64, 67, 0.15);\n",
              "    fill: var(--button-hover-fill-color);\n",
              "  }\n",
              "\n",
              "  .colab-df-quickchart-complete:disabled,\n",
              "  .colab-df-quickchart-complete:disabled:hover {\n",
              "    background-color: var(--disabled-bg-color);\n",
              "    fill: var(--disabled-fill-color);\n",
              "    box-shadow: none;\n",
              "  }\n",
              "\n",
              "  .colab-df-spinner {\n",
              "    border: 2px solid var(--fill-color);\n",
              "    border-color: transparent;\n",
              "    border-bottom-color: var(--fill-color);\n",
              "    animation:\n",
              "      spin 1s steps(1) infinite;\n",
              "  }\n",
              "\n",
              "  @keyframes spin {\n",
              "    0% {\n",
              "      border-color: transparent;\n",
              "      border-bottom-color: var(--fill-color);\n",
              "      border-left-color: var(--fill-color);\n",
              "    }\n",
              "    20% {\n",
              "      border-color: transparent;\n",
              "      border-left-color: var(--fill-color);\n",
              "      border-top-color: var(--fill-color);\n",
              "    }\n",
              "    30% {\n",
              "      border-color: transparent;\n",
              "      border-left-color: var(--fill-color);\n",
              "      border-top-color: var(--fill-color);\n",
              "      border-right-color: var(--fill-color);\n",
              "    }\n",
              "    40% {\n",
              "      border-color: transparent;\n",
              "      border-right-color: var(--fill-color);\n",
              "      border-top-color: var(--fill-color);\n",
              "    }\n",
              "    60% {\n",
              "      border-color: transparent;\n",
              "      border-right-color: var(--fill-color);\n",
              "    }\n",
              "    80% {\n",
              "      border-color: transparent;\n",
              "      border-right-color: var(--fill-color);\n",
              "      border-bottom-color: var(--fill-color);\n",
              "    }\n",
              "    90% {\n",
              "      border-color: transparent;\n",
              "      border-bottom-color: var(--fill-color);\n",
              "    }\n",
              "  }\n",
              "</style>\n",
              "\n",
              "  <script>\n",
              "    async function quickchart(key) {\n",
              "      const quickchartButtonEl =\n",
              "        document.querySelector('#' + key + ' button');\n",
              "      quickchartButtonEl.disabled = true;  // To prevent multiple clicks.\n",
              "      quickchartButtonEl.classList.add('colab-df-spinner');\n",
              "      try {\n",
              "        const charts = await google.colab.kernel.invokeFunction(\n",
              "            'suggestCharts', [key], {});\n",
              "      } catch (error) {\n",
              "        console.error('Error during call to suggestCharts:', error);\n",
              "      }\n",
              "      quickchartButtonEl.classList.remove('colab-df-spinner');\n",
              "      quickchartButtonEl.classList.add('colab-df-quickchart-complete');\n",
              "    }\n",
              "    (() => {\n",
              "      let quickchartButtonEl =\n",
              "        document.querySelector('#df-5a9737aa-9aff-40e3-b651-8795c7d0e683 button');\n",
              "      quickchartButtonEl.style.display =\n",
              "        google.colab.kernel.accessAllowed ? 'block' : 'none';\n",
              "    })();\n",
              "  </script>\n",
              "</div>\n",
              "    </div>\n",
              "  </div>\n"
            ]
          },
          "metadata": {},
          "execution_count": 7
        }
      ]
    },
    {
      "cell_type": "markdown",
      "source": [
        "ここでは、相関係数の高かった以下の10つのカラムを  \n",
        "**説明変数**として採用することにします。"
      ],
      "metadata": {
        "id": "xvx6HNKXs4f3"
      }
    },
    {
      "cell_type": "code",
      "source": [
        "# \"SalePrice\"と相関係数の高かったカラム\n",
        "columns = [\n",
        "    \"SalePrice\",  # 住宅価格\n",
        "    \"OverallQual\",  #  住居の品質\n",
        "    \"GrLivArea\",  # 地上全ての住宅面積\n",
        "    \"GarageCars\",  # ガレージへの駐車可能台数\n",
        "    \"GarageArea\",  # 地上全ての住宅面積（地下室は除く）\n",
        "    \"TotalBsmtSF\",  # 全地下室の面積\n",
        "    \"1stFlrSF\",  # 1Fの面積\n",
        "    \"FullBath\",  # フル・バスルームの数（地下室は除く）\n",
        "    \"TotRmsAbvGrd\",  # 総部屋数 (バスルーム、地下室は除く))\n",
        "    \"Foundation_PConc\"  # 住居基礎の種類が\"Pconc\"かどうか\n",
        "]\n",
        "\n",
        "new_df = df_dummies[columns]"
      ],
      "metadata": {
        "id": "nJmu1oVss_gn"
      },
      "execution_count": null,
      "outputs": []
    },
    {
      "cell_type": "markdown",
      "source": [
        "では、相関表のヒートマップを見てみましょう。"
      ],
      "metadata": {
        "id": "9_lRvT54tgcm"
      }
    },
    {
      "cell_type": "code",
      "source": [
        "sns.heatmap(new_df.corr(), annot=True, cmap='YlGnBu', linewidths=0.5)"
      ],
      "metadata": {
        "id": "fZNATBZPtq62",
        "colab": {
          "base_uri": "https://localhost:8080/",
          "height": 566
        },
        "outputId": "8d9a5798-45e0-46da-e6ce-b77bddaf3f9b"
      },
      "execution_count": null,
      "outputs": [
        {
          "output_type": "execute_result",
          "data": {
            "text/plain": [
              "<Axes: >"
            ]
          },
          "metadata": {},
          "execution_count": 9
        },
        {
          "output_type": "display_data",
          "data": {
            "text/plain": [
              "<Figure size 640x480 with 2 Axes>"
            ],
            "image/png": "[encoded data removed]"
          },
          "metadata": {}
        }
      ]
    },
    {
      "cell_type": "markdown",
      "source": [
        "多重共線性を考慮して、カラムをさらに絞ります。\n",
        "\n",
        "ここで、相関が高くなってしまっている説明変数のペアのうち、  \n",
        "目的変数\"SalePrice\"との相関がより高い説明変数を残すことにします。\n"
      ],
      "metadata": {
        "id": "6sPtyRiGxpQ-"
      }
    },
    {
      "cell_type": "code",
      "source": [
        "selected_columns = [\n",
        "    \"SalePrice\",  # 住宅価格\n",
        "    \"OverallQual\",  #  住居の品質\n",
        "    \"GrLivArea\",  # 地上全ての住宅面積\n",
        "    \"GarageCars\",  # ガレージへの駐車可能台数\n",
        "    \"TotalBsmtSF\",  # 全地下室の面積\n",
        "    \"FullBath\",  # フル・バスルームの数（地下室は除く）\n",
        "    \"Foundation_PConc\"  # 住居基礎の種類が\"Pconc\"かどうか\n",
        "]\n",
        "\n",
        "new_df = df_dummies[selected_columns]"
      ],
      "metadata": {
        "id": "hua6SQ0nx_ma"
      },
      "execution_count": null,
      "outputs": []
    },
    {
      "cell_type": "markdown",
      "source": [
        "では、相関表のヒートマップを見てみましょう。"
      ],
      "metadata": {
        "id": "Mt0AMwLYzYvL"
      }
    },
    {
      "cell_type": "code",
      "source": [
        "sns.heatmap(new_df.corr(), annot=True, cmap='YlGnBu', linewidths=0.5)"
      ],
      "metadata": {
        "id": "rjdtT0NkzYvO",
        "colab": {
          "base_uri": "https://localhost:8080/",
          "height": 566
        },
        "outputId": "1f22c1cd-4cb1-4fe0-adf6-efb6e41523af"
      },
      "execution_count": null,
      "outputs": [
        {
          "output_type": "execute_result",
          "data": {
            "text/plain": [
              "<Axes: >"
            ]
          },
          "metadata": {},
          "execution_count": 11
        },
        {
          "output_type": "display_data",
          "data": {
            "text/plain": [
              "<Figure size 640x480 with 2 Axes>"
            ],
            "image/png": "[encoded data removed]"
          },
          "metadata": {}
        }
      ]
    },
    {
      "cell_type": "markdown",
      "source": [
        "### 学習"
      ],
      "metadata": {
        "id": "zA5ZdanROCGY"
      }
    },
    {
      "cell_type": "markdown",
      "source": [
        "データを訓練用とテスト用に分けて、学習を行います。"
      ],
      "metadata": {
        "id": "wg1LD1i6MT6S"
      }
    },
    {
      "cell_type": "code",
      "source": [
        "# 目的変数に\"SalePrice\"、説明変数にそれ以外の6つのカラムを指定\n",
        "x = new_df.drop('SalePrice', axis=1)\n",
        "y = new_df['SalePrice']\n",
        "\n",
        "# データを訓練データとテストデータに分ける\n",
        "x_train, x_test, y_train, y_test = train_test_split(x, y, test_size=0.3, random_state=0)\n",
        "\n",
        "# 説明変数のデータを標準化\n",
        "from sklearn.preprocessing import StandardScaler\n",
        "scaler = StandardScaler()\n",
        "scaler.fit(x_train)\n",
        "x_train_scaled = scaler.transform(x_train)\n",
        "\n",
        "# モデルの初期化と学習\n",
        "model = LinearRegression()\n",
        "model.fit(x_train_scaled, y_train)"
      ],
      "metadata": {
        "colab": {
          "base_uri": "https://localhost:8080/",
          "height": 75
        },
        "id": "HUnad6kKGfhg",
        "outputId": "57fbc02c-054e-471c-c9dc-cf741449d3cf"
      },
      "execution_count": null,
      "outputs": [
        {
          "output_type": "execute_result",
          "data": {
            "text/plain": [
              "LinearRegression()"
            ],
            "text/html": [
              "<style>#sk-container-id-1 {color: black;background-color: white;}#sk-container-id-1 pre{padding: 0;}#sk-container-id-1 div.sk-toggleable {background-color: white;}#sk-container-id-1 label.sk-toggleable__label {cursor: pointer;display: block;width: 100%;margin-bottom: 0;padding: 0.3em;box-sizing: border-box;text-align: center;}#sk-container-id-1 label.sk-toggleable__label-arrow:before {content: \"▸\";float: left;margin-right: 0.25em;color: #696969;}#sk-container-id-1 label.sk-toggleable__label-arrow:hover:before {color: black;}#sk-container-id-1 div.sk-estimator:hover label.sk-toggleable__label-arrow:before {color: black;}#sk-container-id-1 div.sk-toggleable__content {max-height: 0;max-width: 0;overflow: hidden;text-align: left;background-color: #f0f8ff;}#sk-container-id-1 div.sk-toggleable__content pre {margin: 0.2em;color: black;border-radius: 0.25em;background-color: #f0f8ff;}#sk-container-id-1 input.sk-toggleable__control:checked~div.sk-toggleable__content {max-height: 200px;max-width: 100%;overflow: auto;}#sk-container-id-1 input.sk-toggleable__control:checked~label.sk-toggleable__label-arrow:before {content: \"▾\";}#sk-container-id-1 div.sk-estimator input.sk-toggleable__control:checked~label.sk-toggleable__label {background-color: #d4ebff;}#sk-container-id-1 div.sk-label input.sk-toggleable__control:checked~label.sk-toggleable__label {background-color: #d4ebff;}#sk-container-id-1 input.sk-hidden--visually {border: 0;clip: rect(1px 1px 1px 1px);clip: rect(1px, 1px, 1px, 1px);height: 1px;margin: -1px;overflow: hidden;padding: 0;position: absolute;width: 1px;}#sk-container-id-1 div.sk-estimator {font-family: monospace;background-color: #f0f8ff;border: 1px dotted black;border-radius: 0.25em;box-sizing: border-box;margin-bottom: 0.5em;}#sk-container-id-1 div.sk-estimator:hover {background-color: #d4ebff;}#sk-container-id-1 div.sk-parallel-item::after {content: \"\";width: 100%;border-bottom: 1px solid gray;flex-grow: 1;}#sk-container-id-1 div.sk-label:hover label.sk-toggleable__label {background-color: #d4ebff;}#sk-container-id-1 div.sk-serial::before {content: \"\";position: absolute;border-left: 1px solid gray;box-sizing: border-box;top: 0;bottom: 0;left: 50%;z-index: 0;}#sk-container-id-1 div.sk-serial {display: flex;flex-direction: column;align-items: center;background-color: white;padding-right: 0.2em;padding-left: 0.2em;position: relative;}#sk-container-id-1 div.sk-item {position: relative;z-index: 1;}#sk-container-id-1 div.sk-parallel {display: flex;align-items: stretch;justify-content: center;background-color: white;position: relative;}#sk-container-id-1 div.sk-item::before, #sk-container-id-1 div.sk-parallel-item::before {content: \"\";position: absolute;border-left: 1px solid gray;box-sizing: border-box;top: 0;bottom: 0;left: 50%;z-index: -1;}#sk-container-id-1 div.sk-parallel-item {display: flex;flex-direction: column;z-index: 1;position: relative;background-color: white;}#sk-container-id-1 div.sk-parallel-item:first-child::after {align-self: flex-end;width: 50%;}#sk-container-id-1 div.sk-parallel-item:last-child::after {align-self: flex-start;width: 50%;}#sk-container-id-1 div.sk-parallel-item:only-child::after {width: 0;}#sk-container-id-1 div.sk-dashed-wrapped {border: 1px dashed gray;margin: 0 0.4em 0.5em 0.4em;box-sizing: border-box;padding-bottom: 0.4em;background-color: white;}#sk-container-id-1 div.sk-label label {font-family: monospace;font-weight: bold;display: inline-block;line-height: 1.2em;}#sk-container-id-1 div.sk-label-container {text-align: center;}#sk-container-id-1 div.sk-container {/* jupyter's `normalize.less` sets `[hidden] { display: none; }` but bootstrap.min.css set `[hidden] { display: none !important; }` so we also need the `!important` here to be able to override the default hidden behavior on the sphinx rendered scikit-learn.org. See: https://github.com/scikit-learn/scikit-learn/issues/21755 */display: inline-block !important;position: relative;}#sk-container-id-1 div.sk-text-repr-fallback {display: none;}</style><div id=\"sk-container-id-1\" class=\"sk-top-container\"><div class=\"sk-text-repr-fallback\"><pre>LinearRegression()</pre><b>In a Jupyter environment, please rerun this cell to show the HTML representation or trust the notebook. <br />On GitHub, the HTML representation is unable to render, please try loading this page with nbviewer.org.</b></div><div class=\"sk-container\" hidden><div class=\"sk-item\"><div class=\"sk-estimator sk-toggleable\"><input class=\"sk-toggleable__control sk-hidden--visually\" id=\"sk-estimator-id-1\" type=\"checkbox\" checked><label for=\"sk-estimator-id-1\" class=\"sk-toggleable__label sk-toggleable__label-arrow\">LinearRegression</label><div class=\"sk-toggleable__content\"><pre>LinearRegression()</pre></div></div></div></div></div>"
            ]
          },
          "metadata": {},
          "execution_count": 12
        }
      ]
    },
    {
      "cell_type": "markdown",
      "source": [
        "最後に、パラメータを確認します。"
      ],
      "metadata": {
        "id": "VAxZQo0F5RoK"
      }
    },
    {
      "cell_type": "code",
      "source": [
        "# intercept  切片\n",
        "print(model.intercept_)"
      ],
      "metadata": {
        "id": "bMnmJOAV4ybJ",
        "colab": {
          "base_uri": "https://localhost:8080/"
        },
        "outputId": "19918fe4-5119-4ade-f399-ddf9d096237c"
      },
      "execution_count": null,
      "outputs": [
        {
          "output_type": "stream",
          "name": "stdout",
          "text": [
            "180586.22896281802\n"
          ]
        }
      ]
    },
    {
      "cell_type": "code",
      "source": [
        "# coefficient  係数\n",
        "print(pd.Series(model.coef_, index=x.columns))"
      ],
      "metadata": {
        "id": "9kNvrPSQ4vib",
        "colab": {
          "base_uri": "https://localhost:8080/"
        },
        "outputId": "085a9378-f863-43d6-da01-b9509bb2eb14"
      },
      "execution_count": null,
      "outputs": [
        {
          "output_type": "stream",
          "name": "stdout",
          "text": [
            "OverallQual         27345.958291\n",
            "GrLivArea           27331.031639\n",
            "GarageCars          11717.047776\n",
            "TotalBsmtSF         17234.160934\n",
            "FullBath            -1270.289694\n",
            "Foundation_PConc     4808.191542\n",
            "dtype: float64\n"
          ]
        }
      ]
    },
    {
      "cell_type": "markdown",
      "source": [
        "### 評価"
      ],
      "metadata": {
        "id": "1ig_f6C3OEXR"
      }
    },
    {
      "cell_type": "markdown",
      "source": [
        "最後に、決定係数を用いてモデルの精度を評価します。"
      ],
      "metadata": {
        "id": "cCxpH9HOMrKM"
      }
    },
    {
      "cell_type": "code",
      "source": [
        "# 学習データの平均と標準偏差を使って標準化する\n",
        "x_test_scaled = scaler.transform(x_test)\n",
        "\n",
        "print('訓練データに対する決定係数：', model.score(x_train_scaled, y_train))\n",
        "print('テストデータに対する決定係数：', model.score(x_test_scaled, y_test))"
      ],
      "metadata": {
        "colab": {
          "base_uri": "https://localhost:8080/"
        },
        "id": "VvN1iYRtGoqX",
        "outputId": "a0942d98-c722-41e8-a286-60bdedbb40ff"
      },
      "execution_count": null,
      "outputs": [
        {
          "output_type": "stream",
          "name": "stdout",
          "text": [
            "訓練データに対する決定係数： 0.7851883674202385\n",
            "テストデータに対する決定係数： 0.7077433338859396\n"
          ]
        }
      ]
    },
    {
      "cell_type": "markdown",
      "source": [
        "カテゴリ変数をダミー変数化する前（\"Foundation_PConc\"カラムを学習に使う前）では、  \n",
        "決定係数は以下のような結果となりました。\n",
        "\n",
        "![](https://imgur.com/S9fSGvO.png)"
      ],
      "metadata": {
        "id": "AS0rPNrcScok"
      }
    },
    {
      "cell_type": "markdown",
      "source": [
        "わずかですが、テストデータに対する決定係数が上がったことが確認できます。"
      ],
      "metadata": {
        "id": "3f1J5VJ3TLGz"
      }
    },
    {
      "cell_type": "markdown",
      "source": [
        "## 係数の仮説検定"
      ],
      "metadata": {
        "id": "pjuxzpxcOF0C"
      }
    },
    {
      "cell_type": "markdown",
      "source": [
        "以下の帰無仮説と対立仮説の元、係数の仮説検定を行います。\n",
        "\n",
        "$$\n",
        "t=\\frac{\\hat{\\theta_j}-0}{SE(\\hat{\\theta_j})}\n",
        "$$\n",
        "\n",
        "- 以下のt値が自由度$m−n−1$($m$:データ数，$n$:特徴量数)のt分布に従う\n",
        "- $\\hat{\\theta_j}$：線形回帰から得られた$j$番目の特徴量の係数\n",
        "- $SE(\\hat{\\theta_j})$：$\\hat{\\theta_j}$の標準誤差(standard error)\n",
        "\n"
      ],
      "metadata": {
        "id": "q0Wo7gRqOIYp"
      }
    },
    {
      "cell_type": "markdown",
      "source": [
        "帰無仮説：$\\theta_j=0$  \n",
        "対立仮説：$\\theta_j\\neq0$"
      ],
      "metadata": {
        "id": "_9jRFC4uRGml"
      }
    },
    {
      "cell_type": "code",
      "source": [
        "X = new_df.drop('SalePrice', axis=1)\n",
        "y = new_df['SalePrice']\n",
        "\n",
        "scaler = StandardScaler()\n",
        "X_scaled = scaler.fit_transform(X)\n",
        "X_scaled = sma.add_constant(X_scaled)\n",
        "est = sma.OLS(y, X_scaled)\n",
        "est_trained = est.fit()\n",
        "print(est_trained.summary())"
      ],
      "metadata": {
        "colab": {
          "base_uri": "https://localhost:8080/"
        },
        "id": "xzQjqnz-K2n6",
        "outputId": "181f4ccd-6752-42dd-bf71-3c61b35a3b17"
      },
      "execution_count": null,
      "outputs": [
        {
          "output_type": "stream",
          "name": "stdout",
          "text": [
            "                            OLS Regression Results                            \n",
            "==============================================================================\n",
            "Dep. Variable:              SalePrice   R-squared:                       0.763\n",
            "Model:                            OLS   Adj. R-squared:                  0.762\n",
            "Method:                 Least Squares   F-statistic:                     781.3\n",
            "Date:                Sun, 17 Sep 2023   Prob (F-statistic):               0.00\n",
            "Time:                        13:22:15   Log-Likelihood:                -17492.\n",
            "No. Observations:                1460   AIC:                         3.500e+04\n",
            "Df Residuals:                    1453   BIC:                         3.503e+04\n",
            "Df Model:                           6                                         \n",
            "Covariance Type:            nonrobust                                         \n",
            "==============================================================================\n",
            "                 coef    std err          t      P>|t|      [0.025      0.975]\n",
            "------------------------------------------------------------------------------\n",
            "const       1.809e+05   1013.410    178.527      0.000    1.79e+05    1.83e+05\n",
            "x1          3.006e+04   1618.206     18.578      0.000    2.69e+04    3.32e+04\n",
            "x2           2.49e+04   1473.955     16.892      0.000     2.2e+04    2.78e+04\n",
            "x3          1.299e+04   1330.056      9.763      0.000    1.04e+04    1.56e+04\n",
            "x4          1.424e+04   1242.467     11.464      0.000    1.18e+04    1.67e+04\n",
            "x5          -863.1323   1428.276     -0.604      0.546   -3664.836    1938.571\n",
            "x6          5283.4051   1299.725      4.065      0.000    2733.867    7832.943\n",
            "==============================================================================\n",
            "Omnibus:                      430.819   Durbin-Watson:                   1.969\n",
            "Prob(Omnibus):                  0.000   Jarque-Bera (JB):            40570.119\n",
            "Skew:                          -0.287   Prob(JB):                         0.00\n",
            "Kurtosis:                      28.818   Cond. No.                         3.53\n",
            "==============================================================================\n",
            "\n",
            "Notes:\n",
            "[1] Standard Errors assume that the covariance matrix of the errors is correctly specified.\n"
          ]
        }
      ]
    },
    {
      "cell_type": "markdown",
      "source": [
        "\"FullBath\"(=\"x5\")カラムのみ、p値が0.05を上回っているので、  \n",
        "帰無仮説を棄却することができません。\n",
        "\n",
        "そのため、\"FullBath\"の値は'SalePrice'の予測には不要であるということが分かりました。"
      ],
      "metadata": {
        "id": "xLpB22t_RhTP"
      }
    },
    {
      "cell_type": "markdown",
      "source": [
        "### 変数の選択"
      ],
      "metadata": {
        "id": "7al2qWooR9Bi"
      }
    },
    {
      "cell_type": "markdown",
      "source": [
        "係数の仮説検定の結果を踏まえて、\"FullBath\"カラムを除いた形で改めて学習を行います。"
      ],
      "metadata": {
        "id": "jHOz6TUuSAkC"
      }
    },
    {
      "cell_type": "code",
      "source": [
        "selected_columns = [\n",
        "    \"SalePrice\",  # 住宅価格\n",
        "    \"OverallQual\",  #  住居の品質\n",
        "    \"GrLivArea\",  # 地上全ての住宅面積\n",
        "    \"GarageCars\",  # ガレージへの駐車可能台数\n",
        "    \"TotalBsmtSF\",  # 全地下室の面積\n",
        "    \"Foundation_PConc\"  # 住居基礎の種類が\"Pconc\"かどうか\n",
        "]\n",
        "\n",
        "new_df2 = df_dummies[selected_columns]"
      ],
      "metadata": {
        "id": "aYoLppjHHs5n"
      },
      "execution_count": null,
      "outputs": []
    },
    {
      "cell_type": "markdown",
      "source": [
        "### 学習"
      ],
      "metadata": {
        "id": "hU28-hsNSNi0"
      }
    },
    {
      "cell_type": "code",
      "source": [
        "# 目的変数に\"SalePrice\"、説明変数にそれ以外の6つのカラムを指定\n",
        "x = new_df2.drop('SalePrice', axis=1)\n",
        "y = new_df2['SalePrice']\n",
        "\n",
        "# データを訓練データとテストデータに分ける\n",
        "x_train, x_test, y_train, y_test = train_test_split(x, y, test_size=0.3, random_state=0)\n",
        "\n",
        "# 説明変数のデータを標準化\n",
        "from sklearn.preprocessing import StandardScaler\n",
        "scaler = StandardScaler()\n",
        "scaler.fit(x_train)\n",
        "x_train_scaled = scaler.transform(x_train)\n",
        "\n",
        "# モデルの初期化と学習\n",
        "model = LinearRegression()\n",
        "model.fit(x_train_scaled, y_train)"
      ],
      "metadata": {
        "colab": {
          "base_uri": "https://localhost:8080/",
          "height": 75
        },
        "id": "3tuC5WOIH_pg",
        "outputId": "5d1dc22d-a417-48c9-f35f-0f2e0bee5235"
      },
      "execution_count": null,
      "outputs": [
        {
          "output_type": "execute_result",
          "data": {
            "text/plain": [
              "LinearRegression()"
            ],
            "text/html": [
              "<style>#sk-container-id-3 {color: black;background-color: white;}#sk-container-id-3 pre{padding: 0;}#sk-container-id-3 div.sk-toggleable {background-color: white;}#sk-container-id-3 label.sk-toggleable__label {cursor: pointer;display: block;width: 100%;margin-bottom: 0;padding: 0.3em;box-sizing: border-box;text-align: center;}#sk-container-id-3 label.sk-toggleable__label-arrow:before {content: \"▸\";float: left;margin-right: 0.25em;color: #696969;}#sk-container-id-3 label.sk-toggleable__label-arrow:hover:before {color: black;}#sk-container-id-3 div.sk-estimator:hover label.sk-toggleable__label-arrow:before {color: black;}#sk-container-id-3 div.sk-toggleable__content {max-height: 0;max-width: 0;overflow: hidden;text-align: left;background-color: #f0f8ff;}#sk-container-id-3 div.sk-toggleable__content pre {margin: 0.2em;color: black;border-radius: 0.25em;background-color: #f0f8ff;}#sk-container-id-3 input.sk-toggleable__control:checked~div.sk-toggleable__content {max-height: 200px;max-width: 100%;overflow: auto;}#sk-container-id-3 input.sk-toggleable__control:checked~label.sk-toggleable__label-arrow:before {content: \"▾\";}#sk-container-id-3 div.sk-estimator input.sk-toggleable__control:checked~label.sk-toggleable__label {background-color: #d4ebff;}#sk-container-id-3 div.sk-label input.sk-toggleable__control:checked~label.sk-toggleable__label {background-color: #d4ebff;}#sk-container-id-3 input.sk-hidden--visually {border: 0;clip: rect(1px 1px 1px 1px);clip: rect(1px, 1px, 1px, 1px);height: 1px;margin: -1px;overflow: hidden;padding: 0;position: absolute;width: 1px;}#sk-container-id-3 div.sk-estimator {font-family: monospace;background-color: #f0f8ff;border: 1px dotted black;border-radius: 0.25em;box-sizing: border-box;margin-bottom: 0.5em;}#sk-container-id-3 div.sk-estimator:hover {background-color: #d4ebff;}#sk-container-id-3 div.sk-parallel-item::after {content: \"\";width: 100%;border-bottom: 1px solid gray;flex-grow: 1;}#sk-container-id-3 div.sk-label:hover label.sk-toggleable__label {background-color: #d4ebff;}#sk-container-id-3 div.sk-serial::before {content: \"\";position: absolute;border-left: 1px solid gray;box-sizing: border-box;top: 0;bottom: 0;left: 50%;z-index: 0;}#sk-container-id-3 div.sk-serial {display: flex;flex-direction: column;align-items: center;background-color: white;padding-right: 0.2em;padding-left: 0.2em;position: relative;}#sk-container-id-3 div.sk-item {position: relative;z-index: 1;}#sk-container-id-3 div.sk-parallel {display: flex;align-items: stretch;justify-content: center;background-color: white;position: relative;}#sk-container-id-3 div.sk-item::before, #sk-container-id-3 div.sk-parallel-item::before {content: \"\";position: absolute;border-left: 1px solid gray;box-sizing: border-box;top: 0;bottom: 0;left: 50%;z-index: -1;}#sk-container-id-3 div.sk-parallel-item {display: flex;flex-direction: column;z-index: 1;position: relative;background-color: white;}#sk-container-id-3 div.sk-parallel-item:first-child::after {align-self: flex-end;width: 50%;}#sk-container-id-3 div.sk-parallel-item:last-child::after {align-self: flex-start;width: 50%;}#sk-container-id-3 div.sk-parallel-item:only-child::after {width: 0;}#sk-container-id-3 div.sk-dashed-wrapped {border: 1px dashed gray;margin: 0 0.4em 0.5em 0.4em;box-sizing: border-box;padding-bottom: 0.4em;background-color: white;}#sk-container-id-3 div.sk-label label {font-family: monospace;font-weight: bold;display: inline-block;line-height: 1.2em;}#sk-container-id-3 div.sk-label-container {text-align: center;}#sk-container-id-3 div.sk-container {/* jupyter's `normalize.less` sets `[hidden] { display: none; }` but bootstrap.min.css set `[hidden] { display: none !important; }` so we also need the `!important` here to be able to override the default hidden behavior on the sphinx rendered scikit-learn.org. See: https://github.com/scikit-learn/scikit-learn/issues/21755 */display: inline-block !important;position: relative;}#sk-container-id-3 div.sk-text-repr-fallback {display: none;}</style><div id=\"sk-container-id-3\" class=\"sk-top-container\"><div class=\"sk-text-repr-fallback\"><pre>LinearRegression()</pre><b>In a Jupyter environment, please rerun this cell to show the HTML representation or trust the notebook. <br />On GitHub, the HTML representation is unable to render, please try loading this page with nbviewer.org.</b></div><div class=\"sk-container\" hidden><div class=\"sk-item\"><div class=\"sk-estimator sk-toggleable\"><input class=\"sk-toggleable__control sk-hidden--visually\" id=\"sk-estimator-id-3\" type=\"checkbox\" checked><label for=\"sk-estimator-id-3\" class=\"sk-toggleable__label sk-toggleable__label-arrow\">LinearRegression</label><div class=\"sk-toggleable__content\"><pre>LinearRegression()</pre></div></div></div></div></div>"
            ]
          },
          "metadata": {},
          "execution_count": 22
        }
      ]
    },
    {
      "cell_type": "markdown",
      "source": [
        "### 評価"
      ],
      "metadata": {
        "id": "mUpzLE1eSSb0"
      }
    },
    {
      "cell_type": "code",
      "source": [
        "# 学習データの平均と標準偏差を使って標準化する\n",
        "x_test_scaled = scaler.transform(x_test)\n",
        "\n",
        "print('訓練データに対する決定係数：', model.score(x_train_scaled, y_train))\n",
        "print('テストデータに対する決定係数：', model.score(x_test_scaled, y_test))"
      ],
      "metadata": {
        "colab": {
          "base_uri": "https://localhost:8080/"
        },
        "id": "n90f1qDwIDzq",
        "outputId": "471cc977-9be4-454b-fa98-e9bb711e2173"
      },
      "execution_count": null,
      "outputs": [
        {
          "output_type": "stream",
          "name": "stdout",
          "text": [
            "訓練データに対する決定係数： 0.785056116959728\n",
            "テストデータに対する決定係数： 0.7080340653727235\n"
          ]
        }
      ]
    }
  ]
}