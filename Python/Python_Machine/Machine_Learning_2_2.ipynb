{
  "nbformat": 4,
  "nbformat_minor": 0,
  "metadata": {
    "colab": {
      "provenance": [],
      "toc_visible": true,
      "authorship_tag": "ABX9TyOVVihP8d5zzUc5+/973GPO",
      "include_colab_link": true
    },
    "kernelspec": {
      "name": "python3",
      "display_name": "Python 3"
    },
    "language_info": {
      "name": "python"
    }
  },
  "cells": [
    {
      "cell_type": "markdown",
      "metadata": {
        "id": "view-in-github",
        "colab_type": "text"
      },
      "source": [
        "<a href=\"https://colab.research.google.com/github/kiryu-3/Prmn2023/blob/main/Python/Python_Machine/Machine_Learning_2_2.ipynb\" target=\"_parent\"><img src=\"https://colab.research.google.com/assets/colab-badge.svg\" alt=\"Open In Colab\"/></a>"
      ]
    },
    {
      "cell_type": "markdown",
      "source": [
        "# 非線形回帰ー実践編"
      ],
      "metadata": {
        "id": "J-mRD1H45Xo0"
      }
    },
    {
      "cell_type": "code",
      "execution_count": 6,
      "metadata": {
        "id": "rgGMg_ic5Nf6"
      },
      "outputs": [],
      "source": [
        "# 最初にインポートしてください\n",
        "import numpy as np\n",
        "import pandas as pd\n",
        "import matplotlib.pyplot as plt\n",
        "import seaborn as sns\n",
        "from sklearn.linear_model import LinearRegression\n",
        "from sklearn.metrics import mean_squared_error\n",
        "from sklearn.metrics import r2_score\n",
        "from sklearn.model_selection import KFold, RepeatedKFold, cross_val_score\n",
        "from sklearn.model_selection import train_test_split\n",
        "from sklearn.datasets import fetch_openml\n",
        "from sklearn.preprocessing import StandardScaler, PolynomialFeatures\n",
        "from sklearn.neighbors import KNeighborsRegressor\n",
        "from sklearn.pipeline import Pipeline"
      ]
    },
    {
      "cell_type": "markdown",
      "source": [
        "エイムズの住宅販売価格予測を、非線形回帰を使って行っていきます。\n",
        "\n",
        "欠損値の処理などは線形回帰の時と同じとします。"
      ],
      "metadata": {
        "id": "JGQHvD8b5nmZ"
      }
    },
    {
      "cell_type": "markdown",
      "source": [
        "## 欠損値の処理"
      ],
      "metadata": {
        "id": "NnOhmQry6j7t"
      }
    },
    {
      "cell_type": "code",
      "source": [
        "# Ames housing datasetを取得し、as_frame=Trueを指定してDataFrame形式で読み込む\n",
        "housing = fetch_openml(name=\"house_prices\", as_frame=True)\n",
        "\n",
        "# DataFrameを表示\n",
        "df = housing.frame\n",
        "\n",
        "# 欠損値に意味がある場合の処理\n",
        "df[\"PoolQC\"] = df[\"PoolQC\"].fillna(\"NA\")\n",
        "df[\"MiscFeature\"] = df[\"MiscFeature\"].fillna(\"NA\")\n",
        "df[\"Alley\"] = df[\"Alley\"].fillna(\"NA\")\n",
        "df[\"Fence\"] = df[\"Fence\"].fillna(\"NA\")\n",
        "df[\"FireplaceQu\"] = df[\"FireplaceQu\"].fillna(\"NA\")\n",
        "df[\"GarageFinish\"] = df[\"GarageFinish\"].fillna(\"NA\")\n",
        "df[\"GarageQual\"] = df[\"GarageQual\"].fillna(\"NA\")\n",
        "df[\"GarageCond\"] = df[\"GarageCond\"].fillna(\"NA\")\n",
        "df[\"GarageYrBlt\"] = df[\"GarageYrBlt\"].fillna(0)\n",
        "df[\"GarageType\"] = df[\"GarageType\"].fillna(\"NA\")\n",
        "df[\"BsmtExposure\"] = df[\"BsmtExposure\"].fillna(\"NA\")\n",
        "df[\"BsmtCond\"] = df[\"BsmtCond\"].fillna(\"NA\")\n",
        "df[\"BsmtQual\"] = df[\"BsmtQual\"].fillna(\"NA\")\n",
        "df[\"BsmtFinType2\"] = df[\"BsmtFinType2\"].fillna(\"NA\")\n",
        "df[\"BsmtFinType1\"] = df[\"BsmtFinType1\"].fillna(\"NA\")\n",
        "\n",
        "# NeighbourhoodごとにLotFrontageの中央値を算出\n",
        "platform_neighbourhood_dict = df.groupby(\"Neighborhood\").median()[\"LotFrontage\"].to_dict()\n",
        "# 同じ地区の中央値の値で埋める\n",
        "df[\"LotFrontage\"] = df.apply(\n",
        "    lambda row: platform_neighbourhood_dict[row[\"Neighborhood\"]]\n",
        "    if np.isnan(row[\"LotFrontage\"])\n",
        "    else row[\"LotFrontage\"],\n",
        "    axis=1\n",
        ")\n",
        "\n",
        "# 欠損値の数を計算\n",
        "chk_null2 = df.isnull().sum()\n",
        "\n",
        "# 欠損値の割合を計算\n",
        "chk_null_pct2 = chk_null2 / (df.index.max() + 1)\n",
        "\n",
        "# 欠損値の数と割合がゼロでない列を抽出し、欠損値テーブルを作成\n",
        "chk_null_tbl2 = pd.concat([chk_null2[chk_null2 > 0], chk_null_pct2[chk_null_pct2 > 0]], axis=1)\n",
        "\n",
        "# 欠損値の割合を基準にテーブルを降順でソートし、列名を変更\n",
        "chk_null_tbl_new = chk_null_tbl2.sort_values(by=1, ascending=False).rename(columns={0: \"欠損レコード数\", 1: \"欠損割合\"})\n",
        "\n",
        "\"\"\"\n",
        "\"MasVnrArea\t\"カラム（組積造の面積）は\n",
        "数値型なので中央値で欠損値処理\n",
        "\"MasVnrType\"カラム（組積造の種別）と\"Electrical\"カラム（電気システムの種類）は\n",
        "名義型なので最頻値で欠損値処理\n",
        "\"\"\"\n",
        "\n",
        "# 欠損値の数を計算し、0以外のカラムのインデックスを抽出\n",
        "nonzero_columns = chk_null_tbl_new.index\n",
        "\n",
        "# 欠損値を埋める処理\n",
        "for column in nonzero_columns:\n",
        "    if np.issubdtype(df[column].dtype, np.number):\n",
        "        # 数値型の場合は中央値で埋める\n",
        "        df[column].fillna(df[column].median(), inplace=True)\n",
        "    else:\n",
        "        # 文字型の場合は最頻値で埋める\n",
        "        df[column].fillna(df[column].mode()[0], inplace=True)"
      ],
      "metadata": {
        "colab": {
          "base_uri": "https://localhost:8080/"
        },
        "id": "yDhKAgAL51Ff",
        "outputId": "922a2f69-1f09-4c36-86f6-33014afc1306"
      },
      "execution_count": 3,
      "outputs": [
        {
          "output_type": "stream",
          "name": "stderr",
          "text": [
            "/usr/local/lib/python3.10/dist-packages/sklearn/datasets/_openml.py:968: FutureWarning: The default value of `parser` will change from `'liac-arff'` to `'auto'` in 1.4. You can set `parser='auto'` to silence this warning. Therefore, an `ImportError` will be raised from 1.4 if the dataset is dense and pandas is not installed. Note that the pandas parser may return different data types. See the Notes Section in fetch_openml's API doc for details.\n",
            "  warn(\n",
            "<ipython-input-3-dfede9b59322>:25: FutureWarning: The default value of numeric_only in DataFrameGroupBy.median is deprecated. In a future version, numeric_only will default to False. Either specify numeric_only or select only columns which should be valid for the function.\n",
            "  platform_neighbourhood_dict = df.groupby(\"Neighborhood\").median()[\"LotFrontage\"].to_dict()\n"
          ]
        }
      ]
    },
    {
      "cell_type": "code",
      "source": [
        "# 欠損値の数を計算\n",
        "chk_null3 = df.isnull().sum()\n",
        "\n",
        "# 欠損値の割合を計算\n",
        "chk_null_pct3 = chk_null3 / (df.index.max() + 1)\n",
        "\n",
        "# 欠損値の数と割合がゼロでない列を抽出し、欠損値テーブルを作成\n",
        "chk_null_tbl3 = pd.concat([chk_null3[chk_null3 > 0], chk_null_pct3[chk_null_pct3 > 0]], axis=1)\n",
        "\n",
        "# 欠損値の割合を基準にテーブルを降順でソートし、列名を変更\n",
        "chk_null_tbl_end = chk_null_tbl3.sort_values(by=1, ascending=False).rename(columns={0: \"欠損レコード数\", 1: \"欠損割合\"})\n",
        "chk_null_tbl_end"
      ],
      "metadata": {
        "colab": {
          "base_uri": "https://localhost:8080/",
          "height": 53
        },
        "id": "RT5C8OK36c9S",
        "outputId": "1babde17-0dae-4dbb-c92f-c4f9b5da8452"
      },
      "execution_count": 4,
      "outputs": [
        {
          "output_type": "execute_result",
          "data": {
            "text/plain": [
              "Empty DataFrame\n",
              "Columns: [欠損レコード数, 欠損割合]\n",
              "Index: []"
            ],
            "text/html": [
              "\n",
              "  <div id=\"df-9d676547-8f35-44ce-aa08-91e619c317fb\" class=\"colab-df-container\">\n",
              "    <div>\n",
              "<style scoped>\n",
              "    .dataframe tbody tr th:only-of-type {\n",
              "        vertical-align: middle;\n",
              "    }\n",
              "\n",
              "    .dataframe tbody tr th {\n",
              "        vertical-align: top;\n",
              "    }\n",
              "\n",
              "    .dataframe thead th {\n",
              "        text-align: right;\n",
              "    }\n",
              "</style>\n",
              "<table border=\"1\" class=\"dataframe\">\n",
              "  <thead>\n",
              "    <tr style=\"text-align: right;\">\n",
              "      <th></th>\n",
              "      <th>欠損レコード数</th>\n",
              "      <th>欠損割合</th>\n",
              "    </tr>\n",
              "  </thead>\n",
              "  <tbody>\n",
              "  </tbody>\n",
              "</table>\n",
              "</div>\n",
              "    <div class=\"colab-df-buttons\">\n",
              "\n",
              "  <div class=\"colab-df-container\">\n",
              "    <button class=\"colab-df-convert\" onclick=\"convertToInteractive('df-9d676547-8f35-44ce-aa08-91e619c317fb')\"\n",
              "            title=\"Convert this dataframe to an interactive table.\"\n",
              "            style=\"display:none;\">\n",
              "\n",
              "  <svg xmlns=\"http://www.w3.org/2000/svg\" height=\"24px\" viewBox=\"0 -960 960 960\">\n",
              "    <path d=\"M120-120v-720h720v720H120Zm60-500h600v-160H180v160Zm220 220h160v-160H400v160Zm0 220h160v-160H400v160ZM180-400h160v-160H180v160Zm440 0h160v-160H620v160ZM180-180h160v-160H180v160Zm440 0h160v-160H620v160Z\"/>\n",
              "  </svg>\n",
              "    </button>\n",
              "\n",
              "  <style>\n",
              "    .colab-df-container {\n",
              "      display:flex;\n",
              "      gap: 12px;\n",
              "    }\n",
              "\n",
              "    .colab-df-convert {\n",
              "      background-color: #E8F0FE;\n",
              "      border: none;\n",
              "      border-radius: 50%;\n",
              "      cursor: pointer;\n",
              "      display: none;\n",
              "      fill: #1967D2;\n",
              "      height: 32px;\n",
              "      padding: 0 0 0 0;\n",
              "      width: 32px;\n",
              "    }\n",
              "\n",
              "    .colab-df-convert:hover {\n",
              "      background-color: #E2EBFA;\n",
              "      box-shadow: 0px 1px 2px rgba(60, 64, 67, 0.3), 0px 1px 3px 1px rgba(60, 64, 67, 0.15);\n",
              "      fill: #174EA6;\n",
              "    }\n",
              "\n",
              "    .colab-df-buttons div {\n",
              "      margin-bottom: 4px;\n",
              "    }\n",
              "\n",
              "    [theme=dark] .colab-df-convert {\n",
              "      background-color: #3B4455;\n",
              "      fill: #D2E3FC;\n",
              "    }\n",
              "\n",
              "    [theme=dark] .colab-df-convert:hover {\n",
              "      background-color: #434B5C;\n",
              "      box-shadow: 0px 1px 3px 1px rgba(0, 0, 0, 0.15);\n",
              "      filter: drop-shadow(0px 1px 2px rgba(0, 0, 0, 0.3));\n",
              "      fill: #FFFFFF;\n",
              "    }\n",
              "  </style>\n",
              "\n",
              "    <script>\n",
              "      const buttonEl =\n",
              "        document.querySelector('#df-9d676547-8f35-44ce-aa08-91e619c317fb button.colab-df-convert');\n",
              "      buttonEl.style.display =\n",
              "        google.colab.kernel.accessAllowed ? 'block' : 'none';\n",
              "\n",
              "      async function convertToInteractive(key) {\n",
              "        const element = document.querySelector('#df-9d676547-8f35-44ce-aa08-91e619c317fb');\n",
              "        const dataTable =\n",
              "          await google.colab.kernel.invokeFunction('convertToInteractive',\n",
              "                                                    [key], {});\n",
              "        if (!dataTable) return;\n",
              "\n",
              "        const docLinkHtml = 'Like what you see? Visit the ' +\n",
              "          '<a target=\"_blank\" href=https://colab.research.google.com/notebooks/data_table.ipynb>data table notebook</a>'\n",
              "          + ' to learn more about interactive tables.';\n",
              "        element.innerHTML = '';\n",
              "        dataTable['output_type'] = 'display_data';\n",
              "        await google.colab.output.renderOutput(dataTable, element);\n",
              "        const docLink = document.createElement('div');\n",
              "        docLink.innerHTML = docLinkHtml;\n",
              "        element.appendChild(docLink);\n",
              "      }\n",
              "    </script>\n",
              "  </div>\n",
              "\n",
              "    </div>\n",
              "  </div>\n"
            ]
          },
          "metadata": {},
          "execution_count": 4
        }
      ]
    },
    {
      "cell_type": "markdown",
      "source": [
        "すべての欠損値を埋めることができました。"
      ],
      "metadata": {
        "id": "dfe_a_bG6fPy"
      }
    },
    {
      "cell_type": "markdown",
      "source": [
        "## そのほかのデータの加工"
      ],
      "metadata": {
        "id": "S12o54L5nU5B"
      }
    },
    {
      "cell_type": "markdown",
      "source": [
        "ヒノマルクさんの記事群(リンクは[こちら](https://www.hinomaruc.com/tag/ames/?order=asc))にもありますが、  \n",
        "ほかにも以下のような加工をすることで、モデルの精度向上が期待できます。\n",
        "\n"
      ],
      "metadata": {
        "id": "oNs-YHQqnhQJ"
      }
    },
    {
      "cell_type": "markdown",
      "source": [
        "- 外れ値処理\n",
        "\n",
        "  - 外れ値かどうかを判断して除外するかどうかを検討する。\n",
        "\n",
        "- 特徴量エンジニアリング\n",
        "\n",
        "  - 新しい意味を持つ変数を作成する。\n",
        "  - より説明力がある変数が作成できたり、変数の数を減らせる可能性がある。\n",
        "  \n",
        "- 変数選択\n",
        "\n",
        "  - モデリングに必要なさそうな変数は除外する。\n",
        "  - 計算量を減らせたり多重共線性を防げる可能性がある。"
      ],
      "metadata": {
        "id": "vGiFbUrfnWyZ"
      }
    },
    {
      "cell_type": "markdown",
      "source": [
        "ヒノマルクさんの[こちら](https://www.hinomaruc.com/ames-dataset-analytics-3-1/)の記事を参考にしました。"
      ],
      "metadata": {
        "id": "1f5sMx8ypRVd"
      }
    },
    {
      "cell_type": "markdown",
      "source": [
        "## 住宅価格を非線形回帰で予測"
      ],
      "metadata": {
        "id": "AK-HydOnpue1"
      }
    },
    {
      "cell_type": "markdown",
      "source": [
        "いよいよ住宅価格の予測に入ります。  \n",
        "使用するカラムもここでは線形回帰と同じものを使います。"
      ],
      "metadata": {
        "id": "ml-hZokBp3yG"
      }
    },
    {
      "cell_type": "code",
      "source": [
        "selected_columns = [\n",
        "    \"SalePrice\",  # 住宅価格\n",
        "    \"OverallQual\",  #  住居の品質\n",
        "    \"GrLivArea\",  # 地上全ての住宅面積\n",
        "    \"GarageCars\",  # ガレージへの駐車可能台数\n",
        "    \"TotalBsmtSF\",  # 全地下室の面積\n",
        "    \"FullBath\",  # フル・バスルームの数（地下室は除く）\n",
        "    \"YearBuilt\"  #  建築された年\n",
        "]\n",
        "\n",
        "new_df = df[selected_columns]\n",
        "\n",
        "sns.heatmap(new_df.corr(), annot=True, cmap='YlGnBu', linewidths=0.5)"
      ],
      "metadata": {
        "colab": {
          "base_uri": "https://localhost:8080/",
          "height": 523
        },
        "id": "GwKNKT-P6zl3",
        "outputId": "e8526e4d-aad3-47b1-cfd2-85e55bce6feb"
      },
      "execution_count": 5,
      "outputs": [
        {
          "output_type": "execute_result",
          "data": {
            "text/plain": [
              "<Axes: >"
            ]
          },
          "metadata": {},
          "execution_count": 5
        },
        {
          "output_type": "display_data",
          "data": {
            "text/plain": [
              "<Figure size 640x480 with 2 Axes>"
            ],
            "image/png": "[encoded data removed]"
          },
          "metadata": {}
        }
      ]
    },
    {
      "cell_type": "markdown",
      "source": [
        "### Pipelineオブジェクトによる処理"
      ],
      "metadata": {
        "id": "bMPU0Xi4AM78"
      }
    },
    {
      "cell_type": "markdown",
      "source": [
        "**Pipelineオブジェクト**を使うことで、複数の処理をまとめることが可能になります。"
      ],
      "metadata": {
        "id": "Y83Lcvd3_oks"
      }
    },
    {
      "cell_type": "code",
      "source": [
        "## Pipelineなし\n",
        "\n",
        "# 目的変数に\"SalePrice\"、説明変数にそれ以外の6つのカラムを指定\n",
        "X = new_df.drop('SalePrice', axis=1)\n",
        "y = new_df['SalePrice']\n",
        "\n",
        "# データを訓練データとテストデータに分ける\n",
        "X_train, X_test, y_train, y_test = train_test_split(X, y, test_size=0.3, random_state=0)\n",
        "\n",
        "# 説明変数のデータを標準化\n",
        "from sklearn.preprocessing import StandardScaler\n",
        "scaler = StandardScaler()\n",
        "scaler.fit(X_train)\n",
        "X_train_scaled = scaler.transform(X_train)\n",
        "\n",
        "# 多項式特徴量の生成\n",
        "poly = PolynomialFeatures(degree=2, include_bias=False)\n",
        "X_poly = poly.fit_transform(X_train_scaled)\n",
        "\n",
        "# 多項式回帰モデルの学習\n",
        "model = LinearRegression()\n",
        "model.fit(X_poly, y_train)"
      ],
      "metadata": {
        "colab": {
          "base_uri": "https://localhost:8080/",
          "height": 75
        },
        "id": "XWkXwt8r7fnr",
        "outputId": "891a65d9-7e41-43e5-8d8e-edf7c86e9335"
      },
      "execution_count": 50,
      "outputs": [
        {
          "output_type": "execute_result",
          "data": {
            "text/plain": [
              "LinearRegression()"
            ],
            "text/html": [
              "<style>#sk-container-id-5 {color: black;background-color: white;}#sk-container-id-5 pre{padding: 0;}#sk-container-id-5 div.sk-toggleable {background-color: white;}#sk-container-id-5 label.sk-toggleable__label {cursor: pointer;display: block;width: 100%;margin-bottom: 0;padding: 0.3em;box-sizing: border-box;text-align: center;}#sk-container-id-5 label.sk-toggleable__label-arrow:before {content: \"▸\";float: left;margin-right: 0.25em;color: #696969;}#sk-container-id-5 label.sk-toggleable__label-arrow:hover:before {color: black;}#sk-container-id-5 div.sk-estimator:hover label.sk-toggleable__label-arrow:before {color: black;}#sk-container-id-5 div.sk-toggleable__content {max-height: 0;max-width: 0;overflow: hidden;text-align: left;background-color: #f0f8ff;}#sk-container-id-5 div.sk-toggleable__content pre {margin: 0.2em;color: black;border-radius: 0.25em;background-color: #f0f8ff;}#sk-container-id-5 input.sk-toggleable__control:checked~div.sk-toggleable__content {max-height: 200px;max-width: 100%;overflow: auto;}#sk-container-id-5 input.sk-toggleable__control:checked~label.sk-toggleable__label-arrow:before {content: \"▾\";}#sk-container-id-5 div.sk-estimator input.sk-toggleable__control:checked~label.sk-toggleable__label {background-color: #d4ebff;}#sk-container-id-5 div.sk-label input.sk-toggleable__control:checked~label.sk-toggleable__label {background-color: #d4ebff;}#sk-container-id-5 input.sk-hidden--visually {border: 0;clip: rect(1px 1px 1px 1px);clip: rect(1px, 1px, 1px, 1px);height: 1px;margin: -1px;overflow: hidden;padding: 0;position: absolute;width: 1px;}#sk-container-id-5 div.sk-estimator {font-family: monospace;background-color: #f0f8ff;border: 1px dotted black;border-radius: 0.25em;box-sizing: border-box;margin-bottom: 0.5em;}#sk-container-id-5 div.sk-estimator:hover {background-color: #d4ebff;}#sk-container-id-5 div.sk-parallel-item::after {content: \"\";width: 100%;border-bottom: 1px solid gray;flex-grow: 1;}#sk-container-id-5 div.sk-label:hover label.sk-toggleable__label {background-color: #d4ebff;}#sk-container-id-5 div.sk-serial::before {content: \"\";position: absolute;border-left: 1px solid gray;box-sizing: border-box;top: 0;bottom: 0;left: 50%;z-index: 0;}#sk-container-id-5 div.sk-serial {display: flex;flex-direction: column;align-items: center;background-color: white;padding-right: 0.2em;padding-left: 0.2em;position: relative;}#sk-container-id-5 div.sk-item {position: relative;z-index: 1;}#sk-container-id-5 div.sk-parallel {display: flex;align-items: stretch;justify-content: center;background-color: white;position: relative;}#sk-container-id-5 div.sk-item::before, #sk-container-id-5 div.sk-parallel-item::before {content: \"\";position: absolute;border-left: 1px solid gray;box-sizing: border-box;top: 0;bottom: 0;left: 50%;z-index: -1;}#sk-container-id-5 div.sk-parallel-item {display: flex;flex-direction: column;z-index: 1;position: relative;background-color: white;}#sk-container-id-5 div.sk-parallel-item:first-child::after {align-self: flex-end;width: 50%;}#sk-container-id-5 div.sk-parallel-item:last-child::after {align-self: flex-start;width: 50%;}#sk-container-id-5 div.sk-parallel-item:only-child::after {width: 0;}#sk-container-id-5 div.sk-dashed-wrapped {border: 1px dashed gray;margin: 0 0.4em 0.5em 0.4em;box-sizing: border-box;padding-bottom: 0.4em;background-color: white;}#sk-container-id-5 div.sk-label label {font-family: monospace;font-weight: bold;display: inline-block;line-height: 1.2em;}#sk-container-id-5 div.sk-label-container {text-align: center;}#sk-container-id-5 div.sk-container {/* jupyter's `normalize.less` sets `[hidden] { display: none; }` but bootstrap.min.css set `[hidden] { display: none !important; }` so we also need the `!important` here to be able to override the default hidden behavior on the sphinx rendered scikit-learn.org. See: https://github.com/scikit-learn/scikit-learn/issues/21755 */display: inline-block !important;position: relative;}#sk-container-id-5 div.sk-text-repr-fallback {display: none;}</style><div id=\"sk-container-id-5\" class=\"sk-top-container\"><div class=\"sk-text-repr-fallback\"><pre>LinearRegression()</pre><b>In a Jupyter environment, please rerun this cell to show the HTML representation or trust the notebook. <br />On GitHub, the HTML representation is unable to render, please try loading this page with nbviewer.org.</b></div><div class=\"sk-container\" hidden><div class=\"sk-item\"><div class=\"sk-estimator sk-toggleable\"><input class=\"sk-toggleable__control sk-hidden--visually\" id=\"sk-estimator-id-14\" type=\"checkbox\" checked><label for=\"sk-estimator-id-14\" class=\"sk-toggleable__label sk-toggleable__label-arrow\">LinearRegression</label><div class=\"sk-toggleable__content\"><pre>LinearRegression()</pre></div></div></div></div></div>"
            ]
          },
          "metadata": {},
          "execution_count": 50
        }
      ]
    },
    {
      "cell_type": "code",
      "source": [
        "print('訓練データに対する決定係数：', model.score(X_poly, y_train))"
      ],
      "metadata": {
        "colab": {
          "base_uri": "https://localhost:8080/"
        },
        "id": "WAvW8SnW_XMs",
        "outputId": "cacc0b9a-57dc-4b04-c505-1f7e69e805ec"
      },
      "execution_count": 51,
      "outputs": [
        {
          "output_type": "stream",
          "name": "stdout",
          "text": [
            "訓練データに対する決定係数： 0.8498964864845316\n"
          ]
        }
      ]
    },
    {
      "cell_type": "code",
      "source": [
        "## Pipelineあり\n",
        "\n",
        "# 目的変数に\"SalePrice\"、説明変数にそれ以外の6つのカラムを指定\n",
        "X = new_df.drop('SalePrice', axis=1)\n",
        "y = new_df['SalePrice']\n",
        "\n",
        "# データを訓練データとテストデータに分ける\n",
        "X_train, X_test, y_train, y_test = train_test_split(X, y, test_size=0.3, random_state=0)\n",
        "\n",
        "# Pipelineの定義\n",
        "pipeline = Pipeline([\n",
        "    # 説明変数の標準化\n",
        "    ('scaler', StandardScaler()),\n",
        "    # 多項式特徴量の生成\n",
        "    ('polynomial', PolynomialFeatures(degree=2, include_bias=False)),\n",
        "    # 多項式回帰モデルの学習\n",
        "    ('model', LinearRegression())\n",
        "])\n",
        "\n",
        "# Pipelineの実行\n",
        "pipeline.fit(X_train, y_train)"
      ],
      "metadata": {
        "colab": {
          "base_uri": "https://localhost:8080/",
          "height": 161
        },
        "id": "3fk1cx2N_Bnl",
        "outputId": "1e552b3f-c37b-4f85-d1c2-890f18d97c77"
      },
      "execution_count": 52,
      "outputs": [
        {
          "output_type": "execute_result",
          "data": {
            "text/plain": [
              "Pipeline(steps=[('scaler', StandardScaler()),\n",
              "                ('polynomial', PolynomialFeatures(include_bias=False)),\n",
              "                ('model', LinearRegression())])"
            ],
            "text/html": [
              "<style>#sk-container-id-6 {color: black;background-color: white;}#sk-container-id-6 pre{padding: 0;}#sk-container-id-6 div.sk-toggleable {background-color: white;}#sk-container-id-6 label.sk-toggleable__label {cursor: pointer;display: block;width: 100%;margin-bottom: 0;padding: 0.3em;box-sizing: border-box;text-align: center;}#sk-container-id-6 label.sk-toggleable__label-arrow:before {content: \"▸\";float: left;margin-right: 0.25em;color: #696969;}#sk-container-id-6 label.sk-toggleable__label-arrow:hover:before {color: black;}#sk-container-id-6 div.sk-estimator:hover label.sk-toggleable__label-arrow:before {color: black;}#sk-container-id-6 div.sk-toggleable__content {max-height: 0;max-width: 0;overflow: hidden;text-align: left;background-color: #f0f8ff;}#sk-container-id-6 div.sk-toggleable__content pre {margin: 0.2em;color: black;border-radius: 0.25em;background-color: #f0f8ff;}#sk-container-id-6 input.sk-toggleable__control:checked~div.sk-toggleable__content {max-height: 200px;max-width: 100%;overflow: auto;}#sk-container-id-6 input.sk-toggleable__control:checked~label.sk-toggleable__label-arrow:before {content: \"▾\";}#sk-container-id-6 div.sk-estimator input.sk-toggleable__control:checked~label.sk-toggleable__label {background-color: #d4ebff;}#sk-container-id-6 div.sk-label input.sk-toggleable__control:checked~label.sk-toggleable__label {background-color: #d4ebff;}#sk-container-id-6 input.sk-hidden--visually {border: 0;clip: rect(1px 1px 1px 1px);clip: rect(1px, 1px, 1px, 1px);height: 1px;margin: -1px;overflow: hidden;padding: 0;position: absolute;width: 1px;}#sk-container-id-6 div.sk-estimator {font-family: monospace;background-color: #f0f8ff;border: 1px dotted black;border-radius: 0.25em;box-sizing: border-box;margin-bottom: 0.5em;}#sk-container-id-6 div.sk-estimator:hover {background-color: #d4ebff;}#sk-container-id-6 div.sk-parallel-item::after {content: \"\";width: 100%;border-bottom: 1px solid gray;flex-grow: 1;}#sk-container-id-6 div.sk-label:hover label.sk-toggleable__label {background-color: #d4ebff;}#sk-container-id-6 div.sk-serial::before {content: \"\";position: absolute;border-left: 1px solid gray;box-sizing: border-box;top: 0;bottom: 0;left: 50%;z-index: 0;}#sk-container-id-6 div.sk-serial {display: flex;flex-direction: column;align-items: center;background-color: white;padding-right: 0.2em;padding-left: 0.2em;position: relative;}#sk-container-id-6 div.sk-item {position: relative;z-index: 1;}#sk-container-id-6 div.sk-parallel {display: flex;align-items: stretch;justify-content: center;background-color: white;position: relative;}#sk-container-id-6 div.sk-item::before, #sk-container-id-6 div.sk-parallel-item::before {content: \"\";position: absolute;border-left: 1px solid gray;box-sizing: border-box;top: 0;bottom: 0;left: 50%;z-index: -1;}#sk-container-id-6 div.sk-parallel-item {display: flex;flex-direction: column;z-index: 1;position: relative;background-color: white;}#sk-container-id-6 div.sk-parallel-item:first-child::after {align-self: flex-end;width: 50%;}#sk-container-id-6 div.sk-parallel-item:last-child::after {align-self: flex-start;width: 50%;}#sk-container-id-6 div.sk-parallel-item:only-child::after {width: 0;}#sk-container-id-6 div.sk-dashed-wrapped {border: 1px dashed gray;margin: 0 0.4em 0.5em 0.4em;box-sizing: border-box;padding-bottom: 0.4em;background-color: white;}#sk-container-id-6 div.sk-label label {font-family: monospace;font-weight: bold;display: inline-block;line-height: 1.2em;}#sk-container-id-6 div.sk-label-container {text-align: center;}#sk-container-id-6 div.sk-container {/* jupyter's `normalize.less` sets `[hidden] { display: none; }` but bootstrap.min.css set `[hidden] { display: none !important; }` so we also need the `!important` here to be able to override the default hidden behavior on the sphinx rendered scikit-learn.org. See: https://github.com/scikit-learn/scikit-learn/issues/21755 */display: inline-block !important;position: relative;}#sk-container-id-6 div.sk-text-repr-fallback {display: none;}</style><div id=\"sk-container-id-6\" class=\"sk-top-container\"><div class=\"sk-text-repr-fallback\"><pre>Pipeline(steps=[(&#x27;scaler&#x27;, StandardScaler()),\n",
              "                (&#x27;polynomial&#x27;, PolynomialFeatures(include_bias=False)),\n",
              "                (&#x27;model&#x27;, LinearRegression())])</pre><b>In a Jupyter environment, please rerun this cell to show the HTML representation or trust the notebook. <br />On GitHub, the HTML representation is unable to render, please try loading this page with nbviewer.org.</b></div><div class=\"sk-container\" hidden><div class=\"sk-item sk-dashed-wrapped\"><div class=\"sk-label-container\"><div class=\"sk-label sk-toggleable\"><input class=\"sk-toggleable__control sk-hidden--visually\" id=\"sk-estimator-id-15\" type=\"checkbox\" ><label for=\"sk-estimator-id-15\" class=\"sk-toggleable__label sk-toggleable__label-arrow\">Pipeline</label><div class=\"sk-toggleable__content\"><pre>Pipeline(steps=[(&#x27;scaler&#x27;, StandardScaler()),\n",
              "                (&#x27;polynomial&#x27;, PolynomialFeatures(include_bias=False)),\n",
              "                (&#x27;model&#x27;, LinearRegression())])</pre></div></div></div><div class=\"sk-serial\"><div class=\"sk-item\"><div class=\"sk-estimator sk-toggleable\"><input class=\"sk-toggleable__control sk-hidden--visually\" id=\"sk-estimator-id-16\" type=\"checkbox\" ><label for=\"sk-estimator-id-16\" class=\"sk-toggleable__label sk-toggleable__label-arrow\">StandardScaler</label><div class=\"sk-toggleable__content\"><pre>StandardScaler()</pre></div></div></div><div class=\"sk-item\"><div class=\"sk-estimator sk-toggleable\"><input class=\"sk-toggleable__control sk-hidden--visually\" id=\"sk-estimator-id-17\" type=\"checkbox\" ><label for=\"sk-estimator-id-17\" class=\"sk-toggleable__label sk-toggleable__label-arrow\">PolynomialFeatures</label><div class=\"sk-toggleable__content\"><pre>PolynomialFeatures(include_bias=False)</pre></div></div></div><div class=\"sk-item\"><div class=\"sk-estimator sk-toggleable\"><input class=\"sk-toggleable__control sk-hidden--visually\" id=\"sk-estimator-id-18\" type=\"checkbox\" ><label for=\"sk-estimator-id-18\" class=\"sk-toggleable__label sk-toggleable__label-arrow\">LinearRegression</label><div class=\"sk-toggleable__content\"><pre>LinearRegression()</pre></div></div></div></div></div></div></div>"
            ]
          },
          "metadata": {},
          "execution_count": 52
        }
      ]
    },
    {
      "cell_type": "code",
      "source": [
        "print('訓練データに対する決定係数：', pipeline.score(X_train, y_train))"
      ],
      "metadata": {
        "colab": {
          "base_uri": "https://localhost:8080/"
        },
        "id": "EvVS1J_c_-BM",
        "outputId": "c319d067-3015-479e-e323-8b9b22610bbb"
      },
      "execution_count": 53,
      "outputs": [
        {
          "output_type": "stream",
          "name": "stdout",
          "text": [
            "訓練データに対する決定係数： 0.8498964864845316\n"
          ]
        }
      ]
    },
    {
      "cell_type": "markdown",
      "source": [
        "訓練データに対する決定係数は、Pipelineの仕様に関わらず同じ値が得られました。  \n",
        "\n",
        "線形回帰のときは決定係数が0.7925959898667037だったので、精度が向上したと言えます。"
      ],
      "metadata": {
        "id": "VRYSgL99Aa1a"
      }
    },
    {
      "cell_type": "markdown",
      "source": [
        "### 汎化性能の確認"
      ],
      "metadata": {
        "id": "8r2L6QtHAuD5"
      }
    },
    {
      "cell_type": "markdown",
      "source": [
        "テストデータに対しても多項式特徴量とする必要があります。"
      ],
      "metadata": {
        "id": "HiKZfYf3BDoh"
      }
    },
    {
      "cell_type": "code",
      "source": [
        "## Pipelineなし\n",
        "\n",
        "scaler = StandardScaler()\n",
        "scaler.fit(X_test)\n",
        "X_test_scaled = scaler.transform(X_test)\n",
        "poly = PolynomialFeatures(degree=2, include_bias=False)\n",
        "X_test_poly = poly.fit_transform(X_test_scaled)\n",
        "\n",
        "print('テストデータに対する決定係数：', model.score(X_test_poly, y_test))"
      ],
      "metadata": {
        "colab": {
          "base_uri": "https://localhost:8080/"
        },
        "id": "r3lq5QWsBRxz",
        "outputId": "9f06d6cb-b00b-404b-c979-217c450165a7"
      },
      "execution_count": 54,
      "outputs": [
        {
          "output_type": "stream",
          "name": "stdout",
          "text": [
            "テストデータに対する決定係数： 0.8379980754774768\n"
          ]
        }
      ]
    },
    {
      "cell_type": "code",
      "source": [
        "## Pipelineあり\n",
        "\n",
        "print('テストデータに対する決定係数：', pipeline.score(X_test, y_test))"
      ],
      "metadata": {
        "colab": {
          "base_uri": "https://localhost:8080/"
        },
        "id": "eJ1cPw9bBrMI",
        "outputId": "4838ec7f-67e7-4e8f-df73-79739c443fd9"
      },
      "execution_count": 55,
      "outputs": [
        {
          "output_type": "stream",
          "name": "stdout",
          "text": [
            "テストデータに対する決定係数： 0.814288917434228\n"
          ]
        }
      ]
    },
    {
      "cell_type": "code",
      "source": [
        "model = KNeighborsRegressor(n_neighbors=5)\n",
        "model.fit(X_poly, y_train)"
      ],
      "metadata": {
        "colab": {
          "base_uri": "https://localhost:8080/",
          "height": 75
        },
        "id": "5kTyZciAHATQ",
        "outputId": "213c68da-378d-4cf5-f848-936f53387538"
      },
      "execution_count": 56,
      "outputs": [
        {
          "output_type": "execute_result",
          "data": {
            "text/plain": [
              "KNeighborsRegressor()"
            ],
            "text/html": [
              "<style>#sk-container-id-7 {color: black;background-color: white;}#sk-container-id-7 pre{padding: 0;}#sk-container-id-7 div.sk-toggleable {background-color: white;}#sk-container-id-7 label.sk-toggleable__label {cursor: pointer;display: block;width: 100%;margin-bottom: 0;padding: 0.3em;box-sizing: border-box;text-align: center;}#sk-container-id-7 label.sk-toggleable__label-arrow:before {content: \"▸\";float: left;margin-right: 0.25em;color: #696969;}#sk-container-id-7 label.sk-toggleable__label-arrow:hover:before {color: black;}#sk-container-id-7 div.sk-estimator:hover label.sk-toggleable__label-arrow:before {color: black;}#sk-container-id-7 div.sk-toggleable__content {max-height: 0;max-width: 0;overflow: hidden;text-align: left;background-color: #f0f8ff;}#sk-container-id-7 div.sk-toggleable__content pre {margin: 0.2em;color: black;border-radius: 0.25em;background-color: #f0f8ff;}#sk-container-id-7 input.sk-toggleable__control:checked~div.sk-toggleable__content {max-height: 200px;max-width: 100%;overflow: auto;}#sk-container-id-7 input.sk-toggleable__control:checked~label.sk-toggleable__label-arrow:before {content: \"▾\";}#sk-container-id-7 div.sk-estimator input.sk-toggleable__control:checked~label.sk-toggleable__label {background-color: #d4ebff;}#sk-container-id-7 div.sk-label input.sk-toggleable__control:checked~label.sk-toggleable__label {background-color: #d4ebff;}#sk-container-id-7 input.sk-hidden--visually {border: 0;clip: rect(1px 1px 1px 1px);clip: rect(1px, 1px, 1px, 1px);height: 1px;margin: -1px;overflow: hidden;padding: 0;position: absolute;width: 1px;}#sk-container-id-7 div.sk-estimator {font-family: monospace;background-color: #f0f8ff;border: 1px dotted black;border-radius: 0.25em;box-sizing: border-box;margin-bottom: 0.5em;}#sk-container-id-7 div.sk-estimator:hover {background-color: #d4ebff;}#sk-container-id-7 div.sk-parallel-item::after {content: \"\";width: 100%;border-bottom: 1px solid gray;flex-grow: 1;}#sk-container-id-7 div.sk-label:hover label.sk-toggleable__label {background-color: #d4ebff;}#sk-container-id-7 div.sk-serial::before {content: \"\";position: absolute;border-left: 1px solid gray;box-sizing: border-box;top: 0;bottom: 0;left: 50%;z-index: 0;}#sk-container-id-7 div.sk-serial {display: flex;flex-direction: column;align-items: center;background-color: white;padding-right: 0.2em;padding-left: 0.2em;position: relative;}#sk-container-id-7 div.sk-item {position: relative;z-index: 1;}#sk-container-id-7 div.sk-parallel {display: flex;align-items: stretch;justify-content: center;background-color: white;position: relative;}#sk-container-id-7 div.sk-item::before, #sk-container-id-7 div.sk-parallel-item::before {content: \"\";position: absolute;border-left: 1px solid gray;box-sizing: border-box;top: 0;bottom: 0;left: 50%;z-index: -1;}#sk-container-id-7 div.sk-parallel-item {display: flex;flex-direction: column;z-index: 1;position: relative;background-color: white;}#sk-container-id-7 div.sk-parallel-item:first-child::after {align-self: flex-end;width: 50%;}#sk-container-id-7 div.sk-parallel-item:last-child::after {align-self: flex-start;width: 50%;}#sk-container-id-7 div.sk-parallel-item:only-child::after {width: 0;}#sk-container-id-7 div.sk-dashed-wrapped {border: 1px dashed gray;margin: 0 0.4em 0.5em 0.4em;box-sizing: border-box;padding-bottom: 0.4em;background-color: white;}#sk-container-id-7 div.sk-label label {font-family: monospace;font-weight: bold;display: inline-block;line-height: 1.2em;}#sk-container-id-7 div.sk-label-container {text-align: center;}#sk-container-id-7 div.sk-container {/* jupyter's `normalize.less` sets `[hidden] { display: none; }` but bootstrap.min.css set `[hidden] { display: none !important; }` so we also need the `!important` here to be able to override the default hidden behavior on the sphinx rendered scikit-learn.org. See: https://github.com/scikit-learn/scikit-learn/issues/21755 */display: inline-block !important;position: relative;}#sk-container-id-7 div.sk-text-repr-fallback {display: none;}</style><div id=\"sk-container-id-7\" class=\"sk-top-container\"><div class=\"sk-text-repr-fallback\"><pre>KNeighborsRegressor()</pre><b>In a Jupyter environment, please rerun this cell to show the HTML representation or trust the notebook. <br />On GitHub, the HTML representation is unable to render, please try loading this page with nbviewer.org.</b></div><div class=\"sk-container\" hidden><div class=\"sk-item\"><div class=\"sk-estimator sk-toggleable\"><input class=\"sk-toggleable__control sk-hidden--visually\" id=\"sk-estimator-id-19\" type=\"checkbox\" checked><label for=\"sk-estimator-id-19\" class=\"sk-toggleable__label sk-toggleable__label-arrow\">KNeighborsRegressor</label><div class=\"sk-toggleable__content\"><pre>KNeighborsRegressor()</pre></div></div></div></div></div>"
            ]
          },
          "metadata": {},
          "execution_count": 56
        }
      ]
    },
    {
      "cell_type": "code",
      "source": [
        "print('訓練データに対する決定係数：', model.score(X_poly, y_train))"
      ],
      "metadata": {
        "colab": {
          "base_uri": "https://localhost:8080/"
        },
        "id": "5er_mtlCHwt3",
        "outputId": "271fdf95-8b2a-4dcf-ee0d-35ac933a02d1"
      },
      "execution_count": 57,
      "outputs": [
        {
          "output_type": "stream",
          "name": "stdout",
          "text": [
            "訓練データに対する決定係数： 0.866115614642005\n"
          ]
        }
      ]
    },
    {
      "cell_type": "code",
      "source": [
        "print('テストデータに対する決定係数：', model.score(X_test_poly, y_test))"
      ],
      "metadata": {
        "colab": {
          "base_uri": "https://localhost:8080/"
        },
        "id": "UYoqYxpuG47P",
        "outputId": "3a6f8730-71a8-44f4-af22-5fa828637a87"
      },
      "execution_count": 58,
      "outputs": [
        {
          "output_type": "stream",
          "name": "stdout",
          "text": [
            "テストデータに対する決定係数： 0.8166964006182185\n"
          ]
        }
      ]
    },
    {
      "cell_type": "code",
      "source": [
        "import statsmodels.api as sma\n",
        "X2 = sma.add_constant(X_poly)\n",
        "est = sma.OLS(y_train, X2)\n",
        "est_trained = est.fit()\n",
        "print(est_trained.summary())"
      ],
      "metadata": {
        "colab": {
          "base_uri": "https://localhost:8080/"
        },
        "id": "CbQ7A3Aw-MOf",
        "outputId": "bb88d910-185d-474c-ab3e-aa2814f8c886"
      },
      "execution_count": 18,
      "outputs": [
        {
          "output_type": "stream",
          "name": "stdout",
          "text": [
            "                            OLS Regression Results                            \n",
            "==============================================================================\n",
            "Dep. Variable:              SalePrice   R-squared:                       0.850\n",
            "Model:                            OLS   Adj. R-squared:                  0.846\n",
            "Method:                 Least Squares   F-statistic:                     208.4\n",
            "Date:                Sun, 27 Aug 2023   Prob (F-statistic):               0.00\n",
            "Time:                        17:09:41   Log-Likelihood:                -11995.\n",
            "No. Observations:                1022   AIC:                         2.405e+04\n",
            "Df Residuals:                     994   BIC:                         2.418e+04\n",
            "Df Model:                          27                                         \n",
            "Covariance Type:            nonrobust                                         \n",
            "==============================================================================\n",
            "                 coef    std err          t      P>|t|      [0.025      0.975]\n",
            "------------------------------------------------------------------------------\n",
            "const       1.751e+05   2121.005     82.564      0.000    1.71e+05    1.79e+05\n",
            "x1           2.41e+04   1728.087     13.943      0.000    2.07e+04    2.75e+04\n",
            "x2           2.97e+04   1833.897     16.193      0.000    2.61e+04    3.33e+04\n",
            "x3          1.065e+04   1569.940      6.781      0.000    7565.165    1.37e+04\n",
            "x4          1.629e+04   1379.069     11.812      0.000    1.36e+04     1.9e+04\n",
            "x5         -1253.5399   1530.894     -0.819      0.413   -4257.694    1750.614\n",
            "x6          7246.2319   1932.452      3.750      0.000    3454.077     1.1e+04\n",
            "x7           138.5930   1600.270      0.087      0.931   -3001.703    3278.889\n",
            "x8          1.216e+04   2541.137      4.784      0.000    7169.534    1.71e+04\n",
            "x9          2417.0970   1847.440      1.308      0.191   -1208.233    6042.427\n",
            "x10         9019.3295   2024.520      4.455      0.000    5046.507     1.3e+04\n",
            "x11        -4288.6387   2135.507     -2.008      0.045   -8479.259     -98.019\n",
            "x12          177.9301   2187.535      0.081      0.935   -4114.787    4470.647\n",
            "x13        -7823.9072   1711.635     -4.571      0.000   -1.12e+04   -4465.074\n",
            "x14         7528.3351   2070.493      3.636      0.000    3465.296    1.16e+04\n",
            "x15        -6021.2008   1997.207     -3.015      0.003   -9940.428   -2101.974\n",
            "x16         9622.9836   2632.916      3.655      0.000    4456.272    1.48e+04\n",
            "x17        -5586.4989   2451.499     -2.279      0.023   -1.04e+04    -775.791\n",
            "x18        -1393.6713   1060.386     -1.314      0.189   -3474.524     687.181\n",
            "x19          279.7063   1659.876      0.169      0.866   -2977.558    3536.970\n",
            "x20        -5391.1774   1770.375     -3.045      0.002   -8865.279   -1917.076\n",
            "x21         5024.3879   1695.815      2.963      0.003    1696.599    8352.177\n",
            "x22        -2678.9777    898.614     -2.981      0.003   -4442.377    -915.579\n",
            "x23         -530.1916   1870.228     -0.283      0.777   -4200.240    3139.856\n",
            "x24          -27.3873   2333.572     -0.012      0.991   -4606.681    4551.906\n",
            "x25         2542.8546   1499.954      1.695      0.090    -400.586    5486.295\n",
            "x26         4233.6976   2058.235      2.057      0.040     194.713    8272.682\n",
            "x27        -4588.2559   1538.188     -2.983      0.003   -7606.724   -1569.788\n",
            "==============================================================================\n",
            "Omnibus:                      279.505   Durbin-Watson:                   2.032\n",
            "Prob(Omnibus):                  0.000   Jarque-Bera (JB):            11265.316\n",
            "Skew:                          -0.482   Prob(JB):                         0.00\n",
            "Kurtosis:                      19.236   Cond. No.                         23.6\n",
            "==============================================================================\n",
            "\n",
            "Notes:\n",
            "[1] Standard Errors assume that the covariance matrix of the errors is correctly specified.\n"
          ]
        }
      ]
    }
  ]
}