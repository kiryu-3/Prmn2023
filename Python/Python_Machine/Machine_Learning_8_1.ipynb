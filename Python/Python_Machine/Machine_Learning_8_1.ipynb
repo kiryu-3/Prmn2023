{
  "nbformat": 4,
  "nbformat_minor": 0,
  "metadata": {
    "colab": {
      "provenance": [],
      "toc_visible": true,
      "authorship_tag": "ABX9TyN+HdsmDgVTf2u7P2sYehO5",
      "include_colab_link": true
    },
    "kernelspec": {
      "name": "python3",
      "display_name": "Python 3"
    },
    "language_info": {
      "name": "python"
    }
  },
  "cells": [
    {
      "cell_type": "markdown",
      "metadata": {
        "id": "view-in-github",
        "colab_type": "text"
      },
      "source": [
        "<a href=\"https://colab.research.google.com/github/kiryu-3/Prmn2023/blob/main/Python/Python_Machine/Machine_Learning_8_1.ipynb\" target=\"_parent\"><img src=\"https://colab.research.google.com/assets/colab-badge.svg\" alt=\"Open In Colab\"/></a>"
      ]
    },
    {
      "cell_type": "markdown",
      "source": [
        "# 分類モデルの評価指標ー知識編"
      ],
      "metadata": {
        "id": "XDg6q4atRya9"
      }
    },
    {
      "cell_type": "code",
      "execution_count": null,
      "metadata": {
        "id": "0t6eTTiqOf18"
      },
      "outputs": [],
      "source": [
        "# 最初にインポートしてください\n",
        "import numpy as np\n",
        "import pandas as pd\n",
        "import matplotlib.pyplot as plt\n",
        "import seaborn as sns\n",
        "from sklearn.linear_model import Ridge, Lasso, LinearRegression, LogisticRegression\n",
        "from sklearn.metrics import mean_squared_error, r2_score, log_loss\n",
        "from sklearn.model_selection import KFold, RepeatedKFold, cross_val_score\n",
        "from sklearn.model_selection import train_test_split\n",
        "from sklearn.datasets import fetch_openml\n",
        "from sklearn.preprocessing import StandardScaler, PolynomialFeatures\n",
        "from sklearn.neighbors import KNeighborsRegressor\n",
        "from sklearn.pipeline import Pipeline\n",
        "import statsmodels.api as sma"
      ]
    },
    {
      "cell_type": "markdown",
      "source": [
        "回帰モデルの評価指標には、以下のようなものがあります。\n",
        "\n",
        "- MSE\n",
        "- RMSE\n",
        "- MAE\n",
        "- $R^2$\n",
        "\n"
      ],
      "metadata": {
        "id": "oZ8kvMcRXfpV"
      }
    },
    {
      "cell_type": "markdown",
      "source": [
        "分類モデル（分類器）の評価指標は、回帰モデルに比べてさらに多くの評価指標があります。  \n",
        "しかし、それらの分類器は、したい評価によって使用するべき評価指標が変わります。\n",
        "\n",
        "適切な評価指標を使えるようになることが目標となります。"
      ],
      "metadata": {
        "id": "AXSeBosvXwKr"
      }
    },
    {
      "cell_type": "markdown",
      "source": [
        "## 混同行列"
      ],
      "metadata": {
        "id": "t4gCx--fhCa2"
      }
    },
    {
      "cell_type": "markdown",
      "source": [
        "二値分類において、0を**陰性(negative)**, 1を**陽性(positive)**と呼ぶことがあります。\n",
        "\n",
        "例えば、喫煙者かどうかを予測したい場合、  \n",
        "喫煙者ではない場合を陰性、喫煙者の場合を陽性とするのが一般的です。"
      ],
      "metadata": {
        "id": "_JOIX3cOYN3D"
      }
    },
    {
      "cell_type": "markdown",
      "source": [
        "また、これらのpositive/negativeのデータに対して予測した結果、  \n",
        "正解していることを**真(True)**，間違っていることを**偽(False)**と言います。"
      ],
      "metadata": {
        "id": "BsdEHgBoZVmK"
      }
    },
    {
      "cell_type": "markdown",
      "source": [
        "これらを組み合わせた、以下のような指標が存在します。  \n",
        "正解ラベルに対しての正解/不正解かを表す指標です。\n",
        "\n",
        "- <font color=red>**T**</font>rue <font color=red>**P**</font>ositive：**真陽性**（<font color=red>**TP**</font>）\n",
        "- <font color=red>**T**</font>rue <font color=red>**N**</font>egative：**真陰性**（<font color=red>**TN**</font>）\n",
        "- <font color=blue>**F**</font>alse <font color=blue>**P**</font>ositive：**真陽性**（<font color=blue>**FP**</font>）\n",
        "- <font color=blue>**F**</font>alse <font color=blue>**N**</font>egative：**真陰性**（<font color=blue>**FN**</font>）"
      ],
      "metadata": {
        "id": "SaM7q7YmaTFR"
      }
    },
    {
      "cell_type": "markdown",
      "source": [
        "データセットで各クラスがいくつ正解/不正解しているかを表す行列(表)を、  \n",
        "**混同行列**（Confusion Matrix）といいます。\n",
        "\n",
        "一目でモデルの分類傾向を確認できます。\n",
        "\n",
        "![](https://imgur.com/EkR3MHY.png)"
      ],
      "metadata": {
        "id": "pPgUtsSwhGd9"
      }
    },
    {
      "cell_type": "markdown",
      "source": [
        "例として、正解データと予測データが以下のようにあったとします。\n",
        "\n",
        "![](https://imgur.com/rrcDWhX.png)"
      ],
      "metadata": {
        "id": "oyH6Vgm_m_qY"
      }
    },
    {
      "cell_type": "markdown",
      "source": [
        "このときの混同行列は以下のようになります。"
      ],
      "metadata": {
        "id": "K1_DoHmlnhmG"
      }
    },
    {
      "cell_type": "markdown",
      "source": [
        "![](https://imgur.com/egnSydr.png)"
      ],
      "metadata": {
        "id": "G6x01HrtkaHT"
      }
    },
    {
      "cell_type": "markdown",
      "source": [
        "###"
      ],
      "metadata": {
        "id": "PQrbvIOM7HIx"
      }
    },
    {
      "cell_type": "markdown",
      "source": [
        "####  使用するデータセット（二値分類）"
      ],
      "metadata": {
        "id": "xLZ4FezYbtWG"
      }
    },
    {
      "cell_type": "markdown",
      "source": [
        "では、実際のデータを使って、  \n",
        "Pythonで混同行列を計算・表示させてみます。\n"
      ],
      "metadata": {
        "id": "0HRxrbCGk9Ss"
      }
    },
    {
      "cell_type": "markdown",
      "source": [
        "今回は、seabornのサンプル用データセット\"tips\"を利用します。\n",
        "\n",
        "データセットは、pandas.DataFrameオブジェクトとして取得することができます。\n",
        "\n",
        "（参考サイト：[こちら](https://biotech-lab.org/articles/1408#i)）"
      ],
      "metadata": {
        "id": "ifbmSE3yot33"
      }
    },
    {
      "cell_type": "code",
      "source": [
        "tips = sns.load_dataset('tips')\n",
        "tips.info()"
      ],
      "metadata": {
        "colab": {
          "base_uri": "https://localhost:8080/"
        },
        "id": "-l33pW7wj692",
        "outputId": "52c298f6-6282-4952-a55e-fc1b472c8d16"
      },
      "execution_count": null,
      "outputs": [
        {
          "output_type": "stream",
          "name": "stdout",
          "text": [
            "<class 'pandas.core.frame.DataFrame'>\n",
            "RangeIndex: 244 entries, 0 to 243\n",
            "Data columns (total 7 columns):\n",
            " #   Column      Non-Null Count  Dtype   \n",
            "---  ------      --------------  -----   \n",
            " 0   total_bill  244 non-null    float64 \n",
            " 1   tip         244 non-null    float64 \n",
            " 2   sex         244 non-null    category\n",
            " 3   smoker      244 non-null    category\n",
            " 4   day         244 non-null    category\n",
            " 5   time        244 non-null    category\n",
            " 6   size        244 non-null    int64   \n",
            "dtypes: category(4), float64(2), int64(1)\n",
            "memory usage: 7.4 KB\n"
          ]
        }
      ]
    },
    {
      "cell_type": "markdown",
      "source": [
        "\"tips\"のデータの説明は以下の通りです。\n",
        "\n",
        "- total_bill : 総支払額(食事代、税込み)　(USドル)\n",
        "- tip : チップ(USドル)\n",
        "- sex : 性別\n",
        "- smoker : 喫煙者か否か\n",
        "- day : 曜日(木・金・土・日のいずれか)\n",
        "- time : 食事の時間(昼食か夕食か)\n",
        "- size : 人数"
      ],
      "metadata": {
        "id": "7ZyDMuAblo6D"
      }
    },
    {
      "cell_type": "markdown",
      "source": [
        "また、今回のデータには欠損値はなさそうです。"
      ],
      "metadata": {
        "id": "k-9SWM_Mnsbw"
      }
    },
    {
      "cell_type": "markdown",
      "source": [
        "#### Pythonで混同行列の計算・表示（二値分類）"
      ],
      "metadata": {
        "id": "IQ5nDPndoFdm"
      }
    },
    {
      "cell_type": "markdown",
      "source": [
        "では、実際にPythonで混同行列を表示してみましょう。"
      ],
      "metadata": {
        "id": "8WPYxaKfoOK-"
      }
    },
    {
      "cell_type": "markdown",
      "source": [
        "今回は使用するカラムを増やしたいので、one-hotエンコーディングを行います。"
      ],
      "metadata": {
        "id": "_hwwG7hxzIpA"
      }
    },
    {
      "cell_type": "code",
      "source": [
        "# smoker カラム以外のカテゴリカル変数をダミー変数に変換\n",
        "tips = pd.get_dummies(tips, columns=[\"sex\", \"day\", \"time\"], drop_first=True)\n",
        "tips.head()"
      ],
      "metadata": {
        "colab": {
          "base_uri": "https://localhost:8080/",
          "height": 226
        },
        "id": "Ga77GJiDxzhi",
        "outputId": "fdc10144-6240-4336-e0c0-99ca08cf7887"
      },
      "execution_count": null,
      "outputs": [
        {
          "output_type": "execute_result",
          "data": {
            "text/plain": [
              "   total_bill   tip smoker  size  sex_Female  day_Fri  day_Sat  day_Sun  \\\n",
              "0       16.99  1.01     No     2           1        0        0        1   \n",
              "1       10.34  1.66     No     3           0        0        0        1   \n",
              "2       21.01  3.50     No     3           0        0        0        1   \n",
              "3       23.68  3.31     No     2           0        0        0        1   \n",
              "4       24.59  3.61     No     4           1        0        0        1   \n",
              "\n",
              "   time_Dinner  \n",
              "0            1  \n",
              "1            1  \n",
              "2            1  \n",
              "3            1  \n",
              "4            1  "
            ],
            "text/html": [
              "\n",
              "  <div id=\"df-fcc7b92a-d8ba-4ded-b34c-6719cee552c5\" class=\"colab-df-container\">\n",
              "    <div>\n",
              "<style scoped>\n",
              "    .dataframe tbody tr th:only-of-type {\n",
              "        vertical-align: middle;\n",
              "    }\n",
              "\n",
              "    .dataframe tbody tr th {\n",
              "        vertical-align: top;\n",
              "    }\n",
              "\n",
              "    .dataframe thead th {\n",
              "        text-align: right;\n",
              "    }\n",
              "</style>\n",
              "<table border=\"1\" class=\"dataframe\">\n",
              "  <thead>\n",
              "    <tr style=\"text-align: right;\">\n",
              "      <th></th>\n",
              "      <th>total_bill</th>\n",
              "      <th>tip</th>\n",
              "      <th>smoker</th>\n",
              "      <th>size</th>\n",
              "      <th>sex_Female</th>\n",
              "      <th>day_Fri</th>\n",
              "      <th>day_Sat</th>\n",
              "      <th>day_Sun</th>\n",
              "      <th>time_Dinner</th>\n",
              "    </tr>\n",
              "  </thead>\n",
              "  <tbody>\n",
              "    <tr>\n",
              "      <th>0</th>\n",
              "      <td>16.99</td>\n",
              "      <td>1.01</td>\n",
              "      <td>No</td>\n",
              "      <td>2</td>\n",
              "      <td>1</td>\n",
              "      <td>0</td>\n",
              "      <td>0</td>\n",
              "      <td>1</td>\n",
              "      <td>1</td>\n",
              "    </tr>\n",
              "    <tr>\n",
              "      <th>1</th>\n",
              "      <td>10.34</td>\n",
              "      <td>1.66</td>\n",
              "      <td>No</td>\n",
              "      <td>3</td>\n",
              "      <td>0</td>\n",
              "      <td>0</td>\n",
              "      <td>0</td>\n",
              "      <td>1</td>\n",
              "      <td>1</td>\n",
              "    </tr>\n",
              "    <tr>\n",
              "      <th>2</th>\n",
              "      <td>21.01</td>\n",
              "      <td>3.50</td>\n",
              "      <td>No</td>\n",
              "      <td>3</td>\n",
              "      <td>0</td>\n",
              "      <td>0</td>\n",
              "      <td>0</td>\n",
              "      <td>1</td>\n",
              "      <td>1</td>\n",
              "    </tr>\n",
              "    <tr>\n",
              "      <th>3</th>\n",
              "      <td>23.68</td>\n",
              "      <td>3.31</td>\n",
              "      <td>No</td>\n",
              "      <td>2</td>\n",
              "      <td>0</td>\n",
              "      <td>0</td>\n",
              "      <td>0</td>\n",
              "      <td>1</td>\n",
              "      <td>1</td>\n",
              "    </tr>\n",
              "    <tr>\n",
              "      <th>4</th>\n",
              "      <td>24.59</td>\n",
              "      <td>3.61</td>\n",
              "      <td>No</td>\n",
              "      <td>4</td>\n",
              "      <td>1</td>\n",
              "      <td>0</td>\n",
              "      <td>0</td>\n",
              "      <td>1</td>\n",
              "      <td>1</td>\n",
              "    </tr>\n",
              "  </tbody>\n",
              "</table>\n",
              "</div>\n",
              "    <div class=\"colab-df-buttons\">\n",
              "\n",
              "  <div class=\"colab-df-container\">\n",
              "    <button class=\"colab-df-convert\" onclick=\"convertToInteractive('df-fcc7b92a-d8ba-4ded-b34c-6719cee552c5')\"\n",
              "            title=\"Convert this dataframe to an interactive table.\"\n",
              "            style=\"display:none;\">\n",
              "\n",
              "  <svg xmlns=\"http://www.w3.org/2000/svg\" height=\"24px\" viewBox=\"0 -960 960 960\">\n",
              "    <path d=\"M120-120v-720h720v720H120Zm60-500h600v-160H180v160Zm220 220h160v-160H400v160Zm0 220h160v-160H400v160ZM180-400h160v-160H180v160Zm440 0h160v-160H620v160ZM180-180h160v-160H180v160Zm440 0h160v-160H620v160Z\"/>\n",
              "  </svg>\n",
              "    </button>\n",
              "\n",
              "  <style>\n",
              "    .colab-df-container {\n",
              "      display:flex;\n",
              "      gap: 12px;\n",
              "    }\n",
              "\n",
              "    .colab-df-convert {\n",
              "      background-color: #E8F0FE;\n",
              "      border: none;\n",
              "      border-radius: 50%;\n",
              "      cursor: pointer;\n",
              "      display: none;\n",
              "      fill: #1967D2;\n",
              "      height: 32px;\n",
              "      padding: 0 0 0 0;\n",
              "      width: 32px;\n",
              "    }\n",
              "\n",
              "    .colab-df-convert:hover {\n",
              "      background-color: #E2EBFA;\n",
              "      box-shadow: 0px 1px 2px rgba(60, 64, 67, 0.3), 0px 1px 3px 1px rgba(60, 64, 67, 0.15);\n",
              "      fill: #174EA6;\n",
              "    }\n",
              "\n",
              "    .colab-df-buttons div {\n",
              "      margin-bottom: 4px;\n",
              "    }\n",
              "\n",
              "    [theme=dark] .colab-df-convert {\n",
              "      background-color: #3B4455;\n",
              "      fill: #D2E3FC;\n",
              "    }\n",
              "\n",
              "    [theme=dark] .colab-df-convert:hover {\n",
              "      background-color: #434B5C;\n",
              "      box-shadow: 0px 1px 3px 1px rgba(0, 0, 0, 0.15);\n",
              "      filter: drop-shadow(0px 1px 2px rgba(0, 0, 0, 0.3));\n",
              "      fill: #FFFFFF;\n",
              "    }\n",
              "  </style>\n",
              "\n",
              "    <script>\n",
              "      const buttonEl =\n",
              "        document.querySelector('#df-fcc7b92a-d8ba-4ded-b34c-6719cee552c5 button.colab-df-convert');\n",
              "      buttonEl.style.display =\n",
              "        google.colab.kernel.accessAllowed ? 'block' : 'none';\n",
              "\n",
              "      async function convertToInteractive(key) {\n",
              "        const element = document.querySelector('#df-fcc7b92a-d8ba-4ded-b34c-6719cee552c5');\n",
              "        const dataTable =\n",
              "          await google.colab.kernel.invokeFunction('convertToInteractive',\n",
              "                                                    [key], {});\n",
              "        if (!dataTable) return;\n",
              "\n",
              "        const docLinkHtml = 'Like what you see? Visit the ' +\n",
              "          '<a target=\"_blank\" href=https://colab.research.google.com/notebooks/data_table.ipynb>data table notebook</a>'\n",
              "          + ' to learn more about interactive tables.';\n",
              "        element.innerHTML = '';\n",
              "        dataTable['output_type'] = 'display_data';\n",
              "        await google.colab.output.renderOutput(dataTable, element);\n",
              "        const docLink = document.createElement('div');\n",
              "        docLink.innerHTML = docLinkHtml;\n",
              "        element.appendChild(docLink);\n",
              "      }\n",
              "    </script>\n",
              "  </div>\n",
              "\n",
              "\n",
              "<div id=\"df-5f83eb21-fc52-47d2-b2fe-797b87746770\">\n",
              "  <button class=\"colab-df-quickchart\" onclick=\"quickchart('df-5f83eb21-fc52-47d2-b2fe-797b87746770')\"\n",
              "            title=\"Suggest charts.\"\n",
              "            style=\"display:none;\">\n",
              "\n",
              "<svg xmlns=\"http://www.w3.org/2000/svg\" height=\"24px\"viewBox=\"0 0 24 24\"\n",
              "     width=\"24px\">\n",
              "    <g>\n",
              "        <path d=\"M19 3H5c-1.1 0-2 .9-2 2v14c0 1.1.9 2 2 2h14c1.1 0 2-.9 2-2V5c0-1.1-.9-2-2-2zM9 17H7v-7h2v7zm4 0h-2V7h2v10zm4 0h-2v-4h2v4z\"/>\n",
              "    </g>\n",
              "</svg>\n",
              "  </button>\n",
              "\n",
              "<style>\n",
              "  .colab-df-quickchart {\n",
              "      --bg-color: #E8F0FE;\n",
              "      --fill-color: #1967D2;\n",
              "      --hover-bg-color: #E2EBFA;\n",
              "      --hover-fill-color: #174EA6;\n",
              "      --disabled-fill-color: #AAA;\n",
              "      --disabled-bg-color: #DDD;\n",
              "  }\n",
              "\n",
              "  [theme=dark] .colab-df-quickchart {\n",
              "      --bg-color: #3B4455;\n",
              "      --fill-color: #D2E3FC;\n",
              "      --hover-bg-color: #434B5C;\n",
              "      --hover-fill-color: #FFFFFF;\n",
              "      --disabled-bg-color: #3B4455;\n",
              "      --disabled-fill-color: #666;\n",
              "  }\n",
              "\n",
              "  .colab-df-quickchart {\n",
              "    background-color: var(--bg-color);\n",
              "    border: none;\n",
              "    border-radius: 50%;\n",
              "    cursor: pointer;\n",
              "    display: none;\n",
              "    fill: var(--fill-color);\n",
              "    height: 32px;\n",
              "    padding: 0;\n",
              "    width: 32px;\n",
              "  }\n",
              "\n",
              "  .colab-df-quickchart:hover {\n",
              "    background-color: var(--hover-bg-color);\n",
              "    box-shadow: 0 1px 2px rgba(60, 64, 67, 0.3), 0 1px 3px 1px rgba(60, 64, 67, 0.15);\n",
              "    fill: var(--button-hover-fill-color);\n",
              "  }\n",
              "\n",
              "  .colab-df-quickchart-complete:disabled,\n",
              "  .colab-df-quickchart-complete:disabled:hover {\n",
              "    background-color: var(--disabled-bg-color);\n",
              "    fill: var(--disabled-fill-color);\n",
              "    box-shadow: none;\n",
              "  }\n",
              "\n",
              "  .colab-df-spinner {\n",
              "    border: 2px solid var(--fill-color);\n",
              "    border-color: transparent;\n",
              "    border-bottom-color: var(--fill-color);\n",
              "    animation:\n",
              "      spin 1s steps(1) infinite;\n",
              "  }\n",
              "\n",
              "  @keyframes spin {\n",
              "    0% {\n",
              "      border-color: transparent;\n",
              "      border-bottom-color: var(--fill-color);\n",
              "      border-left-color: var(--fill-color);\n",
              "    }\n",
              "    20% {\n",
              "      border-color: transparent;\n",
              "      border-left-color: var(--fill-color);\n",
              "      border-top-color: var(--fill-color);\n",
              "    }\n",
              "    30% {\n",
              "      border-color: transparent;\n",
              "      border-left-color: var(--fill-color);\n",
              "      border-top-color: var(--fill-color);\n",
              "      border-right-color: var(--fill-color);\n",
              "    }\n",
              "    40% {\n",
              "      border-color: transparent;\n",
              "      border-right-color: var(--fill-color);\n",
              "      border-top-color: var(--fill-color);\n",
              "    }\n",
              "    60% {\n",
              "      border-color: transparent;\n",
              "      border-right-color: var(--fill-color);\n",
              "    }\n",
              "    80% {\n",
              "      border-color: transparent;\n",
              "      border-right-color: var(--fill-color);\n",
              "      border-bottom-color: var(--fill-color);\n",
              "    }\n",
              "    90% {\n",
              "      border-color: transparent;\n",
              "      border-bottom-color: var(--fill-color);\n",
              "    }\n",
              "  }\n",
              "</style>\n",
              "\n",
              "  <script>\n",
              "    async function quickchart(key) {\n",
              "      const quickchartButtonEl =\n",
              "        document.querySelector('#' + key + ' button');\n",
              "      quickchartButtonEl.disabled = true;  // To prevent multiple clicks.\n",
              "      quickchartButtonEl.classList.add('colab-df-spinner');\n",
              "      try {\n",
              "        const charts = await google.colab.kernel.invokeFunction(\n",
              "            'suggestCharts', [key], {});\n",
              "      } catch (error) {\n",
              "        console.error('Error during call to suggestCharts:', error);\n",
              "      }\n",
              "      quickchartButtonEl.classList.remove('colab-df-spinner');\n",
              "      quickchartButtonEl.classList.add('colab-df-quickchart-complete');\n",
              "    }\n",
              "    (() => {\n",
              "      let quickchartButtonEl =\n",
              "        document.querySelector('#df-5f83eb21-fc52-47d2-b2fe-797b87746770 button');\n",
              "      quickchartButtonEl.style.display =\n",
              "        google.colab.kernel.accessAllowed ? 'block' : 'none';\n",
              "    })();\n",
              "  </script>\n",
              "</div>\n",
              "    </div>\n",
              "  </div>\n"
            ]
          },
          "metadata": {},
          "execution_count": 3
        }
      ]
    },
    {
      "cell_type": "markdown",
      "source": [
        "喫煙者の割合を知りたいので出してみましょう。"
      ],
      "metadata": {
        "id": "ZwiPbAMvtR7D"
      }
    },
    {
      "cell_type": "code",
      "source": [
        "tips['smoker'].value_counts()"
      ],
      "metadata": {
        "colab": {
          "base_uri": "https://localhost:8080/"
        },
        "id": "-MXXXy75rQal",
        "outputId": "c4a148e3-3074-435e-be15-280f3d7555df"
      },
      "execution_count": null,
      "outputs": [
        {
          "output_type": "execute_result",
          "data": {
            "text/plain": [
              "No     151\n",
              "Yes     93\n",
              "Name: smoker, dtype: int64"
            ]
          },
          "metadata": {},
          "execution_count": 4
        }
      ]
    },
    {
      "cell_type": "markdown",
      "source": [
        "訓練データとテストデータを作ります。\n",
        "\n",
        "今回は、\"smoker\"カラムの値（喫煙者かどうか）を予測するとします。"
      ],
      "metadata": {
        "id": "7MF4IUCGo7sV"
      }
    },
    {
      "cell_type": "code",
      "source": [
        "# 目的変数に\"smoker\"、説明変数にそれ以外のカラムを指定\n",
        "x = tips.drop('smoker', axis=1)\n",
        "y = tips['smoker']\n",
        "\n",
        "# データを訓練データとテストデータに分ける\n",
        "x_train, x_test, y_train, y_test = train_test_split(x, y, test_size=0.3, random_state=0, stratify=y)\n",
        "\n",
        "# 説明変数のデータを標準化\n",
        "from sklearn.preprocessing import StandardScaler\n",
        "scaler = StandardScaler().fit(x_train)\n",
        "x_train_scaled = scaler.transform(x_train)\n",
        "x_test_scaled = scaler.transform(x_test)"
      ],
      "metadata": {
        "id": "ECuhXRaIo-EN"
      },
      "execution_count": null,
      "outputs": []
    },
    {
      "cell_type": "code",
      "source": [
        "from sklearn.linear_model import LogisticRegression\n",
        "\n",
        "# モデル学習\n",
        "model = LogisticRegression(penalty='none')\n",
        "model.fit(x_train_scaled, y_train)\n",
        "\n",
        "# 予測\n",
        "y_pred = model.predict(x_test_scaled)"
      ],
      "metadata": {
        "colab": {
          "base_uri": "https://localhost:8080/"
        },
        "id": "IKtO7GPOTY-N",
        "outputId": "bfe8c2bc-aa4c-4df0-d247-4505528385e7"
      },
      "execution_count": null,
      "outputs": [
        {
          "output_type": "stream",
          "name": "stderr",
          "text": [
            "/usr/local/lib/python3.10/dist-packages/sklearn/linear_model/_logistic.py:1173: FutureWarning: `penalty='none'`has been deprecated in 1.2 and will be removed in 1.4. To keep the past behaviour, set `penalty=None`.\n",
            "  warnings.warn(\n"
          ]
        }
      ]
    },
    {
      "cell_type": "markdown",
      "source": [
        "では、混同行列を表示してみましょう。"
      ],
      "metadata": {
        "id": "WvcBvNUgq5Bu"
      }
    },
    {
      "cell_type": "code",
      "source": [
        "from sklearn.metrics import confusion_matrix, ConfusionMatrixDisplay\n",
        "confusion_matrix(y_test, y_pred, labels=['Yes', 'No'])"
      ],
      "metadata": {
        "colab": {
          "base_uri": "https://localhost:8080/"
        },
        "outputId": "3d1afc43-4b03-41d2-b4ba-9f7408e45271",
        "id": "tXAenzfxF8oZ"
      },
      "execution_count": null,
      "outputs": [
        {
          "output_type": "execute_result",
          "data": {
            "text/plain": [
              "array([[13, 15],\n",
              "       [15, 31]])"
            ]
          },
          "metadata": {},
          "execution_count": 7
        }
      ]
    },
    {
      "cell_type": "markdown",
      "source": [
        "この形だとイマイチ分かりづらいので、  \n",
        "混同行列を綺麗に表示してみます。"
      ],
      "metadata": {
        "id": "WntkDHvNucc6"
      }
    },
    {
      "cell_type": "code",
      "source": [
        "from sklearn.metrics import confusion_matrix, ConfusionMatrixDisplay\n",
        "cm = confusion_matrix(y_test, y_pred, labels=['Yes', 'No'])\n",
        "disp = ConfusionMatrixDisplay(confusion_matrix=cm, display_labels=['Yes', 'No'])\n",
        "disp.plot(cmap=plt.cm.Blues)"
      ],
      "metadata": {
        "colab": {
          "base_uri": "https://localhost:8080/",
          "height": 466
        },
        "id": "8d2oqmTfoy03",
        "outputId": "8080808f-6fa0-45a4-e364-2c13ad6a6c1c"
      },
      "execution_count": null,
      "outputs": [
        {
          "output_type": "execute_result",
          "data": {
            "text/plain": [
              "<sklearn.metrics._plot.confusion_matrix.ConfusionMatrixDisplay at 0x7ae30aa6ba90>"
            ]
          },
          "metadata": {},
          "execution_count": 8
        },
        {
          "output_type": "display_data",
          "data": {
            "text/plain": [
              "<Figure size 640x480 with 2 Axes>"
            ],
            "image/png": "[encoded data removed]"
          },
          "metadata": {}
        }
      ]
    },
    {
      "cell_type": "markdown",
      "source": [
        "heatmapで混同行列を表示することができました。"
      ],
      "metadata": {
        "id": "0GieEk_hvXVR"
      }
    },
    {
      "cell_type": "markdown",
      "source": [
        "以下のような結果が得られたことが分かります。\n",
        "\n",
        "- <font color=red>**TP**</font>：13（左上）\n",
        "- <font color=red>**TN**</font>：31（右下）\n",
        "- <font color=blue>**FP**</font>：15（左下）\n",
        "- <font color=blue>**FN**</font>：15（右上）"
      ],
      "metadata": {
        "id": "6nFJllsWwfOL"
      }
    },
    {
      "cell_type": "markdown",
      "source": [
        "####  使用するデータセット（多値分類）"
      ],
      "metadata": {
        "id": "xhwSxv6K0uMa"
      }
    },
    {
      "cell_type": "markdown",
      "source": [
        "次に、Scikit-learnのデータセット\"iris\"を利用します。\n",
        "\n",
        "\n",
        "（参考サイト：[こちら](https://zenn.dev/nekoallergy/articles/scikit-learn-datasets#%E3%82%B5%E3%83%B3%E3%83%97%E3%83%AB%E3%83%87%E3%83%BC%E3%82%BF%E3%81%AE%E7%A8%AE%E9%A1%9E)）"
      ],
      "metadata": {
        "id": "5ZCzRIRo0uMv"
      }
    },
    {
      "cell_type": "code",
      "source": [
        "from sklearn.datasets import load_iris\n",
        "\n",
        "iris = load_iris()\n",
        "\n",
        "df = pd.DataFrame(iris.data, columns=iris.feature_names)\n",
        "df[\"target\"] = iris.target\n",
        "\n",
        "df[\"target\"][df[\"target\"] == 0] = \"setosa\"\n",
        "df[\"target\"][df[\"target\"] == 1] = \"versicolor\"\n",
        "df[\"target\"][df[\"target\"] == 2] = \"virginica\"\n",
        "\n",
        "# レコード件数、カラム数、欠損値の存在、データ型の確認\n",
        "df.info()"
      ],
      "metadata": {
        "colab": {
          "base_uri": "https://localhost:8080/"
        },
        "outputId": "7406caed-c5c6-47a8-aa17-eb9b8e3eb7cb",
        "id": "5JbncfYZ0uMw"
      },
      "execution_count": null,
      "outputs": [
        {
          "output_type": "stream",
          "name": "stdout",
          "text": [
            "<class 'pandas.core.frame.DataFrame'>\n",
            "RangeIndex: 150 entries, 0 to 149\n",
            "Data columns (total 5 columns):\n",
            " #   Column             Non-Null Count  Dtype  \n",
            "---  ------             --------------  -----  \n",
            " 0   sepal length (cm)  150 non-null    float64\n",
            " 1   sepal width (cm)   150 non-null    float64\n",
            " 2   petal length (cm)  150 non-null    float64\n",
            " 3   petal width (cm)   150 non-null    float64\n",
            " 4   target             150 non-null    object \n",
            "dtypes: float64(4), object(1)\n",
            "memory usage: 6.0+ KB\n"
          ]
        },
        {
          "output_type": "stream",
          "name": "stderr",
          "text": [
            "<ipython-input-9-acfe246a3896>:8: SettingWithCopyWarning: \n",
            "A value is trying to be set on a copy of a slice from a DataFrame\n",
            "\n",
            "See the caveats in the documentation: https://pandas.pydata.org/pandas-docs/stable/user_guide/indexing.html#returning-a-view-versus-a-copy\n",
            "  df[\"target\"][df[\"target\"] == 0] = \"setosa\"\n"
          ]
        }
      ]
    },
    {
      "cell_type": "markdown",
      "source": [
        "\"iris\"のデータの説明は以下の通りです。\n",
        "\n",
        "- 4つのデータがある\n",
        "  - sepal length（がく片の長さ）\n",
        "  - sepal width（がく片の幅）\n",
        "  - petal length（花びらの長さ）\n",
        "  - petal width（花びらの幅）\n",
        "- 3種類の分類がある（それぞれ50個）\n",
        "  - setosa（セトーサ、ヒオウギアヤメ）\n",
        "  - versicolour（ヴァーシカラー、ブルーフラッグ）\n",
        "  - virginica（ヴァージニカ、ヴァージニカ）"
      ],
      "metadata": {
        "id": "9teDGV_10uMy"
      }
    },
    {
      "cell_type": "markdown",
      "source": [
        "また、今回のデータには欠損値はなさそうです。"
      ],
      "metadata": {
        "id": "hcDItLT60uMy"
      }
    },
    {
      "cell_type": "markdown",
      "source": [
        "#### Pythonで混同行列の計算・表示（多値分類）"
      ],
      "metadata": {
        "id": "BjpnDEan0uMz"
      }
    },
    {
      "cell_type": "markdown",
      "source": [
        "では、実際にPythonで混同行列を表示してみましょう。"
      ],
      "metadata": {
        "id": "a8hb49hV0uM0"
      }
    },
    {
      "cell_type": "markdown",
      "source": [
        "アヤメの品種の割合を知りたいので出してみましょう。"
      ],
      "metadata": {
        "id": "ifBgBUyA0uM1"
      }
    },
    {
      "cell_type": "code",
      "source": [
        "df['target'].value_counts()"
      ],
      "metadata": {
        "colab": {
          "base_uri": "https://localhost:8080/"
        },
        "outputId": "691f20db-63c0-4d45-ac35-14db94701e71",
        "id": "Vkku2_g60uM2"
      },
      "execution_count": null,
      "outputs": [
        {
          "output_type": "execute_result",
          "data": {
            "text/plain": [
              "setosa        50\n",
              "versicolor    50\n",
              "virginica     50\n",
              "Name: target, dtype: int64"
            ]
          },
          "metadata": {},
          "execution_count": 10
        }
      ]
    },
    {
      "cell_type": "markdown",
      "source": [
        "訓練データとテストデータを作ります。\n",
        "\n",
        "今回は、\"target\"カラムの値（アヤメの品種）を予測するとします。"
      ],
      "metadata": {
        "id": "JNHiY5eX0uM2"
      }
    },
    {
      "cell_type": "code",
      "source": [
        "# 目的変数に\"target\"、説明変数にそれ以外のカラムを指定\n",
        "x = df.drop('target', axis=1)\n",
        "y = df['target']\n",
        "\n",
        "# データを訓練データとテストデータに分ける\n",
        "x_train, x_test, y_train, y_test = train_test_split(x, y, test_size=0.5, random_state=0, stratify=y)\n",
        "\n",
        "# 説明変数のデータを標準化\n",
        "from sklearn.preprocessing import StandardScaler\n",
        "scaler = StandardScaler().fit(x_train)\n",
        "x_train_scaled = scaler.transform(x_train)\n",
        "x_test_scaled = scaler.transform(x_test)"
      ],
      "metadata": {
        "id": "TZlHzeG80uM3"
      },
      "execution_count": null,
      "outputs": []
    },
    {
      "cell_type": "code",
      "source": [
        "from sklearn.linear_model import LogisticRegression\n",
        "\n",
        "# モデル学習\n",
        "model = LogisticRegression(penalty='none')\n",
        "model.fit(x_train_scaled, y_train)\n",
        "\n",
        "# 予測\n",
        "y_pred = model.predict(x_test_scaled)"
      ],
      "metadata": {
        "colab": {
          "base_uri": "https://localhost:8080/"
        },
        "outputId": "4f64137f-a4a6-4c92-d8e7-ad194d398d58",
        "id": "sM7g0Db30uM3"
      },
      "execution_count": null,
      "outputs": [
        {
          "output_type": "stream",
          "name": "stderr",
          "text": [
            "/usr/local/lib/python3.10/dist-packages/sklearn/linear_model/_logistic.py:1173: FutureWarning: `penalty='none'`has been deprecated in 1.2 and will be removed in 1.4. To keep the past behaviour, set `penalty=None`.\n",
            "  warnings.warn(\n"
          ]
        }
      ]
    },
    {
      "cell_type": "markdown",
      "source": [
        "では、混同行列を表示してみましょう。"
      ],
      "metadata": {
        "id": "7cN7atu_0uM4"
      }
    },
    {
      "cell_type": "code",
      "source": [
        "from sklearn.metrics import confusion_matrix, ConfusionMatrixDisplay\n",
        "confusion_matrix(y_test, y_pred, labels=['setosa', 'versicolor', 'virginica'])"
      ],
      "metadata": {
        "colab": {
          "base_uri": "https://localhost:8080/"
        },
        "outputId": "2f800e1d-fd42-4b33-e250-f39578387e17",
        "id": "uSAnQivk0uM4"
      },
      "execution_count": null,
      "outputs": [
        {
          "output_type": "execute_result",
          "data": {
            "text/plain": [
              "array([[25,  0,  0],\n",
              "       [ 0, 24,  1],\n",
              "       [ 0,  3, 22]])"
            ]
          },
          "metadata": {},
          "execution_count": 13
        }
      ]
    },
    {
      "cell_type": "markdown",
      "source": [
        "この形だとイマイチ分かりづらいので、  \n",
        "混同行列を綺麗に表示してみます。"
      ],
      "metadata": {
        "id": "z6EFsGmt0uM4"
      }
    },
    {
      "cell_type": "code",
      "source": [
        "from sklearn.metrics import confusion_matrix, ConfusionMatrixDisplay\n",
        "cm = confusion_matrix(y_test, y_pred, labels=['setosa', 'versicolor', 'virginica'])\n",
        "disp = ConfusionMatrixDisplay(confusion_matrix=cm, display_labels=['setosa', 'versicolor', 'virginica'])\n",
        "disp.plot(cmap=plt.cm.Blues)"
      ],
      "metadata": {
        "colab": {
          "base_uri": "https://localhost:8080/",
          "height": 472
        },
        "outputId": "9187cc3d-568c-4948-f305-cddaff03050f",
        "id": "LyQFgnZs0uM4"
      },
      "execution_count": null,
      "outputs": [
        {
          "output_type": "execute_result",
          "data": {
            "text/plain": [
              "<sklearn.metrics._plot.confusion_matrix.ConfusionMatrixDisplay at 0x7ae30a88c340>"
            ]
          },
          "metadata": {},
          "execution_count": 14
        },
        {
          "output_type": "display_data",
          "data": {
            "text/plain": [
              "<Figure size 640x480 with 2 Axes>"
            ],
            "image/png": "[encoded data removed]"
          },
          "metadata": {}
        }
      ]
    },
    {
      "cell_type": "markdown",
      "source": [
        "heatmapで混同行列を表示することができました。\n",
        "\n",
        "virginicaのデータをsersicolorと予測しているのが3件あるようです。"
      ],
      "metadata": {
        "id": "wDfZunh30uM5"
      }
    },
    {
      "cell_type": "markdown",
      "source": [
        "## Accuracy"
      ],
      "metadata": {
        "id": "4hsF157koYjn"
      }
    },
    {
      "cell_type": "markdown",
      "source": [
        "**Accuracy(正解率)は**，全てのデータの中で  \n",
        "どれくらい正解しているかを表す指標です。"
      ],
      "metadata": {
        "id": "x8FsBB6I2sL0"
      }
    },
    {
      "cell_type": "markdown",
      "source": [
        "数式で表すと以下のようになります。  \n",
        "簡単に言うと、**正解の数/全データ**　ですね。\n",
        "\n",
        "$$\n",
        "Accuracy=\\frac{TP+TN}{TP+TN+FP+FN}\n",
        "$$"
      ],
      "metadata": {
        "id": "9EBM4DS52_GL"
      }
    },
    {
      "cell_type": "markdown",
      "source": [
        "先ほど例で登場したデータです。\n",
        "\n",
        "![](https://imgur.com/rrcDWhX.png)\n",
        "\n",
        "![](https://imgur.com/egnSydr.png)\n",
        "\n",
        "この場合、Accuracyは$\\frac{4}{8}=0.5$となります。"
      ],
      "metadata": {
        "id": "W__KN6yz6xK7"
      }
    },
    {
      "cell_type": "markdown",
      "source": [
        "### Accuracyの問題点"
      ],
      "metadata": {
        "id": "20yFdMhF4JBZ"
      }
    },
    {
      "cell_type": "markdown",
      "source": [
        "Accuracyですが、以下のように、  \n",
        "評価するデータセットが**PositiveとNegativeの割合に偏りがある**場合は注意が必要です。\n",
        "\n",
        "![](https://imgur.com/uSHAjee.png)"
      ],
      "metadata": {
        "id": "KI5EGxt74R_D"
      }
    },
    {
      "cell_type": "markdown",
      "source": [
        "上のモデルは、正解がどんなものでも予測値を0としてしまうものとなっています。  \n",
        "このような場合でも、Accuracyは$\\frac{7}{8}=0.875$とかなり高い値が出てしまいます。\n",
        "\n",
        "このようなモデルができてしまう原因となるのが、  \n",
        "クラスのデータ数に偏りがあることです。"
      ],
      "metadata": {
        "id": "xpJr_urX4m4p"
      }
    },
    {
      "cell_type": "markdown",
      "source": [
        "その場合は、この後紹介する他の指標を用いる必要があります。"
      ],
      "metadata": {
        "id": "T-eTmFTX5Lmo"
      }
    },
    {
      "cell_type": "markdown",
      "source": [
        "### PythonでAccuracyの導出"
      ],
      "metadata": {
        "id": "bYAECo4M5zMc"
      }
    },
    {
      "cell_type": "code",
      "source": [
        "# サンプルデータ\n",
        "y_true = [1, 1, 0, 0, 1, 0, 1, 1]\n",
        "y_pred = [1, 0, 1, 0, 0, 1, 1, 1]"
      ],
      "metadata": {
        "id": "R4WweiXL6LwX"
      },
      "execution_count": null,
      "outputs": []
    },
    {
      "cell_type": "code",
      "source": [
        "from sklearn.metrics import accuracy_score\n",
        "accuracy_score(y_true, y_pred)"
      ],
      "metadata": {
        "colab": {
          "base_uri": "https://localhost:8080/"
        },
        "id": "lIRR6wNm6GDa",
        "outputId": "cda4a299-b20b-4f2b-c75a-b57b4491e9d2"
      },
      "execution_count": null,
      "outputs": [
        {
          "output_type": "execute_result",
          "data": {
            "text/plain": [
              "0.5"
            ]
          },
          "metadata": {},
          "execution_count": 16
        }
      ]
    },
    {
      "cell_type": "code",
      "source": [
        "# サンプルデータ\n",
        "y_true = [0, 0, 0, 0, 1, 0, 0, 0]\n",
        "y_pred = [0, 0, 0, 0, 0, 0, 0, 0]"
      ],
      "metadata": {
        "id": "U5HIrUIp6fQg"
      },
      "execution_count": null,
      "outputs": []
    },
    {
      "cell_type": "code",
      "source": [
        "from sklearn.metrics import accuracy_score\n",
        "accuracy_score(y_true, y_pred)"
      ],
      "metadata": {
        "colab": {
          "base_uri": "https://localhost:8080/"
        },
        "id": "GPNUyU0f6fto",
        "outputId": "cc3265b7-50b9-4a76-b701-6a53e0993635"
      },
      "execution_count": null,
      "outputs": [
        {
          "output_type": "execute_result",
          "data": {
            "text/plain": [
              "0.875"
            ]
          },
          "metadata": {},
          "execution_count": 18
        }
      ]
    },
    {
      "cell_type": "markdown",
      "source": [
        "## Precision"
      ],
      "metadata": {
        "id": "yCiScza97kb5"
      }
    },
    {
      "cell_type": "markdown",
      "source": [
        "**Precision(適合率)は**，\"陽性\"と分類した中で  \n",
        "実際に\"陽性\"である割合を表す指標です。\n",
        "\n",
        "PPV(Positive Predictive Value)ということもあるようです。"
      ],
      "metadata": {
        "id": "Sbfx9lu77kb5"
      }
    },
    {
      "cell_type": "markdown",
      "source": [
        "数式で表すと以下のようになります。  \n",
        "簡単に言うと、陽性と予測されたデータが、実際どれだけ陽性だったかということですね。\n",
        "\n",
        "$$\n",
        "Precision=\\frac{TP}{TP+FP}\n",
        "$$"
      ],
      "metadata": {
        "id": "_jltS4ee7kb5"
      }
    },
    {
      "cell_type": "markdown",
      "source": [
        "先ほど例で登場したデータです。\n",
        "\n",
        "![](https://imgur.com/rrcDWhX.png)\n",
        "\n",
        "![](https://imgur.com/egnSydr.png)\n",
        "\n",
        "この場合、Precisionは$\\frac{3}{5}=0.6$となります。"
      ],
      "metadata": {
        "id": "4MRvokx97kb6"
      }
    },
    {
      "cell_type": "markdown",
      "source": [
        "### Precisionの特徴"
      ],
      "metadata": {
        "id": "IWubWgNN7kb6"
      }
    },
    {
      "cell_type": "markdown",
      "source": [
        "Precisionですが、以下のように、  \n",
        "評価するデータセットがPositiveとNegativeの割合に偏りがある場合でも、  \n",
        "それが**陽性が極端に少ない場合であれば**偏ったケースも適切に評価できることがあります。\n",
        "\n",
        "![](https://imgur.com/uSHAjee.png)"
      ],
      "metadata": {
        "id": "-19-9Fjc7kb6"
      }
    },
    {
      "cell_type": "markdown",
      "source": [
        "しかし、**陰性が極端に少ない場合**では、適切に評価できないことがあります。  \n",
        "（100%に近い精度が出てしまう）"
      ],
      "metadata": {
        "id": "i0ykoNL17kb6"
      }
    },
    {
      "cell_type": "markdown",
      "source": [
        "### PythonでPrecisionの導出"
      ],
      "metadata": {
        "id": "WyYHrLjY7kb7"
      }
    },
    {
      "cell_type": "code",
      "source": [
        "# サンプルデータ\n",
        "y_true = [1, 1, 0, 0, 1, 0, 1, 1]\n",
        "y_pred = [1, 0, 1, 0, 0, 1, 1, 1]"
      ],
      "metadata": {
        "id": "M3jKnEPx7kb7"
      },
      "execution_count": null,
      "outputs": []
    },
    {
      "cell_type": "code",
      "source": [
        "from sklearn.metrics import precision_score\n",
        "precision_score(y_true, y_pred)"
      ],
      "metadata": {
        "colab": {
          "base_uri": "https://localhost:8080/"
        },
        "outputId": "9038e514-ddb2-458c-cb77-fbe8931ce3b8",
        "id": "2j5yppQd7kb7"
      },
      "execution_count": null,
      "outputs": [
        {
          "output_type": "execute_result",
          "data": {
            "text/plain": [
              "0.6"
            ]
          },
          "metadata": {},
          "execution_count": 20
        }
      ]
    },
    {
      "cell_type": "code",
      "source": [
        "# サンプルデータ\n",
        "y_true = [0, 0, 0, 0, 1, 0, 0, 0]\n",
        "y_pred = [0, 0, 0, 0, 0, 0, 0, 0]"
      ],
      "metadata": {
        "id": "T6WLBIF77kb8"
      },
      "execution_count": null,
      "outputs": []
    },
    {
      "cell_type": "code",
      "source": [
        "from sklearn.metrics import precision_score\n",
        "precision_score(y_true, y_pred)"
      ],
      "metadata": {
        "colab": {
          "base_uri": "https://localhost:8080/"
        },
        "outputId": "9522298a-57f5-4c50-b549-789df5860e32",
        "id": "pMkmvofO7kb9"
      },
      "execution_count": null,
      "outputs": [
        {
          "output_type": "stream",
          "name": "stderr",
          "text": [
            "/usr/local/lib/python3.10/dist-packages/sklearn/metrics/_classification.py:1344: UndefinedMetricWarning: Precision is ill-defined and being set to 0.0 due to no predicted samples. Use `zero_division` parameter to control this behavior.\n",
            "  _warn_prf(average, modifier, msg_start, len(result))\n"
          ]
        },
        {
          "output_type": "execute_result",
          "data": {
            "text/plain": [
              "0.0"
            ]
          },
          "metadata": {},
          "execution_count": 22
        }
      ]
    },
    {
      "cell_type": "markdown",
      "source": [
        "## Recall"
      ],
      "metadata": {
        "id": "le9S2s7Y9Xfv"
      }
    },
    {
      "cell_type": "markdown",
      "source": [
        "**Recall(再現率)は**，\"陽性\"と分類した中で  \n",
        "どれだけ正しく\"陽性\"と予測できていたかを表す指標です。\n"
      ],
      "metadata": {
        "id": "3z4_QS_M9Xf5"
      }
    },
    {
      "cell_type": "markdown",
      "source": [
        "数式で表すと以下のようになります。  \n",
        "簡単に言うと、実際陽性のデータの内、どれだけ陽性であろうと予測したかということですね。\n",
        "\n",
        "$$\n",
        "Recall=\\frac{TP}{TP+FN}\n",
        "$$"
      ],
      "metadata": {
        "id": "FEcZilkx9Xf5"
      }
    },
    {
      "cell_type": "markdown",
      "source": [
        "先ほど例で登場したデータです。\n",
        "\n",
        "![](https://imgur.com/rrcDWhX.png)\n",
        "\n",
        "![](https://imgur.com/egnSydr.png)\n",
        "\n",
        "この場合、Recallは$\\frac{3}{5}=0.6$となります。"
      ],
      "metadata": {
        "id": "dOgQWe939Xf6"
      }
    },
    {
      "cell_type": "markdown",
      "source": [
        "### Recallの特徴"
      ],
      "metadata": {
        "id": "eCN_f7Qo9Xf6"
      }
    },
    {
      "cell_type": "markdown",
      "source": [
        "Recallですが、以下のように、  \n",
        "評価するデータセットがPositiveとNegativeの割合に偏りがある場合でも、  \n",
        "それが**陽性が極端に少ない場合であれば**偏ったケースも適切に評価できることがあります。\n",
        "\n",
        "![](https://imgur.com/uSHAjee.png)"
      ],
      "metadata": {
        "id": "sFS8mnQJ9Xf6"
      }
    },
    {
      "cell_type": "markdown",
      "source": [
        "しかし、**陰性が極端に少ない場合**では、適切に評価できないことがあります。  \n",
        "（100%に近い精度が出てしまう）"
      ],
      "metadata": {
        "id": "xFDEFdTM9Xf6"
      }
    },
    {
      "cell_type": "markdown",
      "source": [
        "### PythonでRecallの導出"
      ],
      "metadata": {
        "id": "Feo583HU9Xf7"
      }
    },
    {
      "cell_type": "code",
      "source": [
        "# サンプルデータ\n",
        "y_true = [1, 1, 0, 0, 1, 0, 1, 1]\n",
        "y_pred = [1, 0, 1, 0, 0, 1, 1, 1]"
      ],
      "metadata": {
        "id": "yeHCGKVj9Xf7"
      },
      "execution_count": null,
      "outputs": []
    },
    {
      "cell_type": "code",
      "source": [
        "from sklearn.metrics import recall_score\n",
        "recall_score(y_true, y_pred)"
      ],
      "metadata": {
        "colab": {
          "base_uri": "https://localhost:8080/"
        },
        "outputId": "954f5f66-d16f-4753-92ab-e7dd3021fb3f",
        "id": "WwfNnkKe9Xf7"
      },
      "execution_count": null,
      "outputs": [
        {
          "output_type": "execute_result",
          "data": {
            "text/plain": [
              "0.6"
            ]
          },
          "metadata": {},
          "execution_count": 24
        }
      ]
    },
    {
      "cell_type": "code",
      "source": [
        "# サンプルデータ\n",
        "y_true = [0, 0, 0, 0, 1, 0, 0, 0]\n",
        "y_pred = [0, 0, 0, 0, 0, 0, 0, 0]"
      ],
      "metadata": {
        "id": "xJCeiPqR9Xf8"
      },
      "execution_count": null,
      "outputs": []
    },
    {
      "cell_type": "code",
      "source": [
        "from sklearn.metrics import recall_score\n",
        "recall_score(y_true, y_pred)"
      ],
      "metadata": {
        "colab": {
          "base_uri": "https://localhost:8080/"
        },
        "outputId": "c01eca36-9504-4995-a2ec-214dcdd045e9",
        "id": "fji1MxES9Xf8"
      },
      "execution_count": null,
      "outputs": [
        {
          "output_type": "execute_result",
          "data": {
            "text/plain": [
              "0.0"
            ]
          },
          "metadata": {},
          "execution_count": 26
        }
      ]
    },
    {
      "cell_type": "code",
      "source": [
        "# サンプルデータ\n",
        "y_true = [1, 1, 1, 1, 0, 1, 1, 1]\n",
        "y_pred = [1, 1, 1, 1, 1, 1, 1, 1]\n",
        "np.array(y_true)!=1"
      ],
      "metadata": {
        "colab": {
          "base_uri": "https://localhost:8080/"
        },
        "outputId": "743c70ff-8ee5-44ed-c44f-ea30ca7f1f2f",
        "id": "bOQWo8lVGRFA"
      },
      "execution_count": null,
      "outputs": [
        {
          "output_type": "execute_result",
          "data": {
            "text/plain": [
              "array([False, False, False, False,  True, False, False, False])"
            ]
          },
          "metadata": {},
          "execution_count": 27
        }
      ]
    },
    {
      "cell_type": "code",
      "source": [
        "from sklearn.metrics import recall_score\n",
        "recall_score(y_true, y_pred)"
      ],
      "metadata": {
        "colab": {
          "base_uri": "https://localhost:8080/"
        },
        "outputId": "b471c427-a14b-4685-ddf4-5db23db674e9",
        "id": "RTqiZ6fxGRFK"
      },
      "execution_count": null,
      "outputs": [
        {
          "output_type": "execute_result",
          "data": {
            "text/plain": [
              "1.0"
            ]
          },
          "metadata": {},
          "execution_count": 28
        }
      ]
    },
    {
      "cell_type": "markdown",
      "source": [
        "## Specificity"
      ],
      "metadata": {
        "id": "5JldsFfgBff8"
      }
    },
    {
      "cell_type": "markdown",
      "source": [
        "**Specificity(特異度)は**，\"陰性\"と分類した中で  \n",
        "どれだけ正しく\"陰性\"と予測できていたかを表す指標です。\n",
        "\n",
        "Recallの陰性バージョンですね。\n"
      ],
      "metadata": {
        "id": "GCLcCj6JBfgG"
      }
    },
    {
      "cell_type": "markdown",
      "source": [
        "数式で表すと以下のようになります。  \n",
        "簡単に言うと、実際陰性のデータの内、どれだけ陰性であろうと予測したかということですね。\n",
        "\n",
        "$$\n",
        "Specificity=\\frac{TN}{TN+FP}\n",
        "$$"
      ],
      "metadata": {
        "id": "zoeFAFgKBfgG"
      }
    },
    {
      "cell_type": "markdown",
      "source": [
        "先ほど例で登場したデータです。\n",
        "\n",
        "![](https://imgur.com/rrcDWhX.png)\n",
        "\n",
        "![](https://imgur.com/egnSydr.png)\n",
        "\n",
        "この場合、Specificityは$\\frac{1}{3}=0.33$となります。"
      ],
      "metadata": {
        "id": "2nZDsyhuBfgH"
      }
    },
    {
      "cell_type": "markdown",
      "source": [
        "### Specificityの特徴"
      ],
      "metadata": {
        "id": "DLFMkiN2BfgH"
      }
    },
    {
      "cell_type": "markdown",
      "source": [
        "Specificityですが、以下のように、  \n",
        "評価するデータセットがPositiveとNegativeの割合に偏りがある場合でも、  \n",
        "それが**陰性が極端に少ない場合であれば**偏ったケースも適切に評価できることがあります。\n",
        "\n",
        "![](https://imgur.com/uSHAjee.png)"
      ],
      "metadata": {
        "id": "f4cT2RgZBfgH"
      }
    },
    {
      "cell_type": "markdown",
      "source": [
        "しかし、**陽性が極端に少ない場合**では、適切に評価できないことがあります。  \n",
        "（100%に近い精度が出てしまう）"
      ],
      "metadata": {
        "id": "RvMkiZZABfgI"
      }
    },
    {
      "cell_type": "markdown",
      "source": [
        "### PythonでSpecificityの導出"
      ],
      "metadata": {
        "id": "7ZeOez6sBfgI"
      }
    },
    {
      "cell_type": "markdown",
      "source": [
        "Specificityの計算はsklearnには実装されていません。\n",
        "\n",
        "データの陽性と陰性を逆にして、Recallを求めれば計算となります。"
      ],
      "metadata": {
        "id": "HF-qqgK6F2Vc"
      }
    },
    {
      "cell_type": "code",
      "source": [
        "# サンプルデータ\n",
        "y_true = [1, 1, 0, 0, 1, 0, 1, 1]\n",
        "y_pred = [1, 0, 1, 0, 0, 1, 1, 1]\n",
        "np.array(y_true)!=1"
      ],
      "metadata": {
        "colab": {
          "base_uri": "https://localhost:8080/"
        },
        "id": "xBdkxcdRBfgJ",
        "outputId": "e6e69cc9-e2eb-4aa8-98b4-2ad2eb400e83"
      },
      "execution_count": null,
      "outputs": [
        {
          "output_type": "execute_result",
          "data": {
            "text/plain": [
              "array([False, False,  True,  True, False,  True, False, False])"
            ]
          },
          "metadata": {},
          "execution_count": 29
        }
      ]
    },
    {
      "cell_type": "code",
      "source": [
        "from sklearn.metrics import recall_score\n",
        "\n",
        "res = []\n",
        "for c in [0, 1]:\n",
        "    res.append(recall_score(np.array(y_true)!=c, np.array(y_pred)!=c))\n",
        "res"
      ],
      "metadata": {
        "colab": {
          "base_uri": "https://localhost:8080/"
        },
        "outputId": "9d87ad82-c564-486d-fca9-295ac7494faf",
        "id": "Dofx84f2BfgJ"
      },
      "execution_count": null,
      "outputs": [
        {
          "output_type": "execute_result",
          "data": {
            "text/plain": [
              "[0.6, 0.3333333333333333]"
            ]
          },
          "metadata": {},
          "execution_count": 30
        }
      ]
    },
    {
      "cell_type": "code",
      "source": [
        "# サンプルデータ\n",
        "y_true = [0, 0, 0, 0, 1, 0, 0, 0]\n",
        "y_pred = [0, 0, 0, 0, 0, 0, 0, 0]\n",
        "np.array(y_true)!=1"
      ],
      "metadata": {
        "colab": {
          "base_uri": "https://localhost:8080/"
        },
        "id": "ua0_SxijBfgJ",
        "outputId": "fae1c61b-01e7-4d85-ceff-ececbf707b04"
      },
      "execution_count": null,
      "outputs": [
        {
          "output_type": "execute_result",
          "data": {
            "text/plain": [
              "array([ True,  True,  True,  True, False,  True,  True,  True])"
            ]
          },
          "metadata": {},
          "execution_count": 31
        }
      ]
    },
    {
      "cell_type": "code",
      "source": [
        "from sklearn.metrics import recall_score\n",
        "\n",
        "res = []\n",
        "for c in [0, 1]:\n",
        "    res.append(recall_score(np.array(y_true)!=c, np.array(y_pred)!=c))\n",
        "res"
      ],
      "metadata": {
        "colab": {
          "base_uri": "https://localhost:8080/"
        },
        "outputId": "fbe8d5a8-216a-4b28-b474-bc323afe640a",
        "id": "EB_sVv7SBfgK"
      },
      "execution_count": null,
      "outputs": [
        {
          "output_type": "execute_result",
          "data": {
            "text/plain": [
              "[0.0, 1.0]"
            ]
          },
          "metadata": {},
          "execution_count": 32
        }
      ]
    },
    {
      "cell_type": "code",
      "source": [
        "# サンプルデータ\n",
        "y_true = [1, 1, 1, 1, 0, 1, 1, 1]\n",
        "y_pred = [1, 1, 1, 1, 1, 1, 1, 1]\n",
        "np.array(y_true)!=1"
      ],
      "metadata": {
        "colab": {
          "base_uri": "https://localhost:8080/"
        },
        "id": "MmiGPBA0GHIf",
        "outputId": "91ed4740-99e5-4e17-ca24-1b1fee3f0e9c"
      },
      "execution_count": null,
      "outputs": [
        {
          "output_type": "execute_result",
          "data": {
            "text/plain": [
              "array([False, False, False, False,  True, False, False, False])"
            ]
          },
          "metadata": {},
          "execution_count": 33
        }
      ]
    },
    {
      "cell_type": "code",
      "source": [
        "from sklearn.metrics import recall_score\n",
        "\n",
        "res = []\n",
        "for c in [0, 1]:\n",
        "    res.append(recall_score(np.array(y_true)!=c, np.array(y_pred)!=c))\n",
        "res"
      ],
      "metadata": {
        "colab": {
          "base_uri": "https://localhost:8080/"
        },
        "id": "RRU1kOd2GHom",
        "outputId": "91bc9379-c527-44aa-bccc-f14721cc69b9"
      },
      "execution_count": null,
      "outputs": [
        {
          "output_type": "execute_result",
          "data": {
            "text/plain": [
              "[1.0, 0.0]"
            ]
          },
          "metadata": {},
          "execution_count": 34
        }
      ]
    },
    {
      "cell_type": "markdown",
      "source": [
        "## 多クラスでの評価指標の計算の仕方"
      ],
      "metadata": {
        "id": "8ZgRtfck22-3"
      }
    },
    {
      "cell_type": "markdown",
      "source": [
        "Precision,Recall,Specificityを計算する際、  \n",
        "多クラスの場合は工夫が必要です。\n",
        "\n",
        "あるクラスをPositiveとしてその他のクラスをNegativeとすると、  \n",
        "クラスの数だけパターンができてしまうからです。"
      ],
      "metadata": {
        "id": "2QLxPXUM2-vu"
      }
    },
    {
      "cell_type": "markdown",
      "source": [
        "そのため、計算する際はクラスレベルで平均を取り、   \n",
        "それを単純に算術平均します。\n",
        "\n",
        "これを**macro平均**と言います。"
      ],
      "metadata": {
        "id": "YdVv26EW3ZDe"
      }
    },
    {
      "cell_type": "markdown",
      "source": [
        "一方、データレベルで平均を取るやり方を  \n",
        "**micro平均**と言います。"
      ],
      "metadata": {
        "id": "oi4Ki6iG7A9R"
      }
    },
    {
      "cell_type": "markdown",
      "source": [
        "以下のような場合を例として取り上げます。  \n",
        "今回使う評価指標は**Accuracy**です。\n",
        "\n",
        "- クラスA：データ数100、Accuracyが0.1\n",
        "- クラスB：データ数50、Accuracyが0.5\n",
        "- クラスC：データ数10、Accuracyが0.3"
      ],
      "metadata": {
        "id": "YX5gh0Cf7Kyv"
      }
    },
    {
      "cell_type": "markdown",
      "source": [
        "この場合、macro平均とmicro平均は以下のようになります。  \n",
        "（10, 25, 3 はそれぞれの正解数）\n",
        "\n",
        "\n",
        "$$\n",
        "macro = \\frac{0.1+0.5+0.3}{3}=0.3\n",
        "$$\n",
        "\n",
        "$$\n",
        "micro = \\frac{10+25+3}{160}=約0.24\n",
        "$$\n",
        "\n"
      ],
      "metadata": {
        "id": "mXwMFS6B7eX3"
      }
    },
    {
      "cell_type": "markdown",
      "source": [
        "これを他の評価指標に適用するとどうなるでしょう。  \n",
        "ここでは、**Precision**を例とします。"
      ],
      "metadata": {
        "id": "lEBey0tv8aP2"
      }
    },
    {
      "cell_type": "markdown",
      "source": [
        "Precisionの式は$\\frac{TP}{TP+FP}$でした。\n",
        "\n",
        "あるクラスのTNは他のクラスのTPになるので、  \n",
        "TPはTP+TNとなります。\n",
        "\n",
        "また、同様にあるクラスのFPは他のクラスのFNもしくはTNになるので、  \n",
        "FPはFP+FN+TNになります。"
      ],
      "metadata": {
        "id": "ymQkBSaU8oqu"
      }
    },
    {
      "cell_type": "markdown",
      "source": [
        "このことから、データ全体でTP，FPを数えると、  \n",
        "結局他のクラスのTN, FNもカウントされてしまうことが分かります。\n",
        "\n",
        "つまり、**Precisionのmicro平均はAccuracyと同じになる**ということです。\n",
        "\n"
      ],
      "metadata": {
        "id": "zYepaxvG9JJs"
      }
    },
    {
      "cell_type": "markdown",
      "source": [
        "これはrecall, specificityについても同じです。\n",
        "\n",
        "そのため、**Accuracyは通常micro平均**を、  \n",
        "**Precision, recall, specificityは通常macro平均**を取ることになります。"
      ],
      "metadata": {
        "id": "Xbo9fhHn9pBc"
      }
    },
    {
      "cell_type": "markdown",
      "source": [
        "###  使用するデータセット（評価指標計算）"
      ],
      "metadata": {
        "id": "KiSP1FNu_YC5"
      }
    },
    {
      "cell_type": "markdown",
      "source": [
        "では、実際のデータを使って、  \n",
        "Pythonで指標を計算させてみます。\n",
        "\n",
        "ここでもまた、Scikit-learnのデータセット\"iris\"を利用します。\n",
        "\n",
        "\n",
        "（参考サイト：[こちら](https://zenn.dev/nekoallergy/articles/scikit-learn-datasets#%E3%82%B5%E3%83%B3%E3%83%97%E3%83%AB%E3%83%87%E3%83%BC%E3%82%BF%E3%81%AE%E7%A8%AE%E9%A1%9E)）"
      ],
      "metadata": {
        "id": "SfXi-a0P_YDC"
      }
    },
    {
      "cell_type": "code",
      "source": [
        "from sklearn.datasets import load_iris\n",
        "\n",
        "iris = load_iris()\n",
        "\n",
        "df = pd.DataFrame(iris.data, columns=iris.feature_names)\n",
        "df[\"target\"] = iris.target\n",
        "\n",
        "df[\"target\"][df[\"target\"] == 0] = \"setosa\"\n",
        "df[\"target\"][df[\"target\"] == 1] = \"sersicolor\"\n",
        "df[\"target\"][df[\"target\"] == 2] = \"virginica\"\n",
        "\n",
        "# レコード件数、カラム数、欠損値の存在、データ型の確認\n",
        "df.info()"
      ],
      "metadata": {
        "colab": {
          "base_uri": "https://localhost:8080/"
        },
        "outputId": "ea29e2e0-d891-4599-f695-e76956ef2202",
        "id": "39AXF69-_YDD"
      },
      "execution_count": null,
      "outputs": [
        {
          "output_type": "stream",
          "name": "stderr",
          "text": [
            "<ipython-input-35-15050d26f2b8>:8: SettingWithCopyWarning: \n",
            "A value is trying to be set on a copy of a slice from a DataFrame\n",
            "\n",
            "See the caveats in the documentation: https://pandas.pydata.org/pandas-docs/stable/user_guide/indexing.html#returning-a-view-versus-a-copy\n",
            "  df[\"target\"][df[\"target\"] == 0] = \"setosa\"\n"
          ]
        },
        {
          "output_type": "stream",
          "name": "stdout",
          "text": [
            "<class 'pandas.core.frame.DataFrame'>\n",
            "RangeIndex: 150 entries, 0 to 149\n",
            "Data columns (total 5 columns):\n",
            " #   Column             Non-Null Count  Dtype  \n",
            "---  ------             --------------  -----  \n",
            " 0   sepal length (cm)  150 non-null    float64\n",
            " 1   sepal width (cm)   150 non-null    float64\n",
            " 2   petal length (cm)  150 non-null    float64\n",
            " 3   petal width (cm)   150 non-null    float64\n",
            " 4   target             150 non-null    object \n",
            "dtypes: float64(4), object(1)\n",
            "memory usage: 6.0+ KB\n"
          ]
        }
      ]
    },
    {
      "cell_type": "markdown",
      "source": [
        "\"iris\"のデータの説明は以下の通りです。\n",
        "\n",
        "- 4つのデータがある\n",
        "  - sepal length（がく片の長さ）\n",
        "  - sepal width（がく片の幅）\n",
        "  - petal length（花びらの長さ）\n",
        "  - petal width（花びらの幅）\n",
        "- 3種類の分類がある（それぞれ50個）\n",
        "  - setosa（セトーサ、ヒオウギアヤメ）\n",
        "  - versicolour（ヴァーシカラー、ブルーフラッグ）\n",
        "  - virginica（ヴァージニカ、ヴァージニカ）"
      ],
      "metadata": {
        "id": "t40CRg8T_YDD"
      }
    },
    {
      "cell_type": "markdown",
      "source": [
        "また、今回のデータには欠損値はなさそうです。"
      ],
      "metadata": {
        "id": "CggW9HZh_YDE"
      }
    },
    {
      "cell_type": "markdown",
      "source": [
        "訓練データとテストデータを作ります。\n",
        "\n",
        "今回は、\"target\"カラムの値（アヤメの品種）を予測するとします。"
      ],
      "metadata": {
        "id": "Dmu9fk94Itl6"
      }
    },
    {
      "cell_type": "code",
      "source": [
        "# 目的変数に\"target\"、説明変数にそれ以外のカラムを指定\n",
        "x = df.drop('target', axis=1)\n",
        "y = df['target']\n",
        "\n",
        "# データを訓練データとテストデータに分ける\n",
        "x_train, x_test, y_train, y_test = train_test_split(x, y, test_size=0.5, random_state=0, stratify=y)\n",
        "\n",
        "# 説明変数のデータを標準化\n",
        "from sklearn.preprocessing import StandardScaler\n",
        "scaler = StandardScaler().fit(x_train)\n",
        "x_train_scaled = scaler.transform(x_train)\n",
        "x_test_scaled = scaler.transform(x_test)"
      ],
      "metadata": {
        "id": "UWcYwXQaAjA6"
      },
      "execution_count": null,
      "outputs": []
    },
    {
      "cell_type": "code",
      "source": [
        "from sklearn.linear_model import LogisticRegression\n",
        "\n",
        "# モデル学習\n",
        "model = LogisticRegression(penalty='none')\n",
        "model.fit(x_train_scaled, y_train)\n",
        "\n",
        "# # 現在の classes_ 属性の値を取得\n",
        "# current_classes = model.classes_\n",
        "# # 新しいクラスの順序に入れ替える（ここでは逆順に）\n",
        "# model.classes_ = current_classes[::-1]\n",
        "\n",
        "# 予測\n",
        "y_pred = model.predict(x_test_scaled)"
      ],
      "metadata": {
        "colab": {
          "base_uri": "https://localhost:8080/"
        },
        "outputId": "f3f5f7f3-e5f0-4bdd-f109-63ca40889df5",
        "id": "zVdEapcxAjBM"
      },
      "execution_count": null,
      "outputs": [
        {
          "output_type": "stream",
          "name": "stderr",
          "text": [
            "/usr/local/lib/python3.10/dist-packages/sklearn/linear_model/_logistic.py:1173: FutureWarning: `penalty='none'`has been deprecated in 1.2 and will be removed in 1.4. To keep the past behaviour, set `penalty=None`.\n",
            "  warnings.warn(\n"
          ]
        }
      ]
    },
    {
      "cell_type": "markdown",
      "source": [
        "### Accuracyの導出（多クラス）"
      ],
      "metadata": {
        "id": "bUM68b0gL_Hz"
      }
    },
    {
      "cell_type": "markdown",
      "source": [
        "まずはAccuracyです。  \n",
        "micro平均しかそもそも求められないようです。"
      ],
      "metadata": {
        "id": "9-iMYuGx_3Z_"
      }
    },
    {
      "cell_type": "code",
      "source": [
        "from sklearn.metrics import accuracy_score\n",
        "\n",
        "# Accuracy\n",
        "print(accuracy_score(y_test, y_pred))"
      ],
      "metadata": {
        "colab": {
          "base_uri": "https://localhost:8080/"
        },
        "id": "i-3WZIN8AI5h",
        "outputId": "e7974e51-2ad4-42b8-b8af-a9bb075034a6"
      },
      "execution_count": null,
      "outputs": [
        {
          "output_type": "stream",
          "name": "stdout",
          "text": [
            "0.96\n"
          ]
        }
      ]
    },
    {
      "cell_type": "markdown",
      "source": [
        "### Precisionの導出（多クラス）"
      ],
      "metadata": {
        "id": "LGCihSzPMEgS"
      }
    },
    {
      "cell_type": "markdown",
      "source": [
        "次はPrecisionです。  \n",
        "各クラスの評価・macro平均・micro平均を求めます。"
      ],
      "metadata": {
        "id": "nk0ou6AEEsYp"
      }
    },
    {
      "cell_type": "code",
      "source": [
        "from sklearn.metrics import precision_score\n",
        "\n",
        "# classes\n",
        "print(model.classes_)\n",
        "# None\n",
        "print(precision_score(y_test, y_pred, average=None))\n",
        "# macro\n",
        "print(precision_score(y_test, y_pred, average='macro'))\n",
        "# micro\n",
        "print(precision_score(y_test, y_pred, average='micro'))"
      ],
      "metadata": {
        "colab": {
          "base_uri": "https://localhost:8080/"
        },
        "id": "NjCnOcsuE_m_",
        "outputId": "10851ea5-6b2f-4fe7-e8fc-a5ff296b8194"
      },
      "execution_count": null,
      "outputs": [
        {
          "output_type": "stream",
          "name": "stdout",
          "text": [
            "['sersicolor' 'setosa' 'virginica']\n",
            "[0.89285714 1.         1.        ]\n",
            "0.9642857142857143\n",
            "0.96\n"
          ]
        }
      ]
    },
    {
      "cell_type": "markdown",
      "source": [
        "### Recallの導出（多クラス）"
      ],
      "metadata": {
        "id": "GgboN40DMHeq"
      }
    },
    {
      "cell_type": "markdown",
      "source": [
        "次はRecallです。  \n",
        "各クラスの評価・macro平均・micro平均を求めます。"
      ],
      "metadata": {
        "id": "IwsnK-YQGoUc"
      }
    },
    {
      "cell_type": "code",
      "source": [
        "from sklearn.metrics import recall_score\n",
        "\n",
        "# classes\n",
        "print(model.classes_)\n",
        "# None\n",
        "print(recall_score(y_test, y_pred, average=None))\n",
        "# macro\n",
        "print(recall_score(y_test, y_pred, average='macro'))\n",
        "# micro\n",
        "print(recall_score(y_test, y_pred, average='micro'))"
      ],
      "metadata": {
        "colab": {
          "base_uri": "https://localhost:8080/"
        },
        "outputId": "e90572d3-057a-40b6-bcce-cf87caa7e00e",
        "id": "5K9YRa11GoUp"
      },
      "execution_count": null,
      "outputs": [
        {
          "output_type": "stream",
          "name": "stdout",
          "text": [
            "['sersicolor' 'setosa' 'virginica']\n",
            "[1.   1.   0.88]\n",
            "0.96\n",
            "0.96\n"
          ]
        }
      ]
    },
    {
      "cell_type": "markdown",
      "source": [
        "### Specificityの導出（多クラス）"
      ],
      "metadata": {
        "id": "H43AJ_VCMKKi"
      }
    },
    {
      "cell_type": "markdown",
      "source": [
        "最後はSpecificityです。  \n",
        "各クラスの評価・macro平均を求めます。"
      ],
      "metadata": {
        "id": "9YYoTZLOL3ML"
      }
    },
    {
      "cell_type": "code",
      "source": [
        "from sklearn.metrics import recall_score\n",
        "\n",
        "res = []\n",
        "\n",
        "for c in model.classes_:\n",
        "    res.append(recall_score(np.array(y_test)!=c, np.array(y_pred)!=c))\n",
        "\n",
        "print(f\"Model：{model.classes_}\")\n",
        "print(f\"None：{res}\")\n",
        "print(f\"Macro：{np.mean(res)}\")"
      ],
      "metadata": {
        "colab": {
          "base_uri": "https://localhost:8080/"
        },
        "id": "SxlSX5BDJMWg",
        "outputId": "e7a77493-ef41-441a-bb61-54d4cad078aa"
      },
      "execution_count": null,
      "outputs": [
        {
          "output_type": "stream",
          "name": "stdout",
          "text": [
            "Model：['sersicolor' 'setosa' 'virginica']\n",
            "None：[0.94, 1.0, 1.0]\n",
            "Macro：0.98\n"
          ]
        }
      ]
    },
    {
      "cell_type": "markdown",
      "source": [
        "## F値"
      ],
      "metadata": {
        "id": "tDk9spMsOugN"
      }
    },
    {
      "cell_type": "markdown",
      "source": [
        "実は、Recall($\\frac{TP}{TP+FN}$)とPrecision($\\frac{TP}{TP+FP}$)はトレードオフの関係にあって、  \n",
        "片方を高くしようとすると、もう片方が低くなる関係にあります。"
      ],
      "metadata": {
        "id": "h6Cvgr-xOxG9"
      }
    },
    {
      "cell_type": "markdown",
      "source": [
        "例えば、**Recallを高くしよう**として積極的に\"Positive\"と予測する場合、  \n",
        "本当はPositiveだけどNegativeと誤ってしまう(FN)数は下がりRecallは高くなりますが、  \n",
        "本当はNegativeなのにPositiveと誤ってしまう(FP)数が増えてしまうので、  \n",
        "**Precisionは下がってしまいます**。\n",
        "\n",
        "![](https://imgur.com/JsYhMuS.png)"
      ],
      "metadata": {
        "id": "fAN7vN2uR9j_"
      }
    },
    {
      "cell_type": "markdown",
      "source": [
        "そのため、RecallやPrecision単体でみても、  \n",
        "一概に精度の良し悪しは言えません。"
      ],
      "metadata": {
        "id": "ZCyHZzOXSi6B"
      }
    },
    {
      "cell_type": "markdown",
      "source": [
        "そこで用いるのが**F値(F-score)**になります。  \n",
        "RecallとPrecisionの調和平均（参考：[こちら](https://datawokagaku.com/rep_val/#i-4)の記事）を取ります。\n",
        "\n",
        "F値はこのトレードオフを考慮して調和平均を取った値になっています。"
      ],
      "metadata": {
        "id": "p84PeNUsSqRo"
      }
    },
    {
      "cell_type": "markdown",
      "source": [
        "数式は以下の通りです。\n",
        "\n",
        "$$\n",
        "\\text{F-score}=\\frac{2}{\\frac{1}{\\text{Recall}}+\\frac{1}{\\text{Precision}}}=\\frac{2\\times \\text{Recall}\\times \\text{Precision}}{\\text{Recall} + \\text{Precision}}\n",
        "$$"
      ],
      "metadata": {
        "id": "xo52venTTKU-"
      }
    },
    {
      "cell_type": "markdown",
      "source": [
        "特にこだわりがなければ、評価指標にF値を使うことが多いようです。"
      ],
      "metadata": {
        "id": "-2L7PsqkW0ui"
      }
    },
    {
      "cell_type": "markdown",
      "source": [
        "### PythonでF値の導出"
      ],
      "metadata": {
        "id": "r9S1WervUCLm"
      }
    },
    {
      "cell_type": "markdown",
      "source": [
        "PrecisionとRecallの調和平均を取った値、  \n",
        "F値をPythonで求めてみましょう。\n"
      ],
      "metadata": {
        "id": "jvMS6vn1XQcR"
      }
    },
    {
      "cell_type": "code",
      "source": [
        "from sklearn.metrics import f1_score, recall_score, precision_score\n",
        "\n",
        "# サンプルデータ\n",
        "y_true = [1, 1, 0, 0, 1, 0, 1, 1]\n",
        "y_pred = [1, 0, 1, 0, 0, 1, 1, 1]\n",
        "\n",
        "# F1\n",
        "print(f\"F値：{f1_score(y_true, y_pred)}\")\n",
        "# recall\n",
        "print(f\"recall：{recall_score(y_true, y_pred)}\")\n",
        "# precision\n",
        "print(f\"precision：{precision_score(y_true, y_pred)}\")\n",
        "\n",
        "# 調和平均ver\n",
        "from scipy.stats import hmean\n",
        "print(f\"F値：{hmean([recall_score(y_true, y_pred), precision_score(y_true, y_pred)])}\")"
      ],
      "metadata": {
        "colab": {
          "base_uri": "https://localhost:8080/"
        },
        "id": "gRO5oqxvXryP",
        "outputId": "39941045-fe1e-41ce-a5fd-954eef068f58"
      },
      "execution_count": null,
      "outputs": [
        {
          "output_type": "stream",
          "name": "stdout",
          "text": [
            "F値：0.6\n",
            "recall：0.6\n",
            "precision：0.6\n",
            "F値：0.6\n"
          ]
        }
      ]
    },
    {
      "cell_type": "code",
      "source": [
        "from sklearn.metrics import f1_score, recall_score, precision_score\n",
        "\n",
        "# サンプルデータ\n",
        "y_true = [0, 0, 0, 0, 1, 0, 0, 0]\n",
        "y_pred = [0, 0, 0, 0, 0, 0, 0, 0]\n",
        "\n",
        "# F1\n",
        "print(f\"F値：{f1_score(y_true, y_pred)}\")\n",
        "# recall\n",
        "print(f\"recall：{recall_score(y_true, y_pred)}\")\n",
        "# precision\n",
        "print(f\"precision：{precision_score(y_true, y_pred)}\")\n",
        "\n",
        "# 調和平均ver\n",
        "from scipy.stats import hmean\n",
        "print(f\"F値：{hmean([recall_score(y_true, y_pred), precision_score(y_true, y_pred)])}\")"
      ],
      "metadata": {
        "colab": {
          "base_uri": "https://localhost:8080/"
        },
        "id": "8qjGok6NXrye",
        "outputId": "76afe7fe-6d6f-431a-f8ea-c510a75167f0"
      },
      "execution_count": null,
      "outputs": [
        {
          "output_type": "stream",
          "name": "stdout",
          "text": [
            "F値：0.0\n",
            "recall：0.0\n",
            "precision：0.0\n",
            "F値：0.0\n"
          ]
        },
        {
          "output_type": "stream",
          "name": "stderr",
          "text": [
            "/usr/local/lib/python3.10/dist-packages/sklearn/metrics/_classification.py:1344: UndefinedMetricWarning: Precision is ill-defined and being set to 0.0 due to no predicted samples. Use `zero_division` parameter to control this behavior.\n",
            "  _warn_prf(average, modifier, msg_start, len(result))\n",
            "/usr/local/lib/python3.10/dist-packages/sklearn/metrics/_classification.py:1344: UndefinedMetricWarning: Precision is ill-defined and being set to 0.0 due to no predicted samples. Use `zero_division` parameter to control this behavior.\n",
            "  _warn_prf(average, modifier, msg_start, len(result))\n"
          ]
        }
      ]
    },
    {
      "cell_type": "code",
      "source": [
        "from sklearn.metrics import f1_score, recall_score, precision_score\n",
        "\n",
        "# サンプルデータ\n",
        "y_true = [1, 1, 1, 1, 0, 1, 1, 1]\n",
        "y_pred = [1, 1, 1, 1, 1, 1, 1, 1]\n",
        "\n",
        "# F1\n",
        "print(f\"F値：{f1_score(y_true, y_pred)}\")\n",
        "# recall\n",
        "print(f\"recall：{recall_score(y_true, y_pred)}\")\n",
        "# precision\n",
        "print(f\"precision：{precision_score(y_true, y_pred)}\")\n",
        "\n",
        "# 調和平均ver\n",
        "from scipy.stats import hmean\n",
        "print(f\"F値：{hmean([recall_score(y_true, y_pred), precision_score(y_true, y_pred)])}\")"
      ],
      "metadata": {
        "colab": {
          "base_uri": "https://localhost:8080/"
        },
        "outputId": "5c247963-6077-48b2-8b2c-1c3be2ce75ea",
        "id": "hIlbGMLoXryf"
      },
      "execution_count": null,
      "outputs": [
        {
          "output_type": "stream",
          "name": "stdout",
          "text": [
            "F値：0.9333333333333333\n",
            "recall：1.0\n",
            "precision：0.875\n",
            "F値：0.9333333333333333\n"
          ]
        }
      ]
    },
    {
      "cell_type": "markdown",
      "source": [
        "### Precision-Recall Curve"
      ],
      "metadata": {
        "id": "h6Zu99z0UATV"
      }
    },
    {
      "cell_type": "markdown",
      "source": [
        "閾値に対するPrecisionとRecallの推移を表した図が  \n",
        "**Precision-Recall Curve**です。"
      ],
      "metadata": {
        "id": "LFPGfC2uUDSu"
      }
    },
    {
      "cell_type": "markdown",
      "source": [
        "では、実際のデータを使って、  \n",
        "PythonでPrecision-Recall Curveを描画してみます。\n"
      ],
      "metadata": {
        "id": "sn2Lz1y7UkwZ"
      }
    },
    {
      "cell_type": "markdown",
      "source": [
        "今回は、seabornのサンプル用データセット\"tips\"を利用します。\n"
      ],
      "metadata": {
        "id": "Pu8oJBZEUkwZ"
      }
    },
    {
      "cell_type": "code",
      "source": [
        "tips = sns.load_dataset('tips')\n",
        "\n",
        "# smoker カラム以外のカテゴリカル変数をダミー変数に変換\n",
        "tips = pd.get_dummies(tips, columns=[\"sex\", \"day\", \"time\"], drop_first=True)\n",
        "\n",
        "# \"smoker\"カラムを数値型に変換\n",
        "mapping = {\"No\" : 0, \"Yes\" : 1}\n",
        "tips['smoker'] = tips['smoker'].map(mapping)\n",
        "tips['smoker'].value_counts()\n",
        "\n",
        "# 目的変数に\"smoker\"、説明変数にそれ以外のカラムを指定\n",
        "x = tips.drop('smoker', axis=1)\n",
        "y = tips['smoker']\n",
        "\n",
        "# データを訓練データとテストデータに分ける\n",
        "x_train, x_test, y_train, y_test = train_test_split(x, y, test_size=0.5, random_state=0, stratify=y)\n",
        "\n",
        "# 説明変数のデータを標準化\n",
        "from sklearn.preprocessing import StandardScaler\n",
        "scaler = StandardScaler().fit(x_train)\n",
        "x_train_scaled = scaler.transform(x_train)\n",
        "x_test_scaled = scaler.transform(x_test)\n",
        "\n",
        "from sklearn.linear_model import LogisticRegression\n",
        "# モデル学習\n",
        "model = LogisticRegression(penalty='none')\n",
        "model.fit(x_train_scaled, y_train)\n",
        "\n",
        "# 予測\n",
        "y_pred = model.predict(x_test_scaled)\n",
        "y_pred_proba = model.predict_proba(x_test_scaled)"
      ],
      "metadata": {
        "colab": {
          "base_uri": "https://localhost:8080/"
        },
        "outputId": "91302615-2604-4357-e95f-13f7aad4d025",
        "id": "FQOjGpWJUkwd"
      },
      "execution_count": null,
      "outputs": [
        {
          "output_type": "stream",
          "name": "stderr",
          "text": [
            "/usr/local/lib/python3.10/dist-packages/sklearn/linear_model/_logistic.py:1173: FutureWarning: `penalty='none'`has been deprecated in 1.2 and will be removed in 1.4. To keep the past behaviour, set `penalty=None`.\n",
            "  warnings.warn(\n"
          ]
        }
      ]
    },
    {
      "cell_type": "markdown",
      "source": [
        "では実際に描画してみましょう。"
      ],
      "metadata": {
        "id": "3VNJJBDqVE-n"
      }
    },
    {
      "cell_type": "code",
      "source": [
        "from sklearn.metrics import precision_recall_curve\n",
        "\n",
        "# 陽性の確率だけが必要なので[:, 1]をして陰性の確率を落とす\n",
        "precision, recall, thresholds = precision_recall_curve(y_test, y_pred_proba[:, 1])"
      ],
      "metadata": {
        "id": "_41p60m4VGtj"
      },
      "execution_count": null,
      "outputs": []
    },
    {
      "cell_type": "code",
      "source": [
        "import matplotlib.pyplot as plt\n",
        "plt.plot(recall, precision)\n",
        "plt.xlabel('recall')\n",
        "plt.ylabel('precision')\n",
        "plt.title('Precision Recall Curve')\n",
        "plt.show()"
      ],
      "metadata": {
        "colab": {
          "base_uri": "https://localhost:8080/",
          "height": 472
        },
        "id": "aPnaNyttVKjq",
        "outputId": "10f449ca-b0f1-49f1-e615-5aaa2b2aa179"
      },
      "execution_count": null,
      "outputs": [
        {
          "output_type": "display_data",
          "data": {
            "text/plain": [
              "<Figure size 640x480 with 1 Axes>"
            ],
            "image/png": "[encoded data removed]"
          },
          "metadata": {}
        }
      ]
    },
    {
      "cell_type": "markdown",
      "source": [
        "### Precision,Recall,F値の推移"
      ],
      "metadata": {
        "id": "4SbPyL61dX3V"
      }
    },
    {
      "cell_type": "markdown",
      "source": [
        "PrecisionとRecallをどちらも平均的に高くなるような閾値を選択したい時は、  \n",
        "F値が最も高くなる閾値を選ぶのが一般的です。"
      ],
      "metadata": {
        "id": "kULlv8q8e_Qa"
      }
    },
    {
      "cell_type": "markdown",
      "source": [
        "それぞれのPrecisionとRecallに対して、  \n",
        "F値がどのように変化するかどうか描画してみましょう。"
      ],
      "metadata": {
        "id": "MGXyqBg7fS6R"
      }
    },
    {
      "cell_type": "code",
      "source": [
        "# それぞれのprecisionとrecallにおけるF値(調和平均)を計算\n",
        "f1_scores = [hmean([p, r]) for p, r in zip(precision, recall)]"
      ],
      "metadata": {
        "id": "Um6H3s4NduqG"
      },
      "execution_count": null,
      "outputs": []
    },
    {
      "cell_type": "code",
      "source": [
        "plt.plot(thresholds, f1_scores[:-1], label='f1 score')\n",
        "plt.plot(thresholds, precision[:-1], label='precision')\n",
        "plt.plot(thresholds, recall[:-1], label='recall')\n",
        "plt.xlabel('threshlold')\n",
        "plt.legend()\n",
        "print(f'{np.argmax(f1_scores)}th threshold(={thresholds[np.argmax(f1_scores)]:.2f}) is the highest f1 score = {np.max(f1_scores):.2f}')"
      ],
      "metadata": {
        "colab": {
          "base_uri": "https://localhost:8080/",
          "height": 466
        },
        "id": "6FmM1xDrdw8P",
        "outputId": "069859d5-946b-4cd3-e138-b15e31b113d0"
      },
      "execution_count": null,
      "outputs": [
        {
          "output_type": "stream",
          "name": "stdout",
          "text": [
            "36th threshold(=0.26) is the highest f1 score = 0.61\n"
          ]
        },
        {
          "output_type": "display_data",
          "data": {
            "text/plain": [
              "<Figure size 640x480 with 1 Axes>"
            ],
            "image/png": "[encoded data removed]"
          },
          "metadata": {}
        }
      ]
    },
    {
      "cell_type": "markdown",
      "source": [
        "F値が最も高いのは閾値が0.26のときです。\n",
        "\n",
        "図を見てもわかるように、  \n",
        "RecallもPrecisionもどちらもある程度高くなっています。"
      ],
      "metadata": {
        "id": "MTeDMdBChkfH"
      }
    },
    {
      "cell_type": "markdown",
      "source": [
        "普通にロジスティック回帰を構築して `model.predict()` をすると、  \n",
        "閾値が0.5の場合での予測になってしまいます。\n",
        "\n",
        "このようにF値がもっとも高くなるような閾値を探すことで、  \n",
        "より精度の高いモデルを作ることができます。"
      ],
      "metadata": {
        "id": "mVF9mhaCkk6e"
      }
    },
    {
      "cell_type": "markdown",
      "source": [
        "## ROC"
      ],
      "metadata": {
        "id": "L_CC5RmBk-lh"
      }
    },
    {
      "cell_type": "markdown",
      "source": [
        "**ROC**は，Receiver Operating Characteristicの略です。\n",
        "\n",
        "分類器の評価で最も使われる指標の一つです。"
      ],
      "metadata": {
        "id": "FZr9QY5Sl3NL"
      }
    },
    {
      "cell_type": "markdown",
      "source": [
        "トレードオフの関係は、RecallとPrecisionの間に存在しましたが、  \n",
        "**RecallとSpecificityの間**にも存在します。"
      ],
      "metadata": {
        "id": "iTDaEZcVmWXm"
      }
    },
    {
      "cell_type": "markdown",
      "source": [
        "Recallですが、Specificityの対比でよく使われるのは**\"Sensitivity\"**という呼ばれ方です。\n",
        "\n",
        "ROCの説明の中では、**\"Recall\"を\"Sensitivity\"と呼ぶ**こととします。\n"
      ],
      "metadata": {
        "id": "W3f70W55nEwq"
      }
    },
    {
      "cell_type": "markdown",
      "source": [
        "Precision-Recall Curveと同様に、  \n",
        "横軸**\"1-Specificity\"**, 縦軸**\"SensiAvity\"**とした時に閾値の変化が描くカーブが**ROC**です。\n",
        "\n",
        "ROCの文脈では、Sensitivityは**True Positive Rate(TPR)**,   \n",
        "1-Specificityは**False Positive Rate(FPR)**ともよく呼ばれます。"
      ],
      "metadata": {
        "id": "rp3mVtZznjNU"
      }
    },
    {
      "cell_type": "markdown",
      "source": [
        "$$\n",
        "Sensitivity=\\frac{TP}{TP+FN}\n",
        "$$\n",
        "\n",
        "$$\n",
        "Specificity=\\frac{TN}{TN+FP}\n",
        "$$\n",
        "\n",
        "Sensitivityは、陽性のデータに対してどれだけ正しく陽性と分類できたかの指標です。\n",
        "Specificityは、陰性のデータに対してどれだけ正しく陰性と分類できたかの指標です。"
      ],
      "metadata": {
        "id": "UCiFdNkXoD5t"
      }
    },
    {
      "cell_type": "markdown",
      "source": [
        "\"1-Specificity\"は、以下の式からわかるように、  \n",
        "陰性のデータに対してどれだけ陽性と\"間違えたか\"を意味しています。\n",
        "\n",
        "$$\n",
        "1-Specificity=1-\\frac{TN}{TN+FP}=\\frac{TN+FP}{TN+FP}-\\frac{TN}{TN+FP}=\\frac{FP}{TN+FP}\n",
        "$$"
      ],
      "metadata": {
        "id": "ay68lzklpPcA"
      }
    },
    {
      "cell_type": "markdown",
      "source": [
        "Sensitivityを上げるために\"陽性\"と分類する頻度を上げると、  \n",
        "\"陰性\"データを間違えて\"陽性\"と分類する頻度も上がり、1-Specificityも上がってしまいます。"
      ],
      "metadata": {
        "id": "eOHOwosfsSWc"
      }
    },
    {
      "cell_type": "markdown",
      "source": [
        "### PythonでROCの描画"
      ],
      "metadata": {
        "id": "bQLIgM8HOHnx"
      }
    },
    {
      "cell_type": "markdown",
      "source": [
        "では、実際のデータを使って、PythonでROCを描画してみます。\n"
      ],
      "metadata": {
        "id": "J48amfPhU9q4"
      }
    },
    {
      "cell_type": "markdown",
      "source": [
        "今回は、seabornのサンプル用データセット\"tips\"を利用します。\n"
      ],
      "metadata": {
        "id": "oJkjO5p3U9q5"
      }
    },
    {
      "cell_type": "code",
      "source": [
        "tips = sns.load_dataset('tips')\n",
        "\n",
        "# smoker カラム以外のカテゴリカル変数をダミー変数に変換\n",
        "tips = pd.get_dummies(tips, columns=[\"sex\", \"day\", \"time\"], drop_first=True)\n",
        "\n",
        "# \"smoker\"カラムを数値型に変換\n",
        "mapping = {\"No\" : 0, \"Yes\" : 1}\n",
        "tips['smoker'] = tips['smoker'].map(mapping)\n",
        "tips['smoker'].value_counts()\n",
        "\n",
        "# 目的変数に\"smoker\"、説明変数にそれ以外のカラムを指定\n",
        "x = tips.drop('smoker', axis=1)\n",
        "y = tips['smoker']\n",
        "\n",
        "# データを訓練データとテストデータに分ける\n",
        "x_train, x_test, y_train, y_test = train_test_split(x, y, test_size=0.5, random_state=0, stratify=y)\n",
        "\n",
        "# 説明変数のデータを標準化\n",
        "from sklearn.preprocessing import StandardScaler\n",
        "scaler = StandardScaler().fit(x_train)\n",
        "x_train_scaled = scaler.transform(x_train)\n",
        "x_test_scaled = scaler.transform(x_test)\n",
        "\n",
        "from sklearn.linear_model import LogisticRegression\n",
        "# モデル学習\n",
        "model = LogisticRegression(penalty='none')\n",
        "model.fit(x_train_scaled, y_train)\n",
        "\n",
        "# 予測\n",
        "y_pred = model.predict(x_test_scaled)\n",
        "y_pred_proba = model.predict_proba(x_test_scaled)"
      ],
      "metadata": {
        "colab": {
          "base_uri": "https://localhost:8080/"
        },
        "outputId": "3cb5fb56-901d-47cb-d54c-bed5a904535a",
        "id": "86N4JoLIU9q5"
      },
      "execution_count": null,
      "outputs": [
        {
          "output_type": "stream",
          "name": "stderr",
          "text": [
            "/usr/local/lib/python3.10/dist-packages/sklearn/linear_model/_logistic.py:1173: FutureWarning: `penalty='none'`has been deprecated in 1.2 and will be removed in 1.4. To keep the past behaviour, set `penalty=None`.\n",
            "  warnings.warn(\n"
          ]
        }
      ]
    },
    {
      "cell_type": "markdown",
      "source": [
        "では実際に描画してみましょう。"
      ],
      "metadata": {
        "id": "VP9eVoCaU9rA"
      }
    },
    {
      "cell_type": "code",
      "source": [
        "from sklearn.metrics import roc_curve\n",
        "\n",
        "# 陽性の確率だけが必要なので[:, 1]をして陰性の確率を落とす\n",
        "fpr, tpr, thresholds = roc_curve(y_test, y_pred_proba[:, 1])\n",
        "# 描画\n",
        "plt.plot(fpr, tpr)\n",
        "plt.xlabel('1-specificity(FPR)')\n",
        "plt.ylabel('sensitivity(TPR)')\n",
        "plt.title('ROC Curve')\n",
        "plt.show()"
      ],
      "metadata": {
        "colab": {
          "base_uri": "https://localhost:8080/",
          "height": 472
        },
        "id": "WKbcnrwdsnoP",
        "outputId": "4abac9de-25ca-40d0-d56a-813670c87ee5"
      },
      "execution_count": null,
      "outputs": [
        {
          "output_type": "display_data",
          "data": {
            "text/plain": [
              "<Figure size 640x480 with 1 Axes>"
            ],
            "image/png": "[encoded data removed]"
          },
          "metadata": {}
        }
      ]
    },
    {
      "cell_type": "markdown",
      "source": [
        "**Sensitivity**と**Specificity**の間に存在する、トレードオフの関係が確認できました。"
      ],
      "metadata": {
        "id": "0elofYMWWUhZ"
      }
    },
    {
      "cell_type": "markdown",
      "source": [
        "## AUC"
      ],
      "metadata": {
        "id": "ot2v1e5TeIRM"
      }
    },
    {
      "cell_type": "markdown",
      "source": [
        "ROCカーブが作る面積が大きいと精度が高いモデルとなります。  \n",
        "この面積を**AUC(Area Under the Curve)**といいます。"
      ],
      "metadata": {
        "id": "kxWtKBppeG8G"
      }
    },
    {
      "cell_type": "markdown",
      "source": [
        "ROCには、以下の特徴があります。\n",
        "\n",
        "- 当てずっぽうに予測する完全ランダムなモデルのROCは対角線になる\n",
        "- 全てのデータに正しく予測できる完璧なモデルのROCは正方形の形になる"
      ],
      "metadata": {
        "id": "d9vbQeFvg4X5"
      }
    },
    {
      "cell_type": "markdown",
      "source": [
        "つまり以下の図のように、**ROCが描く線の下の面積**が小さくなれば精度は低く、  \n",
        "大きければ精度が高いモデルになります。  \n",
        "\n",
        "\n",
        "（参考：https://shorturl.at/imBG3 ）\n",
        "\n",
        "![](https://imgur.com/ReiYqg0.png)"
      ],
      "metadata": {
        "id": "RHHrRnm-hR1q"
      }
    },
    {
      "cell_type": "markdown",
      "source": [
        "AUCがとりうる値は0～1ですが、ランダムなモデルのAUCが0.5であることを考えると、  \n",
        "普通は0.5～1に収まると考えてよさそうです。\n",
        "\n",
        "AUCが0.8以上あると精度が高いといえるようです。  \n",
        "（データやタスクの種類によるので一概には言えない）"
      ],
      "metadata": {
        "id": "iqFRyIiCkloV"
      }
    },
    {
      "cell_type": "markdown",
      "source": [
        "### PythonでAUCの計算"
      ],
      "metadata": {
        "id": "1IvT01RKk8Os"
      }
    },
    {
      "cell_type": "markdown",
      "source": [
        "では、実際のデータを使って、PythonでROCを描画してみます。\n"
      ],
      "metadata": {
        "id": "zZuFy1BSk8Ot"
      }
    },
    {
      "cell_type": "markdown",
      "source": [
        "今回は、seabornのサンプル用データセット\"tips\"を利用します。\n"
      ],
      "metadata": {
        "id": "Mi0L-DtIk8Ot"
      }
    },
    {
      "cell_type": "code",
      "source": [
        "tips = sns.load_dataset('tips')\n",
        "\n",
        "# smoker カラム以外のカテゴリカル変数をダミー変数に変換\n",
        "tips = pd.get_dummies(tips, columns=[\"sex\", \"day\", \"time\"], drop_first=True)\n",
        "\n",
        "# \"smoker\"カラムを数値型に変換\n",
        "mapping = {\"No\" : 0, \"Yes\" : 1}\n",
        "tips['smoker'] = tips['smoker'].map(mapping)\n",
        "tips['smoker'].value_counts()\n",
        "\n",
        "# 目的変数に\"smoker\"、説明変数にそれ以外のカラムを指定\n",
        "x = tips.drop('smoker', axis=1)\n",
        "y = tips['smoker']\n",
        "\n",
        "# データを訓練データとテストデータに分ける\n",
        "x_train, x_test, y_train, y_test = train_test_split(x, y, test_size=0.5, random_state=0, stratify=y)\n",
        "\n",
        "# 説明変数のデータを標準化\n",
        "from sklearn.preprocessing import StandardScaler\n",
        "scaler = StandardScaler().fit(x_train)\n",
        "x_train_scaled = scaler.transform(x_train)\n",
        "x_test_scaled = scaler.transform(x_test)\n",
        "\n",
        "from sklearn.linear_model import LogisticRegression\n",
        "# モデル学習\n",
        "model = LogisticRegression(penalty='none')\n",
        "model.fit(x_train_scaled, y_train)\n",
        "\n",
        "# 予測\n",
        "y_pred = model.predict(x_test_scaled)\n",
        "y_pred_proba = model.predict_proba(x_test_scaled)"
      ],
      "metadata": {
        "colab": {
          "base_uri": "https://localhost:8080/"
        },
        "id": "1kQO9lUPk8Ot",
        "outputId": "2142d9a0-e35e-4334-8b26-c0b190fac23d"
      },
      "execution_count": null,
      "outputs": [
        {
          "output_type": "stream",
          "name": "stderr",
          "text": [
            "/usr/local/lib/python3.10/dist-packages/sklearn/linear_model/_logistic.py:1173: FutureWarning: `penalty='none'`has been deprecated in 1.2 and will be removed in 1.4. To keep the past behaviour, set `penalty=None`.\n",
            "  warnings.warn(\n"
          ]
        }
      ]
    },
    {
      "cell_type": "markdown",
      "source": [
        "ではROCを描画していきます。"
      ],
      "metadata": {
        "id": "azXFqdVJlE7F"
      }
    },
    {
      "cell_type": "code",
      "source": [
        "from sklearn.metrics import roc_curve\n",
        "\n",
        "# 陽性の確率だけが必要なので[:, 1]をして陰性の確率を落とす\n",
        "fpr, tpr, thresholds = roc_curve(y_test, y_pred_proba[:, 1])\n",
        "# 描画\n",
        "plt.plot(fpr, tpr)\n",
        "plt.xlabel('1-specificity(FPR)')\n",
        "plt.ylabel('sensitivity(TPR)')\n",
        "plt.title('ROC Curve')\n",
        "plt.show()"
      ],
      "metadata": {
        "colab": {
          "base_uri": "https://localhost:8080/",
          "height": 472
        },
        "outputId": "e6ca5810-9eb5-4a4c-f516-880183bd0eef",
        "id": "LDCX1HJ2lE7G"
      },
      "execution_count": null,
      "outputs": [
        {
          "output_type": "display_data",
          "data": {
            "text/plain": [
              "<Figure size 640x480 with 1 Axes>"
            ],
            "image/png": "[encoded data removed]"
          },
          "metadata": {}
        }
      ]
    },
    {
      "cell_type": "markdown",
      "source": [
        "AUCの計算は簡単に行うことができます。"
      ],
      "metadata": {
        "id": "L7mbNlKelUnx"
      }
    },
    {
      "cell_type": "code",
      "source": [
        "from sklearn.metrics import auc\n",
        "auc(fpr, tpr)"
      ],
      "metadata": {
        "colab": {
          "base_uri": "https://localhost:8080/"
        },
        "id": "ERaGuEUqlZLG",
        "outputId": "47de2f6a-6a2f-4b8a-d840-2f4724b86ffe"
      },
      "execution_count": null,
      "outputs": [
        {
          "output_type": "execute_result",
          "data": {
            "text/plain": [
              "0.6644736842105263"
            ]
          },
          "metadata": {},
          "execution_count": 25
        }
      ]
    },
    {
      "cell_type": "markdown",
      "source": [
        "あまり精度がいいモデルであるとはいえなさそうです。"
      ],
      "metadata": {
        "id": "MxuMoDezmhU4"
      }
    },
    {
      "cell_type": "markdown",
      "source": [
        "## 多値分類におけるROCとAUC"
      ],
      "metadata": {
        "id": "CrNw5N1YtDln"
      }
    },
    {
      "cell_type": "markdown",
      "source": [
        "多クラス分類の精度を考える際は、**One vs Rest**（参考サイト：[こちら](https://datawokagaku.com/multinomial/#One_vs_Rest_OvR)）が基本になります。\n",
        "\n",
        "多クラス分類のROCでは、クラスの数分ROCを描くことができます。"
      ],
      "metadata": {
        "id": "I3lVfJLOvlFZ"
      }
    },
    {
      "cell_type": "markdown",
      "source": [
        "#### PythonでOvRのROCの描画"
      ],
      "metadata": {
        "id": "sFyJ12dDwyy-"
      }
    },
    {
      "cell_type": "markdown",
      "source": [
        "ロジスティック回帰モデルで分類器を作って，ROCを描いてみます。\n",
        "\n",
        "今回は、Scikit-learnのデータセット\"iris\"を利用します。"
      ],
      "metadata": {
        "id": "hoXKOaSjwSyN"
      }
    },
    {
      "cell_type": "code",
      "source": [
        "from sklearn.datasets import load_iris\n",
        "\n",
        "iris = load_iris()\n",
        "\n",
        "df = pd.DataFrame(iris.data, columns=iris.feature_names)\n",
        "df[\"target\"] = iris.target\n",
        "\n",
        "df[\"target\"][df[\"target\"] == 0] = \"setosa\"\n",
        "df[\"target\"][df[\"target\"] == 1] = \"sersicolor\"\n",
        "df[\"target\"][df[\"target\"] == 2] = \"virginica\"\n",
        "\n",
        "# 目的変数に\"target\"、説明変数にそれ以外のカラムを指定\n",
        "x = df.drop('target', axis=1)\n",
        "y = df['target']\n",
        "\n",
        "# データを訓練データとテストデータに分ける\n",
        "x_train, x_test, y_train, y_test = train_test_split(x, y, test_size=0.5, random_state=0, stratify=y)\n",
        "\n",
        "# 説明変数のデータを標準化\n",
        "from sklearn.preprocessing import StandardScaler\n",
        "scaler = StandardScaler().fit(x_train)\n",
        "x_train_scaled = scaler.transform(x_train)\n",
        "x_test_scaled = scaler.transform(x_test)\n",
        "\n",
        "from sklearn.linear_model import LogisticRegression\n",
        "\n",
        "# モデル学習\n",
        "model = LogisticRegression(penalty='none')\n",
        "model.fit(x_train_scaled, y_train)\n",
        "\n",
        "# 予測\n",
        "y_pred = model.predict(x_test_scaled)\n",
        "# 予測(確率)\n",
        "y_pred_proba = model.predict_proba(x_test_scaled)"
      ],
      "metadata": {
        "colab": {
          "base_uri": "https://localhost:8080/"
        },
        "id": "z8-8-83pwOsv",
        "outputId": "a8bfed02-7414-4927-853a-0be99e25a2aa"
      },
      "execution_count": null,
      "outputs": [
        {
          "output_type": "stream",
          "name": "stderr",
          "text": [
            "<ipython-input-35-4f1abe6e885a>:8: SettingWithCopyWarning: \n",
            "A value is trying to be set on a copy of a slice from a DataFrame\n",
            "\n",
            "See the caveats in the documentation: https://pandas.pydata.org/pandas-docs/stable/user_guide/indexing.html#returning-a-view-versus-a-copy\n",
            "  df[\"target\"][df[\"target\"] == 0] = \"setosa\"\n",
            "/usr/local/lib/python3.10/dist-packages/sklearn/linear_model/_logistic.py:1173: FutureWarning: `penalty='none'`has been deprecated in 1.2 and will be removed in 1.4. To keep the past behaviour, set `penalty=None`.\n",
            "  warnings.warn(\n"
          ]
        }
      ]
    },
    {
      "cell_type": "markdown",
      "source": [
        "それぞれのクラス毎のROCを描いてみます。\n",
        "\n",
        "OvRにするため、それぞれの `roc_curve()` の引数に渡す `y_true` と `y_score` は、  \n",
        "それぞれのクラスに対してのラベルとスコアを渡すことになります。"
      ],
      "metadata": {
        "id": "gCHx6p6ZxEol"
      }
    },
    {
      "cell_type": "markdown",
      "source": [
        "今回目的変数をone-hot エンコーディングすることになりますが、  \n",
        "ダミー変数にしたいわけではありません。\n",
        "\n",
        "こういう場合は、 `sklearn.preprocessing.label_binarize` を使います。"
      ],
      "metadata": {
        "id": "wFeTOao1xvUW"
      }
    },
    {
      "cell_type": "code",
      "source": [
        "print(y_test[:5])\n",
        "print(model.classes_)\n",
        "print(label_binarize(y_test, classes=model.classes_)[:5])"
      ],
      "metadata": {
        "colab": {
          "base_uri": "https://localhost:8080/"
        },
        "id": "mjBj0lQvyxTz",
        "outputId": "575ed736-4b27-4332-8226-e76fe18b4ead"
      },
      "execution_count": null,
      "outputs": [
        {
          "output_type": "stream",
          "name": "stdout",
          "text": [
            "139     virginica\n",
            "15         setosa\n",
            "145     virginica\n",
            "56     sersicolor\n",
            "129     virginica\n",
            "Name: target, dtype: object\n",
            "['sersicolor' 'setosa' 'virginica']\n",
            "[[0 0 1]\n",
            " [0 1 0]\n",
            " [0 0 1]\n",
            " [1 0 0]\n",
            " [0 0 1]]\n"
          ]
        }
      ]
    },
    {
      "cell_type": "markdown",
      "source": [
        "では、クラスの数だけROCを描いていきましょう。"
      ],
      "metadata": {
        "id": "Mqg27kmEzThE"
      }
    },
    {
      "cell_type": "code",
      "source": [
        "from sklearn.preprocessing import label_binarize\n",
        "\n",
        "# one-hot エンコーディング\n",
        "y_test_one_hot = label_binarize(y_test, classes=model.classes_)\n",
        "# クラスの数\n",
        "n_classes = len(model.classes_)\n",
        "fpr = {}\n",
        "tpr = {}\n",
        "roc_auc = {}\n",
        "\n",
        "# クラスの数だけROCを描く\n",
        "for i in range(n_classes):\n",
        "    fpr[i], tpr[i], _ = roc_curve(y_test_one_hot[:, i], y_pred_proba[:, i])\n",
        "    roc_auc[i] = auc(fpr[i], tpr[i])"
      ],
      "metadata": {
        "id": "mB53F8ZcyYSt"
      },
      "execution_count": null,
      "outputs": []
    },
    {
      "cell_type": "code",
      "source": [
        "# それぞれのクラスのROC\n",
        "for i in range(n_classes):\n",
        "    plt.plot(fpr[i], tpr[i], label=f'class: {i}')\n",
        "    plt.legend()"
      ],
      "metadata": {
        "colab": {
          "base_uri": "https://localhost:8080/",
          "height": 430
        },
        "id": "TlOntOWRynNh",
        "outputId": "18d6071e-4108-4cb8-ea8f-327295e7489a"
      },
      "execution_count": null,
      "outputs": [
        {
          "output_type": "display_data",
          "data": {
            "text/plain": [
              "<Figure size 640x480 with 1 Axes>"
            ],
            "image/png": "[encoded data removed]"
          },
          "metadata": {}
        }
      ]
    },
    {
      "cell_type": "markdown",
      "source": [
        "今回、クラス1(setosa)に対しては、  \n",
        "AUCが1の完璧なROCを描いていることが確認できます。"
      ],
      "metadata": {
        "id": "eWt7Tswn0ILo"
      }
    },
    {
      "cell_type": "markdown",
      "source": [
        "### 多クラスROCのmacro平均"
      ],
      "metadata": {
        "id": "obs4goIJznrk"
      }
    },
    {
      "cell_type": "markdown",
      "source": [
        "多クラス分類の場合、**最終的な評価指標**を求めるために、  \n",
        "macro平均もしくはmicro平均を算出します。"
      ],
      "metadata": {
        "id": "fxp7RcB50YEo"
      }
    },
    {
      "cell_type": "markdown",
      "source": [
        "クラス数分のROCを描画し、その平均を取る方法がmacro平均です。  \n",
        "\n",
        "**データ数が少ないクラスの値も重視されます**。\n"
      ],
      "metadata": {
        "id": "Wlu-NRF-0f4X"
      }
    },
    {
      "cell_type": "markdown",
      "source": [
        "例えば以下のように4クラスのROCがある場合、  \n",
        "その平均をとった真ん中のROCカーブになります。\n",
        "\n",
        "（参考：https://shorturl.at/nsLU0 ）\n",
        "\n",
        "![](https://imgur.com/pqlk63I.png)"
      ],
      "metadata": {
        "id": "aZuVQKRD1aZv"
      }
    },
    {
      "cell_type": "markdown",
      "source": [
        "#### PythonでROCのmacro平均の描画"
      ],
      "metadata": {
        "id": "E_EdRf_g1NtG"
      }
    },
    {
      "cell_type": "code",
      "source": [
        "# 必要な（値に変化がある）xの値のリスト\n",
        "all_fpr = np.unique(np.concatenate([fpr[i] for i in range(n_classes)]))\n",
        "\n",
        "# 線形補完（単純に直線で補完する）\n",
        "mean_tpr = np.zeros_like(all_fpr)\n",
        "for i in range(n_classes):\n",
        "    mean_tpr += np.interp(all_fpr, fpr[i], tpr[i])\n",
        "mean_tpr = mean_tpr / n_classes"
      ],
      "metadata": {
        "id": "OQNjk9NeBxbx"
      },
      "execution_count": null,
      "outputs": []
    },
    {
      "cell_type": "code",
      "source": [
        "fpr['macro'] = all_fpr\n",
        "tpr['macro'] = mean_tpr\n",
        "roc_auc['macro'] = auc(fpr['macro'], tpr['macro'])\n",
        "\n",
        "# それぞれのクラスとmacro平均のROC\n",
        "for i in range(n_classes):\n",
        "    plt.plot(fpr[i], tpr[i], label=f'class: {i}')\n",
        "plt.plot(fpr['macro'], tpr['macro'], label='macro')\n",
        "plt.legend()"
      ],
      "metadata": {
        "colab": {
          "base_uri": "https://localhost:8080/",
          "height": 447
        },
        "id": "X-haCazUBzI4",
        "outputId": "0bc018a9-d7cf-4c0d-d9ce-8b08da2c8ca0"
      },
      "execution_count": null,
      "outputs": [
        {
          "output_type": "execute_result",
          "data": {
            "text/plain": [
              "<matplotlib.legend.Legend at 0x7d8238df2ad0>"
            ]
          },
          "metadata": {},
          "execution_count": 46
        },
        {
          "output_type": "display_data",
          "data": {
            "text/plain": [
              "<Figure size 640x480 with 1 Axes>"
            ],
            "image/png": "[encoded data removed]"
          },
          "metadata": {}
        }
      ]
    },
    {
      "cell_type": "code",
      "source": [
        "from sklearn.metrics import auc\n",
        "auc(fpr['macro'], tpr['macro'])"
      ],
      "metadata": {
        "colab": {
          "base_uri": "https://localhost:8080/"
        },
        "id": "dHZppjA-HVrm",
        "outputId": "ce4f43ba-68e3-4c0f-d69d-3c1823955b5b"
      },
      "execution_count": null,
      "outputs": [
        {
          "output_type": "execute_result",
          "data": {
            "text/plain": [
              "0.9925333333333333"
            ]
          },
          "metadata": {},
          "execution_count": 48
        }
      ]
    },
    {
      "cell_type": "markdown",
      "source": [
        "### 多クラスROCのmicro平均"
      ],
      "metadata": {
        "id": "43wtQVqnL_Wj"
      }
    },
    {
      "cell_type": "markdown",
      "source": [
        "多クラス分類の場合、**最終的な評価指標**を求めるために、  \n",
        "macro平均もしくはmicro平均を算出します。"
      ],
      "metadata": {
        "id": "4td0QTj9L_Wk"
      }
    },
    {
      "cell_type": "markdown",
      "source": [
        "クラス関係なく、各データの値を足してデータ数で割ってその平均を取る方法がmicro平均です。  \n",
        "\n",
        "**クラス毎にデータ数に偏りがある場合、データ数が多いクラスの結果が大きく反映されてしまいます**。\n"
      ],
      "metadata": {
        "id": "XIpOi08zL_Wk"
      }
    },
    {
      "cell_type": "markdown",
      "source": [
        "#### PythonでROCのmicro平均の描画"
      ],
      "metadata": {
        "id": "UNSRm2IEL_Wk"
      }
    },
    {
      "cell_type": "code",
      "source": [
        "fpr['micro'], tpr['micro'], _ = roc_curve(y_test_one_hot.ravel(), y_pred_proba.ravel())\n",
        "roc_auc['micro'] = auc(fpr['micro'], tpr['micro'])"
      ],
      "metadata": {
        "id": "JSII7kuvL_Wl"
      },
      "execution_count": null,
      "outputs": []
    },
    {
      "cell_type": "code",
      "source": [
        "# それぞれのクラスとmacro平均とmicro平均のROC\n",
        "for i in range(n_classes):\n",
        "    plt.plot(fpr[i], tpr[i], label=f'class: {i}')\n",
        "plt.plot(fpr['macro'], tpr['macro'], label='macro')\n",
        "plt.plot(fpr['micro'], tpr['micro'], label='micro')\n",
        "plt.legend()"
      ],
      "metadata": {
        "colab": {
          "base_uri": "https://localhost:8080/",
          "height": 447
        },
        "id": "KCTv5KO3L_Wl",
        "outputId": "49a45da5-bd51-4c2f-a376-6eb78f6d7d84"
      },
      "execution_count": null,
      "outputs": [
        {
          "output_type": "execute_result",
          "data": {
            "text/plain": [
              "<matplotlib.legend.Legend at 0x7d823811c4c0>"
            ]
          },
          "metadata": {},
          "execution_count": 50
        },
        {
          "output_type": "display_data",
          "data": {
            "text/plain": [
              "<Figure size 640x480 with 1 Axes>"
            ],
            "image/png": "[encoded data removed]"
          },
          "metadata": {}
        }
      ]
    },
    {
      "cell_type": "code",
      "source": [
        "from sklearn.metrics import auc\n",
        "auc(fpr['micro'], tpr['micro'])"
      ],
      "metadata": {
        "colab": {
          "base_uri": "https://localhost:8080/"
        },
        "id": "DRx36rKYL_Wm",
        "outputId": "3f85c211-73a5-4804-9125-e677022df909"
      },
      "execution_count": null,
      "outputs": [
        {
          "output_type": "execute_result",
          "data": {
            "text/plain": [
              "0.989688888888889"
            ]
          },
          "metadata": {},
          "execution_count": 51
        }
      ]
    },
    {
      "cell_type": "markdown",
      "source": [
        "### macro平均かmicro平均か"
      ],
      "metadata": {
        "id": "SvIVbGBtVE_H"
      }
    },
    {
      "cell_type": "markdown",
      "source": [
        "データ数に偏りがある場合は\n",
        "\n",
        "- データ数が小さいクラスも他のクラスと同じくらい結果に反映させたい  \n",
        "→ macro平均\n",
        "- データ数が多ければ多いだけ結果に反映させたい  \n",
        "→ micro平均\n",
        "\n",
        "を選択することが多いようです。"
      ],
      "metadata": {
        "id": "XlXHcnqjVEVq"
      }
    }
  ]
}