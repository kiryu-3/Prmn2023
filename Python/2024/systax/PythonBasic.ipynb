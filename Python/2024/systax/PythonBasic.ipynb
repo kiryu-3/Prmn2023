{
  "nbformat": 4,
  "nbformat_minor": 0,
  "metadata": {
    "colab": {
      "provenance": [],
      "toc_visible": true,
      "authorship_tag": "ABX9TyM995mWjlR/BNz2wJSuSjtj",
      "include_colab_link": true
    },
    "kernelspec": {
      "name": "python3",
      "display_name": "Python 3"
    },
    "language_info": {
      "name": "python"
    }
  },
  "cells": [
    {
      "cell_type": "markdown",
      "metadata": {
        "id": "view-in-github",
        "colab_type": "text"
      },
      "source": [
        "<a href=\"https://colab.research.google.com/github/kiryu-3/Prmn2023/blob/main/Python/2024/systax/PythonBasic.ipynb\" target=\"_parent\"><img src=\"https://colab.research.google.com/assets/colab-badge.svg\" alt=\"Open In Colab\"/></a>"
      ]
    },
    {
      "cell_type": "markdown",
      "source": [
        "### 目次\n",
        "\n",
        "1. **[プログラミング入門](#11-プログラミングとは)**\n",
        "   - [1.1 プログラミングとは](#11-プログラミングとは)\n",
        "   - [1.2 Pythonとは](#12-pythonとは)\n",
        "     - [WEBアプリケーション開発](#webアプリケーション開発)\n",
        "     - [データ分析](#データ分析)\n",
        "     - [機械学習・AI](#機械学習・ai)\n",
        "     - [ゲーム（GUI）アプリ開発](#ゲームguiアプリ開発)\n",
        "     - [スクレイピング](#スクレイピング)\n",
        "   - [1.3 プログラミングの進め方](#13-プログラミングの進め方)\n",
        "   - [1.4 print関数](#14-print関数)\n",
        "   - [1.5 コメント](#15-コメント)\n",
        "   - [1.6 エラーへの対処方法](#16-エラーへの対処方法)\n",
        "   - [1.7 Pythonプログラミングにおける注意](#17-pythonプログラミングにおける注意)\n",
        "     - 行の先頭から書く\n",
        "     - 1行に1命令\n",
        "     - 全角スペースの罠\n",
        "2. **[Python文法(基礎)](#2-python文法基礎)**\n",
        "   - [2.1 数値型](#21-数値型)\n",
        "   - [2.2 文字列型](#22-文字列型)\n",
        "   - [2.3 真偽値](#23-真偽値)\n",
        "   - [2.4 変数](#24-変数)\n",
        "   - [2.5 オブジェクト](#25-オブジェクト)\n",
        "   - [2.6 データ型](#26-データ型)\n",
        "   - [2.7 変数表示](#27-変数表示)\n",
        "   - [2.8 入力処理](#28-入力処理)\n",
        "   - [2.9 乱数](#29-乱数)\n",
        "   - [2.10 条件分岐](#210-条件分岐)\n",
        "   - [2.11 ループ](#211-ループ)\n",
        "   - [2.12 リスト](#212-リスト)\n",
        "   - [2.13 タプル](#213-タプル)\n",
        "   - [2.14 ディクショナリ](#214-ディクショナリ)\n",
        "   - [2.15 セット](#215-セット)\n",
        "   - [2.16 コレクションまとめ](#216-コレクションまとめ)\n",
        "   - [2.17 組み込み関数](#217-組み込み関数)\n",
        "   - [2.18 独自関数](#218-独自関数)\n",
        "   - [2.19 無名関数](#219-無名関数)\n",
        "   - [2.20 ローカル変数とグローバル変数](#220-ローカル変数とグローバル変数)\n",
        "3. **[Python文法(発展)](#3-python文法発展)**\n",
        "   - [3.1 モジュールとライブラリ](#31-モジュールとライブラリ)\n",
        "   - [3.2 クラス](#32-クラス)\n",
        "   - [3.3 ファイルの入出力](#33-ファイルの入出力)\n",
        "   - [3.4 例外処理](#34-例外処理)\n",
        "   - [3.5 JSONデータ処理](#35-jsonデータ処理)"
      ],
      "metadata": {
        "id": "7leIrxTp-eB3"
      }
    },
    {
      "cell_type": "markdown",
      "source": [
        "### 1.1 プログラミングとは"
      ],
      "metadata": {
        "id": "DNum8rLSCveR"
      }
    },
    {
      "cell_type": "markdown",
      "source": [
        "ある目的のために作り出す、コンピュータに対する命令を並べたものを**プログラム**と呼びます。\n",
        "\n",
        "コンピュータとコミュニケーションを取るために、プログラムを行うプロセスが**プログラミング**に当たります。"
      ],
      "metadata": {
        "id": "JtEGYyKuEHX8"
      }
    },
    {
      "cell_type": "markdown",
      "source": [
        "プログラミングをする際には、一定の規則に従って記述された**プログラミング言語**を使用します。  \n",
        "これらの言語では、特定の命令を書くと特定の処理が行われるように決められています。  \n",
        "このような規則のことを**文法**と呼びますが、文法は使うプログラミング言語によって異なります。\n",
        "\n",
        "プログラミングを学ぶ最初のステップは、まさにこの文法を理解することから始まります。"
      ],
      "metadata": {
        "id": "Zo0H3ZHhFZVz"
      }
    },
    {
      "cell_type": "markdown",
      "source": [
        "### 1.2 Pythonとは"
      ],
      "metadata": {
        "id": "r1D39d1FR_6l"
      }
    },
    {
      "cell_type": "markdown",
      "source": [
        "Pythonは直感的で非常に分かりやすいプログラミング言語で、シンプルな記述が可能です。  \n",
        "初心者でも簡単に学ぶことができます。\n",
        "\n",
        "さらに、Pythonには多くのライブラリが公開されており、これらを活用することで高度な機能を比較的容易に実現できます。  \n",
        " 特にAI関連のライブラリは豊富で、機械学習やデータ分析の分野で幅広く利用されています。\n",
        "\n",
        "Pythonの魅力は、開発環境だけでなく、無料で利用できるライブラリの多様性にもあります。  \n",
        "費用をかけずに、Pythonを使ったプログラミングの世界に飛び込むことができます。"
      ],
      "metadata": {
        "id": "DX6QgnfISd1t"
      }
    },
    {
      "cell_type": "markdown",
      "source": [
        "Pythonを学習する際には、学習の中でどのようなことを実現したいかを考えることが非常に重要です。\n",
        "\n",
        "Pythonで出来ることは以下のような領域になります。"
      ],
      "metadata": {
        "id": "WwGLclrCTDc7"
      }
    },
    {
      "cell_type": "markdown",
      "source": [
        "#### WEBアプリケーション開発\n",
        "\n",
        "\n"
      ],
      "metadata": {
        "id": "h_GLHw0LTXR6"
      }
    },
    {
      "cell_type": "markdown",
      "source": [
        "（そのほかのツールは[こちら](https://zenn.dev/neka_nat/articles/f2f5b6ebeb049a)などを参照してください）\n",
        "  - [Flask](https://msiz07-flask-docs-ja.readthedocs.io/)  \n",
        "    必要最低限の機能だけを揃えた軽量Webアプリケーションフレームワーク。  \n",
        "    分かりやすい説明記事は[こちら](https://toukei-lab.com/python-flask)。\n",
        "  - [Django](https://docs.djangoproject.com/ja/5.0/)  \n",
        "    フルスペックのWebアプリケーションフレームワーク。Flaskより多くの機能を提供する。  \n",
        "    分かりやすい説明記事は[こちら](https://toukei-lab.com/django)。  \n",
        "    分かりやすいFlaskとの比較記事は[こちら](https://toukei-lab.com/flask-django)。\n",
        "  - [Fastapi](https://docs.djangoproject.com/ja/5.0/)  \n",
        "    高速なAPIフレームワークで、非常に高速で直感的なAPIを構築できる。  \n",
        "    分かりやすい入門Zenn記事は[こちら](https://zenn.dev/sh0nk/books/537bb028709ab9)。  \n",
        "    分かりやすいFlaskとの比較記事は[こちら](https://zenn.dev/nameless_sn/articles/flask_vs_fastapi)。\n",
        "  - [Streamlit](https://streamlit.io/)\n",
        "    データの可視化や分析を行うWebアプリを簡単に作れるフレームワーク。  \n",
        "    分かりやすい説明記事は[こちら](https://toukei-lab.com/streamlit)。  \n",
        "    一通りの機能の紹介記事は[こちら](https://data-analytics.fun/2022/08/28/streamlit-recap/)"
      ],
      "metadata": {
        "id": "ltAyWckrrD-R"
      }
    },
    {
      "cell_type": "markdown",
      "source": [
        "#### データ分析\n",
        "\n"
      ],
      "metadata": {
        "id": "qY__9jE7nqYn"
      }
    },
    {
      "cell_type": "markdown",
      "source": [
        "  - [Numpy](https://numpy.org/ja/)\n",
        "    数値計算ライブラリで、高速な多次元配列オブジェクトやそれを操作するためのツールが提供される。  \n",
        "    分かりやすい入門Qiita記事は[こちら](https://qiita.com/moe_713/items/671c8c912f6e8d6c7442)。  \n",
        "  - [Pandas](https://pandas.pydata.org/)  \n",
        "    データ解析ライブラリで、データの整形や加工、解析が容易に行える。  \n",
        "    分かりやすい入門Qiita記事は[こちら](https://qiita.com/ysdyt/items/9ccca82fc5b504e7913a)。\n",
        "  - [matolotlib](https://matplotlib.org/)  \n",
        "    可視化ライブラリで、2Dグラフや3Dグラフを描画するためのツールが提供されている。  \n",
        "    分かりやすい入門Qiita記事は[こちら](https://qiita.com/nkay/items/d1eb91e33b9d6469ef51)。\n",
        "  - [Seaborn](https://seaborn.pydata.org/)  \n",
        "    Matplotlibをベースにした可視化ライブラリで、美しいグラフを簡単に描画できる。  \n",
        "    分かりやすい記事群は[こちら](https://datawokagaku.com/tag/seaborn/)。\n",
        "  - [Plotly](https://plotly.com/python/)  \n",
        "    可視化ライブラリで、インタラクティブなグラフや図を作成するためのツールが提供されている。  \n",
        "    分かりやすい記事は[こちら](https://data-analytics.fun/2021/11/19/plotly-summary/)。\n",
        "  - [SciPy](https://scipy.org/)  \n",
        "    科学技術計算のためのライブラリで、数値計算や最適化、統計など多岐に渡る機能が提供されている。\n",
        "  - [Polars](https://pola.rs/)  \n",
        "    高速なデータフレームライブラリで、大規模なデータセットの処理や分析に適している。  \n",
        "    分かりやすいPandasとの比較記事は[こちら](https://qiita.com/_jinta/items/fac13f09e8e8a5769b79)。"
      ],
      "metadata": {
        "id": "qKvi9tcHrGHI"
      }
    },
    {
      "cell_type": "markdown",
      "source": [
        "#### 機械学習・AI\n",
        "\n"
      ],
      "metadata": {
        "id": "ZzP5wkH1nskv"
      }
    },
    {
      "cell_type": "markdown",
      "source": [
        "  - [scikit-learn](https://scikit-learn.org/)   \n",
        "    機械学習ライブラリで、様々な機械学習アルゴリズムやデータ前処理の機能が提供されている。  \n",
        "    分かりやすい説明記事は[こちら](https://toukei-lab.com/scikit-learn)。\n",
        "  - [PyTorch](https://pytorch.org/)  \n",
        "    機械学習ライブラリで、ニューラルネットワークの構築やトレーニングが容易に行える。  \n",
        "    分かりやすい説明記事は[こちら](https://toukei-lab.com/pytorch)。\n",
        "  - [TensorFlow](https://www.tensorflow.org/?hl=ja)  \n",
        "    Googleが開発したオープンソースの機械学習ライブラリで、  \n",
        "    ニューラルネットワークの構築やトレーニング、デプロイメントが可能である。  \n",
        "    分かりやすい入門Qiita記事は[こちら](https://qiita.com/junichiro/items/8886f3976fc20f73335f)。\n",
        "  - [Transformer](https://ja.wikipedia.org/wiki/Transformer_%28%E6%A9%9F%E6%A2%B0%E5%AD%A6%E7%BF%92%E3%83%A2%E3%83%87%E3%83%AB%29)  \n",
        "    自然言語処理（NLP）タスクに特化したライブラリで、BERTやGPTなどの大規模な事前学習済みモデルを提供している。  \n",
        "    分かりやすいZenn記事は[こちら](https://zenn.dev/zenkigen_tech/articles/2023-01-shimizu)。"
      ],
      "metadata": {
        "id": "Bk0OK-gIrH6B"
      }
    },
    {
      "cell_type": "markdown",
      "source": [
        "#### ゲーム（GUI）アプリ開発\n",
        "\n"
      ],
      "metadata": {
        "id": "Pyy8xK-2nuKO"
      }
    },
    {
      "cell_type": "markdown",
      "source": [
        "（ライブラリの比較記事は[こちら](https://www.simugrammer.com/python_gui_matome/)）\n",
        "  - [Tkinter](https://docs.python.org/ja/3/library/tkinter.html)  \n",
        "    GUIアプリケーションを作成するためのツールキット。  \n",
        "    分かりやすい記事群は[こちら](https://chantastu.hatenablog.com/archive/category/GUI%E4%BD%9C%E6%88%90)。\n",
        "  - [Pygame](https://www.pygame.org/)  \n",
        "    2Dゲームを作成するためのライブラリで、ゲーム開発に必要な機能を提供している。"
      ],
      "metadata": {
        "id": "Ezz3FTkgrJ-5"
      }
    },
    {
      "cell_type": "markdown",
      "source": [
        "#### スクレイピング"
      ],
      "metadata": {
        "id": "O5Ocm8EnVwb0"
      }
    },
    {
      "cell_type": "markdown",
      "source": [
        "\n",
        "（分かりやすいサイトは[こちら](https://ai-inter1.com/python-webscraping/)）\n",
        "  - [Requests](https://requests.readthedocs.io/)  \n",
        "    HTTPライブラリで、HTTPリクエストを簡単に送信するためのツールが提供されている。  \n",
        "    分かりやすい記事は[こちら](https://ai-inter1.com/python-requests/)。\n",
        "  - [Beautiful Soup](https://www.crummy.com/software/BeautifulSoup/bs4/doc/)  \n",
        "    HTML/XML解析ライブラリで、Webスクレイピングやデータ抽出に使用される。  \n",
        "    分かりやすい記事は[こちら](https://ai-inter1.com/beautifulsoup_1/)。\n",
        "  - [Selenium](https://selenium-python.readthedocs.io/)  \n",
        "    Webブラウザを自動化するためのツールで、Webアプリケーションのテストやスクレイピングに使用される。  \n",
        "    分かりやすい記事は[こちら](https://ai-inter1.com/python-selenium/)。"
      ],
      "metadata": {
        "id": "HKJBUMYinvdH"
      }
    },
    {
      "cell_type": "markdown",
      "source": [
        "### 1.3 プログラミングの進め方"
      ],
      "metadata": {
        "id": "C1VR4ldQHVwX"
      }
    },
    {
      "cell_type": "markdown",
      "source": [
        "Pythonの実行環境には様々なものがありますが、有名どころである**Goolge Colaboratory*や**Jupyter Notebook**はNotebookタイプです。\n",
        "\n",
        "Notebookタイプでは、コードを追加したいとき（プログラムを実行する）に**Codeセル**を、メモを残したいときに**Textセル**を追加します。   \n",
        "Textセルでは、**Markdown記法**を用いることで見栄えの良いテキストを作成することができます。\n",
        "\n"
      ],
      "metadata": {
        "id": "ezMS6_ObHx83"
      }
    },
    {
      "cell_type": "markdown",
      "source": [
        "特にGoolge Colaboratoryは、[Google Research](https://research.google/)が提供する無料のクラウドベースPython実行環境です。\n",
        "\n",
        "初期設定がほぼ不要であること、Googleのサーバー上で動くことなどが大きな特徴です。"
      ],
      "metadata": {
        "id": "W9-6srUiJClP"
      }
    },
    {
      "cell_type": "markdown",
      "source": [
        "簡単な初期設定を終えるとすぐに、プログラムを実行できるようになります。\n",
        "\n",
        "以下のサンプルコードを実行してみましょう。（実行ボタンをクリックするか、「Ctrl」＋「Enter」を押す）"
      ],
      "metadata": {
        "id": "Hjz8vIaqJolz"
      }
    },
    {
      "cell_type": "code",
      "source": [
        "1 + 2"
      ],
      "metadata": {
        "colab": {
          "base_uri": "https://localhost:8080/"
        },
        "id": "6Bv9mrqb-dn8",
        "outputId": "e00199ab-27e2-459b-e749-0291c7f0b096"
      },
      "execution_count": null,
      "outputs": [
        {
          "output_type": "execute_result",
          "data": {
            "text/plain": [
              "3"
            ]
          },
          "metadata": {},
          "execution_count": 1
        }
      ]
    },
    {
      "cell_type": "markdown",
      "source": [
        "「**コンソール**」と呼ばれる部分に結果が出力されます。"
      ],
      "metadata": {
        "id": "rI4OqgjoLXLp"
      }
    },
    {
      "cell_type": "markdown",
      "source": [
        "### 1.4 print関数"
      ],
      "metadata": {
        "id": "mwGGytEtLta4"
      }
    },
    {
      "cell_type": "markdown",
      "source": [
        "print関数を用いることで、printの後ろの()の中に書いた値を出力できます。"
      ],
      "metadata": {
        "id": "cJ8mwjNDMH-2"
      }
    },
    {
      "cell_type": "code",
      "source": [
        "print(\"Hello World!\")"
      ],
      "metadata": {
        "colab": {
          "base_uri": "https://localhost:8080/"
        },
        "id": "13pIcd5YMS38",
        "outputId": "54e995d5-eccd-4a81-dc74-d157dbf3a238"
      },
      "execution_count": null,
      "outputs": [
        {
          "output_type": "stream",
          "name": "stdout",
          "text": [
            "Hello world\n"
          ]
        }
      ]
    },
    {
      "cell_type": "markdown",
      "source": [
        "print関数の途中で改行したいときは、**\" \\n \"** を途中に挿入します。"
      ],
      "metadata": {
        "id": "hbDlQc6ndi8T"
      }
    },
    {
      "cell_type": "code",
      "source": [
        "print(\"Hello World!\\nWelcome to Python!\")"
      ],
      "metadata": {
        "colab": {
          "base_uri": "https://localhost:8080/"
        },
        "id": "sKdjZHmmds5g",
        "outputId": "b096d9e3-e471-4d6b-f4c6-1d98336925fc"
      },
      "execution_count": null,
      "outputs": [
        {
          "output_type": "stream",
          "name": "stdout",
          "text": [
            "Hello World!\n",
            "Welcome to Python!\n"
          ]
        }
      ]
    },
    {
      "cell_type": "markdown",
      "source": [
        "endオプションを指定すると、改行を防止することができます。"
      ],
      "metadata": {
        "id": "27dkOBpQcQL2"
      }
    },
    {
      "cell_type": "code",
      "source": [
        "print(\"Hello World!\", end=\" \")  # 文の間に空白\" \"を空ける\n",
        "print(\"Welcome to Python!\", end=\", \")  # 文の間に\",\"をつける\n",
        "print(25)"
      ],
      "metadata": {
        "colab": {
          "base_uri": "https://localhost:8080/"
        },
        "id": "GRPgCvVJdr9X",
        "outputId": "740b9a24-9175-41e3-8a30-15916e5c70ab"
      },
      "execution_count": null,
      "outputs": [
        {
          "output_type": "stream",
          "name": "stdout",
          "text": [
            "Hello World! Welcome to Python!,25\n"
          ]
        }
      ]
    },
    {
      "cell_type": "markdown",
      "source": [
        "### 1.5 コメント"
      ],
      "metadata": {
        "id": "66kKnl0uMzst"
      }
    },
    {
      "cell_type": "markdown",
      "source": [
        "\n",
        "プログラムはプログラミング言語で書かれるため、理解しにくい部分もあるかもしれません。  \n",
        "そのような場合には、「コメント」を使って補足することができます。"
      ],
      "metadata": {
        "id": "RHLKfLJ5NA_-"
      }
    },
    {
      "cell_type": "markdown",
      "source": [
        "Python言語では「#」記号を利用して「コメント」を入力します。  \n",
        "「#」記号より文末までが、「コメント」という扱いになります。\n",
        "\n",
        "コメントの各行は (コメント内でインデントされたテキストでない限り)「#」とスペースひとつで始めることになります。"
      ],
      "metadata": {
        "id": "twVekFhKN5bG"
      }
    },
    {
      "cell_type": "code",
      "source": [
        "# Hello Worldを表示するよ！\n",
        "print(\"Hello World!\")  # print関数を使って画面に表示するよ"
      ],
      "metadata": {
        "id": "dLmVrglkP-ET"
      },
      "execution_count": null,
      "outputs": []
    },
    {
      "cell_type": "markdown",
      "source": [
        "「一時的にプログラムを無効化したい」場合にも、コメントを利用することがあります。  \n",
        "このようにプログラムを無効化することを「**コメントアウト**」と呼びます。"
      ],
      "metadata": {
        "id": "4yKPq0lWQU7N"
      }
    },
    {
      "cell_type": "code",
      "source": [
        "# 一時的にプログラムを無効化！\n",
        "# print(\"Hello World!\")"
      ],
      "metadata": {
        "id": "dT368tpxQqpf"
      },
      "execution_count": null,
      "outputs": []
    },
    {
      "cell_type": "markdown",
      "source": [
        "コメントアウトしたいコード部分をドラッグか「Ctrl」＋「A」を押すかして選択した後、  \n",
        "「Ctrl」＋「/」を押すことで、自動でコメントアウトをすることができます。"
      ],
      "metadata": {
        "id": "YRfdTzIzQrRX"
      }
    },
    {
      "cell_type": "markdown",
      "source": [
        "### 1.6　エラーへの対処方法"
      ],
      "metadata": {
        "id": "3Ym0xAR4ur6E"
      }
    },
    {
      "cell_type": "markdown",
      "source": [
        "プログラミングには、時折**エラー**が発生します。文法の誤りや正しくない処理を行った場合に、エラーが発生します。  \n",
        "エラーが起こると、プログラムの実行が停止し、その原因や場所がエラーメッセージとして表示されます。\n",
        "\n",
        "エラーメッセージを理解することは重要です。\n",
        "\n",
        "分からない場合は、インターネットで検索してみることをお勧めします。  \n",
        "同じような問題を抱えた人が解決策を共有していることがあります。"
      ],
      "metadata": {
        "id": "L4BGjzMquyfK"
      }
    },
    {
      "cell_type": "markdown",
      "source": [
        "### 1.7　Pythonプログラミングにおける注意"
      ],
      "metadata": {
        "id": "qv3gS2WrH6vX"
      }
    },
    {
      "cell_type": "markdown",
      "source": [
        "#### 行の先頭から書く"
      ],
      "metadata": {
        "id": "VIBuxxWaLVbW"
      }
    },
    {
      "cell_type": "markdown",
      "source": [
        "Pythonプログラムは、基本行の先頭から書きます。"
      ],
      "metadata": {
        "id": "ZbU0rWYfIHH2"
      }
    },
    {
      "cell_type": "code",
      "source": [
        "print(\"Hello World!\")       # 行頭からプログラムが始まる OK\n",
        "    #print(\"Hello World!\")   # 行頭がズレている NG"
      ],
      "metadata": {
        "colab": {
          "base_uri": "https://localhost:8080/",
          "height": 145
        },
        "id": "WwwXGbiOJ18c",
        "outputId": "a16effc3-2569-4768-c092-6d9b2e70c0bc"
      },
      "execution_count": null,
      "outputs": [
        {
          "output_type": "error",
          "ename": "IndentationError",
          "evalue": "unexpected indent (<ipython-input-1-b83c2386e626>, line 2)",
          "traceback": [
            "\u001b[0;36m  File \u001b[0;32m\"<ipython-input-1-b83c2386e626>\"\u001b[0;36m, line \u001b[0;32m2\u001b[0m\n\u001b[0;31m    print(\"Hello World!\")   # 行頭がズレている NG\u001b[0m\n\u001b[0m    ^\u001b[0m\n\u001b[0;31mIndentationError\u001b[0m\u001b[0;31m:\u001b[0m unexpected indent\n"
          ]
        }
      ]
    },
    {
      "cell_type": "markdown",
      "source": [
        "実行すると、2行目でエラーが発生します。"
      ],
      "metadata": {
        "id": "khc9wc7xKAZP"
      }
    },
    {
      "cell_type": "markdown",
      "source": [
        "行頭の空白やタブのことを「**インデント**」と呼びます。  \n",
        "Pythonでは「インデント」のルールが明確に決まっています。\n",
        "\n",
        "インデントについて、原則スペース4個で書くこととされています。  \n",
        "インデントにタブとスペースを混ぜることは禁止されているので注意が必要です。"
      ],
      "metadata": {
        "id": "faW8oWpOKFOa"
      }
    },
    {
      "cell_type": "markdown",
      "source": [
        "複数の行に対してインデントを入れたい場合には、行を複数選択してから[TAB]キーを押します。\n",
        "\n",
        "反対に、インデントを削除したい場合には、行を複数選択してから[SHIFT]+[TAB]キーを押します。\n"
      ],
      "metadata": {
        "id": "dJqHzjGgDiG4"
      }
    },
    {
      "cell_type": "markdown",
      "source": [
        "#### 1行に1命令"
      ],
      "metadata": {
        "id": "eTPCtXtcLYZp"
      }
    },
    {
      "cell_type": "markdown",
      "source": [
        "Pythonのプログラムでは、通常、1行に1つのプログラムを書きます。  \n",
        "複数のプログラム実行命令を1行に詰め込むことはできません。"
      ],
      "metadata": {
        "id": "9Wn29I3yLdzp"
      }
    },
    {
      "cell_type": "code",
      "source": [
        "# 1行に2つの命令\n",
        "#print(\"Hello\") print(\"World\")"
      ],
      "metadata": {
        "colab": {
          "base_uri": "https://localhost:8080/",
          "height": 145
        },
        "id": "xkuuKhJ3L9Wu",
        "outputId": "f4fcf070-0996-47d7-d6ad-02d544c61130"
      },
      "execution_count": null,
      "outputs": [
        {
          "output_type": "error",
          "ename": "SyntaxError",
          "evalue": "invalid syntax (<ipython-input-2-b474b958ca8e>, line 2)",
          "traceback": [
            "\u001b[0;36m  File \u001b[0;32m\"<ipython-input-2-b474b958ca8e>\"\u001b[0;36m, line \u001b[0;32m2\u001b[0m\n\u001b[0;31m    print(\"Hello\") print(\"World\")\u001b[0m\n\u001b[0m                   ^\u001b[0m\n\u001b[0;31mSyntaxError\u001b[0m\u001b[0;31m:\u001b[0m invalid syntax\n"
          ]
        }
      ]
    },
    {
      "cell_type": "markdown",
      "source": [
        "実行すると、エラーが発生します。"
      ],
      "metadata": {
        "id": "-iwY4VzpMBvh"
      }
    },
    {
      "cell_type": "markdown",
      "source": [
        "#### 全角スペースの罠"
      ],
      "metadata": {
        "id": "PkisopmIMmmW"
      }
    },
    {
      "cell_type": "markdown",
      "source": [
        "Pythonでは、コメントや文字列以外の箇所では「全角スペース」の使用は許可されていません。"
      ],
      "metadata": {
        "id": "OfA0k1_iMlve"
      }
    },
    {
      "cell_type": "code",
      "source": [
        "# コメントで「　」       # コメントの中はOK\n",
        "print(\"Hello　World\")   # 文字列の中はOK\n",
        "#print(24　)             # プログラムの中はNG"
      ],
      "metadata": {
        "id": "y3FtFyH1MoqU"
      },
      "execution_count": null,
      "outputs": []
    },
    {
      "cell_type": "markdown",
      "source": [
        "実行すると、3行目でエラーが発生します。"
      ],
      "metadata": {
        "id": "9ROaPxTlMvpg"
      }
    },
    {
      "cell_type": "markdown",
      "source": [
        "Pythonでは、コメントを入れる際に、間違って全角スペースが使われることがあります。  \n",
        "\n",
        "全角スペースは目で見て判別しにくいため、注意が必要です。"
      ],
      "metadata": {
        "id": "C5DoyfdfM36d"
      }
    },
    {
      "cell_type": "markdown",
      "source": [],
      "metadata": {
        "id": "jqCGBYmBSCyl"
      }
    },
    {
      "cell_type": "markdown",
      "metadata": {
        "id": "pDQRSzE_Q-YH"
      },
      "source": [
        "## 2 Python文法(基礎)"
      ]
    },
    {
      "cell_type": "markdown",
      "source": [
        "### 2.1 数値型"
      ],
      "metadata": {
        "id": "n36ql4iJSHIu"
      }
    },
    {
      "cell_type": "markdown",
      "source": [
        "数値型(Numeric)には**整数**、**浮動小数点数**、複素数 の3つがあります。  "
      ],
      "metadata": {
        "id": "qeTKM78bSkBY"
      }
    },
    {
      "cell_type": "code",
      "source": [
        "print(25)     # 整数型\n",
        "print(25.25)  # 浮動小数点数"
      ],
      "metadata": {
        "colab": {
          "base_uri": "https://localhost:8080/"
        },
        "id": "FL3MTJytS6kq",
        "outputId": "824fa775-dbb5-42c0-f981-586bb7858b04"
      },
      "execution_count": null,
      "outputs": [
        {
          "output_type": "stream",
          "name": "stdout",
          "text": [
            "25\n",
            "25.25\n"
          ]
        }
      ]
    },
    {
      "cell_type": "markdown",
      "source": [
        "以下の四則演算をすることができます。\n",
        "\n",
        "\n",
        "加算と減算は、数学の記号と同様に、プラス記号(+)とマイナス記号(-)を使用します。  \n",
        "一方、乗算と除算については、プログラミング言語特有の記号を使用します。"
      ],
      "metadata": {
        "id": "ZLC-h4gvTKkm"
      }
    },
    {
      "cell_type": "code",
      "execution_count": null,
      "metadata": {
        "id": "jcpc4vvkQ-YH",
        "colab": {
          "base_uri": "https://localhost:8080/"
        },
        "outputId": "ad1f2736-ee3f-4bbd-86d7-6aa23f8ea5df"
      },
      "outputs": [
        {
          "output_type": "execute_result",
          "data": {
            "text/plain": [
              "10"
            ]
          },
          "metadata": {},
          "execution_count": 11
        }
      ],
      "source": [
        "# 加算\n",
        "7 + 3"
      ]
    },
    {
      "cell_type": "code",
      "execution_count": null,
      "metadata": {
        "id": "BYpRKE7cQ-YH",
        "colab": {
          "base_uri": "https://localhost:8080/"
        },
        "outputId": "f46d4db9-79d8-4e30-a2c1-99881221a746"
      },
      "outputs": [
        {
          "output_type": "execute_result",
          "data": {
            "text/plain": [
              "4"
            ]
          },
          "metadata": {},
          "execution_count": 12
        }
      ],
      "source": [
        "# 減算\n",
        "7 - 3"
      ]
    },
    {
      "cell_type": "code",
      "execution_count": null,
      "metadata": {
        "id": "83Ie-lH5Q-YH",
        "colab": {
          "base_uri": "https://localhost:8080/"
        },
        "outputId": "6a2685c6-4a20-4d62-995b-9e1dda504bd8"
      },
      "outputs": [
        {
          "output_type": "execute_result",
          "data": {
            "text/plain": [
              "21"
            ]
          },
          "metadata": {},
          "execution_count": 13
        }
      ],
      "source": [
        "# 乗算\n",
        "7 * 3"
      ]
    },
    {
      "cell_type": "code",
      "execution_count": null,
      "metadata": {
        "id": "8buwlitlQ-YH",
        "colab": {
          "base_uri": "https://localhost:8080/"
        },
        "outputId": "f7ff7f01-103f-4984-f223-6c56c76a9ccd"
      },
      "outputs": [
        {
          "output_type": "execute_result",
          "data": {
            "text/plain": [
              "2.3333333333333335"
            ]
          },
          "metadata": {},
          "execution_count": 14
        }
      ],
      "source": [
        "# 除算(商、値は実数)\n",
        "7 / 3"
      ]
    },
    {
      "cell_type": "code",
      "source": [
        "# 除算(商、値は整数)\n",
        "7 // 3"
      ],
      "metadata": {
        "colab": {
          "base_uri": "https://localhost:8080/"
        },
        "id": "gT9SIVboTlC7",
        "outputId": "c043fb2e-952c-49e5-9b03-5a8937a65015"
      },
      "execution_count": null,
      "outputs": [
        {
          "output_type": "execute_result",
          "data": {
            "text/plain": [
              "2"
            ]
          },
          "metadata": {},
          "execution_count": 15
        }
      ]
    },
    {
      "cell_type": "code",
      "execution_count": null,
      "metadata": {
        "id": "LSYyLCAFQ-YI",
        "colab": {
          "base_uri": "https://localhost:8080/"
        },
        "outputId": "374fdbf5-9ec7-412a-e3dc-da7f4712ee95"
      },
      "outputs": [
        {
          "output_type": "execute_result",
          "data": {
            "text/plain": [
              "1"
            ]
          },
          "metadata": {},
          "execution_count": 16
        }
      ],
      "source": [
        "# 除算(剰余)\n",
        "7 % 3"
      ]
    },
    {
      "cell_type": "code",
      "execution_count": null,
      "metadata": {
        "id": "E1QWnCi2Q-YI",
        "colab": {
          "base_uri": "https://localhost:8080/"
        },
        "outputId": "1c21a47e-c42f-459a-d1af-4bba8d630c16"
      },
      "outputs": [
        {
          "output_type": "execute_result",
          "data": {
            "text/plain": [
              "343"
            ]
          },
          "metadata": {},
          "execution_count": 17
        }
      ],
      "source": [
        "# 冪乗\n",
        "7 ** 3"
      ]
    },
    {
      "cell_type": "markdown",
      "source": [
        "算術演算を組み合わせて、より複雑な計算を行うこともできます。\n",
        "\n",
        "演算子の結合強度は次のようになっています：冪乗 > 乗算・除算 > 加算・減算。  \n",
        "\n",
        "括弧がある場合、その内部の計算が優先されます。"
      ],
      "metadata": {
        "id": "J-AtGTDrUORN"
      }
    },
    {
      "cell_type": "code",
      "execution_count": null,
      "metadata": {
        "id": "QYwKey9WQ-YI",
        "colab": {
          "base_uri": "https://localhost:8080/"
        },
        "outputId": "01f22973-32d0-4948-fe45-1c1a84b9f6d5"
      },
      "outputs": [
        {
          "output_type": "execute_result",
          "data": {
            "text/plain": [
              "34"
            ]
          },
          "metadata": {},
          "execution_count": 19
        }
      ],
      "source": [
        "(1 + 2) * 3 + 5**2"
      ]
    },
    {
      "cell_type": "code",
      "execution_count": null,
      "metadata": {
        "id": "dl0A34DOQ-YI",
        "colab": {
          "base_uri": "https://localhost:8080/"
        },
        "outputId": "05068a39-eecb-4e8a-bec7-0f5cfce5fcc6"
      },
      "outputs": [
        {
          "output_type": "execute_result",
          "data": {
            "text/plain": [
              "17"
            ]
          },
          "metadata": {},
          "execution_count": 20
        }
      ],
      "source": [
        "2 + 3 * 5"
      ]
    },
    {
      "cell_type": "code",
      "execution_count": null,
      "metadata": {
        "id": "1voCs7kRQ-YI",
        "colab": {
          "base_uri": "https://localhost:8080/"
        },
        "outputId": "38aca9a4-c54e-45cf-efbe-1cfa50190503"
      },
      "outputs": [
        {
          "output_type": "execute_result",
          "data": {
            "text/plain": [
              "25"
            ]
          },
          "metadata": {},
          "execution_count": 21
        }
      ],
      "source": [
        "(2 + 3) * 5"
      ]
    },
    {
      "cell_type": "code",
      "execution_count": null,
      "metadata": {
        "id": "iV0ZmCsTQ-YJ",
        "colab": {
          "base_uri": "https://localhost:8080/"
        },
        "outputId": "f7546b22-5a29-4dac-974f-59b3e6f23a5e"
      },
      "outputs": [
        {
          "output_type": "execute_result",
          "data": {
            "text/plain": [
              "40"
            ]
          },
          "metadata": {},
          "execution_count": 22
        }
      ],
      "source": [
        "2 ** 3 * 5"
      ]
    },
    {
      "cell_type": "code",
      "execution_count": null,
      "metadata": {
        "id": "FkG448zyQ-YJ",
        "colab": {
          "base_uri": "https://localhost:8080/"
        },
        "outputId": "f4a7f903-45ea-4599-fb36-5c7a27e54cec"
      },
      "outputs": [
        {
          "output_type": "execute_result",
          "data": {
            "text/plain": [
              "32768"
            ]
          },
          "metadata": {},
          "execution_count": 23
        }
      ],
      "source": [
        "2 ** (3 * 5)"
      ]
    },
    {
      "cell_type": "markdown",
      "source": [
        "演算記号の前後（加えて、コンマの後）には、スペース1個を入れるのが原則です。  \n",
        "\n",
        "ただし、グルーピングを表したいときには、スペースを入れないこともあります。"
      ],
      "metadata": {
        "id": "2uwSdy1oU1Ms"
      }
    },
    {
      "cell_type": "markdown",
      "source": [
        "### 2.2 文字列型"
      ],
      "metadata": {
        "id": "izSWWDRFlxSA"
      }
    },
    {
      "cell_type": "markdown",
      "source": [
        "Pythonの文字列は『**シングルクォーテーション**』か『**ダブルクォーテーション**』で囲みます。  \n",
        "単数文字か複数文字かの区別はなく、どちらを使ってもよいです。  \n",
        "\n",
        "囲むときは同じものをセットで使う必要があることに注意しましょう。  \n",
        "『**ダブルクォーテーション**』を使うことが多いようです。"
      ],
      "metadata": {
        "id": "b_f6oMUBlzdS"
      }
    },
    {
      "cell_type": "code",
      "source": [
        "print('Hello World!')  # シングルOK\n",
        "print(\"Hello World!\")  # ダブルOK\n",
        "#print('Hello World!\")  # 異なる場合はNG"
      ],
      "metadata": {
        "colab": {
          "base_uri": "https://localhost:8080/"
        },
        "id": "iykaQtUQT8ob",
        "outputId": "92679eaa-4088-431e-bd36-6fe67c902c17"
      },
      "execution_count": null,
      "outputs": [
        {
          "output_type": "execute_result",
          "data": {
            "text/plain": [
              "False"
            ]
          },
          "metadata": {},
          "execution_count": 24
        }
      ]
    },
    {
      "cell_type": "markdown",
      "source": [
        "文字列においては、以下の演算をすることができます。\n"
      ],
      "metadata": {
        "id": "NbHB3aF6V94U"
      }
    },
    {
      "cell_type": "code",
      "execution_count": null,
      "metadata": {
        "colab": {
          "base_uri": "https://localhost:8080/"
        },
        "outputId": "9825bdbb-14db-43f9-c085-902d62f8a59b",
        "id": "T88yvuk5V94V"
      },
      "outputs": [
        {
          "output_type": "stream",
          "name": "stdout",
          "text": [
            "HelloWorld!\n"
          ]
        }
      ],
      "source": [
        "# 連結\n",
        "print(\"Hello\" + \"World!\")"
      ]
    },
    {
      "cell_type": "code",
      "execution_count": null,
      "metadata": {
        "colab": {
          "base_uri": "https://localhost:8080/"
        },
        "outputId": "522bc3f6-abab-4721-b7e9-7b09f641a171",
        "id": "Lea1mfdBV94W"
      },
      "outputs": [
        {
          "output_type": "stream",
          "name": "stdout",
          "text": [
            "HelloHelloHello\n"
          ]
        }
      ],
      "source": [
        "# 反復\n",
        "print(\"Hello\" * 3)"
      ]
    },
    {
      "cell_type": "markdown",
      "source": [
        "数値型と文字列型を結合することは不可能なので注意が必要です。"
      ],
      "metadata": {
        "id": "CELdwQWpWLaW"
      }
    },
    {
      "cell_type": "code",
      "source": [
        "print(7 + 4)      # 数値型の結合\n",
        "print(\"7\" + \"4\")  # 文字列型の結合"
      ],
      "metadata": {
        "colab": {
          "base_uri": "https://localhost:8080/"
        },
        "id": "8679SzwSWMuR",
        "outputId": "74827ded-b1bc-4c78-cb92-a104e53502c9"
      },
      "execution_count": null,
      "outputs": [
        {
          "output_type": "stream",
          "name": "stdout",
          "text": [
            "11\n",
            "74\n"
          ]
        }
      ]
    },
    {
      "cell_type": "markdown",
      "source": [
        "特殊な文字列（例えば「\"」や「'」など）を入力する際には、**エスケープシーケンス**という特殊な文字列を使用する必要があります。\n",
        "\n",
        "「\\」と文字の組み合わせで表現します。"
      ],
      "metadata": {
        "id": "PiG6uPTOWirO"
      }
    },
    {
      "cell_type": "code",
      "source": [
        "print(\"改行\\nしてみる\")\n",
        "print(\"Tab\\tしてみる\")\n",
        "print(\"ダブルクォーテーションを\\\"表示してみる\")\n",
        "print(\"シングルクォーテーションを\\'表示してみる\")\n",
        "print(\"\\\\マークを表示してみる\")\n"
      ],
      "metadata": {
        "colab": {
          "base_uri": "https://localhost:8080/"
        },
        "id": "RrrsgKWVXBa7",
        "outputId": "3d887459-2e92-4ada-d03a-8e6a087e30c7"
      },
      "execution_count": null,
      "outputs": [
        {
          "output_type": "stream",
          "name": "stdout",
          "text": [
            "改行\n",
            "してみる\n",
            "Tab\tしてみる\n",
            "ダブルクォーテーションを\"表示してみる\n",
            "シングルクォーテーションを'表示してみる\n",
            "\\マークを表示してみる\n"
          ]
        }
      ]
    },
    {
      "cell_type": "markdown",
      "source": [
        "### 2.3 真偽値"
      ],
      "metadata": {
        "id": "MwEZh-3IvYKl"
      }
    },
    {
      "cell_type": "markdown",
      "source": [
        "**真偽値（boolean）**とは、コンピューターの世界において、真偽を表すために用いられる基本的な概念です。"
      ],
      "metadata": {
        "id": "XVHCdRJawVa2"
      }
    },
    {
      "cell_type": "markdown",
      "source": [
        "Pythonにおいては、**`True`** (=真)と**`False`** (=偽)で表されます。\n",
        "\n",
        "条件が成立したときは`True`、しなかったときは`False`となります。"
      ],
      "metadata": {
        "id": "dM0H-fuj3I0q"
      }
    },
    {
      "cell_type": "markdown",
      "source": [
        "何らかの条件を立てるときには、**条件式**を立てることになります。\n",
        "\n",
        "ここで使われる演算子が**比較演算子**です。比較のパターンは6種類あります。"
      ],
      "metadata": {
        "id": "c7X6lfxl8FtW"
      }
    },
    {
      "cell_type": "code",
      "execution_count": null,
      "metadata": {
        "id": "M5WVQr_qQ-YJ",
        "colab": {
          "base_uri": "https://localhost:8080/"
        },
        "outputId": "062070ba-6c3d-47d4-db36-0f8d107f3551"
      },
      "outputs": [
        {
          "output_type": "stream",
          "name": "stdout",
          "text": [
            "True\n",
            "False\n",
            "\n",
            "True\n",
            "False\n",
            "\n",
            "False\n",
            "True\n"
          ]
        }
      ],
      "source": [
        "print(7 > 4)   # (左)が(右)より大きい\n",
        "print(7 < 4)   # (左)が(右)より小さい\n",
        "print(\"\")\n",
        "print(7 >= 4)  # (左)が(右)以上である\n",
        "print(7 <= 4)  # (左)が(右)以下である\n",
        "print(\"\")\n",
        "print(7 == 4)  # (左)が(右)と等しい\n",
        "print(7 != 4)  # (左)が(右)と等しくない\n"
      ]
    },
    {
      "cell_type": "markdown",
      "source": [
        "文字列型同時を比較するときは、少しだけ意味合いが変わってきます。"
      ],
      "metadata": {
        "id": "6KhEqEcz0oFV"
      }
    },
    {
      "cell_type": "code",
      "source": [
        "name1 = \"Japan\"\n",
        "name2 = \"America\"\n",
        "\n",
        "print(name1 == name2)  # \"Japan\"と\"America\"は同じではないのでFalse\n",
        "print(name1 != name2)  # \"Japan\"と\"America\"は同じではないのでTrue\n",
        "print(\"\")\n",
        "print(name1 < name2)  # \"Japan\"は\"America\"より「辞書的に前」ではないのでFalse\n",
        "print(name1 > name2)  # \"Japan\"は\"America\"より「辞書的に後」なのでTrue\n",
        "print(\"\")\n",
        "print(name1 <= name2)  # \"Japan\"は\"America\"より「辞書的に前」ではないのでFalse\n",
        "print(name1 >= name2)  # \"Japan\"は\"America\"より「辞書的に"
      ],
      "metadata": {
        "colab": {
          "base_uri": "https://localhost:8080/"
        },
        "id": "YqOyUFFY05yQ",
        "outputId": "1231cfe1-26cb-48fa-f060-82dbd9842ac6"
      },
      "execution_count": null,
      "outputs": [
        {
          "output_type": "stream",
          "name": "stdout",
          "text": [
            "False\n",
            "True\n",
            "\n",
            "False\n",
            "True\n",
            "\n",
            "False\n",
            "True\n"
          ]
        }
      ]
    },
    {
      "cell_type": "markdown",
      "source": [
        "真偽値に関する計算（論理計算）において、Pythonでは**論理積`and`**、**論理和`or`**、**否定`not`**がサポートされています。"
      ],
      "metadata": {
        "id": "tkfXiM6fAo8G"
      }
    },
    {
      "cell_type": "code",
      "execution_count": null,
      "metadata": {
        "id": "NGUA4X0CQ-YK",
        "colab": {
          "base_uri": "https://localhost:8080/"
        },
        "outputId": "e2a934b0-2c27-4326-c039-427eba643a65"
      },
      "outputs": [
        {
          "output_type": "execute_result",
          "data": {
            "text/plain": [
              "False"
            ]
          },
          "metadata": {},
          "execution_count": 44
        }
      ],
      "source": [
        "# 両方の条件が満たされたらTrue\n",
        "True and False"
      ]
    },
    {
      "cell_type": "code",
      "execution_count": null,
      "metadata": {
        "id": "0MVBYBNEQ-YK",
        "colab": {
          "base_uri": "https://localhost:8080/"
        },
        "outputId": "5f454a3d-1543-4dc1-bb4a-808a13b53632"
      },
      "outputs": [
        {
          "output_type": "execute_result",
          "data": {
            "text/plain": [
              "True"
            ]
          },
          "metadata": {},
          "execution_count": 45
        }
      ],
      "source": [
        "# どちらかの条件が満たされたらTrue\n",
        "True or False"
      ]
    },
    {
      "cell_type": "code",
      "execution_count": null,
      "metadata": {
        "id": "5rxKsyW0Q-YK",
        "colab": {
          "base_uri": "https://localhost:8080/"
        },
        "outputId": "f2252797-623c-4ef5-da63-03424e48cd2d"
      },
      "outputs": [
        {
          "output_type": "execute_result",
          "data": {
            "text/plain": [
              "False"
            ]
          },
          "metadata": {},
          "execution_count": 46
        }
      ],
      "source": [
        "# 条件が満たされなかったらTrue\n",
        "not True"
      ]
    },
    {
      "cell_type": "markdown",
      "source": [
        "### 2.4 変数"
      ],
      "metadata": {
        "id": "_Ap6VdQCcINF"
      }
    },
    {
      "cell_type": "markdown",
      "source": [
        "**変数**は、データを格納するためにコンピュータ内部に準備する箱のようなものです。  \n",
        "\n",
        "変数に値を保存することを**代入**と言い、その値を取り出して利用することを**参照**と言います。\n"
      ],
      "metadata": {
        "id": "wR8siu5NcFdj"
      }
    },
    {
      "cell_type": "markdown",
      "source": [
        "Pythonで変数を作成する場合は、必ず**変数名**と**セットしたい値**を同時に書く必要があります。"
      ],
      "metadata": {
        "id": "Kq9tvVX1cPd7"
      }
    },
    {
      "cell_type": "code",
      "source": [
        "name = \"Japan\"  # nameという変数に、文字列\"Japan\"を代入\n",
        "number = \"81\"   # numberという変数に、文字列の\"81\"を代入\n",
        "age = 21        # ageという変数に、整数の\"21\"を代入\n",
        "\n",
        "print(name)\n",
        "print(number)\n",
        "print(age)"
      ],
      "metadata": {
        "colab": {
          "base_uri": "https://localhost:8080/"
        },
        "id": "W_me8vhHcVWa",
        "outputId": "a7dd9e65-3542-4e06-9138-8b0c28542015"
      },
      "execution_count": null,
      "outputs": [
        {
          "output_type": "stream",
          "name": "stdout",
          "text": [
            "Japan\n",
            "81\n",
            "21\n"
          ]
        }
      ]
    },
    {
      "cell_type": "markdown",
      "source": [
        "Pythonでは、変数名や関数名の命名規則には**スネークケース**（**snake_case**）と呼ばれるスタイルを適用するのが一般的です。  \n",
        "これは全ての文字を小文字にして、単語の間をアンダースコアで区切る書き方です。\n",
        "\n",
        "一方、クラス名の命名規則には**UpperCamelCase**と呼ばれるスタイルを適用します。  \n",
        "これは単語の先頭を大文字で表記し、単語の間にアンダースコアを使用しない書き方です。"
      ],
      "metadata": {
        "id": "eOJODO4kHmle"
      }
    },
    {
      "cell_type": "markdown",
      "source": [
        "関数名や変数名に使用できない単語を**予約語**と呼びます。\n",
        "\n",
        "予約語を用いてしまうと、構文エラー（SyntaxError)が起こってしまいます。"
      ],
      "metadata": {
        "id": "oVfAPiUMJ1su"
      }
    },
    {
      "cell_type": "code",
      "source": [
        "import keyword\n",
        "import pprint\n",
        "\n",
        "print(len(keyword.kwlist))\n",
        "# 35\n",
        "\n",
        "pprint.pprint(keyword.kwlist, compact=True)\n",
        "# ['False', 'None', 'True', 'and', 'as', 'assert', 'async', 'await', 'break',\n",
        "#  'class', 'continue', 'def', 'del', 'elif', 'else', 'except', 'finally', 'for',\n",
        "#  'from', 'global', 'if', 'import', 'in', 'is', 'lambda', 'nonlocal', 'not',\n",
        "#  'or', 'pass', 'raise', 'return', 'try', 'while', 'with', 'yield']"
      ],
      "metadata": {
        "colab": {
          "base_uri": "https://localhost:8080/"
        },
        "id": "SpUJU3EtKIXw",
        "outputId": "6ff590f9-f744-4347-9a5c-5cd5b41f2ee3"
      },
      "execution_count": null,
      "outputs": [
        {
          "output_type": "stream",
          "name": "stdout",
          "text": [
            "35\n",
            "['False', 'None', 'True', 'and', 'as', 'assert', 'async', 'await', 'break',\n",
            " 'class', 'continue', 'def', 'del', 'elif', 'else', 'except', 'finally', 'for',\n",
            " 'from', 'global', 'if', 'import', 'in', 'is', 'lambda', 'nonlocal', 'not',\n",
            " 'or', 'pass', 'raise', 'return', 'try', 'while', 'with', 'yield']\n"
          ]
        }
      ]
    },
    {
      "cell_type": "markdown",
      "source": [
        "プログラミング言語では、`=`は「等しい」という意味ではなく、「代入する」という意味で使用されます。\n",
        "\n",
        "一度保存した値は何度でも利用でき、上書きされるまで残り続けます。  \n",
        "変数の値を上書きすることを「**再代入**」と呼ぶこともあります。再代入の際も、代入と同様の記法を使用します。"
      ],
      "metadata": {
        "id": "gesom8sGcoAr"
      }
    },
    {
      "cell_type": "code",
      "source": [
        "# age+1をageに再代入する（変数値の更新）\n",
        "age = 21\n",
        "print(f\"age: {age}\")\n",
        "\n",
        "age = age + 1\n",
        "print(f\"age + 1: {age}\")"
      ],
      "metadata": {
        "colab": {
          "base_uri": "https://localhost:8080/"
        },
        "id": "v07tCuHuc8Bw",
        "outputId": "d715f8c7-cd6f-454b-981c-4911535867e4"
      },
      "execution_count": null,
      "outputs": [
        {
          "output_type": "stream",
          "name": "stdout",
          "text": [
            "age: 21\n",
            "age + 1: 22\n"
          ]
        }
      ]
    },
    {
      "cell_type": "markdown",
      "source": [
        "自己代入には省略形があります。"
      ],
      "metadata": {
        "id": "7z2eog4DEAsW"
      }
    },
    {
      "cell_type": "code",
      "source": [
        "# 足し算（x = x+4と同じ意味）\n",
        "x = 7\n",
        "print(f\"x: {x}\")\n",
        "x += 4\n",
        "print(\"x += 4:\", x)\n",
        "\n",
        "# 引き算（x = x-4と同じ意味）\n",
        "x = 7\n",
        "x -= 4\n",
        "print(\"x -= 4:\", x)\n",
        "\n",
        "# 掛け算（x = x*4と同じ意味）\n",
        "x = 7\n",
        "x *= 4\n",
        "print(\"x *= 4:\", x)\n",
        "\n",
        "# 割り算（商は実数）（x = x/4と同じ意味）\n",
        "x = 7\n",
        "x /= 4\n",
        "print(\"x /= 4:\", x)\n",
        "\n",
        "# 割り算（商は整数）（x = x//4と同じ意味）\n",
        "x = 7\n",
        "x //= 4\n",
        "print(\"x //= 4:\", x)\n",
        "\n",
        "# 剰余算（x = x%4と同じ意味）\n",
        "x = 7\n",
        "x %= 4\n",
        "print(\"x %= 4:\", x)\n",
        "\n",
        "# 階乗（x = x**4と同じ意味）\n",
        "x = 7\n",
        "x **= 4\n",
        "print(\"x **= 4:\", x)"
      ],
      "metadata": {
        "colab": {
          "base_uri": "https://localhost:8080/"
        },
        "id": "eBtQ4cG8EPqA",
        "outputId": "155ee317-222d-40ef-aa16-e79962a0f858"
      },
      "execution_count": null,
      "outputs": [
        {
          "output_type": "stream",
          "name": "stdout",
          "text": [
            "x: 7\n",
            "x += 4: 11\n",
            "x -= 4: 3\n",
            "x *= 4: 28\n",
            "x /= 4: 1.75\n",
            "x //= 4: 1\n",
            "x %= 4: 3\n",
            "x **= 4: 2401\n"
          ]
        }
      ]
    },
    {
      "cell_type": "markdown",
      "source": [
        "コンピュータに対する命令それぞれに対応するものを、**式**と言います。  \n",
        "\n",
        "式を処理して値を得ることを式の**評価**といいます。得られた値のことを**評価値**と呼びます。  \n",
        "複数の式が並んでいる場合、その中で最後の式の評価結果が全体の評価結果となります。  \n"
      ],
      "metadata": {
        "id": "Gibf7JjhdS0l"
      }
    },
    {
      "cell_type": "markdown",
      "source": [
        "代入式\n",
        "\n",
        "```\n",
        "<変数> = <式>\n",
        "```\n",
        "\n",
        "ではまず右辺の式が評価され、その値が左辺の変数に代入されます。"
      ],
      "metadata": {
        "id": "yzftlvYDdnfa"
      }
    },
    {
      "cell_type": "markdown",
      "source": [
        "print関数のように、右辺の式の評価値がない場合も存在します。"
      ],
      "metadata": {
        "id": "fPyyTBFrdxdS"
      }
    },
    {
      "cell_type": "code",
      "source": [
        "# 右辺の式の評価値がない場合の代入式\n",
        "x = print(7 + 4)\n",
        "print(\"print(x):\", x)"
      ],
      "metadata": {
        "colab": {
          "base_uri": "https://localhost:8080/"
        },
        "id": "R28dU0bmj17W",
        "outputId": "4e6c5cc6-0237-4a8b-fba8-38fc9251dff8"
      },
      "execution_count": null,
      "outputs": [
        {
          "output_type": "stream",
          "name": "stdout",
          "text": [
            "11\n",
            "print(x): None\n"
          ]
        }
      ]
    },
    {
      "cell_type": "markdown",
      "source": [
        "Pythonでは、値が存在しないことを示すために`None`というデータが用意されています。  \n",
        "\n",
        "`None`に対する演算は限られていますが、特定のデータがNoneであるかどうかを判定するには、  \n",
        "**`is`演算子**を使用します。"
      ],
      "metadata": {
        "id": "S1ugrQP9q06w"
      }
    },
    {
      "cell_type": "code",
      "source": [
        "# is演算子\n",
        "x = print(2 + 3)\n",
        "print(\"x is None:\", x)"
      ],
      "metadata": {
        "colab": {
          "base_uri": "https://localhost:8080/"
        },
        "id": "tfevtTrlsIkA",
        "outputId": "519eee6f-332b-4292-8af1-33fc2f229055"
      },
      "execution_count": null,
      "outputs": [
        {
          "output_type": "stream",
          "name": "stdout",
          "text": [
            "5\n",
            "x is None: None\n"
          ]
        }
      ]
    },
    {
      "cell_type": "code",
      "source": [
        "x = 1\n",
        "y = 1\n",
        "print(\"x is y:\", x is y)"
      ],
      "metadata": {
        "colab": {
          "base_uri": "https://localhost:8080/"
        },
        "id": "Vi4mEwpjBdUb",
        "outputId": "93a7eb4f-a5a0-4ce2-da00-6f73d23e35ec"
      },
      "execution_count": null,
      "outputs": [
        {
          "output_type": "stream",
          "name": "stdout",
          "text": [
            "x is y: True\n"
          ]
        }
      ]
    },
    {
      "cell_type": "markdown",
      "source": [
        "### 2.5 オブジェクト"
      ],
      "metadata": {
        "id": "Tw4MlyeIT9AD"
      }
    },
    {
      "cell_type": "markdown",
      "source": [
        "Pythonでは**『オブジェクトID』**を使って、オブジェクトの識別が行われます。"
      ],
      "metadata": {
        "id": "_Qfw_03PT_E0"
      }
    },
    {
      "cell_type": "markdown",
      "source": [
        "![python_3-1.png](https://bit.ly/3koC4t4)"
      ],
      "metadata": {
        "id": "F5PhMVGfUBnl"
      }
    },
    {
      "cell_type": "markdown",
      "source": [
        "オブジェクトIDは**id関数**を使うことで取得できます。"
      ],
      "metadata": {
        "id": "dlYAGveTV8Rd"
      }
    },
    {
      "cell_type": "code",
      "execution_count": null,
      "metadata": {
        "colab": {
          "base_uri": "https://localhost:8080/"
        },
        "id": "qk6YAYzt_rY6",
        "outputId": "c874d997-549d-4494-d52c-5fa5121906b0"
      },
      "outputs": [
        {
          "output_type": "stream",
          "name": "stdout",
          "text": [
            "id(19): 134518170567472\n",
            "id(3.14): 134517265041328\n",
            "id(\"Hello\"): 134517742549360\n",
            "id(True): 97697713255456\n"
          ]
        }
      ],
      "source": [
        "# 環境によって違う値になります\n",
        "print(\"id(19):\", id(19))\n",
        "print(\"id(3.14):\", id(3.14))\n",
        "print('id(\"Hello\"):', id(\"Hello\"))\n",
        "print(\"id(True):\", id(True))"
      ]
    },
    {
      "cell_type": "markdown",
      "source": [
        "Pythonでは、変数は値ではなく**オブジェクトID**を管理しています。"
      ],
      "metadata": {
        "id": "nKw56KmtUNwe"
      }
    },
    {
      "cell_type": "markdown",
      "source": [
        "![](https://bit.ly/3iSYIcD)"
      ],
      "metadata": {
        "id": "EVvWT3iIZbOo"
      }
    },
    {
      "cell_type": "markdown",
      "source": [
        "そのため、Pythonにおける「変数への代入」とは、  \n",
        "**「変数にオブジェクトIDを設定する」**ことを指します。"
      ],
      "metadata": {
        "id": "T361AqgAbrT5"
      }
    },
    {
      "cell_type": "code",
      "source": [
        "# idの確認\n",
        "print(\"オブジェクトの生成\")  # 実行時にオブジェクトが生成される\n",
        "print(f\"before: {id(19)}\")\n",
        "print(f\"after: {id(20)}\\n\")\n",
        "\n",
        "# 変数に代入（オブジェクトIDの設定）\n",
        "before_age = 19\n",
        "after_age = 19\n",
        "print(\"代入直後\")\n",
        "print(f\"before : {id(before_age)}\")\n",
        "print(f\"after : {id(after_age)}\\n\")\n",
        "\n",
        "# 変数の値を更新（オブジェクトIDの変更）\n",
        "# 変数が参照先オブジェクトに置き換わる\n",
        "# 例：id(after_age)→id(20)\n",
        "after_age += 1\n",
        "print(\"更新直後\")\n",
        "print(f\"before : {id(before_age)}\")\n",
        "print(f\"after : {id(after_age)}\")"
      ],
      "metadata": {
        "colab": {
          "base_uri": "https://localhost:8080/"
        },
        "id": "V3gYaNb1cZHQ",
        "outputId": "2c822bdc-1f9a-4993-8e4e-593205676c30"
      },
      "execution_count": null,
      "outputs": [
        {
          "output_type": "stream",
          "name": "stdout",
          "text": [
            "オブジェクトの生成\n",
            "before: 132724925334320\n",
            "after: 132724925334352\n",
            "\n",
            "代入直後\n",
            "before : 132724925334320\n",
            "after : 132724925334320\n",
            "\n",
            "更新直後\n",
            "before : 132724925334320\n",
            "after : 132724925334352\n"
          ]
        }
      ]
    },
    {
      "cell_type": "markdown",
      "source": [
        "オブジェクトに何らかの操作を行うための関数のことを**メソッド**といいます。  \n",
        "オブジェクトの種類に応じて多くのメソッドがあります。\n",
        "\n",
        "```\n",
        "オブジェクト.メソッド名(引数)\n",
        "```"
      ],
      "metadata": {
        "id": "tunZmAayUNrA"
      }
    },
    {
      "cell_type": "markdown",
      "source": [
        "文字列型のオブジェクトに適用できるメソッドには、以下のようなものがあります。"
      ],
      "metadata": {
        "id": "ivjACTF7VwFz"
      }
    },
    {
      "cell_type": "code",
      "source": [
        "# 文字列オブジェクトを生成\n",
        "name = \"Sato Taro\"\n",
        "\n",
        "# 文字列を変換するメソッド\n",
        "\n",
        "# すべての文字を小文字に変換\n",
        "print(f\"{name.lower()} : lower\")\n",
        "\n",
        "# すべての文字を大文字に変換\n",
        "print(f\"{name.upper()} : upper\")\n",
        "\n",
        "# 指定した文字列の個数を取得\n",
        "print(f\"{name.count('o')}\")\n",
        "\n",
        "# 指定した文字列に置換\n",
        "print(f\"{name.replace('Taro','Hanako')}\")"
      ],
      "metadata": {
        "colab": {
          "base_uri": "https://localhost:8080/"
        },
        "id": "TO1Qk6EcV-p_",
        "outputId": "30d062dd-ba18-490e-b888-6ecea21d9a00"
      },
      "execution_count": null,
      "outputs": [
        {
          "output_type": "stream",
          "name": "stdout",
          "text": [
            "sato taro : lower\n",
            "SATO TARO : upper\n",
            "2\n",
            "Sato Hanako\n"
          ]
        }
      ]
    },
    {
      "cell_type": "code",
      "source": [
        "# 文字列を区切る\n",
        "filename = \"sample_1.py\"\n",
        "\n",
        "# splitメソッド\n",
        "# 引数を省略した場合は空白で分割\n",
        "print(f'.split(\".\")[0] --> {filename.split(\".\")[0]}')  # \".\"の左側の文字列を出力\n",
        "print(f'.split(\".\")[1] --> {filename.split(\".\")[1]}')  # \".\"の右側の文字列を出力\n",
        "\n",
        "# re.split()\n",
        "# 複数条件で文字列を分割できる\n",
        "import re\n",
        "print(f\"re.split('[_.]', filename)[0] --> {re.split('[_.]', filename)[0]}\")  # \"_\"の左側の文字列を出力\n",
        "print(f\"re.split('[_.]', filename)[1] --> {re.split('[_.]', filename)[1]}\")  # \"_\"の右側の文字列を出力\n",
        "print(f\"re.split('[_.]', filename)[2] --> {re.split('[_.]', filename)[2]}\")  # \".\"の右側の文字列を出力"
      ],
      "metadata": {
        "colab": {
          "base_uri": "https://localhost:8080/"
        },
        "id": "bYIKkDMalKVO",
        "outputId": "3e47922b-5f3f-4742-e2bb-e1ad475d25a0"
      },
      "execution_count": null,
      "outputs": [
        {
          "output_type": "stream",
          "name": "stdout",
          "text": [
            ".split(\".\")[0] --> sample_1\n",
            ".split(\".\")[1] --> py\n",
            "re.split('[_.]', filename)[0] --> sample\n",
            "re.split('[_.]', filename)[1] --> 1\n",
            "re.split('[_.]', filename)[2] --> py\n"
          ]
        }
      ]
    },
    {
      "cell_type": "markdown",
      "source": [
        "### 2.6 データ型"
      ],
      "metadata": {
        "id": "Q2qK9kBlKs1a"
      }
    },
    {
      "cell_type": "markdown",
      "source": [
        "プログラムで扱うことのできるデータの種類を**データ型**といいます。  \n",
        "Pythonにおけるデータ型は以下表のようなものがあります。"
      ],
      "metadata": {
        "id": "lH7_A82tKz0i"
      }
    },
    {
      "cell_type": "markdown",
      "source": [
        "- 文字列型：**`str`**\n",
        "- 整数：**`int`**\n",
        "- 浮動小数点数：**`float`**\n",
        "- 真偽値：**`bool`**"
      ],
      "metadata": {
        "id": "8dsUgwgLK1SM"
      }
    },
    {
      "cell_type": "markdown",
      "source": [
        "**Pythonでは、変数代入した値によってそのデータ型が決まります。**"
      ],
      "metadata": {
        "id": "_6o4FG5KLUF8"
      }
    },
    {
      "cell_type": "markdown",
      "source": [
        "**type関数**を使うと、変数にどのような型の値が格納されているかを調べることができます。"
      ],
      "metadata": {
        "id": "GdzXZHdoLWdK"
      }
    },
    {
      "cell_type": "code",
      "source": [
        "name = \"Japan\"  # 文字列型str\n",
        "number = \"81\"   # 文字列型str\n",
        "age = 21        # 整数int\n",
        "\n",
        "print(type(name))\n",
        "print(type(number))\n",
        "print(type(age))"
      ],
      "metadata": {
        "colab": {
          "base_uri": "https://localhost:8080/"
        },
        "id": "x4BhHchnLX3k",
        "outputId": "18fbe13d-86f5-461c-cafa-3890556b8f24"
      },
      "execution_count": null,
      "outputs": [
        {
          "output_type": "stream",
          "name": "stdout",
          "text": [
            "<class 'str'>\n",
            "<class 'str'>\n",
            "<class 'int'>\n"
          ]
        }
      ]
    },
    {
      "cell_type": "markdown",
      "source": [
        "データ型を別のものに変換する際には、**型変換**（**キャスト**）を行います。\n",
        "\n",
        "```\n",
        "変換先の型名（式）\n",
        "```"
      ],
      "metadata": {
        "id": "fVjxC-aBLxwA"
      }
    },
    {
      "cell_type": "code",
      "source": [
        "name = \"Japan\"\n",
        "number = 81\n",
        "print(type(number))  # 整数\n",
        "\n",
        "new_number = str(number)  # 文字列型に変換\n",
        "print(type(new_number))\n",
        "\n",
        "new_name = list(name)  # リスト型に変換\n",
        "print(new_name)\n",
        "\n",
        "# print(name + \"の番号は\" + number + \"です\")  # エラー発生\n",
        "print(name + \"の番号は\" + new_number + \"です\")"
      ],
      "metadata": {
        "colab": {
          "base_uri": "https://localhost:8080/"
        },
        "id": "ftJ-VD8YL2py",
        "outputId": "0e3abc0d-8feb-4fd9-9530-e11bc3ce05ba"
      },
      "execution_count": null,
      "outputs": [
        {
          "output_type": "stream",
          "name": "stdout",
          "text": [
            "<class 'int'>\n",
            "<class 'str'>\n",
            "['J', 'a', 'p', 'a', 'n']\n",
            "Japanの番号は81です\n"
          ]
        }
      ]
    },
    {
      "cell_type": "markdown",
      "source": [
        "整数と浮動小数点数の間で演算が行われる場合は、  \n",
        "浮動小数点数に揃えられてから演算が行われます。  \n",
        "\n",
        "このように自動的に型変換が行われる仕組みを**暗黙の型変換**といいます。  \n",
        "数値と文字の間では行われません。"
      ],
      "metadata": {
        "id": "XZZJ8GpgMCoS"
      }
    },
    {
      "cell_type": "code",
      "source": [
        "number = 81\n",
        "print(type(number))  # 整数\n",
        "\n",
        "minus = 3.7\n",
        "print(type(minus))  # 浮動小数点数\n",
        "\n",
        "number -= minus  # numberが浮動小数点に揃えられて演算\n",
        "print(type(number))"
      ],
      "metadata": {
        "colab": {
          "base_uri": "https://localhost:8080/"
        },
        "id": "QmHB5cJ3MMgq",
        "outputId": "77aed71e-23e1-442a-9929-cb426a9ae5b7"
      },
      "execution_count": null,
      "outputs": [
        {
          "output_type": "stream",
          "name": "stdout",
          "text": [
            "<class 'int'>\n",
            "<class 'float'>\n",
            "<class 'float'>\n"
          ]
        }
      ]
    },
    {
      "cell_type": "markdown",
      "source": [
        "### 2.7 変数表示"
      ],
      "metadata": {
        "id": "0uzqfcBMGNtM"
      }
    },
    {
      "cell_type": "markdown",
      "source": [
        "変数の値をprint関数で表示したいときに用いられる方法の一つが、**formatメソッド**です。\n",
        "\n",
        "文字列の様々な場所に逐一値を埋め込むことができます。"
      ],
      "metadata": {
        "id": "DldYoypMGaZ3"
      }
    },
    {
      "cell_type": "markdown",
      "source": [
        "値を埋め込みたい場所に「**{}**（**プレースホルダー**）」を書きます。  \n",
        "formatのカッコ内に、埋め込みたい値をカンマ区切りで並べます。"
      ],
      "metadata": {
        "id": "XrRiEduxHl2f"
      }
    },
    {
      "cell_type": "code",
      "source": [
        "name = \"Japan\"\n",
        "number = 81\n",
        "\n",
        "print(\"{}の番号は{}です\".format(name, number))"
      ],
      "metadata": {
        "colab": {
          "base_uri": "https://localhost:8080/"
        },
        "id": "CGUl_3HqHone",
        "outputId": "f33e1295-143f-4dc1-d5ef-b356ca79c2d6"
      },
      "execution_count": null,
      "outputs": [
        {
          "output_type": "stream",
          "name": "stdout",
          "text": [
            "Japanの番号は81です\n"
          ]
        }
      ]
    },
    {
      "cell_type": "code",
      "source": [
        "# 数値を10桁の幅で表示する\n",
        "# 先頭に3文字分の余白（「整数部3桁 + ドット1桁 + 小数部3桁」）\n",
        "\n",
        "num = 123.456\n",
        "print('{:10}'.format(num))\n",
        "# =>    123.456"
      ],
      "metadata": {
        "colab": {
          "base_uri": "https://localhost:8080/"
        },
        "id": "jCRyabtsIYY_",
        "outputId": "dfb6b7f7-60a1-4ec7-decf-50999adf7115"
      },
      "execution_count": null,
      "outputs": [
        {
          "output_type": "stream",
          "name": "stdout",
          "text": [
            "   123.456\n"
          ]
        }
      ]
    },
    {
      "cell_type": "code",
      "source": [
        "# 小数点以下の桁数を1桁と指定\n",
        "\n",
        "num = 123.456\n",
        "print('{:.1f}'.format(num))\n",
        "# => 123.5"
      ],
      "metadata": {
        "colab": {
          "base_uri": "https://localhost:8080/"
        },
        "id": "yuqEXkP0Iwnn",
        "outputId": "d02779ba-3663-4a02-a54e-614fec4cbafa"
      },
      "execution_count": null,
      "outputs": [
        {
          "output_type": "stream",
          "name": "stdout",
          "text": [
            "123.5\n"
          ]
        }
      ]
    },
    {
      "cell_type": "markdown",
      "source": [
        "変数の値をprint関数で表示したいときに用いられる方法の一つが、**f文字列**です。\n",
        "\n",
        "プレースホルダーの中に埋め込みたい値や式を入れることができます。"
      ],
      "metadata": {
        "id": "-K36ZwEHNZad"
      }
    },
    {
      "cell_type": "code",
      "source": [
        "name = \"Japan\"\n",
        "number = 81\n",
        "\n",
        "print(f\"{name}の番号は{number}です\")"
      ],
      "metadata": {
        "colab": {
          "base_uri": "https://localhost:8080/"
        },
        "outputId": "2ee7b40d-9aec-46db-f647-e9258d4865fc",
        "id": "F_A4O458NZao"
      },
      "execution_count": null,
      "outputs": [
        {
          "output_type": "stream",
          "name": "stdout",
          "text": [
            "Japanの番号は81です\n"
          ]
        }
      ]
    },
    {
      "cell_type": "code",
      "source": [
        "# 数値を10桁の幅で表示する\n",
        "# 先頭に3文字分の余白（「整数部3桁 + ドット1桁 + 小数部3桁」）\n",
        "\n",
        "num = 123.456\n",
        "print(f'{num:10}')\n",
        "# =>    123.456"
      ],
      "metadata": {
        "colab": {
          "base_uri": "https://localhost:8080/"
        },
        "outputId": "25df201e-78ea-4f0b-bfd7-c2e62f1e98f7",
        "id": "puNpgdGjNZap"
      },
      "execution_count": null,
      "outputs": [
        {
          "output_type": "stream",
          "name": "stdout",
          "text": [
            "   123.456\n"
          ]
        }
      ]
    },
    {
      "cell_type": "code",
      "source": [
        "# 小数点以下の桁数を1桁と指定\n",
        "\n",
        "num = 123.456\n",
        "print(f'{num:.1f}')\n",
        "# => 123.5"
      ],
      "metadata": {
        "colab": {
          "base_uri": "https://localhost:8080/"
        },
        "outputId": "56fb38b3-414e-4d6d-f6c5-46ceb5cd2735",
        "id": "CWOXQbB-NZap"
      },
      "execution_count": null,
      "outputs": [
        {
          "output_type": "stream",
          "name": "stdout",
          "text": [
            "123.5\n"
          ]
        }
      ]
    },
    {
      "cell_type": "markdown",
      "source": [
        "### 2.8 入力処理"
      ],
      "metadata": {
        "id": "y2RWOUmPHoQ2"
      }
    },
    {
      "cell_type": "markdown",
      "source": [
        "変数には、キーボードから入力した文字列や数字を代入することができます。  \n",
        "そのような入力を行える関数が**input関数**です。  \n",
        "\n",
        "input関数で入力された値は**文字列型**として扱われます。"
      ],
      "metadata": {
        "id": "XnjGXo8BOerJ"
      }
    },
    {
      "cell_type": "code",
      "source": [
        "name = \"Taro\"\n",
        "\n",
        "print(\"年齢を入力してください\")\n",
        "age = input()  # 入力するよう促されます\n",
        "\n",
        "print(f\"{name}さんの年齢は {age}歳 です \")\n",
        "print(f\"4年後は {int(age)+4}歳 です\")  # 文字列型→整数型に変換"
      ],
      "metadata": {
        "colab": {
          "base_uri": "https://localhost:8080/"
        },
        "id": "Qc95fC_vOjNU",
        "outputId": "2d2a6389-edb8-4c10-ddb8-dbb3f2311bed"
      },
      "execution_count": null,
      "outputs": [
        {
          "output_type": "stream",
          "name": "stdout",
          "text": [
            "年齢を入力してください\n",
            "20\n",
            "Taroさんの年齢は 20歳 です \n",
            "4年後は 24歳 です\n"
          ]
        }
      ]
    },
    {
      "cell_type": "markdown",
      "source": [
        "input関数では引数で入力を促すメッセージを指定することが可能です。"
      ],
      "metadata": {
        "id": "UqPH3w9CXbmh"
      }
    },
    {
      "cell_type": "code",
      "source": [
        "name = \"Taro\"\n",
        "\n",
        "age = input(\"年齢を入力してください\\n\")  # 引数でメッセージ指定\n",
        "\n",
        "print(f\"{name}さんの年齢は {age}歳 です \")\n",
        "print(f\"4年後は {int(age)+4}歳 です\")  # 文字列型→整数型に変換"
      ],
      "metadata": {
        "colab": {
          "base_uri": "https://localhost:8080/"
        },
        "id": "AqniXb2qXTGh",
        "outputId": "8bac4d29-93f1-4cce-9a09-3dd248747469"
      },
      "execution_count": null,
      "outputs": [
        {
          "output_type": "stream",
          "name": "stdout",
          "text": [
            "年齢を入力してください\n",
            "20\n",
            "Taroさんの年齢は 20歳 です \n",
            "4年後は 24歳 です\n"
          ]
        }
      ]
    },
    {
      "cell_type": "markdown",
      "source": [
        "### 2.9 乱数"
      ],
      "metadata": {
        "id": "Ph2oK8DnPgJD"
      }
    },
    {
      "cell_type": "markdown",
      "source": [
        "**乱数**とは、ランダムで何が出るか分からない数字のことです。  \n",
        "  \n",
        "\n",
        "Pythonで乱数を扱う場合、標準ライブラリの**random**をインポートする必要があります。  \n",
        "使う前に`import random`の記述が必要です。\n"
      ],
      "metadata": {
        "id": "ExhsQGT-Pix7"
      }
    },
    {
      "cell_type": "code",
      "source": [
        "# ライブラリのインポート\n",
        "import random\n",
        "\n",
        "# 乱数シードを固定し乱数生成器を初期化できる\n",
        "random.seed(0)\n",
        "\n",
        "# 0.0以上、1.0未満のランダムな実数を返す\n",
        "print(random.random())\n",
        "\n",
        "# 同じシードで初期化しているので同じ乱数値が生成される\n",
        "random.seed(0)\n",
        "print(random.random())\n",
        "\n",
        "print(\"------------------------------\")\n",
        "\n",
        "# 最小値 ≦ N ≦ 最大値となるランダムな実数Nを返す\n",
        "print(random.uniform(0, 20))\n",
        "\n",
        "# 最小値 ≦ I ≦ 最大値となるランダムな整数Iを返す\n",
        "print(random.randint(0, 20))\n",
        "\n",
        "# range(start, stop, step)の要素からランダムに選ばれた整数を返す\n",
        "# デフォルト値はstart=0, step=1\n",
        "print(list(range(10)), random.randrange(10))\n",
        "\n",
        "# データからランダムに要素を1つ選んで返す\n",
        "print(random.choice(\"ABCDEFG\"))\n",
        "\n",
        "# リストの要素をランダムにシャッフルする\n",
        "alpha_list = ['A', 'B', 'C', 'D', 'E', 'F', 'G']\n",
        "print(alpha_list)\n",
        "\n",
        "random.shuffle(alpha_list)\n",
        "print(alpha_list)"
      ],
      "metadata": {
        "colab": {
          "base_uri": "https://localhost:8080/"
        },
        "id": "yZDt4-J_PwJE",
        "outputId": "d8f17e20-b5cc-48af-b540-65328c1a8477"
      },
      "execution_count": null,
      "outputs": [
        {
          "output_type": "stream",
          "name": "stdout",
          "text": [
            "0.8444218515250481\n",
            "0.8444218515250481\n",
            "------------------------------\n",
            "15.159088058806049\n",
            "13\n",
            "[0, 1, 2, 3, 4, 5, 6, 7, 8, 9] 0\n",
            "C\n",
            "['A', 'B', 'C', 'D', 'E', 'F', 'G']\n",
            "['A', 'G', 'B', 'C', 'F', 'D', 'E']\n"
          ]
        }
      ]
    },
    {
      "cell_type": "markdown",
      "metadata": {
        "id": "_ssmRRQDQ-YM"
      },
      "source": [
        "### 2.10 条件分岐"
      ]
    },
    {
      "cell_type": "markdown",
      "metadata": {
        "id": "x9ISZcnFQ-YM"
      },
      "source": [
        "プログラムの基本的な処理の1つに**条件分岐**があります。  \n",
        "条件によって実行する処理を変えることができるようになります。\n",
        "\n",
        "Pythonにおける分岐は「**if文**」です。\n",
        "\n"
      ]
    },
    {
      "cell_type": "markdown",
      "source": [
        "プログラミングにおける処理のまとまりのこと**ブロック**と言います。\n",
        "\n",
        "Pythonではインデント（スペース4つ）が挿入されている部分をブロックとみなして処理しています。  \n",
        "複数の連続する処理を実行する際には、すべてにインデントが必要です。\n",
        "\n",
        "適切にインデントが挿入されていないとエラーとなります。"
      ],
      "metadata": {
        "id": "gjzNCmom_mSA"
      }
    },
    {
      "cell_type": "markdown",
      "source": [
        "`if`文の構文は3つあります。フォーマットは以下の通りです。\n",
        "\n",
        "\n",
        "- **`if-else`構文**（基本形）\n",
        "```python\n",
        "if <条件式>:\n",
        "    <(条件式がTrueのときに実行する)処理>\n",
        "else：\n",
        "    <(条件式が成立しなかったときの)処理>\n",
        "```\n",
        "\n",
        "- **`if`のみの構文**（条件式が成立しなかったときには何もしない場合）\n",
        "```python\n",
        "if <条件式>:\n",
        "    <(条件式がTrueのときに実行する)処理>\n",
        "```\n",
        "\n",
        "- **`if-elif`構文**（複数の条件式が必要な場合）\n",
        "```python\n",
        "if <条件式0>:\n",
        "    <(条件式0がTrueのときに実行する)処理>\n",
        "elif <条件式1>:\n",
        "    <(条件式0がFalse、条件式1がTrueのときに実行する)処理>\n",
        "else:\n",
        "    <(すべての条件式がFalseのときに実行する)処理>\n",
        "```"
      ],
      "metadata": {
        "id": "JG8j_V5MIPK4"
      }
    },
    {
      "cell_type": "markdown",
      "metadata": {
        "id": "phgWVYN1Q-YM"
      },
      "source": [
        "下の例では変数`x`の絶対値を計算し、その結果を`y`に格納しています。"
      ]
    },
    {
      "cell_type": "code",
      "execution_count": null,
      "metadata": {
        "id": "6gOTTDZnQ-YM",
        "colab": {
          "base_uri": "https://localhost:8080/"
        },
        "outputId": "24e3955a-0442-4ed7-fb0d-96581ce6fcef"
      },
      "outputs": [
        {
          "output_type": "execute_result",
          "data": {
            "text/plain": [
              "7"
            ]
          },
          "metadata": {},
          "execution_count": 11
        }
      ],
      "source": [
        "x = -7\n",
        "if (x < 0):\n",
        "    y = - x\n",
        "else:\n",
        "    y = x\n",
        "y"
      ]
    },
    {
      "cell_type": "markdown",
      "metadata": {
        "id": "2qh0uOBcQ-YN"
      },
      "source": [
        "(条件式が`True/False`となったときに実行される)処理の前のインデントによって、  \n",
        "似たようなコードでも動作が全く異なることがあります。"
      ]
    },
    {
      "cell_type": "code",
      "execution_count": null,
      "metadata": {
        "id": "uPK0V9_PQ-YN",
        "colab": {
          "base_uri": "https://localhost:8080/"
        },
        "outputId": "f15c85f2-45fa-4f35-a8a1-5b5d0e055654"
      },
      "outputs": [
        {
          "output_type": "execute_result",
          "data": {
            "text/plain": [
              "1"
            ]
          },
          "metadata": {},
          "execution_count": 12
        }
      ],
      "source": [
        "# 例1\n",
        "x = 1\n",
        "if (x < 0):\n",
        "    x = - x\n",
        "    x = - x\n",
        "x"
      ]
    },
    {
      "cell_type": "code",
      "execution_count": null,
      "metadata": {
        "id": "NLcJixVwQ-YN",
        "colab": {
          "base_uri": "https://localhost:8080/"
        },
        "outputId": "d3e34c18-acda-4f38-c50f-de99dee88c59"
      },
      "outputs": [
        {
          "output_type": "execute_result",
          "data": {
            "text/plain": [
              "-1"
            ]
          },
          "metadata": {},
          "execution_count": 13
        }
      ],
      "source": [
        "# 例2\n",
        "x = 1\n",
        "if (x < 0):\n",
        "    x = - x\n",
        "x = - x\n",
        "x"
      ]
    },
    {
      "cell_type": "markdown",
      "source": [
        "下の例は、**`if-else`構文**を用いた偶数奇数判定をするプログラムです。  "
      ],
      "metadata": {
        "id": "N0BdYxf-q9mg"
      }
    },
    {
      "cell_type": "code",
      "execution_count": null,
      "metadata": {
        "id": "l6OHzcpepsXh",
        "colab": {
          "base_uri": "https://localhost:8080/"
        },
        "outputId": "cf637dbf-f9e9-445a-ca00-828d69ffffbf"
      },
      "outputs": [
        {
          "output_type": "stream",
          "name": "stdout",
          "text": [
            "この科目の合計点は62点です\n",
            "62 は偶数です\n"
          ]
        }
      ],
      "source": [
        "import random\n",
        "\n",
        "# 0～100までの整数をランダムに取得\n",
        "number = random.randint(0,101)\n",
        "print(f\"この科目の合計点は{number}点です\")\n",
        "\n",
        "# 偶数奇数判定\n",
        "result = number % 2\n",
        "\n",
        "if result == 0 :\n",
        "    print(f\"{number} は偶数です\")\n",
        "else :\n",
        "    print(f\"{number} は奇数です\")"
      ]
    },
    {
      "cell_type": "markdown",
      "source": [
        "下の例は、**`if-elif`構文**を用いた成績判定プログラムです。"
      ],
      "metadata": {
        "id": "NgNx3gtKrd7P"
      }
    },
    {
      "cell_type": "code",
      "source": [
        "import random\n",
        "\n",
        "# 0～100までの整数をランダムに取得\n",
        "point = random.randint(0,101)\n",
        "print(f\"この科目の合計点は{point}点です\")\n",
        "\n",
        "# 0点以上60点未満\n",
        "if point >= 0 and point < 60 :\n",
        "    print(\"成績はEです\")\n",
        "\n",
        "# 60点以上70点未満\n",
        "elif point >= 60 and point < 70 :\n",
        "    print(\"成績はDです\")\n",
        "\n",
        "# 70点以上80点未満\n",
        "elif point >= 70 and point < 80 :\n",
        "    print(\"成績はBです\")\n",
        "\n",
        "# 80点以上90点未満\n",
        "elif point >= 80 and point < 90 :\n",
        "    print(\"成績はAです\")\n",
        "\n",
        "# 90点以上100点以下\n",
        "elif point >= 90 and point <= 100 :\n",
        "    print(\"成績はSです\")\n",
        "\n",
        "# エラー処理\n",
        "else :\n",
        "    print(\"点数を正しく入力してください\")"
      ],
      "metadata": {
        "id": "vb2Dg-nBrfxW",
        "colab": {
          "base_uri": "https://localhost:8080/"
        },
        "outputId": "25d1cc9f-2452-4bdc-dbc4-22c77acf7027"
      },
      "execution_count": null,
      "outputs": [
        {
          "output_type": "stream",
          "name": "stdout",
          "text": [
            "この科目の合計点は38点です\n",
            "成績はEです\n"
          ]
        }
      ]
    },
    {
      "cell_type": "markdown",
      "source": [
        "`if`文は**三項演算子**という書き方を使うと1行で記述できます。"
      ],
      "metadata": {
        "id": "jzsnuKTtEBb7"
      }
    },
    {
      "cell_type": "markdown",
      "source": [
        "```python\n",
        "# if文（通常）\n",
        "if <条件式>:\n",
        "    <(条件式がTrueのときに実行する)処理>\n",
        "else：\n",
        "    <(条件式が成立しなかったときの)処理>\n",
        "```\n",
        "\n",
        "```python\n",
        "# 三項演算子\n",
        "<(True時の)処理> if <条件式> else <(False時の)処理>\n",
        "```"
      ],
      "metadata": {
        "id": "Xr1Wz_mAEHmp"
      }
    },
    {
      "cell_type": "markdown",
      "source": [
        "偶数奇数判定をするプログラムを1行で記述しましょう。"
      ],
      "metadata": {
        "id": "XikfLX34bHN9"
      }
    },
    {
      "cell_type": "code",
      "source": [
        "import random\n",
        "\n",
        "# 0～100までの整数をランダムに取得\n",
        "number = random.randint(0,101)\n",
        "print(f\"この科目の合計点は{number}点です\")\n",
        "\n",
        "# 偶数奇数判定\n",
        "result = number % 2\n",
        "\n",
        "print(f\"{number} は偶数です\") if result==0 else print(f\"{number} は奇数です\")"
      ],
      "metadata": {
        "colab": {
          "base_uri": "https://localhost:8080/"
        },
        "id": "LAiS53VTbYf1",
        "outputId": "c4f7e806-681f-4223-f756-7a0346a1117f"
      },
      "execution_count": null,
      "outputs": [
        {
          "output_type": "stream",
          "name": "stdout",
          "text": [
            "この科目の合計点は26点です\n",
            "26 は偶数です\n"
          ]
        }
      ]
    },
    {
      "cell_type": "markdown",
      "source": [
        "### 2.11 ループ"
      ],
      "metadata": {
        "id": "mrIg1N_SB6w-"
      }
    },
    {
      "cell_type": "markdown",
      "source": [
        "プログラムにおいて、似たような処理を繰り返し実行したい、ということはよくあります。"
      ],
      "metadata": {
        "id": "Yy5fW1sOCD_I"
      }
    },
    {
      "cell_type": "code",
      "source": [
        "# 1から10までの和\n",
        "x = 0\n",
        "x = x + 1\n",
        "x = x + 2\n",
        "x = x + 3\n",
        "x = x + 4\n",
        "x = x + 5\n",
        "x = x + 6\n",
        "x = x + 7\n",
        "x = x + 8\n",
        "x = x + 9\n",
        "x = x + 10\n",
        "x"
      ],
      "metadata": {
        "colab": {
          "base_uri": "https://localhost:8080/"
        },
        "id": "L7c9NI1zGV59",
        "outputId": "c7c2d6a3-39cb-4e9f-d96b-a4d529ec7d09"
      },
      "execution_count": null,
      "outputs": [
        {
          "output_type": "execute_result",
          "data": {
            "text/plain": [
              "55"
            ]
          },
          "metadata": {},
          "execution_count": 16
        }
      ]
    },
    {
      "cell_type": "markdown",
      "source": [
        "似たような処理に対して**ループ**を利用することで、効率的に書くことができます。"
      ],
      "metadata": {
        "id": "4clW4hK-Gyvr"
      }
    },
    {
      "cell_type": "code",
      "source": [
        "# 1から10までの和（for文の場合）\n",
        "x = 0\n",
        "for n in range(1, 11):\n",
        "    x = x + n\n",
        "x"
      ],
      "metadata": {
        "colab": {
          "base_uri": "https://localhost:8080/"
        },
        "id": "LZ33TqgBG-ek",
        "outputId": "a30c0f49-3a0d-452f-ff67-e6dcf4d9a095"
      },
      "execution_count": null,
      "outputs": [
        {
          "output_type": "execute_result",
          "data": {
            "text/plain": [
              "55"
            ]
          },
          "metadata": {},
          "execution_count": 17
        }
      ]
    },
    {
      "cell_type": "markdown",
      "source": [
        "ループを利用することによって、共通部分の処理を1回だけ書けば良いことになります。"
      ],
      "metadata": {
        "id": "XgcnyhDoHjZC"
      }
    },
    {
      "cell_type": "markdown",
      "source": [
        "Pythonでよく使われるループは2種類あり、`for`文と`while`文があります。フォーマットは以下の通りです。\n",
        "\n",
        "- `for`文\n",
        "\n",
        "```python\n",
        "for <変数> in <イテラブル>:\n",
        "    <処理>\n",
        "```\n",
        "\n",
        "- `while`文\n",
        "\n",
        "```python\n",
        "while <条件式>:\n",
        "    <(条件式がTrueの間だけ実行する)処理>\n",
        "```"
      ],
      "metadata": {
        "id": "s1HLL69jH8fh"
      }
    },
    {
      "cell_type": "markdown",
      "source": [
        "**イテラブル**は、要素を順番に取り出すことができるオブジェクトのことです。\n",
        "\n",
        "主なイテラブルの例としては、文字列、リスト、タプル、辞書、セット、rangeオブジェクトなどが挙げられます。"
      ],
      "metadata": {
        "id": "H0BnlJjzb9yP"
      }
    },
    {
      "cell_type": "markdown",
      "source": [
        "`for`文ではイテラブルのデータを順に変数に代入して処理を行う、ということを繰り返していきます。  \n",
        "そして最後のデータまで処理したら`for`文を抜けます。\n",
        "\n",
        "`while`文は条件式が`True`である間、その中の処理を繰り返し実行します。  \n",
        "条件式が`False`になった場合、`while`文から抜け出します。"
      ],
      "metadata": {
        "id": "RXndqIchhfnp"
      }
    },
    {
      "cell_type": "markdown",
      "source": [
        "`if`文と同様、`for`文・`while`文もインデントによってブロックを認識するので、注意が必要です。"
      ],
      "metadata": {
        "id": "F_rv7lwgioTD"
      }
    },
    {
      "cell_type": "markdown",
      "source": [
        "`range`オブジェクトは、Pythonにおいて連続した整数の範囲を表現するための特別なオブジェクトです。  \n",
        "\n",
        "主にforループで繰り返し処理を行う際に使用されます。\n",
        "\n"
      ],
      "metadata": {
        "id": "AjAkz4lIiwsX"
      }
    },
    {
      "cell_type": "markdown",
      "source": [
        "`range`オブジェクトは、`range()`関数を使って作成します。  \n",
        "`range()`関数は以下のような書式を持ちます。\n",
        "\n",
        "``` python\n",
        "range(start, stop, step)\n",
        "```\n",
        "\n",
        "- `start`: 範囲の開始値（デフォルトは0）\n",
        "- `stop`: 範囲の終了値（この値は含まれない）\n",
        "- `step`: 値の増分（デフォルトは1）"
      ],
      "metadata": {
        "id": "553ZwkJli6QS"
      }
    },
    {
      "cell_type": "markdown",
      "source": [
        "回数の決まっている繰り返しには、`for`ループのイテラブルとして`range`オブジェクトを使うことが多いです。\n",
        "\n",
        "「**終了値-1**」回の反復処理が行われます。\n",
        "\n",
        "``` python\n",
        "for 変数 in range(start, stop, step)\n",
        "```"
      ],
      "metadata": {
        "id": "e3_NQh2fjfT6"
      }
    },
    {
      "cell_type": "markdown",
      "source": [
        "回数の決まっていない繰り返しには、**`while`ループ**を使用することが多いです。  \n"
      ],
      "metadata": {
        "id": "_rmQcRallfS1"
      }
    },
    {
      "cell_type": "code",
      "source": [
        "# 1から10までの和（while文の場合）\n",
        "x = 0\n",
        "n = 1\n",
        "while (n <= 10):\n",
        "    x = x + n\n",
        "    n = n + 1\n",
        "x"
      ],
      "metadata": {
        "id": "T53yPmrEmHBh"
      },
      "execution_count": null,
      "outputs": []
    },
    {
      "cell_type": "markdown",
      "source": [
        "変数`i`のように、繰り返すたびにその値が変化し、繰り返しの条件となる変数のことを  \n",
        "**カウンタ変数**または**ループ変数**（**ループカウンタ**）といいます。  "
      ],
      "metadata": {
        "id": "vDN-13Srkiho"
      }
    },
    {
      "cell_type": "markdown",
      "source": [
        "変数`i`の値を`while`ブロックの中で更新し忘れると、繰り返しが終了しません。  \n",
        "このようないつまでも続く繰り返しのことを**無限ループ**と呼びます。\n",
        "\n",
        "あえて無限ループを作るときは以下のようにします。\n",
        "``` python\n",
        "while True:\n",
        "  <(条件式がTrueの間だけ実行する)処理>\n",
        "```\n"
      ],
      "metadata": {
        "id": "K0xJDIuPmM3M"
      }
    },
    {
      "cell_type": "code",
      "source": [
        "for _ in range(3):\n",
        "    print(\"Hello\")\n",
        "print(\"終了しました\")"
      ],
      "metadata": {
        "colab": {
          "base_uri": "https://localhost:8080/"
        },
        "id": "uRtJDIoo6PYr",
        "outputId": "a792a393-b7d2-473d-bd90-d7f4222b1056"
      },
      "execution_count": null,
      "outputs": [
        {
          "output_type": "stream",
          "name": "stdout",
          "text": [
            "Hello\n",
            "Hello\n",
            "Hello\n",
            "終了しました\n"
          ]
        }
      ]
    },
    {
      "cell_type": "markdown",
      "source": [
        "for文を使って九九を表示してみましょう。"
      ],
      "metadata": {
        "id": "YeGX0-kk7XG9"
      }
    },
    {
      "cell_type": "code",
      "source": [
        "# 縦方向のループ用\n",
        "for num1 in range(1, 10):\n",
        "\n",
        "    # 横方向のループ用\n",
        "    for num2 in range(1, 10):\n",
        "\n",
        "        # 改行なしで2ケタ表示\n",
        "        print(f\"{num1 * num2:2d} \" , end=\"\")\n",
        "\n",
        "    # 1行分が終わったので改行を実施\n",
        "    print()"
      ],
      "metadata": {
        "colab": {
          "base_uri": "https://localhost:8080/"
        },
        "id": "-ZDDEPZI7lL1",
        "outputId": "0e1ea163-b06d-4edd-e811-e1abff2d7cce"
      },
      "execution_count": null,
      "outputs": [
        {
          "output_type": "stream",
          "name": "stdout",
          "text": [
            " 1  2  3  4  5  6  7  8  9 \n",
            " 2  4  6  8 10 12 14 16 18 \n",
            " 3  6  9 12 15 18 21 24 27 \n",
            " 4  8 12 16 20 24 28 32 36 \n",
            " 5 10 15 20 25 30 35 40 45 \n",
            " 6 12 18 24 30 36 42 48 54 \n",
            " 7 14 21 28 35 42 49 56 63 \n",
            " 8 16 24 32 40 48 56 64 72 \n",
            " 9 18 27 36 45 54 63 72 81 \n"
          ]
        }
      ]
    },
    {
      "cell_type": "markdown",
      "source": [
        "ループの中では、繰り返すための処理を制御するための特別なキーワードが使えます。  \n",
        "これらをうまく活用することで目的のループ処理を行うことができます。"
      ],
      "metadata": {
        "id": "KH2oJy1KnnNq"
      }
    },
    {
      "cell_type": "markdown",
      "source": [
        "ループの中で処理を最後まで行わずに途中で中断したいときに使う文が**`break`文**です。\n",
        "\n",
        "ループそのものを中断し、ループの次に記述された処理へと進みます。"
      ],
      "metadata": {
        "id": "Nyu63wdkoFaC"
      }
    },
    {
      "cell_type": "code",
      "source": [
        "# 1から10までの偶数の和を求めるプログラム\n",
        "sum = 0\n",
        "for num in range(11):\n",
        "    if num%2 == 0:\n",
        "        sum += num\n",
        "\n",
        "print(f\"偶数の和：{sum}\")"
      ],
      "metadata": {
        "colab": {
          "base_uri": "https://localhost:8080/"
        },
        "id": "5m-GAZhroy6e",
        "outputId": "e8ab5f45-8229-4626-b28d-7b3ada560e71"
      },
      "execution_count": null,
      "outputs": [
        {
          "output_type": "stream",
          "name": "stdout",
          "text": [
            "偶数の和：30\n"
          ]
        }
      ]
    },
    {
      "cell_type": "markdown",
      "source": [
        "特定の条件を満たした場合に、次のループ処理に移行したいときに使う文が**`continue`文**です。\n",
        "\n",
        "ループの現在の回だけを中断してループの先頭へ戻り、次の回のループを継続します。  "
      ],
      "metadata": {
        "id": "1I2DMcBEpc4s"
      }
    },
    {
      "cell_type": "code",
      "source": [
        "# 1から10までの偶数の和を求めるプログラム\n",
        "sum = 0\n",
        "for num in range(11):\n",
        "    if num%2 != 0:\n",
        "        continue\n",
        "    sum += num\n",
        "\n",
        "print(f\"偶数の和：{sum}\")"
      ],
      "metadata": {
        "colab": {
          "base_uri": "https://localhost:8080/"
        },
        "id": "wLqi_8a1qNi9",
        "outputId": "9064bc9e-2858-43f1-fc99-dc89684e42b4"
      },
      "execution_count": null,
      "outputs": [
        {
          "output_type": "stream",
          "name": "stdout",
          "text": [
            "偶数の和：30\n"
          ]
        }
      ]
    },
    {
      "cell_type": "code",
      "source": [
        "import random\n",
        "\n",
        "count = 1  # 成績処理回数\n",
        "\n",
        "while True :\n",
        "    point = random.randint(-10, 111)  # -10～110までの整数をランダムに取得\n",
        "    print(f\"{count}回目\")\n",
        "    print(f\"この科目の合計点は{point}点です\")\n",
        "\n",
        "    if point >= 0 and point < 60 :    # 0点以上60点未満\n",
        "        print(\"成績はEです\\n\")\n",
        "    elif point >= 60 and point < 70 :    # 60点以上70点未満\n",
        "        print(\"成績はDです\\n\")\n",
        "    elif point >= 70 and point < 80 :    # 70点以上80点未満\n",
        "        print(\"成績はBです\\n\")\n",
        "    elif point >= 80 and point < 90 :    # 80点以上90点未満\n",
        "        print(\"成績はAです\\n\")\n",
        "    elif point >= 90 and point <= 100 :    # 90点以上100点以下\n",
        "        print(\"成績はSです\\n\")\n",
        "    else :   # エラー処理\n",
        "        print(\"点数を正しく入力してください\\n\")\n",
        "        continue  # 成績処理をしてないものとしてループの先頭へ\n",
        "\n",
        "    count += 1\n",
        "    if count == 4 :  # 3回の成績処理を終えたらループから抜ける\n",
        "        break\n",
        "\n",
        "print(\"終了しました\")"
      ],
      "metadata": {
        "colab": {
          "base_uri": "https://localhost:8080/"
        },
        "id": "tIjVcYmkMHfg",
        "outputId": "fa054574-ef85-43c0-eee9-316d5d7b43d0"
      },
      "execution_count": null,
      "outputs": [
        {
          "output_type": "stream",
          "name": "stdout",
          "text": [
            "1回目\n",
            "この科目の合計点は11点です\n",
            "成績はEです\n",
            "\n",
            "2回目\n",
            "この科目の合計点は58点です\n",
            "成績はEです\n",
            "\n",
            "3回目\n",
            "この科目の合計点は61点です\n",
            "成績はDです\n",
            "\n",
            "終了しました\n"
          ]
        }
      ]
    },
    {
      "cell_type": "markdown",
      "source": [
        "### 2.12 リスト"
      ],
      "metadata": {
        "id": "aUon-2yKoI03"
      }
    },
    {
      "cell_type": "markdown",
      "source": [
        "**リスト**は、連続的な複数の情報を管理することができるオブジェクトです。\n",
        "\n",
        "-  リストに含まれているそれぞれの値を**要素**といい、データを格納できる。\n",
        "-  リストの各要素には番号がついている。  \n",
        "この要素の番号を**添え字**（**index**）といい、**0から始まる**決まりになっている。  \n",
        "`例：要素が5つあるリストでは、5番という添え字の要素はない`"
      ],
      "metadata": {
        "id": "LL6_232Gp2_V"
      }
    },
    {
      "cell_type": "code",
      "source": [
        "test = []  # 空のリスト\n",
        "print(\"type(test) -->\", type(test))"
      ],
      "metadata": {
        "colab": {
          "base_uri": "https://localhost:8080/"
        },
        "id": "I4PIZhQKsAiE",
        "outputId": "b74d4c37-d98a-4e82-fba2-8ae4e7f11fce"
      },
      "execution_count": null,
      "outputs": [
        {
          "output_type": "stream",
          "name": "stdout",
          "text": [
            "type(test) --> <class 'list'>\n"
          ]
        }
      ]
    },
    {
      "cell_type": "markdown",
      "source": [
        "Pythonでは、変数が型を持たないように、リストにも型の定めはありません。  \n",
        "1つのリストに対して、文字列や数字など、異なるデータ型の値を格納できます。  \n",
        "\n",
        "``` python\n",
        "# リストの定義\n",
        "リスト名 = [<要素1>, <要素2>, ...]\n",
        "\n",
        "```"
      ],
      "metadata": {
        "id": "6GiBzzvDsGBr"
      }
    },
    {
      "cell_type": "code",
      "source": [
        "# リスト\n",
        "x = [1, 2, 3]\n",
        "print(\"x -->\", x)"
      ],
      "metadata": {
        "colab": {
          "base_uri": "https://localhost:8080/"
        },
        "id": "9tKPNzL_RuqA",
        "outputId": "9a9d8ef4-066b-4f71-f8a7-f7792e9f3864"
      },
      "execution_count": null,
      "outputs": [
        {
          "output_type": "stream",
          "name": "stdout",
          "text": [
            "x --> [1, 2, 3]\n"
          ]
        }
      ]
    },
    {
      "cell_type": "markdown",
      "source": [
        "リストの各要素には、以下の形式でアクセスすることができます。\n",
        "\n",
        "``` python\n",
        "# リストへのアクセス\n",
        "<リスト名>[要素番号]\n",
        "```"
      ],
      "metadata": {
        "id": "z46F2mccR3XZ"
      }
    },
    {
      "cell_type": "code",
      "source": [
        "# 要素の参照\n",
        "x = [1, 2, 3]\n",
        "print(\"x[0] -->\", x[0])"
      ],
      "metadata": {
        "colab": {
          "base_uri": "https://localhost:8080/"
        },
        "id": "C_m6mOA6SKxy",
        "outputId": "cb98705a-c137-4d32-acf8-7d898a824b2e"
      },
      "execution_count": null,
      "outputs": [
        {
          "output_type": "stream",
          "name": "stdout",
          "text": [
            "x[0] --> 1\n"
          ]
        }
      ]
    },
    {
      "cell_type": "markdown",
      "metadata": {
        "id": "m7xIlO-RQ-YT"
      },
      "source": [
        "要素を参照するだけではなく、新しい要素を代入することもできます。"
      ]
    },
    {
      "cell_type": "code",
      "execution_count": null,
      "metadata": {
        "id": "PRplLzOvQ-YT",
        "colab": {
          "base_uri": "https://localhost:8080/"
        },
        "outputId": "5be0cd8a-b295-41cd-f071-8a02fc793690"
      },
      "outputs": [
        {
          "output_type": "stream",
          "name": "stdout",
          "text": [
            "x --> [10, 2, 3]\n"
          ]
        }
      ],
      "source": [
        "# （最初の）要素に代入\n",
        "x = [1, 2, 3]\n",
        "x[0] = 10\n",
        "print(\"x -->\", x)"
      ]
    },
    {
      "cell_type": "markdown",
      "source": [
        "負の数を指定すると、末尾からの順番で指定することもできます。"
      ],
      "metadata": {
        "id": "ILwuxrwxyq0I"
      }
    },
    {
      "cell_type": "code",
      "source": [
        "# （最後の）要素に代入\n",
        "x = [1, 2, 3]\n",
        "x[-1] = 10\n",
        "print(\"x -->\", x)"
      ],
      "metadata": {
        "id": "Sx4UGyO4yrZI",
        "colab": {
          "base_uri": "https://localhost:8080/"
        },
        "outputId": "d92dc804-a65d-41d4-b274-5e2687df37a8"
      },
      "execution_count": null,
      "outputs": [
        {
          "output_type": "stream",
          "name": "stdout",
          "text": [
            "x --> [1, 2, 10]\n"
          ]
        }
      ]
    },
    {
      "cell_type": "markdown",
      "source": [
        "「**スライス**」と呼ばれる機能を使うことで、一度に複数要素アクセスすることが可能になります。  \n",
        "\n",
        "\n",
        "``` python\n",
        "<リスト名>[開始位置:終了位置:増分]\n",
        "```\n",
        "\n",
        "- 開始位置 : デフォルトは先頭\n",
        "- 終了位置: デフォルトは末尾(の後ろ)\n",
        "- 増分: デフォルトは1\n",
        "\n",
        "一部を省略するとデフォルト値が使われます。  \n",
        "スライスでアクセスしたとき、**終了位置は含まれない**ことに注意してください。"
      ],
      "metadata": {
        "id": "axlhlE5MTjut"
      }
    },
    {
      "cell_type": "code",
      "source": [
        "# スライス(参照)\n",
        "x = [1, 2, 3, 4, 5, 6, 7, 8, 9, 10]\n",
        "\n",
        "# リストのスライス機能でリストオブジェクトを複製\n",
        "list1 = x[1:9:2]\n",
        "list2 = x[1:4:]\n",
        "list3 = x[:5:]\n",
        "list4 = x[3::]\n",
        "list5 = x[::2]\n",
        "list6 = x[1::2]\n",
        "list7 = x[-2::]\n",
        "list8 = x[::-1]\n",
        "\n",
        "# スライス結果の表示\n",
        "print(\"元リスト\", x)\n",
        "print(\"[1:9:2] -->\", list1)\n",
        "print(\"[1:4:] -->\", list2)\n",
        "print(\"[:5:]  -->\", list3)\n",
        "print(\"[3::]  -->\", list4)\n",
        "print(\"[::2]  -->\", list5)\n",
        "print(\"[1::2] -->\", list6)\n",
        "print(\"[-2::] -->\", list7)\n",
        "print(\"[::-1] -->\", list8)"
      ],
      "metadata": {
        "colab": {
          "base_uri": "https://localhost:8080/"
        },
        "id": "fATFDA_vUr01",
        "outputId": "7323cdfc-0d69-4e51-af4f-17e0d214e1f8"
      },
      "execution_count": null,
      "outputs": [
        {
          "output_type": "stream",
          "name": "stdout",
          "text": [
            "元リスト [1, 2, 3, 4, 5, 6, 7, 8, 9, 10]\n",
            "[1:9:2] --> [2, 4, 6, 8]\n",
            "[1:4:] --> [2, 3, 4]\n",
            "[:5:]  --> [1, 2, 3, 4, 5]\n",
            "[3::]  --> [4, 5, 6, 7, 8, 9, 10]\n",
            "[::2]  --> [1, 3, 5, 7, 9]\n",
            "[1::2] --> [2, 4, 6, 8, 10]\n",
            "[-2::] --> [9, 10]\n",
            "[::-1] --> [10, 9, 8, 7, 6, 5, 4, 3, 2, 1]\n"
          ]
        }
      ]
    },
    {
      "cell_type": "markdown",
      "source": [
        "スライスは文字列型のオブジェクトに対しても適用することができます。"
      ],
      "metadata": {
        "id": "L_fHRUGbqJij"
      }
    },
    {
      "cell_type": "code",
      "source": [
        "# 文字列\"stressed\"の文字を逆に並べる\n",
        "str1 = \"stressed\"\n",
        "print(\"str1 -->\", str1)\n",
        "\n",
        "ans1 = str1[::-1]\n",
        "print(\"str1[::-1] -->\", ans1)\n",
        "\n",
        "# 文字列の1,3,5,7文字目を取り出して連結する\n",
        "str2 = \"パタトクカシーー\"\n",
        "print(\"str2 -->\", str2)\n",
        "\n",
        "ans2 = str2[::2]\n",
        "print(\"str2[::2] -->\", ans2)"
      ],
      "metadata": {
        "colab": {
          "base_uri": "https://localhost:8080/"
        },
        "id": "o7JDGPmoqOWe",
        "outputId": "ab4ca44e-7abc-426d-e35e-728729c1077e"
      },
      "execution_count": null,
      "outputs": [
        {
          "output_type": "stream",
          "name": "stdout",
          "text": [
            "str1 --> stressed\n",
            "str1[::-1] --> desserts\n",
            "str2 --> パタトクカシーー\n",
            "str2[::2] --> パトカー\n"
          ]
        }
      ]
    },
    {
      "cell_type": "markdown",
      "source": [
        "以下、リストに適用できる関数・メソッドの一部になります。"
      ],
      "metadata": {
        "id": "0mhlISBlVJTp"
      }
    },
    {
      "cell_type": "code",
      "source": [
        "x = [1, 2, 3, 4, 5]\n",
        "print(f\"元リスト：{x}\")\n",
        "\n",
        "# リストの長さ\n",
        "print(f\"len(x) --> {len(x)}\")\n",
        "\n",
        "# リスト内の数値の合計\n",
        "print(f\"sum(x) --> {sum(x)}\")\n",
        "\n",
        "# リスト内の数値の平均\n",
        "print(f\"average --> {sum(x)/len(x)}\")\n",
        "\n",
        "# リスト内の最大値\n",
        "print(f\"max --> {max(x)}\")\n",
        "\n",
        "# リスト内の最小値\n",
        "print(f\"min --> {min(x)}\")"
      ],
      "metadata": {
        "colab": {
          "base_uri": "https://localhost:8080/"
        },
        "id": "_iSSxkWWVNq3",
        "outputId": "260a5842-c252-4795-c7e8-24b384f3f649"
      },
      "execution_count": null,
      "outputs": [
        {
          "output_type": "stream",
          "name": "stdout",
          "text": [
            "元リスト：[1, 2, 3, 4, 5]\n",
            "len(x) --> 5\n",
            "sum(x) --> 15\n",
            "average --> 3.0\n",
            "max --> 5\n",
            "min --> 1\n"
          ]
        }
      ]
    },
    {
      "cell_type": "code",
      "source": [
        "x = [1, 2, 3, 4, 5]\n",
        "print(f\"元リスト：{x}\")\n",
        "\n",
        "# リストの繰り返し\n",
        "print(f\"x*3 --> {x*3}\")\n",
        "\n",
        "# リストに要素が含まれているか調べる\n",
        "print(f\"3 in x --> {3 in x}\")\n",
        "\n",
        "# 要素のインデックスを調べる\n",
        "print(f\"x.index(3) --> {x.index(3)}\")\n",
        "\n",
        "# 要素の個数を調べる\n",
        "print(f\"x.count(3) --> {x.count(3)}\")"
      ],
      "metadata": {
        "colab": {
          "base_uri": "https://localhost:8080/"
        },
        "id": "_1D6XbkT0ezq",
        "outputId": "f5fad72b-b7b8-42c1-e5cf-ce53cae62743"
      },
      "execution_count": null,
      "outputs": [
        {
          "output_type": "stream",
          "name": "stdout",
          "text": [
            "元リスト：[1, 2, 3, 4, 5]\n",
            "x*3 --> [1, 2, 3, 4, 5, 1, 2, 3, 4, 5, 1, 2, 3, 4, 5]\n",
            "3 in x --> True\n",
            "x.index(3) --> 2\n",
            "x.count(3) --> 1\n"
          ]
        }
      ]
    },
    {
      "cell_type": "code",
      "source": [
        "# 要素の追加（リストの末尾）\n",
        "x = [1, 2, 3, 4, 5]\n",
        "print(f\"元リスト：{x}\")\n",
        "x.append(6)\n",
        "print(f\"append(6) --> {x}\")\n",
        "\n",
        "print(\"------------------------------\")\n",
        "\n",
        "# 要素の追加（場所指定）\n",
        "# リスト名.insert(挿入先要素番号, 参照するオブジェクト)\n",
        "print(f\"元リスト：{x}\")\n",
        "x = [1, 2, 3, 4, 5]\n",
        "x.insert(2, 2.5)\n",
        "print(f\"insert(2, 2.5) --> {x}\")"
      ],
      "metadata": {
        "colab": {
          "base_uri": "https://localhost:8080/"
        },
        "id": "Uo9ovuLCa3UC",
        "outputId": "026ad9a2-b09f-417e-df4f-accfceebfa73"
      },
      "execution_count": null,
      "outputs": [
        {
          "output_type": "stream",
          "name": "stdout",
          "text": [
            "元リスト：[1, 2, 3, 4, 5]\n",
            "append(6) --> [1, 2, 3, 4, 5, 6]\n",
            "------------------------------\n",
            "元リスト：[1, 2, 3, 4, 5, 6]\n",
            "insert(2, 2.5) --> [1, 2, 2.5, 3, 4, 5]\n"
          ]
        }
      ]
    },
    {
      "cell_type": "code",
      "source": [
        "# 要素の削除（要素番号指定）\n",
        "x = [1, 2, 3, 4, 5]\n",
        "print(f\"元リスト：{x}\")\n",
        "x.pop(3)\n",
        "print(f\"pop(3) --> {x}\")\n",
        "\n",
        "# 要素の削除（引数がないときは最後の要素）\n",
        "x = [1, 2, 3, 4, 5]\n",
        "print(f\"元リスト：{x}\")\n",
        "x.pop()\n",
        "print(f\"pop() --> {x}\")\n",
        "\n",
        "print(\"------------------------------\")\n",
        "\n",
        "# 要素の削除（オブジェクト指定）\n",
        "# 最初にヒットした方だけ削除される\n",
        "x = [1, 2, 3, 4, 5, 3]\n",
        "print(f\"元リスト：{x}\")\n",
        "x.remove(3)\n",
        "print(f\"remove(3) --> {x}\")\n",
        "\n",
        "print(\"------------------------------\")\n",
        "\n",
        "# リスト内の要素を全削除\n",
        "x = [1, 2, 3, 4, 5]\n",
        "print(f\"元リスト：{x}\")\n",
        "x.clear()\n",
        "print(f\"clear() --> {x}\")"
      ],
      "metadata": {
        "colab": {
          "base_uri": "https://localhost:8080/"
        },
        "id": "J9WdyaMpbCzW",
        "outputId": "47184476-7aa0-4a1b-d6ac-7b54bbf1046d"
      },
      "execution_count": null,
      "outputs": [
        {
          "output_type": "stream",
          "name": "stdout",
          "text": [
            "元リスト：[1, 2, 3, 4, 5]\n",
            "pop(3) --> [1, 2, 3, 5]\n",
            "元リスト：[1, 2, 3, 4, 5]\n",
            "pop() --> [1, 2, 3, 4]\n",
            "------------------------------\n",
            "元リスト：[1, 2, 3, 4, 5, 3]\n",
            "remove(3) --> [1, 2, 4, 5, 3]\n",
            "------------------------------\n",
            "元リスト：[1, 2, 3, 4, 5]\n",
            "clear() --> []\n"
          ]
        }
      ]
    },
    {
      "cell_type": "code",
      "source": [
        "weekdays = [\"Monday\", \"Tuesday\", \"Wednesday\", \"Thursday\", \"Friday\"]\n",
        "print(f\"元リスト：{weekdays}\")\n",
        "\n",
        "# sortメソッド\n",
        "# リストオブジェクトの中身を直接並び替え\n",
        "\n",
        "# ソートによる昇順並び替え\n",
        "weekdays.sort()\n",
        "print(f\"sort() --> {weekdays}\")\n",
        "\n",
        "# ソートによる降順並び替え\n",
        "weekdays.sort(reverse=True)\n",
        "print(f\"sort(reverse=True) --> {weekdays}\")\n",
        "\n",
        "print(\"------------------------------\")\n",
        "\n",
        "weekdays = [\"Monday\", \"Tuesday\", \"Wednesday\", \"Thursday\", \"Friday\"]\n",
        "print(f\"元リスト：{weekdays}\")\n",
        "\n",
        "# sorted関数\n",
        "# 別のリストオブジェクトを生成\n",
        "\n",
        "# ソートによる昇順並び替え\n",
        "week_1 = sorted(weekdays)\n",
        "print(f\"sorted(weekdays) --> {week_1}\")\n",
        "\n",
        "# ソートによる降順並び替え\n",
        "week_2 = sorted(weekdays, reverse=True)\n",
        "print(f\"sorted(weekdays, reverse=True) --> {week_2}\")\n",
        "\n",
        "# リストの中に数値や文字列が混在していた場合は、並び替えはできない\n",
        "\n",
        "print(\"------------------------------\")\n",
        "\n",
        "weekdays = [\"Monday\", \"Tuesday\", \"Wednesday\", \"Thursday\", \"Friday\"]\n",
        "print(f\"元リスト：{weekdays}\")\n",
        "\n",
        "# reverseメソッド\n",
        "# リストの要素の反転\n",
        "weekdays.reverse()\n",
        "print(f\"weekdays.reverse() --> {weekdays}\")\n",
        "\n",
        "weekdays = [\"Monday\", \"Tuesday\", \"Wednesday\", \"Thursday\", \"Friday\"]\n",
        "\n",
        "# reversed関数\n",
        "# リストの要素の反転\n",
        "week_3 = list(reversed(weekdays))\n",
        "print(f\"reversed(weekdays) --> {week_3}\")"
      ],
      "metadata": {
        "colab": {
          "base_uri": "https://localhost:8080/"
        },
        "id": "tIQYIiqaeWea",
        "outputId": "61824e6f-89f8-42a8-88ca-211cd60165c1"
      },
      "execution_count": null,
      "outputs": [
        {
          "output_type": "stream",
          "name": "stdout",
          "text": [
            "元リスト：['Monday', 'Tuesday', 'Wednesday', 'Thursday', 'Friday']\n",
            "sort() --> ['Friday', 'Monday', 'Thursday', 'Tuesday', 'Wednesday']\n",
            "sort(reverse=True) --> ['Wednesday', 'Tuesday', 'Thursday', 'Monday', 'Friday']\n",
            "------------------------------\n",
            "元リスト：['Monday', 'Tuesday', 'Wednesday', 'Thursday', 'Friday']\n",
            "sorted(weekdays) --> ['Friday', 'Monday', 'Thursday', 'Tuesday', 'Wednesday']\n",
            "sorted(weekdays, reverse=True) --> ['Wednesday', 'Tuesday', 'Thursday', 'Monday', 'Friday']\n",
            "------------------------------\n",
            "元リスト：['Monday', 'Tuesday', 'Wednesday', 'Thursday', 'Friday']\n",
            "weekdays.reverse() --> ['Friday', 'Thursday', 'Wednesday', 'Tuesday', 'Monday']\n",
            "reversed(weekdays) --> ['Friday', 'Thursday', 'Wednesday', 'Tuesday', 'Monday']\n"
          ]
        }
      ]
    },
    {
      "cell_type": "code",
      "source": [
        "# リストの複製（ダメな例）\n",
        "x = [1, 2, 3, 4, 5]\n",
        "x2 = x                            # オブジェクトIDの代入\n",
        "print(f\"before:{x}\\nafter:{x2}\")  # 複製できているように見えるが…\n",
        "\n",
        "x2.remove(3)\n",
        "print(f\"before:{x}\\nafter:{x2}\")  # 元のリストまで変わってしまう\n",
        "\n",
        "print(\"------------------------------\")\n",
        "\n",
        "# copyメソッド\n",
        "# リストの複製（OKな例）\n",
        "x = [1, 2, 3, 4, 5]\n",
        "x2 = x.copy()\n",
        "print(f\"before:{x}\\nafter:{x2}\")  # 複製できているように見える\n",
        "\n",
        "x2.remove(3)\n",
        "print(f\"before:{x}\\nafter:{x2}\")  # 元のリストは変化しない\n",
        "\n",
        "print(\"------------------------------\")\n",
        "\n",
        "# list関数\n",
        "# リストの複製（OKな例）\n",
        "x = [1, 2, 3, 4, 5]\n",
        "x2 = list(x)\n",
        "print(f\"before:{x}\\nafter:{x2}\")  # 複製できているように見える\n",
        "\n",
        "x2.remove(3)\n",
        "print(f\"before:{x}\\nafter:{x2}\")  # 元のリストは変化しない"
      ],
      "metadata": {
        "colab": {
          "base_uri": "https://localhost:8080/"
        },
        "id": "Zb4GKS6yfllh",
        "outputId": "b3bfde0b-b7c1-41ca-d376-764946b1a57e"
      },
      "execution_count": null,
      "outputs": [
        {
          "output_type": "stream",
          "name": "stdout",
          "text": [
            "before:[1, 2, 3, 4, 5]\n",
            "after:[1, 2, 3, 4, 5]\n",
            "before:[1, 2, 4, 5]\n",
            "after:[1, 2, 4, 5]\n",
            "------------------------------\n",
            "before:[1, 2, 3, 4, 5]\n",
            "after:[1, 2, 3, 4, 5]\n",
            "before:[1, 2, 3, 4, 5]\n",
            "after:[1, 2, 4, 5]\n",
            "------------------------------\n",
            "before:[1, 2, 3, 4, 5]\n",
            "after:[1, 2, 3, 4, 5]\n",
            "before:[1, 2, 3, 4, 5]\n",
            "after:[1, 2, 4, 5]\n"
          ]
        }
      ]
    },
    {
      "cell_type": "code",
      "source": [
        "# リストの結合\n",
        "weekdays = [\"Monday\", \"Tuesday\", \"Wednesday\", \"Thursday\", \"Friday\"]\n",
        "weekends = [\"Saturday\", \"Sunday\"]\n",
        "print(f\"weekdays:{weekdays}\")\n",
        "print(f\"weekends:{weekends}\")\n",
        "\n",
        "print(\"------------------------------\")\n",
        "\n",
        "# \"+\"演算子\n",
        "week = weekdays + weekends\n",
        "print(f\"week:{week}\")\n",
        "\n",
        "print(\"------------------------------\")\n",
        "\n",
        "# extendメソッド\n",
        "# 結合したいリストを引数に取る\n",
        "weekdays.extend(weekends)\n",
        "print(f\"week:{weekdays}\")"
      ],
      "metadata": {
        "colab": {
          "base_uri": "https://localhost:8080/"
        },
        "id": "SzUVdOWMifV8",
        "outputId": "dfaeb288-44e7-4541-b8c6-e1e9bea5cabe"
      },
      "execution_count": null,
      "outputs": [
        {
          "output_type": "stream",
          "name": "stdout",
          "text": [
            "weekdays:['Monday', 'Tuesday', 'Wednesday', 'Thursday', 'Friday']\n",
            "weekends:['Saturday', 'Sunday']\n",
            "------------------------------\n",
            "week:['Monday', 'Tuesday', 'Wednesday', 'Thursday', 'Friday', 'Saturday', 'Sunday']\n",
            "------------------------------\n",
            "week:['Monday', 'Tuesday', 'Wednesday', 'Thursday', 'Friday', 'Saturday', 'Sunday']\n"
          ]
        }
      ]
    },
    {
      "cell_type": "code",
      "source": [
        "# 文字列のリストを一つの文字列に連結\n",
        "weekdays = [\"Monday\", \"Tuesday\", \"Wednesday\", \"Thursday\", \"Friday\"]\n",
        "\n",
        "print(f\"weekdays:{weekdays}\")\n",
        "\n",
        "print(\"------------------------------\")\n",
        "\n",
        "# joinメソッド\n",
        "# 結合する際の区切り文字を指定できる\n",
        "text1 = \" \".join(weekdays)  # 空白で文字列を区切る\n",
        "print(text1)\n",
        "\n",
        "text2 = \"\\\\\".join(weekdays)  # \"\\\"で文字列を区切る\n",
        "print(text2)"
      ],
      "metadata": {
        "colab": {
          "base_uri": "https://localhost:8080/"
        },
        "id": "LZZeTDZYkGPd",
        "outputId": "9d3be291-e917-486e-8306-0687e88aba05"
      },
      "execution_count": null,
      "outputs": [
        {
          "output_type": "stream",
          "name": "stdout",
          "text": [
            "weekdays:['Monday', 'Tuesday', 'Wednesday', 'Thursday', 'Friday']\n",
            "------------------------------\n",
            "Monday Tuesday Wednesday Thursday Friday\n",
            "Monday\\Tuesday\\Wednesday\\Thursday\\Friday\n"
          ]
        }
      ]
    },
    {
      "cell_type": "markdown",
      "source": [
        "リストを操作するにあたっては、ループを利用することが多いです。"
      ],
      "metadata": {
        "id": "NIX_oAPdpQ_N"
      }
    },
    {
      "cell_type": "code",
      "source": [
        "# リスト内の文字列をすべて大文字にするプログラム\n",
        "weekdays = [\"Monday\", \"Tuesday\", \"Wednesday\", \"Thursday\", \"Friday\"]\n",
        "print(f\"before:{weekdays}\")\n",
        "\n",
        "for i in range(len(weekdays)):\n",
        "    weekdays[i] = weekdays[i].upper()\n",
        "\n",
        "print(f\"after:{weekdays}\")"
      ],
      "metadata": {
        "colab": {
          "base_uri": "https://localhost:8080/"
        },
        "id": "7gJocHmDpU0j",
        "outputId": "5e9e404c-1b75-4efd-bf63-649667b37f5a"
      },
      "execution_count": null,
      "outputs": [
        {
          "output_type": "stream",
          "name": "stdout",
          "text": [
            "before:['Monday', 'Tuesday', 'Wednesday', 'Thursday', 'Friday']\n",
            "after:['MONDAY', 'TUESDAY', 'WEDNESDAY', 'THURSDAY', 'FRIDAY']\n"
          ]
        }
      ]
    },
    {
      "cell_type": "markdown",
      "source": [
        "**`zip`関数**を使うことで、複数のリストからそれぞれ要素を順番に取得することができます。"
      ],
      "metadata": {
        "id": "rUcy-1LRKsU9"
      }
    },
    {
      "cell_type": "code",
      "source": [
        "weekdays_en = [\"Monday\", \"Tuesday\", \"Wednesday\", \"Thursday\", \"Friday\"]\n",
        "weekdays_ja = [\"月曜日\", \"火曜日\", \"水曜日\", \"木曜日\", \"金曜日\"]\n",
        "\n",
        "for en, ja in zip(weekdays_en, weekdays_ja):\n",
        "    print(en + \" \" + ja)"
      ],
      "metadata": {
        "colab": {
          "base_uri": "https://localhost:8080/"
        },
        "id": "iCmVhOvELQKr",
        "outputId": "7923ccb0-2afe-4273-e5e0-a12f8a37c080"
      },
      "execution_count": null,
      "outputs": [
        {
          "output_type": "stream",
          "name": "stdout",
          "text": [
            "Monday 月曜日\n",
            "Tuesday 火曜日\n",
            "Wednesday 水曜日\n",
            "Thursday 木曜日\n",
            "Friday 金曜日\n"
          ]
        }
      ]
    },
    {
      "cell_type": "markdown",
      "source": [
        "**`enumerate`関数**を使うことで、繰り返しの回数とともにリストから要素を順番に取得することができます。"
      ],
      "metadata": {
        "id": "MY3Gx3d3RF6P"
      }
    },
    {
      "cell_type": "code",
      "source": [
        "weekdays_en = [\"Monday\", \"Tuesday\", \"Wednesday\", \"Thursday\", \"Friday\"]\n",
        "\n",
        "for idx, day in enumerate(weekdays_en):\n",
        "    print(str(idx) + \" \" + day)"
      ],
      "metadata": {
        "colab": {
          "base_uri": "https://localhost:8080/"
        },
        "id": "_6AYIPz3RRJ1",
        "outputId": "eb615769-6e11-4380-dc4a-cd0fc0ff65f0"
      },
      "execution_count": null,
      "outputs": [
        {
          "output_type": "stream",
          "name": "stdout",
          "text": [
            "0 Monday\n",
            "1 Tuesday\n",
            "2 Wednesday\n",
            "3 Thursday\n",
            "4 Friday\n"
          ]
        }
      ]
    },
    {
      "cell_type": "markdown",
      "source": [
        "**内包表記**と呼ばれる方法を利用することで、反復処理をシンプルに記述することができます。\n",
        "\n",
        "``` python\n",
        "# 内包表記の一般形\n",
        "[<式> for <要素> in <イテラブル>]\n",
        "```\n",
        "\n",
        "``` python\n",
        "# appendメソッドを使用した一般形\n",
        "for <要素> in <イテラブル>:\n",
        "    <リスト名>.append(<式>)\n",
        "```"
      ],
      "metadata": {
        "id": "ZTyBEoXdXxtr"
      }
    },
    {
      "cell_type": "code",
      "source": [
        "# 内包表記を使ったプログラム\n",
        "s = [i for i in range(10)]\n",
        "print(s)\n",
        "\n",
        "# append()を使ったプログラム\n",
        "s = []\n",
        "for i in range(10) :\n",
        "    s.append(i)\n",
        "print(s)"
      ],
      "metadata": {
        "colab": {
          "base_uri": "https://localhost:8080/"
        },
        "id": "7cvDg0iMYi54",
        "outputId": "97821d45-370d-4609-f6f4-66828129b164"
      },
      "execution_count": null,
      "outputs": [
        {
          "output_type": "stream",
          "name": "stdout",
          "text": [
            "[0, 1, 2, 3, 4, 5, 6, 7, 8, 9]\n",
            "[0, 1, 2, 3, 4, 5, 6, 7, 8, 9]\n"
          ]
        }
      ]
    },
    {
      "cell_type": "code",
      "source": [
        "s = [i for i in range(10)]  # [0, 1, 2, 3, 4, 5, 6, 7, 8, 9]\n",
        "\n",
        "# iの2乗の値を格納\n",
        "s1 = [i**2 for i in s]\n",
        "print(s1)\n",
        "\n",
        "# 偶数のとき、iの2乗の値を格納\n",
        "s2 = [i**2 for i in s if i % 2 == 0]\n",
        "print(s2)"
      ],
      "metadata": {
        "colab": {
          "base_uri": "https://localhost:8080/"
        },
        "id": "-kouksPVYuTq",
        "outputId": "f45b1cae-9cf0-4ee1-9840-8ed2e3ac94a2"
      },
      "execution_count": null,
      "outputs": [
        {
          "output_type": "stream",
          "name": "stdout",
          "text": [
            "[0, 1, 4, 9, 16, 25, 36, 49, 64, 81]\n",
            "[0, 4, 16, 36, 64]\n"
          ]
        }
      ]
    },
    {
      "cell_type": "markdown",
      "source": [
        "リストの中にリストを入れた構造は、**2次元リスト**と呼ばれます。  \n",
        "表の構造を持つデータ管理などに使われます。  "
      ],
      "metadata": {
        "id": "KO04sY5hB6qv"
      }
    },
    {
      "cell_type": "code",
      "source": [
        "weekdays = [\n",
        "    [\"月\", \"月曜日\", \"Monday\"],\n",
        "    [\"火\", \"火曜日\", \"Tuesday\"],\n",
        "    [\"水\", \"水曜日\", \"Wednesday\"],\n",
        "    [\"木\", \"木曜日\", \"Thursday\"],\n",
        "    [\"金\", \"金曜日\", \"Friday\"],\n",
        "]\n",
        "\n",
        "# リスト全体を参照\n",
        "print(f\"weekdays --> {weekdays}\")\n",
        "\n",
        "# リストの0番目だけを参照\n",
        "print(f\"weekdays[0] --> {weekdays[0]}\")\n",
        "\n",
        "# リストの1番目の要素をそれぞれ参照\n",
        "print(f\"{weekdays[1][1]}(-->weekdays[1][1])の英語名は{weekdays[1][2]}(-->weekdays[1][2])です\")"
      ],
      "metadata": {
        "colab": {
          "base_uri": "https://localhost:8080/"
        },
        "id": "1lQXZPUcD1oz",
        "outputId": "fabaf928-b1d3-4b21-91b3-e5b9e2604f26"
      },
      "execution_count": null,
      "outputs": [
        {
          "output_type": "stream",
          "name": "stdout",
          "text": [
            "weekdays --> [['月', '月曜日', 'Monday'], ['火', '火曜日', 'Tuesday'], ['水', '水曜日', 'Wednesday'], ['木', '木曜日', 'Thursday'], ['金', '金曜日', 'Friday']]\n",
            "weekdays[0] --> ['月', '月曜日', 'Monday']\n",
            "火曜日(-->weekdays[1][1])の英語名はTuesday(-->weekdays[1][2])です\n"
          ]
        }
      ]
    },
    {
      "cell_type": "markdown",
      "source": [
        "### 2.13 タプル"
      ],
      "metadata": {
        "id": "BqqiFm1bVNvt"
      }
    },
    {
      "cell_type": "markdown",
      "source": [
        "**タプル**は、リストとほぼ同じ特徴を持つオブジェクトです。  \n",
        "唯一、「**要素の追加・変更・削除ができない」**という点だけが異なります。   \n",
        "\n",
        "**「タプルで宣言したデータは処理速度がリストより速い」**という点が、  \n",
        "タプルを使う大きなメリットです。"
      ],
      "metadata": {
        "id": "sugDFuo2VT2U"
      }
    },
    {
      "cell_type": "code",
      "source": [
        "test = ()  # 空のタプル\n",
        "print(\"type(test) -->\", type(test))"
      ],
      "metadata": {
        "colab": {
          "base_uri": "https://localhost:8080/"
        },
        "outputId": "5512b36f-e7e9-428c-9d13-961794227d20",
        "id": "qbBNTl2MV4K_"
      },
      "execution_count": null,
      "outputs": [
        {
          "output_type": "stream",
          "name": "stdout",
          "text": [
            "type(test) --> <class 'tuple'>\n"
          ]
        }
      ]
    },
    {
      "cell_type": "markdown",
      "source": [
        "リストが**同じ種類のデータをまとめる**のに対して、  \n",
        "タプルは**異なる種類のデータをまとめる**ことが多いです。\n",
        "\n",
        "``` python\n",
        "# タプルの定義\n",
        "タプル名 = (<要素1>, <要素2>, ...)\n",
        "\n",
        "```"
      ],
      "metadata": {
        "id": "QwTlQSK6V4LM"
      }
    },
    {
      "cell_type": "code",
      "source": [
        "# タプル\n",
        "x = (1, 2, 3)\n",
        "print(\"x -->\", x)"
      ],
      "metadata": {
        "colab": {
          "base_uri": "https://localhost:8080/"
        },
        "outputId": "27a51f93-c3be-459e-dd4d-1cd27d8662ce",
        "id": "WC6y6kHbV4LM"
      },
      "execution_count": null,
      "outputs": [
        {
          "output_type": "stream",
          "name": "stdout",
          "text": [
            "x --> (1, 2, 3)\n"
          ]
        }
      ]
    },
    {
      "cell_type": "markdown",
      "source": [
        "タプルの各要素には、以下の形式でアクセスすることができます。\n",
        "\n",
        "``` python\n",
        "# タプルへのアクセス\n",
        "<タプル名>[要素番号]\n",
        "```"
      ],
      "metadata": {
        "id": "jzIzVAo1V4LM"
      }
    },
    {
      "cell_type": "code",
      "source": [
        "# 要素の参照\n",
        "x = (1, 2, 3)\n",
        "print(\"x[0] -->\", x[0])"
      ],
      "metadata": {
        "colab": {
          "base_uri": "https://localhost:8080/"
        },
        "outputId": "cfd9f34e-782a-4bd6-bd94-88acdf9cf7c9",
        "id": "Xa9GifhSV4LN"
      },
      "execution_count": null,
      "outputs": [
        {
          "output_type": "stream",
          "name": "stdout",
          "text": [
            "x[0] --> 1\n"
          ]
        }
      ]
    },
    {
      "cell_type": "markdown",
      "metadata": {
        "id": "4o4LU0Y8V4LN"
      },
      "source": [
        "新しい要素を代入しようとするとエラーが発生します。"
      ]
    },
    {
      "cell_type": "code",
      "execution_count": null,
      "metadata": {
        "id": "JoPGPJoWV4LN"
      },
      "outputs": [],
      "source": [
        "# （最初の）要素に代入\n",
        "x = (1, 2, 3)\n",
        "# x[0] = 10  # エラーが発生"
      ]
    },
    {
      "cell_type": "markdown",
      "source": [
        "タプルで要素数が1となるデータを扱う際は注意が必要です。   \n",
        "要素数1のタプルを生成するには、タプル定義に記述する値の後ろに**カンマ**をつけます。\n",
        "\n",
        "``` python\n",
        "# 要素数1のタプル\n",
        "<タプル名> = (<要素>,)\n",
        "```"
      ],
      "metadata": {
        "id": "lw1KeevFW7c6"
      }
    },
    {
      "cell_type": "markdown",
      "source": [
        "要素の追加や削除などを除けば、リストと同じメソッドやスライスによる参照を利用することができます。"
      ],
      "metadata": {
        "id": "N77nY-f6Xfws"
      }
    },
    {
      "cell_type": "markdown",
      "source": [
        "タプルの複数の要素を1つにまとめることを**パック**といいます。  \n",
        "また、タプルを展開して複数の変数に1要素ずつ渡すことを**アンパック**といいます。"
      ],
      "metadata": {
        "id": "b7jZyfZ5X71E"
      }
    },
    {
      "cell_type": "code",
      "source": [
        "# タプルのパック\n",
        "# 3つの要素を一つにまとめて格納\n",
        "data = (\"Japan\", \"81\", 21)\n",
        "print(\"data -->\", data)\n",
        "\n",
        "# タプルのアンパック\n",
        "# 4つの変数に4つの要素を一つずつ渡す\n",
        "name, number, age = data\n",
        "\n",
        "# 変数の出力\n",
        "print(f\"name --> {name}\")\n",
        "print(f\"number --> {number}\")\n",
        "print(f\"age --> {age}\")"
      ],
      "metadata": {
        "colab": {
          "base_uri": "https://localhost:8080/"
        },
        "id": "SsnMvwQmYGzG",
        "outputId": "9a19e6ba-467b-4a6f-a08f-3f1049473342"
      },
      "execution_count": null,
      "outputs": [
        {
          "output_type": "stream",
          "name": "stdout",
          "text": [
            "data --> ('Japan', '81', 21)\n",
            "name --> Japan\n",
            "number --> 81\n",
            "age --> 21\n"
          ]
        }
      ]
    },
    {
      "cell_type": "markdown",
      "source": [
        "タプルのアンパックを行うときには、**変数と代入する値の数が一致している**必要があります。"
      ],
      "metadata": {
        "id": "npvjPVpEYq2_"
      }
    },
    {
      "cell_type": "markdown",
      "source": [
        "### 2.14 ディクショナリ"
      ],
      "metadata": {
        "id": "Ln5JfrD1ZqFT"
      }
    },
    {
      "cell_type": "markdown",
      "source": [
        "**ディクショナリ**は、それぞれの要素に**キー**という見出し情報を付けて  \n",
        "データを管理するオブジェクトです。\n",
        "\n",
        "ディクショナリを利用することで、それぞれのデータが何を意味しているのか分かりやすくなります。"
      ],
      "metadata": {
        "id": "5OzgzWFkbOC1"
      }
    },
    {
      "cell_type": "code",
      "source": [
        "test = {}  # 空のディクショナリ\n",
        "print(\"type(test) -->\", type(test))"
      ],
      "metadata": {
        "colab": {
          "base_uri": "https://localhost:8080/"
        },
        "outputId": "3ccbe574-5577-4ad0-c71e-4f9289709fb2",
        "id": "ZWAMg1RhgI0g"
      },
      "execution_count": null,
      "outputs": [
        {
          "output_type": "stream",
          "name": "stdout",
          "text": [
            "type(test) --> <class 'dict'>\n"
          ]
        }
      ]
    },
    {
      "cell_type": "markdown",
      "source": [
        "**{}**（**波カッコ**）によってディクショナリを生み出し、各要素を**「キー : 値」**の形式で指定します。\n",
        "\n",
        "``` python\n",
        "# ディクショナリの定義\n",
        "<ディクショナリ名> = {<キー1>:<値1>, <キー2>:<値2>, ...}\n",
        "\n",
        "```"
      ],
      "metadata": {
        "id": "FWf_QUTDgI0h"
      }
    },
    {
      "cell_type": "code",
      "source": [
        "# ディクショナリ\n",
        "x = {\"a\": 1, \"b\": 2, \"c\": 3}\n",
        "print(\"x -->\", x)"
      ],
      "metadata": {
        "colab": {
          "base_uri": "https://localhost:8080/"
        },
        "outputId": "9cfed3d4-2f7f-43d2-e520-1c616420fdf8",
        "id": "FeABIsWHgI0h"
      },
      "execution_count": null,
      "outputs": [
        {
          "output_type": "stream",
          "name": "stdout",
          "text": [
            "x --> {'a': 1, 'b': 2, 'c': 3}\n"
          ]
        }
      ]
    },
    {
      "cell_type": "markdown",
      "source": [
        "各要素に付けるキーは、次のようなルールに従って開発者が自由に決定することができます。   \n",
        "キーには文字列が使われることが多いです。\n",
        "\n",
        "- キーには、さまざまな型のデータを指定できる。\n",
        "- キーのデータ型は要素ごとに異なってもよい\n",
        "- キーの重複も許される（最後に指定したもの以外は無視される）"
      ],
      "metadata": {
        "id": "Waep4Ny2haND"
      }
    },
    {
      "cell_type": "markdown",
      "source": [
        "ディクショナリの各要素には、以下の形式でアクセスすることができます。\n",
        "\n",
        "``` python\n",
        "# ディクショナリへのアクセス\n",
        "<ディクショナリ名>[キー]\n",
        "```"
      ],
      "metadata": {
        "id": "keQjmw6pgI0i"
      }
    },
    {
      "cell_type": "code",
      "source": [
        "# 要素の取得\n",
        "x = {\"a\": 1, \"b\": 2, \"c\": 3}\n",
        "print('x[\"a\"] -->', x[\"a\"])"
      ],
      "metadata": {
        "colab": {
          "base_uri": "https://localhost:8080/"
        },
        "outputId": "2a43d330-0326-4eda-ae20-94b1732b2c0e",
        "id": "7VPUBi_ugI0i"
      },
      "execution_count": null,
      "outputs": [
        {
          "output_type": "stream",
          "name": "stdout",
          "text": [
            "x[\"a\"] --> 1\n"
          ]
        }
      ]
    },
    {
      "cell_type": "markdown",
      "source": [
        "**`get`メソッド**を使うことでも、ディクショナリ内の要素を取得できます。"
      ],
      "metadata": {
        "id": "aFSjYQ-3tKr5"
      }
    },
    {
      "cell_type": "code",
      "source": [
        "# getメソッド\n",
        "# 要素の取得\n",
        "x = {\"a\": 1, \"b\": 2, \"c\": 3}\n",
        "print('x.get(\"a\") -->', x.get(\"a\"))\n",
        "\n",
        "# 指定したキーがないと、Noneを返す\n",
        "# エラーを出したくないときに利用する\n",
        "print('x.get(\"d\") -->', x.get(\"d\"))\n",
        "# print('x[\"d\"] -->', x[\"d\"])  # エラー発生"
      ],
      "metadata": {
        "colab": {
          "base_uri": "https://localhost:8080/"
        },
        "id": "LJbGoWD1t6CM",
        "outputId": "c85a1360-8259-402a-c844-4210b72d84f3"
      },
      "execution_count": null,
      "outputs": [
        {
          "output_type": "stream",
          "name": "stdout",
          "text": [
            "x.get(\"a\") --> 1\n",
            "x.get(\"d\") --> None\n"
          ]
        }
      ]
    },
    {
      "cell_type": "markdown",
      "source": [
        "ディクショナリの要素を追加、あるいは変更したい場合は、  \n",
        "以下の形式を利用します。\n",
        "\n",
        "``` python\n",
        "# 要素の追加\n",
        "<ディクショナリ名>[新しいキー] = <新しい値>\n",
        "```\n",
        "\n",
        "``` python\n",
        "# 要素の変更\n",
        "<ディクショナリ名>[変更したい要素のキー] = <変更後の値>\n",
        "```"
      ],
      "metadata": {
        "id": "j7PX3yXvjLrV"
      }
    },
    {
      "cell_type": "code",
      "source": [
        "# 要素の追加と変更\n",
        "x = {\"a\": 1, \"b\": 2, \"c\": 3}\n",
        "print('before -->', x)\n",
        "\n",
        "x[\"d\"] = 4  # ディクショナリに要素を追加\n",
        "x[\"a\"] = 0  # ディクショナリの要素を変更\n",
        "\n",
        "print('after -->', x)"
      ],
      "metadata": {
        "colab": {
          "base_uri": "https://localhost:8080/"
        },
        "id": "5xUdsd59jxkK",
        "outputId": "ea6fa1ad-31fc-40a1-829d-9d480211c7b4"
      },
      "execution_count": null,
      "outputs": [
        {
          "output_type": "stream",
          "name": "stdout",
          "text": [
            "before --> {'a': 1, 'b': 2, 'c': 3}\n",
            "after --> {'a': 0, 'b': 2, 'c': 3, 'd': 4}\n"
          ]
        }
      ]
    },
    {
      "cell_type": "code",
      "source": [],
      "metadata": {
        "id": "95cAAHyttKjg"
      },
      "execution_count": null,
      "outputs": []
    },
    {
      "cell_type": "markdown",
      "source": [
        "ディクショナリの要素を削除するには、**del文**という特殊な構文を用います。\n",
        "\n",
        "``` python\n",
        "# 要素の削除\n",
        "del <ディクショナリ名>[削除したい値のキー]\n",
        "```"
      ],
      "metadata": {
        "id": "0Ag6pOnCrmh5"
      }
    },
    {
      "cell_type": "code",
      "source": [
        "# 要素の追加と変更\n",
        "x = {\"a\": 1, \"b\": 2, \"c\": 3}\n",
        "print('before -->', x)\n",
        "\n",
        "del x[\"c\"]  # ディクショナリの要素を削除\n",
        "\n",
        "print('after -->', x)"
      ],
      "metadata": {
        "colab": {
          "base_uri": "https://localhost:8080/"
        },
        "id": "EpuLknd9r0Ms",
        "outputId": "2b3604b7-2bd0-45b5-fdd8-dcd114fa99ae"
      },
      "execution_count": null,
      "outputs": [
        {
          "output_type": "stream",
          "name": "stdout",
          "text": [
            "before --> {'a': 1, 'b': 2, 'c': 3}\n",
            "after --> {'a': 1, 'b': 2}\n"
          ]
        }
      ]
    },
    {
      "cell_type": "markdown",
      "source": [
        "ディクショナリに入っているキーをすべて取得するには、**`keys`メソッド**を使います。"
      ],
      "metadata": {
        "id": "PVOZMTgBQNoH"
      }
    },
    {
      "cell_type": "code",
      "source": [
        "x = {\"a\": 1, \"b\": 2, \"c\": 3}\n",
        "print('x -->', x)\n",
        "\n",
        "# キーをすべて取得\n",
        "print('list(x.keys()) -->', list(x.keys()))\n",
        "\n",
        "# 辞書に入っているkeyをfor文で取り出す\n",
        "for key in x.keys():\n",
        "    print(key)"
      ],
      "metadata": {
        "id": "oIxDy4-s0ePi",
        "colab": {
          "base_uri": "https://localhost:8080/"
        },
        "outputId": "d2fd0910-67b3-4116-abf6-3a8ccaf0a214"
      },
      "execution_count": null,
      "outputs": [
        {
          "output_type": "stream",
          "name": "stdout",
          "text": [
            "x --> {'a': 1, 'b': 2, 'c': 3}\n",
            "list(x.keys()) --> ['a', 'b', 'c']\n",
            "a\n",
            "b\n",
            "c\n"
          ]
        }
      ]
    },
    {
      "cell_type": "markdown",
      "source": [
        "値をすべて取得したいときには、**`values`メソッド**を使います。"
      ],
      "metadata": {
        "id": "SQjO8FLhsYso"
      }
    },
    {
      "cell_type": "code",
      "source": [
        "x = {\"a\": 1, \"b\": 2, \"c\": 3}\n",
        "print('x -->', x)\n",
        "\n",
        "# 値をすべて取得\n",
        "print('list(x.values()) -->', list(x.values()))\n",
        "\n",
        "# 辞書に入っているvalueをfor文で取り出す\n",
        "for value in x.values():\n",
        "    print(value)"
      ],
      "metadata": {
        "colab": {
          "base_uri": "https://localhost:8080/"
        },
        "id": "04AxwGqKsh8e",
        "outputId": "5c52aaf9-ac67-406b-f158-141d65ee58b4"
      },
      "execution_count": null,
      "outputs": [
        {
          "output_type": "stream",
          "name": "stdout",
          "text": [
            "x --> {'a': 1, 'b': 2, 'c': 3}\n",
            "list(x.values()) --> [1, 2, 3]\n",
            "1\n",
            "2\n",
            "3\n"
          ]
        }
      ]
    },
    {
      "cell_type": "markdown",
      "source": [
        "キーと値を同時に取得したいときには、**`items`メソッド**を使います。  "
      ],
      "metadata": {
        "id": "QrqLlIpZssoS"
      }
    },
    {
      "cell_type": "code",
      "source": [
        "x = {\"a\": 1, \"b\": 2, \"c\": 3}\n",
        "print('x -->', x)\n",
        "\n",
        "# キーと値をすべて取得\n",
        "print('list(x.items()) -->', list(x.items()))\n",
        "\n",
        "# 辞書に入っているkeyとvalueをfor文で取り出す\n",
        "for key, value in x.items():\n",
        "    print(key, value)"
      ],
      "metadata": {
        "colab": {
          "base_uri": "https://localhost:8080/"
        },
        "id": "hHXcJZvfsza2",
        "outputId": "f3269fda-0669-4e81-acf5-40393c942864"
      },
      "execution_count": null,
      "outputs": [
        {
          "output_type": "stream",
          "name": "stdout",
          "text": [
            "x --> {'a': 1, 'b': 2, 'c': 3}\n",
            "list(x.items()) --> [('a', 1), ('b', 2), ('c', 3)]\n",
            "a 1\n",
            "b 2\n",
            "c 3\n"
          ]
        }
      ]
    },
    {
      "cell_type": "markdown",
      "source": [
        "`items`メソッドで取得したキーと値を、`sorted`関数の引数に渡すことで、  \n",
        "ディクショナリを\"キー\"でソートすることができます。"
      ],
      "metadata": {
        "id": "wNIW1iWiunjn"
      }
    },
    {
      "cell_type": "code",
      "source": [
        "fruits_dict = {'Banana': 200, 'Lemon': 150, 'Apple': 120, 'Grape': 300}\n",
        "print('fruits_dict -->', fruits_dict)\n",
        "# {'Banana': 200, 'Lemon': 150, 'Apple': 120, 'Grape': 300}\n",
        "\n",
        "# ディクショナリをキーでソート\n",
        "fruits_dict = dict(sorted(fruits_dict.items()))\n",
        "\n",
        "print(\"sorted(fruits_dict.items())で更新\")\n",
        "print('fruits_dict -->', fruits_dict)\n",
        "# {'Apple': 120, 'Banana': 200, 'Grape': 300, 'Lemon': 150}\n"
      ],
      "metadata": {
        "colab": {
          "base_uri": "https://localhost:8080/"
        },
        "id": "KN_cjUt8vEcz",
        "outputId": "c63df6e1-7355-433b-a1d1-9853d95ca4a3"
      },
      "execution_count": null,
      "outputs": [
        {
          "output_type": "stream",
          "name": "stdout",
          "text": [
            "fruits_dict --> {'Banana': 200, 'Lemon': 150, 'Apple': 120, 'Grape': 300}\n",
            "dict(sorted(fruits_dict.items()))で更新\n",
            "fruits_dict --> {'Apple': 120, 'Banana': 200, 'Grape': 300, 'Lemon': 150}\n"
          ]
        }
      ]
    },
    {
      "cell_type": "markdown",
      "source": [
        "`sorted`関数の`key`に、辞書の値を渡すことで、   \n",
        "ディクショナリを\"値\"でソートすることができます。"
      ],
      "metadata": {
        "id": "S_QdEH-svn46"
      }
    },
    {
      "cell_type": "code",
      "source": [
        "fruits_dict = {'Banana': 200, 'Lemon': 150, 'Apple': 120, 'Grape': 300}\n",
        "print('fruits_dict -->', fruits_dict)\n",
        "# {'Banana': 200, 'Lemon': 150, 'Apple': 120, 'Grape': 300}\n",
        "\n",
        "# ディクショナリを値でソート\n",
        "fruits_dict = dict(sorted(fruits_dict.items(), key = lambda fruit : fruit[1]))\n",
        "\n",
        "print(\"sorted(fruits_dict.items(), key = lambda fruit : fruit[1])で更新\")\n",
        "print('fruits_dict -->', fruits_dict)\n",
        "# {'Apple': 120, 'Lemon': 150, 'Banana': 200, 'Grape': 300}\n"
      ],
      "metadata": {
        "colab": {
          "base_uri": "https://localhost:8080/"
        },
        "outputId": "dfb58702-1bd9-4cd8-8b20-897e10fe57a2",
        "id": "C6VEB9bxvn5H"
      },
      "execution_count": null,
      "outputs": [
        {
          "output_type": "stream",
          "name": "stdout",
          "text": [
            "fruits_dict --> {'Banana': 200, 'Lemon': 150, 'Apple': 120, 'Grape': 300}\n",
            "dict(sorted(fruits_dict.items(), key = lambda fruit : fruit[1]))で更新\n",
            "fruits_dict --> {'Apple': 120, 'Lemon': 150, 'Banana': 200, 'Grape': 300}\n"
          ]
        }
      ]
    },
    {
      "cell_type": "markdown",
      "source": [
        "任意の順番でソートすることもできます。"
      ],
      "metadata": {
        "id": "JpKwiyBuwtSs"
      }
    },
    {
      "cell_type": "code",
      "source": [
        "fruits_dict = {'Banana': 200, 'Lemon': 150, 'Apple': 120, 'Grape': 300}\n",
        "print('fruits_dict -->', fruits_dict)\n",
        "# {'Banana': 200, 'Lemon': 150, 'Apple': 120, 'Grape': 300}\n",
        "\n",
        "# ディクショナリを任意の順番でソート\n",
        "fruit_order = ['Apple', 'Banana', 'Lemon', 'Grape']\n",
        "fruits_dict = dict(sorted(fruits_dict.items(), key=lambda x: fruit_order.index(x[0])))\n",
        "\n",
        "print(\"sorted(fruits_dict.items(), key=lambda x: fruit_order.index(x[0]))で更新\")\n",
        "print('fruits_dict -->', fruits_dict)\n",
        "# {'Apple': 120, 'Banana': 200, 'Lemon': 150, 'Grape': 300}\n"
      ],
      "metadata": {
        "colab": {
          "base_uri": "https://localhost:8080/"
        },
        "id": "74goyHWxwz3v",
        "outputId": "e9767df1-11a1-46c6-aa04-c98772c32fcc"
      },
      "execution_count": null,
      "outputs": [
        {
          "output_type": "stream",
          "name": "stdout",
          "text": [
            "fruits_dict --> {'Banana': 200, 'Lemon': 150, 'Apple': 120, 'Grape': 300}\n",
            "sorted(fruits_dict.items(), key=lambda x: fruit_order.index(x[0]))で更新\n",
            "fruits_dict --> {'Apple': 120, 'Banana': 200, 'Lemon': 150, 'Grape': 300}\n"
          ]
        }
      ]
    },
    {
      "cell_type": "markdown",
      "source": [
        "### 2.15 セット"
      ],
      "metadata": {
        "id": "n61UytXK1gZC"
      }
    },
    {
      "cell_type": "markdown",
      "source": [
        "**セット**は、集合を表すオブジェクトです。\n",
        "\n",
        "重複しない要素を管理することができるオブジェクトで、集合演算を行うことができます。"
      ],
      "metadata": {
        "id": "VNTcVornxiK7"
      }
    },
    {
      "cell_type": "code",
      "source": [
        "test = set()  # 空のセット\n",
        "print(\"type(test) -->\", type(test))"
      ],
      "metadata": {
        "colab": {
          "base_uri": "https://localhost:8080/"
        },
        "id": "P555sJsH2oJX",
        "outputId": "126f2d6f-a540-4ed2-aa05-5c821c98c430"
      },
      "execution_count": null,
      "outputs": [
        {
          "output_type": "stream",
          "name": "stdout",
          "text": [
            "type(test) --> <class 'set'>\n"
          ]
        }
      ]
    },
    {
      "cell_type": "markdown",
      "source": [
        "順番を考慮しないのが、セットオブジェクトの特徴です。  \n",
        "つまり、順序は関係なく、データを集合として管理したいという用途に使います。\n",
        "\n",
        "``` python\n",
        "# セットの定義\n",
        "セット名 = {<要素1>, <要素2>, ...}\n",
        "\n",
        "```"
      ],
      "metadata": {
        "id": "W7j7OXvv32Bg"
      }
    },
    {
      "cell_type": "markdown",
      "source": [
        "大きな特徴は以下の4点です。\n",
        "\n",
        "① 重複した値を格納することができない  \n",
        "② 添え字やキーという概念がなく、特定の要素に対して代入・参照する方法が存在しない  \n",
        "③ 添え字がないため、要素が順序を持たない  \n",
        "④ `append`メソッドの代わりに**`add`メソッド**で要素を追加する"
      ],
      "metadata": {
        "id": "6M5RQl8O7Loi"
      }
    },
    {
      "cell_type": "code",
      "source": [
        "# セットの作成\n",
        "x = {2, 3, 3, 4, 5, 7, 9}\n",
        "\n",
        "# セットの表示（重複が削除される）\n",
        "print(\"x -->\", x)  # {2, 3, 4, 5, 7, 9}\n"
      ],
      "metadata": {
        "colab": {
          "base_uri": "https://localhost:8080/"
        },
        "outputId": "85a1d842-66e0-47cc-bd08-300f448ce0e6",
        "id": "xf_TyS9x7Loj"
      },
      "execution_count": null,
      "outputs": [
        {
          "output_type": "stream",
          "name": "stdout",
          "text": [
            "x --> {2, 3, 4, 5, 7, 9}\n"
          ]
        }
      ]
    },
    {
      "cell_type": "markdown",
      "source": [
        "作成したセットに要素を追加するには、**`add`メソッド**を使います。  \n"
      ],
      "metadata": {
        "id": "gfaCY4qFaqx8"
      }
    },
    {
      "cell_type": "code",
      "source": [
        "x = {1, 2, 3 ,4 ,5}\n",
        "print(\"x -->\", x)\n",
        "\n",
        "x.add(6)\n",
        "print(\"x.add(6) -->\", x)  # 要素の追加\n",
        "\n",
        "x.add(1)\n",
        "print(\"x.add(1) -->\", x)  # 同じオブジェクトを追加しても、特に変化しない"
      ],
      "metadata": {
        "colab": {
          "base_uri": "https://localhost:8080/"
        },
        "id": "L30xVkgsa3M0",
        "outputId": "60f2b703-f446-4a91-b037-6dd49160610e"
      },
      "execution_count": null,
      "outputs": [
        {
          "output_type": "stream",
          "name": "stdout",
          "text": [
            "x --> {1, 2, 3, 4, 5}\n",
            "x.add(6) --> {1, 2, 3, 4, 5, 6}\n",
            "x.add(1) --> {1, 2, 3, 4, 5, 6}\n"
          ]
        }
      ]
    },
    {
      "cell_type": "markdown",
      "source": [
        "**`remove`メソッド**を使うと、オブジェクトを指定して要素を削除できます。"
      ],
      "metadata": {
        "id": "X2a8tmmgbkT0"
      }
    },
    {
      "cell_type": "code",
      "source": [
        "x = {1, 2, 3 ,4 ,5}\n",
        "print(\"x -->\", x)\n",
        "\n",
        "x.remove(3)\n",
        "print(\"x.remove(3) -->\", x)  # 要素の削除"
      ],
      "metadata": {
        "colab": {
          "base_uri": "https://localhost:8080/"
        },
        "id": "SWxjfSBubk9c",
        "outputId": "90806136-fe5a-43f9-b24c-2b858601865e"
      },
      "execution_count": null,
      "outputs": [
        {
          "output_type": "stream",
          "name": "stdout",
          "text": [
            "x --> {1, 2, 3, 4, 5}\n",
            "x.remove(3) --> {1, 2, 4, 5}\n"
          ]
        }
      ]
    },
    {
      "cell_type": "markdown",
      "source": [
        "セットとリスト・タプルは、相互変換されることが多いです。"
      ],
      "metadata": {
        "id": "bVkf0O9jEqNZ"
      }
    },
    {
      "cell_type": "code",
      "source": [
        "# リストとタプルの定義\n",
        "list1 = [10, 20, 30, 40, 50]\n",
        "tuple1 = (\"A\", \"B\", \"C\")\n",
        "print(\"list1 -->\", list1)\n",
        "print(\"tuple1 -->\", tuple1)\n",
        "\n",
        "# 「リスト」と「タプル」から「セット」を生成\n",
        "print(\"set(list1) -->\", set(list1))\n",
        "print(\"set(tuple1) -->\", set(tuple1))"
      ],
      "metadata": {
        "colab": {
          "base_uri": "https://localhost:8080/"
        },
        "id": "_FLOO6s3E0AG",
        "outputId": "d9ef5b16-0ea4-4237-aaaa-7a052a974b73"
      },
      "execution_count": null,
      "outputs": [
        {
          "output_type": "stream",
          "name": "stdout",
          "text": [
            "list1 --> [10, 20, 30, 40, 50]\n",
            "tuple1 --> ('A', 'B', 'C')\n",
            "set(list1) --> {40, 10, 50, 20, 30}\n",
            "set(tuple1) --> {'C', 'B', 'A'}\n"
          ]
        }
      ]
    },
    {
      "cell_type": "code",
      "source": [
        "# セットの定義\n",
        "set1 = {10, 20, 30, 40, 50}\n",
        "print(\"set1 -->\", set1)\n",
        "\n",
        "# 「セット」から「リスト」と「タプル」を生成\n",
        "print(\"list(set1) -->\", list(set1))\n",
        "print(\"tuple(set1) -->\", tuple(set1))"
      ],
      "metadata": {
        "colab": {
          "base_uri": "https://localhost:8080/"
        },
        "id": "LHWNRGheE2Ky",
        "outputId": "be7ae0e6-8b4f-4145-faf9-47472b77e27d"
      },
      "execution_count": null,
      "outputs": [
        {
          "output_type": "stream",
          "name": "stdout",
          "text": [
            "set1 --> {50, 20, 40, 10, 30}\n",
            "list(set1) --> [50, 20, 40, 10, 30]\n",
            "tuple(set1) --> (50, 20, 40, 10, 30)\n"
          ]
        }
      ]
    },
    {
      "cell_type": "markdown",
      "source": [
        "Pythonでは、これら集合の関係性を演算で簡単に作り出すことができます。"
      ],
      "metadata": {
        "id": "5Orx6U7mItJv"
      }
    },
    {
      "cell_type": "code",
      "source": [
        "set1 = {1, 2, 3, 4, 5}\n",
        "set2 = {1, 3, 5, 7, 9}\n",
        "print(\"set1 -->\", set1)\n",
        "print(\"set2 -->\", set2)\n",
        "\n",
        "# セットの和集合\n",
        "# 複数の集合に含まれる全ての要素で構成される集合\n",
        "print(\"set1 | set2 -->\", set1 | set2)\n",
        "\n",
        "# セットの差集合\n",
        "# ある集合に含まれるが、他の集合には含まれないものを要素とする集合\n",
        "print(\"set1 - set2 -->\", set1 - set2)\n",
        "\n",
        "# セットの積集合\n",
        "# 複数の集合に共通する要素で構成される集合\n",
        "print(\"set1 & set2 -->\", set1 & set2)\n",
        "\n",
        "# セットの対象差\n",
        "# それぞれの集合のみに存在する要素で 構成される集合\n",
        "print(\"set1 ^ set2 -->\", set1 ^ set2)"
      ],
      "metadata": {
        "colab": {
          "base_uri": "https://localhost:8080/"
        },
        "id": "Ho7BkG_fIuV2",
        "outputId": "17ba6bdd-e2e1-494a-f37c-e73e01c8803f"
      },
      "execution_count": null,
      "outputs": [
        {
          "output_type": "stream",
          "name": "stdout",
          "text": [
            "set1 --> {1, 2, 3, 4, 5}\n",
            "set2 --> {1, 3, 5, 7, 9}\n",
            "set1 | set2 --> {1, 2, 3, 4, 5, 7, 9}\n",
            "set1 - set2 --> {2, 4}\n",
            "set1 & set2 --> {1, 3, 5}\n",
            "set1 ^ set2 --> {2, 4, 7, 9}\n"
          ]
        }
      ]
    },
    {
      "cell_type": "markdown",
      "source": [
        "### 2.16 コレクションまとめ"
      ],
      "metadata": {
        "id": "DtTPI0QYP_HX"
      }
    },
    {
      "cell_type": "markdown",
      "source": [
        "関連するデータをまとめて1つの変数として扱う仕組みを、  \n",
        "Pythonでは**コレクション**と呼びます。\n",
        "\n",
        "コレクションには、リスト、タプル、セット、辞書などが含まれます。  \n",
        "**イテラブル**（要素を順番に取り出すことができるオブジェクト）となります。"
      ],
      "metadata": {
        "id": "iT0Ihv7AQC-p"
      }
    },
    {
      "cell_type": "markdown",
      "source": [
        "コレクションは、主に**イテラブル**は、要素を順番に取り出すことができるオブジェクトのことです。\n",
        "\n"
      ],
      "metadata": {
        "id": "UDID02ZZRHun"
      }
    },
    {
      "cell_type": "markdown",
      "source": [
        "変更可能なオブジェクトを**「ミュータブル」**、  \n",
        "変更不可能なオブジェクトを**「イミュータブル」**といいます。\n",
        "\n",
        "リスト、ディクショナリ、セットはミュータブルです。  \n",
        "タプル、数値、文字列、booleanはイミュータブルです。"
      ],
      "metadata": {
        "id": "IODWdgkvTBb_"
      }
    },
    {
      "cell_type": "markdown",
      "source": [
        "コレクションの中に別のコレクションを格納することもできます。  \n",
        "多重構造のことを**ネスト**や**入れ子**といいます。"
      ],
      "metadata": {
        "id": "ovwgghQJUSP5"
      }
    },
    {
      "cell_type": "code",
      "source": [
        "# ディクショナリの中にディクショナリを入れた二重構造\n",
        "\n",
        "schedule = {\n",
        "    \"weekdays\": {\"月曜日\": \"Monday\", \"火曜日\": \"Tuesday\", \"水曜日\": \"Wednesday\", \"木曜日\": \"Thursday\", \"金曜日\": \"Friday\"},\n",
        "    \"weekends\": {\"土曜日\": \"Saturday\", \"日曜日\": \"Sunday\"},\n",
        "}\n",
        "\n",
        "\n",
        "print('schedule[\"weekdays\"][\"月曜日\"] -->', schedule[\"weekdays\"][\"月曜日\"])\n",
        "print('schedule[\"weekends\"][\"土曜日\"] -->', schedule[\"weekends\"][\"土曜日\"])"
      ],
      "metadata": {
        "colab": {
          "base_uri": "https://localhost:8080/"
        },
        "id": "4wPY0eRUUYwL",
        "outputId": "21d55d3f-d702-4512-ea6a-97e527a2cb3e"
      },
      "execution_count": null,
      "outputs": [
        {
          "output_type": "stream",
          "name": "stdout",
          "text": [
            "schedule[\"weekdays\"][\"月曜日\"] --> Monday\n",
            "schedule[\"weekends\"][\"土曜日\"] --> Saturday\n"
          ]
        }
      ]
    },
    {
      "cell_type": "markdown",
      "source": [
        "### 2.17 組み込み関数"
      ],
      "metadata": {
        "id": "33aHBgRwXSu5"
      }
    },
    {
      "cell_type": "markdown",
      "source": [
        "**関数**は、与えられた入力データに対して特定の操作や手続きを行い、  \n",
        "その結果を返す手順の集まりです。\n",
        "\n",
        "一般的に、関数は定義された処理を実行するために呼び出されます。"
      ],
      "metadata": {
        "id": "dJtV0n8hXWWq"
      }
    },
    {
      "cell_type": "markdown",
      "source": [
        "Pythonにおける関数は、**独自関数**または**標準関数**（**組み込み関数**）のいずれかです。"
      ],
      "metadata": {
        "id": "U4YCqtTnYbox"
      }
    },
    {
      "cell_type": "markdown",
      "source": [
        "Pythonで最初から準備されている関数のことを、**組み込み関数**といいます。\n",
        "\n",
        "``` python\n",
        "# 組み込み関数の例\n",
        "enumerate()\n",
        "format()\n",
        "id()\n",
        "input()\n",
        "len()\n",
        "print()\n",
        "range()\n",
        "sorted()\n",
        "sum()\n",
        "type()\n",
        "```"
      ],
      "metadata": {
        "id": "AEnobbSgY5_C"
      }
    },
    {
      "cell_type": "markdown",
      "source": [
        "他にも以下のような関数があります。"
      ],
      "metadata": {
        "id": "KV4SpMnLb7hR"
      }
    },
    {
      "cell_type": "code",
      "source": [
        "# abs関数\n",
        "# 引数の絶対値を返す\n",
        "print('abs(-10) -->', abs(-10))\n",
        "\n",
        "# divmod関数\n",
        "# 引数に指定した2つの数値の商と余りをタプルとして返す\n",
        "# 一度に商と余りを求めることができる\n",
        "print('divmod(7, 4) -->',  divmod(7, 4))\n",
        "\n",
        "# pow関数\n",
        "# 第一引数(数値)を第二引数(数値)乗した結果を返す\n",
        "# **演算子よりも高速に計算できる\n",
        "print('pow(7, 3) -->',  pow(7, 3))"
      ],
      "metadata": {
        "colab": {
          "base_uri": "https://localhost:8080/"
        },
        "id": "78Epbd7GcvZq",
        "outputId": "8575995c-1fe7-45c5-eda8-adf85e15dfba"
      },
      "execution_count": null,
      "outputs": [
        {
          "output_type": "stream",
          "name": "stdout",
          "text": [
            "abs(-10) --> 10\n",
            "divmod(7, 4) --> (1, 3)\n",
            "pow(7, 3) --> 343\n"
          ]
        }
      ]
    },
    {
      "cell_type": "code",
      "source": [
        "# all関数\n",
        "# 引数の全要素がTrueならば、Trueを返す\n",
        "print('all([True, True]) -->', all([True, True]))\n",
        "print('all([True, False]) -->', all([True, False]))\n",
        "\n",
        "# any関数\n",
        "# 引数のいずれかの要素がTrueならば、Trueを返す\n",
        "print('any([True, True]) -->', any([True, True]))\n",
        "print('any([True, False]) -->', any([True, False]))"
      ],
      "metadata": {
        "colab": {
          "base_uri": "https://localhost:8080/"
        },
        "id": "LjrrL0Nxd3d5",
        "outputId": "25ca5e22-2b43-4ffa-eeb9-318f862312d2"
      },
      "execution_count": null,
      "outputs": [
        {
          "output_type": "stream",
          "name": "stdout",
          "text": [
            "all([True, True]) --> True\n",
            "all([True, False]) --> False\n",
            "any([True, True]) --> True\n",
            "any([True, False]) --> True\n"
          ]
        }
      ]
    },
    {
      "cell_type": "code",
      "source": [
        "number = 81   # 10進数（整数）\n",
        "print('number -->', number)\n",
        "\n",
        "bin_number = bin(number) # 2進数に変換\n",
        "oct_number = oct(number) # 8進数に変換\n",
        "hex_number = hex(number) # 16進数に変換\n",
        "\n",
        "print('bin_number -->', bin_number)\n",
        "print('oct_number -->', oct_number)\n",
        "print('hex_number -->', hex_number)\n",
        "\n",
        "print(\"------------------------------\")\n",
        "\n",
        "hex_number = \"FF\"   # 16進数\n",
        "print('hex_number -->', hex_number)\n",
        "\n",
        "number = int(hex_number, 16) # 10進数に変換\n",
        "bin_number = bin(number) # 2進数に変換\n",
        "oct_number = oct(number) # 8進数に変換\n",
        "\n",
        "print('number -->', number)\n",
        "print('bin_number -->', bin_number)\n",
        "print('oct_number -->', oct_number)"
      ],
      "metadata": {
        "colab": {
          "base_uri": "https://localhost:8080/"
        },
        "id": "Ol9AKzJEfVv5",
        "outputId": "34ca014f-d1f3-4ad1-fec9-cfd1f2b603bd"
      },
      "execution_count": null,
      "outputs": [
        {
          "output_type": "stream",
          "name": "stdout",
          "text": [
            "number --> 81\n",
            "bin_number --> 0b1010001\n",
            "oct_number --> 0o121\n",
            "hex_number --> 0x51\n",
            "------------------------------\n",
            "hex_number --> FF\n",
            "number --> 255\n",
            "bin_number --> 0b11111111\n",
            "oct_number --> 0o377\n"
          ]
        }
      ]
    },
    {
      "cell_type": "markdown",
      "source": [
        "### 2.18 独自関数"
      ],
      "metadata": {
        "id": "Ah_T-jQJnZhj"
      }
    },
    {
      "cell_type": "markdown",
      "source": [
        "組み込み関数とは別に、関数は自分で作ることもできます（**独自関数**）。  "
      ],
      "metadata": {
        "id": "OYFYkVx9UKoO"
      }
    },
    {
      "cell_type": "markdown",
      "source": [
        "関数を自分で作れるようになると、プログラムを複数の部品に分けることができるようになります。  \n",
        "1つのプログラムを複数の部品に分けることを**部品化**といいます。メリットは以下の通りです。  \n",
        "\n",
        "- プログラム全体の見通しがよくなり、処理を把握しやすくなる\n",
        "- 機能ごとに関数を記述するため、修正範囲を限定できる\n",
        "- 何度も使う機能を関数にまとめることで、プログラミングの作業効率が上がる"
      ],
      "metadata": {
        "id": "X4qXmTOYWP2Q"
      }
    },
    {
      "cell_type": "markdown",
      "source": [
        "関数を利用するには、**定義**と**呼び出し**の2ステップが必要です。\n",
        "\n",
        "```python\n",
        "# 関数定義\n",
        "def <関数名>(<引数>, ...):\n",
        "    <関数内部の処理>\n",
        "```\n",
        "\n",
        "```python\n",
        "# 関数呼び出し\n",
        "<関数名>(<引数>, ...)\n",
        "```\n",
        "\n"
      ],
      "metadata": {
        "id": "Y4xaP0s6ntby"
      }
    },
    {
      "cell_type": "markdown",
      "source": [
        "関数を呼び出す際に、0個以上の**引数**を渡します。  \n",
        "そして、関数内部ではこれらの引数の値を利用して処理を行います。\n",
        "\n",
        "\n",
        "関数を呼び出す際、指定する引数の個数は  \n",
        "関数が定義されたときの引数の個数と一致する必要があります。"
      ],
      "metadata": {
        "id": "xJjuxqBYoMH3"
      }
    },
    {
      "cell_type": "code",
      "source": [
        "# 絶対値を求めるプログラム（関数未定義）\n",
        "x = -10\n",
        "if (x < 0):\n",
        "    y = - x\n",
        "else:\n",
        "    y = x\n",
        "print('x -->', x)\n",
        "print('y -->', y)"
      ],
      "metadata": {
        "colab": {
          "base_uri": "https://localhost:8080/"
        },
        "id": "V2TrnUlSoirK",
        "outputId": "6dd35728-0929-45d1-c2f0-11d328f69965"
      },
      "execution_count": null,
      "outputs": [
        {
          "output_type": "stream",
          "name": "stdout",
          "text": [
            "x --> -10\n",
            "y --> 10\n"
          ]
        }
      ]
    },
    {
      "cell_type": "code",
      "source": [
        "# 絶対値を求める関数の定義\n",
        "def absolute(x):\n",
        "    if (x < 0):\n",
        "        y = - x\n",
        "    else:\n",
        "        y = x\n",
        "    return y\n",
        "\n",
        "# 絶対値を求める関数の呼び出し\n",
        "x = -10\n",
        "absolute(x)\n",
        "print('x -->', x)\n",
        "print('absolute(x) -->', absolute(x))"
      ],
      "metadata": {
        "colab": {
          "base_uri": "https://localhost:8080/"
        },
        "id": "w4EYckOqozmf",
        "outputId": "cf65ecd6-cbdd-45de-dfff-cd4f77da3fcc"
      },
      "execution_count": null,
      "outputs": [
        {
          "output_type": "stream",
          "name": "stdout",
          "text": [
            "x --> -10\n",
            "absolute(x) --> 10\n"
          ]
        }
      ]
    },
    {
      "cell_type": "markdown",
      "source": [
        "\n",
        "プログラミングでは、関数を定義する際に指定した引数を「**仮引数**」と呼びます。  \n",
        "一方、関数を呼び出す際に渡す引数を「**実引数**」と呼びます。\n",
        "\n",
        "関数が評価されて返される値を「**戻り値**」と言います。  \n",
        "戻り値は通常、関数内で**`return`文**で指定された値ですが、`return`がない場合は`None`になります。"
      ],
      "metadata": {
        "id": "_DD7CbK7qbRH"
      }
    },
    {
      "cell_type": "code",
      "source": [
        "# 文字列を指定された回数だけ連続して表示する関数\n",
        "def print_word_multiple_times(word, count):\n",
        "    \"\"\"\n",
        "    word (str): 表示する文字列\n",
        "    count (int): 表示する回数\n",
        "    \"\"\"\n",
        "    for _ in range(count):\n",
        "        print(word)\n",
        "\n",
        "# 関数の使用例\n",
        "print_word_multiple_times(\"Hello\", 3)\n"
      ],
      "metadata": {
        "colab": {
          "base_uri": "https://localhost:8080/"
        },
        "id": "_Tq-LZPLvdyO",
        "outputId": "a8d9af65-11e3-4956-b697-262fd9abdaf6"
      },
      "execution_count": null,
      "outputs": [
        {
          "output_type": "stream",
          "name": "stdout",
          "text": [
            "Hello\n",
            "Hello\n",
            "Hello\n"
          ]
        }
      ]
    },
    {
      "cell_type": "markdown",
      "source": [
        "仮引数と実引数の対応を明示的に指定する場合には、以下の形式で指定します。\n",
        "\n",
        "``` python\n",
        "<関数名>(<仮引数>=<実引数>, ...)\n",
        "```\n",
        "\n",
        "この形式で渡す引数を**キーワード引数**と言います。"
      ],
      "metadata": {
        "id": "JWBUbZo5wTdD"
      }
    },
    {
      "cell_type": "code",
      "source": [
        "# キーワード引数の使用例\n",
        "print_word_multiple_times(word=\"Hello\", count=3)"
      ],
      "metadata": {
        "colab": {
          "base_uri": "https://localhost:8080/"
        },
        "id": "J171rro4wttP",
        "outputId": "59d99cf6-bab9-4e6c-9ee2-78cc640b7525"
      },
      "execution_count": null,
      "outputs": [
        {
          "output_type": "stream",
          "name": "stdout",
          "text": [
            "Hello\n",
            "Hello\n",
            "Hello\n"
          ]
        }
      ]
    },
    {
      "cell_type": "markdown",
      "source": [
        "引数(の一部)に既定値を与えておき、その引数を省略可能とすることもできます。  \n",
        "以下の形式で指定します。\n",
        "\n",
        "``` python\n",
        "def <関数名>(<引数>=<デフォルト引数>, ...):\n",
        "    <関数内部の処理>\n",
        "```\n",
        "これを**デフォルト引数**と言います。  \n",
        "関数呼び出しの際にその引数が省略された場合、既定値が使用されます。"
      ],
      "metadata": {
        "id": "N6Sq_QBUw4ou"
      }
    },
    {
      "cell_type": "code",
      "source": [
        "# 文字列を指定された回数だけ連続して表示する関数\n",
        "# デフォルト引数を定義\n",
        "def print_word_multiple_times(word=\"Hello\", count=3):\n",
        "    \"\"\"\n",
        "    word (str): 表示する文字列\n",
        "    count (int): 表示する回数\n",
        "    \"\"\"\n",
        "    for _ in range(count):\n",
        "        print(word)\n",
        "\n",
        "# キーワード引数の使用例\n",
        "# 変数countは省略\n",
        "print_word_multiple_times(word=\"Hello World!\")\n"
      ],
      "metadata": {
        "colab": {
          "base_uri": "https://localhost:8080/"
        },
        "id": "51NgNfyvxQbl",
        "outputId": "8153b822-412d-4ec0-d780-a76fda9474e5"
      },
      "execution_count": null,
      "outputs": [
        {
          "output_type": "stream",
          "name": "stdout",
          "text": [
            "Hello World!\n",
            "Hello World!\n",
            "Hello World!\n"
          ]
        }
      ]
    },
    {
      "cell_type": "markdown",
      "source": [
        "**可変長引数**とは、関数の引数の個数を指定せずに引数を渡す方法です。  \n",
        "\n",
        "仮引数に可変長引数`*args`を使うと、任意の個数の位置引数を**タプル**にまとめて  \n",
        "その仮引数にセットします。"
      ],
      "metadata": {
        "id": "pm8oyiO_27Pf"
      }
    },
    {
      "cell_type": "code",
      "source": [
        "# 「.png」のファイル名だけをリストで返す\n",
        "# 可変長引数を用いない場合\n",
        "\n",
        "def return_png(filename1, filename2):\n",
        "    png_list = []\n",
        "\n",
        "    if filename1[-4:] == \".png\":\n",
        "        png_list.append(filename1)\n",
        "\n",
        "    if filename2[-4:] == \".png\":\n",
        "        png_list.append(filename2)\n",
        "\n",
        "    return png_list\n",
        "\n",
        "print(return_png(filename1=\"image1.png\", filename2=\"image2.jpg\"))"
      ],
      "metadata": {
        "colab": {
          "base_uri": "https://localhost:8080/"
        },
        "id": "wX-tEBkr3BQ4",
        "outputId": "20fe38f3-64c6-4b72-bb61-3ae06e0d9080"
      },
      "execution_count": null,
      "outputs": [
        {
          "output_type": "stream",
          "name": "stdout",
          "text": [
            "['image1.png']\n"
          ]
        }
      ]
    },
    {
      "cell_type": "markdown",
      "source": [
        "**可変長引数`*args`**を用いることで、仮引数の数やデータ型（リストにするなど）に  \n",
        "気を使わなくて済むようになります。"
      ],
      "metadata": {
        "id": "sAyIK-sz3jw-"
      }
    },
    {
      "cell_type": "code",
      "source": [
        "# 「.png」のファイル名だけをリストで返す\n",
        "# 可変長引数を用いる場合\n",
        "\n",
        "def return_png(*args):\n",
        "    \"\"\"\n",
        "    args = [\"image1.png\", \"image2.jpg\"]\n",
        "    \"\"\"\n",
        "    png_list = []\n",
        "\n",
        "    for filename in args:\n",
        "      if filename[-4:] == \".png\":\n",
        "          png_list.append(filename)\n",
        "\n",
        "    return png_list\n",
        "\n",
        "print(return_png(\"image1.png\", \"image2.jpg\"))"
      ],
      "metadata": {
        "colab": {
          "base_uri": "https://localhost:8080/"
        },
        "id": "spel22DL4KYx",
        "outputId": "1b560b40-cccf-4faa-fd39-191b9a93259b"
      },
      "execution_count": null,
      "outputs": [
        {
          "output_type": "stream",
          "name": "stdout",
          "text": [
            "['image1.png']\n"
          ]
        }
      ]
    },
    {
      "cell_type": "markdown",
      "source": [
        "仮引数に可変長引数 `**kwargs`を使うと、キーワード引数を1個の辞書にまとめることができます。  \n",
        "引数の名前は辞書のキー、引数の値は辞書の値になります。  \n"
      ],
      "metadata": {
        "id": "qPPC3kuv41tF"
      }
    },
    {
      "cell_type": "code",
      "source": [
        "def print_country_codes(**kwargs):\n",
        "  \"\"\"\n",
        "  kwargs = {'Banana': 200, 'Lemon': 150, 'Apple': 120, 'Grape': 300}\n",
        "  \"\"\"\n",
        "\n",
        "  for country in kwargs:\n",
        "    print(f\"{country}の値段は{kwargs[country]}円です\")\n",
        "\n",
        "print_country_codes(Banana=200, Lemon=150, Apple=120, Grape=300)"
      ],
      "metadata": {
        "colab": {
          "base_uri": "https://localhost:8080/"
        },
        "id": "s1crBCLz5ECD",
        "outputId": "a5306a11-cab3-42b3-a959-55879d7f51db"
      },
      "execution_count": null,
      "outputs": [
        {
          "output_type": "stream",
          "name": "stdout",
          "text": [
            "Bananaの値段は200円です\n",
            "Lemonの値段は150円です\n",
            "Appleの値段は120円です\n",
            "Grapeの値段は300円です\n"
          ]
        }
      ]
    },
    {
      "cell_type": "markdown",
      "source": [
        "### 2.19 無名関数"
      ],
      "metadata": {
        "id": "ekvkb9yayM9F"
      }
    },
    {
      "cell_type": "markdown",
      "source": [
        "Pythonでは、名前を持たない無名関数を作成することができます。\n",
        "\n",
        "これを**lambda関数**（ラムダ関数と読む）と呼びます。"
      ],
      "metadata": {
        "id": "JEchMLQ3yT7g"
      }
    },
    {
      "cell_type": "markdown",
      "source": [
        "def文による関数定義とそれに相当するlambdaでの無名関数の対応関係は以下の通りです。\n",
        "\n",
        "``` python\n",
        "# defによる関数定義\n",
        "def <関数名>(<引数>, ...):\n",
        "    <関数内部の処理>\n",
        "```\n",
        "\n",
        "``` python\n",
        "# lambdaによる関数定義\n",
        "lambda <引数>, ... : <関数内部の処理>\n",
        "```\n",
        "\n",
        "**`def`、関数名、`return`、改行、カッコ**の5つを取ればlambda関数の完成です。"
      ],
      "metadata": {
        "id": "UIGtCS9dydWC"
      }
    },
    {
      "cell_type": "code",
      "source": [
        "# 整数かどうか判定する関数(def)\n",
        "def check_number_type(num):\n",
        "    if isinstance(num, int):\n",
        "        return \"整数\"\n",
        "    else:\n",
        "        return \"実数\"\n",
        "\n",
        "# 関数の使用例\n",
        "print('10 -->', check_number_type(10))      # Output: 整数\n",
        "print('3.14 -->', check_number_type(3.14))  # Output: 実数"
      ],
      "metadata": {
        "colab": {
          "base_uri": "https://localhost:8080/"
        },
        "id": "l4uciVns1UDm",
        "outputId": "628e5984-3d5a-4a82-dcf4-37e8f4845b5c"
      },
      "execution_count": null,
      "outputs": [
        {
          "output_type": "stream",
          "name": "stdout",
          "text": [
            "10 --> 整数\n",
            "3.14 --> 実数\n"
          ]
        }
      ]
    },
    {
      "cell_type": "code",
      "source": [
        "# 整数かどうか判定する関数(lambda)\n",
        "check_number_type_lambda = lambda num: \"整数\" if isinstance(num, int) else \"実数\"\n",
        "\n",
        "# 関数の使用例\n",
        "print('10 -->', check_number_type_lambda(10))      # Output: 整数\n",
        "print('3.14 -->', check_number_type_lambda(3.14))  # Output: 実数"
      ],
      "metadata": {
        "colab": {
          "base_uri": "https://localhost:8080/"
        },
        "id": "Jc4RE9AT1cEE",
        "outputId": "590db7c6-b886-467c-a538-2f9a53ce0c12"
      },
      "execution_count": null,
      "outputs": [
        {
          "output_type": "stream",
          "name": "stdout",
          "text": [
            "10 --> 整数\n",
            "3.14 --> 実数\n"
          ]
        }
      ]
    },
    {
      "cell_type": "markdown",
      "source": [
        "lambda関数は、一部の関数・メソッドと一緒に用いることが多いです。"
      ],
      "metadata": {
        "id": "O3xN3Nuf8V3Z"
      }
    },
    {
      "cell_type": "code",
      "source": [
        "# sorted関数\n",
        "\n",
        "fruits_dict = {'Banana': 200, 'Lemon': 150, 'Apple': 120, 'Grape': 300}\n",
        "print('fruits_dict -->', fruits_dict)\n",
        "# {'Banana': 200, 'Lemon': 150, 'Apple': 120, 'Grape': 300}\n",
        "\n",
        "# ディクショナリを値でソート\n",
        "fruits_dict = dict(sorted(fruits_dict.items(), key = lambda fruit : fruit[1]))\n",
        "\n",
        "print(\"sorted(fruits_dict.items(), key = lambda fruit : fruit[1])で更新\")\n",
        "print('fruits_dict -->', fruits_dict)\n",
        "# {'Apple': 120, 'Lemon': 150, 'Banana': 200, 'Grape': 300}\n"
      ],
      "metadata": {
        "id": "4O3rQdfh8mQ8"
      },
      "execution_count": null,
      "outputs": []
    },
    {
      "cell_type": "code",
      "source": [
        "# split()メソッド\n",
        "get_path = lambda path: path.split('/')\n",
        "\n",
        "# ファイルのpathを表示\n",
        "print(get_path('/home/user/Desktop/image.jpg'))\n",
        "# ファイル名を表示\n",
        "print(get_path('/home/user/Desktop/image.jpg')[-1])"
      ],
      "metadata": {
        "colab": {
          "base_uri": "https://localhost:8080/"
        },
        "id": "fb06OhiX845U",
        "outputId": "15ef74a7-9bdf-420f-c146-7a9879b394f7"
      },
      "execution_count": null,
      "outputs": [
        {
          "output_type": "stream",
          "name": "stdout",
          "text": [
            "['', 'home', 'user', 'Desktop', 'image.jpg']\n",
            "image.jpg\n"
          ]
        }
      ]
    },
    {
      "cell_type": "code",
      "source": [
        "# map関数\n",
        "# イテラブルのすべての要素に関数の処理を適用できる\n",
        "\n",
        "before_list = [1, 2, 3, 4, 5]\n",
        "print('before_list -->', before_list)\n",
        "\n",
        "after_list = map(lambda n:n*n , before_list)  # 引数の中でlambda\n",
        "print('after_list -->', list(after_list))     # リスト型に変換して出力"
      ],
      "metadata": {
        "colab": {
          "base_uri": "https://localhost:8080/"
        },
        "id": "ivstFucU99fs",
        "outputId": "5b7c16ae-15d8-4329-cac6-485b58de8c9b"
      },
      "execution_count": null,
      "outputs": [
        {
          "output_type": "stream",
          "name": "stdout",
          "text": [
            "before_list --> [1, 2, 3, 4, 5]\n",
            "after_list --> [1, 4, 9, 16, 25]\n"
          ]
        }
      ]
    },
    {
      "cell_type": "code",
      "source": [
        "# filter関数\n",
        "# イテラブルから、条件に当てはまる要素を抽出できる\n",
        "# 第一引数に抽出条件を設定した関数を指定する\n",
        "\n",
        "scores = [58, 89, 62, 50, 78]\n",
        "print('before_list -->', before_list)\n",
        "\n",
        "\n",
        "passed_scores = filter(lambda n: n >= 60, scores)  # 引数の中でlambda\n",
        "print('passed_scores -->', list(passed_scores))    # リスト型に変換して出力"
      ],
      "metadata": {
        "colab": {
          "base_uri": "https://localhost:8080/"
        },
        "id": "cdq3gYli-5RK",
        "outputId": "b501372f-f0e8-4a83-953a-15bfcd7582e3"
      },
      "execution_count": null,
      "outputs": [
        {
          "output_type": "stream",
          "name": "stdout",
          "text": [
            "before_list --> [1, 2, 3, 4, 5]\n",
            "passed_scores --> [89, 62, 78]\n"
          ]
        }
      ]
    },
    {
      "cell_type": "markdown",
      "source": [
        "### 2.20 ローカル変数とグローバル変数"
      ],
      "metadata": {
        "id": "-HA64q1UImpR"
      }
    },
    {
      "cell_type": "markdown",
      "source": [
        "関数内で準備された変数（**ローカル変数**）は、その関数の中でしか読み書きできません。  \n",
        "このようなローカル変数の性質を**独立性**といいます。"
      ],
      "metadata": {
        "id": "Yp40XDpXIrZU"
      }
    },
    {
      "cell_type": "code",
      "source": [
        "# 変数greetはローカル変数\n",
        "\n",
        "def hello():\n",
        "  greet = \"Hello\"\n",
        "  print('greet -->', greet)\n",
        "\n",
        "hello()\n",
        "# print(greet)  # 変数greetは利用できない"
      ],
      "metadata": {
        "colab": {
          "base_uri": "https://localhost:8080/"
        },
        "id": "gknSQzpNItGd",
        "outputId": "d4e7ccc6-808c-4f5d-ca51-5b8801230be6"
      },
      "execution_count": null,
      "outputs": [
        {
          "output_type": "stream",
          "name": "stdout",
          "text": [
            "greet --> Hello\n"
          ]
        }
      ]
    },
    {
      "cell_type": "markdown",
      "source": [
        "どの関数にも属さない場所で定義された変数を、ローカル変数に対し**グローバル変数**といいます。  \n",
        "**すべての関数から参照してデータを利用することができます。**  \n",
        "※同名のローカル変数がある場合は、ローカル変数が優先して利用されます。"
      ],
      "metadata": {
        "id": "YpUpyRmQIyt5"
      }
    },
    {
      "cell_type": "code",
      "source": [
        "# 変数greetはグローバル変数\n",
        "\n",
        "greet = \"Hello\"\n",
        "\n",
        "def hello():\n",
        "  print('greet -->', greet)\n",
        "\n",
        "hello()"
      ],
      "metadata": {
        "colab": {
          "base_uri": "https://localhost:8080/"
        },
        "id": "4c5t_WFrI3d_",
        "outputId": "6b7e6f49-fa3e-46f8-9402-299aee61519c"
      },
      "execution_count": null,
      "outputs": [
        {
          "output_type": "stream",
          "name": "stdout",
          "text": [
            "greet --> Hello\n"
          ]
        }
      ]
    },
    {
      "cell_type": "markdown",
      "source": [
        "関数内でグローバル変数を定義する際には、**`global`キーワード**を使用します。\n",
        "\n",
        "これによって、関数内での変数の参照や代入が  \n",
        "グローバルスコープの変数に対して行われることを示します。"
      ],
      "metadata": {
        "id": "XYR2XAvUJzyq"
      }
    },
    {
      "cell_type": "code",
      "source": [
        "# 変数greetはglobalキーワード\n",
        "\n",
        "greet = \"Hello\"\n",
        "\n",
        "def hello():\n",
        "  global greet  # 関数内でグローバル変数xを使用することを示す\n",
        "\n",
        "  greet = \"Hello World!\"\n",
        "  print('greet -->', greet)\n",
        "\n",
        "hello()"
      ],
      "metadata": {
        "colab": {
          "base_uri": "https://localhost:8080/"
        },
        "id": "9_tKkbdUJ71C",
        "outputId": "620d83bf-44a6-4129-99c4-30457ee94eaa"
      },
      "execution_count": null,
      "outputs": [
        {
          "output_type": "stream",
          "name": "stdout",
          "text": [
            "greet --> Hello World!\n"
          ]
        }
      ]
    },
    {
      "cell_type": "markdown",
      "source": [
        "## 3 Python文法(発展)"
      ],
      "metadata": {
        "id": "mt1aDcdUGSbf"
      }
    },
    {
      "cell_type": "markdown",
      "metadata": {
        "id": "B3iosWQG4Z3O"
      },
      "source": [
        "### 3.1 モジュールとライブラリ\n"
      ]
    },
    {
      "cell_type": "markdown",
      "metadata": {
        "id": "NbnOCIZV4bwN"
      },
      "source": [
        "Pythonでは、他の開発者が用意してくれた変数や関数、クラスを  \n",
        "自由に自分のプログラムに取り入れることができます。  \n",
        "\n"
      ]
    },
    {
      "cell_type": "markdown",
      "metadata": {
        "id": "MSDw_IME404d"
      },
      "source": [
        "**モジュール**は、別のプログラムに取り込んで使うことを前提として、  \n",
        "ある機能をひとまとめにした1つのファイルを指す言葉です。  \n",
        "関連した機能ごとに、変数や関数などの細かな部品を集めた1つの大きな部品と捉えることができます。"
      ]
    },
    {
      "cell_type": "markdown",
      "metadata": {
        "id": "x0msabX04viN"
      },
      "source": [
        "モジュールを複数まとめたものを**パッケージ**と言い、さらにパッケージをまとめたものを**ライブラリ**と言います。\n",
        "モジュールは、開発した人によって2種類のライブラリに属しています。"
      ]
    },
    {
      "cell_type": "markdown",
      "metadata": {
        "id": "v-DiZ77U_WnG"
      },
      "source": [
        "**標準ライブラリ**とは、Pythonが公式に用意したモジュールのまとまりです。  \n",
        "各モジュールには、特定の用途ごとに役立つ変数や関数、クラスが定義されています。\n",
        "\n",
        "|モジュール|用途|\n",
        "|:---| :--- |\n",
        "|mathモジュール|数学計算に関する処理|\n",
        "|randomモジュール|乱数に関する処理|\n",
        "|csvモジュール|CSVファイルに関する処理|\n",
        "|jsonモジュール|JSONファイルに関する処理|\n",
        "|osモジュール|OS操作に関する処理|"
      ]
    },
    {
      "cell_type": "markdown",
      "metadata": {
        "id": "9LvkJUqxAtQa"
      },
      "source": [
        "目的に合ったモジュールを取り込んで、定義されている関数などを利用することで、  \n",
        "専門的な知識がなくても高度な処理を実現することができるようになります。  \n"
      ]
    },
    {
      "cell_type": "markdown",
      "source": [
        "Pythonではimportすることでモジュールを読み込むことができます。\n",
        "\n",
        "``` python\n",
        "# モジュールの取り込み\n",
        "import <モジュール名>\n",
        "```"
      ],
      "metadata": {
        "id": "OoMiuetfNSJ4"
      }
    },
    {
      "cell_type": "markdown",
      "source": [
        "importすると、そのプログラムファイルで定義された変数・関数・クラスを利用することができます。  \n",
        "importしていないものは利用することができません。\n",
        "\n",
        "``` python\n",
        "# モジュールが持つ変数・関数・クラスの呼び出し\n",
        "<モジュール名>.<変数名/関数名/クラス名>\n",
        "```"
      ],
      "metadata": {
        "id": "dOlpjyBxORee"
      }
    },
    {
      "cell_type": "code",
      "execution_count": null,
      "metadata": {
        "id": "53Bkxl7nBPk6",
        "colab": {
          "base_uri": "https://localhost:8080/"
        },
        "outputId": "1af00b92-c955-4c75-97ab-344a021053f4"
      },
      "outputs": [
        {
          "output_type": "stream",
          "name": "stdout",
          "text": [
            "円周率は3.141592653589793です\n",
            "小数点以下を切り捨てれば3です\n",
            "小数点以下を切り上げれば4です\n"
          ]
        }
      ],
      "source": [
        "# mathモジュールの利用\n",
        "import math\n",
        "\n",
        "# 変数pi（円周率）を参照\n",
        "print(\"円周率は{}です\".format(math.pi))\n",
        "\n",
        "# floor関数(小数点以下で切り捨て)を参照\n",
        "print(\"小数点以下を切り捨てれば{}です\".format(math.floor(math.pi)))\n",
        "\n",
        "# ceil関数(小数点以下で切り上げ)を参照\n",
        "print(\"小数点以下を切り上げれば{}です\".format(math.ceil(math.pi)))"
      ]
    },
    {
      "cell_type": "markdown",
      "source": [
        "組み込んだモジュールに別の名前を付けることもできます。\n",
        "\n",
        "``` python\n",
        "# 別名を付けたモジュールの利用\n",
        "import モジュール名 as 別名\n",
        "```"
      ],
      "metadata": {
        "id": "iq2mfvHnORZ1"
      }
    },
    {
      "cell_type": "code",
      "execution_count": null,
      "metadata": {
        "id": "emJYaab7DpUG",
        "colab": {
          "base_uri": "https://localhost:8080/"
        },
        "outputId": "32ca5c51-6bb3-46fb-9b74-1e324618fc27"
      },
      "outputs": [
        {
          "output_type": "stream",
          "name": "stdout",
          "text": [
            "円周率は3.141592653589793です\n",
            "小数点以下を切り捨てれば3です\n",
            "小数点以下を切り上げれば4です\n"
          ]
        }
      ],
      "source": [
        "# mathモジュールをmとしてインポートする\n",
        "import math as m\n",
        "\n",
        "# 円周率を表示する\n",
        "print(\"円周率は{}です\".format(m.pi))\n",
        "\n",
        "# 小数点以下を切り捨てた値を表示する\n",
        "print(\"小数点以下を切り捨てれば{}です\".format(m.floor(m.pi)))\n",
        "\n",
        "# 小数点以下を切り上げた値を表示する\n",
        "print(\"小数点以下を切り上げれば{}です\".format(m.ceil(m.pi)))"
      ]
    },
    {
      "cell_type": "markdown",
      "source": [
        "モジュール全体ではなく、モジュールから特定の変数や関数だけを取り込むこともできます。\n",
        "\n",
        "``` python\n",
        "# 特定の変数・関数・クラスのみを取り込む\n",
        "from <モジュール名> import <変数名/関数名/クラス名>\n",
        "```"
      ],
      "metadata": {
        "id": "J6XuMKPLPFkT"
      }
    },
    {
      "cell_type": "markdown",
      "source": [
        "モジュールと同様に、`as`を使用して取り込んだ変数・関数・クラスに別名を付けることができます。\n",
        "\n",
        "``` python\n",
        "# 特定の変数・関数・クラスを別名で取り込む\n",
        "from <モジュール名> import <変数名/関数名/クラス名>\n",
        "```\n",
        "\n",
        "別名を付けることによって名前の重複を避けることができますが、  \n",
        "別名があまりにも多すぎると逆に混乱することがあるので注意が必要です。"
      ],
      "metadata": {
        "id": "5bXoG311Ue-4"
      }
    },
    {
      "cell_type": "code",
      "execution_count": null,
      "metadata": {
        "id": "eG3EIcB8GxyG",
        "colab": {
          "base_uri": "https://localhost:8080/"
        },
        "outputId": "99ee31b1-86ec-4e8c-c35a-5da74809536c"
      },
      "outputs": [
        {
          "output_type": "stream",
          "name": "stdout",
          "text": [
            "円周率は3.141592653589793です\n",
            "小数点以下を切り捨てれば3です\n"
          ]
        }
      ],
      "source": [
        "# mathモジュールから円周率(pi)をcircle_ratioという別名でインポートする\n",
        "from math import pi as circle_ratio\n",
        "\n",
        "# mathモジュールからfloor関数をround_downという別名でインポートする\n",
        "from math import floor as round_down\n",
        "\n",
        "# 円周率を表示する\n",
        "print(\"円周率は{}です\".format(circle_ratio))\n",
        "\n",
        "# 小数点以下を切り捨てた値を表示する\n",
        "print(\"小数点以下を切り捨てれば{}です\".format(round_down(circle_ratio)))"
      ]
    },
    {
      "cell_type": "markdown",
      "metadata": {
        "id": "1PzPiHn9HYr-"
      },
      "source": [
        "import文は、一般的にはプログラムの先頭にまとめて書くことが推奨されています。  \n",
        "取り込んでいる変数・関数・クラスを把握しやすくするためです。"
      ]
    },
    {
      "cell_type": "markdown",
      "source": [
        "**外部ライブラリ**とは、Pythonとは別の組織や個人が用意したモジュールのまとまりです。  \n",
        "膨大な数が存在しますが、その多くは標準ライブラリよりもさらに用途を絞り込んだものとなっています。"
      ],
      "metadata": {
        "id": "XDGWK6Fy8Nj3"
      }
    },
    {
      "cell_type": "markdown",
      "source": [
        "外部ライブラリには、標準ライブラリに用意されたモジュールよりも  \n",
        "高度な処理を行うことができるという特徴があります。  \n",
        "\n",
        "代表的な外部ライブラリには、以下のようなものがあります。\n",
        "\n"
      ],
      "metadata": {
        "id": "8kiTAX88ILZU"
      }
    },
    {
      "cell_type": "markdown",
      "source": [
        "|モジュール|用途|\n",
        "|:---| :--- |\n",
        "|matplotlib|データの可視化|\n",
        "|seaborn|データの可視化|\n",
        "|Pandas|データ解析|\n",
        "|Numpy|ベクトル・行列計算|\n",
        "|Scipy|科学技術計算|\n",
        "|scikit-learn|機械学習|\n",
        "|TensorFlow|深層学習|\n",
        "|requests|Ｗebアクセス|\n"
      ],
      "metadata": {
        "id": "KyPbjWgn8UCk"
      }
    },
    {
      "cell_type": "markdown",
      "source": [
        "今回使っているGoogle Colaboratoryでは、よく使われるライブラリが最初から入っています。  \n",
        "\n",
        "ここでは`seaborn`というライブラリをインポートして、簡単なグラフを表示してみましょう。"
      ],
      "metadata": {
        "id": "Rbe_iG0KKeNo"
      }
    },
    {
      "cell_type": "code",
      "source": [
        "import seaborn as sns\n",
        "\n",
        "iris = sns.load_dataset(\"iris\")\n",
        "sns.pairplot(iris)"
      ],
      "metadata": {
        "id": "_yS5l0hQK2qQ",
        "colab": {
          "base_uri": "https://localhost:8080/",
          "height": 742
        },
        "outputId": "5cea6996-f48f-42b1-b2dd-1851dab3c45a"
      },
      "execution_count": null,
      "outputs": [
        {
          "output_type": "execute_result",
          "data": {
            "text/plain": [
              "<seaborn.axisgrid.PairGrid at 0x7efddd47d310>"
            ]
          },
          "metadata": {},
          "execution_count": 11
        },
        {
          "output_type": "display_data",
          "data": {
            "text/plain": [
              "<Figure size 720x720 with 20 Axes>"
            ],
            "image/png": "[encoded data removed]"
          },
          "metadata": {
            "needs_background": "light"
          }
        }
      ]
    },
    {
      "cell_type": "markdown",
      "source": [
        "今回`seaborn`の別名として`as`で**`sns`**と指定しました。  \n",
        "このように、主要なライブラリには、だいたい`as`で指定する名前が決まっています。  \n",
        "\n",
        "|モジュール|別名|\n",
        "|:---| :--- |\n",
        "|matplotlib.pyplot|plt|\n",
        "|seaborn|sns|\n",
        "|Pandas|pd|\n",
        "|Numpy|np|\n",
        "|scikit-learn|svm|\n",
        "|TensorFlow|tf|"
      ],
      "metadata": {
        "id": "ucM4b3PPLBzP"
      }
    },
    {
      "cell_type": "markdown",
      "source": [
        "すべてのライブラリがGoogle Colaboratoryに入っているわけではありません。\n",
        "\n",
        "導入されていないライブラリを使うには、pipコマンドを用いて、自分でライブラリをインストールします。\n",
        "\n",
        "``` python\n",
        "# ライブラリのインストール\n",
        "pip install <ライブラリ名>\n",
        "```"
      ],
      "metadata": {
        "id": "pOecKew5VfTd"
      }
    },
    {
      "cell_type": "code",
      "source": [
        "# wikipediaライブラリをインストール\n",
        "# GoogleColabの場合先頭に「!」が必要\n",
        "! pip install wikipedia"
      ],
      "metadata": {
        "id": "XyIVfsSYNc6U",
        "colab": {
          "base_uri": "https://localhost:8080/"
        },
        "outputId": "e28b08a8-a59e-4b46-b236-533f382c1767"
      },
      "execution_count": null,
      "outputs": [
        {
          "output_type": "stream",
          "name": "stdout",
          "text": [
            "Looking in indexes: https://pypi.org/simple, https://us-python.pkg.dev/colab-wheels/public/simple/\n",
            "Collecting wikipedia\n",
            "  Downloading wikipedia-1.4.0.tar.gz (27 kB)\n",
            "  Preparing metadata (setup.py) ... \u001b[?25l\u001b[?25hdone\n",
            "Requirement already satisfied: beautifulsoup4 in /usr/local/lib/python3.8/dist-packages (from wikipedia) (4.6.3)\n",
            "Requirement already satisfied: requests<3.0.0,>=2.0.0 in /usr/local/lib/python3.8/dist-packages (from wikipedia) (2.25.1)\n",
            "Requirement already satisfied: urllib3<1.27,>=1.21.1 in /usr/local/lib/python3.8/dist-packages (from requests<3.0.0,>=2.0.0->wikipedia) (1.24.3)\n",
            "Requirement already satisfied: idna<3,>=2.5 in /usr/local/lib/python3.8/dist-packages (from requests<3.0.0,>=2.0.0->wikipedia) (2.10)\n",
            "Requirement already satisfied: certifi>=2017.4.17 in /usr/local/lib/python3.8/dist-packages (from requests<3.0.0,>=2.0.0->wikipedia) (2022.12.7)\n",
            "Requirement already satisfied: chardet<5,>=3.0.2 in /usr/local/lib/python3.8/dist-packages (from requests<3.0.0,>=2.0.0->wikipedia) (4.0.0)\n",
            "Building wheels for collected packages: wikipedia\n",
            "  Building wheel for wikipedia (setup.py) ... \u001b[?25l\u001b[?25hdone\n",
            "  Created wheel for wikipedia: filename=wikipedia-1.4.0-py3-none-any.whl size=11695 sha256=9b61e6c1ccfddda21615ecf9ec0155742e560d70e9165f4b0cfa8ce63371d55e\n",
            "  Stored in directory: /root/.cache/pip/wheels/07/93/05/72c05349177dca2e0ba31a33ba4f7907606f7ddef303517c6a\n",
            "Successfully built wikipedia\n",
            "Installing collected packages: wikipedia\n",
            "Successfully installed wikipedia-1.4.0\n"
          ]
        }
      ]
    },
    {
      "cell_type": "code",
      "source": [
        "# wikipediaライブラリをインポート\n",
        "import wikipedia\n",
        "\n",
        "wikipedia.set_lang('ja')\n",
        "wikipedia.search(\"Python\")"
      ],
      "metadata": {
        "id": "F5N-ljKyNfrK",
        "colab": {
          "base_uri": "https://localhost:8080/"
        },
        "outputId": "3fa7c703-38f9-4d7a-c4f5-08d0c49a257f"
      },
      "execution_count": null,
      "outputs": [
        {
          "output_type": "execute_result",
          "data": {
            "text/plain": [
              "['Python',\n",
              " 'モンティ・パイソン',\n",
              " 'IDLE (Python)',\n",
              " 'KML',\n",
              " 'Stackless Python',\n",
              " 'Eric Python IDE',\n",
              " 'Anaconda (Pythonディストリビューション)',\n",
              " 'Blender',\n",
              " 'Ruby',\n",
              " 'PyQt']"
            ]
          },
          "metadata": {},
          "execution_count": 13
        }
      ]
    },
    {
      "cell_type": "code",
      "source": [
        "r = wikipedia.page('Python').url\n",
        "print(r)"
      ],
      "metadata": {
        "id": "9bTh9t0qNn_b",
        "colab": {
          "base_uri": "https://localhost:8080/"
        },
        "outputId": "c742f727-04f1-4cc4-ed7d-9b819fc04409"
      },
      "execution_count": null,
      "outputs": [
        {
          "output_type": "stream",
          "name": "stdout",
          "text": [
            "https://ja.wikipedia.org/wiki/Python\n"
          ]
        }
      ]
    },
    {
      "cell_type": "markdown",
      "source": [
        "### 3.2 クラス"
      ],
      "metadata": {
        "id": "1rrYYg2IjMNw"
      }
    },
    {
      "cell_type": "markdown",
      "source": [
        "機能や状態を1つにまとめて**クラス**とし、  \n",
        "プログラムの内部構造をモノの集まりとしてとらえる考え方を**オブジェクト指向**といいます。"
      ],
      "metadata": {
        "id": "0bNRWsgX_ri8"
      }
    },
    {
      "cell_type": "markdown",
      "source": [
        "クラスは機能や状態を定義するいわゆる「設計図」です。  \n",
        "クラスを使うと新しいデータ型を作ることができます。\n",
        "    \n",
        "以下の形式で定義できます。\n",
        "\n",
        "``` python\n",
        "# クラスの定義\n",
        "class <クラス名>\n",
        "    <クラスの処理>\n",
        "```"
      ],
      "metadata": {
        "id": "xkUko0l9jTPJ"
      }
    },
    {
      "cell_type": "code",
      "source": [
        "# 空のクラス\n",
        "# 後で機能や属性を追加することが想定されている\n",
        "class SampleClass:\n",
        "    pass"
      ],
      "metadata": {
        "id": "XKd9XkKuj65G"
      },
      "execution_count": null,
      "outputs": []
    },
    {
      "cell_type": "markdown",
      "source": [
        "クラス名の命名規則には**UpperCamelCase**と呼ばれるスタイルを適用します。  \n",
        "これは単語の先頭を大文字で表記し、単語の間にアンダースコアを使用しない書き方です。"
      ],
      "metadata": {
        "id": "yzibOALell0U"
      }
    },
    {
      "cell_type": "markdown",
      "source": [
        "クラスは単なる設計図であり、オブジェクトにはまだなっていません。  \n",
        "クラスからオブジェクトを作る（実体化する）ことを**インスタンス化**といいます。\n",
        "\n",
        "``` python\n",
        "# インスタンス化\n",
        "<インスタンス> = <クラス名>()\n",
        "```\n",
        "\n",
        "クラスから生成されたオブジェクトを、特に**インスタンス**と呼びます。"
      ],
      "metadata": {
        "id": "hlqQGDCVmTjX"
      }
    },
    {
      "cell_type": "code",
      "source": [
        "# 空クラス\n",
        "class SampleClass:\n",
        "    pass\n",
        "\n",
        "sample = SampleClass()  # 実行しても変化はない"
      ],
      "metadata": {
        "id": "kdc2w0cGnLyY"
      },
      "execution_count": null,
      "outputs": []
    },
    {
      "cell_type": "markdown",
      "source": [
        "クラス内で定義される変数を**属性**、  \n",
        "クラス内で定義される関数を**メソッド**といいます。\n",
        "\n"
      ],
      "metadata": {
        "id": "SytndQiPnyo7"
      }
    },
    {
      "cell_type": "markdown",
      "source": [
        "メソッドの引数には**`self`**が必要です。\n",
        "\n",
        "これはクラス自身、すなわち**インスタンス**を指します。  \n",
        "メソッドを定義する場合、引数には最低限`self`が必要になります。\n",
        "\n",
        "`self`と書かなくてもいいのですが、Pythonでは慣習として`self`と記述します。"
      ],
      "metadata": {
        "id": "0EqM2QQSqEdu"
      }
    },
    {
      "cell_type": "code",
      "source": [
        "# クラスCountryの定義\n",
        "class Country:\n",
        "  def set_data(self, name, number, code):  # メソッドset_dataの定義\n",
        "    # 属性定義\n",
        "    self.name = name\n",
        "    self.number = number\n",
        "    self.code = code\n",
        "\n",
        "japan = Country()  # インスタンス化\n",
        "\n",
        "japan.set_data(\"Japan\", 81, \"392\")  # メソッドの呼び出し\n",
        "print(\"{}の国名コードは{}です\".format(japan.name, japan.code))  # 属性の呼び出し"
      ],
      "metadata": {
        "colab": {
          "base_uri": "https://localhost:8080/"
        },
        "id": "NOnzOGqeodZk",
        "outputId": "52422fbf-54a0-4319-9364-690c70cfcc29"
      },
      "execution_count": null,
      "outputs": [
        {
          "output_type": "stream",
          "name": "stdout",
          "text": [
            "Japanの国名コードは392です\n"
          ]
        }
      ]
    },
    {
      "cell_type": "markdown",
      "source": [
        "インスタンスは複数生成することができます。"
      ],
      "metadata": {
        "id": "zlexGk3pmjZC"
      }
    },
    {
      "cell_type": "code",
      "source": [
        "japan = Country()  # インスタンス化\n",
        "\n",
        "japan.set_data(\"Japan\", 81, \"392\")   # メソッドの呼び出し\n",
        "print(\"{}の国名コードは{}です\".format(japan.name, japan.code))  # 属性の呼び出し\n",
        "\n",
        "america = Country()  # インスタンス化\n",
        "\n",
        "america.set_data(\"America\", 1, \"840\")  # メソッドの呼び出し\n",
        "print(\"{}の国名コードは{}です\".format(america.name, america.code))  # 属性の呼び出し"
      ],
      "metadata": {
        "colab": {
          "base_uri": "https://localhost:8080/"
        },
        "id": "DEhGiaYnmqik",
        "outputId": "493d97f3-2bb1-4ab7-c364-2f72b751922d"
      },
      "execution_count": null,
      "outputs": [
        {
          "output_type": "stream",
          "name": "stdout",
          "text": [
            "Japanの国名コードは392です\n",
            "Americaの国名コードは840です\n"
          ]
        }
      ]
    },
    {
      "cell_type": "markdown",
      "source": [
        "国名とその国番号を出力する`output`メソッドを作成してみましょう。"
      ],
      "metadata": {
        "id": "bjqHw1wHnGWL"
      }
    },
    {
      "cell_type": "code",
      "source": [
        "class Country:\n",
        "  def set_data(self, name, number, code):\n",
        "    self.name = name\n",
        "    self.number = number\n",
        "    self.code = code\n",
        "\n",
        "  def output(self):\n",
        "    print(\"{}の国名コードは{}です\".format(self.name, self.code))\n",
        "\n",
        "japan = Country()  # インスタンス化\n",
        "\n",
        "japan.set_data(\"Japan\", 81, \"392\")  # メソッドの呼び出し\n",
        "japan.output()  # メソッドの呼び出し"
      ],
      "metadata": {
        "colab": {
          "base_uri": "https://localhost:8080/"
        },
        "id": "dDtd1HUAKczY",
        "outputId": "913b3350-ebe4-4e2e-dbbb-ad23d352c60d"
      },
      "execution_count": null,
      "outputs": [
        {
          "output_type": "stream",
          "name": "stdout",
          "text": [
            "Japanの国名コードは392です\n"
          ]
        }
      ]
    },
    {
      "cell_type": "markdown",
      "source": [
        "クラスをインスタンス化したときに自動的に実行される特殊なメソッドを  \n",
        "**コンストラクタ**と呼びます。\n",
        "\n",
        "``` python\n",
        "def __init__(self, <引数>):\n",
        "    <処理>\n",
        "```\n",
        "インスタンスの作成と属性の設定を同時に行うことができます。  \n",
        "コンストラクタは呼び出さなくても、インスタンス化時に自動で実行されます。"
      ],
      "metadata": {
        "id": "eNH4vU8nrpjU"
      }
    },
    {
      "cell_type": "code",
      "source": [
        "class Country:\n",
        "  def __init__(self, name, number, code):\n",
        "    self.name = name\n",
        "    self.number = number\n",
        "    self.code = code\n",
        "\n",
        "  def output(self):\n",
        "    print(\"{}の国名コードは{}です\".format(self.name, self.code))\n",
        "\n",
        "# インスタンス化\n",
        "# コンストラクタが実行される\n",
        "japan = Country(\"Japan\", 81, \"392\")\n",
        "japan.output()  # メソッドの呼び出し"
      ],
      "metadata": {
        "colab": {
          "base_uri": "https://localhost:8080/"
        },
        "id": "wA9Jr6b2sD1P",
        "outputId": "63b09de7-c5f5-4ef1-bc78-42452eca6eb6"
      },
      "execution_count": null,
      "outputs": [
        {
          "output_type": "stream",
          "name": "stdout",
          "text": [
            "Japanの国名コードは392です\n"
          ]
        }
      ]
    },
    {
      "cell_type": "markdown",
      "source": [
        "インスタンスに紐づいている変数を**インスタンス変数**といいます。  \n",
        "インスタンス変数は他のインスタンスからアクセスすることが出ません。\n",
        "\n",
        "また、インスタンス変数はこれまでと同じ要領で更新することができます。"
      ],
      "metadata": {
        "id": "NuvGo_mDlMtN"
      }
    },
    {
      "cell_type": "code",
      "source": [
        "class Gakka:\n",
        "  def __init__(self, name, number, code):\n",
        "    self.name = name      # インスタンス変数\n",
        "    self.number = number  # インスタンス変数\n",
        "    self.code = code        # インスタンス変数\n",
        "\n",
        "japan = Country(\"Japan\", 81, \"392\")\n",
        "print(\"{}の国名コードは{}です\".format(japan.name, japan.code))  # 更新前\n",
        "\n",
        "japan.code = \"JPN\"  # インスタンス変数の更新\n",
        "\n",
        "print(\"{}の国名コードは{}です\".format(japan.name, japan.code))  # 更新後"
      ],
      "metadata": {
        "id": "Ywdnm3tflMU1",
        "colab": {
          "base_uri": "https://localhost:8080/"
        },
        "outputId": "f8047fbc-b150-4d49-a402-226841d0afab"
      },
      "execution_count": null,
      "outputs": [
        {
          "output_type": "stream",
          "name": "stdout",
          "text": [
            "Japanの国名コードは392です\n",
            "Japanの国名コードはJPNです\n"
          ]
        }
      ]
    },
    {
      "cell_type": "markdown",
      "source": [
        "インスタンスに紐づいていない変数を**クラス変数**といいます。\n",
        "\n",
        "お互いに同じクラスからインスタンス化されたインスタンスであれば、  \n",
        "他のインスタンスからクラス変数にアクセスすることができます。"
      ],
      "metadata": {
        "id": "b2lYJPhipTDu"
      }
    },
    {
      "cell_type": "code",
      "source": [
        "import time\n",
        "\n",
        "class Country:\n",
        "    now_year = time.localtime().tm_year  # クラス変数\n",
        "\n",
        "    def __init__(self, name, number, code):\n",
        "        self.name = name      # インスタンス変数\n",
        "        self.number = number  # インスタンス変数\n",
        "        self.code = code      # インスタンス変数"
      ],
      "metadata": {
        "id": "akIE4mgVqNuv"
      },
      "execution_count": null,
      "outputs": []
    },
    {
      "cell_type": "code",
      "source": [
        "japan = Country(\"Japan\", 81, \"392\")\n",
        "print(\"{}は{}年に存在する国です\" .format(japan.name, japan.now_year))\n",
        "print(\"{}の国名コードは{}です\" .format(japan.name, japan.code))\n",
        "\n",
        "america = Country(\"America\", 1, \"840\")\n",
        "print(\"{}は{}年に存在する国です\" .format(america.name, america.now_year))\n",
        "print(\"{}の国名コードは{}です\" .format(america.name, america.code))"
      ],
      "metadata": {
        "colab": {
          "base_uri": "https://localhost:8080/"
        },
        "id": "UnnaBoOdqoiF",
        "outputId": "4860e0e0-d1e1-4230-83ef-a0e0b0630154"
      },
      "execution_count": null,
      "outputs": [
        {
          "output_type": "stream",
          "name": "stdout",
          "text": [
            "Japanは2024年に存在する国です\n",
            "Japanの国名コードは392です\n",
            "Americaは2024年に存在する国です\n",
            "Americaの国名コードは840です\n"
          ]
        }
      ]
    },
    {
      "cell_type": "markdown",
      "source": [
        "クラス変数に限り、クラス名を指定してアクセスすることもできます。"
      ],
      "metadata": {
        "id": "g7pZk5uXrRJK"
      }
    },
    {
      "cell_type": "code",
      "source": [
        "print(\"現在は{}年です\".format(Country.now_year))  # クラス名で属性呼び出し"
      ],
      "metadata": {
        "colab": {
          "base_uri": "https://localhost:8080/"
        },
        "id": "k8WlQkyfrXUj",
        "outputId": "52f30cfa-8c5c-458c-a9e4-e70a50bd4903"
      },
      "execution_count": null,
      "outputs": [
        {
          "output_type": "stream",
          "name": "stdout",
          "text": [
            "現在は2024年です\n"
          ]
        }
      ]
    },
    {
      "cell_type": "markdown",
      "source": [
        "クラス変数の値を変更したいときは、基本的にクラス名を指定します。"
      ],
      "metadata": {
        "id": "9j88j34Rr7u7"
      }
    },
    {
      "cell_type": "code",
      "source": [
        "Country.now_year = 2124\n",
        "\n",
        "print(\"現在は{}年です\".format(Country.now_year))  # クラス名で属性呼び出し"
      ],
      "metadata": {
        "colab": {
          "base_uri": "https://localhost:8080/"
        },
        "id": "xTkdr9VrsBBR",
        "outputId": "962db12c-777e-45e7-db42-c37f5fa0ec76"
      },
      "execution_count": null,
      "outputs": [
        {
          "output_type": "stream",
          "name": "stdout",
          "text": [
            "現在は2124年です\n"
          ]
        }
      ]
    },
    {
      "cell_type": "markdown",
      "source": [
        "何回インスタンス化を行われたかを管理するクラス変数`count`を定義してみます。"
      ],
      "metadata": {
        "id": "LV5Uu8rwspSZ"
      }
    },
    {
      "cell_type": "code",
      "source": [
        "class Country:\n",
        "    # クラス変数\n",
        "    now_year = time.localtime().tm_year\n",
        "    count = 0\n",
        "\n",
        "    def __init__(self, name, number, code):\n",
        "        self.name = name\n",
        "        self.number = number\n",
        "        self.code = code\n",
        "        Country.count += 1  # インスタンス化時にカウントをプラスする"
      ],
      "metadata": {
        "id": "H9S5Nv6Gsy9w"
      },
      "execution_count": null,
      "outputs": []
    },
    {
      "cell_type": "code",
      "source": [
        "japan = Country(\"Japan\", 81, \"392\")\n",
        "print(\"{}回目の呼び出し\".format(Country.count))\n",
        "\n",
        "america = Country(\"America\", 1, \"840\")\n",
        "print(\"{}回目の呼び出し\".format(Country.count))"
      ],
      "metadata": {
        "colab": {
          "base_uri": "https://localhost:8080/"
        },
        "id": "RW3Dc80Us23I",
        "outputId": "afa6f089-75ee-4da6-a58b-6845f1c5ae8a"
      },
      "execution_count": null,
      "outputs": [
        {
          "output_type": "stream",
          "name": "stdout",
          "text": [
            "1回目の呼び出し\n",
            "2回目の呼び出し\n"
          ]
        }
      ]
    },
    {
      "cell_type": "markdown",
      "source": [
        "「作成したクラスの機能を、別のクラスでも使いたい」といったときに、  \n",
        "クラスの**継承**という仕組みを用います。\n",
        "\n",
        "他で作成したクラスのメソッドや値を受け継ぎつつ、メソッド等の編集・追加が行えるようになります。\n",
        "\n",
        "``` python\n",
        "# クラスの継承\n",
        "class <クラス名> (<継承するクラス名>):\n",
        "    <処理>\n",
        "```"
      ],
      "metadata": {
        "id": "k2eXKLkTzzdn"
      }
    },
    {
      "cell_type": "markdown",
      "source": [
        "継承されるクラスを**スーパークラス**（**親クラス**、**基底クラス**）、  \n",
        "継承するクラスを**サブクラス**（**子クラス**、**派生クラス**）といいます。\n",
        "\n",
        "スーパークラスの機能を引き継ぎ、サブクラスとして拡張することができます。"
      ],
      "metadata": {
        "id": "9lnY9VW70B2f"
      }
    },
    {
      "cell_type": "code",
      "source": [
        "# スーパークラス\n",
        "class Animal():\n",
        "  def __init__(self, name):\n",
        "    self.name = name\n",
        "    print(\"動物です\")"
      ],
      "metadata": {
        "id": "8aIiIb__0s5m"
      },
      "execution_count": null,
      "outputs": []
    },
    {
      "cell_type": "code",
      "source": [
        "# サブクラス\n",
        "# Animalクラスを継承\n",
        "class Dog(Animal):\n",
        "    pass\n",
        "\n",
        "# サブクラス\n",
        "# Animalクラスを継承\n",
        "class Cat(Animal):\n",
        "    pass"
      ],
      "metadata": {
        "id": "1gLiNaGf1Jyc"
      },
      "execution_count": null,
      "outputs": []
    },
    {
      "cell_type": "markdown",
      "source": [
        "では空クラス`Dog`クラスと`Cat`クラスを呼び出してみましょう。"
      ],
      "metadata": {
        "id": "hA74VrOs1Sws"
      }
    },
    {
      "cell_type": "code",
      "source": [
        "taro = Dog(\"Taro\")  # コンストラクタ実行\n",
        "jiro = Cat(\"Jiro\")  # コンストラクタ実行\n",
        "\n",
        "print(taro.name)  # 属性呼び出し\n",
        "print(jiro.name)  # 属性呼び出し"
      ],
      "metadata": {
        "colab": {
          "base_uri": "https://localhost:8080/"
        },
        "id": "ksQb0VbI1Tz8",
        "outputId": "edb6a6b7-9b57-4dda-c4fe-3fa251862fb2"
      },
      "execution_count": null,
      "outputs": [
        {
          "output_type": "stream",
          "name": "stdout",
          "text": [
            "動物です\n",
            "動物です\n",
            "Taro\n",
            "Jiro\n"
          ]
        }
      ]
    },
    {
      "cell_type": "markdown",
      "source": [
        "サブクラス内でもコンストラクタを定義する場合、  \n",
        "サブクラスのコンストラクタを優先するため、  \n",
        "スーパークラスのコンストラクタは実行されません。"
      ],
      "metadata": {
        "id": "BJoHbPCs5gJ1"
      }
    },
    {
      "cell_type": "code",
      "source": [
        "# スーパークラス\n",
        "class Animal():\n",
        "  def __init__(self, name):\n",
        "    self.name = name\n",
        "    print(\"動物です\")\n",
        "\n",
        "# サブクラス\n",
        "# Animalクラスを継承\n",
        "class Dog(Animal):\n",
        "  def __init__(self, name):\n",
        "    self.name = name\n",
        "    print(\"犬です\")\n",
        "\n",
        "# サブクラス\n",
        "# Animalクラスを継承\n",
        "class Cat(Animal):\n",
        "  def __init__(self, name):\n",
        "    self.name = name\n",
        "    print(\"猫です\")"
      ],
      "metadata": {
        "id": "C1E9yXSP5nLc"
      },
      "execution_count": null,
      "outputs": []
    },
    {
      "cell_type": "code",
      "source": [
        "taro = Dog(\"Taro\")  # サブクラスのコンストラクタ実行\n",
        "jiro = Cat(\"Jiro\")  # サブクラスのコンストラクタ実行\n",
        "\n",
        "print(taro.name)  # 属性呼び出し\n",
        "print(jiro.name)  # 属性呼び出し"
      ],
      "metadata": {
        "colab": {
          "base_uri": "https://localhost:8080/"
        },
        "id": "IQuF9iBv5xis",
        "outputId": "94b5dea8-e126-4d60-e67e-57bb4fe010b0"
      },
      "execution_count": null,
      "outputs": [
        {
          "output_type": "stream",
          "name": "stdout",
          "text": [
            "犬です\n",
            "猫です\n",
            "Taro\n",
            "Jiro\n"
          ]
        }
      ]
    },
    {
      "cell_type": "markdown",
      "source": [
        "この問題は、**super()関数**を使うことで解消できます。\n",
        "\n",
        "``` python\n",
        "# super()関数\n",
        "super().親クラスのメソッド名\n",
        "```\n"
      ],
      "metadata": {
        "id": "v2C8StXl5-_s"
      }
    },
    {
      "cell_type": "code",
      "source": [
        "# サブクラス\n",
        "# Animalクラスを継承\n",
        "class Dog(Animal):\n",
        "  def __init__(self, name):\n",
        "    super().__init__(name=name)  # super()関数\n",
        "    print(\"犬です\")\n",
        "\n",
        "# サブクラス\n",
        "# Animalクラスを継承\n",
        "class Cat(Animal):\n",
        "  def __init__(self, name):\n",
        "    super().__init__(name=name)  # super()関数\n",
        "    print(\"猫です\")"
      ],
      "metadata": {
        "id": "VgV6h0A-64dK"
      },
      "execution_count": null,
      "outputs": []
    },
    {
      "cell_type": "code",
      "source": [
        "taro = Dog(\"Taro\")  # 両方のコンストラクタ実行\n",
        "jiro = Cat(\"Jiro\")  # 両方のコンストラクタ実行\n",
        "\n",
        "print(taro.name)  # 属性呼び出し\n",
        "print(jiro.name)  # 属性呼び出し"
      ],
      "metadata": {
        "colab": {
          "base_uri": "https://localhost:8080/"
        },
        "id": "2cCzmhib7D_i",
        "outputId": "444e27ab-1992-4dfa-af0b-d96fc81dc0fd"
      },
      "execution_count": null,
      "outputs": [
        {
          "output_type": "stream",
          "name": "stdout",
          "text": [
            "動物です\n",
            "犬です\n",
            "動物です\n",
            "猫です\n",
            "Taro\n",
            "Jiro\n"
          ]
        }
      ]
    },
    {
      "cell_type": "markdown",
      "source": [
        "サブクラスでは、親クラスで定義したメソッドの後に、追加の処理を書くことができることが分かります。"
      ],
      "metadata": {
        "id": "oi3mvDuE7Lay"
      }
    },
    {
      "cell_type": "markdown",
      "source": [
        "スーパークラスのメソッドを、サブクラス用に書き換える/追加することができます。  \n",
        "これを**オーバーライド**といいます。\n",
        "\n",
        "同名のメソッドを定義することで実現できます。"
      ],
      "metadata": {
        "id": "PD-Z7-5lJbT5"
      }
    },
    {
      "cell_type": "markdown",
      "source": [
        "オーバーライドのメリットは以下の通りです。  \n",
        "\n",
        "* 変更したいメソッドを記述し直すだけで済む  （属性や他のメソッドを書き直す必要がない）  \n",
        "* 複数のメソッド名を定義する必要がなくなる  \n",
        "\n",
        "大規模な開発になったときに、オーバーライドの恩恵が大きくなってきます。  "
      ],
      "metadata": {
        "id": "OZm6pKeyL0ml"
      }
    },
    {
      "cell_type": "code",
      "source": [
        "# スーパークラス\n",
        "# outputメソッドを定義\n",
        "class Animal():\n",
        "    def __init__(self, name):\n",
        "        self.name = name\n",
        "\n",
        "    def output(self):\n",
        "        print(f\"名前は{self.name}です\")\n",
        "\n",
        "# サブクラス\n",
        "# Animalクラスを継承\n",
        "class Dog(Animal):\n",
        "    def __init__(self, name):\n",
        "        self.name = name\n",
        "\n",
        "# サブクラス\n",
        "# Animalクラスを継承\n",
        "class Cat(Animal):\n",
        "    def __init__(self, name):\n",
        "        self.name = name"
      ],
      "metadata": {
        "id": "RUD8-PVXaUqO"
      },
      "execution_count": null,
      "outputs": []
    },
    {
      "cell_type": "code",
      "source": [
        "taro = Dog(\"Taro\")\n",
        "jiro = Cat(\"Jiro\")\n",
        "\n",
        "# スーパークラスのメソッドが呼び出される\n",
        "taro.output()\n",
        "jiro.output()"
      ],
      "metadata": {
        "colab": {
          "base_uri": "https://localhost:8080/"
        },
        "id": "UTSmjpaibvQF",
        "outputId": "03b0cf9e-0a48-4841-f78c-e6ce9ebec5d4"
      },
      "execution_count": null,
      "outputs": [
        {
          "output_type": "stream",
          "name": "stdout",
          "text": [
            "名前はTaroです\n",
            "名前はJiroです\n"
          ]
        }
      ]
    },
    {
      "cell_type": "markdown",
      "source": [
        "この`output`メソッドをサブクラス用に書き換えてみます。"
      ],
      "metadata": {
        "id": "xd3tt_OZc1zw"
      }
    },
    {
      "cell_type": "code",
      "source": [
        "# サブクラス\n",
        "# Animalクラスを継承\n",
        "# outputメソッドを定義\n",
        "class Dog(Animal):\n",
        "    def __init__(self, name):\n",
        "        self.name = name\n",
        "\n",
        "    def output(self):\n",
        "        print(f\"名前は{self.name}です\")\n",
        "        print(\"犬です\")\n",
        "\n",
        "# サブクラス\n",
        "# Animalクラスを継承\n",
        "# outputメソッドを定義\n",
        "class Cat(Animal):\n",
        "    def __init__(self, name):\n",
        "        self.name = name\n",
        "\n",
        "    def output(self):\n",
        "        print(f\"名前は{self.name}です\")\n",
        "        print(\"猫です\")"
      ],
      "metadata": {
        "id": "UczvuSi6dGQ5"
      },
      "execution_count": null,
      "outputs": []
    },
    {
      "cell_type": "code",
      "source": [
        "taro = Dog(\"Taro\")\n",
        "jiro = Cat(\"Jiro\")\n",
        "\n",
        "# サブクラスのメソッドが呼び出される\n",
        "taro.output()\n",
        "jiro.output()"
      ],
      "metadata": {
        "colab": {
          "base_uri": "https://localhost:8080/"
        },
        "id": "-tZ31xA_dgb2",
        "outputId": "c893fa66-59f3-4998-dd2d-322d15ce5b4e"
      },
      "execution_count": null,
      "outputs": [
        {
          "output_type": "stream",
          "name": "stdout",
          "text": [
            "名前はTaroです\n",
            "犬です\n",
            "名前はJiroです\n",
            "猫です\n"
          ]
        }
      ]
    },
    {
      "cell_type": "markdown",
      "source": [
        "### 3.3 ファイルの入出力"
      ],
      "metadata": {
        "id": "xtyonBYLIWJE"
      }
    },
    {
      "cell_type": "markdown",
      "source": [
        "プログラムからテキストファイルの読み書きをするには、次の手順で行います。  \n",
        "\n",
        "①ファイルを開く  \n",
        "②ファイルに書き込む or 読み込む  \n",
        "③ファイルを閉じる  "
      ],
      "metadata": {
        "id": "6HHSjTQ0IfUa"
      }
    },
    {
      "cell_type": "markdown",
      "source": [
        "ファイルを開く際には、組み込み関数である**`open`関数**を使用します。\n",
        "\n",
        "``` python\n",
        "# ファイルを開く\n",
        "open (<ファイル名>, <モード>)\n",
        "```\n",
        "\n",
        "第1引数として開くファイルの名前、第2引数として**モード**を指定します。  \n",
        "モードは、開いたファイルをどのように操作するかを示す文字です。"
      ],
      "metadata": {
        "id": "oAu3tNzMXjqI"
      }
    },
    {
      "cell_type": "markdown",
      "source": [
        "ファイルに書き込む際には、ファイルオブジェクトが持つ`write`メソッドを使って、  \n",
        "開いたファイルにデータを書き込んでいます。\n",
        "\n",
        "入力された内容に改行を表すエスケープシーケンス`\\n`を付けているため、\n",
        "書き込むたびに改行が行われます。"
      ],
      "metadata": {
        "id": "Z901ttua5lpr"
      }
    },
    {
      "cell_type": "markdown",
      "source": [
        "ファイルを閉じる際には、ファイルオブジェクトの`close`メソッドを使用します。\n",
        "\n",
        "必要なファイル操作が終わったら、すぐに閉じる処理が行われるようにすると安全です。"
      ],
      "metadata": {
        "id": "tzQiDLP16TB5"
      }
    },
    {
      "cell_type": "code",
      "source": [
        "# 書き込む内容を定義する\n",
        "text = \"Banana 200\\nLemon 150\\nApple 120\\nGrape 300\"\n",
        "\n",
        "# 書き込みモードでファイルを開く\n",
        "file = open(\"fruits.txt\", 'w+')\n",
        "\n",
        "# テキストをファイルに書き込む\n",
        "# GoogleColabにてファイルが生成されています\n",
        "file.write(text + \"\\n\")\n",
        "\n",
        "# ファイルを閉じる\n",
        "file.close()\n",
        "\n",
        "# ファイルからの読み込みと出力\n",
        "with open(\"fruits.txt\", mode=\"r\") as f:\n",
        "    read_text = f.read()\n",
        "    print(\"ファイルから読み込んだ内容:\")\n",
        "    print(read_text)"
      ],
      "metadata": {
        "id": "kWWJtxBAJWsu",
        "colab": {
          "base_uri": "https://localhost:8080/"
        },
        "outputId": "e59b1b8d-321e-4e09-c56b-cb20386d0423"
      },
      "execution_count": null,
      "outputs": [
        {
          "output_type": "stream",
          "name": "stdout",
          "text": [
            "ファイルから読み込んだ内容:\n",
            "Banana 200\n",
            "Lemon 150\n",
            "Apple 120\n",
            "Grape 300\n",
            "\n"
          ]
        }
      ]
    },
    {
      "cell_type": "markdown",
      "source": [
        "開いたファイルを確実に閉じたい場合は、**`with`文**を使います。\n",
        "\n",
        "``` python\n",
        "with ファイルを開く処理 as 変数 :\n",
        "  ファイルを操作する処理\n",
        "```\n",
        "\n",
        "`with`文でファイルを開き、`with`ブロックの中で開いたファイルに関する操作を行います。  \n",
        "そして、`with`ブロックが終了すると、自動的にファイルを閉じる処理が行われます。"
      ],
      "metadata": {
        "id": "mZM_EpD4CJw1"
      }
    },
    {
      "cell_type": "code",
      "source": [
        "# 書き込む内容\n",
        "text = \"Banana 200\\nLemon 150\\nApple 120\\nGrape 300\\n\"\n",
        "\n",
        "with open(\"fruits.txt\",mode=\"w+\") as f:\n",
        "  f.write(text + \"\\n\")\n",
        "\n",
        "# ファイルからの読み込みと出力\n",
        "with open(\"fruits.txt\", mode=\"r\") as f:\n",
        "    read_text = f.read()\n",
        "    print(\"ファイルから読み込んだ内容:\")\n",
        "    print(read_text)"
      ],
      "metadata": {
        "id": "nGKb5H7lPkCm",
        "colab": {
          "base_uri": "https://localhost:8080/"
        },
        "outputId": "db53161e-caf9-4291-f4f6-ae755c0bf40b"
      },
      "execution_count": null,
      "outputs": [
        {
          "output_type": "stream",
          "name": "stdout",
          "text": [
            "ファイルから読み込んだ内容:\n",
            "Banana 200\n",
            "Lemon 150\n",
            "Apple 120\n",
            "Grape 300\n",
            "\n",
            "\n"
          ]
        }
      ]
    },
    {
      "cell_type": "markdown",
      "source": [
        "モードの指定方法を変更することで、微妙な変化があります。"
      ],
      "metadata": {
        "id": "Zs3vZJFqQJ1E"
      }
    },
    {
      "cell_type": "code",
      "source": [
        "import os\n",
        "\n",
        "def delete_and_write_file():\n",
        "    # ファイルの削除\n",
        "    if os.path.exists(\"fruits.txt\"):\n",
        "        os.remove(\"fruits.txt\")\n",
        "\n",
        "    # ファイルへの書き込み\n",
        "    with open(\"fruits.txt\", mode=\"w+\") as f:\n",
        "        f.write(\"Banana 200\\nLemon 150\\nApple 120\\nGrape 300\\n\")"
      ],
      "metadata": {
        "id": "6m38OLuhSMEM"
      },
      "execution_count": null,
      "outputs": []
    },
    {
      "cell_type": "markdown",
      "source": [
        "モードとして**`r+`**を指定すると、既存のデータを読み込んだ後、  \n",
        "データの先頭から書き込み・読み込みが行えるようになります。"
      ],
      "metadata": {
        "id": "_5CkD547n8f6"
      }
    },
    {
      "cell_type": "code",
      "source": [
        "# ファイルの初期化\n",
        "delete_and_write_file()\n",
        "\n",
        "# 新しく書き込む内容\n",
        "new_text = \"Banana 270\\nLemon 220\"\n",
        "\n",
        "# r+\n",
        "# データの先頭から書き込みを行う\n",
        "with open(\"fruits.txt\", mode=\"r+\") as f:\n",
        "    f.write(new_text + \"\\n\")\n",
        "\n",
        "# ファイルからの読み込みと出力\n",
        "with open(\"fruits.txt\", mode=\"r\") as f:\n",
        "    read_text = f.read()\n",
        "    print(\"ファイルから読み込んだ内容:\")\n",
        "    print(read_text)\n"
      ],
      "metadata": {
        "id": "P_7q0joHRRSO",
        "colab": {
          "base_uri": "https://localhost:8080/"
        },
        "outputId": "ff6af509-407f-455b-e528-9abde762c1fc"
      },
      "execution_count": null,
      "outputs": [
        {
          "output_type": "stream",
          "name": "stdout",
          "text": [
            "ファイルから読み込んだ内容:\n",
            "Banana 270\n",
            "Lemon 220\n",
            "Apple 120\n",
            "Grape 300\n",
            "\n"
          ]
        }
      ]
    },
    {
      "cell_type": "markdown",
      "source": [
        "モードとして**`w+`**を指定すると、既存のデータを読み込んだ後、  \n",
        "データの内容がすべて更新されたうえで、書き込み・読み込みが行えるようになります。"
      ],
      "metadata": {
        "id": "q3icaUnPTiXj"
      }
    },
    {
      "cell_type": "code",
      "source": [
        "# ファイルの初期化\n",
        "delete_and_write_file()\n",
        "\n",
        "# 新しく書き込む内容\n",
        "new_text = \"Banana 270\\nLemon 220\"\n",
        "\n",
        "# w+\n",
        "# データをすべて更新し書き込みを行う\n",
        "with open(\"fruits.txt\", mode=\"w+\") as f:\n",
        "    f.write(new_text + \"\\n\")\n",
        "\n",
        "# ファイルからの読み込みと出力\n",
        "with open(\"fruits.txt\", mode=\"r\") as f:\n",
        "    read_text = f.read()\n",
        "    print(\"ファイルから読み込んだ内容:\")\n",
        "    print(read_text)"
      ],
      "metadata": {
        "id": "QFaIR7yhUHTu",
        "colab": {
          "base_uri": "https://localhost:8080/"
        },
        "outputId": "f0c6f63f-af4d-4d78-87a7-625cc1728c47"
      },
      "execution_count": null,
      "outputs": [
        {
          "output_type": "stream",
          "name": "stdout",
          "text": [
            "ファイルから読み込んだ内容:\n",
            "Banana 270\n",
            "Lemon 220\n",
            "\n"
          ]
        }
      ]
    },
    {
      "cell_type": "markdown",
      "source": [
        "モードとして**`a+`**を指定すると、既存のデータを読み込んだ後、  \n",
        "データの末尾から書き込み・読み込みが行えるようになります。"
      ],
      "metadata": {
        "id": "e1K_e7YkU7Hu"
      }
    },
    {
      "cell_type": "code",
      "source": [
        "# ファイルの初期化\n",
        "delete_and_write_file()\n",
        "\n",
        "# 新しく書き込む内容\n",
        "new_text = \"Banana 270\\nLemon 220\"\n",
        "\n",
        "# a+\n",
        "# データの末尾から書き込みを行う\n",
        "with open(\"fruits.txt\", mode=\"a+\") as f:\n",
        "    f.write(new_text + \"\\n\")\n",
        "\n",
        "# ファイルからの読み込みと出力\n",
        "with open(\"fruits.txt\", mode=\"r\") as f:\n",
        "    read_text = f.read()\n",
        "    print(\"ファイルから読み込んだ内容:\")\n",
        "    print(read_text)"
      ],
      "metadata": {
        "id": "hg6LyWrxVFjq",
        "colab": {
          "base_uri": "https://localhost:8080/"
        },
        "outputId": "5cb70145-ef95-4ddf-c80b-b1aaba78a36b"
      },
      "execution_count": null,
      "outputs": [
        {
          "output_type": "stream",
          "name": "stdout",
          "text": [
            "ファイルから読み込んだ内容:\n",
            "Banana 200\n",
            "Lemon 150\n",
            "Apple 120\n",
            "Grape 300\n",
            "Banana 270\n",
            "Lemon 220\n",
            "\n"
          ]
        }
      ]
    },
    {
      "cell_type": "markdown",
      "source": [
        "**`readline`メソッド**を使うと、テキストファイルを一行ずつ読み込み、  \n",
        "文字列として取得することができます。\n",
        "\n",
        "テキストファイル内のデータが多いときによく用いられます。"
      ],
      "metadata": {
        "id": "PT9LCNs9WqJ4"
      }
    },
    {
      "cell_type": "code",
      "source": [
        "# ファイルの初期化\n",
        "delete_and_write_file()\n",
        "\n",
        "# 読み込み\n",
        "with open(\"fruits.txt\", mode=\"r+\") as f:\n",
        "  line = f.readline()\n",
        "  # ファイルの中のテキストがなくなるまで読み込み\n",
        "  while line:\n",
        "    print(line, end=\"\")\n",
        "    line = f.readline()"
      ],
      "metadata": {
        "id": "ZeCAEMjvXDvD",
        "colab": {
          "base_uri": "https://localhost:8080/"
        },
        "outputId": "a9fa7135-1d2e-4375-955c-2386a7fe8f5b"
      },
      "execution_count": null,
      "outputs": [
        {
          "output_type": "stream",
          "name": "stdout",
          "text": [
            "Banana 200\n",
            "Lemon 150\n",
            "Apple 120\n",
            "Grape 300\n"
          ]
        }
      ]
    },
    {
      "cell_type": "code",
      "source": [
        "# ファイルの初期化\n",
        "delete_and_write_file()\n",
        "\n",
        "# 管理する辞書\n",
        "fruits_dic = dict()\n",
        "\n",
        "# データの読み込み\n",
        "with open(\"fruits.txt\",mode=\"r+\") as f:\n",
        "  line = f.readline()\n",
        "  # ファイルの中のテキストがなくなるまで読み込み\n",
        "  while line:\n",
        "\n",
        "    \"\"\"\n",
        "    line.split():取得した文字列を空白を区切り文字にして分ける\n",
        "    line.split()[0]:果物\n",
        "    line.split()[1]:値段 int型に変換している\n",
        "    \"\"\"\n",
        "    fruits_dic[line.split()[0]] = int(line.split()[1])\n",
        "    line = f.readline()\n",
        "\n",
        "print(fruits_dic)"
      ],
      "metadata": {
        "colab": {
          "base_uri": "https://localhost:8080/"
        },
        "id": "5Pi1tSQRYgBq",
        "outputId": "17ab32dc-8c5c-496d-c379-1b7a1bdfe824"
      },
      "execution_count": null,
      "outputs": [
        {
          "output_type": "stream",
          "name": "stdout",
          "text": [
            "{'Banana': 200, 'Lemon': 150, 'Apple': 120, 'Grape': 300}\n"
          ]
        }
      ]
    },
    {
      "cell_type": "markdown",
      "source": [
        "**`readlines`メソッド**を使うと、テキストファイルを全行読み込み、  \n",
        "`list`として取得することができます。"
      ],
      "metadata": {
        "id": "yw6tiJIFa6HS"
      }
    },
    {
      "cell_type": "code",
      "source": [
        "# ファイルの初期化\n",
        "delete_and_write_file()\n",
        "\n",
        "with open(\"fruits.txt\", mode=\"r+\") as f:\n",
        "  lines = f.readlines()\n",
        "  print(lines)"
      ],
      "metadata": {
        "id": "Yv0Gf_SFbNq-",
        "colab": {
          "base_uri": "https://localhost:8080/"
        },
        "outputId": "ccae0e67-7479-4f9b-d9b5-67e976f5271c"
      },
      "execution_count": null,
      "outputs": [
        {
          "output_type": "stream",
          "name": "stdout",
          "text": [
            "['Banana 200\\n', 'Lemon 150\\n', 'Apple 120\\n', 'Grape 300\\n']\n"
          ]
        }
      ]
    },
    {
      "cell_type": "markdown",
      "source": [
        "**`f.read().splitlines()`**とすると、改行`\\n`の表示を消すことができます。"
      ],
      "metadata": {
        "id": "fQ2CY1WKorYW"
      }
    },
    {
      "cell_type": "code",
      "source": [
        "# ファイルの初期化\n",
        "delete_and_write_file()\n",
        "\n",
        "with open(\"fruits.txt\", mode=\"r+\") as f:\n",
        "  lines = f.read().splitlines()\n",
        "  print(lines)"
      ],
      "metadata": {
        "colab": {
          "base_uri": "https://localhost:8080/"
        },
        "id": "geV0uaJ6o4dS",
        "outputId": "5183c444-603d-4b07-833f-d738f91fe3b3"
      },
      "execution_count": null,
      "outputs": [
        {
          "output_type": "stream",
          "name": "stdout",
          "text": [
            "['Banana 200', 'Lemon 150', 'Apple 120', 'Grape 300']\n"
          ]
        }
      ]
    },
    {
      "cell_type": "markdown",
      "source": [
        "### 3.4 例外処理"
      ],
      "metadata": {
        "id": "938Kb-D46Az4"
      }
    },
    {
      "cell_type": "markdown",
      "source": [
        "Pythonには、以下の2つのエラーが存在します。\n",
        "\n",
        "* Syntax error（構文エラー）：書き方が正しくないケース\n",
        "* Exception（例外）：書き方は合っていてもプログラムが動かないケース"
      ],
      "metadata": {
        "id": "LXVFMsb6149t"
      }
    },
    {
      "cell_type": "markdown",
      "source": [
        "構文エラーはもう正しいコードを書くしかありません。\n",
        "\n",
        "例外のうち、前もって想定できる原因に対しては、その処理法を書くことができます。  \n",
        "これを**例外処理**といいます。"
      ],
      "metadata": {
        "id": "j-Y-UR7G4nda"
      }
    },
    {
      "cell_type": "markdown",
      "source": [
        "例えば、何かを0で割ろうとするとExceptionが発生します。"
      ],
      "metadata": {
        "id": "I31a9Rks7cRU"
      }
    },
    {
      "cell_type": "code",
      "execution_count": null,
      "metadata": {
        "colab": {
          "base_uri": "https://localhost:8080/",
          "height": 170
        },
        "id": "s1_458fl0cp_",
        "outputId": "b44488e6-c7e0-42d6-e932-261b6ed4b792"
      },
      "outputs": [
        {
          "output_type": "error",
          "ename": "ZeroDivisionError",
          "evalue": "ignored",
          "traceback": [
            "\u001b[0;31m---------------------------------------------------------------------------\u001b[0m",
            "\u001b[0;31mZeroDivisionError\u001b[0m                         Traceback (most recent call last)",
            "\u001b[0;32m<ipython-input-2-44ad9b9598a6>\u001b[0m in \u001b[0;36m<module>\u001b[0;34m\u001b[0m\n\u001b[0;32m----> 1\u001b[0;31m \u001b[0;36m2023\u001b[0m \u001b[0;34m/\u001b[0m \u001b[0;36m0\u001b[0m\u001b[0;34m\u001b[0m\u001b[0;34m\u001b[0m\u001b[0m\n\u001b[0m",
            "\u001b[0;31mZeroDivisionError\u001b[0m: division by zero"
          ]
        }
      ],
      "source": [
        "2023 / 0"
      ]
    },
    {
      "cell_type": "markdown",
      "source": [
        "このように予想されるエラーについて、例外処理を書くことができます。  \n",
        "詳しくは[公式ドキュメント](https://docs.python.org/ja/3/tutorial/errors.html)を参照してください。"
      ],
      "metadata": {
        "id": "W0yq7vWm7nBU"
      }
    },
    {
      "cell_type": "markdown",
      "source": [
        "最も基本の構文が「**try–except**」です。\n",
        "\n",
        "``` python\n",
        "# try-except文\n",
        "try;\n",
        "    <例外が起こりうるコード>\n",
        "except <例外> as <変数>:\n",
        "    <例外が起きたときに実行するコード>\n",
        "```\n"
      ],
      "metadata": {
        "id": "98D-6HR797GM"
      }
    },
    {
      "cell_type": "markdown",
      "source": [
        "2つの変数の割り算を行うdivide()関数を例にします。"
      ],
      "metadata": {
        "id": "6DASLE1u-3rX"
      }
    },
    {
      "cell_type": "code",
      "source": [
        "def divide(a, b):\n",
        "    print(f\"計算結果：{a/b}\")\n",
        "\n",
        "# 正常に実行される\n",
        "divide(1, 3)\n",
        "\n",
        "# ZeroDivisionError発生\n",
        "divide(1, 0)"
      ],
      "metadata": {
        "colab": {
          "base_uri": "https://localhost:8080/",
          "height": 315
        },
        "id": "KpK0fmQT-9wV",
        "outputId": "2c6c8daf-1011-4c83-f44b-27cb695d96bf"
      },
      "execution_count": null,
      "outputs": [
        {
          "output_type": "stream",
          "name": "stdout",
          "text": [
            "計算結果：0.3333333333333333\n"
          ]
        },
        {
          "output_type": "error",
          "ename": "ZeroDivisionError",
          "evalue": "division by zero",
          "traceback": [
            "\u001b[0;31m---------------------------------------------------------------------------\u001b[0m",
            "\u001b[0;31mZeroDivisionError\u001b[0m                         Traceback (most recent call last)",
            "\u001b[0;32m<ipython-input-34-48c3f98c021c>\u001b[0m in \u001b[0;36m<cell line: 5>\u001b[0;34m()\u001b[0m\n\u001b[1;32m      3\u001b[0m \u001b[0;34m\u001b[0m\u001b[0m\n\u001b[1;32m      4\u001b[0m \u001b[0mdivide\u001b[0m\u001b[0;34m(\u001b[0m\u001b[0;36m1\u001b[0m\u001b[0;34m,\u001b[0m \u001b[0;36m3\u001b[0m\u001b[0;34m)\u001b[0m\u001b[0;34m\u001b[0m\u001b[0;34m\u001b[0m\u001b[0m\n\u001b[0;32m----> 5\u001b[0;31m \u001b[0mdivide\u001b[0m\u001b[0;34m(\u001b[0m\u001b[0;36m1\u001b[0m\u001b[0;34m,\u001b[0m \u001b[0;36m0\u001b[0m\u001b[0;34m)\u001b[0m\u001b[0;34m\u001b[0m\u001b[0;34m\u001b[0m\u001b[0m\n\u001b[0m",
            "\u001b[0;32m<ipython-input-34-48c3f98c021c>\u001b[0m in \u001b[0;36mdivide\u001b[0;34m(a, b)\u001b[0m\n\u001b[1;32m      1\u001b[0m \u001b[0;32mdef\u001b[0m \u001b[0mdivide\u001b[0m\u001b[0;34m(\u001b[0m\u001b[0ma\u001b[0m\u001b[0;34m,\u001b[0m \u001b[0mb\u001b[0m\u001b[0;34m)\u001b[0m\u001b[0;34m:\u001b[0m\u001b[0;34m\u001b[0m\u001b[0;34m\u001b[0m\u001b[0m\n\u001b[0;32m----> 2\u001b[0;31m   \u001b[0mprint\u001b[0m\u001b[0;34m(\u001b[0m\u001b[0;34mf\"計算結果：{a/b}\"\u001b[0m\u001b[0;34m)\u001b[0m\u001b[0;34m\u001b[0m\u001b[0;34m\u001b[0m\u001b[0m\n\u001b[0m\u001b[1;32m      3\u001b[0m \u001b[0;34m\u001b[0m\u001b[0m\n\u001b[1;32m      4\u001b[0m \u001b[0mdivide\u001b[0m\u001b[0;34m(\u001b[0m\u001b[0;36m1\u001b[0m\u001b[0;34m,\u001b[0m \u001b[0;36m3\u001b[0m\u001b[0;34m)\u001b[0m\u001b[0;34m\u001b[0m\u001b[0;34m\u001b[0m\u001b[0m\n\u001b[1;32m      5\u001b[0m \u001b[0mdivide\u001b[0m\u001b[0;34m(\u001b[0m\u001b[0;36m1\u001b[0m\u001b[0;34m,\u001b[0m \u001b[0;36m0\u001b[0m\u001b[0;34m)\u001b[0m\u001b[0;34m\u001b[0m\u001b[0;34m\u001b[0m\u001b[0m\n",
            "\u001b[0;31mZeroDivisionError\u001b[0m: division by zero"
          ]
        }
      ]
    },
    {
      "cell_type": "code",
      "source": [
        "def divide(a, b):\n",
        "    # 例外処理\n",
        "    # 例外が起こりうる部分\n",
        "    try:\n",
        "        print(f\"計算結果：{a/b}\")\n",
        "\n",
        "    # 例外発生時に実行\n",
        "    except ZeroDivisionError:\n",
        "        print(\"0では割り算できません\")\n",
        "\n",
        "divide(1, 3)\n",
        "divide(1, 0)"
      ],
      "metadata": {
        "colab": {
          "base_uri": "https://localhost:8080/"
        },
        "id": "SLos9q4Q_87k",
        "outputId": "c4462d25-afb5-4acf-a62a-e0e1ab71b03f"
      },
      "execution_count": null,
      "outputs": [
        {
          "output_type": "stream",
          "name": "stdout",
          "text": [
            "計算結果：0.3333333333333333\n",
            "0では割り算できません\n"
          ]
        }
      ]
    },
    {
      "cell_type": "markdown",
      "source": [
        "例外は引数に格納することができます。"
      ],
      "metadata": {
        "id": "yN_8g9yGAYRj"
      }
    },
    {
      "cell_type": "code",
      "source": [
        "def divide(a, b):\n",
        "    # 例外処理\n",
        "    # 例外が起こりうる部分\n",
        "    try:\n",
        "        print(f\"計算結果：{a/b}\")\n",
        "\n",
        "    # 例外発生時に実行\n",
        "    except ZeroDivisionError as e:  # 変数名を「e」とすることが多い\n",
        "        print(e)\n",
        "        print(\"0では割り算できません\")\n",
        "\n",
        "divide(1, 3)\n",
        "divide(1, 0)"
      ],
      "metadata": {
        "colab": {
          "base_uri": "https://localhost:8080/"
        },
        "id": "t0qOB8EWAblS",
        "outputId": "7597d405-4ecd-4388-d49d-9f86879c9a0d"
      },
      "execution_count": null,
      "outputs": [
        {
          "output_type": "stream",
          "name": "stdout",
          "text": [
            "計算結果：0.3333333333333333\n",
            "division by zero\n",
            "0では割り算できません\n"
          ]
        }
      ]
    },
    {
      "cell_type": "markdown",
      "source": [
        "今度は数値を文字列で割ろうとした場合について考えてみます。"
      ],
      "metadata": {
        "id": "0sTbMySDAsod"
      }
    },
    {
      "cell_type": "code",
      "source": [
        "def divide(a, b):\n",
        "    # 例外処理\n",
        "    # 例外が起こりうる部分\n",
        "    try:\n",
        "        print(f\"計算結果：{a/b}\")\n",
        "\n",
        "    # 例外発生時に実行\n",
        "    except ZeroDivisionError as e:\n",
        "        print(e)\n",
        "        print(\"0では割り算できません\")\n",
        "\n",
        "divide(1, \"0\")  # 文字列では割り算できない"
      ],
      "metadata": {
        "colab": {
          "base_uri": "https://localhost:8080/",
          "height": 326
        },
        "id": "PaW8UPaHBTZB",
        "outputId": "17df1806-0e5b-40ec-88ca-192a70da7261"
      },
      "execution_count": null,
      "outputs": [
        {
          "output_type": "error",
          "ename": "TypeError",
          "evalue": "ignored",
          "traceback": [
            "\u001b[0;31m---------------------------------------------------------------------------\u001b[0m",
            "\u001b[0;31mTypeError\u001b[0m                                 Traceback (most recent call last)",
            "\u001b[0;32m<ipython-input-18-507f73b880e8>\u001b[0m in \u001b[0;36m<module>\u001b[0;34m\u001b[0m\n\u001b[1;32m      6\u001b[0m     \u001b[0mprint\u001b[0m\u001b[0;34m(\u001b[0m\u001b[0;34m\"0では割り算できません\"\u001b[0m\u001b[0;34m)\u001b[0m\u001b[0;34m\u001b[0m\u001b[0;34m\u001b[0m\u001b[0m\n\u001b[1;32m      7\u001b[0m \u001b[0;34m\u001b[0m\u001b[0m\n\u001b[0;32m----> 8\u001b[0;31m \u001b[0mdivide\u001b[0m\u001b[0;34m(\u001b[0m\u001b[0;36m1\u001b[0m\u001b[0;34m,\u001b[0m \u001b[0;34m\"0\"\u001b[0m\u001b[0;34m)\u001b[0m  \u001b[0;31m# 文字列では割り算できない\u001b[0m\u001b[0;34m\u001b[0m\u001b[0;34m\u001b[0m\u001b[0m\n\u001b[0m",
            "\u001b[0;32m<ipython-input-18-507f73b880e8>\u001b[0m in \u001b[0;36mdivide\u001b[0;34m(a, b)\u001b[0m\n\u001b[1;32m      1\u001b[0m \u001b[0;32mdef\u001b[0m \u001b[0mdivide\u001b[0m\u001b[0;34m(\u001b[0m\u001b[0ma\u001b[0m\u001b[0;34m,\u001b[0m \u001b[0mb\u001b[0m\u001b[0;34m)\u001b[0m\u001b[0;34m:\u001b[0m\u001b[0;34m\u001b[0m\u001b[0;34m\u001b[0m\u001b[0m\n\u001b[1;32m      2\u001b[0m   \u001b[0;32mtry\u001b[0m\u001b[0;34m:\u001b[0m\u001b[0;34m\u001b[0m\u001b[0;34m\u001b[0m\u001b[0m\n\u001b[0;32m----> 3\u001b[0;31m     \u001b[0mprint\u001b[0m\u001b[0;34m(\u001b[0m\u001b[0;34mf\"計算結果：{a/b}\"\u001b[0m\u001b[0;34m)\u001b[0m\u001b[0;34m\u001b[0m\u001b[0;34m\u001b[0m\u001b[0m\n\u001b[0m\u001b[1;32m      4\u001b[0m   \u001b[0;32mexcept\u001b[0m \u001b[0mZeroDivisionError\u001b[0m \u001b[0;32mas\u001b[0m \u001b[0me\u001b[0m\u001b[0;34m:\u001b[0m\u001b[0;34m\u001b[0m\u001b[0;34m\u001b[0m\u001b[0m\n\u001b[1;32m      5\u001b[0m     \u001b[0mprint\u001b[0m\u001b[0;34m(\u001b[0m\u001b[0me\u001b[0m\u001b[0;34m)\u001b[0m\u001b[0;34m\u001b[0m\u001b[0;34m\u001b[0m\u001b[0m\n",
            "\u001b[0;31mTypeError\u001b[0m: unsupported operand type(s) for /: 'int' and 'str'"
          ]
        }
      ]
    },
    {
      "cell_type": "code",
      "source": [
        "def divide(a, b):\n",
        "    # 例外処理\n",
        "    # 例外が起こりうる部分\n",
        "    try:\n",
        "        print(f\"計算結果：{a/b}\")\n",
        "\n",
        "    # 例外発生時に実行\n",
        "    except ZeroDivisionError as e:\n",
        "        print(e)\n",
        "        print(\"0では割り算できません\")\n",
        "\n",
        "    # 例外発生時に実行\n",
        "    except TypeError as e:\n",
        "        print(e)\n",
        "        print(\"文字列の割り算はできません\")\n",
        "\n",
        "divide(1, \"0\")  # 文字列では割り算できない"
      ],
      "metadata": {
        "colab": {
          "base_uri": "https://localhost:8080/"
        },
        "id": "duvRh_RKBf1r",
        "outputId": "4b9a3540-536c-4258-9225-830f840363e2"
      },
      "execution_count": null,
      "outputs": [
        {
          "output_type": "stream",
          "name": "stdout",
          "text": [
            "unsupported operand type(s) for /: 'int' and 'str'\n",
            "文字列の割り算はできません\n"
          ]
        }
      ]
    },
    {
      "cell_type": "markdown",
      "source": [
        "例外が起きなかったときに実行したいコードがある場合は、  \n",
        "「**try–except–else**」を使います。\n",
        "\n",
        "``` python\n",
        "# try-except-else文\n",
        "try:\n",
        "  <例外が起こりうるコード>\n",
        "except <例外> as <変数>:\n",
        "  <例外が起きたときに実行するコード>\n",
        "else:\n",
        "  <例外が起きなかったときに実行するコード>\n",
        "```\n",
        "\n",
        "例外が起きたら実行したくないコードをこの中に書くようにします。"
      ],
      "metadata": {
        "id": "ELvyL1RnCF_4"
      }
    },
    {
      "cell_type": "code",
      "source": [
        "def divide(a, b):\n",
        "    # 例外処理\n",
        "    # 例外が起こりうる部分\n",
        "    try:\n",
        "        print(f\"計算結果：{a/b}\")\n",
        "\n",
        "    # 例外発生時に実行\n",
        "    except ZeroDivisionError as e:\n",
        "        print(e)\n",
        "        print(\"0では割り算できません\")\n",
        "\n",
        "    # 例外発生時に実行\n",
        "    except TypeError as e:\n",
        "        print(e)\n",
        "        print(\"文字列の割り算はできません\")\n",
        "\n",
        "    # 例外非発生時に実行\n",
        "    else :\n",
        "        print(\"正常に終了しました\")\n",
        "\n",
        "divide(1, 2)\n",
        "divide(1, \"0\")  # 例外が発生するのでelse部分は出力されない"
      ],
      "metadata": {
        "colab": {
          "base_uri": "https://localhost:8080/"
        },
        "id": "zr8xKoupCs2H",
        "outputId": "34d3b723-cd22-4a21-cfd7-b9ac3101428d"
      },
      "execution_count": null,
      "outputs": [
        {
          "output_type": "stream",
          "name": "stdout",
          "text": [
            "計算結果：0.5\n",
            "正常に終了しました\n",
            "unsupported operand type(s) for /: 'int' and 'str'\n",
            "文字列の割り算はできません\n"
          ]
        }
      ]
    },
    {
      "cell_type": "markdown",
      "source": [
        "例外の発生有無にかかわらず実行したいコードがある場合は、  \n",
        "「**try–except–finally**」を使います。\n",
        "\n",
        "``` python\n",
        "# try-except-finally文\n",
        "try:\n",
        "  <例外が起こりうるコード>\n",
        "except <例外> as <変数>:\n",
        "  <例外が起きたときに実行するコード>\n",
        "finally:\n",
        "  <必ず実行するコード>\n",
        "```\n",
        "\n"
      ],
      "metadata": {
        "id": "eYYP2bz9DhUQ"
      }
    },
    {
      "cell_type": "code",
      "source": [
        "def divide(a, b):\n",
        "    # 例外処理\n",
        "    # 例外が起こりうる部分\n",
        "    try:\n",
        "        print(f\"計算結果：{a/b}\")\n",
        "\n",
        "    # 例外発生時に実行\n",
        "    except ZeroDivisionError as e:\n",
        "        print(e)\n",
        "        print(\"0では割り算できません\")\n",
        "\n",
        "    # 例外発生時に実行\n",
        "    except TypeError as e:\n",
        "        print(e)\n",
        "        print(\"文字列の割り算はできません\")\n",
        "\n",
        "    # 常に実行\n",
        "    finally :\n",
        "        print(\"全ての処理が終了しました\")\n",
        "\n",
        "divide(1, \"0\")\n",
        "divide(1, 2)"
      ],
      "metadata": {
        "colab": {
          "base_uri": "https://localhost:8080/"
        },
        "id": "SYu5wVG3EozN",
        "outputId": "56da87b5-cafb-4970-d3f9-85e22ba64e4e"
      },
      "execution_count": null,
      "outputs": [
        {
          "output_type": "stream",
          "name": "stdout",
          "text": [
            "unsupported operand type(s) for /: 'int' and 'str'\n",
            "文字列の割り算はできません\n",
            "全ての処理が終了しました\n",
            "計算結果：0.5\n",
            "全ての処理が終了しました\n"
          ]
        }
      ]
    },
    {
      "cell_type": "markdown",
      "source": [
        "例外をキャッチするが、特に何もしない場合は  **`pass`**を使います。\n"
      ],
      "metadata": {
        "id": "SNEgj-pnFu4U"
      }
    },
    {
      "cell_type": "code",
      "source": [
        "def divide(a, b):\n",
        "    # 例外処理\n",
        "    # 例外が起こりうる部分\n",
        "    try:\n",
        "        print(f\"計算結果：{a/b}\")\n",
        "\n",
        "    # 例外発生時に実行\n",
        "    except ZeroDivisionError as e:\n",
        "        print(e)\n",
        "        print(\"0では割り算できません\")\n",
        "\n",
        "    # 例外発生時に実行\n",
        "    # 特に何もしない\n",
        "    except TypeError as e:\n",
        "        pass\n",
        "\n",
        "    # 常に実行\n",
        "    finally :\n",
        "        print(\"全ての処理が終了しました\")\n",
        "\n",
        "divide(1, \"0\")\n",
        "# divide(1, 2)"
      ],
      "metadata": {
        "colab": {
          "base_uri": "https://localhost:8080/"
        },
        "id": "pVzpysyPGFlJ",
        "outputId": "3d22e832-1cc2-41fd-c770-100ba4b22b53"
      },
      "execution_count": null,
      "outputs": [
        {
          "output_type": "stream",
          "name": "stdout",
          "text": [
            "全ての処理が終了しました\n"
          ]
        }
      ]
    },
    {
      "cell_type": "markdown",
      "source": [
        "特定の例外を発生させたいときは、\n",
        "**`raise`**を使います。\n",
        "\n",
        "`try-except`をテストしたいときによく使われます。"
      ],
      "metadata": {
        "id": "-nVEWElmHTB5"
      }
    },
    {
      "cell_type": "code",
      "source": [
        "\"\"\"\n",
        "    いちいち「print(f\"計算結果：{a/b}\")」と(a,b)を指定してテストするのは面倒\n",
        "    raiseすることでテストが簡単になる\n",
        "\"\"\"\n",
        "\n",
        "try:\n",
        "    # TODO あとで削除する\n",
        "    raise ZeroDivisionError\n",
        "except ZeroDivisionError as e:\n",
        "    print(\"0では割り算できません\")"
      ],
      "metadata": {
        "colab": {
          "base_uri": "https://localhost:8080/"
        },
        "id": "AGF2NL4XHoGM",
        "outputId": "3878f506-0fb3-4136-ff2e-a8e5c1845984"
      },
      "execution_count": null,
      "outputs": [
        {
          "output_type": "stream",
          "name": "stdout",
          "text": [
            "0では割り算できません\n"
          ]
        }
      ]
    },
    {
      "cell_type": "markdown",
      "source": [
        "exceptの中でraiseを記述すると、その例外を発生させることができます。\n",
        "\n",
        "プログラムをテストするときに使うことができます。"
      ],
      "metadata": {
        "id": "9QB3mrFtIxlG"
      }
    },
    {
      "cell_type": "code",
      "source": [
        "try:\n",
        "    # TODO あとで削除する\n",
        "    raise ZeroDivisionError\n",
        "except ZeroDivisionError as e:\n",
        "    print(\"0では割り算できません\")\n",
        "    raise"
      ],
      "metadata": {
        "colab": {
          "base_uri": "https://localhost:8080/",
          "height": 228
        },
        "id": "54I87ow9I-zU",
        "outputId": "5bef5914-be37-4cf6-df7b-40c03d050bb9"
      },
      "execution_count": null,
      "outputs": [
        {
          "output_type": "stream",
          "name": "stdout",
          "text": [
            "0では割り算できません\n"
          ]
        },
        {
          "output_type": "error",
          "ename": "ZeroDivisionError",
          "evalue": "",
          "traceback": [
            "\u001b[0;31m---------------------------------------------------------------------------\u001b[0m",
            "\u001b[0;31mZeroDivisionError\u001b[0m                         Traceback (most recent call last)",
            "\u001b[0;32m<ipython-input-46-d4990166e039>\u001b[0m in \u001b[0;36m<cell line: 1>\u001b[0;34m()\u001b[0m\n\u001b[1;32m      1\u001b[0m \u001b[0;32mtry\u001b[0m\u001b[0;34m:\u001b[0m\u001b[0;34m\u001b[0m\u001b[0;34m\u001b[0m\u001b[0m\n\u001b[1;32m      2\u001b[0m     \u001b[0;31m# TODO あとで削除する\u001b[0m\u001b[0;34m\u001b[0m\u001b[0;34m\u001b[0m\u001b[0m\n\u001b[0;32m----> 3\u001b[0;31m     \u001b[0;32mraise\u001b[0m \u001b[0mZeroDivisionError\u001b[0m\u001b[0;34m\u001b[0m\u001b[0;34m\u001b[0m\u001b[0m\n\u001b[0m\u001b[1;32m      4\u001b[0m \u001b[0;32mexcept\u001b[0m \u001b[0mZeroDivisionError\u001b[0m \u001b[0;32mas\u001b[0m \u001b[0me\u001b[0m\u001b[0;34m:\u001b[0m\u001b[0;34m\u001b[0m\u001b[0;34m\u001b[0m\u001b[0m\n\u001b[1;32m      5\u001b[0m     \u001b[0mprint\u001b[0m\u001b[0;34m(\u001b[0m\u001b[0;34m\"0では割り算できません\"\u001b[0m\u001b[0;34m)\u001b[0m\u001b[0;34m\u001b[0m\u001b[0;34m\u001b[0m\u001b[0m\n",
            "\u001b[0;31mZeroDivisionError\u001b[0m: "
          ]
        }
      ]
    },
    {
      "cell_type": "markdown",
      "source": [
        "### 3.5 JSONデータ処理"
      ],
      "metadata": {
        "id": "sjBpHOUqk5Z0"
      }
    },
    {
      "cell_type": "markdown",
      "source": [
        "**JSON**（JavaScript Object Notation）は、データを効率的に格納、交換、解析するための軽量なデータ形式です。  \n",
        "Pythonでは、JSON形式のデータを処理するための標準ライブラリが提供されています。\n",
        "\n",
        "JSONデータは、ディクショナリやリストのようなネストされた構造を持つテキスト形式のデータです。  \n",
        "オブジェクト（ディクショナリ）形式や配列（リスト）形式など、柔軟な形式が存在します。\n",
        "\n",
        "``` json\n",
        "{\n",
        "    \"name\": \"Japan\",\n",
        "    \"number\": 81,\n",
        "    \"code\": \"392\",\n",
        "    \"code_alpha\": [\"JP\", \"JPN\"]\n",
        "}\n",
        "\n",
        "```\n",
        "\n",
        "``` json\n",
        "[\n",
        "  {\n",
        "      \"name\": \"Japan\",\n",
        "      \"number\": 81,\n",
        "      \"code\": \"392\"\n",
        "  },\n",
        "  {\n",
        "      \"name\": \"America\",\n",
        "      \"number\": 1,\n",
        "      \"age\": \"840\n",
        "  }\n",
        "]\n",
        "```"
      ],
      "metadata": {
        "id": "MJTOVkWTMMb5"
      }
    },
    {
      "cell_type": "markdown",
      "source": [
        "JSONデータをPythonで処理する際には、  \n",
        "**`json.loads()`**関数を使用してJSON文字列をディクショナリやリストに変換します。  \n",
        "\n",
        "**※JSON形式ではキーと文字列はダブルクォート（\"）で囲まれている必要がある**\n"
      ],
      "metadata": {
        "id": "L3g4UZalQD1V"
      }
    },
    {
      "cell_type": "code",
      "source": [
        "import json\n",
        "\n",
        "# JSON文字列\n",
        "json_data = '{\"name\": \"Japan\", \"number\": 81, \"code\": \"392\", \"code_alpha\": [\"JP\", \"JPN\"]}'\n",
        "\n",
        "# JSON文字列をディクショナリに変換\n",
        "data = json.loads(json_data)\n",
        "\n",
        "# ディクショナリの内容を出力\n",
        "print(type(data), data)"
      ],
      "metadata": {
        "colab": {
          "base_uri": "https://localhost:8080/"
        },
        "id": "DALUJ_m6Qk-A",
        "outputId": "8712e348-2142-4300-902c-25fbd44e433a"
      },
      "execution_count": null,
      "outputs": [
        {
          "output_type": "stream",
          "name": "stdout",
          "text": [
            "<class 'dict'> {'name': 'Japan', 'number': 81, 'code': '392', 'code_alpha': ['JP', 'JPN']}\n"
          ]
        }
      ]
    },
    {
      "cell_type": "code",
      "source": [
        "import json\n",
        "\n",
        "# JSON文字列\n",
        "json_data = '[{\"name\": \"Japan\", \"number\": 81, \"code\": \"392\"}, {\"name\": \"America\", \"number\": 1, \"code\": \"840\"}]'\n",
        "\n",
        "# JSON文字列をディクショナリに変換\n",
        "data = json.loads(json_data)\n",
        "\n",
        "# ディクショナリの内容を出力\n",
        "print(type(data), data)"
      ],
      "metadata": {
        "colab": {
          "base_uri": "https://localhost:8080/"
        },
        "id": "L5bGjwTLRx1E",
        "outputId": "ca3f893c-1d11-424d-874f-887c4bed6d0c"
      },
      "execution_count": null,
      "outputs": [
        {
          "output_type": "stream",
          "name": "stdout",
          "text": [
            "<class 'list'> [{'name': 'Japan', 'number': 81, 'code': '392'}, {'name': 'America', 'number': 1, 'code': '840'}]\n"
          ]
        }
      ]
    },
    {
      "cell_type": "markdown",
      "source": [
        "また、JSONデータをPythonオブジェクトからJSON文字列に変換するには、**`json.dumps()`**関数を使用します。"
      ],
      "metadata": {
        "id": "ucUtoWnDTO7J"
      }
    },
    {
      "cell_type": "code",
      "source": [
        "import json\n",
        "\n",
        "# JSONデータ\n",
        "json_data = {\"name\": \"Japan\", \"number\": 81, \"code\": \"392\", \"code_alpha\": [\"JP\", \"JPN\"]}\n",
        "\n",
        "# ディクショナリをJSON文字列に変換\n",
        "# インデント幅を指定すると要素ごとに改行・インデントされる\n",
        "data = json.dumps(json_data, indent=4)\n",
        "\n",
        "# JSON文字列を出力\n",
        "print(type(data), \"\\n\", data)"
      ],
      "metadata": {
        "colab": {
          "base_uri": "https://localhost:8080/"
        },
        "id": "SfBKzhSTTrxW",
        "outputId": "f153bc9e-e4bc-4df9-863c-e688d5e468cf"
      },
      "execution_count": null,
      "outputs": [
        {
          "output_type": "stream",
          "name": "stdout",
          "text": [
            "<class 'str'> \n",
            " {\n",
            "    \"name\": \"Japan\",\n",
            "    \"number\": 81,\n",
            "    \"code\": \"392\",\n",
            "    \"code_alpha\": [\n",
            "        \"JP\",\n",
            "        \"JPN\"\n",
            "    ]\n",
            "}\n"
          ]
        }
      ]
    },
    {
      "cell_type": "code",
      "source": [
        "import json\n",
        "\n",
        "# JSONデータ\n",
        "json_data = [{\"name\": \"Japan\", \"number\": 81, \"code\": \"392\"}, {\"name\": \"America\", \"number\": 1, \"code\": \"840\"}]\n",
        "\n",
        "# ディクショナリをJSON文字列に変換\n",
        "# インデント幅を指定すると要素ごとに改行・インデントされる\n",
        "data = json.dumps(json_data, indent=2)\n",
        "\n",
        "# JSON文字列を出力\n",
        "print(type(data), \"\\n\", data)"
      ],
      "metadata": {
        "colab": {
          "base_uri": "https://localhost:8080/"
        },
        "id": "m7JN1w01VgUQ",
        "outputId": "d57d0508-59c7-4dd7-c4ac-ae3996290e0e"
      },
      "execution_count": null,
      "outputs": [
        {
          "output_type": "stream",
          "name": "stdout",
          "text": [
            "<class 'str'> \n",
            " [\n",
            "  {\n",
            "    \"name\": \"Japan\",\n",
            "    \"number\": 81,\n",
            "    \"code\": \"392\"\n",
            "  },\n",
            "  {\n",
            "    \"name\": \"America\",\n",
            "    \"number\": 1,\n",
            "    \"code\": \"840\"\n",
            "  }\n",
            "]\n"
          ]
        }
      ]
    },
    {
      "cell_type": "markdown",
      "source": [
        "PythonオブジェクトをJSONファイルとして保存するには、**`json.dump()`**関数を使用します。"
      ],
      "metadata": {
        "id": "ixluX1IOhnWU"
      }
    },
    {
      "cell_type": "code",
      "source": [
        "import json\n",
        "\n",
        "# JSONデータ\n",
        "json_data = {\"name\": \"Japan\", \"number\": 81, \"code\": \"392\", \"code_alpha\": [\"JP\", \"JPN\"]}\n",
        "\n",
        "# ディクショナリをJSONファイルに変換\n",
        "# 第一引数：Pythonオブジェクト  第二引数：ファイルオブジェクト\n",
        "# インデント幅を指定すると要素ごとに改行・インデントされる\n",
        "with open('test1.json', 'w') as f:\n",
        "    json.dump(json_data, f, indent=4)"
      ],
      "metadata": {
        "id": "32l5Wteghu6w"
      },
      "execution_count": null,
      "outputs": []
    },
    {
      "cell_type": "code",
      "source": [
        "import json\n",
        "\n",
        "# JSONデータ\n",
        "json_data = [{\"name\": \"Japan\", \"number\": 81, \"code\": \"392\"}, {\"name\": \"America\", \"number\": 1, \"code\": \"840\"}]\n",
        "\n",
        "# ディクショナリをJSONファイルに変換\n",
        "# 第一引数：Pythonオブジェクト  第二引数：ファイルオブジェクト\n",
        "# インデント幅を指定すると要素ごとに改行・インデントされる\n",
        "with open('test2.json', 'w') as f:\n",
        "    json.dump(json_data, f, indent=2)"
      ],
      "metadata": {
        "id": "XKQrAbMvhu68"
      },
      "execution_count": null,
      "outputs": []
    },
    {
      "cell_type": "markdown",
      "source": [
        "JSONファイルをPythonオブジェクトとして読み込むには、**`json.load()`**関数を使用します。"
      ],
      "metadata": {
        "id": "ltl7IAJ_jDWY"
      }
    },
    {
      "cell_type": "code",
      "source": [
        "import json\n",
        "\n",
        "# jsonファイル読み込み\n",
        "with open('test1.json') as f:\n",
        "    data = json.load(f)\n",
        "\n",
        "# ディクショナリの内容を出力\n",
        "print(type(data), data)"
      ],
      "metadata": {
        "colab": {
          "base_uri": "https://localhost:8080/"
        },
        "id": "qFCIfx8_jeQO",
        "outputId": "136986b1-3f57-4328-8d88-ab23a58bf8ce"
      },
      "execution_count": null,
      "outputs": [
        {
          "output_type": "stream",
          "name": "stdout",
          "text": [
            "<class 'dict'> {'name': 'Japan', 'number': 81, 'code': '392', 'code_alpha': ['JP', 'JPN']}\n"
          ]
        }
      ]
    },
    {
      "cell_type": "code",
      "source": [
        "import json\n",
        "\n",
        "# jsonファイル読み込み\n",
        "with open('test2.json') as f:\n",
        "    data = json.load(f)\n",
        "\n",
        "# ディクショナリの内容を出力\n",
        "print(type(data), data)"
      ],
      "metadata": {
        "colab": {
          "base_uri": "https://localhost:8080/"
        },
        "id": "URkk51R_j1tF",
        "outputId": "64cd4d34-b507-4a37-ace9-bce5129d5581"
      },
      "execution_count": null,
      "outputs": [
        {
          "output_type": "stream",
          "name": "stdout",
          "text": [
            "<class 'list'> [{'name': 'Japan', 'number': 81, 'code': '392'}, {'name': 'America', 'number': 1, 'code': '840'}]\n"
          ]
        }
      ]
    },
    {
      "cell_type": "markdown",
      "source": [
        "JSONデータを処理することで、ウェブ上のさまざまなサービスやデータソースから情報を取得し、  \n",
        "それを自分のプログラムに取り込むことができます。\n",
        "\n",
        "その中の一つの方法が**API**です。  \n",
        "APIから戻ってきたデータは **JSON形式** であることが多いとされています。"
      ],
      "metadata": {
        "id": "6o_HTg8BWAHK"
      }
    },
    {
      "cell_type": "markdown",
      "source": [
        "\n",
        "\n",
        "**API**（Application Programming Interface）は、アプリケーション間でデータや機能を共有するためのインターフェースです。\n",
        "\n",
        "APIは、他のアプリケーションやウェブサービスと連携してデータを取得したり、機能を利用したりするために使用されます。"
      ],
      "metadata": {
        "id": "hQsdpCzYk84M"
      }
    },
    {
      "cell_type": "markdown",
      "source": [
        "APIにはいくつかの種類があります。\n",
        "\n",
        "- **Web API** : インターネットを通じてアクセスできるAPIで、通常はHTTPリクエストを使用してデータを取得します。\n",
        "- **ライブラリ/API** : ソフトウェア内の機能を呼び出すためのライブラリやAPI。\n",
        "- **ハードウェア/API** : デバイスやハードウェアとの通信を可能にするAPI。  \n",
        "\n"
      ],
      "metadata": {
        "id": "90HQ8AcBlD0K"
      }
    },
    {
      "cell_type": "markdown",
      "source": [
        "APIを利用するためには、通常は以下の手順が必要です。\n",
        "\n",
        "1. **APIキーの取得（必要な場合があります）**：一部のAPIは、APIキーを提供して、アクセスを制御します。\n",
        "2. **APIエンドポイントの特定**：APIエンドポイントは、APIにアクセスするためのURLです。\n",
        "3. **リクエストの送信**：HTTPリクエスト（GET、POSTなど）を使用してAPIエンドポイントにリクエストを送信します。\n",
        "4. **レスポンスの処理**：APIからのレスポンスを受け取り、必要な情報を処理します。"
      ],
      "metadata": {
        "id": "hW1g2RoslHYz"
      }
    },
    {
      "cell_type": "markdown",
      "source": [
        "Pythonでは、主にWeb APIを使用して外部サービスとの連携を行います。  \n"
      ],
      "metadata": {
        "id": "uHFrhzQuld9F"
      }
    },
    {
      "cell_type": "markdown",
      "source": [
        "ここでは、天気予報APIを使用して、Pythonで天気情報を取得する実践プロジェクトを行います。  \n",
        "ここで用いたAPIについてはこちら → [「URL Builder」公式エディタ](https://open-meteo.com/en/docs#api_form)\n",
        "\n"
      ],
      "metadata": {
        "id": "wS5UVj_-znTS"
      }
    },
    {
      "cell_type": "code",
      "source": [
        "import json\n",
        "\n",
        "# 天気予報APIのエンドポイントとクエリパラメータ\n",
        "# ここでは北海道札幌市の座標を指定\n",
        "url = 'https://api.open-meteo.com/v1/forecast'\n",
        "params = {\n",
        "    'latitude': 43.0667,\n",
        "    'longitude': 141.35,\n",
        "    'daily': 'temperature_2m_max,temperature_2m_min,rain_sum',\n",
        "    'timezone': 'Asia/Tokyo'\n",
        "}\n",
        "\n",
        "# APIリクエストを送信してレスポンスを取得\n",
        "response = requests.get(url, params=params)\n",
        "\n",
        "# レスポンスから天気情報を取得\n",
        "# HTTPレスポンスオブジェクトのJSONデータをPythonのデータ構造に変換\n",
        "weather_data = response.json()\n",
        "\n",
        "# ディクショナリをJSON文字列に変換\n",
        "# インデント幅を指定すると要素ごとに改行・インデントされる\n",
        "print(json.dumps(weather_data, indent=4))"
      ],
      "metadata": {
        "colab": {
          "base_uri": "https://localhost:8080/"
        },
        "id": "N7tjus0AJZij",
        "outputId": "03f002cb-7ebb-4900-aaf5-27155f6d6eb7"
      },
      "execution_count": null,
      "outputs": [
        {
          "output_type": "stream",
          "name": "stdout",
          "text": [
            "<class 'dict'>\n",
            "{\n",
            "    \"latitude\": 43.05,\n",
            "    \"longitude\": 141.375,\n",
            "    \"generationtime_ms\": 0.06306171417236328,\n",
            "    \"utc_offset_seconds\": 32400,\n",
            "    \"timezone\": \"Asia/Tokyo\",\n",
            "    \"timezone_abbreviation\": \"JST\",\n",
            "    \"elevation\": 21.0,\n",
            "    \"daily_units\": {\n",
            "        \"time\": \"iso8601\",\n",
            "        \"temperature_2m_max\": \"\\u00b0C\",\n",
            "        \"temperature_2m_min\": \"\\u00b0C\",\n",
            "        \"rain_sum\": \"mm\"\n",
            "    },\n",
            "    \"daily\": {\n",
            "        \"time\": [\n",
            "            \"2024-02-23\",\n",
            "            \"2024-02-24\",\n",
            "            \"2024-02-25\",\n",
            "            \"2024-02-26\",\n",
            "            \"2024-02-27\",\n",
            "            \"2024-02-28\",\n",
            "            \"2024-02-29\"\n",
            "        ],\n",
            "        \"temperature_2m_max\": [\n",
            "            -4.2,\n",
            "            -3.5,\n",
            "            -0.5,\n",
            "            0.4,\n",
            "            1.5,\n",
            "            -0.6,\n",
            "            -0.1\n",
            "        ],\n",
            "        \"temperature_2m_min\": [\n",
            "            -9.3,\n",
            "            -10.1,\n",
            "            -6.9,\n",
            "            -7.6,\n",
            "            -4.1,\n",
            "            -5.3,\n",
            "            -9.1\n",
            "        ],\n",
            "        \"rain_sum\": [\n",
            "            0.0,\n",
            "            0.0,\n",
            "            0.0,\n",
            "            0.0,\n",
            "            0.0,\n",
            "            0.0,\n",
            "            0.0\n",
            "        ]\n",
            "    }\n",
            "}\n"
          ]
        }
      ]
    },
    {
      "cell_type": "code",
      "source": [
        "import requests\n",
        "\n",
        "# 天気予報APIのエンドポイントとクエリパラメータ\n",
        "# ここでは北海道札幌市の座標を指定\n",
        "url = 'https://api.open-meteo.com/v1/forecast'\n",
        "params = {\n",
        "    'latitude': 43.0667,\n",
        "    'longitude': 141.35,\n",
        "    'daily': 'temperature_2m_max,temperature_2m_min,rain_sum',\n",
        "    'timezone': 'Asia/Tokyo'\n",
        "}\n",
        "\n",
        "# APIリクエストを送信してレスポンスを取得\n",
        "response = requests.get(url, params=params)\n",
        "\n",
        "# レスポンスから天気情報を取得\n",
        "weather_data = response.json()\n",
        "\n",
        "# データを取得する\n",
        "dates = weather_data['daily']['time']\n",
        "max_temperatures = weather_data['daily']['temperature_2m_max']\n",
        "min_temperatures = weather_data['daily']['temperature_2m_min']\n",
        "rain_sums = weather_data['daily']['rain_sum']\n",
        "\n",
        "# 天気情報を表示\n",
        "# 一週間の天候予測を取得する\n",
        "print(\"天気情報:\")\n",
        "print(\"日付:\", dates)\n",
        "print(\"最高気温:\", max_temperatures)\n",
        "print(\"最低気温:\", min_temperatures)\n",
        "print(\"降雨量:\", rain_sums)"
      ],
      "metadata": {
        "colab": {
          "base_uri": "https://localhost:8080/"
        },
        "id": "HJmYhYKM0U5C",
        "outputId": "c702de5c-fff9-410f-8628-4696a2fd934f"
      },
      "execution_count": null,
      "outputs": [
        {
          "output_type": "stream",
          "name": "stdout",
          "text": [
            "天気情報:\n",
            "日付: ['2024-02-23', '2024-02-24', '2024-02-25', '2024-02-26', '2024-02-27', '2024-02-28', '2024-02-29']\n",
            "最高気温: [-4.2, -3.5, -0.5, 0.4, 1.5, -0.6, -0.1]\n",
            "最低気温: [-9.3, -10.1, -6.9, -7.6, -4.1, -5.3, -9.1]\n",
            "降雨量: [0.0, 0.0, 0.0, 0.0, 0.0, 0.0, 0.0]\n"
          ]
        }
      ]
    },
    {
      "cell_type": "code",
      "source": [
        "import plotly.graph_objects as go\n",
        "from plotly.subplots import make_subplots\n",
        "\n",
        "# グラフを作成する\n",
        "fig = make_subplots(specs=[[{\"secondary_y\": True}]])\n",
        "\n",
        "# 最高気温の折れ線グラフを追加する\n",
        "fig.add_trace(go.Scatter(x=dates, y=max_temperatures, mode='lines+markers', name='Max Temperature', yaxis='y1'))\n",
        "\n",
        "# 最低気温の折れ線グラフを追加する\n",
        "fig.add_trace(go.Scatter(x=dates, y=min_temperatures, mode='lines+markers', name='Min Temperature', yaxis='y1'))\n",
        "\n",
        "# 降水量の棒グラフを追加する\n",
        "fig.add_trace(go.Bar(x=dates, y=rain_sums, name='Rain Sum', yaxis='y2'))\n",
        "\n",
        "# グラフのレイアウトを設定する\n",
        "fig.update_xaxes(title=\"Date\", showgrid=False)\n",
        "fig.update_yaxes(title=\"Temperature (°C)\", showgrid=False, range=[min(min_temperatures)*1.25, max(max_temperatures)*1.25])\n",
        "fig.update_yaxes(title=\"Rain Sum (mm)\", showgrid=False, secondary_y=True, range=[0, max(rain_sums)*1.25])\n",
        "\n",
        "# グラフを表示する\n",
        "fig.show()"
      ],
      "metadata": {
        "colab": {
          "base_uri": "https://localhost:8080/",
          "height": 542
        },
        "id": "wa5nsjSK5QGQ",
        "outputId": "ed018f15-f41f-472f-a055-b578c1ef98b7"
      },
      "execution_count": null,
      "outputs": [
        {
          "output_type": "display_data",
          "data": {
            "text/html": [
              "<html>\n",
              "<head><meta charset=\"utf-8\" /></head>\n",
              "<body>\n",
              "    <div>            <script src=\"https://cdnjs.cloudflare.com/ajax/libs/mathjax/2.7.5/MathJax.js?config=TeX-AMS-MML_SVG\"></script><script type=\"text/javascript\">if (window.MathJax && window.MathJax.Hub && window.MathJax.Hub.Config) {window.MathJax.Hub.Config({SVG: {font: \"STIX-Web\"}});}</script>                <script type=\"text/javascript\">window.PlotlyConfig = {MathJaxConfig: 'local'};</script>\n",
              "        <script charset=\"utf-8\" src=\"https://cdn.plot.ly/plotly-2.24.1.min.js\"></script>                <div id=\"f9022bb3-ae5a-45b9-bde9-cc72c60b5f20\" class=\"plotly-graph-div\" style=\"height:525px; width:100%;\"></div>            <script type=\"text/javascript\">                                    window.PLOTLYENV=window.PLOTLYENV || {};                                    if (document.getElementById(\"f9022bb3-ae5a-45b9-bde9-cc72c60b5f20\")) {                    Plotly.newPlot(                        \"f9022bb3-ae5a-45b9-bde9-cc72c60b5f20\",                        [{\"mode\":\"lines+markers\",\"name\":\"Max Temperature\",\"x\":[\"2024-02-18\",\"2024-02-19\",\"2024-02-20\",\"2024-02-21\",\"2024-02-22\",\"2024-02-23\",\"2024-02-24\"],\"y\":[5.3,13.9,10.9,-5.1,-3.6,-4.6,-3.2],\"yaxis\":\"y\",\"type\":\"scatter\"},{\"mode\":\"lines+markers\",\"name\":\"Min Temperature\",\"x\":[\"2024-02-18\",\"2024-02-19\",\"2024-02-20\",\"2024-02-21\",\"2024-02-22\",\"2024-02-23\",\"2024-02-24\"],\"y\":[-4.3,1.8,-5.7,-7.0,-7.2,-8.8,-10.2],\"yaxis\":\"y\",\"type\":\"scatter\"},{\"name\":\"Rain Sum\",\"x\":[\"2024-02-18\",\"2024-02-19\",\"2024-02-20\",\"2024-02-21\",\"2024-02-22\",\"2024-02-23\",\"2024-02-24\"],\"y\":[0.0,0.3,6.6,0.0,0.0,0.0,0.01],\"yaxis\":\"y2\",\"type\":\"bar\"}],                        {\"template\":{\"data\":{\"histogram2dcontour\":[{\"type\":\"histogram2dcontour\",\"colorbar\":{\"outlinewidth\":0,\"ticks\":\"\"},\"colorscale\":[[0.0,\"#0d0887\"],[0.1111111111111111,\"#46039f\"],[0.2222222222222222,\"#7201a8\"],[0.3333333333333333,\"#9c179e\"],[0.4444444444444444,\"#bd3786\"],[0.5555555555555556,\"#d8576b\"],[0.6666666666666666,\"#ed7953\"],[0.7777777777777778,\"#fb9f3a\"],[0.8888888888888888,\"#fdca26\"],[1.0,\"#f0f921\"]]}],\"choropleth\":[{\"type\":\"choropleth\",\"colorbar\":{\"outlinewidth\":0,\"ticks\":\"\"}}],\"histogram2d\":[{\"type\":\"histogram2d\",\"colorbar\":{\"outlinewidth\":0,\"ticks\":\"\"},\"colorscale\":[[0.0,\"#0d0887\"],[0.1111111111111111,\"#46039f\"],[0.2222222222222222,\"#7201a8\"],[0.3333333333333333,\"#9c179e\"],[0.4444444444444444,\"#bd3786\"],[0.5555555555555556,\"#d8576b\"],[0.6666666666666666,\"#ed7953\"],[0.7777777777777778,\"#fb9f3a\"],[0.8888888888888888,\"#fdca26\"],[1.0,\"#f0f921\"]]}],\"heatmap\":[{\"type\":\"heatmap\",\"colorbar\":{\"outlinewidth\":0,\"ticks\":\"\"},\"colorscale\":[[0.0,\"#0d0887\"],[0.1111111111111111,\"#46039f\"],[0.2222222222222222,\"#7201a8\"],[0.3333333333333333,\"#9c179e\"],[0.4444444444444444,\"#bd3786\"],[0.5555555555555556,\"#d8576b\"],[0.6666666666666666,\"#ed7953\"],[0.7777777777777778,\"#fb9f3a\"],[0.8888888888888888,\"#fdca26\"],[1.0,\"#f0f921\"]]}],\"heatmapgl\":[{\"type\":\"heatmapgl\",\"colorbar\":{\"outlinewidth\":0,\"ticks\":\"\"},\"colorscale\":[[0.0,\"#0d0887\"],[0.1111111111111111,\"#46039f\"],[0.2222222222222222,\"#7201a8\"],[0.3333333333333333,\"#9c179e\"],[0.4444444444444444,\"#bd3786\"],[0.5555555555555556,\"#d8576b\"],[0.6666666666666666,\"#ed7953\"],[0.7777777777777778,\"#fb9f3a\"],[0.8888888888888888,\"#fdca26\"],[1.0,\"#f0f921\"]]}],\"contourcarpet\":[{\"type\":\"contourcarpet\",\"colorbar\":{\"outlinewidth\":0,\"ticks\":\"\"}}],\"contour\":[{\"type\":\"contour\",\"colorbar\":{\"outlinewidth\":0,\"ticks\":\"\"},\"colorscale\":[[0.0,\"#0d0887\"],[0.1111111111111111,\"#46039f\"],[0.2222222222222222,\"#7201a8\"],[0.3333333333333333,\"#9c179e\"],[0.4444444444444444,\"#bd3786\"],[0.5555555555555556,\"#d8576b\"],[0.6666666666666666,\"#ed7953\"],[0.7777777777777778,\"#fb9f3a\"],[0.8888888888888888,\"#fdca26\"],[1.0,\"#f0f921\"]]}],\"surface\":[{\"type\":\"surface\",\"colorbar\":{\"outlinewidth\":0,\"ticks\":\"\"},\"colorscale\":[[0.0,\"#0d0887\"],[0.1111111111111111,\"#46039f\"],[0.2222222222222222,\"#7201a8\"],[0.3333333333333333,\"#9c179e\"],[0.4444444444444444,\"#bd3786\"],[0.5555555555555556,\"#d8576b\"],[0.6666666666666666,\"#ed7953\"],[0.7777777777777778,\"#fb9f3a\"],[0.8888888888888888,\"#fdca26\"],[1.0,\"#f0f921\"]]}],\"mesh3d\":[{\"type\":\"mesh3d\",\"colorbar\":{\"outlinewidth\":0,\"ticks\":\"\"}}],\"scatter\":[{\"fillpattern\":{\"fillmode\":\"overlay\",\"size\":10,\"solidity\":0.2},\"type\":\"scatter\"}],\"parcoords\":[{\"type\":\"parcoords\",\"line\":{\"colorbar\":{\"outlinewidth\":0,\"ticks\":\"\"}}}],\"scatterpolargl\":[{\"type\":\"scatterpolargl\",\"marker\":{\"colorbar\":{\"outlinewidth\":0,\"ticks\":\"\"}}}],\"bar\":[{\"error_x\":{\"color\":\"#2a3f5f\"},\"error_y\":{\"color\":\"#2a3f5f\"},\"marker\":{\"line\":{\"color\":\"#E5ECF6\",\"width\":0.5},\"pattern\":{\"fillmode\":\"overlay\",\"size\":10,\"solidity\":0.2}},\"type\":\"bar\"}],\"scattergeo\":[{\"type\":\"scattergeo\",\"marker\":{\"colorbar\":{\"outlinewidth\":0,\"ticks\":\"\"}}}],\"scatterpolar\":[{\"type\":\"scatterpolar\",\"marker\":{\"colorbar\":{\"outlinewidth\":0,\"ticks\":\"\"}}}],\"histogram\":[{\"marker\":{\"pattern\":{\"fillmode\":\"overlay\",\"size\":10,\"solidity\":0.2}},\"type\":\"histogram\"}],\"scattergl\":[{\"type\":\"scattergl\",\"marker\":{\"colorbar\":{\"outlinewidth\":0,\"ticks\":\"\"}}}],\"scatter3d\":[{\"type\":\"scatter3d\",\"line\":{\"colorbar\":{\"outlinewidth\":0,\"ticks\":\"\"}},\"marker\":{\"colorbar\":{\"outlinewidth\":0,\"ticks\":\"\"}}}],\"scattermapbox\":[{\"type\":\"scattermapbox\",\"marker\":{\"colorbar\":{\"outlinewidth\":0,\"ticks\":\"\"}}}],\"scatterternary\":[{\"type\":\"scatterternary\",\"marker\":{\"colorbar\":{\"outlinewidth\":0,\"ticks\":\"\"}}}],\"scattercarpet\":[{\"type\":\"scattercarpet\",\"marker\":{\"colorbar\":{\"outlinewidth\":0,\"ticks\":\"\"}}}],\"carpet\":[{\"aaxis\":{\"endlinecolor\":\"#2a3f5f\",\"gridcolor\":\"white\",\"linecolor\":\"white\",\"minorgridcolor\":\"white\",\"startlinecolor\":\"#2a3f5f\"},\"baxis\":{\"endlinecolor\":\"#2a3f5f\",\"gridcolor\":\"white\",\"linecolor\":\"white\",\"minorgridcolor\":\"white\",\"startlinecolor\":\"#2a3f5f\"},\"type\":\"carpet\"}],\"table\":[{\"cells\":{\"fill\":{\"color\":\"#EBF0F8\"},\"line\":{\"color\":\"white\"}},\"header\":{\"fill\":{\"color\":\"#C8D4E3\"},\"line\":{\"color\":\"white\"}},\"type\":\"table\"}],\"barpolar\":[{\"marker\":{\"line\":{\"color\":\"#E5ECF6\",\"width\":0.5},\"pattern\":{\"fillmode\":\"overlay\",\"size\":10,\"solidity\":0.2}},\"type\":\"barpolar\"}],\"pie\":[{\"automargin\":true,\"type\":\"pie\"}]},\"layout\":{\"autotypenumbers\":\"strict\",\"colorway\":[\"#636efa\",\"#EF553B\",\"#00cc96\",\"#ab63fa\",\"#FFA15A\",\"#19d3f3\",\"#FF6692\",\"#B6E880\",\"#FF97FF\",\"#FECB52\"],\"font\":{\"color\":\"#2a3f5f\"},\"hovermode\":\"closest\",\"hoverlabel\":{\"align\":\"left\"},\"paper_bgcolor\":\"white\",\"plot_bgcolor\":\"#E5ECF6\",\"polar\":{\"bgcolor\":\"#E5ECF6\",\"angularaxis\":{\"gridcolor\":\"white\",\"linecolor\":\"white\",\"ticks\":\"\"},\"radialaxis\":{\"gridcolor\":\"white\",\"linecolor\":\"white\",\"ticks\":\"\"}},\"ternary\":{\"bgcolor\":\"#E5ECF6\",\"aaxis\":{\"gridcolor\":\"white\",\"linecolor\":\"white\",\"ticks\":\"\"},\"baxis\":{\"gridcolor\":\"white\",\"linecolor\":\"white\",\"ticks\":\"\"},\"caxis\":{\"gridcolor\":\"white\",\"linecolor\":\"white\",\"ticks\":\"\"}},\"coloraxis\":{\"colorbar\":{\"outlinewidth\":0,\"ticks\":\"\"}},\"colorscale\":{\"sequential\":[[0.0,\"#0d0887\"],[0.1111111111111111,\"#46039f\"],[0.2222222222222222,\"#7201a8\"],[0.3333333333333333,\"#9c179e\"],[0.4444444444444444,\"#bd3786\"],[0.5555555555555556,\"#d8576b\"],[0.6666666666666666,\"#ed7953\"],[0.7777777777777778,\"#fb9f3a\"],[0.8888888888888888,\"#fdca26\"],[1.0,\"#f0f921\"]],\"sequentialminus\":[[0.0,\"#0d0887\"],[0.1111111111111111,\"#46039f\"],[0.2222222222222222,\"#7201a8\"],[0.3333333333333333,\"#9c179e\"],[0.4444444444444444,\"#bd3786\"],[0.5555555555555556,\"#d8576b\"],[0.6666666666666666,\"#ed7953\"],[0.7777777777777778,\"#fb9f3a\"],[0.8888888888888888,\"#fdca26\"],[1.0,\"#f0f921\"]],\"diverging\":[[0,\"#8e0152\"],[0.1,\"#c51b7d\"],[0.2,\"#de77ae\"],[0.3,\"#f1b6da\"],[0.4,\"#fde0ef\"],[0.5,\"#f7f7f7\"],[0.6,\"#e6f5d0\"],[0.7,\"#b8e186\"],[0.8,\"#7fbc41\"],[0.9,\"#4d9221\"],[1,\"#276419\"]]},\"xaxis\":{\"gridcolor\":\"white\",\"linecolor\":\"white\",\"ticks\":\"\",\"title\":{\"standoff\":15},\"zerolinecolor\":\"white\",\"automargin\":true,\"zerolinewidth\":2},\"yaxis\":{\"gridcolor\":\"white\",\"linecolor\":\"white\",\"ticks\":\"\",\"title\":{\"standoff\":15},\"zerolinecolor\":\"white\",\"automargin\":true,\"zerolinewidth\":2},\"scene\":{\"xaxis\":{\"backgroundcolor\":\"#E5ECF6\",\"gridcolor\":\"white\",\"linecolor\":\"white\",\"showbackground\":true,\"ticks\":\"\",\"zerolinecolor\":\"white\",\"gridwidth\":2},\"yaxis\":{\"backgroundcolor\":\"#E5ECF6\",\"gridcolor\":\"white\",\"linecolor\":\"white\",\"showbackground\":true,\"ticks\":\"\",\"zerolinecolor\":\"white\",\"gridwidth\":2},\"zaxis\":{\"backgroundcolor\":\"#E5ECF6\",\"gridcolor\":\"white\",\"linecolor\":\"white\",\"showbackground\":true,\"ticks\":\"\",\"zerolinecolor\":\"white\",\"gridwidth\":2}},\"shapedefaults\":{\"line\":{\"color\":\"#2a3f5f\"}},\"annotationdefaults\":{\"arrowcolor\":\"#2a3f5f\",\"arrowhead\":0,\"arrowwidth\":1},\"geo\":{\"bgcolor\":\"white\",\"landcolor\":\"#E5ECF6\",\"subunitcolor\":\"white\",\"showland\":true,\"showlakes\":true,\"lakecolor\":\"white\"},\"title\":{\"x\":0.05},\"mapbox\":{\"style\":\"light\"}}},\"xaxis\":{\"anchor\":\"y\",\"domain\":[0.0,0.94],\"title\":{\"text\":\"Date\"},\"showgrid\":false},\"yaxis\":{\"anchor\":\"x\",\"domain\":[0.0,1.0],\"title\":{\"text\":\"Temperature (\\u00b0C)\"},\"showgrid\":false,\"range\":[-12.75,17.375]},\"yaxis2\":{\"anchor\":\"x\",\"overlaying\":\"y\",\"side\":\"right\",\"title\":{\"text\":\"Rain Sum (mm)\"},\"showgrid\":false,\"range\":[0,8.25]}},                        {\"responsive\": true}                    ).then(function(){\n",
              "                            \n",
              "var gd = document.getElementById('f9022bb3-ae5a-45b9-bde9-cc72c60b5f20');\n",
              "var x = new MutationObserver(function (mutations, observer) {{\n",
              "        var display = window.getComputedStyle(gd).display;\n",
              "        if (!display || display === 'none') {{\n",
              "            console.log([gd, 'removed!']);\n",
              "            Plotly.purge(gd);\n",
              "            observer.disconnect();\n",
              "        }}\n",
              "}});\n",
              "\n",
              "// Listen for the removal of the full notebook cells\n",
              "var notebookContainer = gd.closest('#notebook-container');\n",
              "if (notebookContainer) {{\n",
              "    x.observe(notebookContainer, {childList: true});\n",
              "}}\n",
              "\n",
              "// Listen for the clearing of the current output cell\n",
              "var outputEl = gd.closest('.output');\n",
              "if (outputEl) {{\n",
              "    x.observe(outputEl, {childList: true});\n",
              "}}\n",
              "\n",
              "                        })                };                            </script>        </div>\n",
              "</body>\n",
              "</html>"
            ]
          },
          "metadata": {}
        }
      ]
    },
    {
      "cell_type": "markdown",
      "source": [
        "<details>\n",
        " <summary>表示するテキスト</summary>\n",
        " 折りたたむ内容（クリックすると表示される）\n",
        "</details>"
      ],
      "metadata": {
        "id": "amFNFr9e9ENK"
      }
    }
  ]
}