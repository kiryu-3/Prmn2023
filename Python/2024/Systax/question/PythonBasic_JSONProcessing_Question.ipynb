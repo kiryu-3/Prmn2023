{
  "nbformat": 4,
  "nbformat_minor": 0,
  "metadata": {
    "colab": {
      "provenance": [],
      "authorship_tag": "ABX9TyNBzd289EfntgsihYePdymV",
      "include_colab_link": true
    },
    "kernelspec": {
      "name": "python3",
      "display_name": "Python 3"
    },
    "language_info": {
      "name": "python"
    }
  },
  "cells": [
    {
      "cell_type": "markdown",
      "metadata": {
        "id": "view-in-github",
        "colab_type": "text"
      },
      "source": [
        "<a href=\"https://colab.research.google.com/github/kiryu-3/Prmn2023/blob/main/Python/2024/Systax/question/PythonBasic_JSONProcessing_Question.ipynb\" target=\"_parent\"><img src=\"https://colab.research.google.com/assets/colab-badge.svg\" alt=\"Open In Colab\"/></a>"
      ]
    },
    {
      "cell_type": "markdown",
      "source": [
        "## JSONデータ処理 課題"
      ],
      "metadata": {
        "id": "ikjnj3ei-jVR"
      }
    },
    {
      "cell_type": "markdown",
      "source": [
        "### 問題1"
      ],
      "metadata": {
        "id": "KaDYifN7-o4L"
      }
    },
    {
      "cell_type": "markdown",
      "source": [
        "国コードのデータを、スクレイピングをすることで取得します。  \n",
        "jsonファイル`question1.json`から日本・アメリカ合衆国・オーストラリアの情報を指定の形式で取得する関数`homework`を作成してください。   \n",
        "\n",
        "関数`homework`は引数`file_path`と`countries_list`を受け取ります。\n",
        "\n",
        "- `file_path`：ファイルのパス名\n",
        "- `countries_list`：取得したい国名のリスト。\n",
        "\n",
        "jsonファイルの形式\n",
        "``` json\n",
        "[\n",
        "  {\n",
        "    \"companyjp\": \"アメリカ合衆国\",\n",
        "    \"companyen\": \"United States\",\n",
        "    \"numeric\": 840,\n",
        "    \"alpha3\": \"USA\",\n",
        "    \"alpha2\": \"US\",\n",
        "    \"location\": \"北アメリカ\",\n",
        "    \"subdivision\": \"ISO 3166-2:US\"\n",
        "  },\n",
        "  {\n",
        "    \"companyjp\": \"オーストラリア\",\n",
        "    \"companyen\": \"Australia\",\n",
        "    \"numeric\": \"036\",\n",
        "    \"alpha3\": \"AUS\",\n",
        "    \"alpha2\": \"AU\",\n",
        "    \"location\": \"オセアニア\",\n",
        "    \"subdivision\": \"ISO 3166-2:AU\"\n",
        "  },\n",
        "  {\n",
        "     \"companyjp\": \"日本\",\n",
        "     \"companyen\": \"Japan\",\n",
        "     \"numeric\": 392,\n",
        "     \"alpha3\": \"JPN\",\n",
        "     \"alpha2\": \"JP\",\n",
        "     \"location\": \"東アジア\",\n",
        "     \"subdivision\": \"ISO 3166-2:JP\"\n",
        "  },\n",
        "  …（続く）\n",
        "]\n",
        "```\n",
        "\n",
        "期待される出力\n",
        "\n",
        "``` json\n",
        "{\n",
        "    \"アメリカ合衆国\": {\n",
        "        \"name\": \"United States\",\n",
        "        \"code\": 840,\n",
        "        \"code_alpha\": [\n",
        "            \"US\",\n",
        "            \"USA\"\n",
        "        ]\n",
        "    },\n",
        "    \"オーストラリア\": {\n",
        "        \"name\": \"Australia\",\n",
        "        \"code\": \"036\",\n",
        "        \"code_alpha\": [\n",
        "            \"AU\",\n",
        "            \"AUS\"\n",
        "        ]\n",
        "    },\n",
        "    \"日本\": {\n",
        "        \"name\": \"Japan\",\n",
        "        \"code\": 392,\n",
        "        \"code_alpha\": [\n",
        "            \"JP\",\n",
        "            \"JPN\"\n",
        "        ]\n",
        "    }\n",
        "}\n",
        "```\n"
      ],
      "metadata": {
        "id": "S5cJEDax_s-0"
      }
    },
    {
      "cell_type": "markdown",
      "source": [
        "スクレイピングは以下のコードを実行することで行われます。`question1.json`が生成されます。"
      ],
      "metadata": {
        "id": "M8NQ3vE6Dy2V"
      }
    },
    {
      "cell_type": "code",
      "source": [
        "# スクレイピングのためのインポート\n",
        "from bs4 import BeautifulSoup\n",
        "import urllib.request\n",
        "\n",
        "\n",
        "def fetch_html(url: str) -> str:\n",
        "    with urllib.request.urlopen(url) as res:\n",
        "        html = res.read().decode()\n",
        "    return html\n",
        "\n",
        "html = fetch_html(\"https://qiita.com/kageryosan/items/dbf91cfdb460d26368be\")\n",
        "# BeautifulSoupを使ってHTMLを解析\n",
        "soup = BeautifulSoup(html, \"html.parser\")\n",
        "\n",
        "# class属性が\"code-frame\"の要素を抽出\n",
        "code_frame_div = soup.find(\"div\", class_=\"code-frame\")\n",
        "\n",
        "# JSONデータを取得\n",
        "json_data = code_frame_div.find(\"code\").text.strip()\n",
        "# 文字列から最後のカンマを取り除く\n",
        "json_data = json_data.rsplit(',', 1)[0] + '\\n]'\n",
        "\n",
        "# pythonオブジェクト（ここではリスト）に変換する\n",
        "# ensure_ascii=Falseを指定して日本語文字化けを防ぐ\n",
        "parsed_data = json.loads(json_data)\n",
        "print(json.dumps(parsed_data[:3], indent=4, ensure_ascii=False))\n",
        "\n",
        "# ファイルに書き込む\n",
        "# ensure_ascii=Falseを指定して日本語文字化けを防ぐ\n",
        "with open('question1.json', 'w') as f:\n",
        "    json.dump(parsed_data, f, indent=4, ensure_ascii=False)"
      ],
      "metadata": {
        "colab": {
          "base_uri": "https://localhost:8080/"
        },
        "id": "_uwlkNOcagcw",
        "outputId": "ab335b68-b38b-4b57-8210-715ebfdc12cd"
      },
      "execution_count": null,
      "outputs": [
        {
          "output_type": "stream",
          "name": "stdout",
          "text": [
            "[\n",
            "    {\n",
            "        \"companyjp\": \"アイスランド\",\n",
            "        \"companyen\": \"Iceland\",\n",
            "        \"numeric\": 352,\n",
            "        \"alpha3\": \"ISL\",\n",
            "        \"alpha2\": \"IS\",\n",
            "        \"location\": \"北ヨーロッパ\",\n",
            "        \"subdivision\": \"ISO 3166-2:IS\"\n",
            "    },\n",
            "    {\n",
            "        \"companyjp\": \"アイルランド\",\n",
            "        \"companyen\": \"Ireland\",\n",
            "        \"numeric\": 372,\n",
            "        \"alpha3\": \"IRL\",\n",
            "        \"alpha2\": \"IE\",\n",
            "        \"location\": \"西ヨーロッパ\",\n",
            "        \"subdivision\": \"ISO 3166-2:IE\"\n",
            "    },\n",
            "    {\n",
            "        \"companyjp\": \"アゼルバイジャン\",\n",
            "        \"companyen\": \"Azerbaijan\",\n",
            "        \"numeric\": \"031\",\n",
            "        \"alpha3\": \"AZE\",\n",
            "        \"alpha2\": \"AZ\",\n",
            "        \"location\": \"東ヨーロッパ\",\n",
            "        \"subdivision\": \"ISO 3166-2:AZ\"\n",
            "    }\n",
            "]\n"
          ]
        }
      ]
    },
    {
      "cell_type": "code",
      "source": [
        "import json\n",
        "import time\n",
        "import requests\n",
        "\n",
        "# !!WRITE ME!!に処理を記入する\n",
        "def homework(file_path, countries_list):\n",
        "    !!WRITE ME!!\n",
        "     print(json.dumps(countries, indent=4, ensure_ascii=False))\n",
        "\n",
        "homework(\"question1.json\", [\"日本\", \"アメリカ合衆国\", \"オーストラリア\"])"
      ],
      "metadata": {
        "id": "ZBkYyIp7C_wP"
      },
      "execution_count": null,
      "outputs": []
    },
    {
      "cell_type": "code",
      "source": [
        "import json\n",
        "import time\n",
        "import requests\n",
        "\n",
        "def homework(file_path, countries_list):\n",
        "    # jsonファイル読み込み\n",
        "    with open(file_path) as f:\n",
        "        data = json.load(f)\n",
        "\n",
        "    # 国の情報を取り出し指定の形式で出力\n",
        "    countries = {}\n",
        "    for entry in data:\n",
        "        if entry[\"companyjp\"] in countries_list:\n",
        "            country_name = entry[\"companyjp\"]\n",
        "            country_info = {\"name\": entry[\"companyen\"], \"code\": entry[\"numeric\"], \"code_alpha\": [entry[\"alpha2\"], entry[\"alpha3\"]]}\n",
        "            countries[country_name] = country_info\n",
        "\n",
        "    print(json.dumps(countries, indent=4, ensure_ascii=False))\n",
        "\n",
        "homework(\"question1.json\", [\"日本\", \"アメリカ合衆国\", \"オーストラリア\"])"
      ],
      "metadata": {
        "colab": {
          "base_uri": "https://localhost:8080/"
        },
        "id": "P87t3TlcDCRH",
        "outputId": "7b537b2d-ab97-40a5-eec5-b216b0bd3a96"
      },
      "execution_count": null,
      "outputs": [
        {
          "output_type": "stream",
          "name": "stdout",
          "text": [
            "{\n",
            "    \"アメリカ合衆国\": {\n",
            "        \"name\": \"United States\",\n",
            "        \"code\": 840,\n",
            "        \"code_alpha\": [\n",
            "            \"US\",\n",
            "            \"USA\"\n",
            "        ]\n",
            "    },\n",
            "    \"オーストラリア\": {\n",
            "        \"name\": \"Australia\",\n",
            "        \"code\": \"036\",\n",
            "        \"code_alpha\": [\n",
            "            \"AU\",\n",
            "            \"AUS\"\n",
            "        ]\n",
            "    },\n",
            "    \"日本\": {\n",
            "        \"name\": \"Japan\",\n",
            "        \"code\": 392,\n",
            "        \"code_alpha\": [\n",
            "            \"JP\",\n",
            "            \"JPN\"\n",
            "        ]\n",
            "    }\n",
            "}\n"
          ]
        }
      ]
    },
    {
      "cell_type": "markdown",
      "source": [
        "### 問題2"
      ],
      "metadata": {
        "id": "JvdEAa6dESuD"
      }
    },
    {
      "cell_type": "markdown",
      "source": [
        "[**REST Countries**](https://restcountries.com/)と呼ばれる、国の情報を返してくれるAPIからデータを取得します。\n",
        "\n",
        "ここでは例として、日本の情報を取得してみます。以下URLにアクセスしてください。\n",
        "\n",
        "https://restcountries.com/v3.1/alpha/aus\n",
        "\n",
        "![](https://imgur.com/H5DQJTE.png)\n",
        "\n",
        "URLに関してはアルファベット2文字、3文字、数字どれでも可能です。\n",
        "\n",
        "``` python\n",
        "# 「REST Countries」APIのエンドポイント\n",
        "# アルファベット2文字、3文字、数字どれでも可\n",
        "# 例：日本\n",
        "\n",
        "url = 'https://restcountries.com/v3.1/alpha/jpn'\n",
        "url = 'https://restcountries.com/v3.1/alpha/jp'\n",
        "url = 'https://restcountries.com/v3.1/alpha/392'\n",
        "```"
      ],
      "metadata": {
        "id": "SZ0kScELEqmm"
      }
    },
    {
      "cell_type": "markdown",
      "source": [
        "日本・アメリカ合衆国・オーストラリアの地域・小地域・人口・首都の情報を指定の形式で取得する関数`homework`を作成してください。   \n",
        "\n",
        "関数`homework`は引数`file_path`と`countries_list`を受け取ります。\n",
        "\n",
        "- `file_path`：ファイルのパス名\n",
        "- `countries_list`：取得したい国名のリスト。\n",
        "\n",
        "期待される出力\n",
        "\n",
        "``` json\n",
        "{\n",
        "    \"アメリカ合衆国\": {\n",
        "        \"region\": \"Americas\",\n",
        "        \"subregion\": \"North America\",\n",
        "        \"population\": \"329,484,123\",\n",
        "        \"capital\": \"Washington, D.C.\"\n",
        "    },\n",
        "    \"オーストラリア\": {\n",
        "        \"region\": \"Oceania\",\n",
        "        \"subregion\": \"Australia and New Zealand\",\n",
        "        \"population\": \"25,687,041\",\n",
        "        \"capital\": \"Canberra\"\n",
        "    },\n",
        "    \"日本\": {\n",
        "        \"region\": \"Asia\",\n",
        "        \"subregion\": \"Eastern Asia\",\n",
        "        \"population\": \"125,836,021\",\n",
        "        \"capital\": \"Tokyo\"\n",
        "    }\n",
        "}\n",
        "```"
      ],
      "metadata": {
        "id": "pQA_AxS1NVbz"
      }
    },
    {
      "cell_type": "code",
      "source": [
        "import json\n",
        "import time\n",
        "import requests\n",
        "\n",
        "# !!WRITE ME!!に処理を記入する\n",
        "def homework(file_path, countries_list):\n",
        "    # 問題1のhomework関数と同様\n",
        "    def extract_countries_info(file_path, countries_list):\n",
        "        !!WRITE ME!!\n",
        "        return countries\n",
        "\n",
        "    def get_country_info(countries):\n",
        "        !!WRITE ME!!\n",
        "        return countries_info\n",
        "\n",
        "    # 国コード情報を取得\n",
        "    countries = extract_countries_info(file_path, countries_list)\n",
        "    # 各国の地域・小地域・人口・首都の情報を取得\n",
        "    countries_info = get_country_info(countries)\n",
        "\n",
        "    print(json.dumps(countries_info, indent=4, ensure_ascii=False))\n",
        "\n",
        "homework(\"question1.json\", [\"日本\", \"アメリカ合衆国\", \"オーストラリア\"])"
      ],
      "metadata": {
        "id": "sXlSSebEWF4m"
      },
      "execution_count": null,
      "outputs": []
    },
    {
      "cell_type": "markdown",
      "source": [
        "### 問題3"
      ],
      "metadata": {
        "id": "9MLtfa1BW9XP"
      }
    },
    {
      "cell_type": "markdown",
      "source": [
        "[**Worldwide Public Holidays API**](https://date.nager.at/Api)と呼ばれる、国の祝日リストを返してくれるAPIからデータを取得します。\n",
        "\n",
        "ここでは例として、日本の情報を取得してみます。以下URLにアクセスしてください。\n",
        "\n",
        "https://date.nager.at/api/v2/PublicHolidays/2024/JP\n",
        "\n",
        "![](https://imgur.com/GXsxYxv.png)\n",
        "\n",
        "URLに関してはアルファベット2文字のみです。  \n",
        "年を指定する必要があります。\n"
      ],
      "metadata": {
        "id": "6yUO2aCTW9XP"
      }
    },
    {
      "cell_type": "markdown",
      "source": [
        "日本・アメリカ合衆国・オーストラリアの今年の祝日情報を指定の形式で取得する関数`homework`を作成してください。   \n",
        "\n",
        "関数`homework`は引数`file_path`と`countries_list`を受け取ります。\n",
        "\n",
        "- `file_path`：ファイルのパス名\n",
        "- `countries_list`：取得したい国名のリスト。\n",
        "\n",
        "期待される出力\n",
        "\n",
        "``` json\n",
        "{\n",
        "    \"アメリカ合衆国\": {\n",
        "        \"New Year's Day\": \"2024-01-01\",\n",
        "        \"Martin Luther King, Jr. Day\": \"2024-01-15\",\n",
        "        \"Presidents Day\": \"2024-02-19\",\n",
        "        \"Good Friday\": \"2024-03-29\",\n",
        "        \"Memorial Day\": \"2024-05-27\",\n",
        "        \"Juneteenth\": \"2024-06-19\",\n",
        "        \"Independence Day\": \"2024-07-04\",\n",
        "        \"Labor Day\": \"2024-09-02\",\n",
        "        \"Columbus Day\": \"2024-10-14\",\n",
        "        \"Veterans Day\": \"2024-11-11\",\n",
        "        \"Thanksgiving Day\": \"2024-11-28\",\n",
        "        \"Christmas Day\": \"2024-12-25\"\n",
        "    },\n",
        "    \"オーストラリア\": {\n",
        "        \"New Year's Day\": \"2024-01-01\",\n",
        "        \"Australia Day\": \"2024-01-26\",\n",
        "        \"Labour Day\": \"2024-10-07\",\n",
        "        \"Canberra Day\": \"2024-03-11\",\n",
        "        \"March Public Holiday\": \"2024-03-11\",\n",
        "        \"Eight Hours Day\": \"2024-03-11\",\n",
        "        \"Good Friday\": \"2024-03-29\",\n",
        "        \"Easter Eve\": \"2024-03-30\",\n",
        "        \"Easter Sunday\": \"2024-03-31\",\n",
        "        \"Easter Monday\": \"2024-04-01\",\n",
        "        \"Anzac Day\": \"2024-04-25\",\n",
        "        \"May Day\": \"2024-05-06\",\n",
        "        \"Reconciliation Day\": \"2024-05-27\",\n",
        "        \"Western Australia Day\": \"2024-06-03\",\n",
        "        \"King's Birthday\": \"2024-10-07\",\n",
        "        \"Picnic Day\": \"2024-08-05\",\n",
        "        \"Melbourne Cup\": \"2024-11-05\",\n",
        "        \"Christmas Day\": \"2024-12-25\",\n",
        "        \"Boxing Day\": \"2024-12-26\"\n",
        "    },\n",
        "    \"日本\": {\n",
        "        \"元日\": \"2024-01-01\",\n",
        "        \"成人の日\": \"2024-01-08\",\n",
        "        \"建国記念の日\": \"2024-02-12\",\n",
        "        \"天皇誕生日\": \"2024-02-23\",\n",
        "        \"春分の日\": \"2024-03-20\",\n",
        "        \"昭和の日\": \"2024-04-29\",\n",
        "        \"憲法記念日\": \"2024-05-03\",\n",
        "        \"みどりの日\": \"2024-05-04\",\n",
        "        \"こどもの日\": \"2024-05-06\",\n",
        "        \"海の日\": \"2024-07-15\",\n",
        "        \"山の日\": \"2024-08-12\",\n",
        "        \"敬老の日\": \"2024-09-16\",\n",
        "        \"秋分の日\": \"2024-09-22\",\n",
        "        \"スポーツの日\": \"2024-10-14\",\n",
        "        \"文化の日\": \"2024-11-04\",\n",
        "        \"勤労感謝の日\": \"2024-11-23\"\n",
        "    }\n",
        "}\n",
        "```"
      ],
      "metadata": {
        "id": "TPtDFeXzW9XQ"
      }
    },
    {
      "cell_type": "code",
      "source": [
        "import json\n",
        "import time\n",
        "import requests\n",
        "\n",
        "# !!WRITE ME!!に処理を記入する\n",
        "def homework(file_path, countries_list):\n",
        "    # 問題1のhomework関数と同様\n",
        "    def extract_countries_info(file_path, countries_list):\n",
        "        !!WRITE ME!!\n",
        "        return countries\n",
        "\n",
        "    def get_country_holidays(countries):\n",
        "        !!WRITE ME!!\n",
        "        return countries_holidays\n",
        "\n",
        "    # 国コード情報を取得\n",
        "    countries = extract_countries_info(file_path, countries_list)\n",
        "    # 各国の祝日の情報を取得\n",
        "    countries_holidays = get_country_holidays(countries)\n",
        "\n",
        "    print(json.dumps(countries_holidays, indent=4, ensure_ascii=False))\n",
        "\n",
        "homework(\"question1.json\", [\"日本\", \"アメリカ合衆国\", \"オーストラリア\"])"
      ],
      "metadata": {
        "id": "1NAb_uikfCx2"
      },
      "execution_count": null,
      "outputs": []
    }
  ]
}