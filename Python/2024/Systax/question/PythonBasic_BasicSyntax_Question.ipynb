{
  "nbformat": 4,
  "nbformat_minor": 0,
  "metadata": {
    "colab": {
      "provenance": [],
      "toc_visible": true,
      "authorship_tag": "ABX9TyPU0rVlW7qhNM/Lu1ZmucO6",
      "include_colab_link": true
    },
    "kernelspec": {
      "name": "python3",
      "display_name": "Python 3"
    },
    "language_info": {
      "name": "python"
    }
  },
  "cells": [
    {
      "cell_type": "markdown",
      "metadata": {
        "id": "view-in-github",
        "colab_type": "text"
      },
      "source": [
        "<a href=\"https://colab.research.google.com/github/kiryu-3/Prmn2023/blob/main/Python/2024/Systax/question/PythonBasic_BasicSyntax_Question.ipynb\" target=\"_parent\"><img src=\"https://colab.research.google.com/assets/colab-badge.svg\" alt=\"Open In Colab\"/></a>"
      ]
    },
    {
      "cell_type": "markdown",
      "source": [
        "## Python文法(基礎) 課題"
      ],
      "metadata": {
        "id": "ikjnj3ei-jVR"
      }
    },
    {
      "cell_type": "markdown",
      "source": [
        "### 問題1"
      ],
      "metadata": {
        "id": "KaDYifN7-o4L"
      }
    },
    {
      "cell_type": "markdown",
      "source": [
        "「*」を使って、指定された段数のひし形を作成する関数`homework`を作成してください。  \n",
        "関数`homework`は引数`length`を受け取り、`length`がひし形の高さ（中央の列の高さ）を表します。\n",
        "\n",
        "以下は`homework`関数の利用例です。\n",
        "\n",
        "``` python\n",
        "homework(4)\n",
        "```\n",
        "\n",
        "出力\n",
        "\n",
        "``` markdown\n",
        "    *\n",
        "   ***\n",
        "  *****\n",
        " *******\n",
        "  *****\n",
        "   ***\n",
        "    *\n",
        "```\n"
      ],
      "metadata": {
        "id": "S5cJEDax_s-0"
      }
    },
    {
      "cell_type": "code",
      "source": [
        "# !!WRITE ME!!に処理を記入する\n",
        "def homework(length):\n",
        "    !!WRITE ME!!\n",
        "\n",
        "homework(4)"
      ],
      "metadata": {
        "id": "Id-rvbE3AQIs"
      },
      "execution_count": null,
      "outputs": []
    },
    {
      "cell_type": "markdown",
      "source": [
        "### 問題2"
      ],
      "metadata": {
        "id": "g-uZCDDbAz45"
      }
    },
    {
      "cell_type": "markdown",
      "source": [
        "「*」を使って、指定された段数のひし形を2個横に並べて作成する関数`homework`を作成してください。  \n",
        "関数`homework`は引数`length`を受け取り、`length`がひし形の高さ（中央の列の高さ）を表します。\n",
        "\n",
        "以下は`homework`関数の利用例です。\n",
        "\n",
        "``` python\n",
        "homework(4)\n",
        "```\n",
        "\n",
        "出力\n",
        "\n",
        "``` markdown\n",
        "   *     *\n",
        "  ***  ***\n",
        " ***** *****\n",
        "*************\n",
        " ***** *****\n",
        "  ***  ***\n",
        "   *     *\n",
        "\n",
        "```\n"
      ],
      "metadata": {
        "id": "V-Jcqij4A18Q"
      }
    },
    {
      "cell_type": "code",
      "source": [
        "# !!WRITE ME!!に処理を記入する\n",
        "def homework(length):\n",
        "    !!WRITE ME!!\n",
        "\n",
        "homework(4)"
      ],
      "metadata": {
        "id": "VgZJkldRDGSs"
      },
      "execution_count": null,
      "outputs": []
    },
    {
      "cell_type": "markdown",
      "source": [
        "### 問題3"
      ],
      "metadata": {
        "id": "JF11uYA8EKth"
      }
    },
    {
      "cell_type": "markdown",
      "source": [
        "「*」を使って、指定された段数のひし形を2個縦横に並べて作成する関数`homework`を作成してください。  \n",
        "関数`homework`は引数`length`を受け取り、`length`がひし形の高さ（中央の列の高さ）を表します。\n",
        "\n",
        "以下は`homework`関数の利用例です。\n",
        "\n",
        "``` python\n",
        "homework(4)\n",
        "```\n",
        "\n",
        "出力\n",
        "\n",
        "``` markdown\n",
        "   *     *\n",
        "  ***  ***\n",
        " ***** *****\n",
        "*************\n",
        " ***** *****\n",
        "  ***  ***\n",
        "   *     *\n",
        "  ***  ***\n",
        " ***** *****\n",
        "*************\n",
        " ***** *****\n",
        "  ***  ***\n",
        "   *     *\n",
        "```\n"
      ],
      "metadata": {
        "id": "LWRozgIzEKti"
      }
    },
    {
      "cell_type": "code",
      "source": [
        "# !!WRITE ME!!に処理を記入する\n",
        "def homework(length):\n",
        "    !!WRITE ME!!\n",
        "\n",
        "homework(4)"
      ],
      "metadata": {
        "id": "273DuipPEKti"
      },
      "execution_count": null,
      "outputs": []
    },
    {
      "cell_type": "markdown",
      "source": [
        "### 問題4"
      ],
      "metadata": {
        "id": "rExKcdA3PBZ2"
      }
    },
    {
      "cell_type": "markdown",
      "source": [
        "以下のデータのGPAを算出する関数`homework`を作成してください。  \n",
        "関数`homework`は引数`seiseki_data`と`one_unit_class`を受け取ります。\n",
        "\n",
        "- `seiseki_data`：成績データ\n",
        "- `one_unit_class`：一単位の科目。そのほかの単位は二単位。\n"
      ],
      "metadata": {
        "id": "k_jm9pzkOFAw"
      }
    },
    {
      "cell_type": "code",
      "source": [
        "seiseki_data = {\n",
        "    \"授業\": [\"物理学入門\", \"化学入門\", \"電子工学入門\",\"情報演習\", \"キャリア入門\",\n",
        "             \"地域学入門\",\"言語リテラシー入門\", \"微分積分学入門\", \"工学実験入門\",\"理系英語入門\",\n",
        "             \"日本国憲法入門\", \"スポーツ科学入門\", \"健康学入門\"],\n",
        "    \"成績\": [\"良\", \"秀\", \"秀\", \"秀\", \"秀\", \"秀\", \"秀\", \"優\", \"優\", \"秀\", \"秀\", \"優\", \"優\"]\n",
        "}\n",
        "\n",
        "one_unit_class = (\"キャリア入門\", \"地域学入門\", \"言語リテラシー入門\",\n",
        "                  \"工学実験入門\", \"スポーツ科学入門\", \"健康学入門\")"
      ],
      "metadata": {
        "id": "hzQ83qvxHubl"
      },
      "execution_count": null,
      "outputs": []
    },
    {
      "cell_type": "markdown",
      "source": [
        "成績データは、科目名とその科目の成績の組み合わせで構成されます。  \n",
        "成績は、次の表に示すように、5段階評価（秀、優、良、可、不可）に対応するGP（Grade Point）で表されます。\n",
        "\n",
        "- 秀: 4\n",
        "- 優: 3\n",
        "- 良: 2\n",
        "- 可: 1\n",
        "- 不可: 0\n",
        "\n",
        "GPAの計算式は以下の通りです。  \n",
        "$$\n",
        "GPA = \\frac{(GP×そのGPの単位数) の合計}{履修単位数}\n",
        "$$"
      ],
      "metadata": {
        "id": "wimEVJZUMWoL"
      }
    },
    {
      "cell_type": "code",
      "source": [
        "# !!WRITE ME!!に処理を記入する\n",
        "def homework(seiseki_data, one_unit_class):\n",
        "    !!WRITE ME!!\n",
        "    print(f\"GPAは{gpa:.2f}です\")\n",
        "\n",
        "homework(seiseki_data, one_unit_class)"
      ],
      "metadata": {
        "id": "IAqVkRI1W9_z"
      },
      "execution_count": null,
      "outputs": []
    },
    {
      "cell_type": "markdown",
      "source": [
        "### 問題5"
      ],
      "metadata": {
        "id": "QijnXk7UWAVC"
      }
    },
    {
      "cell_type": "markdown",
      "source": [
        "この問題は、**FizzBuzz（フィズ・バズ）問題**という問題でます。\n",
        "\n",
        "もともとは、英語圏で長距離ドライブ中や飲み会の時に行われる言葉遊びです。"
      ],
      "metadata": {
        "id": "m7F47Q1mWCA6"
      }
    },
    {
      "cell_type": "markdown",
      "source": [
        "1～Nまでの整数を順に出力しなさい。ただし、例外として以下のルールを守ること。\n",
        "\n",
        "* 3で割り切れる数字の場合はFizzを出力\n",
        "* 5で割り切れる数字の場合はBuzzを出力\n",
        "* 7で割り切れる数字の場合はJazzを出力\n",
        "* 複数条件が当てはまる場合は組み合わせて出力（ \"FizzBuzz\", \"FizzJazz\", \"BuzzJazz\" など）"
      ],
      "metadata": {
        "id": "fArw0VcNWgwZ"
      }
    },
    {
      "cell_type": "markdown",
      "source": [
        "\"Fizz\" か \"Buzz\" か \"Jazz\" か \"組み合わさったもの\" か \"others\"、  \n",
        "それぞれの要素の数をカウントし、ディクショナリの形で出力する関数`homework`を作成してください。  \n",
        "関数`homework`は引数`n`を受け取り、`n`が整数範囲の最大値を表します。\n",
        "\n",
        "＜実行結果例＞  \n",
        "``` py\n",
        "{'Fizz': 23, 'Buzz': 12, 'Jazz': 8, 'FizzBuzz': 6, 'FizzJazz': 4, 'BuzzJazz': 2, 'others': 45}\n",
        "```"
      ],
      "metadata": {
        "id": "chliD9dRZlpG"
      }
    },
    {
      "cell_type": "code",
      "source": [
        "# !!WRITE ME!!に処理を記入する\n",
        "def homework(n):\n",
        "    !!WRITE ME!!\n",
        "    print(ordered_result)\n",
        "\n",
        "homework(100)"
      ],
      "metadata": {
        "id": "eqgOS0IMbNDX"
      },
      "execution_count": null,
      "outputs": []
    }
  ]
}