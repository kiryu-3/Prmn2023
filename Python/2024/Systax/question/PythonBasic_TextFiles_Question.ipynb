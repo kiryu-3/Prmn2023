{
  "nbformat": 4,
  "nbformat_minor": 0,
  "metadata": {
    "colab": {
      "provenance": [],
      "toc_visible": true,
      "authorship_tag": "ABX9TyPqSnJMUHTwxC39zxVNBfRT",
      "include_colab_link": true
    },
    "kernelspec": {
      "name": "python3",
      "display_name": "Python 3"
    },
    "language_info": {
      "name": "python"
    }
  },
  "cells": [
    {
      "cell_type": "markdown",
      "metadata": {
        "id": "view-in-github",
        "colab_type": "text"
      },
      "source": [
        "<a href=\"https://colab.research.google.com/github/kiryu-3/Prmn2023/blob/main/Python/2024/Systax/question/PythonBasic_TextFiles_Question.ipynb\" target=\"_parent\"><img src=\"https://colab.research.google.com/assets/colab-badge.svg\" alt=\"Open In Colab\"/></a>"
      ]
    },
    {
      "cell_type": "markdown",
      "source": [
        "## ファイルの入出力 課題"
      ],
      "metadata": {
        "id": "ikjnj3ei-jVR"
      }
    },
    {
      "cell_type": "markdown",
      "source": [
        "### 問題1"
      ],
      "metadata": {
        "id": "KaDYifN7-o4L"
      }
    },
    {
      "cell_type": "markdown",
      "source": [
        "家計簿のデータをテキストファイル`household_expenses.txt`から読み込み、  \n",
        "指定された形式に変換する関数`homework`を作成してください。  \n",
        "関数`homework`は引数`file_path`を受け取り、`file_path`がファイルのパス名を表します。\n",
        "\n",
        "\n",
        "``` python\n",
        "# テキストファイルの形式\n",
        "日付,カテゴリ,金額,メモ\n",
        "2024-02-01,食費,2500,スーパーで食材購入\n",
        "2024-02-03,交際費,3000,友達と外食\n",
        "2024-02-05,光熱費,8000,電気代\n",
        "2024-02-07,食費,1500,コンビニで軽食\n",
        "2024-02-10,交通費,1200,バス代\n",
        "2024-02-15,食費,3000,外食\n",
        "2024-02-18,交際費,5000,映画鑑賞\n",
        "2024-02-20,光熱費,7500,ガス代\n",
        "```\n",
        "\n",
        "出力\n",
        "\n",
        "``` python\n",
        "# 期待される出力\n",
        "{'日付': '2024-02-01', 'カテゴリ': '食費', '金額': '2500', 'メモ': 'スーパーで食材購入'}\n",
        "{'日付': '2024-02-03', 'カテゴリ': '交際費', '金額': '3000', 'メモ': '友達と外食'}\n",
        "{'日付': '2024-02-05', 'カテゴリ': '光熱費', '金額': '8000', 'メモ': '電気代'}\n",
        "{'日付': '2024-02-07', 'カテゴリ': '食費', '金額': '1500', 'メモ': 'コンビニで軽食'}\n",
        "{'日付': '2024-02-10', 'カテゴリ': '交通費', '金額': '1200', 'メモ': 'バス代'}\n",
        "{'日付': '2024-02-15', 'カテゴリ': '食費', '金額': '3000', 'メモ': '外食'}\n",
        "{'日付': '2024-02-18', 'カテゴリ': '交際費', '金額': '5000', 'メモ': '映画鑑賞'}\n",
        "{'日付': '2024-02-20', 'カテゴリ': '光熱費', '金額': '7500', 'メモ': 'ガス代'}\n",
        "```\n"
      ],
      "metadata": {
        "id": "S5cJEDax_s-0"
      }
    },
    {
      "cell_type": "markdown",
      "source": [
        "テキストファイルの書き込みは以下のコードを実行してください。"
      ],
      "metadata": {
        "id": "YJR6SpxJQAIj"
      }
    },
    {
      "cell_type": "code",
      "source": [
        "# 書き込み内容\n",
        "sample_data = [\n",
        "    \"日付,カテゴリ,金額,メモ\",\n",
        "    \"2024-02-01,食費,2500,スーパーで食材購入\",\n",
        "    \"2024-02-03,交際費,3000,友達と外食\",\n",
        "    \"2024-02-05,光熱費,8000,電気代\",\n",
        "    \"2024-02-07,食費,1500,コンビニで軽食\",\n",
        "    \"2024-02-10,交通費,1200,バス代\",\n",
        "    \"2024-02-15,食費,3000,外食\",\n",
        "    \"2024-02-18,交際費,5000,映画鑑賞\",\n",
        "    \"2024-02-20,光熱費,7500,ガス代\"\n",
        "]\n",
        "\n",
        "# データをテキストファイルに書き込む\n",
        "with open(\"household_expenses.txt\", mode=\"a+\") as f:\n",
        "    for line in sample_data:\n",
        "        f.write(line + \"\\n\")\n"
      ],
      "metadata": {
        "id": "5xVqA7NPUU8M"
      },
      "execution_count": null,
      "outputs": []
    },
    {
      "cell_type": "code",
      "source": [
        "# !!WRITE ME!!に処理を記入する\n",
        "def homework(file_path):\n",
        "    !!WRITE ME!!\n",
        "\n",
        "homework(\"household_expenses.txt\")"
      ],
      "metadata": {
        "id": "Id-rvbE3AQIs"
      },
      "execution_count": null,
      "outputs": []
    },
    {
      "cell_type": "markdown",
      "source": [
        "### 問題2"
      ],
      "metadata": {
        "id": "rExKcdA3PBZ2"
      }
    },
    {
      "cell_type": "markdown",
      "source": [
        "成績のデータをテキストファイル`seiseki.txt`から読み込み、  \n",
        "そこからGPAを算出する関数`homework`を作成してください。\n",
        "\n",
        "関数`homework`は引数`file_path`を受け取り、`file_path`がファイルのパス名を表します。\n",
        "\n",
        "``` python\n",
        "# テキストファイルの形式\n",
        "年度\t学期\t種別\t科目名\t成績\t単位数\n",
        "2021\t春\t必修\t物理学入門\t良\t2\n",
        "2021\t春\t必修\t化学入門\t秀\t2\n",
        "2021\t春\t必修\t電子工学入門\t秀\t2\n",
        "2021\t春\t必修\t情報演習\t秀\t2\n",
        "2021\t春\t必修\tキャリア入門\t秀\t1\n",
        "2021\t春\t必修\t地域学入門\t秀\t1\n",
        "2021\t春\t必修\t言語リテラシー入門\t秀\t1\n",
        "2021\t春\t必修\t微分積分学入門\t優\t2\n",
        "2021\t春\t必修\t工学実験入門\t優\t2\n",
        "2021\t春\t選択必修\t理系英語入門\t秀\t2\n",
        "2021\t春\t選択必修\t日本国憲法入門\t秀\t2\n",
        "2021\t春\t選択\tスポーツ科学入門\t優\t1\n",
        "2021\t春\t選択\t健康学入門\t優\t1\n",
        "…（続く）\n",
        "```\n"
      ],
      "metadata": {
        "id": "k_jm9pzkOFAw"
      }
    },
    {
      "cell_type": "markdown",
      "source": [
        "成績データは、科目名とその科目の成績の組み合わせで構成されます。  \n",
        "成績は、次の表に示すように、5段階評価（秀、優、良、可、不可）に対応するGP（Grade Point）で表されます。\n",
        "\n",
        "- 秀: 4\n",
        "- 優: 3\n",
        "- 良: 2\n",
        "- 可: 1\n",
        "- 不可: 0\n",
        "\n",
        "GPAの計算式は以下の通りです。  \n",
        "$$\n",
        "GPA = \\frac{(GP×そのGPの単位数) の合計}{履修単位数}\n",
        "$$"
      ],
      "metadata": {
        "id": "wimEVJZUMWoL"
      }
    },
    {
      "cell_type": "markdown",
      "source": [
        "テキストファイルの書き込みは以下のコードを実行してください。"
      ],
      "metadata": {
        "id": "klZDklh9yxfv"
      }
    },
    {
      "cell_type": "code",
      "source": [
        "data = [\n",
        "    [\"年度\", \"学期\", \"種別\", \"科目名\", \"成績\", \"単位数\"],\n",
        "    [\"2022\", \"春\", \"必修\", \"Cプログラミング基礎\", \"優\", \"2\"],\n",
        "    [\"2022\", \"春\", \"必修\", \"電子回路入門\", \"良\", \"2\"],\n",
        "    [\"2022\", \"春\", \"必修\", \"情報システム入門\", \"優\", \"2\"],\n",
        "    [\"2022\", \"春\", \"必修\", \"Pythonプログラミング入門\", \"秀\", \"2\"],\n",
        "    [\"2022\", \"春\", \"必修\", \"工学実験基礎\", \"優\", \"2\"],\n",
        "    [\"2022\", \"春\", \"選択必修\", \"光学入門\", \"優\", \"2\"],\n",
        "    [\"2022\", \"春\", \"選択必修\", \"フーリエ入門\", \"優\", \"2\"],\n",
        "    [\"2022\", \"春\", \"選択必修\", \"情報通信入門\", \"秀\", \"2\"],\n",
        "    [\"2021\", \"秋\", \"必修\", \"Cプログラミング入門\", \"秀\", \"2\"],\n",
        "    [\"2021\", \"春\", \"必修\", \"物理学入門\", \"良\", \"2\"],\n",
        "    [\"2021\", \"春\", \"必修\", \"化学入門\", \"秀\", \"2\"],\n",
        "    [\"2021\", \"春\", \"必修\", \"電子工学入門\", \"秀\", \"2\"],\n",
        "    [\"2021\", \"春\", \"必修\", \"情報演習\", \"秀\", \"2\"],\n",
        "    [\"2021\", \"春\", \"必修\", \"キャリア入門\", \"秀\", \"1\"],\n",
        "    [\"2021\", \"秋\", \"必修\", \"キャリア基礎\", \"秀\", \"1\"],\n",
        "    [\"2021\", \"秋\", \"必修\", \"地域学入門\", \"秀\", \"1\"],\n",
        "    [\"2021\", \"春\", \"必修\", \"言語リテラシー入門\", \"秀\", \"1\"],\n",
        "    [\"2021\", \"秋\", \"必修\", \"言語リテラシー基礎\", \"優\", \"1\"],\n",
        "    [\"2021\", \"秋\", \"必修\", \"地域学基礎\", \"秀\", \"1\"],\n",
        "    [\"2021\", \"春\", \"必修\", \"微分積分学入門\", \"優\", \"2\"],\n",
        "    [\"2021\", \"春\", \"必修\", \"工学実験入門\", \"優\", \"2\"],\n",
        "    [\"2021\", \"秋\", \"必修\", \"電子工学基礎\", \"秀\", \"2\"],\n",
        "    [\"2021\", \"秋\", \"必修\", \"統計学入門\", \"優\", \"2\"],\n",
        "    [\"2021\", \"秋\", \"必修\", \"線形代数学基礎\", \"優\", \"2\"],\n",
        "    [\"2021\", \"秋\", \"必修\", \"微分積分学基礎\", \"良\", \"2\"],\n",
        "    [\"2021\", \"春\", \"選択必修\", \"理系英語入門\", \"秀\", \"2\"],\n",
        "    [\"2021\", \"秋\", \"選択必修\", \"理系英語基礎\", \"秀\", \"2\"],\n",
        "    [\"2021\", \"春\", \"選択必修\", \"日本国憲法入門\", \"秀\", \"2\"],\n",
        "    [\"2021\", \"秋\", \"選択必修\", \"社会学入門\", \"可\", \"2\"],\n",
        "    [\"2021\", \"秋\", \"選択必修\", \"心理学入門\", \"優\", \"2\"],\n",
        "    [\"2021\", \"秋\", \"選択必修\", \"物理学基礎\", \"優\", \"2\"],\n",
        "    [\"2021\", \"秋\", \"選択必修\", \"情報学入門\", \"優\", \"2\"],\n",
        "    [\"2021\", \"春\", \"選択\", \"スポーツ科学入門\", \"優\", \"1\"],\n",
        "    [\"2021\", \"秋\", \"選択\", \"スポーツ科学基礎\", \"秀\", \"1\"],\n",
        "    [\"2021\", \"春\", \"選択\", \"健康学入門\", \"優\", \"1\"]\n",
        "]\n",
        "\n",
        "# データをテキストファイルに書き込む\n",
        "with open(\"seiseki.txt\", mode=\"w\") as f:\n",
        "    for row in data:\n",
        "        f.write(\"\\t\".join(row) + \"\\n\")\n"
      ],
      "metadata": {
        "id": "QmmdWMV4yrqp"
      },
      "execution_count": null,
      "outputs": []
    },
    {
      "cell_type": "code",
      "source": [
        "# !!WRITE ME!!に処理を記入する\n",
        "def homework(file_path):\n",
        "    !!WRITE ME!!\n",
        "    print(f\"GPAは{gpa:.2f}です\")\n",
        "\n",
        "homework(\"seiseki.txt\")"
      ],
      "metadata": {
        "id": "IAqVkRI1W9_z"
      },
      "execution_count": null,
      "outputs": []
    },
    {
      "cell_type": "markdown",
      "source": [
        "### 問題3"
      ],
      "metadata": {
        "id": "jSxYcw2sWrYm"
      }
    },
    {
      "cell_type": "markdown",
      "source": [
        "京都大学のテキストコーパスから取得したテキストファイル`words.txt`から単語のデータを読み込み、  \n",
        "そこから先頭文字ごとに単語数を計算し、多い単語と少ない単語それぞれ10つを表示する関数`homework`を作成してください。\n",
        "\n",
        "関数`homework`は引数`file_path`を受け取り、`file_path`がファイルのパス名を表します。\n",
        "\n",
        "``` python\n",
        "# テキストファイルの形式\n",
        "あ\n",
        "あい\n",
        "あいえいち\n",
        "あいおわ\n",
        "あいかぎ\n",
        "あいかん\n",
        "あいがかり\n",
        "あいきょう\n",
        "あいくち\n",
        "あいけん\n",
        "…（続く）\n",
        "```\n",
        "\n",
        "\n",
        "出力\n",
        "\n",
        "``` python\n",
        "# 期待される出力\n",
        "# 実際の答えとは異なる\n",
        "Top 10 values:\n",
        "{'あ': 430, 'い': 406, 'う': 217, 'え': 214, 'お': 412, 'か': 624, 'き': 404, 'く': 198, 'け': 156, 'こ': 503}\n",
        "Worst 10 values:\n",
        "{'も': 166, 'や': 140, 'ゆ': 116, 'よ': 152, 'ら': 83, 'り': 206, 'る': 19, 'れ': 84, 'ろ': 82, 'わ': 92}\n",
        "```\n"
      ],
      "metadata": {
        "id": "L36QANLRWrYm"
      }
    },
    {
      "cell_type": "markdown",
      "source": [
        "データの取得・テキストファイルの書き込みは以下のコードを実行してください。  \n",
        "（今回使用した単語をしりとりなどに転用したい場合は、[こちら](https://qiita.com/Bana7/items/4f7009e33f0ffbb9f275)のQiita記事などを参照してください。）"
      ],
      "metadata": {
        "id": "rWQrNFzHgYow"
      }
    },
    {
      "cell_type": "code",
      "source": [
        "import os\n",
        "import glob\n",
        "import re\n",
        "\n",
        "# gitリポジトリからKyotoCorpusをクローンする\n",
        "!git clone https://github.com/ku-nlp/KyotoCorpus\n",
        "\n",
        "# KyotoCorpusからnumファイルを取得する\n",
        "files = glob.glob(\"KyotoCorpus/dat/num/*\")\n",
        "\n",
        "# ひらがなを抽出する正規表現パターン\n",
        "noun_regrex = re.compile(r'''(\n",
        "    [\\u3040-\\u309F]+  # ひらがなのUnicode範囲\n",
        ")''', re.VERBOSE)\n",
        "\n",
        "# 抽出されたひらがなのリスト\n",
        "rep_list = []\n",
        "\n",
        "# 各ファイルを読み込んで名詞を抽出する\n",
        "for filename in files:\n",
        "    with open(filename, \"r\") as f:\n",
        "        for line in f:\n",
        "            # 名詞と地名、組織名、固有名詞、普通名詞を含む行を抽出\n",
        "            if \"名詞\" in line and (\"地名\" in line or \"組織名\" in line or \"固有名詞\" in line or \"普通名詞\" in line):\n",
        "                # ひらがなを抽出\n",
        "                rep = noun_regrex.findall(line)\n",
        "                # 抽出結果がある場合はリストに追加\n",
        "                if rep:\n",
        "                    word = rep[0]\n",
        "                    # 'っ'、'ゔ'、'ぢ'から始まる単語でない場合のみ追加\n",
        "                    if not word.startswith('っ') and not word.startswith('ゔ') and not word.startswith('ぢ'):\n",
        "                        rep_list.append(word)\n",
        "\n",
        "# 重複を取り除く\n",
        "rep_list = list(set(rep_list))\n",
        "# ひらがなの順にソート\n",
        "rep_list.sort()\n",
        "\n",
        "# output.txtに書き込む\n",
        "with open(\"output.txt\", \"w\", encoding='UTF-8') as output:\n",
        "    for rep in rep_list:\n",
        "        output.write(rep + \"\\n\")\n"
      ],
      "metadata": {
        "colab": {
          "base_uri": "https://localhost:8080/"
        },
        "id": "uujzgdX4wopi",
        "outputId": "58e67a19-9392-4099-9559-b94a888bc8fc"
      },
      "execution_count": null,
      "outputs": [
        {
          "output_type": "stream",
          "name": "stdout",
          "text": [
            "Cloning into 'KyotoCorpus'...\n",
            "remote: Enumerating objects: 329, done.\u001b[K\n",
            "remote: Counting objects: 100% (68/68), done.\u001b[K\n",
            "remote: Compressing objects: 100% (46/46), done.\u001b[K\n",
            "remote: Total 329 (delta 49), reused 30 (delta 20), pack-reused 261\u001b[K\n",
            "Receiving objects: 100% (329/329), 38.60 MiB | 11.02 MiB/s, done.\n",
            "Resolving deltas: 100% (213/213), done.\n"
          ]
        }
      ]
    },
    {
      "cell_type": "markdown",
      "source": [
        "参考：  \n",
        "辞書の特定のキーとその値を消す方法は以下の通りです。  \n",
        "濁点・半濁点から始まる単語を除去したいときなどに使えます。"
      ],
      "metadata": {
        "id": "6G3gOhzLjwD_"
      }
    },
    {
      "cell_type": "code",
      "source": [
        "def remove_words_starting_with(dictionary, strings_to_remove):\n",
        "    # 特定の文字を除去するための行リスト\n",
        "    lines_to_remove = list(strings_to_remove)\n",
        "\n",
        "    # 単語を除去した辞書を作成\n",
        "    cleaned_dictionary = {key: value for key, value in dictionary.items() if not any(key.startswith(line) for line in lines_to_remove)}\n",
        "\n",
        "    return cleaned_dictionary\n",
        "\n",
        "# 辞書\n",
        "data = {'ご': 83, 'び': 83, 'ら': 83, 'ろ': 82, 'ぼ': 78, 'ぐ': 76, 'ざ': 75, 'べ': 71, 'む': 64, 'ぱ': 61}\n",
        "\n",
        "# 各行から始まる単語を除去した辞書を取得\n",
        "cleaned_data = remove_words_starting_with(data, \"がぎぐげござじずぜぞだぢづでどばびぶべぼぱぴぷぺぽ\")\n",
        "\n",
        "print(\"濁点・半濁点から始まる単語を除去した辞書:\")\n",
        "print(cleaned_data)\n"
      ],
      "metadata": {
        "colab": {
          "base_uri": "https://localhost:8080/"
        },
        "id": "WsOz0dK5O3Qb",
        "outputId": "a6d11f37-62a3-46e4-c3f2-ba112aa2eadf"
      },
      "execution_count": null,
      "outputs": [
        {
          "output_type": "stream",
          "name": "stdout",
          "text": [
            "濁点・半濁点から始まる単語を除去した辞書:\n",
            "{'ら': 83, 'ろ': 82, 'む': 64}\n"
          ]
        }
      ]
    },
    {
      "cell_type": "code",
      "source": [
        "from collections import Counter\n",
        "\n",
        "def homework(file_path):\n",
        "    pass\n",
        "\n",
        "homework(\"output.txt\")"
      ],
      "metadata": {
        "id": "N0q1NbznjWrp"
      },
      "execution_count": null,
      "outputs": []
    }
  ]
}